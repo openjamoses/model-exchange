{
 "cells": [
  {
   "cell_type": "code",
   "execution_count": 1,
   "id": "3d0fb70c",
   "metadata": {},
   "outputs": [],
   "source": [
    "%matplotlib inline\n",
    "import tensorflow as tf\n",
    "import matplotlib.pyplot as plt"
   ]
  },
  {
   "cell_type": "code",
   "execution_count": 2,
   "id": "3aa40a1a",
   "metadata": {},
   "outputs": [],
   "source": [
    "import time\n",
    "import os\n",
    "import copy\n",
    "import csv\n",
    "import pandas as pd\n",
    "from datetime import datetime"
   ]
  },
  {
   "cell_type": "code",
   "execution_count": 3,
   "id": "37170f77",
   "metadata": {},
   "outputs": [
    {
     "name": "stdout",
     "output_type": "stream",
     "text": [
      "X_train shape:  (60000, 28, 28, 1)\n",
      "60000 training samples\n",
      "10000 test samples\n",
      "One-hot encoding: [0. 0. 0. 0. 0. 1. 0. 0. 0. 0.]\n"
     ]
    }
   ],
   "source": [
    "batch_size = 128 # Number of images processed at once\n",
    "nb_classes = 10  # 10 Digits from 0 to 9\n",
    "\n",
    "# Dimensionen of the input images (28x28 pixel)\n",
    "img_rows, img_cols = 28, 28\n",
    "\n",
    "# Load image data with labels, split into test and training set \n",
    "(X_train, y_train), (X_test, y_test) = tf.keras.datasets.mnist.load_data()\n",
    "\n",
    "# reshape images in 4D tensor (N images, 28 rows, 28 columns, 1 channel) \n",
    "# rescale pixels range from [0, 255] to [0, 1]\n",
    "X_train = X_train.reshape(X_train.shape[0], img_rows, img_cols, 1)\n",
    "X_test = X_test.reshape(X_test.shape[0], img_rows, img_cols, 1)\n",
    "X_train = X_train.astype(\"float32\")\n",
    "X_test = X_test.astype(\"float32\")\n",
    "X_train /= 255\n",
    "X_test /= 255\n",
    "print('X_train shape: ', X_train.shape)\n",
    "print(X_train.shape[0], \"training samples\")\n",
    "print(X_test.shape[0], \"test samples\")\n",
    "\n",
    "# convert digit labels (0-9) in one-hot encoded binary vectors. \n",
    "# These correspond to the training/test labels at the output of the net. \n",
    "Y_train = tf.keras.utils.to_categorical(y_train, nb_classes)\n",
    "Y_test = tf.keras.utils.to_categorical(y_test, nb_classes)\n",
    "print(\"One-hot encoding: {}\".format(Y_train[0, :]))"
   ]
  },
  {
   "cell_type": "code",
   "execution_count": 4,
   "id": "313ccf6f",
   "metadata": {},
   "outputs": [
    {
     "data": {
      "image/png": "[encoded data removed]",
      "text/plain": [
       "<Figure size 432x288 with 9 Axes>"
      ]
     },
     "metadata": {
      "needs_background": "light"
     },
     "output_type": "display_data"
    }
   ],
   "source": [
    "for i in range(9):\n",
    "    plt.subplot(3,3, i+1)\n",
    "    plt.imshow(X_train[i, :, :, 0], cmap='gray')\n",
    "    plt.axis('off')"
   ]
  },
  {
   "cell_type": "code",
   "execution_count": 5,
   "id": "b8db82a4",
   "metadata": {},
   "outputs": [],
   "source": [
    "model = tf.keras.Sequential()\n",
    "\n",
    "# Conv2D(number_filters, kernel_size, input_shape=(number_channels, img_col), padding, activation)\n",
    "model.add(tf.keras.layers.Conv2D(6, (5, 5), input_shape=[img_rows, img_cols, 1], padding='same', activation='relu'))\n",
    "model.add(tf.keras.layers.MaxPooling2D(pool_size=(2, 2)))\n",
    "model.add(tf.keras.layers.Conv2D(16, (5, 5), padding='same', activation='relu'))\n",
    "model.add(tf.keras.layers.MaxPooling2D(pool_size=(2, 2)))\n",
    "model.add(tf.keras.layers.Conv2D(120, (5, 5), activation='relu'))\n",
    "model.add(tf.keras.layers.Dropout(0.25))\n",
    "\n",
    "model.add(tf.keras.layers.Flatten())\n",
    "model.add(tf.keras.layers.Dense(84, activation='relu'))\n",
    "model.add(tf.keras.layers.Dropout(0.5))\n",
    "model.add(tf.keras.layers.Dense(10, activation='softmax'))"
   ]
  },
  {
   "cell_type": "code",
   "execution_count": 6,
   "id": "046114c9",
   "metadata": {},
   "outputs": [],
   "source": [
    "opt = tf.keras.optimizers.SGD(learning_rate=1e-1)"
   ]
  },
  {
   "cell_type": "code",
   "execution_count": 8,
   "id": "6ddd79fa",
   "metadata": {},
   "outputs": [],
   "source": [
    "training_round = 10"
   ]
  },
  {
   "cell_type": "code",
   "execution_count": 9,
   "id": "476bd01d",
   "metadata": {},
   "outputs": [],
   "source": [
    "date = datetime.today().strftime('%Y-%m-%d-%H:%M:%S')\n",
    "check_point = tf.keras.callbacks.ModelCheckpoint(filepath=\"./data/26-10-2021/Train1/Keras/tf_lenet5-mnist_{}_{}.h5\".format(date, training_round),\n",
    "                                              monitor=\"val_acc\",\n",
    "                                              mode=\"max\",\n",
    "                                              save_best_only=True,\n",
    "                                              )"
   ]
  },
  {
   "cell_type": "code",
   "execution_count": 10,
   "id": "7f52a8ff",
   "metadata": {},
   "outputs": [],
   "source": [
    "#model.compile(loss='categorical_crossentropy', optimizer='adadelta', metrics=['accuracy'])\n",
    "model.compile(loss='categorical_crossentropy', optimizer=opt, metrics=['accuracy'])"
   ]
  },
  {
   "cell_type": "code",
   "execution_count": 11,
   "id": "a4295fa4",
   "metadata": {},
   "outputs": [
    {
     "name": "stdout",
     "output_type": "stream",
     "text": [
      "Epoch 1/50\n",
      "469/469 [==============================] - 7s 9ms/step - loss: 0.9955 - accuracy: 0.6639 - val_loss: 0.1065 - val_accuracy: 0.9647\n",
      "WARNING:tensorflow:Can save best model only with val_acc available, skipping.\n",
      "Epoch 2/50\n",
      "469/469 [==============================] - 3s 7ms/step - loss: 0.1500 - accuracy: 0.9565 - val_loss: 0.0671 - val_accuracy: 0.9791\n",
      "WARNING:tensorflow:Can save best model only with val_acc available, skipping.\n",
      "Epoch 3/50\n",
      "469/469 [==============================] - 3s 7ms/step - loss: 0.1040 - accuracy: 0.9688 - val_loss: 0.0439 - val_accuracy: 0.9862\n",
      "WARNING:tensorflow:Can save best model only with val_acc available, skipping.\n",
      "Epoch 4/50\n",
      "469/469 [==============================] - 3s 7ms/step - loss: 0.0871 - accuracy: 0.9747 - val_loss: 0.0405 - val_accuracy: 0.9870\n",
      "WARNING:tensorflow:Can save best model only with val_acc available, skipping.\n",
      "Epoch 5/50\n",
      "469/469 [==============================] - 3s 7ms/step - loss: 0.0720 - accuracy: 0.9796 - val_loss: 0.0390 - val_accuracy: 0.9873\n",
      "WARNING:tensorflow:Can save best model only with val_acc available, skipping.\n",
      "Epoch 6/50\n",
      "469/469 [==============================] - 3s 7ms/step - loss: 0.0597 - accuracy: 0.9827 - val_loss: 0.0345 - val_accuracy: 0.9891\n",
      "WARNING:tensorflow:Can save best model only with val_acc available, skipping.\n",
      "Epoch 7/50\n",
      "469/469 [==============================] - 3s 7ms/step - loss: 0.0550 - accuracy: 0.9841 - val_loss: 0.0394 - val_accuracy: 0.9883\n",
      "WARNING:tensorflow:Can save best model only with val_acc available, skipping.\n",
      "Epoch 8/50\n",
      "469/469 [==============================] - 3s 7ms/step - loss: 0.0506 - accuracy: 0.9848 - val_loss: 0.0316 - val_accuracy: 0.9899\n",
      "WARNING:tensorflow:Can save best model only with val_acc available, skipping.\n",
      "Epoch 9/50\n",
      "469/469 [==============================] - 3s 7ms/step - loss: 0.0451 - accuracy: 0.9870 - val_loss: 0.0327 - val_accuracy: 0.9900\n",
      "WARNING:tensorflow:Can save best model only with val_acc available, skipping.\n",
      "Epoch 10/50\n",
      "469/469 [==============================] - 3s 7ms/step - loss: 0.0431 - accuracy: 0.9874 - val_loss: 0.0293 - val_accuracy: 0.9902\n",
      "WARNING:tensorflow:Can save best model only with val_acc available, skipping.\n",
      "Epoch 11/50\n",
      "469/469 [==============================] - 3s 7ms/step - loss: 0.0362 - accuracy: 0.9889 - val_loss: 0.0248 - val_accuracy: 0.9916\n",
      "WARNING:tensorflow:Can save best model only with val_acc available, skipping.\n",
      "Epoch 12/50\n",
      "469/469 [==============================] - 3s 7ms/step - loss: 0.0339 - accuracy: 0.9895 - val_loss: 0.0278 - val_accuracy: 0.9903\n",
      "WARNING:tensorflow:Can save best model only with val_acc available, skipping.\n",
      "Epoch 13/50\n",
      "469/469 [==============================] - 3s 7ms/step - loss: 0.0353 - accuracy: 0.9892 - val_loss: 0.0281 - val_accuracy: 0.9920\n",
      "WARNING:tensorflow:Can save best model only with val_acc available, skipping.\n",
      "Epoch 14/50\n",
      "469/469 [==============================] - 3s 7ms/step - loss: 0.0338 - accuracy: 0.9902 - val_loss: 0.0272 - val_accuracy: 0.9919\n",
      "WARNING:tensorflow:Can save best model only with val_acc available, skipping.\n",
      "Epoch 15/50\n",
      "469/469 [==============================] - 3s 7ms/step - loss: 0.0294 - accuracy: 0.9916 - val_loss: 0.0279 - val_accuracy: 0.9907\n",
      "WARNING:tensorflow:Can save best model only with val_acc available, skipping.\n",
      "Epoch 16/50\n",
      "469/469 [==============================] - 3s 7ms/step - loss: 0.0259 - accuracy: 0.9923 - val_loss: 0.0287 - val_accuracy: 0.9920\n",
      "WARNING:tensorflow:Can save best model only with val_acc available, skipping.\n",
      "Epoch 17/50\n",
      "469/469 [==============================] - 3s 7ms/step - loss: 0.0259 - accuracy: 0.9917 - val_loss: 0.0292 - val_accuracy: 0.9914\n",
      "WARNING:tensorflow:Can save best model only with val_acc available, skipping.\n",
      "Epoch 18/50\n",
      "469/469 [==============================] - 3s 7ms/step - loss: 0.0253 - accuracy: 0.9917 - val_loss: 0.0287 - val_accuracy: 0.9917\n",
      "WARNING:tensorflow:Can save best model only with val_acc available, skipping.\n",
      "Epoch 19/50\n",
      "469/469 [==============================] - 3s 7ms/step - loss: 0.0251 - accuracy: 0.9921 - val_loss: 0.0291 - val_accuracy: 0.9903\n",
      "WARNING:tensorflow:Can save best model only with val_acc available, skipping.\n",
      "Epoch 20/50\n",
      "469/469 [==============================] - 3s 7ms/step - loss: 0.0205 - accuracy: 0.9936 - val_loss: 0.0297 - val_accuracy: 0.9920\n",
      "WARNING:tensorflow:Can save best model only with val_acc available, skipping.\n",
      "Epoch 21/50\n",
      "469/469 [==============================] - 3s 7ms/step - loss: 0.0197 - accuracy: 0.9941 - val_loss: 0.0263 - val_accuracy: 0.9925\n",
      "WARNING:tensorflow:Can save best model only with val_acc available, skipping.\n",
      "Epoch 22/50\n",
      "469/469 [==============================] - 3s 7ms/step - loss: 0.0225 - accuracy: 0.9930 - val_loss: 0.0249 - val_accuracy: 0.9921\n",
      "WARNING:tensorflow:Can save best model only with val_acc available, skipping.\n",
      "Epoch 23/50\n",
      "469/469 [==============================] - 3s 7ms/step - loss: 0.0179 - accuracy: 0.9946 - val_loss: 0.0310 - val_accuracy: 0.9913\n",
      "WARNING:tensorflow:Can save best model only with val_acc available, skipping.\n",
      "Epoch 24/50\n",
      "469/469 [==============================] - 3s 7ms/step - loss: 0.0202 - accuracy: 0.9933 - val_loss: 0.0279 - val_accuracy: 0.9924\n",
      "WARNING:tensorflow:Can save best model only with val_acc available, skipping.\n",
      "Epoch 25/50\n",
      "469/469 [==============================] - 3s 7ms/step - loss: 0.0180 - accuracy: 0.9943 - val_loss: 0.0283 - val_accuracy: 0.9914\n",
      "WARNING:tensorflow:Can save best model only with val_acc available, skipping.\n",
      "Epoch 26/50\n",
      "469/469 [==============================] - 3s 7ms/step - loss: 0.0170 - accuracy: 0.9944 - val_loss: 0.0293 - val_accuracy: 0.9920\n",
      "WARNING:tensorflow:Can save best model only with val_acc available, skipping.\n",
      "Epoch 27/50\n",
      "469/469 [==============================] - 3s 7ms/step - loss: 0.0164 - accuracy: 0.9945 - val_loss: 0.0331 - val_accuracy: 0.9917\n",
      "WARNING:tensorflow:Can save best model only with val_acc available, skipping.\n",
      "Epoch 28/50\n",
      "469/469 [==============================] - 3s 7ms/step - loss: 0.0163 - accuracy: 0.9952 - val_loss: 0.0275 - val_accuracy: 0.9920\n",
      "WARNING:tensorflow:Can save best model only with val_acc available, skipping.\n",
      "Epoch 29/50\n",
      "469/469 [==============================] - 3s 7ms/step - loss: 0.0143 - accuracy: 0.9958 - val_loss: 0.0265 - val_accuracy: 0.9926\n",
      "WARNING:tensorflow:Can save best model only with val_acc available, skipping.\n",
      "Epoch 30/50\n",
      "469/469 [==============================] - 3s 7ms/step - loss: 0.0128 - accuracy: 0.9958 - val_loss: 0.0314 - val_accuracy: 0.9921\n",
      "WARNING:tensorflow:Can save best model only with val_acc available, skipping.\n",
      "Epoch 31/50\n",
      "469/469 [==============================] - 3s 7ms/step - loss: 0.0138 - accuracy: 0.9956 - val_loss: 0.0296 - val_accuracy: 0.9922\n",
      "WARNING:tensorflow:Can save best model only with val_acc available, skipping.\n",
      "Epoch 32/50\n",
      "469/469 [==============================] - 3s 7ms/step - loss: 0.0123 - accuracy: 0.9962 - val_loss: 0.0293 - val_accuracy: 0.9923\n",
      "WARNING:tensorflow:Can save best model only with val_acc available, skipping.\n",
      "Epoch 33/50\n",
      "469/469 [==============================] - 3s 7ms/step - loss: 0.0131 - accuracy: 0.9960 - val_loss: 0.0277 - val_accuracy: 0.9922\n",
      "WARNING:tensorflow:Can save best model only with val_acc available, skipping.\n",
      "Epoch 34/50\n",
      "469/469 [==============================] - 3s 7ms/step - loss: 0.0104 - accuracy: 0.9966 - val_loss: 0.0279 - val_accuracy: 0.9930\n",
      "WARNING:tensorflow:Can save best model only with val_acc available, skipping.\n",
      "Epoch 35/50\n",
      "469/469 [==============================] - 3s 7ms/step - loss: 0.0114 - accuracy: 0.9967 - val_loss: 0.0321 - val_accuracy: 0.9923\n",
      "WARNING:tensorflow:Can save best model only with val_acc available, skipping.\n",
      "Epoch 36/50\n",
      "469/469 [==============================] - 3s 7ms/step - loss: 0.0097 - accuracy: 0.9971 - val_loss: 0.0307 - val_accuracy: 0.9924\n",
      "WARNING:tensorflow:Can save best model only with val_acc available, skipping.\n",
      "Epoch 37/50\n",
      "469/469 [==============================] - 3s 7ms/step - loss: 0.0102 - accuracy: 0.9966 - val_loss: 0.0324 - val_accuracy: 0.9919\n",
      "WARNING:tensorflow:Can save best model only with val_acc available, skipping.\n",
      "Epoch 38/50\n"
     ]
    },
    {
     "name": "stdout",
     "output_type": "stream",
     "text": [
      "469/469 [==============================] - 3s 7ms/step - loss: 0.0113 - accuracy: 0.9965 - val_loss: 0.0282 - val_accuracy: 0.9936\n",
      "WARNING:tensorflow:Can save best model only with val_acc available, skipping.\n",
      "Epoch 39/50\n",
      "469/469 [==============================] - 3s 7ms/step - loss: 0.0101 - accuracy: 0.9966 - val_loss: 0.0348 - val_accuracy: 0.9924\n",
      "WARNING:tensorflow:Can save best model only with val_acc available, skipping.\n",
      "Epoch 40/50\n",
      "469/469 [==============================] - 3s 7ms/step - loss: 0.0100 - accuracy: 0.9970 - val_loss: 0.0304 - val_accuracy: 0.9929\n",
      "WARNING:tensorflow:Can save best model only with val_acc available, skipping.\n",
      "Epoch 41/50\n",
      "469/469 [==============================] - 3s 7ms/step - loss: 0.0088 - accuracy: 0.9971 - val_loss: 0.0348 - val_accuracy: 0.9925\n",
      "WARNING:tensorflow:Can save best model only with val_acc available, skipping.\n",
      "Epoch 42/50\n",
      "469/469 [==============================] - 3s 7ms/step - loss: 0.0099 - accuracy: 0.9968 - val_loss: 0.0328 - val_accuracy: 0.9925\n",
      "WARNING:tensorflow:Can save best model only with val_acc available, skipping.\n",
      "Epoch 43/50\n",
      "469/469 [==============================] - 3s 7ms/step - loss: 0.0105 - accuracy: 0.9968 - val_loss: 0.0328 - val_accuracy: 0.9930\n",
      "WARNING:tensorflow:Can save best model only with val_acc available, skipping.\n",
      "Epoch 44/50\n",
      "469/469 [==============================] - 3s 7ms/step - loss: 0.0089 - accuracy: 0.9968 - val_loss: 0.0347 - val_accuracy: 0.9931\n",
      "WARNING:tensorflow:Can save best model only with val_acc available, skipping.\n",
      "Epoch 45/50\n",
      "469/469 [==============================] - 3s 7ms/step - loss: 0.0095 - accuracy: 0.9964 - val_loss: 0.0340 - val_accuracy: 0.9918\n",
      "WARNING:tensorflow:Can save best model only with val_acc available, skipping.\n",
      "Epoch 46/50\n",
      "469/469 [==============================] - 3s 7ms/step - loss: 0.0085 - accuracy: 0.9975 - val_loss: 0.0322 - val_accuracy: 0.9929\n",
      "WARNING:tensorflow:Can save best model only with val_acc available, skipping.\n",
      "Epoch 47/50\n",
      "469/469 [==============================] - 3s 7ms/step - loss: 0.0098 - accuracy: 0.9969 - val_loss: 0.0287 - val_accuracy: 0.9933\n",
      "WARNING:tensorflow:Can save best model only with val_acc available, skipping.\n",
      "Epoch 48/50\n",
      "469/469 [==============================] - 3s 7ms/step - loss: 0.0086 - accuracy: 0.9972 - val_loss: 0.0334 - val_accuracy: 0.9915\n",
      "WARNING:tensorflow:Can save best model only with val_acc available, skipping.\n",
      "Epoch 49/50\n",
      "469/469 [==============================] - 3s 7ms/step - loss: 0.0095 - accuracy: 0.9968 - val_loss: 0.0311 - val_accuracy: 0.9932\n",
      "WARNING:tensorflow:Can save best model only with val_acc available, skipping.\n",
      "Epoch 50/50\n",
      "469/469 [==============================] - 3s 7ms/step - loss: 0.0087 - accuracy: 0.9970 - val_loss: 0.0341 - val_accuracy: 0.9921\n",
      "WARNING:tensorflow:Can save best model only with val_acc available, skipping.\n",
      "Test score 0.03409770131111145\n",
      "Test accuracy 0.9921000003814697\n"
     ]
    }
   ],
   "source": [
    "nb_epoch = 50 # Number of passes over all pictures of the training set\n",
    "\n",
    "history = model.fit(X_train, Y_train, batch_size=batch_size, epochs=nb_epoch, \n",
    "          verbose=1, validation_data=(X_test, Y_test), callbacks=[check_point])\n",
    "\n",
    "score =  model.evaluate(X_test, Y_test, verbose=0)\n",
    "print('Test score', score[0])\n",
    "print('Test accuracy', score[1])"
   ]
  },
  {
   "cell_type": "code",
   "execution_count": 12,
   "id": "887ad088",
   "metadata": {},
   "outputs": [
    {
     "name": "stdout",
     "output_type": "stream",
     "text": [
      "Model: \"sequential\"\n",
      "_________________________________________________________________\n",
      "Layer (type)                 Output Shape              Param #   \n",
      "=================================================================\n",
      "conv2d (Conv2D)              (None, 28, 28, 6)         156       \n",
      "_________________________________________________________________\n",
      "max_pooling2d (MaxPooling2D) (None, 14, 14, 6)         0         \n",
      "_________________________________________________________________\n",
      "conv2d_1 (Conv2D)            (None, 14, 14, 16)        2416      \n",
      "_________________________________________________________________\n",
      "max_pooling2d_1 (MaxPooling2 (None, 7, 7, 16)          0         \n",
      "_________________________________________________________________\n",
      "conv2d_2 (Conv2D)            (None, 3, 3, 120)         48120     \n",
      "_________________________________________________________________\n",
      "dropout (Dropout)            (None, 3, 3, 120)         0         \n",
      "_________________________________________________________________\n",
      "flatten (Flatten)            (None, 1080)              0         \n",
      "_________________________________________________________________\n",
      "dense (Dense)                (None, 84)                90804     \n",
      "_________________________________________________________________\n",
      "dropout_1 (Dropout)          (None, 84)                0         \n",
      "_________________________________________________________________\n",
      "dense_1 (Dense)              (None, 10)                850       \n",
      "=================================================================\n",
      "Total params: 142,346\n",
      "Trainable params: 142,346\n",
      "Non-trainable params: 0\n",
      "_________________________________________________________________\n"
     ]
    }
   ],
   "source": [
    "date = datetime.today().strftime('%Y-%m-%d-%H:%M:%S')\n",
    "model.save(\"./data/26-10-2021/Train1/Keras/tf_Lenet5_mnist_{}_{}.h5\".format(date, training_round))\n",
    "model.summary()"
   ]
  },
  {
   "cell_type": "code",
   "execution_count": 13,
   "id": "4c14fbc4",
   "metadata": {},
   "outputs": [
    {
     "name": "stderr",
     "output_type": "stream",
     "text": [
      "/store/travail/opmos/conda/envs/tf-gpu/lib/python3.9/site-packages/tensorflow/python/keras/engine/sequential.py:450: UserWarning: `model.predict_classes()` is deprecated and will be removed after 2021-01-01. Please use instead:* `np.argmax(model.predict(x), axis=-1)`,   if your model does multi-class classification   (e.g. if it uses a `softmax` last-layer activation).* `(model.predict(x) > 0.5).astype(\"int32\")`,   if your model does binary classification   (e.g. if it uses a `sigmoid` last-layer activation).\n",
      "  warnings.warn('`model.predict_classes()` is deprecated and '\n"
     ]
    },
    {
     "data": {
      "image/png": "[encoded data removed]",
      "text/plain": [
       "<Figure size 720x720 with 9 Axes>"
      ]
     },
     "metadata": {},
     "output_type": "display_data"
    }
   ],
   "source": [
    "res = model.predict_classes(X_test[:9])\n",
    "plt.figure(figsize=(10, 10))\n",
    "\n",
    "for i in range(9):\n",
    "    plt.subplot(3, 3, i+1)\n",
    "    plt.imshow(X_test[i, :, :, 0], cmap='gray')\n",
    "    plt.gca().get_xaxis().set_ticks([])\n",
    "    plt.gca().get_yaxis().set_ticks([])\n",
    "    plt.ylabel(\"prediction = {}\".format(res[i]), fontsize=18)"
   ]
  },
  {
   "cell_type": "code",
   "execution_count": 14,
   "id": "975232f7",
   "metadata": {},
   "outputs": [],
   "source": [
    "def export_history_csv(history_, model_name):\n",
    "    since = time.time()\n",
    "    date = datetime.today().strftime('%Y-%m-%d-%H:%M:%S')\n",
    "    data_file = open('./data/26-10-2021/Train1/Keras/tf_exp_train_{}_{}_{}.csv'.format(model_name, date, training_round), mode='w+', newline='', encoding='utf-8')\n",
    "    data_writer = csv.writer(data_file, delimiter=',', quotechar='\"', quoting=csv.QUOTE_MINIMAL)\n",
    "    data_writer.writerow(['Model','type', 'Dataset', 'Epoch', 'criterion', 'optimizer', 'scheduler','Train_loss', 'Train_acc', \"val_loss\", \"Val_acc\", 'time','Elapse_time','date'])\n",
    "    for epoch_ in history_.epoch:\n",
    "        data_writer.writerow([history_.model,'tensorflow', 'hymenoptera', epoch_, '', \n",
    "                              history_.model.optimizer, '',history_.history['loss'][epoch_], history_.history['accuracy'][epoch_], \n",
    "                              history_.history['val_loss'][epoch_], history_.history['val_accuracy'][epoch_], '','',date])\n",
    "    data_file.close()"
   ]
  },
  {
   "cell_type": "code",
   "execution_count": 15,
   "id": "2a747082",
   "metadata": {},
   "outputs": [],
   "source": [
    "model_name = 'Lenet5-mnist'\n",
    "export_history_csv(history, model_name)"
   ]
  },
  {
   "cell_type": "code",
   "execution_count": null,
   "id": "9559bfcb",
   "metadata": {},
   "outputs": [],
   "source": []
  }
 ],
 "metadata": {
  "kernelspec": {
   "display_name": "Python 3",
   "language": "python",
   "name": "python3"
  },
  "language_info": {
   "codemirror_mode": {
    "name": "ipython",
    "version": 3
   },
   "file_extension": ".py",
   "mimetype": "text/x-python",
   "name": "python",
   "nbconvert_exporter": "python",
   "pygments_lexer": "ipython3",
   "version": "3.9.6"
  }
 },
 "nbformat": 4,
 "nbformat_minor": 5
}
