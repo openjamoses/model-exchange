{
 "cells": [
  {
   "cell_type": "code",
   "execution_count": 1,
   "id": "40a62f96",
   "metadata": {},
   "outputs": [],
   "source": [
    "# This Python 3 environment comes with many helpful analytics libraries installed\n",
    "# It is defined by the kaggle/python docker image: https://github.com/kaggle/docker-python\n",
    "# For example, here's several helpful packages to load in \n",
    "\n",
    "import numpy as np # linear algebra\n",
    "import pandas as pd # data processing, CSV file I/O (e.g. pd.read_csv)\n",
    "from sklearn.utils.multiclass import unique_labels\n",
    "\n",
    "# Input data files are available in the \"../input/\" directory.\n",
    "# For example, running this (by clicking run or pressing Shift+Enter) will list the files in the input directory\n",
    "\n",
    "import os\n",
    "# print(os.listdir(\"../input\"))\n",
    "\n",
    "# Any results you write to the current directory are saved as output."
   ]
  },
  {
   "cell_type": "code",
   "execution_count": 2,
   "id": "c06880d2",
   "metadata": {},
   "outputs": [],
   "source": [
    "#Import standard libraries\n",
    "\n",
    "import matplotlib.pyplot as plt\n",
    "import matplotlib.image as mpimg\n",
    "import seaborn as sns\n",
    "%matplotlib inline\n",
    "''' to learn more about itertools visit\n",
    "    https://medium.com/@jasonrigden/a-guide-to-python-itertools-82e5a306cdf8'''\n",
    "import itertools\n",
    "from sklearn.model_selection import train_test_split\n",
    "from sklearn.metrics import confusion_matrix"
   ]
  },
  {
   "cell_type": "code",
   "execution_count": 3,
   "id": "6da78515",
   "metadata": {},
   "outputs": [],
   "source": [
    "#Import keras functions\n",
    "\n",
    "from tensorflow.keras import Sequential\n",
    "\n",
    "'''Since we are using transfer learning let's import the model that we want to implement.Let's use VGG 19(19 layers) and Resnet-50 (50 layers of residual units). \n",
    "Residual units allow us to add more layers onto the model without a degradation in accuracy.\n",
    "Let's try and compare the accuracy of the 2 models and see if the addtional layers do make a significant difference. '''\n",
    "\n",
    "from tensorflow.keras.applications import VGG19,ResNet50\n",
    "\n",
    "'Import the datagenerator to augment images'\n",
    "from tensorflow.keras.preprocessing.image import ImageDataGenerator\n",
    "\n",
    "'''Import the optimizers and leanring rate annealer (which will reduce the learning rate once a particular metric we choose(in this case validation error) \n",
    "does not reduce after a user defined number of epochs)'''\n",
    "from tensorflow.keras.optimizers import SGD,Adam\n",
    "from tensorflow.keras.callbacks import ReduceLROnPlateau\n",
    "\n",
    "'Lastly import the final layers that will be added on top of the base model'\n",
    "from tensorflow.keras.layers import Flatten,Dense,BatchNormalization,Activation,Dropout\n",
    "\n",
    "'Import to_categorical from the keras utils package to one hot encode the labels'\n",
    "from tensorflow.keras.utils import to_categorical"
   ]
  },
  {
   "cell_type": "code",
   "execution_count": 4,
   "id": "bd9a8221",
   "metadata": {},
   "outputs": [],
   "source": [
    "#Import dataset\n",
    "from tensorflow.keras.datasets import cifar10"
   ]
  },
  {
   "cell_type": "code",
   "execution_count": 5,
   "id": "3a29d214",
   "metadata": {},
   "outputs": [],
   "source": [
    "#Divide the data in Train, Validation and Test Datasets\n",
    "'I had to turn the Internet setting to on to download load the dataset'\n",
    "(x_train,y_train),(x_test,y_test)=cifar10.load_data()"
   ]
  },
  {
   "cell_type": "code",
   "execution_count": 6,
   "id": "04d47d40",
   "metadata": {},
   "outputs": [],
   "source": [
    "y_train=to_categorical(y_train)\n",
    "#y_val=to_categorical(y_val)\n",
    "y_test=to_categorical(y_test)"
   ]
  },
  {
   "cell_type": "code",
   "execution_count": 7,
   "id": "22b31106",
   "metadata": {},
   "outputs": [
    {
     "name": "stdout",
     "output_type": "stream",
     "text": [
      "((50000, 32, 32, 3), (50000, 10))\n",
      "((10000, 32, 32, 3), (10000, 10))\n"
     ]
    }
   ],
   "source": [
    "# Lets print the dimensions one more time to see if things changed the way we expected\n",
    "\n",
    "print((x_train.shape,y_train.shape))\n",
    "#print((x_val.shape,y_val.shape))\n",
    "print((x_test.shape,y_test.shape))"
   ]
  },
  {
   "cell_type": "markdown",
   "id": "d0d30b76",
   "metadata": {},
   "source": [
    "We can now begin the actual process of model building.I find that following a set process and following consistently makes learning this easier.So here is the process I follow:\n",
    "\n",
    "- Define the Data Augmentation (ImageDataGenerator) and Learning Rate Annealer (ReduceOnPlateau) functions\n",
    "- Build the model (Base Model + Flatten + Dense)\n",
    "- Check model summary\n",
    "- Initialize Batch Size,Number of Epochs\n",
    "- Compile model\n",
    "- Fit the model (We will use fit_generator since the data is fed to the model using an augmentation function\n",
    "- Evaluate the model on test data"
   ]
  },
  {
   "cell_type": "code",
   "execution_count": 8,
   "id": "f253b1b1",
   "metadata": {},
   "outputs": [],
   "source": [
    "#Data Augmentation Function: Let's define an instance of the ImageDataGenerator class and set the parameters.We have to instantiate for the Train,Validation and Test datasets\n",
    "train_generator = ImageDataGenerator(\n",
    "                                    rotation_range=2, \n",
    "                                    horizontal_flip=True,\n",
    "                                    zoom_range=.1 )\n",
    "\n",
    "#val_generator = ImageDataGenerator(\n",
    "#                                    rotation_range=2, \n",
    "#                                    horizontal_flip=True,\n",
    "#                                    zoom_range=.1)\n",
    "\n",
    "test_generator = ImageDataGenerator(\n",
    "                                    rotation_range=2, \n",
    "                                    horizontal_flip= True,\n",
    "                                    zoom_range=.1) "
   ]
  },
  {
   "cell_type": "code",
   "execution_count": 9,
   "id": "b35a7e37",
   "metadata": {},
   "outputs": [],
   "source": [
    "#Fit the augmentation method to the data\n",
    "\n",
    "train_generator.fit(x_train)\n",
    "#val_generator.fit(x_val)\n",
    "test_generator.fit(x_test)"
   ]
  },
  {
   "cell_type": "markdown",
   "id": "f062e9b8",
   "metadata": {},
   "source": [
    "It's not necessary to use a data generator for validation data while fitting the model, however I find that it gives better validation accuracy if it is used.This is probably because themodel can learn more generalized features if validation data is also augmented. Ive used only a few of the many available functionalities of the augment function.To know more about the capabilities read this article: https://towardsdatascience.com/image-augmentation-for-deep-learning-using-keras-and-histogram-equalization-9329f6ae5085"
   ]
  },
  {
   "cell_type": "code",
   "execution_count": 10,
   "id": "cffa834d",
   "metadata": {},
   "outputs": [],
   "source": [
    "'''Learning Rate Annealer: The learning rate can be modified after a set number of epochs or after a certain condition is met. We will use the latter and change the learning rate if \n",
    "the validation error does not reduce after a set number of epochs. To do this we will use the patience parameter.'''\n",
    "\n",
    "lrr= ReduceLROnPlateau(\n",
    "                       monitor='val_acc', #Metric to be measured\n",
    "                       factor=.01, #Factor by which learning rate will be reduced\n",
    "                       patience=3,  #No. of epochs after which if there is no improvement in the val_acc, the learning rate is reduced\n",
    "                       min_lr=1e-5) #The minimum learning rate "
   ]
  },
  {
   "cell_type": "code",
   "execution_count": 11,
   "id": "d8038aaf",
   "metadata": {},
   "outputs": [],
   "source": [
    "#Build the model\n",
    "\n",
    "'The first base model used is VGG19. The pretrained weights from the imagenet challenge are used'\n",
    "base_model_1 = VGG19(include_top=False,weights='imagenet',input_shape=(32,32,3),classes=y_train.shape[1])\n",
    "\n",
    "'For the 2nd base model we will use Resnet 50 and compare the performance against the previous one.The hypothesis is that Resnet 50 should perform better because of its deeper architecture'\n",
    "base_model_2 = ResNet50(include_top=False,weights='imagenet',input_shape=(32,32,3),classes=y_train.shape[1])"
   ]
  },
  {
   "cell_type": "code",
   "execution_count": 12,
   "id": "2b7d37cd",
   "metadata": {},
   "outputs": [],
   "source": [
    "#Lets add the final layers to these base models where the actual classification is done in the dense layers\n",
    "\n",
    "model_1= Sequential()\n",
    "model_1.add(base_model_1) #Adds the base model (in this case vgg19 to model_1)\n",
    "model_1.add(Flatten()) #Since the output before the flatten layer is a matrix we have to use this function to get a vector of the form nX1 to feed it into the fully connected layers"
   ]
  },
  {
   "cell_type": "markdown",
   "id": "3f10bcdf",
   "metadata": {},
   "source": [
    "Before we add the dense layers we must know the shape of the output of the flatten layer so we can define the input shape to the dense layer accordingly. The way I handle is I print the summary of the model after the flatten layer is added."
   ]
  },
  {
   "cell_type": "code",
   "execution_count": 13,
   "id": "d27d63ca",
   "metadata": {},
   "outputs": [
    {
     "name": "stdout",
     "output_type": "stream",
     "text": [
      "Model: \"sequential\"\n",
      "_________________________________________________________________\n",
      "Layer (type)                 Output Shape              Param #   \n",
      "=================================================================\n",
      "vgg19 (Functional)           (None, 1, 1, 512)         20024384  \n",
      "_________________________________________________________________\n",
      "flatten (Flatten)            (None, 512)               0         \n",
      "=================================================================\n",
      "Total params: 20,024,384\n",
      "Trainable params: 20,024,384\n",
      "Non-trainable params: 0\n",
      "_________________________________________________________________\n"
     ]
    }
   ],
   "source": [
    "model_1.summary()"
   ]
  },
  {
   "cell_type": "markdown",
   "id": "635c8773",
   "metadata": {},
   "source": [
    "So after the flatten layer we see the output to be a vector of (512,1).This will help in deciding the number of neurons in the dense layer following the flatten layer."
   ]
  },
  {
   "cell_type": "code",
   "execution_count": 14,
   "id": "1985c1df",
   "metadata": {},
   "outputs": [],
   "source": [
    "#Add the Dense layers along with activation and batch normalization\n",
    "model_1.add(Dense(1024,activation=('relu'),input_dim=512))\n",
    "model_1.add(Dense(512,activation=('relu'))) \n",
    "model_1.add(Dense(256,activation=('relu'))) \n",
    "#model_1.add(Dropout(.3))#Adding a dropout layer that will randomly drop 30% of the weights\n",
    "model_1.add(Dense(128,activation=('relu')))\n",
    "#model_1.add(Dropout(.2))\n",
    "model_1.add(Dense(10,activation=('softmax'))) #This is the classification layer"
   ]
  },
  {
   "cell_type": "code",
   "execution_count": 15,
   "id": "b3e97b4e",
   "metadata": {},
   "outputs": [
    {
     "name": "stdout",
     "output_type": "stream",
     "text": [
      "Model: \"sequential\"\n",
      "_________________________________________________________________\n",
      "Layer (type)                 Output Shape              Param #   \n",
      "=================================================================\n",
      "vgg19 (Functional)           (None, 1, 1, 512)         20024384  \n",
      "_________________________________________________________________\n",
      "flatten (Flatten)            (None, 512)               0         \n",
      "_________________________________________________________________\n",
      "dense (Dense)                (None, 1024)              525312    \n",
      "_________________________________________________________________\n",
      "dense_1 (Dense)              (None, 512)               524800    \n",
      "_________________________________________________________________\n",
      "dense_2 (Dense)              (None, 256)               131328    \n",
      "_________________________________________________________________\n",
      "dense_3 (Dense)              (None, 128)               32896     \n",
      "_________________________________________________________________\n",
      "dense_4 (Dense)              (None, 10)                1290      \n",
      "=================================================================\n",
      "Total params: 21,240,010\n",
      "Trainable params: 21,240,010\n",
      "Non-trainable params: 0\n",
      "_________________________________________________________________\n"
     ]
    }
   ],
   "source": [
    "#Check final model summary\n",
    "model_1.summary()"
   ]
  },
  {
   "cell_type": "markdown",
   "id": "6c5f330a",
   "metadata": {},
   "source": [
    "After checking the model summary, let's initialize the batchsize and number of epochs.You can leave the batch unspecified and it defaults to 32. Batch size is the number of samples over which the gradient is calculated. An epoch is just the number of times the entire dateset is passed through the network.\n",
    "\n",
    "As a rule of thumb, as the batch size increases, the accuracy over each epoch SHOULD increase faster than if the batch size were smaller. This makes sense since we are training the model over more samples over each step. Therefore the number of epochs required to converge to a solution SHOULD THEORETICALLY be less.\n",
    "\n",
    "A lot of selection parameters have to do with the size and shape of training data. Since our training data set has 35K samples, we can choose a larger batch size."
   ]
  },
  {
   "cell_type": "code",
   "execution_count": 27,
   "id": "d3c41101",
   "metadata": {},
   "outputs": [],
   "source": [
    "batch_size= 32\n",
    "epochs=50"
   ]
  },
  {
   "cell_type": "markdown",
   "id": "4f9b089f",
   "metadata": {},
   "source": [
    "The next step is to define the learning rate for the optimizer we will use. I have chosen the SGD and Adam optimizer. The main difference between the 2 is that SGD uses the same learning rate for all parameters and updates all of them by the same amount. The learning rate does not change during training. Adam stands for Adaptive Moment estimation and maintains a separate learning rate for each parameter and updates them separately.\n",
    "\n",
    "To understand this concept more please read this article: https://machinelearningmastery.com/adam-optimization-algorithm-for-deep-learning/"
   ]
  },
  {
   "cell_type": "code",
   "execution_count": 17,
   "id": "c99ca2bc",
   "metadata": {},
   "outputs": [],
   "source": [
    "learn_rate=.001\n",
    "\n",
    "sgd=SGD(lr=learn_rate,momentum=.9,nesterov=False)\n",
    "adam=Adam(lr=learn_rate, beta_1=0.9, beta_2=0.999, epsilon=None, decay=0.0, amsgrad=False)"
   ]
  },
  {
   "cell_type": "markdown",
   "id": "2be39dcd",
   "metadata": {},
   "source": [
    "This is the official Keras documentation page on Optimizers.Since the choice o optimizer has a lot of influence on model performance, I'd reccomend giving it a read\n",
    "\n",
    "https://keras.io/optimizers/"
   ]
  },
  {
   "cell_type": "code",
   "execution_count": 18,
   "id": "54c1d585",
   "metadata": {},
   "outputs": [],
   "source": [
    "#Compile the model\n",
    "#During model compiling the 3 main things we specify are loss function,optimizer and the metrics that need to be evaluated during the test and train processes.\n",
    "#Lets start by using the SGD optimizer\n",
    "#We will specify the loss as categoricl crossentropy since the labels are 1 hot encoded. IF we had integer labels,we'd have to use sparse categorical crossentropy as loss function.\n",
    "model_1.compile(optimizer=sgd,loss='categorical_crossentropy',metrics=['accuracy'])"
   ]
  },
  {
   "cell_type": "markdown",
   "id": "22387a06",
   "metadata": {},
   "source": [
    "Now comes the fun part: Model Training. Since we're using a function to generate data, we have to use the argument fit_generator. Both the train data and the validation data will be generated using the augmentation methods we have previously defined. To use the fit_generator function we will define the following parameters:\n",
    "\n",
    "generator.flow(x_train,y_train,batch_size)\n",
    "\n",
    "Here we use generator.flow since the data is being generated from a numpy array. You could also have data available in folders in which case we would use flow_from_directory in which case the class names are inferred directly from the folder names within the train data folder\n",
    "\n",
    "More information on this can be found by reading the official documentation: https://keras.io/preprocessing/image/"
   ]
  },
  {
   "cell_type": "code",
   "execution_count": 20,
   "id": "a7d39288",
   "metadata": {},
   "outputs": [
    {
     "name": "stderr",
     "output_type": "stream",
     "text": [
      "/store/travail/opmos/conda/envs/tf-gpu/lib/python3.9/site-packages/tensorflow/python/keras/engine/training.py:1844: UserWarning: `Model.fit_generator` is deprecated and will be removed in a future version. Please use `Model.fit`, which supports generators.\n",
      "  warnings.warn('`Model.fit_generator` is deprecated and '\n"
     ]
    },
    {
     "name": "stdout",
     "output_type": "stream",
     "text": [
      "Epoch 1/50\n",
      "500/500 [==============================] - 56s 104ms/step - loss: 2.4098 - accuracy: 0.1173 - val_loss: 2.1592 - val_accuracy: 0.1891\n",
      "WARNING:tensorflow:Learning rate reduction is conditioned on metric `val_acc` which is not available. Available metrics are: loss,accuracy,val_loss,val_accuracy,lr\n",
      "Epoch 2/50\n",
      "500/500 [==============================] - 51s 102ms/step - loss: 2.1041 - accuracy: 0.2001 - val_loss: 1.9582 - val_accuracy: 0.2341\n",
      "WARNING:tensorflow:Learning rate reduction is conditioned on metric `val_acc` which is not available. Available metrics are: loss,accuracy,val_loss,val_accuracy,lr\n",
      "Epoch 3/50\n",
      "500/500 [==============================] - 51s 103ms/step - loss: 1.6728 - accuracy: 0.3790 - val_loss: 1.1289 - val_accuracy: 0.6109\n",
      "WARNING:tensorflow:Learning rate reduction is conditioned on metric `val_acc` which is not available. Available metrics are: loss,accuracy,val_loss,val_accuracy,lr\n",
      "Epoch 4/50\n",
      "500/500 [==============================] - 51s 102ms/step - loss: 0.9155 - accuracy: 0.6873 - val_loss: 0.7461 - val_accuracy: 0.7471\n",
      "WARNING:tensorflow:Learning rate reduction is conditioned on metric `val_acc` which is not available. Available metrics are: loss,accuracy,val_loss,val_accuracy,lr\n",
      "Epoch 5/50\n",
      "500/500 [==============================] - 51s 102ms/step - loss: 0.6768 - accuracy: 0.7725 - val_loss: 0.6735 - val_accuracy: 0.7732\n",
      "WARNING:tensorflow:Learning rate reduction is conditioned on metric `val_acc` which is not available. Available metrics are: loss,accuracy,val_loss,val_accuracy,lr\n",
      "Epoch 6/50\n",
      "500/500 [==============================] - 51s 102ms/step - loss: 0.5832 - accuracy: 0.7998 - val_loss: 0.6032 - val_accuracy: 0.7946\n",
      "WARNING:tensorflow:Learning rate reduction is conditioned on metric `val_acc` which is not available. Available metrics are: loss,accuracy,val_loss,val_accuracy,lr\n",
      "Epoch 7/50\n",
      "500/500 [==============================] - 51s 102ms/step - loss: 0.5105 - accuracy: 0.8258 - val_loss: 0.5552 - val_accuracy: 0.8147\n",
      "WARNING:tensorflow:Learning rate reduction is conditioned on metric `val_acc` which is not available. Available metrics are: loss,accuracy,val_loss,val_accuracy,lr\n",
      "Epoch 8/50\n",
      "500/500 [==============================] - 51s 102ms/step - loss: 0.4453 - accuracy: 0.8478 - val_loss: 0.5191 - val_accuracy: 0.8264\n",
      "WARNING:tensorflow:Learning rate reduction is conditioned on metric `val_acc` which is not available. Available metrics are: loss,accuracy,val_loss,val_accuracy,lr\n",
      "Epoch 9/50\n",
      "500/500 [==============================] - 51s 102ms/step - loss: 0.3941 - accuracy: 0.8634 - val_loss: 0.5050 - val_accuracy: 0.8362\n",
      "WARNING:tensorflow:Learning rate reduction is conditioned on metric `val_acc` which is not available. Available metrics are: loss,accuracy,val_loss,val_accuracy,lr\n",
      "Epoch 10/50\n",
      "500/500 [==============================] - 51s 102ms/step - loss: 0.3625 - accuracy: 0.8764 - val_loss: 0.5245 - val_accuracy: 0.8323\n",
      "WARNING:tensorflow:Learning rate reduction is conditioned on metric `val_acc` which is not available. Available metrics are: loss,accuracy,val_loss,val_accuracy,lr\n",
      "Epoch 11/50\n",
      "500/500 [==============================] - 51s 101ms/step - loss: 0.3305 - accuracy: 0.8863 - val_loss: 0.4987 - val_accuracy: 0.8393\n",
      "WARNING:tensorflow:Learning rate reduction is conditioned on metric `val_acc` which is not available. Available metrics are: loss,accuracy,val_loss,val_accuracy,lr\n",
      "Epoch 12/50\n",
      "500/500 [==============================] - 51s 102ms/step - loss: 0.2909 - accuracy: 0.9006 - val_loss: 0.4851 - val_accuracy: 0.8471\n",
      "WARNING:tensorflow:Learning rate reduction is conditioned on metric `val_acc` which is not available. Available metrics are: loss,accuracy,val_loss,val_accuracy,lr\n",
      "Epoch 13/50\n",
      "500/500 [==============================] - 51s 101ms/step - loss: 0.2646 - accuracy: 0.9079 - val_loss: 0.4975 - val_accuracy: 0.8396\n",
      "WARNING:tensorflow:Learning rate reduction is conditioned on metric `val_acc` which is not available. Available metrics are: loss,accuracy,val_loss,val_accuracy,lr\n",
      "Epoch 14/50\n",
      "500/500 [==============================] - 51s 101ms/step - loss: 0.2288 - accuracy: 0.9209 - val_loss: 0.4995 - val_accuracy: 0.8420\n",
      "WARNING:tensorflow:Learning rate reduction is conditioned on metric `val_acc` which is not available. Available metrics are: loss,accuracy,val_loss,val_accuracy,lr\n",
      "Epoch 15/50\n",
      "500/500 [==============================] - 50s 101ms/step - loss: 0.2166 - accuracy: 0.9244 - val_loss: 0.4731 - val_accuracy: 0.8524\n",
      "WARNING:tensorflow:Learning rate reduction is conditioned on metric `val_acc` which is not available. Available metrics are: loss,accuracy,val_loss,val_accuracy,lr\n",
      "Epoch 16/50\n",
      "500/500 [==============================] - 51s 102ms/step - loss: 0.2037 - accuracy: 0.9312 - val_loss: 0.4978 - val_accuracy: 0.8561\n",
      "WARNING:tensorflow:Learning rate reduction is conditioned on metric `val_acc` which is not available. Available metrics are: loss,accuracy,val_loss,val_accuracy,lr\n",
      "Epoch 17/50\n",
      "500/500 [==============================] - 51s 101ms/step - loss: 0.1678 - accuracy: 0.9406 - val_loss: 0.5269 - val_accuracy: 0.8464\n",
      "WARNING:tensorflow:Learning rate reduction is conditioned on metric `val_acc` which is not available. Available metrics are: loss,accuracy,val_loss,val_accuracy,lr\n",
      "Epoch 18/50\n",
      "500/500 [==============================] - 51s 101ms/step - loss: 0.1545 - accuracy: 0.9466 - val_loss: 0.5372 - val_accuracy: 0.8464\n",
      "WARNING:tensorflow:Learning rate reduction is conditioned on metric `val_acc` which is not available. Available metrics are: loss,accuracy,val_loss,val_accuracy,lr\n",
      "Epoch 19/50\n",
      "500/500 [==============================] - 51s 101ms/step - loss: 0.1524 - accuracy: 0.9472 - val_loss: 0.5440 - val_accuracy: 0.8447\n",
      "WARNING:tensorflow:Learning rate reduction is conditioned on metric `val_acc` which is not available. Available metrics are: loss,accuracy,val_loss,val_accuracy,lr\n",
      "Epoch 20/50\n",
      "500/500 [==============================] - 51s 101ms/step - loss: 0.1301 - accuracy: 0.9552 - val_loss: 0.5245 - val_accuracy: 0.8489\n",
      "WARNING:tensorflow:Learning rate reduction is conditioned on metric `val_acc` which is not available. Available metrics are: loss,accuracy,val_loss,val_accuracy,lr\n",
      "Epoch 21/50\n",
      "500/500 [==============================] - 51s 101ms/step - loss: 0.1139 - accuracy: 0.9605 - val_loss: 0.5360 - val_accuracy: 0.8548\n",
      "WARNING:tensorflow:Learning rate reduction is conditioned on metric `val_acc` which is not available. Available metrics are: loss,accuracy,val_loss,val_accuracy,lr\n",
      "Epoch 22/50\n",
      "500/500 [==============================] - 51s 101ms/step - loss: 0.1041 - accuracy: 0.9646 - val_loss: 0.6085 - val_accuracy: 0.8454\n",
      "WARNING:tensorflow:Learning rate reduction is conditioned on metric `val_acc` which is not available. Available metrics are: loss,accuracy,val_loss,val_accuracy,lr\n",
      "Epoch 23/50\n",
      "500/500 [==============================] - 51s 102ms/step - loss: 0.1018 - accuracy: 0.9652 - val_loss: 0.5639 - val_accuracy: 0.8564\n",
      "WARNING:tensorflow:Learning rate reduction is conditioned on metric `val_acc` which is not available. Available metrics are: loss,accuracy,val_loss,val_accuracy,lr\n",
      "Epoch 24/50\n",
      "500/500 [==============================] - 51s 101ms/step - loss: 0.0950 - accuracy: 0.9671 - val_loss: 0.5188 - val_accuracy: 0.8594\n",
      "WARNING:tensorflow:Learning rate reduction is conditioned on metric `val_acc` which is not available. Available metrics are: loss,accuracy,val_loss,val_accuracy,lr\n",
      "Epoch 25/50\n",
      "500/500 [==============================] - 51s 102ms/step - loss: 0.0792 - accuracy: 0.9740 - val_loss: 0.5564 - val_accuracy: 0.8587\n",
      "WARNING:tensorflow:Learning rate reduction is conditioned on metric `val_acc` which is not available. Available metrics are: loss,accuracy,val_loss,val_accuracy,lr\n",
      "Epoch 26/50\n",
      "500/500 [==============================] - 51s 101ms/step - loss: 0.0754 - accuracy: 0.9741 - val_loss: 0.5505 - val_accuracy: 0.8629\n",
      "WARNING:tensorflow:Learning rate reduction is conditioned on metric `val_acc` which is not available. Available metrics are: loss,accuracy,val_loss,val_accuracy,lr\n",
      "Epoch 27/50\n",
      "500/500 [==============================] - 51s 102ms/step - loss: 0.0707 - accuracy: 0.9756 - val_loss: 0.5989 - val_accuracy: 0.8592\n"
     ]
    },
    {
     "name": "stdout",
     "output_type": "stream",
     "text": [
      "WARNING:tensorflow:Learning rate reduction is conditioned on metric `val_acc` which is not available. Available metrics are: loss,accuracy,val_loss,val_accuracy,lr\n",
      "Epoch 28/50\n",
      "500/500 [==============================] - 51s 102ms/step - loss: 0.0643 - accuracy: 0.9786 - val_loss: 0.5903 - val_accuracy: 0.8587\n",
      "WARNING:tensorflow:Learning rate reduction is conditioned on metric `val_acc` which is not available. Available metrics are: loss,accuracy,val_loss,val_accuracy,lr\n",
      "Epoch 29/50\n",
      "500/500 [==============================] - 51s 102ms/step - loss: 0.0542 - accuracy: 0.9826 - val_loss: 0.6629 - val_accuracy: 0.8504\n",
      "WARNING:tensorflow:Learning rate reduction is conditioned on metric `val_acc` which is not available. Available metrics are: loss,accuracy,val_loss,val_accuracy,lr\n",
      "Epoch 30/50\n",
      "500/500 [==============================] - 51s 101ms/step - loss: 0.0595 - accuracy: 0.9794 - val_loss: 0.6324 - val_accuracy: 0.8485\n",
      "WARNING:tensorflow:Learning rate reduction is conditioned on metric `val_acc` which is not available. Available metrics are: loss,accuracy,val_loss,val_accuracy,lr\n",
      "Epoch 31/50\n",
      "500/500 [==============================] - 51s 101ms/step - loss: 0.0583 - accuracy: 0.9799 - val_loss: 0.6210 - val_accuracy: 0.8591\n",
      "WARNING:tensorflow:Learning rate reduction is conditioned on metric `val_acc` which is not available. Available metrics are: loss,accuracy,val_loss,val_accuracy,lr\n",
      "Epoch 32/50\n",
      "500/500 [==============================] - 51s 101ms/step - loss: 0.0505 - accuracy: 0.9832 - val_loss: 0.6069 - val_accuracy: 0.8609\n",
      "WARNING:tensorflow:Learning rate reduction is conditioned on metric `val_acc` which is not available. Available metrics are: loss,accuracy,val_loss,val_accuracy,lr\n",
      "Epoch 33/50\n",
      "500/500 [==============================] - 51s 101ms/step - loss: 0.0401 - accuracy: 0.9864 - val_loss: 0.6560 - val_accuracy: 0.8600\n",
      "WARNING:tensorflow:Learning rate reduction is conditioned on metric `val_acc` which is not available. Available metrics are: loss,accuracy,val_loss,val_accuracy,lr\n",
      "Epoch 34/50\n",
      "500/500 [==============================] - 51s 101ms/step - loss: 0.0489 - accuracy: 0.9835 - val_loss: 0.6496 - val_accuracy: 0.8611\n",
      "WARNING:tensorflow:Learning rate reduction is conditioned on metric `val_acc` which is not available. Available metrics are: loss,accuracy,val_loss,val_accuracy,lr\n",
      "Epoch 35/50\n",
      "500/500 [==============================] - 51s 102ms/step - loss: 0.0421 - accuracy: 0.9856 - val_loss: 0.7126 - val_accuracy: 0.8521\n",
      "WARNING:tensorflow:Learning rate reduction is conditioned on metric `val_acc` which is not available. Available metrics are: loss,accuracy,val_loss,val_accuracy,lr\n",
      "Epoch 36/50\n",
      "500/500 [==============================] - 51s 101ms/step - loss: 0.0445 - accuracy: 0.9854 - val_loss: 0.6849 - val_accuracy: 0.8566\n",
      "WARNING:tensorflow:Learning rate reduction is conditioned on metric `val_acc` which is not available. Available metrics are: loss,accuracy,val_loss,val_accuracy,lr\n",
      "Epoch 37/50\n",
      "500/500 [==============================] - 51s 102ms/step - loss: 0.0394 - accuracy: 0.9863 - val_loss: 0.7313 - val_accuracy: 0.8564\n",
      "WARNING:tensorflow:Learning rate reduction is conditioned on metric `val_acc` which is not available. Available metrics are: loss,accuracy,val_loss,val_accuracy,lr\n",
      "Epoch 38/50\n",
      "500/500 [==============================] - 51s 102ms/step - loss: 0.0381 - accuracy: 0.9868 - val_loss: 0.7226 - val_accuracy: 0.8539\n",
      "WARNING:tensorflow:Learning rate reduction is conditioned on metric `val_acc` which is not available. Available metrics are: loss,accuracy,val_loss,val_accuracy,lr\n",
      "Epoch 39/50\n",
      "500/500 [==============================] - 51s 101ms/step - loss: 0.0381 - accuracy: 0.9870 - val_loss: 0.6511 - val_accuracy: 0.8615\n",
      "WARNING:tensorflow:Learning rate reduction is conditioned on metric `val_acc` which is not available. Available metrics are: loss,accuracy,val_loss,val_accuracy,lr\n",
      "Epoch 40/50\n",
      "500/500 [==============================] - 51s 102ms/step - loss: 0.0300 - accuracy: 0.9904 - val_loss: 0.6535 - val_accuracy: 0.8610\n",
      "WARNING:tensorflow:Learning rate reduction is conditioned on metric `val_acc` which is not available. Available metrics are: loss,accuracy,val_loss,val_accuracy,lr\n",
      "Epoch 41/50\n",
      "500/500 [==============================] - 51s 102ms/step - loss: 0.0318 - accuracy: 0.9890 - val_loss: 0.6511 - val_accuracy: 0.8659\n",
      "WARNING:tensorflow:Learning rate reduction is conditioned on metric `val_acc` which is not available. Available metrics are: loss,accuracy,val_loss,val_accuracy,lr\n",
      "Epoch 42/50\n",
      "500/500 [==============================] - 51s 102ms/step - loss: 0.0241 - accuracy: 0.9915 - val_loss: 0.6591 - val_accuracy: 0.8616\n",
      "WARNING:tensorflow:Learning rate reduction is conditioned on metric `val_acc` which is not available. Available metrics are: loss,accuracy,val_loss,val_accuracy,lr\n",
      "Epoch 43/50\n",
      "500/500 [==============================] - 51s 102ms/step - loss: 0.0266 - accuracy: 0.9908 - val_loss: 0.7180 - val_accuracy: 0.8510\n",
      "WARNING:tensorflow:Learning rate reduction is conditioned on metric `val_acc` which is not available. Available metrics are: loss,accuracy,val_loss,val_accuracy,lr\n",
      "Epoch 44/50\n",
      "500/500 [==============================] - 51s 101ms/step - loss: 0.0263 - accuracy: 0.9910 - val_loss: 0.6964 - val_accuracy: 0.8621\n",
      "WARNING:tensorflow:Learning rate reduction is conditioned on metric `val_acc` which is not available. Available metrics are: loss,accuracy,val_loss,val_accuracy,lr\n",
      "Epoch 45/50\n",
      "500/500 [==============================] - 51s 102ms/step - loss: 0.0253 - accuracy: 0.9910 - val_loss: 0.6949 - val_accuracy: 0.8641\n",
      "WARNING:tensorflow:Learning rate reduction is conditioned on metric `val_acc` which is not available. Available metrics are: loss,accuracy,val_loss,val_accuracy,lr\n",
      "Epoch 46/50\n",
      "500/500 [==============================] - 50s 101ms/step - loss: 0.0253 - accuracy: 0.9909 - val_loss: 0.6747 - val_accuracy: 0.8668\n",
      "WARNING:tensorflow:Learning rate reduction is conditioned on metric `val_acc` which is not available. Available metrics are: loss,accuracy,val_loss,val_accuracy,lr\n",
      "Epoch 47/50\n",
      "500/500 [==============================] - 50s 101ms/step - loss: 0.0240 - accuracy: 0.9916 - val_loss: 0.7210 - val_accuracy: 0.8618\n",
      "WARNING:tensorflow:Learning rate reduction is conditioned on metric `val_acc` which is not available. Available metrics are: loss,accuracy,val_loss,val_accuracy,lr\n",
      "Epoch 48/50\n",
      "500/500 [==============================] - 51s 102ms/step - loss: 0.0216 - accuracy: 0.9925 - val_loss: 0.6943 - val_accuracy: 0.8630\n",
      "WARNING:tensorflow:Learning rate reduction is conditioned on metric `val_acc` which is not available. Available metrics are: loss,accuracy,val_loss,val_accuracy,lr\n",
      "Epoch 49/50\n",
      "500/500 [==============================] - 51s 102ms/step - loss: 0.0206 - accuracy: 0.9927 - val_loss: 0.6502 - val_accuracy: 0.8678\n",
      "WARNING:tensorflow:Learning rate reduction is conditioned on metric `val_acc` which is not available. Available metrics are: loss,accuracy,val_loss,val_accuracy,lr\n",
      "Epoch 50/50\n",
      "500/500 [==============================] - 51s 101ms/step - loss: 0.0172 - accuracy: 0.9938 - val_loss: 0.7303 - val_accuracy: 0.8555\n",
      "WARNING:tensorflow:Learning rate reduction is conditioned on metric `val_acc` which is not available. Available metrics are: loss,accuracy,val_loss,val_accuracy,lr\n"
     ]
    },
    {
     "data": {
      "text/plain": [
       "<tensorflow.python.keras.callbacks.History at 0x7f1710059a60>"
      ]
     },
     "execution_count": 20,
     "metadata": {},
     "output_type": "execute_result"
    }
   ],
   "source": [
    "model_1.fit_generator(train_generator.flow(x_train,y_train,batch_size=batch_size),\n",
    "                      epochs=epochs,\n",
    "                      steps_per_epoch=x_train.shape[0]//batch_size,\n",
    "                      validation_data=test_generator.flow(x_test,y_test,batch_size=batch_size),\n",
    "                      callbacks=[lrr],verbose=1)"
   ]
  },
  {
   "cell_type": "code",
   "execution_count": 22,
   "id": "1e4ae6a9",
   "metadata": {},
   "outputs": [
    {
     "data": {
      "text/plain": [
       "[<matplotlib.lines.Line2D at 0x7f1690446dc0>]"
      ]
     },
     "execution_count": 22,
     "metadata": {},
     "output_type": "execute_result"
    },
    {
     "data": {
      "image/png": "[encoded data removed]",
      "text/plain": [
       "<Figure size 432x288 with 2 Axes>"
      ]
     },
     "metadata": {
      "needs_background": "light"
     },
     "output_type": "display_data"
    }
   ],
   "source": [
    "#Plot the training and valiation loss\n",
    "'''The output of model.fit is a model.History object which is a record of metrics at each epoch. This can be used to graph the training and validation accuracy\n",
    "to see where they plateaued off and if overfitting can subsequently be avoided'''\n",
    "\n",
    "f,ax=plt.subplots(2,1) #Creates 2 subplots under 1 column\n",
    "\n",
    "#Assign the first subplot to graph training loss and validation loss\n",
    "ax[0].plot(model_1.history.history['loss'],color='b',label='Training Loss')\n",
    "ax[0].plot(model_1.history.history['val_loss'],color='r',label='Validation Loss')\n",
    "\n",
    "#Next lets plot the training accuracy and validation accuracy\n",
    "ax[1].plot(model_1.history.history['accuracy'],color='b',label='Training  Accuracy')\n",
    "ax[1].plot(model_1.history.history['val_accuracy'],color='r',label='Validation Accuracy')"
   ]
  },
  {
   "cell_type": "code",
   "execution_count": null,
   "id": "f1d2e621",
   "metadata": {},
   "outputs": [],
   "source": []
  },
  {
   "cell_type": "code",
   "execution_count": null,
   "id": "0d8cd376",
   "metadata": {},
   "outputs": [],
   "source": []
  },
  {
   "cell_type": "code",
   "execution_count": null,
   "id": "c2aed8d9",
   "metadata": {},
   "outputs": [],
   "source": []
  },
  {
   "cell_type": "code",
   "execution_count": null,
   "id": "3ce9bd4d",
   "metadata": {},
   "outputs": [],
   "source": []
  },
  {
   "cell_type": "code",
   "execution_count": 19,
   "id": "51ca1dea",
   "metadata": {},
   "outputs": [],
   "source": [
    "# This Python 3 environment comes with many helpful analytics libraries installed\n",
    "# It is defined by the kaggle/python Docker image: https://github.com/kaggle/docker-python\n",
    "# For example, here's several helpful packages to load\n",
    "\n",
    "import numpy as np # linear algebra\n",
    "import pandas as pd # data processing, CSV file I/O (e.g. pd.read_csv)\n",
    "import tensorflow as tf\n",
    "from tensorflow import keras\n",
    "import matplotlib.pyplot as plt\n",
    "import os\n",
    "import time\n",
    "\n",
    "# Input data files are available in the read-only \"../input/\" directory\n",
    "# For example, running this (by clicking run or pressing Shift+Enter) will list all files under the input directory\n",
    "\n",
    "import os"
   ]
  },
  {
   "cell_type": "code",
   "execution_count": 20,
   "id": "bd4afdeb",
   "metadata": {},
   "outputs": [],
   "source": [
    "(train_images, train_labels), (test_images, test_labels) = keras.datasets.cifar10.load_data()"
   ]
  },
  {
   "cell_type": "code",
   "execution_count": 21,
   "id": "1b008115",
   "metadata": {},
   "outputs": [],
   "source": [
    "CLASS_NAMES= ['airplane', 'automobile', 'bird', 'cat', 'deer', 'dog', 'frog', 'horse', 'ship', 'truck']"
   ]
  },
  {
   "cell_type": "code",
   "execution_count": 22,
   "id": "cdea8efd",
   "metadata": {},
   "outputs": [],
   "source": [
    "train_ds=tf.data.Dataset.from_tensor_slices((train_images,train_labels))\n",
    "test_ds=tf.data.Dataset.from_tensor_slices((test_images,test_labels))"
   ]
  },
  {
   "cell_type": "code",
   "execution_count": 23,
   "id": "1fdaa775",
   "metadata": {},
   "outputs": [
    {
     "data": {
      "image/png": "[encoded data removed]",
      "text/plain": [
       "<Figure size 2160x2160 with 20 Axes>"
      ]
     },
     "metadata": {
      "needs_background": "light"
     },
     "output_type": "display_data"
    }
   ],
   "source": [
    "plt.figure(figsize=(30,30))\n",
    "for i,(image,label) in enumerate(train_ds.take(20)):\n",
    "    #print(label)\n",
    "    ax=plt.subplot(5,5,i+1)\n",
    "    plt.imshow(image)\n",
    "    plt.title(CLASS_NAMES[label.numpy()[0]])\n",
    "    plt.axis('off')"
   ]
  },
  {
   "cell_type": "code",
   "execution_count": 33,
   "id": "2f64820d",
   "metadata": {},
   "outputs": [],
   "source": [
    "def process_image(image,label):\n",
    "    image=tf.image.per_image_standardization(image)\n",
    "    image=tf.image.resize(image,(64,64))\n",
    "    \n",
    "    return image,label"
   ]
  },
  {
   "cell_type": "markdown",
   "id": "3633ef73",
   "metadata": {},
   "source": [
    "# Data Pipeline\n",
    "\n",
    "\n",
    "So far, we have obtained and partitioned the dataset and created a function to process the dataset. The next step is to build an input pipeline.\n",
    "\n",
    "An input/data pipeline is described as a series of functions or methods that are called consecutively one after another.\n",
    "\n",
    "Input pipelines are a chain of functions that either act upon the data or enforces an operation on the data flowing through the pipeline."
   ]
  },
  {
   "cell_type": "code",
   "execution_count": 29,
   "id": "11409fa5",
   "metadata": {},
   "outputs": [
    {
     "name": "stdout",
     "output_type": "stream",
     "text": [
      "Train size: 1562\n",
      "Test size: 312\n"
     ]
    }
   ],
   "source": [
    "train_ds_size=tf.data.experimental.cardinality(train_ds).numpy()\n",
    "test_ds_size=tf.data.experimental.cardinality(test_ds).numpy()\n",
    "print('Train size:',train_ds_size)\n",
    "print('Test size:',test_ds_size)"
   ]
  },
  {
   "cell_type": "code",
   "execution_count": null,
   "id": "2ea90f0f",
   "metadata": {},
   "outputs": [],
   "source": []
  },
  {
   "cell_type": "markdown",
   "id": "d367470d",
   "metadata": {},
   "source": [
    "For our basic input/data pipeline, we will conduct three primary operations:\n",
    "1. Preprocessing the data within the dataset\n",
    "2. Shuffle the dataset\n",
    "3. Batch data within the dataset"
   ]
  },
  {
   "cell_type": "code",
   "execution_count": 30,
   "id": "cbd9126c",
   "metadata": {},
   "outputs": [],
   "source": [
    "train_ds=(train_ds\n",
    "          .map(process_image)\n",
    "          .shuffle(buffer_size=train_ds_size)\n",
    "          .batch(batch_size=batch_size,drop_remainder=True)\n",
    "         )\n",
    "test_ds=(test_ds\n",
    "          .map(process_image)\n",
    "          .shuffle(buffer_size=test_ds_size)\n",
    "          .batch(batch_size=batch_size,drop_remainder=True)\n",
    "         )"
   ]
  },
  {
   "cell_type": "markdown",
   "id": "b1cfc96c",
   "metadata": {},
   "source": [
    "# Model Implementation\n",
    "Within this section, we will implement the AlexNet CNN architecture from scratch. Through the utilization of Keras Sequential API, we can implement consecutive neural network layers within our models that are stacked against each other.\n",
    "\n",
    "Here are the types of layers the AlexNet CNN architecture is composed of, along with a brief description:\n",
    "\n",
    "### Convolutional layer:\n",
    "A convolution is a mathematical term that describes a dot product multiplication between two sets of elements. Within deep learning the convolution operation acts on the filters/kernels and image data array within the convolutional layer. Therefore a convolutional layer is simply a layer the houses the convolution operation that occurs between the filters and the images passed through a convolutional neural network.\n",
    "\n",
    "### Batch Normalisation layer:\n",
    "Batch Normalization is a technique that mitigates the effect of unstable gradients within a neural network through the introduction of an additional layer that performs operations on the inputs from the previous layer. The operations standardize and normalize the input values, after that the input values are transformed through scaling and shifting operations.\n",
    "\n",
    "### MaxPooling layer:\n",
    "Max pooling is a variant of sub-sampling where the maximum pixel value of pixels that fall within the receptive field of a unit within a sub-sampling layer is taken as the output. The max-pooling operation below has a window of 2x2 and slides across the input data, outputting an average of the pixels within the receptive field of the kernel.\n",
    "\n",
    "### Flatten layer:\n",
    "Takes an input shape and flattens the input image data into a one-dimensional array.\n",
    "\n",
    "### Dense Layer:\n",
    "A dense layer has an embedded number of arbitrary units/neurons within. Each neuron is a perceptron.\n",
    "\n",
    "The code snippet represents the Keras implementation of the AlexNet CNN architecture."
   ]
  },
  {
   "cell_type": "code",
   "execution_count": 32,
   "id": "7341d3f2",
   "metadata": {},
   "outputs": [],
   "source": [
    "model=keras.models.Sequential([\n",
    "    keras.layers.Conv2D(filters=128, kernel_size=(11,11), strides=(4,4), activation='relu', input_shape=(64,64,3)),\n",
    "    keras.layers.BatchNormalization(),\n",
    "    keras.layers.MaxPool2D(pool_size=(2,2)),\n",
    "    keras.layers.Conv2D(filters=256, kernel_size=(5,5), strides=(1,1), activation='relu', padding=\"same\"),\n",
    "    keras.layers.BatchNormalization(),\n",
    "    keras.layers.MaxPool2D(pool_size=(3,3)),\n",
    "    keras.layers.Conv2D(filters=256, kernel_size=(3,3), strides=(1,1), activation='relu', padding=\"same\"),\n",
    "    keras.layers.BatchNormalization(),\n",
    "    keras.layers.Conv2D(filters=256, kernel_size=(1,1), strides=(1,1), activation='relu', padding=\"same\"),\n",
    "    keras.layers.BatchNormalization(),\n",
    "    keras.layers.Conv2D(filters=256, kernel_size=(1,1), strides=(1,1), activation='relu', padding=\"same\"),\n",
    "    keras.layers.BatchNormalization(),\n",
    "    keras.layers.MaxPool2D(pool_size=(2,2)),\n",
    "    keras.layers.Flatten(),\n",
    "    keras.layers.Dense(1024,activation='relu'),\n",
    "    keras.layers.Dropout(0.5),\n",
    "    keras.layers.Dense(1024,activation='relu'),\n",
    "    keras.layers.Dropout(0.5),\n",
    "    keras.layers.Dense(10,activation='softmax')   \n",
    "])"
   ]
  },
  {
   "cell_type": "markdown",
   "id": "3e1e2121",
   "metadata": {},
   "source": [
    "# Training and Results\n",
    "To train the network, we have to compile it.\n",
    "\n",
    "The compilation processes involve specifying the following items:\n",
    "\n",
    "### Loss function:\n",
    "A method that quantifies ‘how well’ a machine learning model performs. The quantification is an output(cost) based on a set of inputs, which are referred to as parameter values. The parameter values are used to estimate a prediction, and the ‘loss’ is the difference between the predictions and the actual values.\n",
    "\n",
    "### Optimization Algorithm:\n",
    "An optimizer within a neural network is an algorithmic implementation that facilitates the process of gradient descent within a neural network by minimizing the loss values provided via the loss function. To reduce the loss, it is paramount the values of the weights within the network are selected appropriately.\n",
    "\n",
    "### Learning Rate:\n",
    "An integral component of a neural network implementation detail as it’s a factor value that determines the level of updates that are made to the values of the weights of the network. Learning rate is a type of hyperparameter.\n",
    "\n",
    "We can also provide a summary of the network to have more insight into the layer composition of the network by running the model.summary() function."
   ]
  },
  {
   "cell_type": "code",
   "execution_count": 32,
   "id": "79cad46e",
   "metadata": {},
   "outputs": [
    {
     "name": "stdout",
     "output_type": "stream",
     "text": [
      "Model: \"sequential_1\"\n",
      "_________________________________________________________________\n",
      "Layer (type)                 Output Shape              Param #   \n",
      "=================================================================\n",
      "conv2d (Conv2D)              (None, 14, 14, 128)       46592     \n",
      "_________________________________________________________________\n",
      "batch_normalization (BatchNo (None, 14, 14, 128)       512       \n",
      "_________________________________________________________________\n",
      "max_pooling2d (MaxPooling2D) (None, 7, 7, 128)         0         \n",
      "_________________________________________________________________\n",
      "conv2d_1 (Conv2D)            (None, 7, 7, 256)         819456    \n",
      "_________________________________________________________________\n",
      "batch_normalization_1 (Batch (None, 7, 7, 256)         1024      \n",
      "_________________________________________________________________\n",
      "max_pooling2d_1 (MaxPooling2 (None, 2, 2, 256)         0         \n",
      "_________________________________________________________________\n",
      "conv2d_2 (Conv2D)            (None, 2, 2, 256)         590080    \n",
      "_________________________________________________________________\n",
      "batch_normalization_2 (Batch (None, 2, 2, 256)         1024      \n",
      "_________________________________________________________________\n",
      "conv2d_3 (Conv2D)            (None, 2, 2, 256)         65792     \n",
      "_________________________________________________________________\n",
      "batch_normalization_3 (Batch (None, 2, 2, 256)         1024      \n",
      "_________________________________________________________________\n",
      "conv2d_4 (Conv2D)            (None, 2, 2, 256)         65792     \n",
      "_________________________________________________________________\n",
      "batch_normalization_4 (Batch (None, 2, 2, 256)         1024      \n",
      "_________________________________________________________________\n",
      "max_pooling2d_2 (MaxPooling2 (None, 1, 1, 256)         0         \n",
      "_________________________________________________________________\n",
      "flatten_1 (Flatten)          (None, 256)               0         \n",
      "_________________________________________________________________\n",
      "dense_5 (Dense)              (None, 1024)              263168    \n",
      "_________________________________________________________________\n",
      "dropout (Dropout)            (None, 1024)              0         \n",
      "_________________________________________________________________\n",
      "dense_6 (Dense)              (None, 1024)              1049600   \n",
      "_________________________________________________________________\n",
      "dropout_1 (Dropout)          (None, 1024)              0         \n",
      "_________________________________________________________________\n",
      "dense_7 (Dense)              (None, 10)                10250     \n",
      "=================================================================\n",
      "Total params: 2,915,338\n",
      "Trainable params: 2,913,034\n",
      "Non-trainable params: 2,304\n",
      "_________________________________________________________________\n"
     ]
    }
   ],
   "source": [
    "model.compile(\n",
    "    loss='sparse_categorical_crossentropy',\n",
    "    optimizer=tf.optimizers.SGD(lr=0.001),\n",
    "    metrics=['accuracy']    \n",
    ")\n",
    "model.summary()"
   ]
  },
  {
   "cell_type": "markdown",
   "id": "01e6e867",
   "metadata": {},
   "source": [
    "At this point, we are ready to train the network.\n",
    "\n",
    "Training the custom AlexNet network is very simple with the Keras module enabled through TensorFlow. We simply have to call the fit() method and pass relevant arguments.\n",
    "\n",
    "Epoch: This is a numeric value that indicates the number of time a network has been exposed to all the data points within a training dataset."
   ]
  },
  {
   "cell_type": "code",
   "execution_count": 33,
   "id": "6fa4a36a",
   "metadata": {},
   "outputs": [
    {
     "name": "stdout",
     "output_type": "stream",
     "text": [
      "Epoch 1/50\n",
      "1562/1562 [==============================] - 33s 14ms/step - loss: 2.4591 - accuracy: 0.1878 - val_loss: 1.6988 - val_accuracy: 0.3925\n",
      "Epoch 2/50\n",
      "1562/1562 [==============================] - 31s 14ms/step - loss: 1.8495 - accuracy: 0.3324 - val_loss: 1.5596 - val_accuracy: 0.4362\n",
      "Epoch 3/50\n",
      "1562/1562 [==============================] - 31s 13ms/step - loss: 1.6832 - accuracy: 0.3896 - val_loss: 1.4645 - val_accuracy: 0.4771\n",
      "Epoch 4/50\n",
      "1562/1562 [==============================] - 32s 14ms/step - loss: 1.5484 - accuracy: 0.4411 - val_loss: 1.3894 - val_accuracy: 0.5078\n",
      "Epoch 5/50\n",
      "1562/1562 [==============================] - 31s 14ms/step - loss: 1.4537 - accuracy: 0.4763 - val_loss: 1.3526 - val_accuracy: 0.5226\n",
      "Epoch 6/50\n",
      "1562/1562 [==============================] - 30s 14ms/step - loss: 1.3658 - accuracy: 0.5103 - val_loss: 1.3062 - val_accuracy: 0.5372\n",
      "Epoch 7/50\n",
      "1562/1562 [==============================] - 31s 13ms/step - loss: 1.2952 - accuracy: 0.5403 - val_loss: 1.2378 - val_accuracy: 0.5626\n",
      "Epoch 8/50\n",
      "1562/1562 [==============================] - 32s 14ms/step - loss: 1.2323 - accuracy: 0.5657 - val_loss: 1.2074 - val_accuracy: 0.5764\n",
      "Epoch 9/50\n",
      "1562/1562 [==============================] - 33s 15ms/step - loss: 1.1618 - accuracy: 0.5870 - val_loss: 1.1909 - val_accuracy: 0.5806\n",
      "Epoch 10/50\n",
      "1562/1562 [==============================] - 32s 14ms/step - loss: 1.1069 - accuracy: 0.6107 - val_loss: 1.1728 - val_accuracy: 0.5895\n",
      "Epoch 11/50\n",
      "1562/1562 [==============================] - 33s 15ms/step - loss: 1.0461 - accuracy: 0.6310 - val_loss: 1.1412 - val_accuracy: 0.6021\n",
      "Epoch 12/50\n",
      "1562/1562 [==============================] - 32s 14ms/step - loss: 0.9894 - accuracy: 0.6514 - val_loss: 1.1589 - val_accuracy: 0.6015\n",
      "Epoch 13/50\n",
      "1562/1562 [==============================] - 33s 15ms/step - loss: 0.9384 - accuracy: 0.6720 - val_loss: 1.1343 - val_accuracy: 0.6104\n",
      "Epoch 14/50\n",
      "1562/1562 [==============================] - 32s 14ms/step - loss: 0.8922 - accuracy: 0.6884 - val_loss: 1.1394 - val_accuracy: 0.6150\n",
      "Epoch 15/50\n",
      "1562/1562 [==============================] - 32s 14ms/step - loss: 0.8359 - accuracy: 0.7069 - val_loss: 1.1499 - val_accuracy: 0.6167\n",
      "Epoch 16/50\n",
      "1562/1562 [==============================] - 31s 14ms/step - loss: 0.7806 - accuracy: 0.7271 - val_loss: 1.1648 - val_accuracy: 0.6165\n",
      "Epoch 17/50\n",
      "1562/1562 [==============================] - 30s 13ms/step - loss: 0.7317 - accuracy: 0.7442 - val_loss: 1.1666 - val_accuracy: 0.6165\n",
      "Epoch 18/50\n",
      "1562/1562 [==============================] - 32s 14ms/step - loss: 0.6741 - accuracy: 0.7619 - val_loss: 1.2236 - val_accuracy: 0.6113\n",
      "Epoch 19/50\n",
      "1562/1562 [==============================] - 31s 14ms/step - loss: 0.6330 - accuracy: 0.7762 - val_loss: 1.2038 - val_accuracy: 0.6202\n",
      "Epoch 20/50\n",
      "1562/1562 [==============================] - 31s 14ms/step - loss: 0.5778 - accuracy: 0.7989 - val_loss: 1.2705 - val_accuracy: 0.6167\n",
      "Epoch 21/50\n",
      "1562/1562 [==============================] - 32s 14ms/step - loss: 0.5385 - accuracy: 0.8101 - val_loss: 1.3697 - val_accuracy: 0.6018\n",
      "Epoch 22/50\n",
      "1562/1562 [==============================] - 32s 14ms/step - loss: 0.4901 - accuracy: 0.8298 - val_loss: 1.3285 - val_accuracy: 0.6139\n",
      "Epoch 23/50\n",
      "1562/1562 [==============================] - 32s 14ms/step - loss: 0.4514 - accuracy: 0.8434 - val_loss: 1.3778 - val_accuracy: 0.6058\n",
      "Epoch 24/50\n",
      "1562/1562 [==============================] - 32s 14ms/step - loss: 0.4149 - accuracy: 0.8519 - val_loss: 1.4299 - val_accuracy: 0.6033\n",
      "Epoch 25/50\n",
      "1562/1562 [==============================] - 31s 13ms/step - loss: 0.3854 - accuracy: 0.8672 - val_loss: 1.4513 - val_accuracy: 0.6059\n",
      "Epoch 26/50\n",
      "1562/1562 [==============================] - 31s 13ms/step - loss: 0.3439 - accuracy: 0.8782 - val_loss: 1.5584 - val_accuracy: 0.6024\n",
      "Epoch 27/50\n",
      "1562/1562 [==============================] - 31s 14ms/step - loss: 0.3111 - accuracy: 0.8922 - val_loss: 1.6066 - val_accuracy: 0.6056\n",
      "Epoch 28/50\n",
      "1562/1562 [==============================] - 32s 14ms/step - loss: 0.2930 - accuracy: 0.8970 - val_loss: 1.6068 - val_accuracy: 0.6062\n",
      "Epoch 29/50\n",
      "1562/1562 [==============================] - 32s 14ms/step - loss: 0.2655 - accuracy: 0.9087 - val_loss: 1.6224 - val_accuracy: 0.6112\n",
      "Epoch 30/50\n",
      "1562/1562 [==============================] - 30s 13ms/step - loss: 0.2436 - accuracy: 0.9148 - val_loss: 1.6933 - val_accuracy: 0.6121\n",
      "Epoch 31/50\n",
      "1562/1562 [==============================] - 32s 14ms/step - loss: 0.2199 - accuracy: 0.9225 - val_loss: 1.7512 - val_accuracy: 0.6117\n",
      "Epoch 32/50\n",
      "1562/1562 [==============================] - 32s 14ms/step - loss: 0.2029 - accuracy: 0.9319 - val_loss: 1.8027 - val_accuracy: 0.6024\n",
      "Epoch 33/50\n",
      "1562/1562 [==============================] - 33s 14ms/step - loss: 0.1858 - accuracy: 0.9369 - val_loss: 1.8877 - val_accuracy: 0.6025\n",
      "Epoch 34/50\n",
      "1562/1562 [==============================] - 31s 13ms/step - loss: 0.1829 - accuracy: 0.9366 - val_loss: 1.9513 - val_accuracy: 0.5967\n",
      "Epoch 35/50\n",
      "1562/1562 [==============================] - 31s 14ms/step - loss: 0.1725 - accuracy: 0.9403 - val_loss: 2.0481 - val_accuracy: 0.5910\n",
      "Epoch 36/50\n",
      "1562/1562 [==============================] - 31s 14ms/step - loss: 0.1489 - accuracy: 0.9488 - val_loss: 1.9257 - val_accuracy: 0.6082\n",
      "Epoch 37/50\n",
      "1562/1562 [==============================] - 31s 13ms/step - loss: 0.1359 - accuracy: 0.9546 - val_loss: 2.0656 - val_accuracy: 0.5952\n",
      "Epoch 38/50\n",
      "1562/1562 [==============================] - 31s 14ms/step - loss: 0.1247 - accuracy: 0.9575 - val_loss: 1.9947 - val_accuracy: 0.6046\n",
      "Epoch 39/50\n",
      "1562/1562 [==============================] - 31s 13ms/step - loss: 0.1177 - accuracy: 0.9600 - val_loss: 2.0894 - val_accuracy: 0.6023\n",
      "Epoch 40/50\n",
      "1562/1562 [==============================] - 30s 13ms/step - loss: 0.1076 - accuracy: 0.9639 - val_loss: 2.2050 - val_accuracy: 0.5883\n",
      "Epoch 41/50\n",
      "1562/1562 [==============================] - 31s 14ms/step - loss: 0.1056 - accuracy: 0.9636 - val_loss: 2.1147 - val_accuracy: 0.6158\n",
      "Epoch 42/50\n",
      "1562/1562 [==============================] - 32s 14ms/step - loss: 0.1016 - accuracy: 0.9649 - val_loss: 2.1829 - val_accuracy: 0.6042\n",
      "Epoch 43/50\n",
      "1562/1562 [==============================] - 32s 14ms/step - loss: 0.0934 - accuracy: 0.9685 - val_loss: 2.3051 - val_accuracy: 0.5970\n",
      "Epoch 44/50\n",
      "1562/1562 [==============================] - 32s 14ms/step - loss: 0.0909 - accuracy: 0.9689 - val_loss: 2.1859 - val_accuracy: 0.6047\n",
      "Epoch 45/50\n",
      "1562/1562 [==============================] - 31s 14ms/step - loss: 0.0835 - accuracy: 0.9720 - val_loss: 2.2959 - val_accuracy: 0.6028\n",
      "Epoch 46/50\n",
      "1562/1562 [==============================] - 31s 14ms/step - loss: 0.0868 - accuracy: 0.9703 - val_loss: 2.1939 - val_accuracy: 0.6095\n",
      "Epoch 47/50\n",
      "1562/1562 [==============================] - 31s 14ms/step - loss: 0.0734 - accuracy: 0.9754 - val_loss: 2.3416 - val_accuracy: 0.6066\n",
      "Epoch 48/50\n",
      "1562/1562 [==============================] - 33s 15ms/step - loss: 0.0704 - accuracy: 0.9768 - val_loss: 2.3491 - val_accuracy: 0.6022\n",
      "Epoch 49/50\n",
      "1562/1562 [==============================] - 31s 14ms/step - loss: 0.0704 - accuracy: 0.9769 - val_loss: 2.4120 - val_accuracy: 0.6044\n",
      "Epoch 50/50\n",
      "1562/1562 [==============================] - 31s 14ms/step - loss: 0.0645 - accuracy: 0.9790 - val_loss: 2.3201 - val_accuracy: 0.6042\n"
     ]
    }
   ],
   "source": [
    "history=model.fit(\n",
    "    train_ds,\n",
    "    epochs=50,\n",
    "    validation_data=test_ds,\n",
    "    validation_freq=1\n",
    ")"
   ]
  },
  {
   "cell_type": "code",
   "execution_count": 34,
   "id": "6174fe0c",
   "metadata": {},
   "outputs": [],
   "source": [
    "import time\n",
    "import os\n",
    "import copy\n",
    "import csv\n",
    "import pandas as pd\n",
    "from datetime import datetime"
   ]
  },
  {
   "cell_type": "code",
   "execution_count": 38,
   "id": "d455275b",
   "metadata": {},
   "outputs": [],
   "source": [
    "def export_history_csv(history_, model_name):\n",
    "  since = time.time()\n",
    "  date = datetime.today().strftime('%Y-%m-%d-%H:%M:%S')\n",
    "  data_file = open('./data/23-08-2021/tf_exp_train_{}_{}.csv'.format(model_name, date), mode='w+', newline='', encoding='utf-8')\n",
    "  data_writer = csv.writer(data_file, delimiter=',', quotechar='\"', quoting=csv.QUOTE_MINIMAL)\n",
    "  data_writer.writerow(['Model','type', 'Dataset', 'Epoch', 'criterion', 'optimizer', 'scheduler','Train_loss', 'Train_acc', \"val_loss\", \"Val_acc\", 'time','Elapse_time','date'])\n",
    "  for epoch_ in history_.epoch:\n",
    "    data_writer.writerow([history_.model,'tensorflow', 'hymenoptera', epoch_, '', \n",
    "                          history_.model.optimizer, '',history_.history['loss'][epoch_], history_.history['accuracy'][epoch_], \n",
    "                          history_.history['val_loss'][epoch_], history_.history['val_accuracy'][epoch_], '','',date])\n",
    "  data_file.close()"
   ]
  },
  {
   "cell_type": "code",
   "execution_count": 39,
   "id": "ee9b08d5",
   "metadata": {},
   "outputs": [],
   "source": [
    "export_history_csv(history, 'Alexnet-cifar10')"
   ]
  },
  {
   "cell_type": "code",
   "execution_count": 37,
   "id": "9027db42",
   "metadata": {},
   "outputs": [
    {
     "name": "stdout",
     "output_type": "stream",
     "text": [
      "Model: \"sequential_1\"\n",
      "_________________________________________________________________\n",
      "Layer (type)                 Output Shape              Param #   \n",
      "=================================================================\n",
      "conv2d (Conv2D)              (None, 14, 14, 128)       46592     \n",
      "_________________________________________________________________\n",
      "batch_normalization (BatchNo (None, 14, 14, 128)       512       \n",
      "_________________________________________________________________\n",
      "max_pooling2d (MaxPooling2D) (None, 7, 7, 128)         0         \n",
      "_________________________________________________________________\n",
      "conv2d_1 (Conv2D)            (None, 7, 7, 256)         819456    \n",
      "_________________________________________________________________\n",
      "batch_normalization_1 (Batch (None, 7, 7, 256)         1024      \n",
      "_________________________________________________________________\n",
      "max_pooling2d_1 (MaxPooling2 (None, 2, 2, 256)         0         \n",
      "_________________________________________________________________\n",
      "conv2d_2 (Conv2D)            (None, 2, 2, 256)         590080    \n",
      "_________________________________________________________________\n",
      "batch_normalization_2 (Batch (None, 2, 2, 256)         1024      \n",
      "_________________________________________________________________\n",
      "conv2d_3 (Conv2D)            (None, 2, 2, 256)         65792     \n",
      "_________________________________________________________________\n",
      "batch_normalization_3 (Batch (None, 2, 2, 256)         1024      \n",
      "_________________________________________________________________\n",
      "conv2d_4 (Conv2D)            (None, 2, 2, 256)         65792     \n",
      "_________________________________________________________________\n",
      "batch_normalization_4 (Batch (None, 2, 2, 256)         1024      \n",
      "_________________________________________________________________\n",
      "max_pooling2d_2 (MaxPooling2 (None, 1, 1, 256)         0         \n",
      "_________________________________________________________________\n",
      "flatten_1 (Flatten)          (None, 256)               0         \n",
      "_________________________________________________________________\n",
      "dense_5 (Dense)              (None, 1024)              263168    \n",
      "_________________________________________________________________\n",
      "dropout (Dropout)            (None, 1024)              0         \n",
      "_________________________________________________________________\n",
      "dense_6 (Dense)              (None, 1024)              1049600   \n",
      "_________________________________________________________________\n",
      "dropout_1 (Dropout)          (None, 1024)              0         \n",
      "_________________________________________________________________\n",
      "dense_7 (Dense)              (None, 10)                10250     \n",
      "=================================================================\n",
      "Total params: 2,915,338\n",
      "Trainable params: 2,913,034\n",
      "Non-trainable params: 2,304\n",
      "_________________________________________________________________\n"
     ]
    }
   ],
   "source": [
    "date = datetime.today().strftime('%Y-%m-%d-%H:%M:%S')\n",
    "model.save(\"./data/23-08-2021/tf_alexnet_cifar10_{}.h5\".format(date))\n",
    "model.summary()"
   ]
  },
  {
   "cell_type": "code",
   "execution_count": 40,
   "id": "d9ff3a70",
   "metadata": {},
   "outputs": [
    {
     "data": {
      "text/plain": [
       "dict_keys(['loss', 'accuracy', 'val_loss', 'val_accuracy'])"
      ]
     },
     "execution_count": 40,
     "metadata": {},
     "output_type": "execute_result"
    }
   ],
   "source": [
    "model.history.history.keys()"
   ]
  },
  {
   "cell_type": "markdown",
   "id": "13757251",
   "metadata": {},
   "source": [
    "Now we will visualize the training over the different epochs ."
   ]
  },
  {
   "cell_type": "code",
   "execution_count": 41,
   "id": "96dbe193",
   "metadata": {},
   "outputs": [
    {
     "data": {
      "text/plain": [
       "<matplotlib.legend.Legend at 0x7f16642d7c10>"
      ]
     },
     "execution_count": 41,
     "metadata": {},
     "output_type": "execute_result"
    },
    {
     "data": {
      "image/png": "[encoded data removed]",
      "text/plain": [
       "<Figure size 720x720 with 2 Axes>"
      ]
     },
     "metadata": {
      "needs_background": "light"
     },
     "output_type": "display_data"
    }
   ],
   "source": [
    "f,ax=plt.subplots(2,1,figsize=(10,10)) \n",
    "\n",
    "#Assigning the first subplot to graph training loss and validation loss\n",
    "ax[0].plot(model.history.history['loss'],color='b',label='Training Loss')\n",
    "ax[0].plot(model.history.history['val_loss'],color='r',label='Validation Loss')\n",
    "\n",
    "#Plotting the training accuracy and validation accuracy\n",
    "ax[1].plot(model.history.history['accuracy'],color='b',label='Training  Accuracy')\n",
    "ax[1].plot(model.history.history['val_accuracy'],color='r',label='Validation Accuracy')\n",
    "\n",
    "plt.legend()"
   ]
  },
  {
   "cell_type": "code",
   "execution_count": null,
   "id": "9fc2c7a1",
   "metadata": {},
   "outputs": [],
   "source": []
  },
  {
   "cell_type": "code",
   "execution_count": null,
   "id": "8c7ea3c5",
   "metadata": {},
   "outputs": [],
   "source": []
  },
  {
   "cell_type": "markdown",
   "id": "5074f922",
   "metadata": {},
   "source": [
    "# Densnet Keras"
   ]
  },
  {
   "cell_type": "code",
   "execution_count": 50,
   "id": "6226c8c0",
   "metadata": {},
   "outputs": [],
   "source": [
    "import numpy\n",
    "from tensorflow.keras.models import Sequential\n",
    "from tensorflow.keras.layers import Dense,Dropout,Flatten,Conv2D,MaxPooling2D\n",
    "#from tensorflow.keras.constraints import maxnorm\n",
    "from tensorflow.keras.optimizers import SGD\n",
    "#from tensorflow.keras.utils import np_utils \n",
    "from tensorflow.keras import backend as K \n",
    "import tensorflow\n",
    "#K.set_image_dim_ordering('tf')"
   ]
  },
  {
   "cell_type": "code",
   "execution_count": 46,
   "id": "375b8c64",
   "metadata": {},
   "outputs": [],
   "source": [
    "from keras.datasets import cifar10\n",
    "# let's load data \n",
    "(X_train, y_train), (X_test, y_test) = cifar10.load_data()"
   ]
  },
  {
   "cell_type": "markdown",
   "id": "629cfe0d",
   "metadata": {},
   "source": [
    "### Normalization and One-Hot Encoding\n",
    "\n",
    "Images are comprised of matrices of pixel values. Normally, pixels are expected to have value in the range 0-255. We need to normalize these values to a range between 0 and 1."
   ]
  },
  {
   "cell_type": "code",
   "execution_count": 47,
   "id": "f4fb63d4",
   "metadata": {},
   "outputs": [],
   "source": [
    "#normalizing inputs from 0-255 to 0.0-1.0 \n",
    "X_train = X_train.astype('float32') \n",
    "X_test = X_test.astype('float32') \n",
    "X_train = X_train / 255.0 \n",
    "X_test = X_test / 255.0"
   ]
  },
  {
   "cell_type": "markdown",
   "id": "8bdb07a8",
   "metadata": {},
   "source": [
    "Now, we need to do one-hot encoding of these data so that it could be provided to machine learning algorithms to do a better job in prediction. One-hot is a group of bits among which the legal combinations of values are only those with a single high bit and all the others low. "
   ]
  },
  {
   "cell_type": "code",
   "execution_count": 51,
   "id": "f3ceca38",
   "metadata": {},
   "outputs": [],
   "source": [
    "# one hot encode outputs \n",
    "y_train = tensorflow.keras.utils.to_categorical(y_train) \n",
    "y_test = tensorflow.keras.utils.to_categorical(y_test) \n",
    "num_classes = y_test.shape[1]"
   ]
  },
  {
   "cell_type": "markdown",
   "id": "a7d5b1ca",
   "metadata": {},
   "source": [
    "his will convert the matrices into binary matrices of width 10. We can’t just give the categorical data to the machine for processing. So, we need to do the above steps to make the data more processable for the machine.\n",
    "\n",
    "## Creating the Image Classification Model\n",
    "\n",
    "Let’s initialize a convolutional neural network using the sequential model of keras."
   ]
  },
  {
   "cell_type": "code",
   "execution_count": 52,
   "id": "dbf56549",
   "metadata": {},
   "outputs": [],
   "source": [
    "# Create the model \n",
    "model = Sequential()"
   ]
  },
  {
   "cell_type": "markdown",
   "id": "6dfa15c0",
   "metadata": {},
   "source": [
    "You can use either Sequential or Functional methods for creating keras models. We are using sequential here to build our model since it allows us to create the model layer-by-layer.\n",
    "\n",
    "Now, we are going to add all the layers required for our convolutional neural network."
   ]
  },
  {
   "cell_type": "code",
   "execution_count": 54,
   "id": "9e468e0d",
   "metadata": {},
   "outputs": [
    {
     "ename": "NameError",
     "evalue": "name 'maxnorm' is not defined",
     "output_type": "error",
     "traceback": [
      "\u001b[0;31m---------------------------------------------------------------------------\u001b[0m",
      "\u001b[0;31mNameError\u001b[0m                                 Traceback (most recent call last)",
      "\u001b[0;32m<ipython-input-54-511f192389b4>\u001b[0m in \u001b[0;36m<module>\u001b[0;34m\u001b[0m\n\u001b[1;32m     13\u001b[0m \u001b[0mmodel\u001b[0m\u001b[0;34m.\u001b[0m\u001b[0madd\u001b[0m\u001b[0;34m(\u001b[0m\u001b[0mFlatten\u001b[0m\u001b[0;34m(\u001b[0m\u001b[0;34m)\u001b[0m\u001b[0;34m)\u001b[0m\u001b[0;34m\u001b[0m\u001b[0;34m\u001b[0m\u001b[0m\n\u001b[1;32m     14\u001b[0m \u001b[0mmodel\u001b[0m\u001b[0;34m.\u001b[0m\u001b[0madd\u001b[0m\u001b[0;34m(\u001b[0m\u001b[0mDropout\u001b[0m\u001b[0;34m(\u001b[0m\u001b[0;36m0.2\u001b[0m\u001b[0;34m)\u001b[0m\u001b[0;34m)\u001b[0m\u001b[0;34m\u001b[0m\u001b[0;34m\u001b[0m\u001b[0m\n\u001b[0;32m---> 15\u001b[0;31m \u001b[0mmodel\u001b[0m\u001b[0;34m.\u001b[0m\u001b[0madd\u001b[0m\u001b[0;34m(\u001b[0m\u001b[0mDense\u001b[0m\u001b[0;34m(\u001b[0m\u001b[0;36m1024\u001b[0m\u001b[0;34m,\u001b[0m \u001b[0mactivation\u001b[0m\u001b[0;34m=\u001b[0m\u001b[0;34m'relu'\u001b[0m\u001b[0;34m,\u001b[0m \u001b[0mkernel_constraint\u001b[0m\u001b[0;34m=\u001b[0m\u001b[0mmaxnorm\u001b[0m\u001b[0;34m(\u001b[0m\u001b[0;36m3\u001b[0m\u001b[0;34m)\u001b[0m\u001b[0;34m)\u001b[0m\u001b[0;34m)\u001b[0m\u001b[0;34m\u001b[0m\u001b[0;34m\u001b[0m\u001b[0m\n\u001b[0m\u001b[1;32m     16\u001b[0m \u001b[0mmodel\u001b[0m\u001b[0;34m.\u001b[0m\u001b[0madd\u001b[0m\u001b[0;34m(\u001b[0m\u001b[0mDropout\u001b[0m\u001b[0;34m(\u001b[0m\u001b[0;36m0.2\u001b[0m\u001b[0;34m)\u001b[0m\u001b[0;34m)\u001b[0m\u001b[0;34m\u001b[0m\u001b[0;34m\u001b[0m\u001b[0m\n\u001b[1;32m     17\u001b[0m \u001b[0mmodel\u001b[0m\u001b[0;34m.\u001b[0m\u001b[0madd\u001b[0m\u001b[0;34m(\u001b[0m\u001b[0mDense\u001b[0m\u001b[0;34m(\u001b[0m\u001b[0;36m512\u001b[0m\u001b[0;34m,\u001b[0m \u001b[0mactivation\u001b[0m\u001b[0;34m=\u001b[0m\u001b[0;34m'relu'\u001b[0m\u001b[0;34m,\u001b[0m \u001b[0mkernel_constraint\u001b[0m\u001b[0;34m=\u001b[0m\u001b[0mmaxnorm\u001b[0m\u001b[0;34m(\u001b[0m\u001b[0;36m3\u001b[0m\u001b[0;34m)\u001b[0m\u001b[0;34m)\u001b[0m\u001b[0;34m)\u001b[0m\u001b[0;34m\u001b[0m\u001b[0;34m\u001b[0m\u001b[0m\n",
      "\u001b[0;31mNameError\u001b[0m: name 'maxnorm' is not defined"
     ]
    }
   ],
   "source": [
    "model.add(Conv2D(32, (3, 3), input_shape=(32,32,3), activation='relu', padding='same')) \n",
    "model.add(Dropout(0.2)) \n",
    "model.add(Conv2D(32, (3, 3), activation='relu', padding='same')) \n",
    "model.add(MaxPooling2D(pool_size=(2, 2))) \n",
    "model.add(Conv2D(64, (3, 3), activation='relu', padding='same')) \n",
    "model.add(Dropout(0.2)) \n",
    "model.add(Conv2D(64, (3, 3), activation='relu', padding='same')) \n",
    "model.add(MaxPooling2D(pool_size=(2, 2))) \n",
    "model.add(Conv2D(128, (3, 3), activation='relu', padding='same')) \n",
    "model.add(Dropout(0.2)) \n",
    "model.add(Conv2D(128, (3, 3), activation='relu', padding='same')) \n",
    "model.add(MaxPooling2D(pool_size=(2, 2))) \n",
    "model.add(Flatten()) \n",
    "model.add(Dropout(0.2)) \n",
    "model.add(Dense(1024, activation='relu', kernel_constraint=maxnorm(3))) \n",
    "model.add(Dropout(0.2)) \n",
    "model.add(Dense(512, activation='relu', kernel_constraint=maxnorm(3))) \n",
    "model.add(Dropout(0.2)) \n",
    "model.add(Dense(num_classes, activation='softmax'))"
   ]
  },
  {
   "cell_type": "code",
   "execution_count": null,
   "id": "c8c7d37c",
   "metadata": {},
   "outputs": [],
   "source": []
  }
 ],
 "metadata": {
  "kernelspec": {
   "display_name": "Python 3",
   "language": "python",
   "name": "python3"
  },
  "language_info": {
   "codemirror_mode": {
    "name": "ipython",
    "version": 3
   },
   "file_extension": ".py",
   "mimetype": "text/x-python",
   "name": "python",
   "nbconvert_exporter": "python",
   "pygments_lexer": "ipython3",
   "version": "3.9.6"
  }
 },
 "nbformat": 4,
 "nbformat_minor": 5
}
