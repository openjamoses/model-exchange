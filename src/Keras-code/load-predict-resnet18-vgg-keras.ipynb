{
 "cells": [
  {
   "cell_type": "code",
   "execution_count": 1,
   "metadata": {},
   "outputs": [],
   "source": [
    "import tensorflow.keras as K\n",
    "import tensorflow as tf\n",
    "from tensorflow import keras\n",
    "from tensorflow.keras.models import load_model\n",
    "import time\n",
    "import os\n",
    "import copy\n",
    "import csv\n",
    "from tensorflow import keras\n",
    "import tensorflow as tf\n",
    "import pandas as pd\n",
    "from datetime import datetime\n",
    "from sklearn import metrics\n",
    "import tf2onnx\n",
    "import numpy as np\n",
    "import math"
   ]
  },
  {
   "cell_type": "code",
   "execution_count": 2,
   "metadata": {},
   "outputs": [],
   "source": [
    "n_classes = 10\n",
    "nb_classes = 10\n",
    "input_shape = (28, 28) #Lenet5\n",
    "#batch_size = 500 # Lenet\n",
    "batch_size = 500 # Lenet\n",
    "input_shape = (28, 28) #Lenet5"
   ]
  },
  {
   "cell_type": "code",
   "execution_count": 3,
   "metadata": {},
   "outputs": [
    {
     "name": "stdout",
     "output_type": "stream",
     "text": [
      "((50000, 32, 32, 3), (50000, 10))\n",
      "((10000, 32, 32, 3), (10000, 10))\n"
     ]
    }
   ],
   "source": [
    "img_rows, img_cols = 64, 64\n",
    "(x_train, y_train), (x_test, y_test) = K.datasets.cifar10.load_data()\n",
    "#x_train = x_train.reshape(x_train.shape[0], img_rows, img_cols, 1)\n",
    "#x_test = x_test.reshape(x_test.shape[0], img_rows, img_cols, 1)\n",
    "x_train = x_train.astype('float32')\n",
    "x_test = x_test.astype('float32') \n",
    "y_train = tf.keras.utils.to_categorical(y_train, nb_classes)\n",
    "y_test = tf.keras.utils.to_categorical(y_test, nb_classes)\n",
    "datagen = tf.keras.preprocessing.image.ImageDataGenerator(\n",
    "    featurewise_center=True,\n",
    "    featurewise_std_normalization=True,\n",
    "    rotation_range=20,\n",
    "    width_shift_range=0.2,\n",
    "    height_shift_range=0.2,\n",
    "    horizontal_flip=True,\n",
    "    validation_split=0.2)\n",
    "# compute quantities required for featurewise normalization\n",
    "# (std, mean, and principal components if ZCA whitening is applied)\n",
    "datagen.fit(x_test)\n",
    "\n",
    "\n",
    "print((x_train.shape,y_train.shape))\n",
    "#print((x_val.shape,y_val.shape))\n",
    "print((x_test.shape,y_test.shape))"
   ]
  },
  {
   "cell_type": "code",
   "execution_count": 4,
   "metadata": {},
   "outputs": [],
   "source": [
    "training_id = 10\n",
    "model_short_name = 'resnet'\n",
    "framework = 'keras'"
   ]
  },
  {
   "cell_type": "code",
   "execution_count": 9,
   "metadata": {},
   "outputs": [
    {
     "name": "stdout",
     "output_type": "stream",
     "text": [
      "0.6717648506164551\n"
     ]
    }
   ],
   "source": [
    "path = '/Volumes/Cisco/Fall2021/onnx-exchange/Training/Keras/resnet18/'\n",
    "since_0 = time.time()\n",
    "#model_path = 'tf_Lenet5_mnist_2021-08-24-10:35:35'\n",
    "#model_name = 'tf_alexnet_cifar10_2021-08-27-17:05:27'\n",
    "model_name = 'tf_resnet18-cifar10_2021-10-29_{}'.format(training_id)\n",
    "model = tf.keras.models.load_model(path+ model_name+'.h5')\n",
    "t_elapsed_0 = time.time() - since_0\n",
    "size0 = os.path.getsize(path+ model_name+'.h5')\n",
    "size0\n",
    "\n",
    "print(t_elapsed_0)"
   ]
  },
  {
   "cell_type": "code",
   "execution_count": 8,
   "metadata": {},
   "outputs": [
    {
     "data": {
      "text/plain": [
       "89756056"
      ]
     },
     "execution_count": 8,
     "metadata": {},
     "output_type": "execute_result"
    }
   ],
   "source": [
    "size1 = os.path.getsize(path+ model_name+'.h5')\n",
    "size1"
   ]
  },
  {
   "cell_type": "code",
   "execution_count": 10,
   "metadata": {},
   "outputs": [
    {
     "name": "stderr",
     "output_type": "stream",
     "text": [
      "WARNING:root:scikit-learn version 1.0.2 is not supported. Minimum required version: 0.17. Maximum required version: 0.19.2. Disabling scikit-learn conversion API.\n",
      "WARNING:root:TensorFlow version 2.5.0 detected. Last version known to be fully compatible is 2.3.1 .\n",
      "Using TensorFlow backend.\n"
     ]
    }
   ],
   "source": [
    "import onnx\n",
    "import onnxruntime\n",
    "import coremltools\n",
    "import time"
   ]
  },
  {
   "cell_type": "code",
   "execution_count": 16,
   "metadata": {},
   "outputs": [],
   "source": [
    "onnx_path = '/Volumes/Cisco/Fall2021/onnx-exchange/conversion/onnx11/'\n",
    "coreml_path = '/Volumes/Cisco/Fall2021/onnx-exchange/conversion/coremltools11/'\n",
    "error_path = '/Volumes/Cisco/Fall2021/onnx-exchange/conversion/errors11/'\n",
    "restored_path = '/Volumes/Cisco/Fall2021/onnx-exchange/conversion/restored11/'"
   ]
  },
  {
   "cell_type": "code",
   "execution_count": 25,
   "metadata": {},
   "outputs": [],
   "source": [
    "def to_onnx(i, x, data_writer_error, data_writer_error2, data_writer_run, batch_size, input_):\n",
    "    # Input to the model\n",
    "    #device_reset = cuda.get_current_device()\n",
    "    #device_reset.reset()\n",
    "    #x.cuda()\n",
    "   \n",
    "    print(\"converting for batch: \", i)\n",
    "    \n",
    "    #torch.random.manual_seed(42)\n",
    "    #x = torch.randn(10000, 3, 32, 32, requires_grad=True)\n",
    "    since_ = time.time()\n",
    "    since_1 = time.time()\n",
    "    #model = torch.load(path+model_name+'.pth')\n",
    "    with tf.device('/cpu:0'): \n",
    "        k_predict = model.predict(x)\n",
    "    t_elapsed_1 = time.time() - since_1\n",
    "    # Export the model\n",
    "    \n",
    "    if not os.path.exists(onnx_path+framework+\"/{}\".format(model_short_name)):\n",
    "        os.makedirs(onnx_path+framework+\"/{}\".format(model_short_name))\n",
    "    if not os.path.exists(coreml_path+framework+\"/{}\".format(model_short_name)):\n",
    "        os.makedirs(coreml_path+framework+\"/{}\".format(model_short_name))\n",
    "        \n",
    "    since_1 = time.time()\n",
    "    \n",
    "    since_onnx = time.time()\n",
    "    model_proto, external_tensor_storage = tf2onnx.convert.from_keras(model,\n",
    "                input_signature=None, opset=11, custom_ops=None,\n",
    "                custom_op_handlers=None, custom_rewriter=None,\n",
    "                inputs_as_nchw=None, extra_opset=None, shape_override=None,\n",
    "                 target=None, large_model=False, output_path=onnx_path+framework+\"/{}/{}.onnx\".format(model_short_name, model_name))\n",
    "    \n",
    "    t_elapsed_2 = time.time() - since_1\n",
    "    \n",
    "    \n",
    "    onnx_model = onnx.load(onnx_path+framework+\"/{}/{}.onnx\".format(model_short_name, model_name))\n",
    "    onnx.checker.check_model(onnx_model)\n",
    "    size2 = os.path.getsize(onnx_path+framework+\"/{}/{}.onnx\".format(model_short_name, model_name))\n",
    "    #def to_numpy(tensor):\n",
    "    #    return tensor.detach().cpu().numpy() if tensor.requires_grad else tensor.cpu().numpy()\n",
    "    ort_session = onnxruntime.InferenceSession(onnx_path+framework+\"/{}/{}.onnx\".format(model_short_name, model_name))\n",
    "    since_1 = time.time()\n",
    "    ort_inputs = {ort_session.get_inputs()[0].name: x}\n",
    "    ort_outs = ort_session.run(None, ort_inputs)\n",
    "    t_elapsed_3 = time.time() - since_1\n",
    "    t_elapsed_ = time.time() - since_\n",
    "    t_elapsed_onnx = time.time() - since_onnx\n",
    "    # compare ONNX Runtime and PyTorch results\n",
    "    print(\"\\n*********\\n\\n\")\n",
    "    #time_diff = t_elapsed_0+t_elapsed_1, t_elapsed_2, t_elapsed_3\n",
    "    \n",
    "    abs_err = np.absolute(k_predict-ort_outs[0])\n",
    "    rel_err = np.absolute(k_predict-ort_outs[0])/ np.absolute(ort_outs[0])\n",
    "    #print('Batch: ', i, abs_err, rel_err)\n",
    "    \n",
    "    \n",
    "    np.testing.assert_array_equal(k_predict, ort_outs[0])\n",
    "    ## Converting the coremltool\n",
    "    since_1 = time.time()\n",
    "    coreml_model = coremltools.convert(model)\n",
    "    t_elapsed_4 = time.time() - since_1\n",
    "    since_1 = time.time()\n",
    "    coreml_model.save(coreml_path+framework+'/{}/{}.mlmodel'.format(model_short_name, model_name))\n",
    "    t_elapsed_5 = time.time() - since_1\n",
    "    \n",
    "    split_ = str(coreml_model.get_spec().description.input[0]).split('\\n')\n",
    "    name_1 = split_[0].replace('name: \"', '')\n",
    "    name_1 = name_1.replace('\"', '')\n",
    "    \n",
    "    size3 = os.path.getsize(coreml_path+framework+'/{}/{}.mlmodel'.format(model_short_name, model_name))\n",
    "    \n",
    "    since_1 = time.time()\n",
    "    output_dict_test = coreml_model.predict({name_1:x})\n",
    "    t_elapsed_6 = time.time() - since_1\n",
    "    t_elapsed2_ = time.time() - since_\n",
    "    \n",
    "    abs_err2 = np.absolute(k_predict-output_dict_test['Identity'])\n",
    "    rel_err2 = np.absolute(k_predict-output_dict_test['Identity'])/ np.absolute(output_dict_test['Identity'])\n",
    "    \n",
    "    for j in range (len(abs_err)):\n",
    "        for k in range(len(abs_err[j])): \n",
    "            data_writer_error.writerow([model_short_name,framework, training_id, model_name, batch_size, i, abs_err[j][k], rel_err[j][k]])\n",
    "    \n",
    "    \n",
    "    for j in range (len(abs_err2)):\n",
    "        for k in range(len(abs_err2[j])): \n",
    "            data_writer_error2.writerow([model_short_name,framework, training_id, model_name, batch_size, i, abs_err2[j][k], rel_err2[j][k]])\n",
    "      \n",
    "    data_writer_run.writerow([model_short_name, framework, training_id, model_name, batch_size, i,'onnx',size0, size2, t_elapsed_1, t_elapsed_3,  t_elapsed_2,'', t_elapsed_, np.mean(abs_err), np.median(abs_err), np.min(abs_err), np.max(abs_err), np.mean(rel_err), np.median(rel_err), np.min(rel_err), np.max(rel_err)])\n",
    "    data_writer_run.writerow([model_short_name, framework, training_id, model_name, batch_size, i,'coremltools',size0, size3, t_elapsed_1, t_elapsed_6, t_elapsed_4, t_elapsed_5, (t_elapsed2_-t_elapsed_onnx), np.mean(abs_err2), np.median(abs_err2), np.min(abs_err2), np.max(abs_err2), np.mean(rel_err2), np.median(rel_err2), np.min(rel_err2), np.max(rel_err2)])"
   ]
  },
  {
   "cell_type": "code",
   "execution_count": 26,
   "metadata": {},
   "outputs": [],
   "source": [
    "def _lets_convert(data, x, y, data_writer_error, data_writer_error2, data_writer_run, batch_size, input_): # for cifar10 etc\n",
    "    since = time.time()\n",
    "    batches = 0\n",
    "    for x_batch, y_batch in data.flow(x, y, batch_size=batch_size):\n",
    "        to_onnx(batches, x_batch,data_writer_error, data_writer_error2, data_writer_run, batch_size, input_)\n",
    "        batches += 1\n",
    "        if batches >= len(x_train) / batch_size:\n",
    "            # we need to break the loop by hand because\n",
    "            # the generator loops indefinitely\n",
    "            break\n",
    "        if batches == 10:\n",
    "            break\n",
    "    time_elapsed = time.time() - since\n",
    "    print('Conversion complete in {:.0f}m {:.0f}s'.format(time_elapsed // 60, time_elapsed % 60) )"
   ]
  },
  {
   "cell_type": "code",
   "execution_count": 27,
   "metadata": {},
   "outputs": [],
   "source": [
    "#model_name = 'letnet5-keras'\n",
    "import pandas as pd \n",
    "def run_experiment(model_short_name, model_name, input_):\n",
    "    if not os.path.exists(error_path+framework+\"/{}\".format(model_short_name)): \n",
    "        os.makedirs(error_path+framework+\"/{}\".format(model_short_name))\n",
    "\n",
    "    data_file_error = open(error_path + framework+'/{}/onnx_error_metrics_{}.csv'.format(model_short_name, model_name), mode='w', newline='',\n",
    "                                      encoding='utf-8')\n",
    "    data_writer_error = csv.writer(data_file_error, delimiter=',', quotechar='\"', quoting=csv.QUOTE_MINIMAL)\n",
    "    data_writer_error.writerow(['model','framework', 'training_id', 'model_full', \"batch_size\", 'round','absolute_error', 'relative_error'])\n",
    "\n",
    "\n",
    "    data_file_error2 = open(error_path + framework+'/{}/mlmore_error_metrics_{}.csv'.format(model_short_name, model_name), mode='w', newline='',\n",
    "                                      encoding='utf-8')\n",
    "    data_writer_error2 = csv.writer(data_file_error2, delimiter=',', quotechar='\"', quoting=csv.QUOTE_MINIMAL)\n",
    "    data_writer_error2.writerow(['model','framework', 'training_id', 'model_full', \"batch_size\", 'round','absolute_error', 'relative_error'])\n",
    "\n",
    "\n",
    "    data_file_run = open(error_path + framework+'/{}/runtime_metrics_{}.csv'.format(model_short_name, model_name), mode='w', newline='',\n",
    "                                      encoding='utf-8')\n",
    "    data_writer_run = csv.writer(data_file_run, delimiter=',', quotechar='\"', quoting=csv.QUOTE_MINIMAL)\n",
    "    data_writer_run.writerow(['model','framework', 'training_id', 'model_full', \"batch_size\", 'round','converter','original_size', 'converted_size', 'original_infererence_time', 'converted_infererence_time', 'conversion_time', 'saving_converted_time', 'overral_time', 'avg_abs_error', 'median_abs_error', 'min_abs_error', 'max_abs_error','avg_rel_error', 'median_rel_error', 'min_rel_error', 'max_rel_error'])\n",
    "\n",
    "    for batch_size in [1, 5,10,50,100,128, 150,200, 250,300,350, 400, 450, 500]:\n",
    "        print(\"################ Batch size: \", batch_size)\n",
    "        datagen = tf.keras.preprocessing.image.ImageDataGenerator(\n",
    "        featurewise_center=True,\n",
    "        featurewise_std_normalization=True,\n",
    "        rotation_range=20,\n",
    "        width_shift_range=0.2,\n",
    "        height_shift_range=0.2,\n",
    "        horizontal_flip=True,\n",
    "        validation_split=0.2)\n",
    "\n",
    "        datagen.fit(x_test)\n",
    "        _lets_convert(datagen,x_test, y_test, data_writer_error, data_writer_error2, data_writer_run, batch_size, input_)\n",
    "    data_file_error.close()\n",
    "    data_file_error2.close()\n",
    "    data_file_run.close()"
   ]
  },
  {
   "cell_type": "code",
   "execution_count": 28,
   "metadata": {},
   "outputs": [
    {
     "name": "stdout",
     "output_type": "stream",
     "text": [
      "################ Batch size:  1\n",
      "converting for batch:  0\n",
      "\n",
      "*********\n",
      "\n",
      "\n"
     ]
    },
    {
     "ename": "AssertionError",
     "evalue": "\nArrays are not equal\n\nMismatched elements: 10 / 10 (100%)\nMax absolute difference: 1.7695129e-07\nMax relative difference: 1.073789e-05\n x: array([[7.138716e-06, 4.579959e-06, 1.647933e-02, 4.962262e-06,\n        1.268875e-02, 2.943818e-03, 2.821678e-03, 5.195573e-06,\n        9.586660e-01, 6.378663e-03]], dtype=float32)\n y: array([[7.138670e-06, 4.579960e-06, 1.647915e-02, 4.962267e-06,\n        1.268877e-02, 2.943821e-03, 2.821665e-03, 5.195554e-06,\n        9.586661e-01, 6.378688e-03]], dtype=float32)",
     "output_type": "error",
     "traceback": [
      "\u001b[0;31m---------------------------------------------------------------------------\u001b[0m",
      "\u001b[0;31mAssertionError\u001b[0m                            Traceback (most recent call last)",
      "\u001b[0;32m<ipython-input-28-e91e15e4414b>\u001b[0m in \u001b[0;36m<module>\u001b[0;34m\u001b[0m\n\u001b[1;32m      1\u001b[0m \u001b[0;31m# run expriment resnet18\u001b[0m\u001b[0;34m\u001b[0m\u001b[0;34m\u001b[0m\u001b[0;34m\u001b[0m\u001b[0m\n\u001b[1;32m      2\u001b[0m \u001b[0minput_\u001b[0m \u001b[0;34m=\u001b[0m \u001b[0;34m'input_1'\u001b[0m\u001b[0;34m\u001b[0m\u001b[0;34m\u001b[0m\u001b[0m\n\u001b[0;32m----> 3\u001b[0;31m \u001b[0mrun_experiment\u001b[0m\u001b[0;34m(\u001b[0m\u001b[0mmodel_short_name\u001b[0m\u001b[0;34m,\u001b[0m \u001b[0mmodel_name\u001b[0m\u001b[0;34m,\u001b[0m \u001b[0minput_\u001b[0m\u001b[0;34m)\u001b[0m\u001b[0;34m\u001b[0m\u001b[0;34m\u001b[0m\u001b[0m\n\u001b[0m",
      "\u001b[0;32m<ipython-input-27-7c5a4af1e88d>\u001b[0m in \u001b[0;36mrun_experiment\u001b[0;34m(model_short_name, model_name, input_)\u001b[0m\n\u001b[1;32m     34\u001b[0m \u001b[0;34m\u001b[0m\u001b[0m\n\u001b[1;32m     35\u001b[0m         \u001b[0mdatagen\u001b[0m\u001b[0;34m.\u001b[0m\u001b[0mfit\u001b[0m\u001b[0;34m(\u001b[0m\u001b[0mx_test\u001b[0m\u001b[0;34m)\u001b[0m\u001b[0;34m\u001b[0m\u001b[0;34m\u001b[0m\u001b[0m\n\u001b[0;32m---> 36\u001b[0;31m         \u001b[0m_lets_convert\u001b[0m\u001b[0;34m(\u001b[0m\u001b[0mdatagen\u001b[0m\u001b[0;34m,\u001b[0m\u001b[0mx_test\u001b[0m\u001b[0;34m,\u001b[0m \u001b[0my_test\u001b[0m\u001b[0;34m,\u001b[0m \u001b[0mdata_writer_error\u001b[0m\u001b[0;34m,\u001b[0m \u001b[0mdata_writer_error2\u001b[0m\u001b[0;34m,\u001b[0m \u001b[0mdata_writer_run\u001b[0m\u001b[0;34m,\u001b[0m \u001b[0mbatch_size\u001b[0m\u001b[0;34m,\u001b[0m \u001b[0minput_\u001b[0m\u001b[0;34m)\u001b[0m\u001b[0;34m\u001b[0m\u001b[0;34m\u001b[0m\u001b[0m\n\u001b[0m\u001b[1;32m     37\u001b[0m     \u001b[0mdata_file_error\u001b[0m\u001b[0;34m.\u001b[0m\u001b[0mclose\u001b[0m\u001b[0;34m(\u001b[0m\u001b[0;34m)\u001b[0m\u001b[0;34m\u001b[0m\u001b[0;34m\u001b[0m\u001b[0m\n\u001b[1;32m     38\u001b[0m     \u001b[0mdata_file_error2\u001b[0m\u001b[0;34m.\u001b[0m\u001b[0mclose\u001b[0m\u001b[0;34m(\u001b[0m\u001b[0;34m)\u001b[0m\u001b[0;34m\u001b[0m\u001b[0;34m\u001b[0m\u001b[0m\n",
      "\u001b[0;32m<ipython-input-26-c53c72f8f59b>\u001b[0m in \u001b[0;36m_lets_convert\u001b[0;34m(data, x, y, data_writer_error, data_writer_error2, data_writer_run, batch_size, input_)\u001b[0m\n\u001b[1;32m      3\u001b[0m     \u001b[0mbatches\u001b[0m \u001b[0;34m=\u001b[0m \u001b[0;36m0\u001b[0m\u001b[0;34m\u001b[0m\u001b[0;34m\u001b[0m\u001b[0m\n\u001b[1;32m      4\u001b[0m     \u001b[0;32mfor\u001b[0m \u001b[0mx_batch\u001b[0m\u001b[0;34m,\u001b[0m \u001b[0my_batch\u001b[0m \u001b[0;32min\u001b[0m \u001b[0mdata\u001b[0m\u001b[0;34m.\u001b[0m\u001b[0mflow\u001b[0m\u001b[0;34m(\u001b[0m\u001b[0mx\u001b[0m\u001b[0;34m,\u001b[0m \u001b[0my\u001b[0m\u001b[0;34m,\u001b[0m \u001b[0mbatch_size\u001b[0m\u001b[0;34m=\u001b[0m\u001b[0mbatch_size\u001b[0m\u001b[0;34m)\u001b[0m\u001b[0;34m:\u001b[0m\u001b[0;34m\u001b[0m\u001b[0;34m\u001b[0m\u001b[0m\n\u001b[0;32m----> 5\u001b[0;31m         \u001b[0mto_onnx\u001b[0m\u001b[0;34m(\u001b[0m\u001b[0mbatches\u001b[0m\u001b[0;34m,\u001b[0m \u001b[0mx_batch\u001b[0m\u001b[0;34m,\u001b[0m\u001b[0mdata_writer_error\u001b[0m\u001b[0;34m,\u001b[0m \u001b[0mdata_writer_error2\u001b[0m\u001b[0;34m,\u001b[0m \u001b[0mdata_writer_run\u001b[0m\u001b[0;34m,\u001b[0m \u001b[0mbatch_size\u001b[0m\u001b[0;34m,\u001b[0m \u001b[0minput_\u001b[0m\u001b[0;34m)\u001b[0m\u001b[0;34m\u001b[0m\u001b[0;34m\u001b[0m\u001b[0m\n\u001b[0m\u001b[1;32m      6\u001b[0m         \u001b[0mbatches\u001b[0m \u001b[0;34m+=\u001b[0m \u001b[0;36m1\u001b[0m\u001b[0;34m\u001b[0m\u001b[0;34m\u001b[0m\u001b[0m\n\u001b[1;32m      7\u001b[0m         \u001b[0;32mif\u001b[0m \u001b[0mbatches\u001b[0m \u001b[0;34m>=\u001b[0m \u001b[0mlen\u001b[0m\u001b[0;34m(\u001b[0m\u001b[0mx_train\u001b[0m\u001b[0;34m)\u001b[0m \u001b[0;34m/\u001b[0m \u001b[0mbatch_size\u001b[0m\u001b[0;34m:\u001b[0m\u001b[0;34m\u001b[0m\u001b[0;34m\u001b[0m\u001b[0m\n",
      "\u001b[0;32m<ipython-input-25-7359cde06772>\u001b[0m in \u001b[0;36mto_onnx\u001b[0;34m(i, x, data_writer_error, data_writer_error2, data_writer_run, batch_size, input_)\u001b[0m\n\u001b[1;32m     55\u001b[0m \u001b[0;34m\u001b[0m\u001b[0m\n\u001b[1;32m     56\u001b[0m \u001b[0;34m\u001b[0m\u001b[0m\n\u001b[0;32m---> 57\u001b[0;31m     \u001b[0mnp\u001b[0m\u001b[0;34m.\u001b[0m\u001b[0mtesting\u001b[0m\u001b[0;34m.\u001b[0m\u001b[0massert_array_equal\u001b[0m\u001b[0;34m(\u001b[0m\u001b[0mk_predict\u001b[0m\u001b[0;34m,\u001b[0m \u001b[0mort_outs\u001b[0m\u001b[0;34m[\u001b[0m\u001b[0;36m0\u001b[0m\u001b[0;34m]\u001b[0m\u001b[0;34m)\u001b[0m\u001b[0;34m\u001b[0m\u001b[0;34m\u001b[0m\u001b[0m\n\u001b[0m\u001b[1;32m     58\u001b[0m     \u001b[0;31m## Converting the coremltool\u001b[0m\u001b[0;34m\u001b[0m\u001b[0;34m\u001b[0m\u001b[0;34m\u001b[0m\u001b[0m\n\u001b[1;32m     59\u001b[0m     \u001b[0msince_1\u001b[0m \u001b[0;34m=\u001b[0m \u001b[0mtime\u001b[0m\u001b[0;34m.\u001b[0m\u001b[0mtime\u001b[0m\u001b[0;34m(\u001b[0m\u001b[0;34m)\u001b[0m\u001b[0;34m\u001b[0m\u001b[0;34m\u001b[0m\u001b[0m\n",
      "\u001b[0;32m/opt/anaconda3/lib/python3.7/site-packages/numpy/testing/_private/utils.py\u001b[0m in \u001b[0;36massert_array_equal\u001b[0;34m(x, y, err_msg, verbose)\u001b[0m\n\u001b[1;32m    929\u001b[0m     \u001b[0m__tracebackhide__\u001b[0m \u001b[0;34m=\u001b[0m \u001b[0;32mTrue\u001b[0m  \u001b[0;31m# Hide traceback for py.test\u001b[0m\u001b[0;34m\u001b[0m\u001b[0;34m\u001b[0m\u001b[0m\n\u001b[1;32m    930\u001b[0m     assert_array_compare(operator.__eq__, x, y, err_msg=err_msg,\n\u001b[0;32m--> 931\u001b[0;31m                          verbose=verbose, header='Arrays are not equal')\n\u001b[0m\u001b[1;32m    932\u001b[0m \u001b[0;34m\u001b[0m\u001b[0m\n\u001b[1;32m    933\u001b[0m \u001b[0;34m\u001b[0m\u001b[0m\n",
      "\u001b[0;32m/opt/anaconda3/lib/python3.7/site-packages/numpy/testing/_private/utils.py\u001b[0m in \u001b[0;36massert_array_compare\u001b[0;34m(comparison, x, y, err_msg, verbose, header, precision, equal_nan, equal_inf)\u001b[0m\n\u001b[1;32m    838\u001b[0m                                 \u001b[0mverbose\u001b[0m\u001b[0;34m=\u001b[0m\u001b[0mverbose\u001b[0m\u001b[0;34m,\u001b[0m \u001b[0mheader\u001b[0m\u001b[0;34m=\u001b[0m\u001b[0mheader\u001b[0m\u001b[0;34m,\u001b[0m\u001b[0;34m\u001b[0m\u001b[0;34m\u001b[0m\u001b[0m\n\u001b[1;32m    839\u001b[0m                                 names=('x', 'y'), precision=precision)\n\u001b[0;32m--> 840\u001b[0;31m             \u001b[0;32mraise\u001b[0m \u001b[0mAssertionError\u001b[0m\u001b[0;34m(\u001b[0m\u001b[0mmsg\u001b[0m\u001b[0;34m)\u001b[0m\u001b[0;34m\u001b[0m\u001b[0;34m\u001b[0m\u001b[0m\n\u001b[0m\u001b[1;32m    841\u001b[0m     \u001b[0;32mexcept\u001b[0m \u001b[0mValueError\u001b[0m\u001b[0;34m:\u001b[0m\u001b[0;34m\u001b[0m\u001b[0;34m\u001b[0m\u001b[0m\n\u001b[1;32m    842\u001b[0m         \u001b[0;32mimport\u001b[0m \u001b[0mtraceback\u001b[0m\u001b[0;34m\u001b[0m\u001b[0;34m\u001b[0m\u001b[0m\n",
      "\u001b[0;31mAssertionError\u001b[0m: \nArrays are not equal\n\nMismatched elements: 10 / 10 (100%)\nMax absolute difference: 1.7695129e-07\nMax relative difference: 1.073789e-05\n x: array([[7.138716e-06, 4.579959e-06, 1.647933e-02, 4.962262e-06,\n        1.268875e-02, 2.943818e-03, 2.821678e-03, 5.195573e-06,\n        9.586660e-01, 6.378663e-03]], dtype=float32)\n y: array([[7.138670e-06, 4.579960e-06, 1.647915e-02, 4.962267e-06,\n        1.268877e-02, 2.943821e-03, 2.821665e-03, 5.195554e-06,\n        9.586661e-01, 6.378688e-03]], dtype=float32)"
     ]
    }
   ],
   "source": [
    "# run expriment resnet18\n",
    "input_ = 'input_1'\n",
    "run_experiment(model_short_name, model_name, input_)"
   ]
  },
  {
   "cell_type": "code",
   "execution_count": null,
   "metadata": {},
   "outputs": [],
   "source": []
  },
  {
   "cell_type": "markdown",
   "metadata": {},
   "source": [
    "## convert VGG"
   ]
  },
  {
   "cell_type": "code",
   "execution_count": 13,
   "metadata": {},
   "outputs": [],
   "source": [
    "model_short_name = 'vgg'\n",
    "input_ = 'input_3'"
   ]
  },
  {
   "cell_type": "code",
   "execution_count": 14,
   "metadata": {},
   "outputs": [
    {
     "data": {
      "text/plain": [
       "71945464"
      ]
     },
     "execution_count": 14,
     "metadata": {},
     "output_type": "execute_result"
    }
   ],
   "source": [
    "path = '/Volumes/Cisco/Fall2021/onnx-exchange/Training/Keras/vgg/'\n",
    "since_0 = time.time()\n",
    "#model_path = 'tf_Lenet5_mnist_2021-08-24-10:35:35'\n",
    "#model_name = 'tf_alexnet_cifar10_2021-08-27-17:05:27'\n",
    "model_name = 'tf_vgg-cifar10_2021-10-29_{}'.format(training_id)\n",
    "model = tf.keras.models.load_model(path+ model_name+'.h5')\n",
    "t_elapsed_0 = time.time() - since_0\n",
    "size0 = os.path.getsize(path+ model_name+'.h5')\n",
    "size0"
   ]
  },
  {
   "cell_type": "code",
   "execution_count": 15,
   "metadata": {},
   "outputs": [
    {
     "data": {
      "text/plain": [
       "71945464"
      ]
     },
     "execution_count": 15,
     "metadata": {},
     "output_type": "execute_result"
    }
   ],
   "source": [
    "size1 = os.path.getsize(path+ model_name+'.h5')\n",
    "size1"
   ]
  },
  {
   "cell_type": "code",
   "execution_count": 16,
   "metadata": {},
   "outputs": [],
   "source": [
    "def to_onnx(i, x, data_writer_error, data_writer_error2, data_writer_run, batch_size, input_):\n",
    "    # Input to the model\n",
    "    #device_reset = cuda.get_current_device()\n",
    "    #device_reset.reset()\n",
    "    #x.cuda()\n",
    "   \n",
    "    print(\"converting for batch: \", i)\n",
    "    \n",
    "    #torch.random.manual_seed(42)\n",
    "    #x = torch.randn(10000, 3, 32, 32, requires_grad=True)\n",
    "    since_ = time.time()\n",
    "    since_1 = time.time()\n",
    "    #model = torch.load(path+model_name+'.pth')\n",
    "    with tf.device('/cpu:0'): \n",
    "        k_predict = model.predict(x)\n",
    "    t_elapsed_1 = time.time() - since_1\n",
    "    # Export the model\n",
    "    \n",
    "    if not os.path.exists(onnx_path+framework+\"/{}\".format(model_short_name)):\n",
    "        os.makedirs(onnx_path+framework+\"/{}\".format(model_short_name))\n",
    "    if not os.path.exists(coreml_path+framework+\"/{}\".format(model_short_name)):\n",
    "        os.makedirs(coreml_path+framework+\"/{}\".format(model_short_name))\n",
    "        \n",
    "    since_1 = time.time()\n",
    "    \n",
    "    since_onnx = time.time()\n",
    "    model_proto, external_tensor_storage = tf2onnx.convert.from_keras(model,\n",
    "                input_signature=None, opset=11, custom_ops=None,\n",
    "                custom_op_handlers=None, custom_rewriter=None,\n",
    "                inputs_as_nchw=None, extra_opset=None, shape_override=None,\n",
    "                 target=None, large_model=False, output_path=onnx_path+framework+\"/{}/{}.onnx\".format(model_short_name, model_name))\n",
    "    \n",
    "    t_elapsed_2 = time.time() - since_1\n",
    "    \n",
    "    \n",
    "    onnx_model = onnx.load(onnx_path+framework+\"/{}/{}.onnx\".format(model_short_name, model_name))\n",
    "    onnx.checker.check_model(onnx_model)\n",
    "    size2 = os.path.getsize(onnx_path+framework+\"/{}/{}.onnx\".format(model_short_name, model_name))\n",
    "    #def to_numpy(tensor):\n",
    "    #    return tensor.detach().cpu().numpy() if tensor.requires_grad else tensor.cpu().numpy()\n",
    "    ort_session = onnxruntime.InferenceSession(onnx_path+framework+\"/{}/{}.onnx\".format(model_short_name, model_name))\n",
    "    since_1 = time.time()\n",
    "    ort_inputs = {ort_session.get_inputs()[0].name: x}\n",
    "    ort_outs = ort_session.run(None, ort_inputs)\n",
    "    t_elapsed_3 = time.time() - since_1\n",
    "    t_elapsed_ = time.time() - since_\n",
    "    t_elapsed_onnx = time.time() - since_onnx\n",
    "    # compare ONNX Runtime and PyTorch results\n",
    "    print(\"\\n*********\\n\\n\")\n",
    "    #time_diff = t_elapsed_0+t_elapsed_1, t_elapsed_2, t_elapsed_3\n",
    "    \n",
    "    abs_err = np.absolute(k_predict-ort_outs[0])\n",
    "    rel_err = np.absolute(k_predict-ort_outs[0])/ np.absolute(ort_outs[0])\n",
    "    #print('Batch: ', i, abs_err, rel_err)\n",
    "    \n",
    "\n",
    "    \n",
    "    ## Converting the coremltool\n",
    "    since_1 = time.time()\n",
    "    coreml_model = coremltools.convert(model)\n",
    "    t_elapsed_4 = time.time() - since_1\n",
    "    since_1 = time.time()\n",
    "    coreml_model.save(coreml_path+framework+'/{}/{}.mlmodel'.format(model_short_name, model_name))\n",
    "    t_elapsed_5 = time.time() - since_1\n",
    "    \n",
    "    split_ = str(coreml_model.get_spec().description.input[0]).split('\\n')\n",
    "    name_1 = split_[0].replace('name: \"', '')\n",
    "    name_1 = name_1.replace('\"', '')\n",
    "    #print(name_1)\n",
    "\n",
    "    size3 = os.path.getsize(coreml_path+framework+'/{}/{}.mlmodel'.format(model_short_name, model_name))\n",
    "    \n",
    "    since_1 = time.time()\n",
    "    output_dict_test = coreml_model.predict({name_1:x})\n",
    "    t_elapsed_6 = time.time() - since_1\n",
    "    t_elapsed2_ = time.time() - since_\n",
    "    \n",
    "    abs_err2 = np.absolute(k_predict-output_dict_test['Identity'])\n",
    "    rel_err2 = np.absolute(k_predict-output_dict_test['Identity'])/ np.absolute(output_dict_test['Identity'])\n",
    "    \n",
    "    for j in range (len(abs_err)):\n",
    "        for k in range(len(abs_err[j])): \n",
    "            data_writer_error.writerow([model_short_name,framework, training_id, model_name, batch_size, i, abs_err[j][k], rel_err[j][k]])\n",
    "    \n",
    "    \n",
    "    for j in range (len(abs_err2)):\n",
    "        for k in range(len(abs_err2[j])): \n",
    "            data_writer_error2.writerow([model_short_name,framework, training_id, model_name, batch_size, i, abs_err2[j][k], rel_err2[j][k]])\n",
    "      \n",
    "    data_writer_run.writerow([model_short_name, framework, training_id, model_name, batch_size, i,'onnx',size0, size2, t_elapsed_1, t_elapsed_3,  t_elapsed_2,'', t_elapsed_, np.mean(abs_err), np.median(abs_err), np.min(abs_err), np.max(abs_err), np.mean(rel_err), np.median(rel_err), np.min(rel_err), np.max(rel_err)])\n",
    "    data_writer_run.writerow([model_short_name, framework, training_id, model_name, batch_size, i,'coremltools',size0, size3, t_elapsed_1, t_elapsed_6, t_elapsed_4, t_elapsed_5, (t_elapsed2_-t_elapsed_onnx), np.mean(abs_err2), np.median(abs_err2), np.min(abs_err2), np.max(abs_err2), np.mean(rel_err2), np.median(rel_err2), np.min(rel_err2), np.max(rel_err2)])"
   ]
  },
  {
   "cell_type": "code",
   "execution_count": 17,
   "metadata": {},
   "outputs": [],
   "source": [
    "def _lets_convert(data, x, y, data_writer_error, data_writer_error2, data_writer_run, batch_size, input_): # for cifar10 etc\n",
    "    since = time.time()\n",
    "    batches = 0\n",
    "    for x_batch, y_batch in data.flow(x, y, batch_size=batch_size):\n",
    "        to_onnx(batches, x_batch,data_writer_error, data_writer_error2, data_writer_run, batch_size, input_)\n",
    "        batches += 1\n",
    "        if batches >= len(x_train) / batch_size:\n",
    "            # we need to break the loop by hand because\n",
    "            # the generator loops indefinitely\n",
    "            break\n",
    "        if batches == 10:\n",
    "            break\n",
    "    time_elapsed = time.time() - since\n",
    "    print('Conversion complete in {:.0f}m {:.0f}s'.format(time_elapsed // 60, time_elapsed % 60) )"
   ]
  },
  {
   "cell_type": "code",
   "execution_count": 18,
   "metadata": {},
   "outputs": [],
   "source": [
    "#model_name = 'letnet5-keras'\n",
    "import pandas as pd \n",
    "def run_experiment(model_short_name, model_name, input_):\n",
    "    if not os.path.exists(error_path+framework+\"/{}\".format(model_short_name)): \n",
    "        os.makedirs(error_path+framework+\"/{}\".format(model_short_name))\n",
    "\n",
    "    data_file_error = open(error_path + framework+'/{}/onnx_error_metrics_{}.csv'.format(model_short_name, model_name), mode='w', newline='',\n",
    "                                      encoding='utf-8')\n",
    "    data_writer_error = csv.writer(data_file_error, delimiter=',', quotechar='\"', quoting=csv.QUOTE_MINIMAL)\n",
    "    data_writer_error.writerow(['model','framework', 'training_id', 'model_full', \"batch_size\", 'round','absolute_error', 'relative_error'])\n",
    "\n",
    "\n",
    "    data_file_error2 = open(error_path + framework+'/{}/mlmore_error_metrics_{}.csv'.format(model_short_name, model_name), mode='w', newline='',\n",
    "                                      encoding='utf-8')\n",
    "    data_writer_error2 = csv.writer(data_file_error2, delimiter=',', quotechar='\"', quoting=csv.QUOTE_MINIMAL)\n",
    "    data_writer_error2.writerow(['model','framework', 'training_id', 'model_full', \"batch_size\", 'round','absolute_error', 'relative_error'])\n",
    "\n",
    "\n",
    "    data_file_run = open(error_path + framework+'/{}/runtime_metrics_{}.csv'.format(model_short_name, model_name), mode='w', newline='',\n",
    "                                      encoding='utf-8')\n",
    "    data_writer_run = csv.writer(data_file_run, delimiter=',', quotechar='\"', quoting=csv.QUOTE_MINIMAL)\n",
    "    data_writer_run.writerow(['model','framework', 'training_id', 'model_full', \"batch_size\", 'round','converter','original_size', 'converted_size', 'original_infererence_time', 'converted_infererence_time', 'conversion_time', 'saving_converted_time', 'overral_time', 'avg_abs_error', 'median_abs_error', 'min_abs_error', 'max_abs_error','avg_rel_error', 'median_rel_error', 'min_rel_error', 'max_rel_error'])\n",
    "    \n",
    "    #for batch_size in [1, 5,10,20,30,40,50,60,70,80,90,100,128, 150,200, 250,300,350, 400, 450, 500]:\n",
    "    for batch_size in [1, 5,10,50,100,128, 150,200, 250,300,350, 400, 450, 500]:\n",
    "        print(\"################ Batch size: \", batch_size)\n",
    "        datagen = tf.keras.preprocessing.image.ImageDataGenerator(\n",
    "        featurewise_center=True,\n",
    "        featurewise_std_normalization=True,\n",
    "        rotation_range=20,\n",
    "        width_shift_range=0.2,\n",
    "        height_shift_range=0.2,\n",
    "        horizontal_flip=True,\n",
    "        validation_split=0.2)\n",
    "\n",
    "        datagen.fit(x_test)\n",
    "        _lets_convert(datagen,x_test, y_test, data_writer_error, data_writer_error2, data_writer_run, batch_size, input_)\n",
    "    data_file_error.close()\n",
    "    data_file_error2.close()\n",
    "    data_file_run.close()"
   ]
  },
  {
   "cell_type": "code",
   "execution_count": 19,
   "metadata": {},
   "outputs": [
    {
     "name": "stdout",
     "output_type": "stream",
     "text": [
      "################ Batch size:  1\n",
      "converting for batch:  0\n",
      "\n",
      "*********\n",
      "\n",
      "\n"
     ]
    },
    {
     "name": "stderr",
     "output_type": "stream",
     "text": [
      "Running TensorFlow Graph Passes: 100%|██████████| 5/5 [00:01<00:00,  4.23 passes/s]\n",
      "Converting Frontend ==> MIL Ops: 100%|██████████| 131/131 [00:00<00:00, 1013.58 ops/s]\n",
      "Running MIL Common passes: 100%|██████████| 33/33 [00:00<00:00, 84.14 passes/s] \n",
      "Running MIL Clean up passes: 100%|██████████| 8/8 [00:00<00:00, 103.99 passes/s]\n",
      "Translating MIL ==> NeuralNetwork Ops: 100%|██████████| 141/141 [00:01<00:00, 108.26 ops/s]\n"
     ]
    },
    {
     "name": "stdout",
     "output_type": "stream",
     "text": [
      "converting for batch:  1\n",
      "\n",
      "*********\n",
      "\n",
      "\n"
     ]
    },
    {
     "name": "stderr",
     "output_type": "stream",
     "text": [
      "Running TensorFlow Graph Passes: 100%|██████████| 5/5 [00:01<00:00,  4.53 passes/s]\n",
      "Converting Frontend ==> MIL Ops: 100%|██████████| 131/131 [00:00<00:00, 674.68 ops/s]\n",
      "Running MIL Common passes: 100%|██████████| 33/33 [00:00<00:00, 87.37 passes/s] \n",
      "Running MIL Clean up passes: 100%|██████████| 8/8 [00:00<00:00, 103.16 passes/s]\n",
      "Translating MIL ==> NeuralNetwork Ops: 100%|██████████| 141/141 [00:01<00:00, 107.89 ops/s]\n"
     ]
    },
    {
     "name": "stdout",
     "output_type": "stream",
     "text": [
      "converting for batch:  2\n",
      "\n",
      "*********\n",
      "\n",
      "\n"
     ]
    },
    {
     "name": "stderr",
     "output_type": "stream",
     "text": [
      "Running TensorFlow Graph Passes: 100%|██████████| 5/5 [00:01<00:00,  4.52 passes/s]\n",
      "Converting Frontend ==> MIL Ops: 100%|██████████| 131/131 [00:00<00:00, 1024.20 ops/s]\n",
      "Running MIL Common passes: 100%|██████████| 33/33 [00:00<00:00, 83.14 passes/s] \n",
      "Running MIL Clean up passes: 100%|██████████| 8/8 [00:00<00:00, 106.69 passes/s]\n",
      "Translating MIL ==> NeuralNetwork Ops: 100%|██████████| 141/141 [00:01<00:00, 112.67 ops/s]\n"
     ]
    },
    {
     "name": "stdout",
     "output_type": "stream",
     "text": [
      "converting for batch:  3\n",
      "\n",
      "*********\n",
      "\n",
      "\n"
     ]
    },
    {
     "name": "stderr",
     "output_type": "stream",
     "text": [
      "Running TensorFlow Graph Passes: 100%|██████████| 5/5 [00:01<00:00,  4.47 passes/s]\n",
      "Converting Frontend ==> MIL Ops: 100%|██████████| 131/131 [00:00<00:00, 1042.36 ops/s]\n",
      "Running MIL Common passes: 100%|██████████| 33/33 [00:00<00:00, 76.07 passes/s] \n",
      "Running MIL Clean up passes: 100%|██████████| 8/8 [00:00<00:00, 90.77 passes/s]\n",
      "Translating MIL ==> NeuralNetwork Ops: 100%|██████████| 141/141 [00:01<00:00, 114.38 ops/s]\n"
     ]
    },
    {
     "name": "stdout",
     "output_type": "stream",
     "text": [
      "converting for batch:  4\n",
      "\n",
      "*********\n",
      "\n",
      "\n"
     ]
    },
    {
     "name": "stderr",
     "output_type": "stream",
     "text": [
      "Running TensorFlow Graph Passes: 100%|██████████| 5/5 [00:01<00:00,  4.53 passes/s]\n",
      "Converting Frontend ==> MIL Ops: 100%|██████████| 131/131 [00:00<00:00, 942.17 ops/s] \n",
      "Running MIL Common passes: 100%|██████████| 33/33 [00:00<00:00, 78.94 passes/s] \n",
      "Running MIL Clean up passes: 100%|██████████| 8/8 [00:00<00:00, 102.62 passes/s]\n",
      "Translating MIL ==> NeuralNetwork Ops: 100%|██████████| 141/141 [00:01<00:00, 112.60 ops/s]\n"
     ]
    },
    {
     "name": "stdout",
     "output_type": "stream",
     "text": [
      "converting for batch:  5\n",
      "\n",
      "*********\n",
      "\n",
      "\n"
     ]
    },
    {
     "name": "stderr",
     "output_type": "stream",
     "text": [
      "Running TensorFlow Graph Passes: 100%|██████████| 5/5 [00:01<00:00,  4.54 passes/s]\n",
      "Converting Frontend ==> MIL Ops: 100%|██████████| 131/131 [00:00<00:00, 1026.45 ops/s]\n",
      "Running MIL Common passes: 100%|██████████| 33/33 [00:00<00:00, 83.36 passes/s] \n",
      "Running MIL Clean up passes: 100%|██████████| 8/8 [00:00<00:00, 104.41 passes/s]\n",
      "Translating MIL ==> NeuralNetwork Ops: 100%|██████████| 141/141 [00:01<00:00, 110.61 ops/s]\n"
     ]
    },
    {
     "name": "stdout",
     "output_type": "stream",
     "text": [
      "converting for batch:  6\n",
      "\n",
      "*********\n",
      "\n",
      "\n"
     ]
    },
    {
     "name": "stderr",
     "output_type": "stream",
     "text": [
      "Running TensorFlow Graph Passes: 100%|██████████| 5/5 [00:01<00:00,  4.46 passes/s]\n",
      "Converting Frontend ==> MIL Ops: 100%|██████████| 131/131 [00:00<00:00, 1000.79 ops/s]\n",
      "Running MIL Common passes: 100%|██████████| 33/33 [00:00<00:00, 75.10 passes/s] \n",
      "Running MIL Clean up passes: 100%|██████████| 8/8 [00:00<00:00, 103.25 passes/s]\n",
      "Translating MIL ==> NeuralNetwork Ops: 100%|██████████| 141/141 [00:01<00:00, 108.49 ops/s]\n"
     ]
    },
    {
     "name": "stdout",
     "output_type": "stream",
     "text": [
      "converting for batch:  7\n",
      "\n",
      "*********\n",
      "\n",
      "\n"
     ]
    },
    {
     "name": "stderr",
     "output_type": "stream",
     "text": [
      "Running TensorFlow Graph Passes: 100%|██████████| 5/5 [00:01<00:00,  4.54 passes/s]\n",
      "Converting Frontend ==> MIL Ops: 100%|██████████| 131/131 [00:00<00:00, 1032.75 ops/s]\n",
      "Running MIL Common passes: 100%|██████████| 33/33 [00:00<00:00, 74.42 passes/s] \n",
      "Running MIL Clean up passes: 100%|██████████| 8/8 [00:00<00:00, 105.93 passes/s]\n",
      "Translating MIL ==> NeuralNetwork Ops: 100%|██████████| 141/141 [00:01<00:00, 114.33 ops/s]\n"
     ]
    },
    {
     "name": "stdout",
     "output_type": "stream",
     "text": [
      "converting for batch:  8\n",
      "\n",
      "*********\n",
      "\n",
      "\n"
     ]
    },
    {
     "name": "stderr",
     "output_type": "stream",
     "text": [
      "Running TensorFlow Graph Passes: 100%|██████████| 5/5 [00:01<00:00,  4.46 passes/s]\n",
      "Converting Frontend ==> MIL Ops: 100%|██████████| 131/131 [00:00<00:00, 1039.27 ops/s]\n",
      "Running MIL Common passes: 100%|██████████| 33/33 [00:00<00:00, 74.58 passes/s] \n",
      "Running MIL Clean up passes: 100%|██████████| 8/8 [00:00<00:00, 100.52 passes/s]\n",
      "Translating MIL ==> NeuralNetwork Ops: 100%|██████████| 141/141 [00:01<00:00, 110.85 ops/s]\n"
     ]
    },
    {
     "name": "stdout",
     "output_type": "stream",
     "text": [
      "converting for batch:  9\n",
      "\n",
      "*********\n",
      "\n",
      "\n"
     ]
    },
    {
     "name": "stderr",
     "output_type": "stream",
     "text": [
      "Running TensorFlow Graph Passes: 100%|██████████| 5/5 [00:01<00:00,  4.47 passes/s]\n",
      "Converting Frontend ==> MIL Ops: 100%|██████████| 131/131 [00:00<00:00, 1018.04 ops/s]\n",
      "Running MIL Common passes: 100%|██████████| 33/33 [00:00<00:00, 82.70 passes/s] \n",
      "Running MIL Clean up passes: 100%|██████████| 8/8 [00:00<00:00, 102.53 passes/s]\n",
      "Translating MIL ==> NeuralNetwork Ops: 100%|██████████| 141/141 [00:01<00:00, 111.86 ops/s]\n"
     ]
    },
    {
     "name": "stdout",
     "output_type": "stream",
     "text": [
      "Conversion complete in 3m 24s\n",
      "################ Batch size:  5\n",
      "converting for batch:  0\n",
      "\n",
      "*********\n",
      "\n",
      "\n"
     ]
    },
    {
     "name": "stderr",
     "output_type": "stream",
     "text": [
      "Running TensorFlow Graph Passes: 100%|██████████| 5/5 [00:01<00:00,  4.43 passes/s]\n",
      "Converting Frontend ==> MIL Ops: 100%|██████████| 131/131 [00:00<00:00, 1023.14 ops/s]\n",
      "Running MIL Common passes: 100%|██████████| 33/33 [00:00<00:00, 90.27 passes/s] \n",
      "Running MIL Clean up passes: 100%|██████████| 8/8 [00:00<00:00, 104.08 passes/s]\n",
      "Translating MIL ==> NeuralNetwork Ops: 100%|██████████| 141/141 [00:01<00:00, 110.30 ops/s]\n"
     ]
    },
    {
     "name": "stdout",
     "output_type": "stream",
     "text": [
      "converting for batch:  1\n",
      "\n",
      "*********\n",
      "\n",
      "\n"
     ]
    },
    {
     "name": "stderr",
     "output_type": "stream",
     "text": [
      "Running TensorFlow Graph Passes: 100%|██████████| 5/5 [00:01<00:00,  4.50 passes/s]\n",
      "Converting Frontend ==> MIL Ops: 100%|██████████| 131/131 [00:00<00:00, 1016.77 ops/s]\n",
      "Running MIL Common passes: 100%|██████████| 33/33 [00:00<00:00, 85.06 passes/s] \n",
      "Running MIL Clean up passes: 100%|██████████| 8/8 [00:00<00:00, 103.06 passes/s]\n",
      "Translating MIL ==> NeuralNetwork Ops: 100%|██████████| 141/141 [00:01<00:00, 110.74 ops/s]\n"
     ]
    },
    {
     "name": "stdout",
     "output_type": "stream",
     "text": [
      "converting for batch:  2\n",
      "\n",
      "*********\n",
      "\n",
      "\n"
     ]
    },
    {
     "name": "stderr",
     "output_type": "stream",
     "text": [
      "Running TensorFlow Graph Passes: 100%|██████████| 5/5 [00:01<00:00,  4.48 passes/s]\n",
      "Converting Frontend ==> MIL Ops: 100%|██████████| 131/131 [00:00<00:00, 970.73 ops/s] \n",
      "Running MIL Common passes: 100%|██████████| 33/33 [00:00<00:00, 77.99 passes/s] \n",
      "Running MIL Clean up passes: 100%|██████████| 8/8 [00:00<00:00, 104.20 passes/s]\n",
      "Translating MIL ==> NeuralNetwork Ops: 100%|██████████| 141/141 [00:01<00:00, 108.47 ops/s]\n"
     ]
    },
    {
     "name": "stdout",
     "output_type": "stream",
     "text": [
      "converting for batch:  3\n",
      "\n",
      "*********\n",
      "\n",
      "\n"
     ]
    },
    {
     "name": "stderr",
     "output_type": "stream",
     "text": [
      "Running TensorFlow Graph Passes: 100%|██████████| 5/5 [00:01<00:00,  4.45 passes/s]\n",
      "Converting Frontend ==> MIL Ops: 100%|██████████| 131/131 [00:00<00:00, 1005.47 ops/s]\n",
      "Running MIL Common passes: 100%|██████████| 33/33 [00:00<00:00, 84.93 passes/s] \n",
      "Running MIL Clean up passes: 100%|██████████| 8/8 [00:00<00:00, 102.92 passes/s]\n",
      "Translating MIL ==> NeuralNetwork Ops: 100%|██████████| 141/141 [00:01<00:00, 116.17 ops/s]\n"
     ]
    },
    {
     "name": "stdout",
     "output_type": "stream",
     "text": [
      "converting for batch:  4\n",
      "\n",
      "*********\n",
      "\n",
      "\n"
     ]
    },
    {
     "name": "stderr",
     "output_type": "stream",
     "text": [
      "Running TensorFlow Graph Passes: 100%|██████████| 5/5 [00:01<00:00,  4.48 passes/s]\n",
      "Converting Frontend ==> MIL Ops: 100%|██████████| 131/131 [00:00<00:00, 1055.32 ops/s]\n",
      "Running MIL Common passes: 100%|██████████| 33/33 [00:00<00:00, 90.70 passes/s] \n",
      "Running MIL Clean up passes: 100%|██████████| 8/8 [00:00<00:00, 103.40 passes/s]\n",
      "Translating MIL ==> NeuralNetwork Ops: 100%|██████████| 141/141 [00:01<00:00, 114.98 ops/s]\n"
     ]
    },
    {
     "name": "stdout",
     "output_type": "stream",
     "text": [
      "converting for batch:  5\n",
      "\n",
      "*********\n",
      "\n",
      "\n"
     ]
    },
    {
     "name": "stderr",
     "output_type": "stream",
     "text": [
      "Running TensorFlow Graph Passes: 100%|██████████| 5/5 [00:01<00:00,  4.48 passes/s]\n",
      "Converting Frontend ==> MIL Ops: 100%|██████████| 131/131 [00:00<00:00, 1042.56 ops/s]\n",
      "Running MIL Common passes: 100%|██████████| 33/33 [00:00<00:00, 88.90 passes/s] \n",
      "Running MIL Clean up passes: 100%|██████████| 8/8 [00:00<00:00, 104.19 passes/s]\n",
      "Translating MIL ==> NeuralNetwork Ops: 100%|██████████| 141/141 [00:01<00:00, 113.72 ops/s]\n"
     ]
    },
    {
     "name": "stdout",
     "output_type": "stream",
     "text": [
      "converting for batch:  6\n",
      "\n",
      "*********\n",
      "\n",
      "\n"
     ]
    },
    {
     "name": "stderr",
     "output_type": "stream",
     "text": [
      "Running TensorFlow Graph Passes: 100%|██████████| 5/5 [00:01<00:00,  4.46 passes/s]\n",
      "Converting Frontend ==> MIL Ops: 100%|██████████| 131/131 [00:00<00:00, 1012.56 ops/s]\n",
      "Running MIL Common passes: 100%|██████████| 33/33 [00:00<00:00, 87.51 passes/s] \n",
      "Running MIL Clean up passes: 100%|██████████| 8/8 [00:00<00:00, 102.70 passes/s]\n",
      "Translating MIL ==> NeuralNetwork Ops: 100%|██████████| 141/141 [00:01<00:00, 112.82 ops/s]\n"
     ]
    },
    {
     "name": "stdout",
     "output_type": "stream",
     "text": [
      "converting for batch:  7\n",
      "\n",
      "*********\n",
      "\n",
      "\n"
     ]
    },
    {
     "name": "stderr",
     "output_type": "stream",
     "text": [
      "Running TensorFlow Graph Passes: 100%|██████████| 5/5 [00:01<00:00,  4.42 passes/s]\n",
      "Converting Frontend ==> MIL Ops: 100%|██████████| 131/131 [00:00<00:00, 1014.81 ops/s]\n",
      "Running MIL Common passes: 100%|██████████| 33/33 [00:00<00:00, 81.07 passes/s] \n",
      "Running MIL Clean up passes: 100%|██████████| 8/8 [00:00<00:00, 104.53 passes/s]\n",
      "Translating MIL ==> NeuralNetwork Ops: 100%|██████████| 141/141 [00:01<00:00, 114.47 ops/s]\n"
     ]
    },
    {
     "name": "stdout",
     "output_type": "stream",
     "text": [
      "converting for batch:  8\n",
      "\n",
      "*********\n",
      "\n",
      "\n"
     ]
    },
    {
     "name": "stderr",
     "output_type": "stream",
     "text": [
      "Running TensorFlow Graph Passes: 100%|██████████| 5/5 [00:01<00:00,  4.51 passes/s]\n",
      "Converting Frontend ==> MIL Ops: 100%|██████████| 131/131 [00:00<00:00, 1048.88 ops/s]\n",
      "Running MIL Common passes: 100%|██████████| 33/33 [00:00<00:00, 84.97 passes/s] \n",
      "Running MIL Clean up passes: 100%|██████████| 8/8 [00:00<00:00, 106.23 passes/s]\n",
      "Translating MIL ==> NeuralNetwork Ops: 100%|██████████| 141/141 [00:01<00:00, 111.77 ops/s]\n"
     ]
    },
    {
     "name": "stdout",
     "output_type": "stream",
     "text": [
      "converting for batch:  9\n",
      "\n",
      "*********\n",
      "\n",
      "\n"
     ]
    },
    {
     "name": "stderr",
     "output_type": "stream",
     "text": [
      "Running TensorFlow Graph Passes: 100%|██████████| 5/5 [00:01<00:00,  4.50 passes/s]\n",
      "Converting Frontend ==> MIL Ops: 100%|██████████| 131/131 [00:00<00:00, 1004.92 ops/s]\n",
      "Running MIL Common passes: 100%|██████████| 33/33 [00:00<00:00, 83.73 passes/s] \n",
      "Running MIL Clean up passes: 100%|██████████| 8/8 [00:00<00:00, 104.44 passes/s]\n",
      "Translating MIL ==> NeuralNetwork Ops: 100%|██████████| 141/141 [00:01<00:00, 114.75 ops/s]\n"
     ]
    },
    {
     "name": "stdout",
     "output_type": "stream",
     "text": [
      "Conversion complete in 3m 23s\n",
      "################ Batch size:  10\n",
      "converting for batch:  0\n",
      "\n",
      "*********\n",
      "\n",
      "\n"
     ]
    },
    {
     "name": "stderr",
     "output_type": "stream",
     "text": [
      "Running TensorFlow Graph Passes: 100%|██████████| 5/5 [00:01<00:00,  4.41 passes/s]\n",
      "Converting Frontend ==> MIL Ops: 100%|██████████| 131/131 [00:00<00:00, 977.11 ops/s] \n",
      "Running MIL Common passes: 100%|██████████| 33/33 [00:00<00:00, 72.13 passes/s] \n",
      "Running MIL Clean up passes: 100%|██████████| 8/8 [00:00<00:00, 101.73 passes/s]\n",
      "Translating MIL ==> NeuralNetwork Ops: 100%|██████████| 141/141 [00:01<00:00, 105.90 ops/s]\n"
     ]
    },
    {
     "name": "stdout",
     "output_type": "stream",
     "text": [
      "converting for batch:  1\n",
      "\n",
      "*********\n",
      "\n",
      "\n"
     ]
    },
    {
     "name": "stderr",
     "output_type": "stream",
     "text": [
      "Running TensorFlow Graph Passes: 100%|██████████| 5/5 [00:01<00:00,  4.49 passes/s]\n",
      "Converting Frontend ==> MIL Ops: 100%|██████████| 131/131 [00:00<00:00, 1062.84 ops/s]\n",
      "Running MIL Common passes: 100%|██████████| 33/33 [00:00<00:00, 84.62 passes/s] \n",
      "Running MIL Clean up passes: 100%|██████████| 8/8 [00:00<00:00, 104.15 passes/s]\n",
      "Translating MIL ==> NeuralNetwork Ops: 100%|██████████| 141/141 [00:01<00:00, 112.68 ops/s]\n"
     ]
    },
    {
     "name": "stdout",
     "output_type": "stream",
     "text": [
      "converting for batch:  2\n",
      "\n",
      "*********\n",
      "\n",
      "\n"
     ]
    },
    {
     "name": "stderr",
     "output_type": "stream",
     "text": [
      "Running TensorFlow Graph Passes: 100%|██████████| 5/5 [00:01<00:00,  4.51 passes/s]\n",
      "Converting Frontend ==> MIL Ops: 100%|██████████| 131/131 [00:00<00:00, 1026.87 ops/s]\n",
      "Running MIL Common passes: 100%|██████████| 33/33 [00:00<00:00, 86.42 passes/s] \n",
      "Running MIL Clean up passes: 100%|██████████| 8/8 [00:00<00:00, 106.11 passes/s]\n",
      "Translating MIL ==> NeuralNetwork Ops: 100%|██████████| 141/141 [00:01<00:00, 111.74 ops/s]\n"
     ]
    },
    {
     "name": "stdout",
     "output_type": "stream",
     "text": [
      "converting for batch:  3\n",
      "\n",
      "*********\n",
      "\n",
      "\n"
     ]
    },
    {
     "name": "stderr",
     "output_type": "stream",
     "text": [
      "Running TensorFlow Graph Passes: 100%|██████████| 5/5 [00:01<00:00,  4.47 passes/s]\n",
      "Converting Frontend ==> MIL Ops: 100%|██████████| 131/131 [00:00<00:00, 985.75 ops/s] \n",
      "Running MIL Common passes: 100%|██████████| 33/33 [00:00<00:00, 86.39 passes/s] \n",
      "Running MIL Clean up passes: 100%|██████████| 8/8 [00:00<00:00, 101.36 passes/s]\n",
      "Translating MIL ==> NeuralNetwork Ops: 100%|██████████| 141/141 [00:01<00:00, 108.27 ops/s]\n"
     ]
    },
    {
     "name": "stdout",
     "output_type": "stream",
     "text": [
      "converting for batch:  4\n",
      "\n",
      "*********\n",
      "\n",
      "\n"
     ]
    },
    {
     "name": "stderr",
     "output_type": "stream",
     "text": [
      "Running TensorFlow Graph Passes: 100%|██████████| 5/5 [00:01<00:00,  4.36 passes/s]\n",
      "Converting Frontend ==> MIL Ops: 100%|██████████| 131/131 [00:00<00:00, 987.92 ops/s] \n",
      "Running MIL Common passes: 100%|██████████| 33/33 [00:00<00:00, 89.78 passes/s] \n",
      "Running MIL Clean up passes: 100%|██████████| 8/8 [00:00<00:00, 100.45 passes/s]\n",
      "Translating MIL ==> NeuralNetwork Ops: 100%|██████████| 141/141 [00:01<00:00, 112.10 ops/s]\n"
     ]
    },
    {
     "name": "stdout",
     "output_type": "stream",
     "text": [
      "converting for batch:  5\n",
      "\n",
      "*********\n",
      "\n",
      "\n"
     ]
    },
    {
     "name": "stderr",
     "output_type": "stream",
     "text": [
      "Running TensorFlow Graph Passes: 100%|██████████| 5/5 [00:01<00:00,  4.35 passes/s]\n",
      "Converting Frontend ==> MIL Ops: 100%|██████████| 131/131 [00:00<00:00, 957.97 ops/s] \n",
      "Running MIL Common passes: 100%|██████████| 33/33 [00:00<00:00, 86.85 passes/s] \n",
      "Running MIL Clean up passes: 100%|██████████| 8/8 [00:00<00:00, 104.43 passes/s]\n",
      "Translating MIL ==> NeuralNetwork Ops: 100%|██████████| 141/141 [00:01<00:00, 113.78 ops/s]\n"
     ]
    },
    {
     "name": "stdout",
     "output_type": "stream",
     "text": [
      "converting for batch:  6\n",
      "\n",
      "*********\n",
      "\n",
      "\n"
     ]
    },
    {
     "name": "stderr",
     "output_type": "stream",
     "text": [
      "Running TensorFlow Graph Passes: 100%|██████████| 5/5 [00:01<00:00,  4.53 passes/s]\n",
      "Converting Frontend ==> MIL Ops: 100%|██████████| 131/131 [00:00<00:00, 940.78 ops/s] \n",
      "Running MIL Common passes: 100%|██████████| 33/33 [00:00<00:00, 87.25 passes/s] \n",
      "Running MIL Clean up passes: 100%|██████████| 8/8 [00:00<00:00, 76.34 passes/s]\n",
      "Translating MIL ==> NeuralNetwork Ops: 100%|██████████| 141/141 [00:01<00:00, 107.46 ops/s]\n"
     ]
    },
    {
     "name": "stdout",
     "output_type": "stream",
     "text": [
      "converting for batch:  7\n",
      "\n",
      "*********\n",
      "\n",
      "\n"
     ]
    },
    {
     "name": "stderr",
     "output_type": "stream",
     "text": [
      "Running TensorFlow Graph Passes: 100%|██████████| 5/5 [00:01<00:00,  4.45 passes/s]\n",
      "Converting Frontend ==> MIL Ops: 100%|██████████| 131/131 [00:00<00:00, 1046.89 ops/s]\n",
      "Running MIL Common passes: 100%|██████████| 33/33 [00:00<00:00, 70.81 passes/s] \n",
      "Running MIL Clean up passes: 100%|██████████| 8/8 [00:00<00:00, 101.72 passes/s]\n",
      "Translating MIL ==> NeuralNetwork Ops: 100%|██████████| 141/141 [00:01<00:00, 111.54 ops/s]\n"
     ]
    },
    {
     "name": "stdout",
     "output_type": "stream",
     "text": [
      "converting for batch:  8\n",
      "\n",
      "*********\n",
      "\n",
      "\n"
     ]
    },
    {
     "name": "stderr",
     "output_type": "stream",
     "text": [
      "Running TensorFlow Graph Passes: 100%|██████████| 5/5 [00:01<00:00,  4.37 passes/s]\n",
      "Converting Frontend ==> MIL Ops: 100%|██████████| 131/131 [00:00<00:00, 995.26 ops/s] \n",
      "Running MIL Common passes: 100%|██████████| 33/33 [00:00<00:00, 79.78 passes/s] \n",
      "Running MIL Clean up passes: 100%|██████████| 8/8 [00:00<00:00, 104.05 passes/s]\n",
      "Translating MIL ==> NeuralNetwork Ops: 100%|██████████| 141/141 [00:01<00:00, 113.89 ops/s]\n"
     ]
    },
    {
     "name": "stdout",
     "output_type": "stream",
     "text": [
      "converting for batch:  9\n",
      "\n",
      "*********\n",
      "\n",
      "\n"
     ]
    },
    {
     "name": "stderr",
     "output_type": "stream",
     "text": [
      "Running TensorFlow Graph Passes: 100%|██████████| 5/5 [00:01<00:00,  4.14 passes/s]\n",
      "Converting Frontend ==> MIL Ops: 100%|██████████| 131/131 [00:00<00:00, 1044.56 ops/s]\n",
      "Running MIL Common passes: 100%|██████████| 33/33 [00:00<00:00, 91.26 passes/s] \n",
      "Running MIL Clean up passes: 100%|██████████| 8/8 [00:00<00:00, 101.91 passes/s]\n",
      "Translating MIL ==> NeuralNetwork Ops: 100%|██████████| 141/141 [00:01<00:00, 109.68 ops/s]\n"
     ]
    },
    {
     "name": "stdout",
     "output_type": "stream",
     "text": [
      "Conversion complete in 3m 25s\n",
      "################ Batch size:  50\n",
      "converting for batch:  0\n",
      "\n",
      "*********\n",
      "\n",
      "\n"
     ]
    },
    {
     "name": "stderr",
     "output_type": "stream",
     "text": [
      "Running TensorFlow Graph Passes: 100%|██████████| 5/5 [00:01<00:00,  4.48 passes/s]\n",
      "Converting Frontend ==> MIL Ops: 100%|██████████| 131/131 [00:00<00:00, 1012.56 ops/s]\n",
      "Running MIL Common passes: 100%|██████████| 33/33 [00:00<00:00, 79.59 passes/s] \n",
      "Running MIL Clean up passes: 100%|██████████| 8/8 [00:00<00:00, 102.33 passes/s]\n",
      "Translating MIL ==> NeuralNetwork Ops: 100%|██████████| 141/141 [00:01<00:00, 112.46 ops/s]\n"
     ]
    },
    {
     "name": "stdout",
     "output_type": "stream",
     "text": [
      "converting for batch:  1\n",
      "\n",
      "*********\n",
      "\n",
      "\n"
     ]
    },
    {
     "name": "stderr",
     "output_type": "stream",
     "text": [
      "Running TensorFlow Graph Passes: 100%|██████████| 5/5 [00:01<00:00,  4.46 passes/s]\n",
      "Converting Frontend ==> MIL Ops: 100%|██████████| 131/131 [00:00<00:00, 1009.78 ops/s]\n",
      "Running MIL Common passes: 100%|██████████| 33/33 [00:00<00:00, 89.91 passes/s] \n",
      "Running MIL Clean up passes: 100%|██████████| 8/8 [00:00<00:00, 115.30 passes/s]\n",
      "Translating MIL ==> NeuralNetwork Ops: 100%|██████████| 141/141 [00:01<00:00, 104.31 ops/s]\n"
     ]
    },
    {
     "name": "stdout",
     "output_type": "stream",
     "text": [
      "converting for batch:  2\n",
      "\n",
      "*********\n",
      "\n",
      "\n"
     ]
    },
    {
     "name": "stderr",
     "output_type": "stream",
     "text": [
      "Running TensorFlow Graph Passes: 100%|██████████| 5/5 [00:01<00:00,  4.42 passes/s]\n",
      "Converting Frontend ==> MIL Ops: 100%|██████████| 131/131 [00:00<00:00, 1028.90 ops/s]\n",
      "Running MIL Common passes: 100%|██████████| 33/33 [00:00<00:00, 85.00 passes/s] \n",
      "Running MIL Clean up passes: 100%|██████████| 8/8 [00:00<00:00, 105.38 passes/s]\n",
      "Translating MIL ==> NeuralNetwork Ops: 100%|██████████| 141/141 [00:01<00:00, 108.68 ops/s]\n"
     ]
    },
    {
     "name": "stdout",
     "output_type": "stream",
     "text": [
      "converting for batch:  3\n",
      "\n",
      "*********\n",
      "\n",
      "\n"
     ]
    },
    {
     "name": "stderr",
     "output_type": "stream",
     "text": [
      "Running TensorFlow Graph Passes: 100%|██████████| 5/5 [00:01<00:00,  4.39 passes/s]\n",
      "Converting Frontend ==> MIL Ops: 100%|██████████| 131/131 [00:00<00:00, 1040.80 ops/s]\n",
      "Running MIL Common passes: 100%|██████████| 33/33 [00:00<00:00, 86.07 passes/s] \n",
      "Running MIL Clean up passes: 100%|██████████| 8/8 [00:00<00:00, 101.97 passes/s]\n",
      "Translating MIL ==> NeuralNetwork Ops: 100%|██████████| 141/141 [00:01<00:00, 113.05 ops/s]\n"
     ]
    },
    {
     "name": "stdout",
     "output_type": "stream",
     "text": [
      "converting for batch:  4\n",
      "\n",
      "*********\n",
      "\n",
      "\n"
     ]
    },
    {
     "name": "stderr",
     "output_type": "stream",
     "text": [
      "Running TensorFlow Graph Passes: 100%|██████████| 5/5 [00:01<00:00,  4.40 passes/s]\n",
      "Converting Frontend ==> MIL Ops: 100%|██████████| 131/131 [00:00<00:00, 1024.28 ops/s]\n",
      "Running MIL Common passes: 100%|██████████| 33/33 [00:00<00:00, 86.66 passes/s] \n",
      "Running MIL Clean up passes: 100%|██████████| 8/8 [00:00<00:00, 104.90 passes/s]\n",
      "Translating MIL ==> NeuralNetwork Ops: 100%|██████████| 141/141 [00:01<00:00, 114.68 ops/s]\n"
     ]
    },
    {
     "name": "stdout",
     "output_type": "stream",
     "text": [
      "converting for batch:  5\n",
      "\n",
      "*********\n",
      "\n",
      "\n"
     ]
    },
    {
     "name": "stderr",
     "output_type": "stream",
     "text": [
      "Running TensorFlow Graph Passes: 100%|██████████| 5/5 [00:01<00:00,  4.48 passes/s]\n",
      "Converting Frontend ==> MIL Ops: 100%|██████████| 131/131 [00:00<00:00, 1026.76 ops/s]\n",
      "Running MIL Common passes: 100%|██████████| 33/33 [00:00<00:00, 76.92 passes/s] \n",
      "Running MIL Clean up passes: 100%|██████████| 8/8 [00:00<00:00, 104.44 passes/s]\n",
      "Translating MIL ==> NeuralNetwork Ops: 100%|██████████| 141/141 [00:01<00:00, 107.09 ops/s]\n"
     ]
    },
    {
     "name": "stdout",
     "output_type": "stream",
     "text": [
      "converting for batch:  6\n",
      "\n",
      "*********\n",
      "\n",
      "\n"
     ]
    },
    {
     "name": "stderr",
     "output_type": "stream",
     "text": [
      "Running TensorFlow Graph Passes: 100%|██████████| 5/5 [00:01<00:00,  4.48 passes/s]\n",
      "Converting Frontend ==> MIL Ops: 100%|██████████| 131/131 [00:00<00:00, 995.72 ops/s] \n",
      "Running MIL Common passes: 100%|██████████| 33/33 [00:00<00:00, 86.98 passes/s] \n",
      "Running MIL Clean up passes: 100%|██████████| 8/8 [00:00<00:00, 101.51 passes/s]\n",
      "Translating MIL ==> NeuralNetwork Ops: 100%|██████████| 141/141 [00:01<00:00, 107.16 ops/s]\n"
     ]
    },
    {
     "name": "stdout",
     "output_type": "stream",
     "text": [
      "converting for batch:  7\n",
      "\n",
      "*********\n",
      "\n",
      "\n"
     ]
    },
    {
     "name": "stderr",
     "output_type": "stream",
     "text": [
      "Running TensorFlow Graph Passes: 100%|██████████| 5/5 [00:01<00:00,  4.44 passes/s]\n",
      "Converting Frontend ==> MIL Ops: 100%|██████████| 131/131 [00:00<00:00, 1022.59 ops/s]\n",
      "Running MIL Common passes: 100%|██████████| 33/33 [00:00<00:00, 90.41 passes/s] \n",
      "Running MIL Clean up passes: 100%|██████████| 8/8 [00:00<00:00, 102.89 passes/s]\n",
      "Translating MIL ==> NeuralNetwork Ops: 100%|██████████| 141/141 [00:01<00:00, 113.77 ops/s]\n"
     ]
    },
    {
     "name": "stdout",
     "output_type": "stream",
     "text": [
      "converting for batch:  8\n",
      "\n",
      "*********\n",
      "\n",
      "\n"
     ]
    },
    {
     "name": "stderr",
     "output_type": "stream",
     "text": [
      "Running TensorFlow Graph Passes: 100%|██████████| 5/5 [00:01<00:00,  4.44 passes/s]\n",
      "Converting Frontend ==> MIL Ops: 100%|██████████| 131/131 [00:00<00:00, 1020.58 ops/s]\n",
      "Running MIL Common passes: 100%|██████████| 33/33 [00:00<00:00, 86.57 passes/s] \n",
      "Running MIL Clean up passes: 100%|██████████| 8/8 [00:00<00:00, 104.57 passes/s]\n",
      "Translating MIL ==> NeuralNetwork Ops: 100%|██████████| 141/141 [00:01<00:00, 112.61 ops/s]\n"
     ]
    },
    {
     "name": "stdout",
     "output_type": "stream",
     "text": [
      "converting for batch:  9\n",
      "\n",
      "*********\n",
      "\n",
      "\n"
     ]
    },
    {
     "name": "stderr",
     "output_type": "stream",
     "text": [
      "Running TensorFlow Graph Passes: 100%|██████████| 5/5 [00:01<00:00,  4.47 passes/s]\n",
      "Converting Frontend ==> MIL Ops: 100%|██████████| 131/131 [00:00<00:00, 1006.15 ops/s]\n",
      "Running MIL Common passes: 100%|██████████| 33/33 [00:00<00:00, 90.27 passes/s] \n",
      "Running MIL Clean up passes: 100%|██████████| 8/8 [00:00<00:00, 106.69 passes/s]\n",
      "Translating MIL ==> NeuralNetwork Ops: 100%|██████████| 141/141 [00:01<00:00, 113.77 ops/s]\n"
     ]
    },
    {
     "name": "stdout",
     "output_type": "stream",
     "text": [
      "Conversion complete in 3m 30s\n",
      "################ Batch size:  100\n",
      "converting for batch:  0\n",
      "\n",
      "*********\n",
      "\n",
      "\n"
     ]
    },
    {
     "name": "stderr",
     "output_type": "stream",
     "text": [
      "Running TensorFlow Graph Passes: 100%|██████████| 5/5 [00:01<00:00,  4.40 passes/s]\n",
      "Converting Frontend ==> MIL Ops: 100%|██████████| 131/131 [00:00<00:00, 1046.28 ops/s]\n",
      "Running MIL Common passes: 100%|██████████| 33/33 [00:00<00:00, 83.43 passes/s] \n",
      "Running MIL Clean up passes: 100%|██████████| 8/8 [00:00<00:00, 100.73 passes/s]\n",
      "Translating MIL ==> NeuralNetwork Ops: 100%|██████████| 141/141 [00:01<00:00, 113.16 ops/s]\n"
     ]
    },
    {
     "name": "stdout",
     "output_type": "stream",
     "text": [
      "converting for batch:  1\n",
      "\n",
      "*********\n",
      "\n",
      "\n"
     ]
    },
    {
     "name": "stderr",
     "output_type": "stream",
     "text": [
      "Running TensorFlow Graph Passes: 100%|██████████| 5/5 [00:01<00:00,  4.38 passes/s]\n",
      "Converting Frontend ==> MIL Ops: 100%|██████████| 131/131 [00:00<00:00, 1053.20 ops/s]\n",
      "Running MIL Common passes: 100%|██████████| 33/33 [00:00<00:00, 86.32 passes/s] \n",
      "Running MIL Clean up passes: 100%|██████████| 8/8 [00:00<00:00, 100.13 passes/s]\n",
      "Translating MIL ==> NeuralNetwork Ops: 100%|██████████| 141/141 [00:01<00:00, 110.17 ops/s]\n"
     ]
    },
    {
     "name": "stdout",
     "output_type": "stream",
     "text": [
      "converting for batch:  2\n",
      "\n",
      "*********\n",
      "\n",
      "\n"
     ]
    },
    {
     "name": "stderr",
     "output_type": "stream",
     "text": [
      "Running TensorFlow Graph Passes: 100%|██████████| 5/5 [00:01<00:00,  4.36 passes/s]\n",
      "Converting Frontend ==> MIL Ops: 100%|██████████| 131/131 [00:00<00:00, 901.91 ops/s] \n",
      "Running MIL Common passes: 100%|██████████| 33/33 [00:00<00:00, 86.37 passes/s] \n",
      "Running MIL Clean up passes: 100%|██████████| 8/8 [00:00<00:00, 104.21 passes/s]\n",
      "Translating MIL ==> NeuralNetwork Ops: 100%|██████████| 141/141 [00:01<00:00, 111.07 ops/s]\n"
     ]
    },
    {
     "name": "stdout",
     "output_type": "stream",
     "text": [
      "converting for batch:  3\n",
      "\n",
      "*********\n",
      "\n",
      "\n"
     ]
    },
    {
     "name": "stderr",
     "output_type": "stream",
     "text": [
      "Running TensorFlow Graph Passes: 100%|██████████| 5/5 [00:01<00:00,  4.50 passes/s]\n",
      "Converting Frontend ==> MIL Ops: 100%|██████████| 131/131 [00:00<00:00, 1008.34 ops/s]\n",
      "Running MIL Common passes: 100%|██████████| 33/33 [00:00<00:00, 76.87 passes/s] \n",
      "Running MIL Clean up passes: 100%|██████████| 8/8 [00:00<00:00, 100.58 passes/s]\n",
      "Translating MIL ==> NeuralNetwork Ops: 100%|██████████| 141/141 [00:01<00:00, 103.71 ops/s]\n"
     ]
    },
    {
     "name": "stdout",
     "output_type": "stream",
     "text": [
      "converting for batch:  4\n",
      "\n",
      "*********\n",
      "\n",
      "\n"
     ]
    },
    {
     "name": "stderr",
     "output_type": "stream",
     "text": [
      "Running TensorFlow Graph Passes: 100%|██████████| 5/5 [00:01<00:00,  4.41 passes/s]\n",
      "Converting Frontend ==> MIL Ops: 100%|██████████| 131/131 [00:00<00:00, 1011.20 ops/s]\n",
      "Running MIL Common passes: 100%|██████████| 33/33 [00:00<00:00, 89.90 passes/s] \n",
      "Running MIL Clean up passes: 100%|██████████| 8/8 [00:00<00:00, 101.42 passes/s]\n",
      "Translating MIL ==> NeuralNetwork Ops: 100%|██████████| 141/141 [00:01<00:00, 113.07 ops/s]\n"
     ]
    },
    {
     "name": "stdout",
     "output_type": "stream",
     "text": [
      "converting for batch:  5\n",
      "\n",
      "*********\n",
      "\n",
      "\n"
     ]
    },
    {
     "name": "stderr",
     "output_type": "stream",
     "text": [
      "Running TensorFlow Graph Passes: 100%|██████████| 5/5 [00:01<00:00,  4.46 passes/s]\n",
      "Converting Frontend ==> MIL Ops: 100%|██████████| 131/131 [00:00<00:00, 955.00 ops/s] \n",
      "Running MIL Common passes: 100%|██████████| 33/33 [00:00<00:00, 88.44 passes/s] \n",
      "Running MIL Clean up passes: 100%|██████████| 8/8 [00:00<00:00, 89.34 passes/s]\n",
      "Translating MIL ==> NeuralNetwork Ops: 100%|██████████| 141/141 [00:01<00:00, 116.45 ops/s]\n"
     ]
    },
    {
     "name": "stdout",
     "output_type": "stream",
     "text": [
      "converting for batch:  6\n",
      "\n",
      "*********\n",
      "\n",
      "\n"
     ]
    },
    {
     "name": "stderr",
     "output_type": "stream",
     "text": [
      "Running TensorFlow Graph Passes: 100%|██████████| 5/5 [00:01<00:00,  4.42 passes/s]\n",
      "Converting Frontend ==> MIL Ops: 100%|██████████| 131/131 [00:00<00:00, 1002.95 ops/s]\n",
      "Running MIL Common passes: 100%|██████████| 33/33 [00:00<00:00, 77.90 passes/s] \n",
      "Running MIL Clean up passes: 100%|██████████| 8/8 [00:00<00:00, 102.79 passes/s]\n",
      "Translating MIL ==> NeuralNetwork Ops: 100%|██████████| 141/141 [00:01<00:00, 110.75 ops/s]\n"
     ]
    },
    {
     "name": "stdout",
     "output_type": "stream",
     "text": [
      "converting for batch:  7\n",
      "\n",
      "*********\n",
      "\n",
      "\n"
     ]
    },
    {
     "name": "stderr",
     "output_type": "stream",
     "text": [
      "Running TensorFlow Graph Passes: 100%|██████████| 5/5 [00:01<00:00,  4.44 passes/s]\n",
      "Converting Frontend ==> MIL Ops: 100%|██████████| 131/131 [00:00<00:00, 982.57 ops/s] \n",
      "Running MIL Common passes: 100%|██████████| 33/33 [00:00<00:00, 89.54 passes/s] \n",
      "Running MIL Clean up passes: 100%|██████████| 8/8 [00:00<00:00, 102.32 passes/s]\n",
      "Translating MIL ==> NeuralNetwork Ops: 100%|██████████| 141/141 [00:01<00:00, 111.27 ops/s]\n"
     ]
    },
    {
     "name": "stdout",
     "output_type": "stream",
     "text": [
      "converting for batch:  8\n",
      "\n",
      "*********\n",
      "\n",
      "\n"
     ]
    },
    {
     "name": "stderr",
     "output_type": "stream",
     "text": [
      "Running TensorFlow Graph Passes: 100%|██████████| 5/5 [00:01<00:00,  4.45 passes/s]\n",
      "Converting Frontend ==> MIL Ops: 100%|██████████| 131/131 [00:00<00:00, 1006.43 ops/s]\n",
      "Running MIL Common passes: 100%|██████████| 33/33 [00:00<00:00, 90.86 passes/s] \n",
      "Running MIL Clean up passes: 100%|██████████| 8/8 [00:00<00:00, 102.31 passes/s]\n",
      "Translating MIL ==> NeuralNetwork Ops: 100%|██████████| 141/141 [00:01<00:00, 111.29 ops/s]\n"
     ]
    },
    {
     "name": "stdout",
     "output_type": "stream",
     "text": [
      "converting for batch:  9\n",
      "\n",
      "*********\n",
      "\n",
      "\n"
     ]
    },
    {
     "name": "stderr",
     "output_type": "stream",
     "text": [
      "Running TensorFlow Graph Passes: 100%|██████████| 5/5 [00:01<00:00,  4.35 passes/s]\n",
      "Converting Frontend ==> MIL Ops: 100%|██████████| 131/131 [00:00<00:00, 1005.02 ops/s]\n",
      "Running MIL Common passes: 100%|██████████| 33/33 [00:00<00:00, 83.79 passes/s] \n",
      "Running MIL Clean up passes: 100%|██████████| 8/8 [00:00<00:00, 102.31 passes/s]\n",
      "Translating MIL ==> NeuralNetwork Ops: 100%|██████████| 141/141 [00:01<00:00, 105.55 ops/s]\n"
     ]
    },
    {
     "name": "stdout",
     "output_type": "stream",
     "text": [
      "Conversion complete in 3m 39s\n",
      "################ Batch size:  128\n",
      "converting for batch:  0\n",
      "\n",
      "*********\n",
      "\n",
      "\n"
     ]
    },
    {
     "name": "stderr",
     "output_type": "stream",
     "text": [
      "Running TensorFlow Graph Passes: 100%|██████████| 5/5 [00:01<00:00,  4.44 passes/s]\n",
      "Converting Frontend ==> MIL Ops: 100%|██████████| 131/131 [00:00<00:00, 1053.54 ops/s]\n",
      "Running MIL Common passes: 100%|██████████| 33/33 [00:00<00:00, 91.03 passes/s] \n",
      "Running MIL Clean up passes: 100%|██████████| 8/8 [00:00<00:00, 105.01 passes/s]\n",
      "Translating MIL ==> NeuralNetwork Ops: 100%|██████████| 141/141 [00:01<00:00, 114.76 ops/s]\n"
     ]
    },
    {
     "name": "stdout",
     "output_type": "stream",
     "text": [
      "converting for batch:  1\n",
      "\n",
      "*********\n",
      "\n",
      "\n"
     ]
    },
    {
     "name": "stderr",
     "output_type": "stream",
     "text": [
      "Running TensorFlow Graph Passes: 100%|██████████| 5/5 [00:01<00:00,  4.38 passes/s]\n",
      "Converting Frontend ==> MIL Ops: 100%|██████████| 131/131 [00:00<00:00, 1025.35 ops/s]\n",
      "Running MIL Common passes: 100%|██████████| 33/33 [00:00<00:00, 88.91 passes/s] \n",
      "Running MIL Clean up passes: 100%|██████████| 8/8 [00:00<00:00, 101.43 passes/s]\n",
      "Translating MIL ==> NeuralNetwork Ops: 100%|██████████| 141/141 [00:01<00:00, 111.34 ops/s]\n"
     ]
    },
    {
     "name": "stdout",
     "output_type": "stream",
     "text": [
      "converting for batch:  2\n",
      "\n",
      "*********\n",
      "\n",
      "\n"
     ]
    },
    {
     "name": "stderr",
     "output_type": "stream",
     "text": [
      "Running TensorFlow Graph Passes: 100%|██████████| 5/5 [00:01<00:00,  4.33 passes/s]\n",
      "Converting Frontend ==> MIL Ops: 100%|██████████| 131/131 [00:00<00:00, 900.26 ops/s] \n",
      "Running MIL Common passes: 100%|██████████| 33/33 [00:00<00:00, 83.97 passes/s] \n",
      "Running MIL Clean up passes: 100%|██████████| 8/8 [00:00<00:00, 99.40 passes/s]\n",
      "Translating MIL ==> NeuralNetwork Ops: 100%|██████████| 141/141 [00:01<00:00, 108.32 ops/s]\n"
     ]
    },
    {
     "name": "stdout",
     "output_type": "stream",
     "text": [
      "converting for batch:  3\n",
      "\n",
      "*********\n",
      "\n",
      "\n"
     ]
    },
    {
     "name": "stderr",
     "output_type": "stream",
     "text": [
      "Running TensorFlow Graph Passes: 100%|██████████| 5/5 [00:01<00:00,  4.39 passes/s]\n",
      "Converting Frontend ==> MIL Ops: 100%|██████████| 131/131 [00:00<00:00, 1033.25 ops/s]\n",
      "Running MIL Common passes: 100%|██████████| 33/33 [00:00<00:00, 87.06 passes/s] \n",
      "Running MIL Clean up passes: 100%|██████████| 8/8 [00:00<00:00, 107.53 passes/s]\n",
      "Translating MIL ==> NeuralNetwork Ops: 100%|██████████| 141/141 [00:01<00:00, 110.07 ops/s]\n"
     ]
    },
    {
     "name": "stdout",
     "output_type": "stream",
     "text": [
      "converting for batch:  4\n",
      "\n",
      "*********\n",
      "\n",
      "\n"
     ]
    },
    {
     "name": "stderr",
     "output_type": "stream",
     "text": [
      "Running TensorFlow Graph Passes: 100%|██████████| 5/5 [00:01<00:00,  4.40 passes/s]\n",
      "Converting Frontend ==> MIL Ops: 100%|██████████| 131/131 [00:00<00:00, 1045.18 ops/s]\n",
      "Running MIL Common passes: 100%|██████████| 33/33 [00:00<00:00, 87.43 passes/s] \n",
      "Running MIL Clean up passes: 100%|██████████| 8/8 [00:00<00:00, 105.89 passes/s]\n",
      "Translating MIL ==> NeuralNetwork Ops: 100%|██████████| 141/141 [00:01<00:00, 112.66 ops/s]\n"
     ]
    },
    {
     "name": "stdout",
     "output_type": "stream",
     "text": [
      "converting for batch:  5\n",
      "\n",
      "*********\n",
      "\n",
      "\n"
     ]
    },
    {
     "name": "stderr",
     "output_type": "stream",
     "text": [
      "Running TensorFlow Graph Passes: 100%|██████████| 5/5 [00:01<00:00,  4.39 passes/s]\n",
      "Converting Frontend ==> MIL Ops: 100%|██████████| 131/131 [00:00<00:00, 1051.46 ops/s]\n",
      "Running MIL Common passes: 100%|██████████| 33/33 [00:00<00:00, 87.58 passes/s] \n",
      "Running MIL Clean up passes: 100%|██████████| 8/8 [00:00<00:00, 104.90 passes/s]\n",
      "Translating MIL ==> NeuralNetwork Ops: 100%|██████████| 141/141 [00:01<00:00, 106.05 ops/s]\n"
     ]
    },
    {
     "name": "stdout",
     "output_type": "stream",
     "text": [
      "converting for batch:  6\n",
      "\n",
      "*********\n",
      "\n",
      "\n"
     ]
    },
    {
     "name": "stderr",
     "output_type": "stream",
     "text": [
      "Running TensorFlow Graph Passes: 100%|██████████| 5/5 [00:01<00:00,  4.37 passes/s]\n",
      "Converting Frontend ==> MIL Ops: 100%|██████████| 131/131 [00:00<00:00, 1022.67 ops/s]\n",
      "Running MIL Common passes: 100%|██████████| 33/33 [00:00<00:00, 84.50 passes/s] \n",
      "Running MIL Clean up passes: 100%|██████████| 8/8 [00:00<00:00, 102.46 passes/s]\n",
      "Translating MIL ==> NeuralNetwork Ops: 100%|██████████| 141/141 [00:01<00:00, 112.13 ops/s]\n"
     ]
    },
    {
     "name": "stdout",
     "output_type": "stream",
     "text": [
      "converting for batch:  7\n",
      "\n",
      "*********\n",
      "\n",
      "\n"
     ]
    },
    {
     "name": "stderr",
     "output_type": "stream",
     "text": [
      "Running TensorFlow Graph Passes: 100%|██████████| 5/5 [00:01<00:00,  4.34 passes/s]\n",
      "Converting Frontend ==> MIL Ops: 100%|██████████| 131/131 [00:00<00:00, 1060.14 ops/s]\n",
      "Running MIL Common passes: 100%|██████████| 33/33 [00:00<00:00, 84.47 passes/s] \n",
      "Running MIL Clean up passes: 100%|██████████| 8/8 [00:00<00:00, 98.09 passes/s]\n",
      "Translating MIL ==> NeuralNetwork Ops: 100%|██████████| 141/141 [00:01<00:00, 113.83 ops/s]\n"
     ]
    },
    {
     "name": "stdout",
     "output_type": "stream",
     "text": [
      "converting for batch:  8\n",
      "\n",
      "*********\n",
      "\n",
      "\n"
     ]
    },
    {
     "name": "stderr",
     "output_type": "stream",
     "text": [
      "Running TensorFlow Graph Passes: 100%|██████████| 5/5 [00:01<00:00,  4.20 passes/s]\n",
      "Converting Frontend ==> MIL Ops: 100%|██████████| 131/131 [00:00<00:00, 1002.29 ops/s]\n",
      "Running MIL Common passes: 100%|██████████| 33/33 [00:00<00:00, 89.82 passes/s] \n",
      "Running MIL Clean up passes: 100%|██████████| 8/8 [00:00<00:00, 102.83 passes/s]\n",
      "Translating MIL ==> NeuralNetwork Ops: 100%|██████████| 141/141 [00:01<00:00, 112.71 ops/s]\n"
     ]
    },
    {
     "name": "stdout",
     "output_type": "stream",
     "text": [
      "converting for batch:  9\n",
      "\n",
      "*********\n",
      "\n",
      "\n"
     ]
    },
    {
     "name": "stderr",
     "output_type": "stream",
     "text": [
      "Running TensorFlow Graph Passes: 100%|██████████| 5/5 [00:01<00:00,  4.38 passes/s]\n",
      "Converting Frontend ==> MIL Ops: 100%|██████████| 131/131 [00:00<00:00, 992.51 ops/s] \n",
      "Running MIL Common passes: 100%|██████████| 33/33 [00:00<00:00, 90.94 passes/s] \n",
      "Running MIL Clean up passes: 100%|██████████| 8/8 [00:00<00:00, 103.74 passes/s]\n",
      "Translating MIL ==> NeuralNetwork Ops: 100%|██████████| 141/141 [00:01<00:00, 114.29 ops/s]\n"
     ]
    },
    {
     "name": "stdout",
     "output_type": "stream",
     "text": [
      "Conversion complete in 3m 43s\n",
      "################ Batch size:  150\n",
      "converting for batch:  0\n",
      "\n",
      "*********\n",
      "\n",
      "\n"
     ]
    },
    {
     "name": "stderr",
     "output_type": "stream",
     "text": [
      "Running TensorFlow Graph Passes: 100%|██████████| 5/5 [00:01<00:00,  4.27 passes/s]\n",
      "Converting Frontend ==> MIL Ops: 100%|██████████| 131/131 [00:00<00:00, 1056.31 ops/s]\n",
      "Running MIL Common passes: 100%|██████████| 33/33 [00:00<00:00, 86.40 passes/s] \n",
      "Running MIL Clean up passes: 100%|██████████| 8/8 [00:00<00:00, 103.73 passes/s]\n",
      "Translating MIL ==> NeuralNetwork Ops: 100%|██████████| 141/141 [00:01<00:00, 108.23 ops/s]\n"
     ]
    },
    {
     "name": "stdout",
     "output_type": "stream",
     "text": [
      "converting for batch:  1\n",
      "\n",
      "*********\n",
      "\n",
      "\n"
     ]
    },
    {
     "name": "stderr",
     "output_type": "stream",
     "text": [
      "Running TensorFlow Graph Passes: 100%|██████████| 5/5 [00:01<00:00,  4.46 passes/s]\n",
      "Converting Frontend ==> MIL Ops: 100%|██████████| 131/131 [00:00<00:00, 1016.79 ops/s]\n",
      "Running MIL Common passes: 100%|██████████| 33/33 [00:00<00:00, 83.65 passes/s] \n",
      "Running MIL Clean up passes: 100%|██████████| 8/8 [00:00<00:00, 107.71 passes/s]\n",
      "Translating MIL ==> NeuralNetwork Ops: 100%|██████████| 141/141 [00:01<00:00, 108.22 ops/s]\n"
     ]
    },
    {
     "name": "stdout",
     "output_type": "stream",
     "text": [
      "converting for batch:  2\n",
      "\n",
      "*********\n",
      "\n",
      "\n"
     ]
    },
    {
     "name": "stderr",
     "output_type": "stream",
     "text": [
      "Running TensorFlow Graph Passes: 100%|██████████| 5/5 [00:01<00:00,  4.20 passes/s]\n",
      "Converting Frontend ==> MIL Ops: 100%|██████████| 131/131 [00:00<00:00, 982.82 ops/s] \n",
      "Running MIL Common passes: 100%|██████████| 33/33 [00:00<00:00, 88.85 passes/s] \n",
      "Running MIL Clean up passes: 100%|██████████| 8/8 [00:00<00:00, 103.83 passes/s]\n",
      "Translating MIL ==> NeuralNetwork Ops: 100%|██████████| 141/141 [00:01<00:00, 109.40 ops/s]\n"
     ]
    },
    {
     "name": "stdout",
     "output_type": "stream",
     "text": [
      "converting for batch:  3\n",
      "\n",
      "*********\n",
      "\n",
      "\n"
     ]
    },
    {
     "name": "stderr",
     "output_type": "stream",
     "text": [
      "Running TensorFlow Graph Passes: 100%|██████████| 5/5 [00:01<00:00,  4.32 passes/s]\n",
      "Converting Frontend ==> MIL Ops: 100%|██████████| 131/131 [00:00<00:00, 1023.40 ops/s]\n",
      "Running MIL Common passes: 100%|██████████| 33/33 [00:00<00:00, 84.61 passes/s] \n",
      "Running MIL Clean up passes: 100%|██████████| 8/8 [00:00<00:00, 103.26 passes/s]\n",
      "Translating MIL ==> NeuralNetwork Ops: 100%|██████████| 141/141 [00:01<00:00, 109.94 ops/s]\n"
     ]
    },
    {
     "name": "stdout",
     "output_type": "stream",
     "text": [
      "converting for batch:  4\n",
      "\n",
      "*********\n",
      "\n",
      "\n"
     ]
    },
    {
     "name": "stderr",
     "output_type": "stream",
     "text": [
      "Running TensorFlow Graph Passes: 100%|██████████| 5/5 [00:01<00:00,  4.34 passes/s]\n",
      "Converting Frontend ==> MIL Ops: 100%|██████████| 131/131 [00:00<00:00, 1015.23 ops/s]\n",
      "Running MIL Common passes: 100%|██████████| 33/33 [00:00<00:00, 88.45 passes/s] \n",
      "Running MIL Clean up passes: 100%|██████████| 8/8 [00:00<00:00, 102.34 passes/s]\n",
      "Translating MIL ==> NeuralNetwork Ops: 100%|██████████| 141/141 [00:01<00:00, 115.09 ops/s]\n"
     ]
    },
    {
     "name": "stdout",
     "output_type": "stream",
     "text": [
      "converting for batch:  5\n",
      "\n",
      "*********\n",
      "\n",
      "\n"
     ]
    },
    {
     "name": "stderr",
     "output_type": "stream",
     "text": [
      "Running TensorFlow Graph Passes: 100%|██████████| 5/5 [00:01<00:00,  4.26 passes/s]\n",
      "Converting Frontend ==> MIL Ops: 100%|██████████| 131/131 [00:00<00:00, 1015.25 ops/s]\n",
      "Running MIL Common passes: 100%|██████████| 33/33 [00:00<00:00, 85.32 passes/s] \n",
      "Running MIL Clean up passes: 100%|██████████| 8/8 [00:00<00:00, 100.44 passes/s]\n",
      "Translating MIL ==> NeuralNetwork Ops: 100%|██████████| 141/141 [00:01<00:00, 111.33 ops/s]\n"
     ]
    },
    {
     "name": "stdout",
     "output_type": "stream",
     "text": [
      "converting for batch:  6\n",
      "\n",
      "*********\n",
      "\n",
      "\n"
     ]
    },
    {
     "name": "stderr",
     "output_type": "stream",
     "text": [
      "Running TensorFlow Graph Passes: 100%|██████████| 5/5 [00:01<00:00,  4.37 passes/s]\n",
      "Converting Frontend ==> MIL Ops: 100%|██████████| 131/131 [00:00<00:00, 1028.44 ops/s]\n",
      "Running MIL Common passes: 100%|██████████| 33/33 [00:00<00:00, 88.17 passes/s] \n",
      "Running MIL Clean up passes: 100%|██████████| 8/8 [00:00<00:00, 107.58 passes/s]\n",
      "Translating MIL ==> NeuralNetwork Ops: 100%|██████████| 141/141 [00:01<00:00, 112.57 ops/s]\n"
     ]
    },
    {
     "name": "stdout",
     "output_type": "stream",
     "text": [
      "converting for batch:  7\n",
      "\n",
      "*********\n",
      "\n",
      "\n"
     ]
    },
    {
     "name": "stderr",
     "output_type": "stream",
     "text": [
      "Running TensorFlow Graph Passes: 100%|██████████| 5/5 [00:01<00:00,  4.36 passes/s]\n",
      "Converting Frontend ==> MIL Ops: 100%|██████████| 131/131 [00:00<00:00, 992.74 ops/s] \n",
      "Running MIL Common passes: 100%|██████████| 33/33 [00:00<00:00, 81.71 passes/s] \n",
      "Running MIL Clean up passes: 100%|██████████| 8/8 [00:00<00:00, 103.78 passes/s]\n",
      "Translating MIL ==> NeuralNetwork Ops: 100%|██████████| 141/141 [00:01<00:00, 109.56 ops/s]\n"
     ]
    },
    {
     "name": "stdout",
     "output_type": "stream",
     "text": [
      "converting for batch:  8\n",
      "\n",
      "*********\n",
      "\n",
      "\n"
     ]
    },
    {
     "name": "stderr",
     "output_type": "stream",
     "text": [
      "Running TensorFlow Graph Passes: 100%|██████████| 5/5 [00:01<00:00,  4.39 passes/s]\n",
      "Converting Frontend ==> MIL Ops: 100%|██████████| 131/131 [00:00<00:00, 995.06 ops/s] \n",
      "Running MIL Common passes: 100%|██████████| 33/33 [00:00<00:00, 84.46 passes/s] \n",
      "Running MIL Clean up passes: 100%|██████████| 8/8 [00:00<00:00, 100.50 passes/s]\n",
      "Translating MIL ==> NeuralNetwork Ops: 100%|██████████| 141/141 [00:01<00:00, 114.26 ops/s]\n"
     ]
    },
    {
     "name": "stdout",
     "output_type": "stream",
     "text": [
      "converting for batch:  9\n",
      "\n",
      "*********\n",
      "\n",
      "\n"
     ]
    },
    {
     "name": "stderr",
     "output_type": "stream",
     "text": [
      "Running TensorFlow Graph Passes: 100%|██████████| 5/5 [00:01<00:00,  4.29 passes/s]\n",
      "Converting Frontend ==> MIL Ops: 100%|██████████| 131/131 [00:00<00:00, 1002.62 ops/s]\n",
      "Running MIL Common passes: 100%|██████████| 33/33 [00:00<00:00, 88.52 passes/s] \n",
      "Running MIL Clean up passes: 100%|██████████| 8/8 [00:00<00:00, 103.76 passes/s]\n",
      "Translating MIL ==> NeuralNetwork Ops: 100%|██████████| 141/141 [00:01<00:00, 111.77 ops/s]\n"
     ]
    },
    {
     "name": "stdout",
     "output_type": "stream",
     "text": [
      "Conversion complete in 3m 47s\n",
      "################ Batch size:  200\n",
      "converting for batch:  0\n",
      "\n",
      "*********\n",
      "\n",
      "\n"
     ]
    },
    {
     "name": "stderr",
     "output_type": "stream",
     "text": [
      "Running TensorFlow Graph Passes: 100%|██████████| 5/5 [00:01<00:00,  4.31 passes/s]\n",
      "Converting Frontend ==> MIL Ops: 100%|██████████| 131/131 [00:00<00:00, 1029.89 ops/s]\n",
      "Running MIL Common passes: 100%|██████████| 33/33 [00:00<00:00, 82.06 passes/s] \n",
      "Running MIL Clean up passes: 100%|██████████| 8/8 [00:00<00:00, 103.68 passes/s]\n",
      "Translating MIL ==> NeuralNetwork Ops: 100%|██████████| 141/141 [00:01<00:00, 108.34 ops/s]\n"
     ]
    },
    {
     "name": "stdout",
     "output_type": "stream",
     "text": [
      "converting for batch:  1\n",
      "\n",
      "*********\n",
      "\n",
      "\n"
     ]
    },
    {
     "name": "stderr",
     "output_type": "stream",
     "text": [
      "Running TensorFlow Graph Passes: 100%|██████████| 5/5 [00:01<00:00,  4.36 passes/s]\n",
      "Converting Frontend ==> MIL Ops: 100%|██████████| 131/131 [00:00<00:00, 1004.03 ops/s]\n",
      "Running MIL Common passes: 100%|██████████| 33/33 [00:00<00:00, 75.32 passes/s] \n",
      "Running MIL Clean up passes: 100%|██████████| 8/8 [00:00<00:00, 102.60 passes/s]\n",
      "Translating MIL ==> NeuralNetwork Ops: 100%|██████████| 141/141 [00:01<00:00, 113.61 ops/s]\n"
     ]
    },
    {
     "name": "stdout",
     "output_type": "stream",
     "text": [
      "converting for batch:  2\n",
      "\n",
      "*********\n",
      "\n",
      "\n"
     ]
    },
    {
     "name": "stderr",
     "output_type": "stream",
     "text": [
      "Running TensorFlow Graph Passes: 100%|██████████| 5/5 [00:01<00:00,  4.39 passes/s]\n",
      "Converting Frontend ==> MIL Ops: 100%|██████████| 131/131 [00:00<00:00, 995.08 ops/s] \n",
      "Running MIL Common passes: 100%|██████████| 33/33 [00:00<00:00, 84.01 passes/s] \n",
      "Running MIL Clean up passes: 100%|██████████| 8/8 [00:00<00:00, 102.53 passes/s]\n",
      "Translating MIL ==> NeuralNetwork Ops: 100%|██████████| 141/141 [00:01<00:00, 106.68 ops/s]\n"
     ]
    },
    {
     "name": "stdout",
     "output_type": "stream",
     "text": [
      "converting for batch:  3\n",
      "\n",
      "*********\n",
      "\n",
      "\n"
     ]
    },
    {
     "name": "stderr",
     "output_type": "stream",
     "text": [
      "Running TensorFlow Graph Passes: 100%|██████████| 5/5 [00:01<00:00,  4.32 passes/s]\n",
      "Converting Frontend ==> MIL Ops: 100%|██████████| 131/131 [00:00<00:00, 1011.56 ops/s]\n",
      "Running MIL Common passes: 100%|██████████| 33/33 [00:00<00:00, 88.60 passes/s] \n",
      "Running MIL Clean up passes: 100%|██████████| 8/8 [00:00<00:00, 103.55 passes/s]\n",
      "Translating MIL ==> NeuralNetwork Ops: 100%|██████████| 141/141 [00:01<00:00, 110.46 ops/s]\n"
     ]
    },
    {
     "name": "stdout",
     "output_type": "stream",
     "text": [
      "converting for batch:  4\n",
      "\n",
      "*********\n",
      "\n",
      "\n"
     ]
    },
    {
     "name": "stderr",
     "output_type": "stream",
     "text": [
      "Running TensorFlow Graph Passes: 100%|██████████| 5/5 [00:01<00:00,  4.39 passes/s]\n",
      "Converting Frontend ==> MIL Ops: 100%|██████████| 131/131 [00:00<00:00, 903.18 ops/s] \n",
      "Running MIL Common passes: 100%|██████████| 33/33 [00:00<00:00, 77.80 passes/s] \n",
      "Running MIL Clean up passes: 100%|██████████| 8/8 [00:00<00:00, 101.51 passes/s]\n",
      "Translating MIL ==> NeuralNetwork Ops: 100%|██████████| 141/141 [00:01<00:00, 112.44 ops/s]\n"
     ]
    },
    {
     "name": "stdout",
     "output_type": "stream",
     "text": [
      "converting for batch:  5\n",
      "\n",
      "*********\n",
      "\n",
      "\n"
     ]
    },
    {
     "name": "stderr",
     "output_type": "stream",
     "text": [
      "Running TensorFlow Graph Passes: 100%|██████████| 5/5 [00:01<00:00,  4.32 passes/s]\n",
      "Converting Frontend ==> MIL Ops: 100%|██████████| 131/131 [00:00<00:00, 1001.81 ops/s]\n",
      "Running MIL Common passes: 100%|██████████| 33/33 [00:00<00:00, 85.84 passes/s] \n",
      "Running MIL Clean up passes: 100%|██████████| 8/8 [00:00<00:00, 102.67 passes/s]\n",
      "Translating MIL ==> NeuralNetwork Ops: 100%|██████████| 141/141 [00:01<00:00, 111.25 ops/s]\n"
     ]
    },
    {
     "name": "stdout",
     "output_type": "stream",
     "text": [
      "converting for batch:  6\n",
      "\n",
      "*********\n",
      "\n",
      "\n"
     ]
    },
    {
     "name": "stderr",
     "output_type": "stream",
     "text": [
      "Running TensorFlow Graph Passes: 100%|██████████| 5/5 [00:01<00:00,  4.37 passes/s]\n",
      "Converting Frontend ==> MIL Ops: 100%|██████████| 131/131 [00:00<00:00, 973.38 ops/s] \n",
      "Running MIL Common passes: 100%|██████████| 33/33 [00:00<00:00, 85.85 passes/s] \n",
      "Running MIL Clean up passes: 100%|██████████| 8/8 [00:00<00:00, 102.68 passes/s]\n",
      "Translating MIL ==> NeuralNetwork Ops: 100%|██████████| 141/141 [00:01<00:00, 109.52 ops/s]\n"
     ]
    },
    {
     "name": "stdout",
     "output_type": "stream",
     "text": [
      "converting for batch:  7\n",
      "\n",
      "*********\n",
      "\n",
      "\n"
     ]
    },
    {
     "name": "stderr",
     "output_type": "stream",
     "text": [
      "Running TensorFlow Graph Passes: 100%|██████████| 5/5 [00:01<00:00,  4.39 passes/s]\n",
      "Converting Frontend ==> MIL Ops: 100%|██████████| 131/131 [00:00<00:00, 898.83 ops/s]\n",
      "Running MIL Common passes: 100%|██████████| 33/33 [00:00<00:00, 87.74 passes/s] \n",
      "Running MIL Clean up passes: 100%|██████████| 8/8 [00:00<00:00, 103.38 passes/s]\n",
      "Translating MIL ==> NeuralNetwork Ops: 100%|██████████| 141/141 [00:01<00:00, 111.50 ops/s]\n"
     ]
    },
    {
     "name": "stdout",
     "output_type": "stream",
     "text": [
      "converting for batch:  8\n",
      "\n",
      "*********\n",
      "\n",
      "\n"
     ]
    },
    {
     "name": "stderr",
     "output_type": "stream",
     "text": [
      "Running TensorFlow Graph Passes: 100%|██████████| 5/5 [00:01<00:00,  4.37 passes/s]\n",
      "Converting Frontend ==> MIL Ops: 100%|██████████| 131/131 [00:00<00:00, 955.46 ops/s] \n",
      "Running MIL Common passes: 100%|██████████| 33/33 [00:00<00:00, 78.67 passes/s] \n",
      "Running MIL Clean up passes: 100%|██████████| 8/8 [00:00<00:00, 104.07 passes/s]\n",
      "Translating MIL ==> NeuralNetwork Ops: 100%|██████████| 141/141 [00:01<00:00, 109.74 ops/s]\n"
     ]
    },
    {
     "name": "stdout",
     "output_type": "stream",
     "text": [
      "converting for batch:  9\n",
      "\n",
      "*********\n",
      "\n",
      "\n"
     ]
    },
    {
     "name": "stderr",
     "output_type": "stream",
     "text": [
      "Running TensorFlow Graph Passes: 100%|██████████| 5/5 [00:01<00:00,  4.37 passes/s]\n",
      "Converting Frontend ==> MIL Ops: 100%|██████████| 131/131 [00:00<00:00, 981.84 ops/s] \n",
      "Running MIL Common passes: 100%|██████████| 33/33 [00:00<00:00, 89.19 passes/s] \n",
      "Running MIL Clean up passes: 100%|██████████| 8/8 [00:00<00:00, 100.24 passes/s]\n",
      "Translating MIL ==> NeuralNetwork Ops: 100%|██████████| 141/141 [00:01<00:00, 112.41 ops/s]\n"
     ]
    },
    {
     "name": "stdout",
     "output_type": "stream",
     "text": [
      "Conversion complete in 3m 54s\n",
      "################ Batch size:  250\n",
      "converting for batch:  0\n",
      "\n",
      "*********\n",
      "\n",
      "\n"
     ]
    },
    {
     "name": "stderr",
     "output_type": "stream",
     "text": [
      "Running TensorFlow Graph Passes: 100%|██████████| 5/5 [00:01<00:00,  4.35 passes/s]\n",
      "Converting Frontend ==> MIL Ops: 100%|██████████| 131/131 [00:00<00:00, 1012.12 ops/s]\n",
      "Running MIL Common passes: 100%|██████████| 33/33 [00:00<00:00, 87.98 passes/s] \n",
      "Running MIL Clean up passes: 100%|██████████| 8/8 [00:00<00:00, 105.15 passes/s]\n",
      "Translating MIL ==> NeuralNetwork Ops: 100%|██████████| 141/141 [00:01<00:00, 106.76 ops/s]\n"
     ]
    },
    {
     "name": "stdout",
     "output_type": "stream",
     "text": [
      "converting for batch:  1\n",
      "\n",
      "*********\n",
      "\n",
      "\n"
     ]
    },
    {
     "name": "stderr",
     "output_type": "stream",
     "text": [
      "Running TensorFlow Graph Passes: 100%|██████████| 5/5 [00:01<00:00,  4.38 passes/s]\n",
      "Converting Frontend ==> MIL Ops: 100%|██████████| 131/131 [00:00<00:00, 1019.98 ops/s]\n",
      "Running MIL Common passes: 100%|██████████| 33/33 [00:00<00:00, 80.52 passes/s] \n",
      "Running MIL Clean up passes: 100%|██████████| 8/8 [00:00<00:00, 101.38 passes/s]\n",
      "Translating MIL ==> NeuralNetwork Ops: 100%|██████████| 141/141 [00:01<00:00, 111.91 ops/s]\n"
     ]
    },
    {
     "name": "stdout",
     "output_type": "stream",
     "text": [
      "converting for batch:  2\n",
      "\n",
      "*********\n",
      "\n",
      "\n"
     ]
    },
    {
     "name": "stderr",
     "output_type": "stream",
     "text": [
      "Running TensorFlow Graph Passes: 100%|██████████| 5/5 [00:01<00:00,  4.32 passes/s]\n",
      "Converting Frontend ==> MIL Ops: 100%|██████████| 131/131 [00:00<00:00, 955.61 ops/s] \n",
      "Running MIL Common passes: 100%|██████████| 33/33 [00:00<00:00, 86.48 passes/s] \n",
      "Running MIL Clean up passes: 100%|██████████| 8/8 [00:00<00:00, 101.75 passes/s]\n",
      "Translating MIL ==> NeuralNetwork Ops: 100%|██████████| 141/141 [00:01<00:00, 109.89 ops/s]\n"
     ]
    },
    {
     "name": "stdout",
     "output_type": "stream",
     "text": [
      "converting for batch:  3\n",
      "\n",
      "*********\n",
      "\n",
      "\n"
     ]
    },
    {
     "name": "stderr",
     "output_type": "stream",
     "text": [
      "Running TensorFlow Graph Passes: 100%|██████████| 5/5 [00:01<00:00,  4.29 passes/s]\n",
      "Converting Frontend ==> MIL Ops: 100%|██████████| 131/131 [00:00<00:00, 1012.31 ops/s]\n",
      "Running MIL Common passes: 100%|██████████| 33/33 [00:00<00:00, 88.12 passes/s] \n",
      "Running MIL Clean up passes: 100%|██████████| 8/8 [00:00<00:00, 103.60 passes/s]\n",
      "Translating MIL ==> NeuralNetwork Ops: 100%|██████████| 141/141 [00:01<00:00, 113.39 ops/s]\n"
     ]
    },
    {
     "name": "stdout",
     "output_type": "stream",
     "text": [
      "converting for batch:  4\n",
      "\n",
      "*********\n",
      "\n",
      "\n"
     ]
    },
    {
     "name": "stderr",
     "output_type": "stream",
     "text": [
      "Running TensorFlow Graph Passes: 100%|██████████| 5/5 [00:01<00:00,  4.30 passes/s]\n",
      "Converting Frontend ==> MIL Ops: 100%|██████████| 131/131 [00:00<00:00, 1005.44 ops/s]\n",
      "Running MIL Common passes: 100%|██████████| 33/33 [00:00<00:00, 83.12 passes/s] \n",
      "Running MIL Clean up passes: 100%|██████████| 8/8 [00:00<00:00, 100.87 passes/s]\n",
      "Translating MIL ==> NeuralNetwork Ops: 100%|██████████| 141/141 [00:01<00:00, 113.93 ops/s]\n"
     ]
    },
    {
     "name": "stdout",
     "output_type": "stream",
     "text": [
      "converting for batch:  5\n",
      "\n",
      "*********\n",
      "\n",
      "\n"
     ]
    },
    {
     "name": "stderr",
     "output_type": "stream",
     "text": [
      "Running TensorFlow Graph Passes: 100%|██████████| 5/5 [00:01<00:00,  4.24 passes/s]\n",
      "Converting Frontend ==> MIL Ops: 100%|██████████| 131/131 [00:00<00:00, 661.33 ops/s]\n",
      "Running MIL Common passes: 100%|██████████| 33/33 [00:00<00:00, 83.26 passes/s] \n",
      "Running MIL Clean up passes: 100%|██████████| 8/8 [00:00<00:00, 100.50 passes/s]\n",
      "Translating MIL ==> NeuralNetwork Ops: 100%|██████████| 141/141 [00:01<00:00, 114.63 ops/s]\n"
     ]
    },
    {
     "name": "stdout",
     "output_type": "stream",
     "text": [
      "converting for batch:  6\n",
      "\n",
      "*********\n",
      "\n",
      "\n"
     ]
    },
    {
     "name": "stderr",
     "output_type": "stream",
     "text": [
      "Running TensorFlow Graph Passes: 100%|██████████| 5/5 [00:01<00:00,  4.34 passes/s]\n",
      "Converting Frontend ==> MIL Ops: 100%|██████████| 131/131 [00:00<00:00, 990.16 ops/s] \n",
      "Running MIL Common passes: 100%|██████████| 33/33 [00:00<00:00, 81.17 passes/s] \n",
      "Running MIL Clean up passes: 100%|██████████| 8/8 [00:00<00:00, 103.80 passes/s]\n",
      "Translating MIL ==> NeuralNetwork Ops: 100%|██████████| 141/141 [00:01<00:00, 114.21 ops/s]\n"
     ]
    },
    {
     "name": "stdout",
     "output_type": "stream",
     "text": [
      "converting for batch:  7\n",
      "\n",
      "*********\n",
      "\n",
      "\n"
     ]
    },
    {
     "name": "stderr",
     "output_type": "stream",
     "text": [
      "Running TensorFlow Graph Passes: 100%|██████████| 5/5 [00:01<00:00,  4.33 passes/s]\n",
      "Converting Frontend ==> MIL Ops: 100%|██████████| 131/131 [00:00<00:00, 978.83 ops/s] \n",
      "Running MIL Common passes: 100%|██████████| 33/33 [00:00<00:00, 78.15 passes/s] \n",
      "Running MIL Clean up passes: 100%|██████████| 8/8 [00:00<00:00, 100.61 passes/s]\n",
      "Translating MIL ==> NeuralNetwork Ops: 100%|██████████| 141/141 [00:01<00:00, 112.17 ops/s]\n"
     ]
    },
    {
     "name": "stdout",
     "output_type": "stream",
     "text": [
      "converting for batch:  8\n",
      "\n",
      "*********\n",
      "\n",
      "\n"
     ]
    },
    {
     "name": "stderr",
     "output_type": "stream",
     "text": [
      "Running TensorFlow Graph Passes: 100%|██████████| 5/5 [00:01<00:00,  4.37 passes/s]\n",
      "Converting Frontend ==> MIL Ops: 100%|██████████| 131/131 [00:00<00:00, 1051.30 ops/s]\n",
      "Running MIL Common passes: 100%|██████████| 33/33 [00:00<00:00, 83.91 passes/s] \n",
      "Running MIL Clean up passes: 100%|██████████| 8/8 [00:00<00:00, 99.50 passes/s]\n",
      "Translating MIL ==> NeuralNetwork Ops: 100%|██████████| 141/141 [00:01<00:00, 110.21 ops/s]\n"
     ]
    },
    {
     "name": "stdout",
     "output_type": "stream",
     "text": [
      "converting for batch:  9\n",
      "\n",
      "*********\n",
      "\n",
      "\n"
     ]
    },
    {
     "name": "stderr",
     "output_type": "stream",
     "text": [
      "Running TensorFlow Graph Passes: 100%|██████████| 5/5 [00:01<00:00,  4.37 passes/s]\n",
      "Converting Frontend ==> MIL Ops: 100%|██████████| 131/131 [00:00<00:00, 994.30 ops/s] \n",
      "Running MIL Common passes: 100%|██████████| 33/33 [00:00<00:00, 84.23 passes/s] \n",
      "Running MIL Clean up passes: 100%|██████████| 8/8 [00:00<00:00, 101.84 passes/s]\n",
      "Translating MIL ==> NeuralNetwork Ops: 100%|██████████| 141/141 [00:01<00:00, 110.74 ops/s]\n"
     ]
    },
    {
     "name": "stdout",
     "output_type": "stream",
     "text": [
      "Conversion complete in 4m 3s\n",
      "################ Batch size:  300\n",
      "converting for batch:  0\n",
      "\n",
      "*********\n",
      "\n",
      "\n"
     ]
    },
    {
     "name": "stderr",
     "output_type": "stream",
     "text": [
      "Running TensorFlow Graph Passes: 100%|██████████| 5/5 [00:01<00:00,  4.26 passes/s]\n",
      "Converting Frontend ==> MIL Ops: 100%|██████████| 131/131 [00:00<00:00, 990.10 ops/s] \n",
      "Running MIL Common passes: 100%|██████████| 33/33 [00:00<00:00, 88.44 passes/s] \n",
      "Running MIL Clean up passes: 100%|██████████| 8/8 [00:00<00:00, 105.25 passes/s]\n",
      "Translating MIL ==> NeuralNetwork Ops: 100%|██████████| 141/141 [00:01<00:00, 109.70 ops/s]\n"
     ]
    },
    {
     "name": "stdout",
     "output_type": "stream",
     "text": [
      "converting for batch:  1\n",
      "\n",
      "*********\n",
      "\n",
      "\n"
     ]
    },
    {
     "name": "stderr",
     "output_type": "stream",
     "text": [
      "Running TensorFlow Graph Passes: 100%|██████████| 5/5 [00:01<00:00,  4.28 passes/s]\n",
      "Converting Frontend ==> MIL Ops: 100%|██████████| 131/131 [00:00<00:00, 920.66 ops/s] \n",
      "Running MIL Common passes: 100%|██████████| 33/33 [00:00<00:00, 88.21 passes/s] \n",
      "Running MIL Clean up passes: 100%|██████████| 8/8 [00:00<00:00, 105.21 passes/s]\n",
      "Translating MIL ==> NeuralNetwork Ops: 100%|██████████| 141/141 [00:01<00:00, 110.69 ops/s]\n"
     ]
    },
    {
     "name": "stdout",
     "output_type": "stream",
     "text": [
      "converting for batch:  2\n",
      "\n",
      "*********\n",
      "\n",
      "\n"
     ]
    },
    {
     "name": "stderr",
     "output_type": "stream",
     "text": [
      "Running TensorFlow Graph Passes: 100%|██████████| 5/5 [00:01<00:00,  4.34 passes/s]\n",
      "Converting Frontend ==> MIL Ops: 100%|██████████| 131/131 [00:00<00:00, 1007.66 ops/s]\n",
      "Running MIL Common passes: 100%|██████████| 33/33 [00:00<00:00, 88.16 passes/s] \n",
      "Running MIL Clean up passes: 100%|██████████| 8/8 [00:00<00:00, 102.54 passes/s]\n",
      "Translating MIL ==> NeuralNetwork Ops: 100%|██████████| 141/141 [00:01<00:00, 112.36 ops/s]\n"
     ]
    },
    {
     "name": "stdout",
     "output_type": "stream",
     "text": [
      "converting for batch:  3\n",
      "\n",
      "*********\n",
      "\n",
      "\n"
     ]
    },
    {
     "name": "stderr",
     "output_type": "stream",
     "text": [
      "Running TensorFlow Graph Passes: 100%|██████████| 5/5 [00:01<00:00,  4.30 passes/s]\n",
      "Converting Frontend ==> MIL Ops: 100%|██████████| 131/131 [00:00<00:00, 1034.17 ops/s]\n",
      "Running MIL Common passes: 100%|██████████| 33/33 [00:00<00:00, 80.18 passes/s] \n",
      "Running MIL Clean up passes: 100%|██████████| 8/8 [00:00<00:00, 104.43 passes/s]\n",
      "Translating MIL ==> NeuralNetwork Ops: 100%|██████████| 141/141 [00:01<00:00, 110.12 ops/s]\n"
     ]
    },
    {
     "name": "stdout",
     "output_type": "stream",
     "text": [
      "converting for batch:  4\n",
      "\n",
      "*********\n",
      "\n",
      "\n"
     ]
    },
    {
     "name": "stderr",
     "output_type": "stream",
     "text": [
      "Running TensorFlow Graph Passes: 100%|██████████| 5/5 [00:01<00:00,  4.35 passes/s]\n",
      "Converting Frontend ==> MIL Ops: 100%|██████████| 131/131 [00:00<00:00, 991.21 ops/s] \n",
      "Running MIL Common passes: 100%|██████████| 33/33 [00:00<00:00, 86.34 passes/s] \n",
      "Running MIL Clean up passes: 100%|██████████| 8/8 [00:00<00:00, 96.86 passes/s]\n",
      "Translating MIL ==> NeuralNetwork Ops: 100%|██████████| 141/141 [00:01<00:00, 112.77 ops/s]\n"
     ]
    },
    {
     "name": "stdout",
     "output_type": "stream",
     "text": [
      "converting for batch:  5\n",
      "\n",
      "*********\n",
      "\n",
      "\n"
     ]
    },
    {
     "name": "stderr",
     "output_type": "stream",
     "text": [
      "Running TensorFlow Graph Passes: 100%|██████████| 5/5 [00:01<00:00,  4.25 passes/s]\n",
      "Converting Frontend ==> MIL Ops: 100%|██████████| 131/131 [00:00<00:00, 1000.74 ops/s]\n",
      "Running MIL Common passes: 100%|██████████| 33/33 [00:00<00:00, 83.84 passes/s] \n",
      "Running MIL Clean up passes: 100%|██████████| 8/8 [00:00<00:00, 105.01 passes/s]\n",
      "Translating MIL ==> NeuralNetwork Ops: 100%|██████████| 141/141 [00:01<00:00, 108.94 ops/s]\n"
     ]
    },
    {
     "name": "stdout",
     "output_type": "stream",
     "text": [
      "converting for batch:  6\n",
      "\n",
      "*********\n",
      "\n",
      "\n"
     ]
    },
    {
     "name": "stderr",
     "output_type": "stream",
     "text": [
      "Running TensorFlow Graph Passes: 100%|██████████| 5/5 [00:01<00:00,  4.21 passes/s]\n",
      "Converting Frontend ==> MIL Ops: 100%|██████████| 131/131 [00:00<00:00, 992.70 ops/s] \n",
      "Running MIL Common passes: 100%|██████████| 33/33 [00:00<00:00, 88.51 passes/s] \n",
      "Running MIL Clean up passes: 100%|██████████| 8/8 [00:00<00:00, 100.57 passes/s]\n",
      "Translating MIL ==> NeuralNetwork Ops: 100%|██████████| 141/141 [00:01<00:00, 112.90 ops/s]\n"
     ]
    },
    {
     "name": "stdout",
     "output_type": "stream",
     "text": [
      "converting for batch:  7\n",
      "\n",
      "*********\n",
      "\n",
      "\n"
     ]
    },
    {
     "name": "stderr",
     "output_type": "stream",
     "text": [
      "Running TensorFlow Graph Passes: 100%|██████████| 5/5 [00:01<00:00,  4.33 passes/s]\n",
      "Converting Frontend ==> MIL Ops: 100%|██████████| 131/131 [00:00<00:00, 997.32 ops/s] \n",
      "Running MIL Common passes: 100%|██████████| 33/33 [00:00<00:00, 88.20 passes/s] \n",
      "Running MIL Clean up passes: 100%|██████████| 8/8 [00:00<00:00, 103.24 passes/s]\n",
      "Translating MIL ==> NeuralNetwork Ops: 100%|██████████| 141/141 [00:01<00:00, 112.52 ops/s]\n"
     ]
    },
    {
     "name": "stdout",
     "output_type": "stream",
     "text": [
      "converting for batch:  8\n",
      "\n",
      "*********\n",
      "\n",
      "\n"
     ]
    },
    {
     "name": "stderr",
     "output_type": "stream",
     "text": [
      "Running TensorFlow Graph Passes: 100%|██████████| 5/5 [00:01<00:00,  4.28 passes/s]\n",
      "Converting Frontend ==> MIL Ops: 100%|██████████| 131/131 [00:00<00:00, 1039.08 ops/s]\n",
      "Running MIL Common passes: 100%|██████████| 33/33 [00:00<00:00, 87.58 passes/s] \n",
      "Running MIL Clean up passes: 100%|██████████| 8/8 [00:00<00:00, 105.75 passes/s]\n",
      "Translating MIL ==> NeuralNetwork Ops: 100%|██████████| 141/141 [00:01<00:00, 104.87 ops/s]\n"
     ]
    },
    {
     "name": "stdout",
     "output_type": "stream",
     "text": [
      "converting for batch:  9\n",
      "\n",
      "*********\n",
      "\n",
      "\n"
     ]
    },
    {
     "name": "stderr",
     "output_type": "stream",
     "text": [
      "Running TensorFlow Graph Passes: 100%|██████████| 5/5 [00:01<00:00,  4.33 passes/s]\n",
      "Converting Frontend ==> MIL Ops: 100%|██████████| 131/131 [00:00<00:00, 1006.10 ops/s]\n",
      "Running MIL Common passes: 100%|██████████| 33/33 [00:00<00:00, 83.36 passes/s] \n",
      "Running MIL Clean up passes: 100%|██████████| 8/8 [00:00<00:00, 101.37 passes/s]\n",
      "Translating MIL ==> NeuralNetwork Ops: 100%|██████████| 141/141 [00:01<00:00, 113.39 ops/s]\n"
     ]
    },
    {
     "name": "stdout",
     "output_type": "stream",
     "text": [
      "Conversion complete in 4m 10s\n",
      "################ Batch size:  350\n",
      "converting for batch:  0\n",
      "\n",
      "*********\n",
      "\n",
      "\n"
     ]
    },
    {
     "name": "stderr",
     "output_type": "stream",
     "text": [
      "Running TensorFlow Graph Passes: 100%|██████████| 5/5 [00:01<00:00,  4.30 passes/s]\n",
      "Converting Frontend ==> MIL Ops: 100%|██████████| 131/131 [00:00<00:00, 1001.00 ops/s]\n",
      "Running MIL Common passes: 100%|██████████| 33/33 [00:00<00:00, 88.45 passes/s] \n",
      "Running MIL Clean up passes: 100%|██████████| 8/8 [00:00<00:00, 107.04 passes/s]\n",
      "Translating MIL ==> NeuralNetwork Ops: 100%|██████████| 141/141 [00:01<00:00, 113.60 ops/s]\n"
     ]
    },
    {
     "name": "stdout",
     "output_type": "stream",
     "text": [
      "converting for batch:  1\n",
      "\n",
      "*********\n",
      "\n",
      "\n"
     ]
    },
    {
     "name": "stderr",
     "output_type": "stream",
     "text": [
      "Running TensorFlow Graph Passes: 100%|██████████| 5/5 [00:01<00:00,  4.26 passes/s]\n",
      "Converting Frontend ==> MIL Ops: 100%|██████████| 131/131 [00:00<00:00, 1020.15 ops/s]\n",
      "Running MIL Common passes: 100%|██████████| 33/33 [00:00<00:00, 85.42 passes/s] \n",
      "Running MIL Clean up passes: 100%|██████████| 8/8 [00:00<00:00, 98.98 passes/s]\n",
      "Translating MIL ==> NeuralNetwork Ops: 100%|██████████| 141/141 [00:01<00:00, 101.99 ops/s]\n"
     ]
    },
    {
     "name": "stdout",
     "output_type": "stream",
     "text": [
      "converting for batch:  2\n",
      "\n",
      "*********\n",
      "\n",
      "\n"
     ]
    },
    {
     "name": "stderr",
     "output_type": "stream",
     "text": [
      "Running TensorFlow Graph Passes: 100%|██████████| 5/5 [00:01<00:00,  4.36 passes/s]\n",
      "Converting Frontend ==> MIL Ops: 100%|██████████| 131/131 [00:00<00:00, 1018.86 ops/s]\n",
      "Running MIL Common passes: 100%|██████████| 33/33 [00:00<00:00, 78.65 passes/s] \n",
      "Running MIL Clean up passes: 100%|██████████| 8/8 [00:00<00:00, 100.56 passes/s]\n",
      "Translating MIL ==> NeuralNetwork Ops: 100%|██████████| 141/141 [00:01<00:00, 111.33 ops/s]\n"
     ]
    },
    {
     "name": "stdout",
     "output_type": "stream",
     "text": [
      "converting for batch:  3\n",
      "\n",
      "*********\n",
      "\n",
      "\n"
     ]
    },
    {
     "name": "stderr",
     "output_type": "stream",
     "text": [
      "Running TensorFlow Graph Passes: 100%|██████████| 5/5 [00:01<00:00,  4.23 passes/s]\n",
      "Converting Frontend ==> MIL Ops: 100%|██████████| 131/131 [00:00<00:00, 874.94 ops/s]\n",
      "Running MIL Common passes: 100%|██████████| 33/33 [00:00<00:00, 74.19 passes/s] \n",
      "Running MIL Clean up passes: 100%|██████████| 8/8 [00:00<00:00, 101.84 passes/s]\n",
      "Translating MIL ==> NeuralNetwork Ops: 100%|██████████| 141/141 [00:01<00:00, 108.07 ops/s]\n"
     ]
    },
    {
     "name": "stdout",
     "output_type": "stream",
     "text": [
      "converting for batch:  4\n",
      "\n",
      "*********\n",
      "\n",
      "\n"
     ]
    },
    {
     "name": "stderr",
     "output_type": "stream",
     "text": [
      "Running TensorFlow Graph Passes: 100%|██████████| 5/5 [00:01<00:00,  4.29 passes/s]\n",
      "Converting Frontend ==> MIL Ops: 100%|██████████| 131/131 [00:00<00:00, 1052.02 ops/s]\n",
      "Running MIL Common passes: 100%|██████████| 33/33 [00:00<00:00, 89.48 passes/s] \n",
      "Running MIL Clean up passes: 100%|██████████| 8/8 [00:00<00:00, 102.21 passes/s]\n",
      "Translating MIL ==> NeuralNetwork Ops: 100%|██████████| 141/141 [00:01<00:00, 106.26 ops/s]\n"
     ]
    },
    {
     "name": "stdout",
     "output_type": "stream",
     "text": [
      "converting for batch:  5\n",
      "\n",
      "*********\n",
      "\n",
      "\n"
     ]
    },
    {
     "name": "stderr",
     "output_type": "stream",
     "text": [
      "Running TensorFlow Graph Passes: 100%|██████████| 5/5 [00:01<00:00,  4.32 passes/s]\n",
      "Converting Frontend ==> MIL Ops: 100%|██████████| 131/131 [00:00<00:00, 989.64 ops/s] \n",
      "Running MIL Common passes: 100%|██████████| 33/33 [00:00<00:00, 82.54 passes/s] \n",
      "Running MIL Clean up passes: 100%|██████████| 8/8 [00:00<00:00, 100.64 passes/s]\n",
      "Translating MIL ==> NeuralNetwork Ops: 100%|██████████| 141/141 [00:01<00:00, 110.50 ops/s]\n"
     ]
    },
    {
     "name": "stdout",
     "output_type": "stream",
     "text": [
      "converting for batch:  6\n",
      "\n",
      "*********\n",
      "\n",
      "\n"
     ]
    },
    {
     "name": "stderr",
     "output_type": "stream",
     "text": [
      "Running TensorFlow Graph Passes: 100%|██████████| 5/5 [00:01<00:00,  4.26 passes/s]\n",
      "Converting Frontend ==> MIL Ops: 100%|██████████| 131/131 [00:00<00:00, 1045.26 ops/s]\n",
      "Running MIL Common passes: 100%|██████████| 33/33 [00:00<00:00, 89.21 passes/s] \n",
      "Running MIL Clean up passes: 100%|██████████| 8/8 [00:00<00:00, 102.68 passes/s]\n",
      "Translating MIL ==> NeuralNetwork Ops: 100%|██████████| 141/141 [00:01<00:00, 111.42 ops/s]\n"
     ]
    },
    {
     "name": "stdout",
     "output_type": "stream",
     "text": [
      "converting for batch:  7\n",
      "\n",
      "*********\n",
      "\n",
      "\n"
     ]
    },
    {
     "name": "stderr",
     "output_type": "stream",
     "text": [
      "Running TensorFlow Graph Passes: 100%|██████████| 5/5 [00:01<00:00,  4.26 passes/s]\n",
      "Converting Frontend ==> MIL Ops: 100%|██████████| 131/131 [00:00<00:00, 1015.04 ops/s]\n",
      "Running MIL Common passes: 100%|██████████| 33/33 [00:00<00:00, 89.67 passes/s] \n",
      "Running MIL Clean up passes: 100%|██████████| 8/8 [00:00<00:00, 104.55 passes/s]\n",
      "Translating MIL ==> NeuralNetwork Ops: 100%|██████████| 141/141 [00:01<00:00, 111.68 ops/s]\n"
     ]
    },
    {
     "name": "stdout",
     "output_type": "stream",
     "text": [
      "converting for batch:  8\n",
      "\n",
      "*********\n",
      "\n",
      "\n"
     ]
    },
    {
     "name": "stderr",
     "output_type": "stream",
     "text": [
      "Running TensorFlow Graph Passes: 100%|██████████| 5/5 [00:01<00:00,  4.21 passes/s]\n",
      "Converting Frontend ==> MIL Ops: 100%|██████████| 131/131 [00:00<00:00, 1002.55 ops/s]\n",
      "Running MIL Common passes: 100%|██████████| 33/33 [00:00<00:00, 82.57 passes/s] \n",
      "Running MIL Clean up passes: 100%|██████████| 8/8 [00:00<00:00, 102.25 passes/s]\n",
      "Translating MIL ==> NeuralNetwork Ops: 100%|██████████| 141/141 [00:01<00:00, 108.33 ops/s]\n"
     ]
    },
    {
     "name": "stdout",
     "output_type": "stream",
     "text": [
      "converting for batch:  9\n",
      "\n",
      "*********\n",
      "\n",
      "\n"
     ]
    },
    {
     "name": "stderr",
     "output_type": "stream",
     "text": [
      "Running TensorFlow Graph Passes: 100%|██████████| 5/5 [00:01<00:00,  4.32 passes/s]\n",
      "Converting Frontend ==> MIL Ops: 100%|██████████| 131/131 [00:00<00:00, 1049.52 ops/s]\n",
      "Running MIL Common passes: 100%|██████████| 33/33 [00:00<00:00, 85.89 passes/s] \n",
      "Running MIL Clean up passes: 100%|██████████| 8/8 [00:00<00:00, 103.27 passes/s]\n",
      "Translating MIL ==> NeuralNetwork Ops: 100%|██████████| 141/141 [00:01<00:00, 104.34 ops/s]\n"
     ]
    },
    {
     "name": "stdout",
     "output_type": "stream",
     "text": [
      "Conversion complete in 4m 18s\n",
      "################ Batch size:  400\n",
      "converting for batch:  0\n",
      "\n",
      "*********\n",
      "\n",
      "\n"
     ]
    },
    {
     "name": "stderr",
     "output_type": "stream",
     "text": [
      "Running TensorFlow Graph Passes: 100%|██████████| 5/5 [00:01<00:00,  4.35 passes/s]\n",
      "Converting Frontend ==> MIL Ops: 100%|██████████| 131/131 [00:00<00:00, 1050.07 ops/s]\n",
      "Running MIL Common passes: 100%|██████████| 33/33 [00:00<00:00, 78.46 passes/s] \n",
      "Running MIL Clean up passes: 100%|██████████| 8/8 [00:00<00:00, 106.81 passes/s]\n",
      "Translating MIL ==> NeuralNetwork Ops: 100%|██████████| 141/141 [00:01<00:00, 110.20 ops/s]\n"
     ]
    },
    {
     "name": "stdout",
     "output_type": "stream",
     "text": [
      "converting for batch:  1\n",
      "\n",
      "*********\n",
      "\n",
      "\n"
     ]
    },
    {
     "name": "stderr",
     "output_type": "stream",
     "text": [
      "Running TensorFlow Graph Passes: 100%|██████████| 5/5 [00:01<00:00,  4.29 passes/s]\n",
      "Converting Frontend ==> MIL Ops: 100%|██████████| 131/131 [00:00<00:00, 1002.23 ops/s]\n",
      "Running MIL Common passes: 100%|██████████| 33/33 [00:00<00:00, 82.23 passes/s] \n",
      "Running MIL Clean up passes: 100%|██████████| 8/8 [00:00<00:00, 108.07 passes/s]\n",
      "Translating MIL ==> NeuralNetwork Ops: 100%|██████████| 141/141 [00:01<00:00, 105.28 ops/s]\n"
     ]
    },
    {
     "name": "stdout",
     "output_type": "stream",
     "text": [
      "converting for batch:  2\n",
      "\n",
      "*********\n",
      "\n",
      "\n"
     ]
    },
    {
     "name": "stderr",
     "output_type": "stream",
     "text": [
      "Running TensorFlow Graph Passes: 100%|██████████| 5/5 [00:01<00:00,  4.36 passes/s]\n",
      "Converting Frontend ==> MIL Ops: 100%|██████████| 131/131 [00:00<00:00, 1035.94 ops/s]\n",
      "Running MIL Common passes: 100%|██████████| 33/33 [00:00<00:00, 90.03 passes/s] \n",
      "Running MIL Clean up passes: 100%|██████████| 8/8 [00:00<00:00, 104.34 passes/s]\n",
      "Translating MIL ==> NeuralNetwork Ops: 100%|██████████| 141/141 [00:01<00:00, 108.82 ops/s]\n"
     ]
    },
    {
     "name": "stdout",
     "output_type": "stream",
     "text": [
      "converting for batch:  3\n",
      "\n",
      "*********\n",
      "\n",
      "\n"
     ]
    },
    {
     "name": "stderr",
     "output_type": "stream",
     "text": [
      "Running TensorFlow Graph Passes: 100%|██████████| 5/5 [00:01<00:00,  4.36 passes/s]\n",
      "Converting Frontend ==> MIL Ops: 100%|██████████| 131/131 [00:00<00:00, 1050.26 ops/s]\n",
      "Running MIL Common passes: 100%|██████████| 33/33 [00:00<00:00, 89.84 passes/s] \n",
      "Running MIL Clean up passes: 100%|██████████| 8/8 [00:00<00:00, 107.27 passes/s]\n",
      "Translating MIL ==> NeuralNetwork Ops: 100%|██████████| 141/141 [00:01<00:00, 110.72 ops/s]\n"
     ]
    },
    {
     "name": "stdout",
     "output_type": "stream",
     "text": [
      "converting for batch:  4\n",
      "\n",
      "*********\n",
      "\n",
      "\n"
     ]
    },
    {
     "name": "stderr",
     "output_type": "stream",
     "text": [
      "Running TensorFlow Graph Passes: 100%|██████████| 5/5 [00:01<00:00,  4.36 passes/s]\n",
      "Converting Frontend ==> MIL Ops: 100%|██████████| 131/131 [00:00<00:00, 995.40 ops/s] \n",
      "Running MIL Common passes: 100%|██████████| 33/33 [00:00<00:00, 82.75 passes/s] \n",
      "Running MIL Clean up passes: 100%|██████████| 8/8 [00:00<00:00, 103.51 passes/s]\n",
      "Translating MIL ==> NeuralNetwork Ops: 100%|██████████| 141/141 [00:01<00:00, 111.36 ops/s]\n"
     ]
    },
    {
     "name": "stdout",
     "output_type": "stream",
     "text": [
      "converting for batch:  5\n",
      "\n",
      "*********\n",
      "\n",
      "\n"
     ]
    },
    {
     "name": "stderr",
     "output_type": "stream",
     "text": [
      "Running TensorFlow Graph Passes: 100%|██████████| 5/5 [00:01<00:00,  4.28 passes/s]\n",
      "Converting Frontend ==> MIL Ops: 100%|██████████| 131/131 [00:00<00:00, 977.50 ops/s] \n",
      "Running MIL Common passes: 100%|██████████| 33/33 [00:00<00:00, 88.86 passes/s] \n",
      "Running MIL Clean up passes: 100%|██████████| 8/8 [00:00<00:00, 104.15 passes/s]\n",
      "Translating MIL ==> NeuralNetwork Ops: 100%|██████████| 141/141 [00:01<00:00, 110.06 ops/s]\n"
     ]
    },
    {
     "name": "stdout",
     "output_type": "stream",
     "text": [
      "converting for batch:  6\n",
      "\n",
      "*********\n",
      "\n",
      "\n"
     ]
    },
    {
     "name": "stderr",
     "output_type": "stream",
     "text": [
      "Running TensorFlow Graph Passes: 100%|██████████| 5/5 [00:01<00:00,  4.27 passes/s]\n",
      "Converting Frontend ==> MIL Ops: 100%|██████████| 131/131 [00:00<00:00, 1011.26 ops/s]\n",
      "Running MIL Common passes: 100%|██████████| 33/33 [00:00<00:00, 89.84 passes/s] \n",
      "Running MIL Clean up passes: 100%|██████████| 8/8 [00:00<00:00, 103.75 passes/s]\n",
      "Translating MIL ==> NeuralNetwork Ops: 100%|██████████| 141/141 [00:01<00:00, 107.26 ops/s]\n"
     ]
    },
    {
     "name": "stdout",
     "output_type": "stream",
     "text": [
      "converting for batch:  7\n",
      "\n",
      "*********\n",
      "\n",
      "\n"
     ]
    },
    {
     "name": "stderr",
     "output_type": "stream",
     "text": [
      "Running TensorFlow Graph Passes: 100%|██████████| 5/5 [00:01<00:00,  4.25 passes/s]\n",
      "Converting Frontend ==> MIL Ops: 100%|██████████| 131/131 [00:00<00:00, 973.78 ops/s] \n",
      "Running MIL Common passes: 100%|██████████| 33/33 [00:00<00:00, 88.40 passes/s] \n",
      "Running MIL Clean up passes: 100%|██████████| 8/8 [00:00<00:00, 105.45 passes/s]\n",
      "Translating MIL ==> NeuralNetwork Ops: 100%|██████████| 141/141 [00:01<00:00, 98.86 ops/s]\n"
     ]
    },
    {
     "name": "stdout",
     "output_type": "stream",
     "text": [
      "converting for batch:  8\n",
      "\n",
      "*********\n",
      "\n",
      "\n"
     ]
    },
    {
     "name": "stderr",
     "output_type": "stream",
     "text": [
      "Running TensorFlow Graph Passes: 100%|██████████| 5/5 [00:01<00:00,  4.21 passes/s]\n",
      "Converting Frontend ==> MIL Ops: 100%|██████████| 131/131 [00:00<00:00, 1017.30 ops/s]\n",
      "Running MIL Common passes: 100%|██████████| 33/33 [00:00<00:00, 89.18 passes/s] \n",
      "Running MIL Clean up passes: 100%|██████████| 8/8 [00:00<00:00, 100.94 passes/s]\n",
      "Translating MIL ==> NeuralNetwork Ops: 100%|██████████| 141/141 [00:01<00:00, 108.05 ops/s]\n"
     ]
    },
    {
     "name": "stdout",
     "output_type": "stream",
     "text": [
      "converting for batch:  9\n",
      "\n",
      "*********\n",
      "\n",
      "\n"
     ]
    },
    {
     "name": "stderr",
     "output_type": "stream",
     "text": [
      "Running TensorFlow Graph Passes: 100%|██████████| 5/5 [00:01<00:00,  4.27 passes/s]\n",
      "Converting Frontend ==> MIL Ops: 100%|██████████| 131/131 [00:00<00:00, 1033.29 ops/s]\n",
      "Running MIL Common passes: 100%|██████████| 33/33 [00:00<00:00, 81.45 passes/s] \n",
      "Running MIL Clean up passes: 100%|██████████| 8/8 [00:00<00:00, 96.11 passes/s]\n",
      "Translating MIL ==> NeuralNetwork Ops: 100%|██████████| 141/141 [00:01<00:00, 112.79 ops/s]\n"
     ]
    },
    {
     "name": "stdout",
     "output_type": "stream",
     "text": [
      "Conversion complete in 4m 26s\n",
      "################ Batch size:  450\n",
      "converting for batch:  0\n",
      "\n",
      "*********\n",
      "\n",
      "\n"
     ]
    },
    {
     "name": "stderr",
     "output_type": "stream",
     "text": [
      "Running TensorFlow Graph Passes: 100%|██████████| 5/5 [00:01<00:00,  4.22 passes/s]\n",
      "Converting Frontend ==> MIL Ops: 100%|██████████| 131/131 [00:00<00:00, 993.83 ops/s] \n",
      "Running MIL Common passes: 100%|██████████| 33/33 [00:00<00:00, 80.74 passes/s] \n",
      "Running MIL Clean up passes: 100%|██████████| 8/8 [00:00<00:00, 104.79 passes/s]\n",
      "Translating MIL ==> NeuralNetwork Ops: 100%|██████████| 141/141 [00:01<00:00, 105.90 ops/s]\n"
     ]
    },
    {
     "name": "stdout",
     "output_type": "stream",
     "text": [
      "converting for batch:  1\n",
      "\n",
      "*********\n",
      "\n",
      "\n"
     ]
    },
    {
     "name": "stderr",
     "output_type": "stream",
     "text": [
      "Running TensorFlow Graph Passes: 100%|██████████| 5/5 [00:01<00:00,  4.28 passes/s]\n",
      "Converting Frontend ==> MIL Ops: 100%|██████████| 131/131 [00:00<00:00, 970.57 ops/s] \n",
      "Running MIL Common passes: 100%|██████████| 33/33 [00:00<00:00, 89.46 passes/s] \n",
      "Running MIL Clean up passes: 100%|██████████| 8/8 [00:00<00:00, 102.92 passes/s]\n",
      "Translating MIL ==> NeuralNetwork Ops: 100%|██████████| 141/141 [00:01<00:00, 111.25 ops/s]\n"
     ]
    },
    {
     "name": "stdout",
     "output_type": "stream",
     "text": [
      "converting for batch:  2\n",
      "\n",
      "*********\n",
      "\n",
      "\n"
     ]
    },
    {
     "name": "stderr",
     "output_type": "stream",
     "text": [
      "Running TensorFlow Graph Passes: 100%|██████████| 5/5 [00:01<00:00,  4.28 passes/s]\n",
      "Converting Frontend ==> MIL Ops: 100%|██████████| 131/131 [00:00<00:00, 1023.30 ops/s]\n",
      "Running MIL Common passes: 100%|██████████| 33/33 [00:00<00:00, 88.26 passes/s] \n",
      "Running MIL Clean up passes: 100%|██████████| 8/8 [00:00<00:00, 99.45 passes/s]\n",
      "Translating MIL ==> NeuralNetwork Ops: 100%|██████████| 141/141 [00:01<00:00, 109.93 ops/s]\n"
     ]
    },
    {
     "name": "stdout",
     "output_type": "stream",
     "text": [
      "converting for batch:  3\n",
      "\n",
      "*********\n",
      "\n",
      "\n"
     ]
    },
    {
     "name": "stderr",
     "output_type": "stream",
     "text": [
      "Running TensorFlow Graph Passes: 100%|██████████| 5/5 [00:01<00:00,  4.30 passes/s]\n",
      "Converting Frontend ==> MIL Ops: 100%|██████████| 131/131 [00:00<00:00, 1016.76 ops/s]\n",
      "Running MIL Common passes: 100%|██████████| 33/33 [00:00<00:00, 87.56 passes/s] \n",
      "Running MIL Clean up passes: 100%|██████████| 8/8 [00:00<00:00, 99.19 passes/s]\n",
      "Translating MIL ==> NeuralNetwork Ops: 100%|██████████| 141/141 [00:01<00:00, 110.20 ops/s]\n"
     ]
    },
    {
     "name": "stdout",
     "output_type": "stream",
     "text": [
      "converting for batch:  4\n",
      "\n",
      "*********\n",
      "\n",
      "\n"
     ]
    },
    {
     "name": "stderr",
     "output_type": "stream",
     "text": [
      "Running TensorFlow Graph Passes: 100%|██████████| 5/5 [00:01<00:00,  4.26 passes/s]\n",
      "Converting Frontend ==> MIL Ops: 100%|██████████| 131/131 [00:00<00:00, 1025.78 ops/s]\n",
      "Running MIL Common passes: 100%|██████████| 33/33 [00:00<00:00, 88.97 passes/s] \n",
      "Running MIL Clean up passes: 100%|██████████| 8/8 [00:00<00:00, 100.85 passes/s]\n",
      "Translating MIL ==> NeuralNetwork Ops: 100%|██████████| 141/141 [00:01<00:00, 109.36 ops/s]\n"
     ]
    },
    {
     "name": "stdout",
     "output_type": "stream",
     "text": [
      "converting for batch:  5\n",
      "\n",
      "*********\n",
      "\n",
      "\n"
     ]
    },
    {
     "name": "stderr",
     "output_type": "stream",
     "text": [
      "Running TensorFlow Graph Passes: 100%|██████████| 5/5 [00:01<00:00,  4.23 passes/s]\n",
      "Converting Frontend ==> MIL Ops: 100%|██████████| 131/131 [00:00<00:00, 1012.00 ops/s]\n",
      "Running MIL Common passes: 100%|██████████| 33/33 [00:00<00:00, 88.88 passes/s] \n",
      "Running MIL Clean up passes: 100%|██████████| 8/8 [00:00<00:00, 103.29 passes/s]\n",
      "Translating MIL ==> NeuralNetwork Ops: 100%|██████████| 141/141 [00:01<00:00, 105.00 ops/s]\n"
     ]
    },
    {
     "name": "stdout",
     "output_type": "stream",
     "text": [
      "converting for batch:  6\n",
      "\n",
      "*********\n",
      "\n",
      "\n"
     ]
    },
    {
     "name": "stderr",
     "output_type": "stream",
     "text": [
      "Running TensorFlow Graph Passes: 100%|██████████| 5/5 [00:01<00:00,  4.30 passes/s]\n",
      "Converting Frontend ==> MIL Ops: 100%|██████████| 131/131 [00:00<00:00, 994.03 ops/s] \n",
      "Running MIL Common passes: 100%|██████████| 33/33 [00:00<00:00, 89.77 passes/s] \n",
      "Running MIL Clean up passes: 100%|██████████| 8/8 [00:00<00:00, 99.40 passes/s]\n",
      "Translating MIL ==> NeuralNetwork Ops: 100%|██████████| 141/141 [00:01<00:00, 105.29 ops/s]\n"
     ]
    },
    {
     "name": "stdout",
     "output_type": "stream",
     "text": [
      "converting for batch:  7\n",
      "\n",
      "*********\n",
      "\n",
      "\n"
     ]
    },
    {
     "name": "stderr",
     "output_type": "stream",
     "text": [
      "Running TensorFlow Graph Passes: 100%|██████████| 5/5 [00:01<00:00,  4.23 passes/s]\n",
      "Converting Frontend ==> MIL Ops: 100%|██████████| 131/131 [00:00<00:00, 983.48 ops/s] \n",
      "Running MIL Common passes: 100%|██████████| 33/33 [00:00<00:00, 78.84 passes/s] \n",
      "Running MIL Clean up passes: 100%|██████████| 8/8 [00:00<00:00, 102.70 passes/s]\n",
      "Translating MIL ==> NeuralNetwork Ops: 100%|██████████| 141/141 [00:01<00:00, 108.08 ops/s]\n"
     ]
    },
    {
     "name": "stdout",
     "output_type": "stream",
     "text": [
      "converting for batch:  8\n",
      "\n",
      "*********\n",
      "\n",
      "\n"
     ]
    },
    {
     "name": "stderr",
     "output_type": "stream",
     "text": [
      "Running TensorFlow Graph Passes: 100%|██████████| 5/5 [00:01<00:00,  4.24 passes/s]\n",
      "Converting Frontend ==> MIL Ops: 100%|██████████| 131/131 [00:00<00:00, 972.97 ops/s] \n",
      "Running MIL Common passes: 100%|██████████| 33/33 [00:00<00:00, 76.15 passes/s] \n",
      "Running MIL Clean up passes: 100%|██████████| 8/8 [00:00<00:00, 103.83 passes/s]\n",
      "Translating MIL ==> NeuralNetwork Ops: 100%|██████████| 141/141 [00:01<00:00, 106.33 ops/s]\n"
     ]
    },
    {
     "name": "stdout",
     "output_type": "stream",
     "text": [
      "converting for batch:  9\n",
      "\n",
      "*********\n",
      "\n",
      "\n"
     ]
    },
    {
     "name": "stderr",
     "output_type": "stream",
     "text": [
      "Running TensorFlow Graph Passes: 100%|██████████| 5/5 [00:01<00:00,  4.26 passes/s]\n",
      "Converting Frontend ==> MIL Ops: 100%|██████████| 131/131 [00:00<00:00, 1013.24 ops/s]\n",
      "Running MIL Common passes: 100%|██████████| 33/33 [00:00<00:00, 88.18 passes/s] \n",
      "Running MIL Clean up passes: 100%|██████████| 8/8 [00:00<00:00, 103.62 passes/s]\n",
      "Translating MIL ==> NeuralNetwork Ops: 100%|██████████| 141/141 [00:01<00:00, 106.99 ops/s]\n"
     ]
    },
    {
     "name": "stdout",
     "output_type": "stream",
     "text": [
      "Conversion complete in 4m 35s\n",
      "################ Batch size:  500\n",
      "converting for batch:  0\n",
      "\n",
      "*********\n",
      "\n",
      "\n"
     ]
    },
    {
     "name": "stderr",
     "output_type": "stream",
     "text": [
      "Running TensorFlow Graph Passes: 100%|██████████| 5/5 [00:01<00:00,  4.30 passes/s]\n",
      "Converting Frontend ==> MIL Ops: 100%|██████████| 131/131 [00:00<00:00, 1010.28 ops/s]\n",
      "Running MIL Common passes: 100%|██████████| 33/33 [00:00<00:00, 89.63 passes/s] \n",
      "Running MIL Clean up passes: 100%|██████████| 8/8 [00:00<00:00, 102.45 passes/s]\n",
      "Translating MIL ==> NeuralNetwork Ops: 100%|██████████| 141/141 [00:01<00:00, 107.76 ops/s]\n"
     ]
    },
    {
     "name": "stdout",
     "output_type": "stream",
     "text": [
      "converting for batch:  1\n",
      "\n",
      "*********\n",
      "\n",
      "\n"
     ]
    },
    {
     "name": "stderr",
     "output_type": "stream",
     "text": [
      "Running TensorFlow Graph Passes: 100%|██████████| 5/5 [00:01<00:00,  4.23 passes/s]\n",
      "Converting Frontend ==> MIL Ops: 100%|██████████| 131/131 [00:00<00:00, 993.88 ops/s] \n",
      "Running MIL Common passes: 100%|██████████| 33/33 [00:00<00:00, 88.58 passes/s] \n",
      "Running MIL Clean up passes: 100%|██████████| 8/8 [00:00<00:00, 103.27 passes/s]\n",
      "Translating MIL ==> NeuralNetwork Ops: 100%|██████████| 141/141 [00:01<00:00, 105.85 ops/s]\n"
     ]
    },
    {
     "name": "stdout",
     "output_type": "stream",
     "text": [
      "converting for batch:  2\n",
      "\n",
      "*********\n",
      "\n",
      "\n"
     ]
    },
    {
     "name": "stderr",
     "output_type": "stream",
     "text": [
      "Running TensorFlow Graph Passes: 100%|██████████| 5/5 [00:01<00:00,  4.21 passes/s]\n",
      "Converting Frontend ==> MIL Ops: 100%|██████████| 131/131 [00:00<00:00, 962.59 ops/s] \n",
      "Running MIL Common passes: 100%|██████████| 33/33 [00:00<00:00, 87.19 passes/s] \n",
      "Running MIL Clean up passes: 100%|██████████| 8/8 [00:00<00:00, 102.90 passes/s]\n",
      "Translating MIL ==> NeuralNetwork Ops: 100%|██████████| 141/141 [00:01<00:00, 103.70 ops/s]\n"
     ]
    },
    {
     "name": "stdout",
     "output_type": "stream",
     "text": [
      "converting for batch:  3\n",
      "\n",
      "*********\n",
      "\n",
      "\n"
     ]
    },
    {
     "name": "stderr",
     "output_type": "stream",
     "text": [
      "Running TensorFlow Graph Passes: 100%|██████████| 5/5 [00:01<00:00,  4.23 passes/s]\n",
      "Converting Frontend ==> MIL Ops: 100%|██████████| 131/131 [00:00<00:00, 630.09 ops/s]\n",
      "Running MIL Common passes: 100%|██████████| 33/33 [00:00<00:00, 85.09 passes/s] \n",
      "Running MIL Clean up passes: 100%|██████████| 8/8 [00:00<00:00, 106.28 passes/s]\n",
      "Translating MIL ==> NeuralNetwork Ops: 100%|██████████| 141/141 [00:01<00:00, 106.06 ops/s]\n"
     ]
    },
    {
     "name": "stdout",
     "output_type": "stream",
     "text": [
      "converting for batch:  4\n",
      "\n",
      "*********\n",
      "\n",
      "\n"
     ]
    },
    {
     "name": "stderr",
     "output_type": "stream",
     "text": [
      "Running TensorFlow Graph Passes: 100%|██████████| 5/5 [00:01<00:00,  4.23 passes/s]\n",
      "Converting Frontend ==> MIL Ops: 100%|██████████| 131/131 [00:00<00:00, 989.63 ops/s] \n",
      "Running MIL Common passes: 100%|██████████| 33/33 [00:00<00:00, 82.56 passes/s] \n",
      "Running MIL Clean up passes: 100%|██████████| 8/8 [00:00<00:00, 100.79 passes/s]\n",
      "Translating MIL ==> NeuralNetwork Ops: 100%|██████████| 141/141 [00:01<00:00, 104.72 ops/s]\n"
     ]
    },
    {
     "name": "stdout",
     "output_type": "stream",
     "text": [
      "converting for batch:  5\n",
      "\n",
      "*********\n",
      "\n",
      "\n"
     ]
    },
    {
     "name": "stderr",
     "output_type": "stream",
     "text": [
      "Running TensorFlow Graph Passes: 100%|██████████| 5/5 [00:01<00:00,  4.20 passes/s]\n",
      "Converting Frontend ==> MIL Ops: 100%|██████████| 131/131 [00:00<00:00, 1057.48 ops/s]\n",
      "Running MIL Common passes: 100%|██████████| 33/33 [00:00<00:00, 87.56 passes/s] \n",
      "Running MIL Clean up passes: 100%|██████████| 8/8 [00:00<00:00, 102.72 passes/s]\n",
      "Translating MIL ==> NeuralNetwork Ops: 100%|██████████| 141/141 [00:01<00:00, 109.63 ops/s]\n"
     ]
    },
    {
     "name": "stdout",
     "output_type": "stream",
     "text": [
      "converting for batch:  6\n",
      "\n",
      "*********\n",
      "\n",
      "\n"
     ]
    },
    {
     "name": "stderr",
     "output_type": "stream",
     "text": [
      "Running TensorFlow Graph Passes: 100%|██████████| 5/5 [00:01<00:00,  4.22 passes/s]\n",
      "Converting Frontend ==> MIL Ops: 100%|██████████| 131/131 [00:00<00:00, 1005.88 ops/s]\n",
      "Running MIL Common passes: 100%|██████████| 33/33 [00:00<00:00, 88.84 passes/s] \n",
      "Running MIL Clean up passes: 100%|██████████| 8/8 [00:00<00:00, 100.16 passes/s]\n",
      "Translating MIL ==> NeuralNetwork Ops: 100%|██████████| 141/141 [00:01<00:00, 107.70 ops/s]\n"
     ]
    },
    {
     "name": "stdout",
     "output_type": "stream",
     "text": [
      "converting for batch:  7\n",
      "\n",
      "*********\n",
      "\n",
      "\n"
     ]
    },
    {
     "name": "stderr",
     "output_type": "stream",
     "text": [
      "Running TensorFlow Graph Passes: 100%|██████████| 5/5 [00:01<00:00,  3.64 passes/s]\n",
      "Converting Frontend ==> MIL Ops: 100%|██████████| 131/131 [00:00<00:00, 1036.42 ops/s]\n",
      "Running MIL Common passes: 100%|██████████| 33/33 [00:00<00:00, 76.47 passes/s]\n",
      "Running MIL Clean up passes: 100%|██████████| 8/8 [00:00<00:00, 103.27 passes/s]\n",
      "Translating MIL ==> NeuralNetwork Ops: 100%|██████████| 141/141 [00:01<00:00, 105.15 ops/s]\n"
     ]
    },
    {
     "name": "stdout",
     "output_type": "stream",
     "text": [
      "converting for batch:  8\n",
      "\n",
      "*********\n",
      "\n",
      "\n"
     ]
    },
    {
     "name": "stderr",
     "output_type": "stream",
     "text": [
      "Running TensorFlow Graph Passes: 100%|██████████| 5/5 [00:01<00:00,  4.26 passes/s]\n",
      "Converting Frontend ==> MIL Ops: 100%|██████████| 131/131 [00:00<00:00, 940.83 ops/s] \n",
      "Running MIL Common passes: 100%|██████████| 33/33 [00:00<00:00, 87.43 passes/s] \n",
      "Running MIL Clean up passes: 100%|██████████| 8/8 [00:00<00:00, 103.21 passes/s]\n",
      "Translating MIL ==> NeuralNetwork Ops: 100%|██████████| 141/141 [00:01<00:00, 106.89 ops/s]\n"
     ]
    },
    {
     "name": "stdout",
     "output_type": "stream",
     "text": [
      "converting for batch:  9\n",
      "\n",
      "*********\n",
      "\n",
      "\n"
     ]
    },
    {
     "name": "stderr",
     "output_type": "stream",
     "text": [
      "Running TensorFlow Graph Passes: 100%|██████████| 5/5 [00:01<00:00,  4.03 passes/s]\n",
      "Converting Frontend ==> MIL Ops: 100%|██████████| 131/131 [00:00<00:00, 811.54 ops/s]\n",
      "Running MIL Common passes: 100%|██████████| 33/33 [00:00<00:00, 50.97 passes/s]\n",
      "Running MIL Clean up passes: 100%|██████████| 8/8 [00:00<00:00, 78.79 passes/s]\n",
      "Translating MIL ==> NeuralNetwork Ops: 100%|██████████| 141/141 [00:02<00:00, 69.26 ops/s] \n"
     ]
    },
    {
     "name": "stdout",
     "output_type": "stream",
     "text": [
      "Conversion complete in 4m 47s\n"
     ]
    }
   ],
   "source": [
    "run_experiment(model_short_name, model_name, input_)"
   ]
  },
  {
   "cell_type": "code",
   "execution_count": null,
   "metadata": {},
   "outputs": [],
   "source": []
  },
  {
   "cell_type": "markdown",
   "metadata": {},
   "source": [
    "## Lets convert from ONNX back to keras"
   ]
  },
  {
   "cell_type": "code",
   "execution_count": 1,
   "metadata": {},
   "outputs": [],
   "source": [
    "from onnx2keras import onnx_to_keras\n",
    "from onnx_tf.backend import prepare"
   ]
  },
  {
   "cell_type": "code",
   "execution_count": 16,
   "metadata": {},
   "outputs": [
    {
     "ename": "FileNotFoundError",
     "evalue": "[Errno 2] No such file or directory: '/Volumes/Cisco/Fall2021/onnx-exchange/conversion/onnx/keras/resnet/tf_resnet18-cifar10_2021-10-29_10.onnx'",
     "output_type": "error",
     "traceback": [
      "\u001b[0;31m---------------------------------------------------------------------------\u001b[0m",
      "\u001b[0;31mFileNotFoundError\u001b[0m                         Traceback (most recent call last)",
      "\u001b[0;32m<ipython-input-16-7448a17c180f>\u001b[0m in \u001b[0;36m<module>\u001b[0;34m\u001b[0m\n\u001b[0;32m----> 1\u001b[0;31m \u001b[0monnx_model\u001b[0m \u001b[0;34m=\u001b[0m \u001b[0monnx\u001b[0m\u001b[0;34m.\u001b[0m\u001b[0mload\u001b[0m\u001b[0;34m(\u001b[0m\u001b[0monnx_path\u001b[0m\u001b[0;34m+\u001b[0m\u001b[0mframework\u001b[0m\u001b[0;34m+\u001b[0m\u001b[0;34m\"/{}/{}.onnx\"\u001b[0m\u001b[0;34m.\u001b[0m\u001b[0mformat\u001b[0m\u001b[0;34m(\u001b[0m\u001b[0mmodel_short_name\u001b[0m\u001b[0;34m,\u001b[0m \u001b[0mmodel_name\u001b[0m\u001b[0;34m)\u001b[0m\u001b[0;34m)\u001b[0m\u001b[0;34m\u001b[0m\u001b[0;34m\u001b[0m\u001b[0m\n\u001b[0m\u001b[1;32m      2\u001b[0m \u001b[0mtf_rep\u001b[0m \u001b[0;34m=\u001b[0m \u001b[0mprepare\u001b[0m\u001b[0;34m(\u001b[0m\u001b[0monnx_model\u001b[0m\u001b[0;34m)\u001b[0m  \u001b[0;31m# prepare tf representation\u001b[0m\u001b[0;34m\u001b[0m\u001b[0;34m\u001b[0m\u001b[0m\n\u001b[1;32m      3\u001b[0m \u001b[0mprint\u001b[0m\u001b[0;34m(\u001b[0m\u001b[0mtf_rep\u001b[0m\u001b[0;34m.\u001b[0m\u001b[0minputs\u001b[0m\u001b[0;34m)\u001b[0m\u001b[0;34m\u001b[0m\u001b[0;34m\u001b[0m\u001b[0m\n",
      "\u001b[0;32m/opt/anaconda3/lib/python3.7/site-packages/onnx/__init__.py\u001b[0m in \u001b[0;36mload_model\u001b[0;34m(f, format, load_external_data)\u001b[0m\n\u001b[1;32m    116\u001b[0m     \u001b[0mLoaded\u001b[0m \u001b[0;32min\u001b[0m\u001b[0;34m-\u001b[0m\u001b[0mmemory\u001b[0m \u001b[0mModelProto\u001b[0m\u001b[0;34m\u001b[0m\u001b[0;34m\u001b[0m\u001b[0m\n\u001b[1;32m    117\u001b[0m     '''\n\u001b[0;32m--> 118\u001b[0;31m     \u001b[0ms\u001b[0m \u001b[0;34m=\u001b[0m \u001b[0m_load_bytes\u001b[0m\u001b[0;34m(\u001b[0m\u001b[0mf\u001b[0m\u001b[0;34m)\u001b[0m\u001b[0;34m\u001b[0m\u001b[0;34m\u001b[0m\u001b[0m\n\u001b[0m\u001b[1;32m    119\u001b[0m     \u001b[0mmodel\u001b[0m \u001b[0;34m=\u001b[0m \u001b[0mload_model_from_string\u001b[0m\u001b[0;34m(\u001b[0m\u001b[0ms\u001b[0m\u001b[0;34m,\u001b[0m \u001b[0mformat\u001b[0m\u001b[0;34m=\u001b[0m\u001b[0mformat\u001b[0m\u001b[0;34m)\u001b[0m\u001b[0;34m\u001b[0m\u001b[0;34m\u001b[0m\u001b[0m\n\u001b[1;32m    120\u001b[0m \u001b[0;34m\u001b[0m\u001b[0m\n",
      "\u001b[0;32m/opt/anaconda3/lib/python3.7/site-packages/onnx/__init__.py\u001b[0m in \u001b[0;36m_load_bytes\u001b[0;34m(f)\u001b[0m\n\u001b[1;32m     30\u001b[0m         \u001b[0ms\u001b[0m \u001b[0;34m=\u001b[0m \u001b[0mcast\u001b[0m\u001b[0;34m(\u001b[0m\u001b[0mIO\u001b[0m\u001b[0;34m[\u001b[0m\u001b[0mbytes\u001b[0m\u001b[0;34m]\u001b[0m\u001b[0;34m,\u001b[0m \u001b[0mf\u001b[0m\u001b[0;34m)\u001b[0m\u001b[0;34m.\u001b[0m\u001b[0mread\u001b[0m\u001b[0;34m(\u001b[0m\u001b[0;34m)\u001b[0m\u001b[0;34m\u001b[0m\u001b[0;34m\u001b[0m\u001b[0m\n\u001b[1;32m     31\u001b[0m     \u001b[0;32melse\u001b[0m\u001b[0;34m:\u001b[0m\u001b[0;34m\u001b[0m\u001b[0;34m\u001b[0m\u001b[0m\n\u001b[0;32m---> 32\u001b[0;31m         \u001b[0;32mwith\u001b[0m \u001b[0mopen\u001b[0m\u001b[0;34m(\u001b[0m\u001b[0mcast\u001b[0m\u001b[0;34m(\u001b[0m\u001b[0mText\u001b[0m\u001b[0;34m,\u001b[0m \u001b[0mf\u001b[0m\u001b[0;34m)\u001b[0m\u001b[0;34m,\u001b[0m \u001b[0;34m'rb'\u001b[0m\u001b[0;34m)\u001b[0m \u001b[0;32mas\u001b[0m \u001b[0mreadable\u001b[0m\u001b[0;34m:\u001b[0m\u001b[0;34m\u001b[0m\u001b[0;34m\u001b[0m\u001b[0m\n\u001b[0m\u001b[1;32m     33\u001b[0m             \u001b[0ms\u001b[0m \u001b[0;34m=\u001b[0m \u001b[0mreadable\u001b[0m\u001b[0;34m.\u001b[0m\u001b[0mread\u001b[0m\u001b[0;34m(\u001b[0m\u001b[0;34m)\u001b[0m\u001b[0;34m\u001b[0m\u001b[0;34m\u001b[0m\u001b[0m\n\u001b[1;32m     34\u001b[0m     \u001b[0;32mreturn\u001b[0m \u001b[0ms\u001b[0m\u001b[0;34m\u001b[0m\u001b[0;34m\u001b[0m\u001b[0m\n",
      "\u001b[0;31mFileNotFoundError\u001b[0m: [Errno 2] No such file or directory: '/Volumes/Cisco/Fall2021/onnx-exchange/conversion/onnx/keras/resnet/tf_resnet18-cifar10_2021-10-29_10.onnx'"
     ]
    }
   ],
   "source": [
    "onnx_model = onnx.load(onnx_path+framework+\"/{}/{}.onnx\".format(model_short_name, model_name))\n",
    "tf_rep = prepare(onnx_model)  # prepare tf representation\n",
    "print(tf_rep.inputs)"
   ]
  },
  {
   "cell_type": "code",
   "execution_count": null,
   "metadata": {},
   "outputs": [],
   "source": []
  },
  {
   "cell_type": "code",
   "execution_count": 20,
   "metadata": {},
   "outputs": [
    {
     "name": "stderr",
     "output_type": "stream",
     "text": [
      "Running TensorFlow Graph Passes: 100%|██████████| 5/5 [00:01<00:00,  4.02 passes/s]\n",
      "Converting Frontend ==> MIL Ops: 100%|██████████| 131/131 [00:00<00:00, 681.49 ops/s]\n",
      "Running MIL Common passes: 100%|██████████| 33/33 [00:00<00:00, 70.05 passes/s]\n",
      "Running MIL Clean up passes: 100%|██████████| 8/8 [00:00<00:00, 67.49 passes/s]\n",
      "Translating MIL ==> NeuralNetwork Ops: 100%|██████████| 141/141 [00:01<00:00, 97.80 ops/s]\n"
     ]
    }
   ],
   "source": [
    "coreml_model = coremltools.convert(model)"
   ]
  },
  {
   "cell_type": "code",
   "execution_count": 26,
   "metadata": {},
   "outputs": [
    {
     "name": "stdout",
     "output_type": "stream",
     "text": [
      "input_2\n"
     ]
    }
   ],
   "source": [
    "split_ = str(coreml_model.get_spec().description.input[0]).split('\\n')\n",
    "name_1 = split_[0].replace('name: \"', '')\n",
    "name_1 = name_1.replace('\"', '')\n",
    "print(name_1)"
   ]
  },
  {
   "cell_type": "code",
   "execution_count": 25,
   "metadata": {},
   "outputs": [
    {
     "name": "stdout",
     "output_type": "stream",
     "text": [
      "input_2\"\n"
     ]
    }
   ],
   "source": [
    "print(split_[0].replace('name: \"', ''))"
   ]
  },
  {
   "cell_type": "code",
   "execution_count": null,
   "metadata": {},
   "outputs": [],
   "source": []
  }
 ],
 "metadata": {
  "kernelspec": {
   "display_name": "Python 3",
   "language": "python",
   "name": "python3"
  },
  "language_info": {
   "codemirror_mode": {
    "name": "ipython",
    "version": 3
   },
   "file_extension": ".py",
   "mimetype": "text/x-python",
   "name": "python",
   "nbconvert_exporter": "python",
   "pygments_lexer": "ipython3",
   "version": "3.7.4"
  }
 },
 "nbformat": 4,
 "nbformat_minor": 2
}
