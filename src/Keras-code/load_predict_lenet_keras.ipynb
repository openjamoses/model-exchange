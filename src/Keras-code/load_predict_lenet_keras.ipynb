{
 "cells": [
  {
   "cell_type": "code",
   "execution_count": 1,
   "metadata": {},
   "outputs": [],
   "source": [
    "import tensorflow.keras as K\n",
    "import tensorflow as tf\n",
    "from tensorflow import keras\n",
    "from tensorflow.keras.models import load_model\n",
    "import time\n",
    "import os\n",
    "import copy\n",
    "import csv\n",
    "from tensorflow import keras\n",
    "import tensorflow as tf\n",
    "import pandas as pd\n",
    "from datetime import datetime\n",
    "from sklearn import metrics\n",
    "import tf2onnx\n",
    "import numpy as np\n",
    "import math"
   ]
  },
  {
   "cell_type": "code",
   "execution_count": 2,
   "metadata": {},
   "outputs": [
    {
     "name": "stdout",
     "output_type": "stream",
     "text": [
      "X_train shape:  (60000, 28, 28, 1)\n",
      "60000 training samples\n",
      "10000 test samples\n",
      "One-hot encoding: [0. 0. 0. 0. 0. 1. 0. 0. 0. 0.]\n"
     ]
    }
   ],
   "source": [
    "batch_size = 500 # Number of images processed at once\n",
    "nb_classes = 10  # 10 Digits from 0 to 9\n",
    "\n",
    "# Dimensionen of the input images (28x28 pixel)\n",
    "img_rows, img_cols = 28, 28\n",
    "\n",
    "# Load image data with labels, split into test and training set \n",
    "(X_train, y_train), (X_test, y_test) = tf.keras.datasets.mnist.load_data()\n",
    "\n",
    "# reshape images in 4D tensor (N images, 28 rows, 28 columns, 1 channel) \n",
    "# rescale pixels range from [0, 255] to [0, 1]\n",
    "X_train = X_train.reshape(X_train.shape[0], img_rows, img_cols, 1)\n",
    "X_test = X_test.reshape(X_test.shape[0], img_rows, img_cols, 1)\n",
    "X_train = X_train.astype(\"float32\")\n",
    "X_test = X_test.astype(\"float32\")\n",
    "X_train /= 255\n",
    "X_test /= 255\n",
    "print('X_train shape: ', X_train.shape)\n",
    "print(X_train.shape[0], \"training samples\")\n",
    "print(X_test.shape[0], \"test samples\")\n",
    "\n",
    "# convert digit labels (0-9) in one-hot encoded binary vectors. \n",
    "# These correspond to the training/test labels at the output of the net. \n",
    "Y_train = tf.keras.utils.to_categorical(y_train, nb_classes)\n",
    "Y_test = tf.keras.utils.to_categorical(y_test, nb_classes)\n",
    "print(\"One-hot encoding: {}\".format(Y_train[0, :]))"
   ]
  },
  {
   "cell_type": "code",
   "execution_count": 3,
   "metadata": {},
   "outputs": [],
   "source": [
    "(x_train, y_train), (x_test, y_test) = tf.keras.datasets.mnist.load_data() ## for Lenet5"
   ]
  },
  {
   "cell_type": "code",
   "execution_count": 4,
   "metadata": {},
   "outputs": [],
   "source": [
    "class DataGenerator(tf.compat.v2.keras.utils.Sequence):\n",
    " \n",
    "    def __init__(self, X_data , y_data, batch_size, dim, n_classes,\n",
    "                 to_fit, shuffle = True):\n",
    "        self.batch_size = batch_size\n",
    "        self.X_data = X_data\n",
    "        self.labels = y_data\n",
    "        self.y_data = y_data\n",
    "        self.to_fit = to_fit\n",
    "        self.n_classes = n_classes\n",
    "        self.dim = dim\n",
    "        self.shuffle = shuffle\n",
    "        self.n = 0\n",
    "        self.list_IDs = np.arange(len(self.X_data))\n",
    "        self.on_epoch_end()\n",
    "    def __next__(self):\n",
    "        # Get one batch of data\n",
    "        data = self.__getitem__(self.n)\n",
    "        # Batch index\n",
    "        self.n += 1\n",
    "        \n",
    "        # If we have processed the entire dataset then\n",
    "        if self.n >= self.__len__():\n",
    "            self.on_epoch_end\n",
    "            self.n = 0\n",
    "        \n",
    "        return data\n",
    "    def __len__(self):\n",
    "        # Return the number of batches of the dataset\n",
    "        return math.ceil(len(self.indexes)/self.batch_size)\n",
    "    def __getitem__(self, index):\n",
    "        # Generate indexes of the batch\n",
    "        indexes = self.indexes[index*self.batch_size:\n",
    "            (index+1)*self.batch_size]\n",
    "        # Find list of IDs\n",
    "        list_IDs_temp = [self.list_IDs[k] for k in indexes]\n",
    "        \n",
    "        X = self._generate_x(list_IDs_temp)\n",
    "        \n",
    "        if self.to_fit:\n",
    "            y = self._generate_y(list_IDs_temp)\n",
    "            return X, y\n",
    "        else:\n",
    "            return X\n",
    "    def on_epoch_end(self):\n",
    "        \n",
    "        self.indexes = np.arange(len(self.X_data))\n",
    "        \n",
    "        if self.shuffle: \n",
    "            np.random.shuffle(self.indexes)\n",
    "    def _generate_x(self, list_IDs_temp):\n",
    "               \n",
    "        X = np.empty((self.batch_size, *self.dim))\n",
    "        \n",
    "        for i, ID in enumerate(list_IDs_temp):\n",
    "            \n",
    "            X[i,] = self.X_data[ID]\n",
    "            \n",
    "            # Normalize data\n",
    "            X = (X/255).astype('float32')\n",
    "            \n",
    "        return X[:,:,:, np.newaxis]\n",
    "    def _generate_y(self, list_IDs_temp):\n",
    "        \n",
    "        y = np.empty(self.batch_size)\n",
    "        \n",
    "        for i, ID in enumerate(list_IDs_temp):\n",
    "            \n",
    "            y[i] = self.y_data[ID]\n",
    "            \n",
    "        return keras.utils.to_categorical(y,num_classes=self.n_classes)"
   ]
  },
  {
   "cell_type": "code",
   "execution_count": 5,
   "metadata": {},
   "outputs": [],
   "source": [
    "n_classes = 10\n",
    "nb_classes = 10\n",
    "input_shape = (28, 28) #Lenet5"
   ]
  },
  {
   "cell_type": "code",
   "execution_count": 6,
   "metadata": {},
   "outputs": [],
   "source": [
    "training_id = 1\n",
    "model_short_name = 'Lenet5'\n",
    "framework = 'Keras'"
   ]
  },
  {
   "cell_type": "code",
   "execution_count": 7,
   "metadata": {},
   "outputs": [],
   "source": [
    "train_generator = DataGenerator(X_train, Y_train, batch_size = batch_size,\n",
    "                                dim = input_shape,\n",
    "                                n_classes=nb_classes, \n",
    "                                to_fit=True, shuffle=True)\n",
    "val_generator =  DataGenerator(X_test, Y_test, batch_size=batch_size, \n",
    "                               dim = input_shape, \n",
    "                               n_classes= nb_classes, \n",
    "                               to_fit=True, shuffle=True)"
   ]
  },
  {
   "cell_type": "code",
   "execution_count": 8,
   "metadata": {},
   "outputs": [
    {
     "data": {
      "text/plain": [
       "601864"
      ]
     },
     "execution_count": 8,
     "metadata": {},
     "output_type": "execute_result"
    }
   ],
   "source": [
    "path = '/Volumes/Cisco/Fall2021/onnx-exchange/Training/Keras/lenet5/'\n",
    "since_0 = time.time()\n",
    "#model_path = 'tf_Lenet5_mnist_2021-08-24-10:35:35'\n",
    "#model_name = 'tf_alexnet_cifar10_2021-08-27-17:05:27'\n",
    "model_name = 'tf_Lenet5_mnist_2021-10-27_{}'.format(training_id)\n",
    "model = tf.keras.models.load_model(path+ model_name+'.h5')\n",
    "t_elapsed_0 = time.time() - since_0\n",
    "size0 = os.path.getsize(path+ model_name+'.h5')\n",
    "size0"
   ]
  },
  {
   "cell_type": "code",
   "execution_count": 9,
   "metadata": {},
   "outputs": [
    {
     "data": {
      "text/plain": [
       "601864"
      ]
     },
     "execution_count": 9,
     "metadata": {},
     "output_type": "execute_result"
    }
   ],
   "source": [
    "size1 = os.path.getsize(path+ model_name+'.h5')\n",
    "size1"
   ]
  },
  {
   "cell_type": "code",
   "execution_count": 10,
   "metadata": {},
   "outputs": [
    {
     "name": "stderr",
     "output_type": "stream",
     "text": [
      "WARNING:root:TensorFlow version 2.5.0 detected. Last version known to be fully compatible is 2.3.1 .\n",
      "Using TensorFlow backend.\n"
     ]
    }
   ],
   "source": [
    "import onnx\n",
    "import onnxruntime\n",
    "import coremltools\n",
    "import time"
   ]
  },
  {
   "cell_type": "code",
   "execution_count": 11,
   "metadata": {},
   "outputs": [],
   "source": [
    "onnx_path = '/Volumes/Cisco/Fall2021/onnx-exchange/conversion/onnx/'\n",
    "coreml_path = '/Volumes/Cisco/Fall2021/onnx-exchange/conversion/coremltools/'\n",
    "restored_path = '/Volumes/Cisco/Fall2021/onnx-exchange/conversion/restored/'"
   ]
  },
  {
   "cell_type": "code",
   "execution_count": 12,
   "metadata": {},
   "outputs": [],
   "source": [
    "error_path = '/Volumes/Cisco/Fall2021/onnx-exchange/conversion/errors/'"
   ]
  },
  {
   "cell_type": "code",
   "execution_count": 15,
   "metadata": {},
   "outputs": [],
   "source": [
    "def to_onnx(i, x, data_writer_error, data_writer_error2, data_writer_run, batch_size):\n",
    "    # Input to the model\n",
    "    #device_reset = cuda.get_current_device()\n",
    "    #device_reset.reset()\n",
    "    #x.cuda()\n",
    "   \n",
    "    print(\"converting for batch: \", i)\n",
    "    \n",
    "    #torch.random.manual_seed(42)\n",
    "    #x = torch.randn(10000, 3, 32, 32, requires_grad=True)\n",
    "    since_ = time.time()\n",
    "    since_1 = time.time()\n",
    "    #model = torch.load(path+model_name+'.pth')\n",
    "    with tf.device('/cpu:0'): \n",
    "        k_predict = model.predict(x)\n",
    "    t_elapsed_1 = time.time() - since_1\n",
    "    # Export the model\n",
    "    since_1 = time.time()\n",
    "    \n",
    "    since_onnx = time.time()\n",
    "    model_proto, external_tensor_storage = tf2onnx.convert.from_keras(model,\n",
    "                input_signature=None, opset=11, custom_ops=None,\n",
    "                custom_op_handlers=None, custom_rewriter=None,\n",
    "                inputs_as_nchw=None, extra_opset=None, shape_override=None,\n",
    "                 target=None, large_model=False, output_path=onnx_path+'keras/{}.onnx'.format(model_name))\n",
    "    \n",
    "    t_elapsed_2 = time.time() - since_1\n",
    "    \n",
    "    onnx_model = onnx.load(onnx_path+\"keras/{}.onnx\".format(model_name))\n",
    "    onnx.checker.check_model(onnx_model)\n",
    "    size2 = os.path.getsize(onnx_path+\"keras/{}.onnx\".format(model_name))\n",
    "    #def to_numpy(tensor):\n",
    "    #    return tensor.detach().cpu().numpy() if tensor.requires_grad else tensor.cpu().numpy()\n",
    "    ort_session = onnxruntime.InferenceSession(onnx_path+\"keras/{}.onnx\".format(model_name))\n",
    "    since_1 = time.time()\n",
    "    ort_inputs = {ort_session.get_inputs()[0].name: x}\n",
    "    ort_outs = ort_session.run(None, ort_inputs)\n",
    "    t_elapsed_3 = time.time() - since_1\n",
    "    t_elapsed_ = time.time() - since_\n",
    "    t_elapsed_onnx = time.time() - since_onnx\n",
    "    # compare ONNX Runtime and PyTorch results\n",
    "    print(\"\\n*********\\n\\n\")\n",
    "    #time_diff = t_elapsed_0+t_elapsed_1, t_elapsed_2, t_elapsed_3\n",
    "    \n",
    "    abs_err = np.absolute(k_predict-ort_outs[0])\n",
    "    rel_err = np.absolute(k_predict-ort_outs[0])/ np.absolute(ort_outs[0])\n",
    "    #print('Batch: ', i, abs_err, rel_err)\n",
    "    \n",
    "\n",
    "    \n",
    "    ## Converting the coremltool\n",
    "    since_1 = time.time()\n",
    "    coreml_model = coremltools.convert(model)\n",
    "    t_elapsed_4 = time.time() - since_1\n",
    "    since_1 = time.time()\n",
    "    coreml_model.save(coreml_path+'keras/{}.mlmodel'.format(model_name))\n",
    "    t_elapsed_5 = time.time() - since_1\n",
    "    \n",
    "    size3 = os.path.getsize(coreml_path+'keras/{}.mlmodel'.format(model_name))\n",
    "    \n",
    "    since_1 = time.time()\n",
    "    output_dict_test = coreml_model.predict({'conv2d_input':x})\n",
    "    t_elapsed_6 = time.time() - since_1\n",
    "    t_elapsed2_ = time.time() - since_\n",
    "    \n",
    "    abs_err2 = np.absolute(k_predict-output_dict_test['Identity'])\n",
    "    rel_err2 = np.absolute(k_predict-output_dict_test['Identity'])/ np.absolute(output_dict_test['Identity'])\n",
    "    \n",
    "    for j in range (len(abs_err)):\n",
    "        for k in range(len(abs_err[j])): \n",
    "            data_writer_error.writerow([model_short_name,framework, training_id, model_name, batch_size, i, abs_err[j][k], rel_err[j][k]])\n",
    "    \n",
    "    \n",
    "    for j in range (len(abs_err2)):\n",
    "        for k in range(len(abs_err2[j])): \n",
    "            data_writer_error2.writerow([model_short_name,framework, training_id, model_name, batch_size, i, abs_err2[j][k], rel_err2[j][k]])\n",
    "      \n",
    "    data_writer_run.writerow([model_short_name, framework, training_id, model_name, batch_size, i,'onnx',size0, size2, t_elapsed_1, t_elapsed_3,  t_elapsed_2,'', t_elapsed_, np.mean(abs_err), np.median(abs_err), np.min(abs_err), np.max(abs_err), np.mean(rel_err), np.median(rel_err), np.min(rel_err), np.max(rel_err)])\n",
    "    data_writer_run.writerow([model_short_name, framework, training_id, model_name, batch_size, i,'coremltools',size0, size3, t_elapsed_1, t_elapsed_6, t_elapsed_4, t_elapsed_5, (t_elapsed2_-t_elapsed_onnx), np.mean(abs_err2), np.median(abs_err2), np.min(abs_err2), np.max(abs_err2), np.mean(rel_err2), np.median(rel_err2), np.min(rel_err2), np.max(rel_err2)])"
   ]
  },
  {
   "cell_type": "code",
   "execution_count": 16,
   "metadata": {},
   "outputs": [],
   "source": [
    "def _lets_convert(data, data_writer_error, data_writer_error2, data_writer_run, batch_size):\n",
    "    since = time.time()\n",
    "    for i, (images, labels) in enumerate(data):\n",
    "        #torch.cuda.empty_cache()\n",
    "        #images = images.cuda()\n",
    "        to_onnx(i, images,data_writer_error, data_writer_error2, data_writer_run, batch_size)\n",
    "        if i == 20:\n",
    "            break\n",
    "    time_elapsed = time.time() - since\n",
    "    print('Conversion complete in {:.0f}m {:.0f}s'.format(time_elapsed // 60, time_elapsed % 60) )\n",
    "    \n",
    "    #return list_converted\n",
    "    #return list_converted, abs_errors, rel_errors, 'Conversion complete in {:.0f}m {:.0f}s'.format(time_elapsed // 60, time_elapsed % 60), np.mean(np.array(t0_list)), np.mean(np.array(t1_list)), np.mean(np.array(t2_list)), np.mean(np.array(t3_list)), np.mean(np.array(s_list))"
   ]
  },
  {
   "cell_type": "code",
   "execution_count": 17,
   "metadata": {},
   "outputs": [
    {
     "name": "stdout",
     "output_type": "stream",
     "text": [
      "################ Batch size:  1\n",
      "converting for batch:  0\n",
      "\n",
      "*********\n",
      "\n",
      "\n"
     ]
    },
    {
     "name": "stderr",
     "output_type": "stream",
     "text": [
      "Running TensorFlow Graph Passes: 100%|██████████| 5/5 [00:00<00:00, 29.41 passes/s]\n",
      "Converting Frontend ==> MIL Ops: 100%|██████████| 31/31 [00:00<00:00, 436.71 ops/s]\n",
      "Running MIL Common passes: 100%|██████████| 33/33 [00:00<00:00, 677.83 passes/s]\n",
      "Running MIL Clean up passes: 100%|██████████| 8/8 [00:00<00:00, 297.83 passes/s]\n",
      "Translating MIL ==> NeuralNetwork Ops: 100%|██████████| 54/54 [00:00<00:00, 1400.19 ops/s]\n"
     ]
    },
    {
     "name": "stdout",
     "output_type": "stream",
     "text": [
      "converting for batch:  1\n",
      "\n",
      "*********\n",
      "\n",
      "\n"
     ]
    },
    {
     "name": "stderr",
     "output_type": "stream",
     "text": [
      "Running TensorFlow Graph Passes: 100%|██████████| 5/5 [00:00<00:00, 20.28 passes/s]\n",
      "Converting Frontend ==> MIL Ops: 100%|██████████| 31/31 [00:00<00:00, 447.40 ops/s]\n",
      "Running MIL Common passes: 100%|██████████| 33/33 [00:00<00:00, 606.56 passes/s]\n",
      "Running MIL Clean up passes: 100%|██████████| 8/8 [00:00<00:00, 322.43 passes/s]\n",
      "Translating MIL ==> NeuralNetwork Ops: 100%|██████████| 54/54 [00:00<00:00, 1428.88 ops/s]\n"
     ]
    },
    {
     "name": "stdout",
     "output_type": "stream",
     "text": [
      "converting for batch:  2\n",
      "\n",
      "*********\n",
      "\n",
      "\n"
     ]
    },
    {
     "name": "stderr",
     "output_type": "stream",
     "text": [
      "Running TensorFlow Graph Passes: 100%|██████████| 5/5 [00:00<00:00, 33.20 passes/s]\n",
      "Converting Frontend ==> MIL Ops: 100%|██████████| 31/31 [00:00<00:00, 464.85 ops/s]\n",
      "Running MIL Common passes: 100%|██████████| 33/33 [00:00<00:00, 664.32 passes/s]\n",
      "Running MIL Clean up passes: 100%|██████████| 8/8 [00:00<00:00, 290.02 passes/s]\n",
      "Translating MIL ==> NeuralNetwork Ops: 100%|██████████| 54/54 [00:00<00:00, 1546.35 ops/s]\n"
     ]
    },
    {
     "name": "stdout",
     "output_type": "stream",
     "text": [
      "converting for batch:  3\n",
      "\n",
      "*********\n",
      "\n",
      "\n"
     ]
    },
    {
     "name": "stderr",
     "output_type": "stream",
     "text": [
      "Running TensorFlow Graph Passes: 100%|██████████| 5/5 [00:00<00:00, 32.37 passes/s]\n",
      "Converting Frontend ==> MIL Ops: 100%|██████████| 31/31 [00:00<00:00, 560.89 ops/s]\n",
      "Running MIL Common passes: 100%|██████████| 33/33 [00:00<00:00, 439.13 passes/s]\n",
      "Running MIL Clean up passes: 100%|██████████| 8/8 [00:00<00:00, 181.25 passes/s]\n",
      "Translating MIL ==> NeuralNetwork Ops: 100%|██████████| 54/54 [00:00<00:00, 1170.68 ops/s]\n"
     ]
    },
    {
     "name": "stdout",
     "output_type": "stream",
     "text": [
      "converting for batch:  4\n",
      "\n",
      "*********\n",
      "\n",
      "\n"
     ]
    },
    {
     "name": "stderr",
     "output_type": "stream",
     "text": [
      "Running TensorFlow Graph Passes: 100%|██████████| 5/5 [00:00<00:00, 32.21 passes/s]\n",
      "Converting Frontend ==> MIL Ops: 100%|██████████| 31/31 [00:00<00:00, 623.04 ops/s]\n",
      "Running MIL Common passes: 100%|██████████| 33/33 [00:00<00:00, 520.86 passes/s]\n",
      "Running MIL Clean up passes: 100%|██████████| 8/8 [00:00<00:00, 271.62 passes/s]\n",
      "Translating MIL ==> NeuralNetwork Ops: 100%|██████████| 54/54 [00:00<00:00, 1636.86 ops/s]\n"
     ]
    },
    {
     "name": "stdout",
     "output_type": "stream",
     "text": [
      "converting for batch:  5\n",
      "\n",
      "*********\n",
      "\n",
      "\n"
     ]
    },
    {
     "name": "stderr",
     "output_type": "stream",
     "text": [
      "Running TensorFlow Graph Passes: 100%|██████████| 5/5 [00:00<00:00, 32.46 passes/s]\n",
      "Converting Frontend ==> MIL Ops: 100%|██████████| 31/31 [00:00<00:00, 478.96 ops/s]\n",
      "Running MIL Common passes: 100%|██████████| 33/33 [00:00<00:00, 619.52 passes/s]\n",
      "Running MIL Clean up passes: 100%|██████████| 8/8 [00:00<00:00, 231.56 passes/s]\n",
      "Translating MIL ==> NeuralNetwork Ops: 100%|██████████| 54/54 [00:00<00:00, 1473.75 ops/s]\n"
     ]
    },
    {
     "name": "stdout",
     "output_type": "stream",
     "text": [
      "converting for batch:  6\n",
      "\n",
      "*********\n",
      "\n",
      "\n"
     ]
    },
    {
     "name": "stderr",
     "output_type": "stream",
     "text": [
      "/opt/anaconda3/lib/python3.7/site-packages/ipykernel_launcher.py:46: RuntimeWarning: invalid value encountered in true_divide\n",
      "Running TensorFlow Graph Passes: 100%|██████████| 5/5 [00:00<00:00, 31.48 passes/s]\n",
      "Converting Frontend ==> MIL Ops: 100%|██████████| 31/31 [00:00<00:00, 488.42 ops/s]\n",
      "Running MIL Common passes: 100%|██████████| 33/33 [00:00<00:00, 642.80 passes/s]\n",
      "Running MIL Clean up passes: 100%|██████████| 8/8 [00:00<00:00, 242.43 passes/s]\n",
      "Translating MIL ==> NeuralNetwork Ops: 100%|██████████| 54/54 [00:00<00:00, 1382.10 ops/s]\n",
      "/opt/anaconda3/lib/python3.7/site-packages/ipykernel_launcher.py:67: RuntimeWarning: invalid value encountered in true_divide\n"
     ]
    },
    {
     "name": "stdout",
     "output_type": "stream",
     "text": [
      "converting for batch:  7\n",
      "\n",
      "*********\n",
      "\n",
      "\n"
     ]
    },
    {
     "name": "stderr",
     "output_type": "stream",
     "text": [
      "Running TensorFlow Graph Passes: 100%|██████████| 5/5 [00:00<00:00, 31.28 passes/s]\n",
      "Converting Frontend ==> MIL Ops: 100%|██████████| 31/31 [00:00<00:00, 448.57 ops/s]\n",
      "Running MIL Common passes: 100%|██████████| 33/33 [00:00<00:00, 624.57 passes/s]\n",
      "Running MIL Clean up passes: 100%|██████████| 8/8 [00:00<00:00, 266.59 passes/s]\n",
      "Translating MIL ==> NeuralNetwork Ops: 100%|██████████| 54/54 [00:00<00:00, 1850.38 ops/s]\n"
     ]
    },
    {
     "name": "stdout",
     "output_type": "stream",
     "text": [
      "converting for batch:  8\n",
      "\n",
      "*********\n",
      "\n",
      "\n"
     ]
    },
    {
     "name": "stderr",
     "output_type": "stream",
     "text": [
      "Running TensorFlow Graph Passes: 100%|██████████| 5/5 [00:00<00:00, 31.18 passes/s]\n",
      "Converting Frontend ==> MIL Ops: 100%|██████████| 31/31 [00:00<00:00, 484.20 ops/s]\n",
      "Running MIL Common passes: 100%|██████████| 33/33 [00:00<00:00, 616.99 passes/s]\n",
      "Running MIL Clean up passes: 100%|██████████| 8/8 [00:00<00:00, 306.75 passes/s]\n",
      "Translating MIL ==> NeuralNetwork Ops: 100%|██████████| 54/54 [00:00<00:00, 1570.37 ops/s]\n"
     ]
    },
    {
     "name": "stdout",
     "output_type": "stream",
     "text": [
      "converting for batch:  9\n",
      "\n",
      "*********\n",
      "\n",
      "\n"
     ]
    },
    {
     "name": "stderr",
     "output_type": "stream",
     "text": [
      "Running TensorFlow Graph Passes: 100%|██████████| 5/5 [00:00<00:00, 31.94 passes/s]\n",
      "Converting Frontend ==> MIL Ops: 100%|██████████| 31/31 [00:00<00:00, 585.08 ops/s]\n",
      "Running MIL Common passes: 100%|██████████| 33/33 [00:00<00:00, 690.62 passes/s]\n",
      "Running MIL Clean up passes: 100%|██████████| 8/8 [00:00<00:00, 319.44 passes/s]\n",
      "Translating MIL ==> NeuralNetwork Ops: 100%|██████████| 54/54 [00:00<00:00, 1983.40 ops/s]\n"
     ]
    },
    {
     "name": "stdout",
     "output_type": "stream",
     "text": [
      "converting for batch:  10\n",
      "\n",
      "*********\n",
      "\n",
      "\n"
     ]
    },
    {
     "name": "stderr",
     "output_type": "stream",
     "text": [
      "Running TensorFlow Graph Passes: 100%|██████████| 5/5 [00:00<00:00, 32.98 passes/s]\n",
      "Converting Frontend ==> MIL Ops: 100%|██████████| 31/31 [00:00<00:00, 522.23 ops/s]\n",
      "Running MIL Common passes: 100%|██████████| 33/33 [00:00<00:00, 658.17 passes/s]\n",
      "Running MIL Clean up passes: 100%|██████████| 8/8 [00:00<00:00, 263.15 passes/s]\n",
      "Translating MIL ==> NeuralNetwork Ops: 100%|██████████| 54/54 [00:00<00:00, 1761.33 ops/s]\n"
     ]
    },
    {
     "name": "stdout",
     "output_type": "stream",
     "text": [
      "converting for batch:  11\n",
      "\n",
      "*********\n",
      "\n",
      "\n"
     ]
    },
    {
     "name": "stderr",
     "output_type": "stream",
     "text": [
      "Running TensorFlow Graph Passes: 100%|██████████| 5/5 [00:00<00:00, 31.90 passes/s]\n",
      "Converting Frontend ==> MIL Ops: 100%|██████████| 31/31 [00:00<00:00, 552.05 ops/s]\n",
      "Running MIL Common passes: 100%|██████████| 33/33 [00:00<00:00, 681.76 passes/s]\n",
      "Running MIL Clean up passes: 100%|██████████| 8/8 [00:00<00:00, 313.61 passes/s]\n",
      "Translating MIL ==> NeuralNetwork Ops: 100%|██████████| 54/54 [00:00<00:00, 1938.53 ops/s]\n"
     ]
    },
    {
     "name": "stdout",
     "output_type": "stream",
     "text": [
      "converting for batch:  12\n",
      "\n",
      "*********\n",
      "\n",
      "\n"
     ]
    },
    {
     "name": "stderr",
     "output_type": "stream",
     "text": [
      "Running TensorFlow Graph Passes: 100%|██████████| 5/5 [00:00<00:00, 31.63 passes/s]\n",
      "Converting Frontend ==> MIL Ops: 100%|██████████| 31/31 [00:00<00:00, 551.16 ops/s]\n",
      "Running MIL Common passes: 100%|██████████| 33/33 [00:00<00:00, 684.61 passes/s]\n",
      "Running MIL Clean up passes: 100%|██████████| 8/8 [00:00<00:00, 316.14 passes/s]\n",
      "Translating MIL ==> NeuralNetwork Ops: 100%|██████████| 54/54 [00:00<00:00, 1809.42 ops/s]\n"
     ]
    },
    {
     "name": "stdout",
     "output_type": "stream",
     "text": [
      "converting for batch:  13\n",
      "\n",
      "*********\n",
      "\n",
      "\n"
     ]
    },
    {
     "name": "stderr",
     "output_type": "stream",
     "text": [
      "Running TensorFlow Graph Passes: 100%|██████████| 5/5 [00:00<00:00, 32.88 passes/s]\n",
      "Converting Frontend ==> MIL Ops: 100%|██████████| 31/31 [00:00<00:00, 542.92 ops/s]\n",
      "Running MIL Common passes: 100%|██████████| 33/33 [00:00<00:00, 562.93 passes/s]\n",
      "Running MIL Clean up passes: 100%|██████████| 8/8 [00:00<00:00, 379.91 passes/s]\n",
      "Translating MIL ==> NeuralNetwork Ops: 100%|██████████| 54/54 [00:00<00:00, 2525.39 ops/s]\n"
     ]
    },
    {
     "name": "stdout",
     "output_type": "stream",
     "text": [
      "converting for batch:  14\n",
      "\n",
      "*********\n",
      "\n",
      "\n"
     ]
    },
    {
     "name": "stderr",
     "output_type": "stream",
     "text": [
      "Running TensorFlow Graph Passes: 100%|██████████| 5/5 [00:00<00:00, 31.77 passes/s]\n",
      "Converting Frontend ==> MIL Ops: 100%|██████████| 31/31 [00:00<00:00, 607.47 ops/s]\n",
      "Running MIL Common passes: 100%|██████████| 33/33 [00:00<00:00, 701.94 passes/s]\n",
      "Running MIL Clean up passes: 100%|██████████| 8/8 [00:00<00:00, 298.98 passes/s]\n",
      "Translating MIL ==> NeuralNetwork Ops: 100%|██████████| 54/54 [00:00<00:00, 1991.00 ops/s]\n"
     ]
    },
    {
     "name": "stdout",
     "output_type": "stream",
     "text": [
      "converting for batch:  15\n",
      "\n",
      "*********\n",
      "\n",
      "\n"
     ]
    },
    {
     "name": "stderr",
     "output_type": "stream",
     "text": [
      "Running TensorFlow Graph Passes: 100%|██████████| 5/5 [00:00<00:00, 30.76 passes/s]\n",
      "Converting Frontend ==> MIL Ops: 100%|██████████| 31/31 [00:00<00:00, 542.75 ops/s]\n",
      "Running MIL Common passes: 100%|██████████| 33/33 [00:00<00:00, 686.81 passes/s]\n",
      "Running MIL Clean up passes: 100%|██████████| 8/8 [00:00<00:00, 290.00 passes/s]\n",
      "Translating MIL ==> NeuralNetwork Ops: 100%|██████████| 54/54 [00:00<00:00, 1787.60 ops/s]\n"
     ]
    },
    {
     "name": "stdout",
     "output_type": "stream",
     "text": [
      "converting for batch:  16\n",
      "\n",
      "*********\n",
      "\n",
      "\n"
     ]
    },
    {
     "name": "stderr",
     "output_type": "stream",
     "text": [
      "Running TensorFlow Graph Passes: 100%|██████████| 5/5 [00:00<00:00, 31.65 passes/s]\n",
      "Converting Frontend ==> MIL Ops: 100%|██████████| 31/31 [00:00<00:00, 555.95 ops/s]\n",
      "Running MIL Common passes: 100%|██████████| 33/33 [00:00<00:00, 697.88 passes/s]\n",
      "Running MIL Clean up passes: 100%|██████████| 8/8 [00:00<00:00, 312.82 passes/s]\n",
      "Translating MIL ==> NeuralNetwork Ops: 100%|██████████| 54/54 [00:00<00:00, 1673.27 ops/s]\n"
     ]
    },
    {
     "name": "stdout",
     "output_type": "stream",
     "text": [
      "converting for batch:  17\n",
      "\n",
      "*********\n",
      "\n",
      "\n"
     ]
    },
    {
     "name": "stderr",
     "output_type": "stream",
     "text": [
      "Running TensorFlow Graph Passes: 100%|██████████| 5/5 [00:00<00:00, 31.95 passes/s]\n",
      "Converting Frontend ==> MIL Ops: 100%|██████████| 31/31 [00:00<00:00, 548.93 ops/s]\n",
      "Running MIL Common passes: 100%|██████████| 33/33 [00:00<00:00, 686.51 passes/s]\n",
      "Running MIL Clean up passes: 100%|██████████| 8/8 [00:00<00:00, 323.83 passes/s]\n",
      "Translating MIL ==> NeuralNetwork Ops: 100%|██████████| 54/54 [00:00<00:00, 1805.31 ops/s]\n"
     ]
    },
    {
     "name": "stdout",
     "output_type": "stream",
     "text": [
      "converting for batch:  18\n",
      "\n",
      "*********\n",
      "\n",
      "\n"
     ]
    },
    {
     "name": "stderr",
     "output_type": "stream",
     "text": [
      "Running TensorFlow Graph Passes: 100%|██████████| 5/5 [00:00<00:00, 30.42 passes/s]\n",
      "Converting Frontend ==> MIL Ops: 100%|██████████| 31/31 [00:00<00:00, 660.11 ops/s]\n",
      "Running MIL Common passes: 100%|██████████| 33/33 [00:00<00:00, 573.22 passes/s]\n",
      "Running MIL Clean up passes: 100%|██████████| 8/8 [00:00<00:00, 316.33 passes/s]\n",
      "Translating MIL ==> NeuralNetwork Ops: 100%|██████████| 54/54 [00:00<00:00, 1716.97 ops/s]\n"
     ]
    },
    {
     "name": "stdout",
     "output_type": "stream",
     "text": [
      "converting for batch:  19\n",
      "\n",
      "*********\n",
      "\n",
      "\n"
     ]
    },
    {
     "name": "stderr",
     "output_type": "stream",
     "text": [
      "Running TensorFlow Graph Passes: 100%|██████████| 5/5 [00:00<00:00, 31.61 passes/s]\n",
      "Converting Frontend ==> MIL Ops: 100%|██████████| 31/31 [00:00<00:00, 586.17 ops/s]\n",
      "Running MIL Common passes: 100%|██████████| 33/33 [00:00<00:00, 628.17 passes/s]\n",
      "Running MIL Clean up passes: 100%|██████████| 8/8 [00:00<00:00, 320.45 passes/s]\n",
      "Translating MIL ==> NeuralNetwork Ops: 100%|██████████| 54/54 [00:00<00:00, 1781.64 ops/s]\n"
     ]
    },
    {
     "name": "stdout",
     "output_type": "stream",
     "text": [
      "converting for batch:  20\n",
      "\n",
      "*********\n",
      "\n",
      "\n"
     ]
    },
    {
     "name": "stderr",
     "output_type": "stream",
     "text": [
      "Running TensorFlow Graph Passes: 100%|██████████| 5/5 [00:00<00:00, 30.57 passes/s]\n",
      "Converting Frontend ==> MIL Ops: 100%|██████████| 31/31 [00:00<00:00, 562.55 ops/s]\n",
      "Running MIL Common passes: 100%|██████████| 33/33 [00:00<00:00, 663.19 passes/s]\n",
      "Running MIL Clean up passes: 100%|██████████| 8/8 [00:00<00:00, 309.59 passes/s]\n",
      "Translating MIL ==> NeuralNetwork Ops: 100%|██████████| 54/54 [00:00<00:00, 1773.35 ops/s]\n"
     ]
    },
    {
     "name": "stdout",
     "output_type": "stream",
     "text": [
      "Conversion complete in 0m 27s\n",
      "################ Batch size:  5\n",
      "converting for batch:  0\n",
      "\n",
      "*********\n",
      "\n",
      "\n"
     ]
    },
    {
     "name": "stderr",
     "output_type": "stream",
     "text": [
      "Running TensorFlow Graph Passes: 100%|██████████| 5/5 [00:00<00:00, 31.12 passes/s]\n",
      "Converting Frontend ==> MIL Ops: 100%|██████████| 31/31 [00:00<00:00, 593.39 ops/s]\n",
      "Running MIL Common passes: 100%|██████████| 33/33 [00:00<00:00, 709.68 passes/s]\n",
      "Running MIL Clean up passes: 100%|██████████| 8/8 [00:00<00:00, 283.52 passes/s]\n",
      "Translating MIL ==> NeuralNetwork Ops: 100%|██████████| 54/54 [00:00<00:00, 1671.22 ops/s]\n"
     ]
    },
    {
     "name": "stdout",
     "output_type": "stream",
     "text": [
      "converting for batch:  1\n",
      "\n",
      "*********\n",
      "\n",
      "\n"
     ]
    },
    {
     "name": "stderr",
     "output_type": "stream",
     "text": [
      "Running TensorFlow Graph Passes: 100%|██████████| 5/5 [00:00<00:00, 28.45 passes/s]\n",
      "Converting Frontend ==> MIL Ops: 100%|██████████| 31/31 [00:00<00:00, 418.79 ops/s]\n",
      "Running MIL Common passes: 100%|██████████| 33/33 [00:00<00:00, 560.23 passes/s]\n",
      "Running MIL Clean up passes: 100%|██████████| 8/8 [00:00<00:00, 188.20 passes/s]\n",
      "Translating MIL ==> NeuralNetwork Ops: 100%|██████████| 54/54 [00:00<00:00, 1185.77 ops/s]\n"
     ]
    },
    {
     "name": "stdout",
     "output_type": "stream",
     "text": [
      "converting for batch:  2\n",
      "\n",
      "*********\n",
      "\n",
      "\n"
     ]
    },
    {
     "name": "stderr",
     "output_type": "stream",
     "text": [
      "Running TensorFlow Graph Passes: 100%|██████████| 5/5 [00:00<00:00, 33.12 passes/s]\n",
      "Converting Frontend ==> MIL Ops: 100%|██████████| 31/31 [00:00<00:00, 541.87 ops/s]\n",
      "Running MIL Common passes: 100%|██████████| 33/33 [00:00<00:00, 739.66 passes/s]\n",
      "Running MIL Clean up passes: 100%|██████████| 8/8 [00:00<00:00, 293.62 passes/s]\n",
      "Translating MIL ==> NeuralNetwork Ops: 100%|██████████| 54/54 [00:00<00:00, 1729.66 ops/s]\n"
     ]
    },
    {
     "name": "stdout",
     "output_type": "stream",
     "text": [
      "converting for batch:  3\n",
      "\n",
      "*********\n",
      "\n",
      "\n"
     ]
    },
    {
     "name": "stderr",
     "output_type": "stream",
     "text": [
      "Running TensorFlow Graph Passes: 100%|██████████| 5/5 [00:00<00:00, 32.00 passes/s]\n",
      "Converting Frontend ==> MIL Ops: 100%|██████████| 31/31 [00:00<00:00, 519.43 ops/s]\n",
      "Running MIL Common passes: 100%|██████████| 33/33 [00:00<00:00, 681.23 passes/s]\n",
      "Running MIL Clean up passes: 100%|██████████| 8/8 [00:00<00:00, 312.04 passes/s]\n",
      "Translating MIL ==> NeuralNetwork Ops: 100%|██████████| 54/54 [00:00<00:00, 1685.34 ops/s]\n"
     ]
    },
    {
     "name": "stdout",
     "output_type": "stream",
     "text": [
      "converting for batch:  4\n",
      "\n",
      "*********\n",
      "\n",
      "\n"
     ]
    },
    {
     "name": "stderr",
     "output_type": "stream",
     "text": [
      "Running TensorFlow Graph Passes: 100%|██████████| 5/5 [00:00<00:00, 30.95 passes/s]\n",
      "Converting Frontend ==> MIL Ops: 100%|██████████| 31/31 [00:00<00:00, 585.82 ops/s]\n",
      "Running MIL Common passes: 100%|██████████| 33/33 [00:00<00:00, 647.21 passes/s]\n",
      "Running MIL Clean up passes: 100%|██████████| 8/8 [00:00<00:00, 300.14 passes/s]\n",
      "Translating MIL ==> NeuralNetwork Ops: 100%|██████████| 54/54 [00:00<00:00, 1752.79 ops/s]\n"
     ]
    },
    {
     "name": "stdout",
     "output_type": "stream",
     "text": [
      "converting for batch:  5\n",
      "\n",
      "*********\n",
      "\n",
      "\n"
     ]
    },
    {
     "name": "stderr",
     "output_type": "stream",
     "text": [
      "Running TensorFlow Graph Passes: 100%|██████████| 5/5 [00:00<00:00, 31.37 passes/s]\n",
      "Converting Frontend ==> MIL Ops: 100%|██████████| 31/31 [00:00<00:00, 616.14 ops/s]\n",
      "Running MIL Common passes: 100%|██████████| 33/33 [00:00<00:00, 621.38 passes/s]\n",
      "Running MIL Clean up passes: 100%|██████████| 8/8 [00:00<00:00, 297.22 passes/s]\n",
      "Translating MIL ==> NeuralNetwork Ops: 100%|██████████| 54/54 [00:00<00:00, 1902.29 ops/s]\n"
     ]
    },
    {
     "name": "stdout",
     "output_type": "stream",
     "text": [
      "converting for batch:  6\n",
      "\n",
      "*********\n",
      "\n",
      "\n"
     ]
    },
    {
     "name": "stderr",
     "output_type": "stream",
     "text": [
      "Running TensorFlow Graph Passes: 100%|██████████| 5/5 [00:00<00:00, 31.47 passes/s]\n",
      "Converting Frontend ==> MIL Ops: 100%|██████████| 31/31 [00:00<00:00, 534.95 ops/s]\n",
      "Running MIL Common passes: 100%|██████████| 33/33 [00:00<00:00, 711.22 passes/s]\n",
      "Running MIL Clean up passes: 100%|██████████| 8/8 [00:00<00:00, 296.55 passes/s]\n",
      "Translating MIL ==> NeuralNetwork Ops: 100%|██████████| 54/54 [00:00<00:00, 1891.68 ops/s]\n"
     ]
    },
    {
     "name": "stdout",
     "output_type": "stream",
     "text": [
      "converting for batch:  7\n",
      "\n",
      "*********\n",
      "\n",
      "\n"
     ]
    },
    {
     "name": "stderr",
     "output_type": "stream",
     "text": [
      "Running TensorFlow Graph Passes: 100%|██████████| 5/5 [00:00<00:00, 31.06 passes/s]\n",
      "Converting Frontend ==> MIL Ops: 100%|██████████| 31/31 [00:00<00:00, 585.38 ops/s]\n",
      "Running MIL Common passes: 100%|██████████| 33/33 [00:00<00:00, 678.06 passes/s]\n",
      "Running MIL Clean up passes: 100%|██████████| 8/8 [00:00<00:00, 295.97 passes/s]\n",
      "Translating MIL ==> NeuralNetwork Ops: 100%|██████████| 54/54 [00:00<00:00, 1458.28 ops/s]\n"
     ]
    },
    {
     "name": "stdout",
     "output_type": "stream",
     "text": [
      "converting for batch:  8\n",
      "\n",
      "*********\n",
      "\n",
      "\n"
     ]
    },
    {
     "name": "stderr",
     "output_type": "stream",
     "text": [
      "Running TensorFlow Graph Passes: 100%|██████████| 5/5 [00:00<00:00, 31.72 passes/s]\n",
      "Converting Frontend ==> MIL Ops: 100%|██████████| 31/31 [00:00<00:00, 537.55 ops/s]\n",
      "Running MIL Common passes: 100%|██████████| 33/33 [00:00<00:00, 697.81 passes/s]\n",
      "Running MIL Clean up passes: 100%|██████████| 8/8 [00:00<00:00, 296.72 passes/s]\n",
      "Translating MIL ==> NeuralNetwork Ops: 100%|██████████| 54/54 [00:00<00:00, 1892.48 ops/s]\n"
     ]
    },
    {
     "name": "stdout",
     "output_type": "stream",
     "text": [
      "converting for batch:  9\n",
      "\n",
      "*********\n",
      "\n",
      "\n"
     ]
    },
    {
     "name": "stderr",
     "output_type": "stream",
     "text": [
      "Running TensorFlow Graph Passes: 100%|██████████| 5/5 [00:00<00:00, 31.31 passes/s]\n",
      "Converting Frontend ==> MIL Ops: 100%|██████████| 31/31 [00:00<00:00, 576.49 ops/s]\n",
      "Running MIL Common passes: 100%|██████████| 33/33 [00:00<00:00, 664.90 passes/s]\n",
      "Running MIL Clean up passes: 100%|██████████| 8/8 [00:00<00:00, 296.30 passes/s]\n",
      "Translating MIL ==> NeuralNetwork Ops: 100%|██████████| 54/54 [00:00<00:00, 1701.48 ops/s]\n"
     ]
    },
    {
     "name": "stdout",
     "output_type": "stream",
     "text": [
      "converting for batch:  10\n",
      "\n",
      "*********\n",
      "\n",
      "\n"
     ]
    },
    {
     "name": "stderr",
     "output_type": "stream",
     "text": [
      "Running TensorFlow Graph Passes: 100%|██████████| 5/5 [00:00<00:00, 31.06 passes/s]\n",
      "Converting Frontend ==> MIL Ops: 100%|██████████| 31/31 [00:00<00:00, 501.88 ops/s]\n",
      "Running MIL Common passes: 100%|██████████| 33/33 [00:00<00:00, 670.21 passes/s]\n",
      "Running MIL Clean up passes: 100%|██████████| 8/8 [00:00<00:00, 278.49 passes/s]\n",
      "Translating MIL ==> NeuralNetwork Ops: 100%|██████████| 54/54 [00:00<00:00, 1795.93 ops/s]\n"
     ]
    },
    {
     "name": "stdout",
     "output_type": "stream",
     "text": [
      "converting for batch:  11\n",
      "\n",
      "*********\n",
      "\n",
      "\n"
     ]
    },
    {
     "name": "stderr",
     "output_type": "stream",
     "text": [
      "Running TensorFlow Graph Passes: 100%|██████████| 5/5 [00:00<00:00, 29.66 passes/s]\n",
      "Converting Frontend ==> MIL Ops: 100%|██████████| 31/31 [00:00<00:00, 540.82 ops/s]\n",
      "Running MIL Common passes: 100%|██████████| 33/33 [00:00<00:00, 651.13 passes/s]\n",
      "Running MIL Clean up passes: 100%|██████████| 8/8 [00:00<00:00, 257.98 passes/s]\n",
      "Translating MIL ==> NeuralNetwork Ops: 100%|██████████| 54/54 [00:00<00:00, 1571.05 ops/s]\n"
     ]
    },
    {
     "name": "stdout",
     "output_type": "stream",
     "text": [
      "converting for batch:  12\n",
      "\n",
      "*********\n",
      "\n",
      "\n"
     ]
    },
    {
     "name": "stderr",
     "output_type": "stream",
     "text": [
      "Running TensorFlow Graph Passes: 100%|██████████| 5/5 [00:00<00:00, 31.73 passes/s]\n",
      "Converting Frontend ==> MIL Ops: 100%|██████████| 31/31 [00:00<00:00, 646.13 ops/s]\n",
      "Running MIL Common passes: 100%|██████████| 33/33 [00:00<00:00, 579.02 passes/s]\n",
      "Running MIL Clean up passes: 100%|██████████| 8/8 [00:00<00:00, 268.20 passes/s]\n",
      "Translating MIL ==> NeuralNetwork Ops: 100%|██████████| 54/54 [00:00<00:00, 1641.84 ops/s]\n"
     ]
    },
    {
     "name": "stdout",
     "output_type": "stream",
     "text": [
      "converting for batch:  13\n",
      "\n",
      "*********\n",
      "\n",
      "\n"
     ]
    },
    {
     "name": "stderr",
     "output_type": "stream",
     "text": [
      "Running TensorFlow Graph Passes: 100%|██████████| 5/5 [00:00<00:00, 29.88 passes/s]\n",
      "Converting Frontend ==> MIL Ops: 100%|██████████| 31/31 [00:00<00:00, 526.64 ops/s]\n",
      "Running MIL Common passes: 100%|██████████| 33/33 [00:00<00:00, 675.72 passes/s]\n",
      "Running MIL Clean up passes: 100%|██████████| 8/8 [00:00<00:00, 310.59 passes/s]\n",
      "Translating MIL ==> NeuralNetwork Ops: 100%|██████████| 54/54 [00:00<00:00, 1910.83 ops/s]\n"
     ]
    },
    {
     "name": "stdout",
     "output_type": "stream",
     "text": [
      "converting for batch:  14\n",
      "\n",
      "*********\n",
      "\n",
      "\n"
     ]
    },
    {
     "name": "stderr",
     "output_type": "stream",
     "text": [
      "Running TensorFlow Graph Passes: 100%|██████████| 5/5 [00:00<00:00, 30.49 passes/s]\n",
      "Converting Frontend ==> MIL Ops: 100%|██████████| 31/31 [00:00<00:00, 517.51 ops/s]\n",
      "Running MIL Common passes: 100%|██████████| 33/33 [00:00<00:00, 599.70 passes/s]\n",
      "Running MIL Clean up passes: 100%|██████████| 8/8 [00:00<00:00, 292.99 passes/s]\n",
      "Translating MIL ==> NeuralNetwork Ops: 100%|██████████| 54/54 [00:00<00:00, 1946.16 ops/s]\n"
     ]
    },
    {
     "name": "stdout",
     "output_type": "stream",
     "text": [
      "converting for batch:  15\n",
      "\n",
      "*********\n",
      "\n",
      "\n"
     ]
    },
    {
     "name": "stderr",
     "output_type": "stream",
     "text": [
      "Running TensorFlow Graph Passes: 100%|██████████| 5/5 [00:00<00:00, 30.42 passes/s]\n",
      "Converting Frontend ==> MIL Ops: 100%|██████████| 31/31 [00:00<00:00, 625.72 ops/s]\n",
      "Running MIL Common passes: 100%|██████████| 33/33 [00:00<00:00, 630.18 passes/s]\n",
      "Running MIL Clean up passes: 100%|██████████| 8/8 [00:00<00:00, 265.25 passes/s]\n",
      "Translating MIL ==> NeuralNetwork Ops: 100%|██████████| 54/54 [00:00<00:00, 1664.55 ops/s]\n"
     ]
    },
    {
     "name": "stdout",
     "output_type": "stream",
     "text": [
      "converting for batch:  16\n",
      "\n",
      "*********\n",
      "\n",
      "\n"
     ]
    },
    {
     "name": "stderr",
     "output_type": "stream",
     "text": [
      "Running TensorFlow Graph Passes: 100%|██████████| 5/5 [00:00<00:00, 32.67 passes/s]\n",
      "Converting Frontend ==> MIL Ops: 100%|██████████| 31/31 [00:00<00:00, 569.37 ops/s]\n",
      "Running MIL Common passes: 100%|██████████| 33/33 [00:00<00:00, 489.93 passes/s]\n",
      "Running MIL Clean up passes: 100%|██████████| 8/8 [00:00<00:00, 231.60 passes/s]\n",
      "Translating MIL ==> NeuralNetwork Ops: 100%|██████████| 54/54 [00:00<00:00, 1298.70 ops/s]\n"
     ]
    },
    {
     "name": "stdout",
     "output_type": "stream",
     "text": [
      "converting for batch:  17\n",
      "\n",
      "*********\n",
      "\n",
      "\n"
     ]
    },
    {
     "name": "stderr",
     "output_type": "stream",
     "text": [
      "Running TensorFlow Graph Passes: 100%|██████████| 5/5 [00:00<00:00, 29.76 passes/s]\n",
      "Converting Frontend ==> MIL Ops: 100%|██████████| 31/31 [00:00<00:00, 457.10 ops/s]\n",
      "Running MIL Common passes: 100%|██████████| 33/33 [00:00<00:00, 698.35 passes/s]\n",
      "Running MIL Clean up passes: 100%|██████████| 8/8 [00:00<00:00, 295.19 passes/s]\n",
      "Translating MIL ==> NeuralNetwork Ops: 100%|██████████| 54/54 [00:00<00:00, 1883.51 ops/s]\n"
     ]
    },
    {
     "name": "stdout",
     "output_type": "stream",
     "text": [
      "converting for batch:  18\n",
      "\n",
      "*********\n",
      "\n",
      "\n"
     ]
    },
    {
     "name": "stderr",
     "output_type": "stream",
     "text": [
      "Running TensorFlow Graph Passes: 100%|██████████| 5/5 [00:00<00:00, 31.17 passes/s]\n",
      "Converting Frontend ==> MIL Ops: 100%|██████████| 31/31 [00:00<00:00, 529.36 ops/s]\n",
      "Running MIL Common passes: 100%|██████████| 33/33 [00:00<00:00, 626.76 passes/s]\n",
      "Running MIL Clean up passes: 100%|██████████| 8/8 [00:00<00:00, 281.39 passes/s]\n",
      "Translating MIL ==> NeuralNetwork Ops: 100%|██████████| 54/54 [00:00<00:00, 1828.35 ops/s]\n"
     ]
    },
    {
     "name": "stdout",
     "output_type": "stream",
     "text": [
      "converting for batch:  19\n",
      "\n",
      "*********\n",
      "\n",
      "\n"
     ]
    },
    {
     "name": "stderr",
     "output_type": "stream",
     "text": [
      "Running TensorFlow Graph Passes: 100%|██████████| 5/5 [00:00<00:00, 31.81 passes/s]\n",
      "Converting Frontend ==> MIL Ops: 100%|██████████| 31/31 [00:00<00:00, 540.62 ops/s]\n",
      "Running MIL Common passes: 100%|██████████| 33/33 [00:00<00:00, 654.84 passes/s]\n",
      "Running MIL Clean up passes: 100%|██████████| 8/8 [00:00<00:00, 321.57 passes/s]\n",
      "Translating MIL ==> NeuralNetwork Ops: 100%|██████████| 54/54 [00:00<00:00, 1669.61 ops/s]\n"
     ]
    },
    {
     "name": "stdout",
     "output_type": "stream",
     "text": [
      "converting for batch:  20\n",
      "\n",
      "*********\n",
      "\n",
      "\n"
     ]
    },
    {
     "name": "stderr",
     "output_type": "stream",
     "text": [
      "Running TensorFlow Graph Passes: 100%|██████████| 5/5 [00:00<00:00, 29.90 passes/s]\n",
      "Converting Frontend ==> MIL Ops: 100%|██████████| 31/31 [00:00<00:00, 569.19 ops/s]\n",
      "Running MIL Common passes: 100%|██████████| 33/33 [00:00<00:00, 655.31 passes/s]\n",
      "Running MIL Clean up passes: 100%|██████████| 8/8 [00:00<00:00, 266.22 passes/s]\n",
      "Translating MIL ==> NeuralNetwork Ops: 100%|██████████| 54/54 [00:00<00:00, 1500.59 ops/s]\n"
     ]
    },
    {
     "name": "stdout",
     "output_type": "stream",
     "text": [
      "Conversion complete in 0m 26s\n",
      "################ Batch size:  10\n",
      "converting for batch:  0\n",
      "\n",
      "*********\n",
      "\n",
      "\n"
     ]
    },
    {
     "name": "stderr",
     "output_type": "stream",
     "text": [
      "Running TensorFlow Graph Passes: 100%|██████████| 5/5 [00:00<00:00, 30.80 passes/s]\n",
      "Converting Frontend ==> MIL Ops: 100%|██████████| 31/31 [00:00<00:00, 528.16 ops/s]\n",
      "Running MIL Common passes: 100%|██████████| 33/33 [00:00<00:00, 604.11 passes/s]\n",
      "Running MIL Clean up passes: 100%|██████████| 8/8 [00:00<00:00, 296.84 passes/s]\n",
      "Translating MIL ==> NeuralNetwork Ops: 100%|██████████| 54/54 [00:00<00:00, 1788.60 ops/s]\n"
     ]
    },
    {
     "name": "stdout",
     "output_type": "stream",
     "text": [
      "converting for batch:  1\n",
      "\n",
      "*********\n",
      "\n",
      "\n"
     ]
    },
    {
     "name": "stderr",
     "output_type": "stream",
     "text": [
      "Running TensorFlow Graph Passes: 100%|██████████| 5/5 [00:00<00:00, 30.21 passes/s]\n",
      "Converting Frontend ==> MIL Ops: 100%|██████████| 31/31 [00:00<00:00, 562.59 ops/s]\n",
      "Running MIL Common passes: 100%|██████████| 33/33 [00:00<00:00, 664.76 passes/s]\n",
      "Running MIL Clean up passes: 100%|██████████| 8/8 [00:00<00:00, 249.22 passes/s]\n",
      "Translating MIL ==> NeuralNetwork Ops: 100%|██████████| 54/54 [00:00<00:00, 1664.15 ops/s]\n"
     ]
    },
    {
     "name": "stdout",
     "output_type": "stream",
     "text": [
      "converting for batch:  2\n",
      "\n",
      "*********\n",
      "\n",
      "\n"
     ]
    },
    {
     "name": "stderr",
     "output_type": "stream",
     "text": [
      "Running TensorFlow Graph Passes: 100%|██████████| 5/5 [00:00<00:00, 30.60 passes/s]\n",
      "Converting Frontend ==> MIL Ops: 100%|██████████| 31/31 [00:00<00:00, 521.86 ops/s]\n",
      "Running MIL Common passes: 100%|██████████| 33/33 [00:00<00:00, 650.78 passes/s]\n",
      "Running MIL Clean up passes: 100%|██████████| 8/8 [00:00<00:00, 276.20 passes/s]\n",
      "Translating MIL ==> NeuralNetwork Ops: 100%|██████████| 54/54 [00:00<00:00, 1596.40 ops/s]\n"
     ]
    },
    {
     "name": "stdout",
     "output_type": "stream",
     "text": [
      "converting for batch:  3\n",
      "\n",
      "*********\n",
      "\n",
      "\n"
     ]
    },
    {
     "name": "stderr",
     "output_type": "stream",
     "text": [
      "Running TensorFlow Graph Passes: 100%|██████████| 5/5 [00:00<00:00, 32.22 passes/s]\n",
      "Converting Frontend ==> MIL Ops: 100%|██████████| 31/31 [00:00<00:00, 608.75 ops/s]\n",
      "Running MIL Common passes: 100%|██████████| 33/33 [00:00<00:00, 536.68 passes/s]\n",
      "Running MIL Clean up passes: 100%|██████████| 8/8 [00:00<00:00, 180.10 passes/s]\n",
      "Translating MIL ==> NeuralNetwork Ops: 100%|██████████| 54/54 [00:00<00:00, 1294.25 ops/s]\n"
     ]
    },
    {
     "name": "stdout",
     "output_type": "stream",
     "text": [
      "converting for batch:  4\n",
      "\n",
      "*********\n",
      "\n",
      "\n"
     ]
    },
    {
     "name": "stderr",
     "output_type": "stream",
     "text": [
      "Running TensorFlow Graph Passes: 100%|██████████| 5/5 [00:00<00:00, 32.65 passes/s]\n",
      "Converting Frontend ==> MIL Ops: 100%|██████████| 31/31 [00:00<00:00, 530.75 ops/s]\n",
      "Running MIL Common passes: 100%|██████████| 33/33 [00:00<00:00, 647.87 passes/s]\n",
      "Running MIL Clean up passes: 100%|██████████| 8/8 [00:00<00:00, 253.96 passes/s]\n",
      "Translating MIL ==> NeuralNetwork Ops: 100%|██████████| 54/54 [00:00<00:00, 1487.89 ops/s]\n"
     ]
    },
    {
     "name": "stdout",
     "output_type": "stream",
     "text": [
      "converting for batch:  5\n",
      "\n",
      "*********\n",
      "\n",
      "\n"
     ]
    },
    {
     "name": "stderr",
     "output_type": "stream",
     "text": [
      "Running TensorFlow Graph Passes: 100%|██████████| 5/5 [00:00<00:00, 30.93 passes/s]\n",
      "Converting Frontend ==> MIL Ops: 100%|██████████| 31/31 [00:00<00:00, 519.99 ops/s]\n",
      "Running MIL Common passes: 100%|██████████| 33/33 [00:00<00:00, 658.45 passes/s]\n",
      "Running MIL Clean up passes: 100%|██████████| 8/8 [00:00<00:00, 263.95 passes/s]\n",
      "Translating MIL ==> NeuralNetwork Ops: 100%|██████████| 54/54 [00:00<00:00, 1576.78 ops/s]\n"
     ]
    },
    {
     "name": "stdout",
     "output_type": "stream",
     "text": [
      "converting for batch:  6\n",
      "\n",
      "*********\n",
      "\n",
      "\n"
     ]
    },
    {
     "name": "stderr",
     "output_type": "stream",
     "text": [
      "Running TensorFlow Graph Passes: 100%|██████████| 5/5 [00:00<00:00, 31.25 passes/s]\n",
      "Converting Frontend ==> MIL Ops: 100%|██████████| 31/31 [00:00<00:00, 510.21 ops/s]\n",
      "Running MIL Common passes: 100%|██████████| 33/33 [00:00<00:00, 655.31 passes/s]\n",
      "Running MIL Clean up passes: 100%|██████████| 8/8 [00:00<00:00, 247.79 passes/s]\n",
      "Translating MIL ==> NeuralNetwork Ops: 100%|██████████| 54/54 [00:00<00:00, 1565.04 ops/s]\n"
     ]
    },
    {
     "name": "stdout",
     "output_type": "stream",
     "text": [
      "converting for batch:  7\n",
      "\n",
      "*********\n",
      "\n",
      "\n"
     ]
    },
    {
     "name": "stderr",
     "output_type": "stream",
     "text": [
      "Running TensorFlow Graph Passes: 100%|██████████| 5/5 [00:00<00:00, 29.69 passes/s]\n",
      "Converting Frontend ==> MIL Ops: 100%|██████████| 31/31 [00:00<00:00, 535.12 ops/s]\n",
      "Running MIL Common passes: 100%|██████████| 33/33 [00:00<00:00, 657.46 passes/s]\n",
      "Running MIL Clean up passes: 100%|██████████| 8/8 [00:00<00:00, 288.88 passes/s]\n",
      "Translating MIL ==> NeuralNetwork Ops: 100%|██████████| 54/54 [00:00<00:00, 1541.23 ops/s]\n"
     ]
    },
    {
     "name": "stdout",
     "output_type": "stream",
     "text": [
      "converting for batch:  8\n",
      "\n",
      "*********\n",
      "\n",
      "\n"
     ]
    },
    {
     "name": "stderr",
     "output_type": "stream",
     "text": [
      "Running TensorFlow Graph Passes: 100%|██████████| 5/5 [00:00<00:00, 30.09 passes/s]\n",
      "Converting Frontend ==> MIL Ops: 100%|██████████| 31/31 [00:00<00:00, 664.92 ops/s]\n",
      "Running MIL Common passes: 100%|██████████| 33/33 [00:00<00:00, 533.72 passes/s]\n",
      "Running MIL Clean up passes: 100%|██████████| 8/8 [00:00<00:00, 242.59 passes/s]\n",
      "Translating MIL ==> NeuralNetwork Ops: 100%|██████████| 54/54 [00:00<00:00, 1815.29 ops/s]\n"
     ]
    },
    {
     "name": "stdout",
     "output_type": "stream",
     "text": [
      "converting for batch:  9\n",
      "\n",
      "*********\n",
      "\n",
      "\n"
     ]
    },
    {
     "name": "stderr",
     "output_type": "stream",
     "text": [
      "Running TensorFlow Graph Passes: 100%|██████████| 5/5 [00:00<00:00, 29.37 passes/s]\n",
      "Converting Frontend ==> MIL Ops: 100%|██████████| 31/31 [00:00<00:00, 515.77 ops/s]\n",
      "Running MIL Common passes: 100%|██████████| 33/33 [00:00<00:00, 641.16 passes/s]\n",
      "Running MIL Clean up passes: 100%|██████████| 8/8 [00:00<00:00, 277.20 passes/s]\n",
      "Translating MIL ==> NeuralNetwork Ops: 100%|██████████| 54/54 [00:00<00:00, 1619.14 ops/s]\n"
     ]
    },
    {
     "name": "stdout",
     "output_type": "stream",
     "text": [
      "converting for batch:  10\n",
      "\n",
      "*********\n",
      "\n",
      "\n"
     ]
    },
    {
     "name": "stderr",
     "output_type": "stream",
     "text": [
      "Running TensorFlow Graph Passes: 100%|██████████| 5/5 [00:00<00:00, 30.68 passes/s]\n",
      "Converting Frontend ==> MIL Ops: 100%|██████████| 31/31 [00:00<00:00, 509.27 ops/s]\n",
      "Running MIL Common passes: 100%|██████████| 33/33 [00:00<00:00, 652.97 passes/s]\n",
      "Running MIL Clean up passes: 100%|██████████| 8/8 [00:00<00:00, 292.75 passes/s]\n",
      "Translating MIL ==> NeuralNetwork Ops: 100%|██████████| 54/54 [00:00<00:00, 1894.41 ops/s]\n"
     ]
    },
    {
     "name": "stdout",
     "output_type": "stream",
     "text": [
      "converting for batch:  11\n",
      "\n",
      "*********\n",
      "\n",
      "\n"
     ]
    },
    {
     "name": "stderr",
     "output_type": "stream",
     "text": [
      "Running TensorFlow Graph Passes: 100%|██████████| 5/5 [00:00<00:00, 29.84 passes/s]\n",
      "Converting Frontend ==> MIL Ops: 100%|██████████| 31/31 [00:00<00:00, 523.09 ops/s]\n",
      "Running MIL Common passes: 100%|██████████| 33/33 [00:00<00:00, 658.79 passes/s]\n",
      "Running MIL Clean up passes: 100%|██████████| 8/8 [00:00<00:00, 299.90 passes/s]\n",
      "Translating MIL ==> NeuralNetwork Ops: 100%|██████████| 54/54 [00:00<00:00, 1866.82 ops/s]\n"
     ]
    },
    {
     "name": "stdout",
     "output_type": "stream",
     "text": [
      "converting for batch:  12\n",
      "\n",
      "*********\n",
      "\n",
      "\n"
     ]
    },
    {
     "name": "stderr",
     "output_type": "stream",
     "text": [
      "Running TensorFlow Graph Passes: 100%|██████████| 5/5 [00:00<00:00, 30.19 passes/s]\n",
      "Converting Frontend ==> MIL Ops: 100%|██████████| 31/31 [00:00<00:00, 520.51 ops/s]\n",
      "Running MIL Common passes: 100%|██████████| 33/33 [00:00<00:00, 672.26 passes/s]\n",
      "Running MIL Clean up passes: 100%|██████████| 8/8 [00:00<00:00, 274.31 passes/s]\n",
      "Translating MIL ==> NeuralNetwork Ops: 100%|██████████| 54/54 [00:00<00:00, 1776.38 ops/s]\n"
     ]
    },
    {
     "name": "stdout",
     "output_type": "stream",
     "text": [
      "converting for batch:  13\n",
      "\n",
      "*********\n",
      "\n",
      "\n"
     ]
    },
    {
     "name": "stderr",
     "output_type": "stream",
     "text": [
      "Running TensorFlow Graph Passes: 100%|██████████| 5/5 [00:00<00:00, 31.24 passes/s]\n",
      "Converting Frontend ==> MIL Ops: 100%|██████████| 31/31 [00:00<00:00, 516.60 ops/s]\n",
      "Running MIL Common passes: 100%|██████████| 33/33 [00:00<00:00, 651.80 passes/s]\n",
      "Running MIL Clean up passes: 100%|██████████| 8/8 [00:00<00:00, 246.46 passes/s]\n",
      "Translating MIL ==> NeuralNetwork Ops: 100%|██████████| 54/54 [00:00<00:00, 1593.58 ops/s]\n"
     ]
    },
    {
     "name": "stdout",
     "output_type": "stream",
     "text": [
      "converting for batch:  14\n",
      "\n",
      "*********\n",
      "\n",
      "\n"
     ]
    },
    {
     "name": "stderr",
     "output_type": "stream",
     "text": [
      "Running TensorFlow Graph Passes: 100%|██████████| 5/5 [00:00<00:00, 31.28 passes/s]\n",
      "Converting Frontend ==> MIL Ops: 100%|██████████| 31/31 [00:00<00:00, 518.32 ops/s]\n",
      "Running MIL Common passes: 100%|██████████| 33/33 [00:00<00:00, 666.81 passes/s]\n",
      "Running MIL Clean up passes: 100%|██████████| 8/8 [00:00<00:00, 295.01 passes/s]\n",
      "Translating MIL ==> NeuralNetwork Ops: 100%|██████████| 54/54 [00:00<00:00, 1822.72 ops/s]\n"
     ]
    },
    {
     "name": "stdout",
     "output_type": "stream",
     "text": [
      "converting for batch:  15\n",
      "\n",
      "*********\n",
      "\n",
      "\n"
     ]
    },
    {
     "name": "stderr",
     "output_type": "stream",
     "text": [
      "Running TensorFlow Graph Passes: 100%|██████████| 5/5 [00:00<00:00, 30.90 passes/s]\n",
      "Converting Frontend ==> MIL Ops: 100%|██████████| 31/31 [00:00<00:00, 470.84 ops/s]\n",
      "Running MIL Common passes: 100%|██████████| 33/33 [00:00<00:00, 665.91 passes/s]\n",
      "Running MIL Clean up passes: 100%|██████████| 8/8 [00:00<00:00, 315.73 passes/s]\n",
      "Translating MIL ==> NeuralNetwork Ops: 100%|██████████| 54/54 [00:00<00:00, 1691.30 ops/s]\n"
     ]
    },
    {
     "name": "stdout",
     "output_type": "stream",
     "text": [
      "converting for batch:  16\n",
      "\n",
      "*********\n",
      "\n",
      "\n"
     ]
    },
    {
     "name": "stderr",
     "output_type": "stream",
     "text": [
      "Running TensorFlow Graph Passes: 100%|██████████| 5/5 [00:00<00:00, 30.02 passes/s]\n",
      "Converting Frontend ==> MIL Ops: 100%|██████████| 31/31 [00:00<00:00, 452.68 ops/s]\n",
      "Running MIL Common passes: 100%|██████████| 33/33 [00:00<00:00, 569.14 passes/s]\n",
      "Running MIL Clean up passes: 100%|██████████| 8/8 [00:00<00:00, 279.59 passes/s]\n",
      "Translating MIL ==> NeuralNetwork Ops: 100%|██████████| 54/54 [00:00<00:00, 1682.87 ops/s]\n"
     ]
    },
    {
     "name": "stdout",
     "output_type": "stream",
     "text": [
      "converting for batch:  17\n",
      "\n",
      "*********\n",
      "\n",
      "\n"
     ]
    },
    {
     "name": "stderr",
     "output_type": "stream",
     "text": [
      "Running TensorFlow Graph Passes: 100%|██████████| 5/5 [00:00<00:00, 31.44 passes/s]\n",
      "Converting Frontend ==> MIL Ops: 100%|██████████| 31/31 [00:00<00:00, 497.54 ops/s]\n",
      "Running MIL Common passes: 100%|██████████| 33/33 [00:00<00:00, 641.70 passes/s]\n",
      "Running MIL Clean up passes: 100%|██████████| 8/8 [00:00<00:00, 259.69 passes/s]\n",
      "Translating MIL ==> NeuralNetwork Ops: 100%|██████████| 54/54 [00:00<00:00, 1810.14 ops/s]\n"
     ]
    },
    {
     "name": "stdout",
     "output_type": "stream",
     "text": [
      "converting for batch:  18\n",
      "\n",
      "*********\n",
      "\n",
      "\n"
     ]
    },
    {
     "name": "stderr",
     "output_type": "stream",
     "text": [
      "Running TensorFlow Graph Passes: 100%|██████████| 5/5 [00:00<00:00, 31.26 passes/s]\n",
      "Converting Frontend ==> MIL Ops: 100%|██████████| 31/31 [00:00<00:00, 494.26 ops/s]\n",
      "Running MIL Common passes: 100%|██████████| 33/33 [00:00<00:00, 647.99 passes/s]\n",
      "Running MIL Clean up passes: 100%|██████████| 8/8 [00:00<00:00, 366.31 passes/s]\n",
      "Translating MIL ==> NeuralNetwork Ops: 100%|██████████| 54/54 [00:00<00:00, 1724.79 ops/s]\n"
     ]
    },
    {
     "name": "stdout",
     "output_type": "stream",
     "text": [
      "converting for batch:  19\n",
      "\n",
      "*********\n",
      "\n",
      "\n"
     ]
    },
    {
     "name": "stderr",
     "output_type": "stream",
     "text": [
      "Running TensorFlow Graph Passes: 100%|██████████| 5/5 [00:00<00:00, 31.15 passes/s]\n",
      "Converting Frontend ==> MIL Ops: 100%|██████████| 31/31 [00:00<00:00, 477.70 ops/s]\n",
      "Running MIL Common passes: 100%|██████████| 33/33 [00:00<00:00, 549.71 passes/s]\n",
      "Running MIL Clean up passes: 100%|██████████| 8/8 [00:00<00:00, 296.46 passes/s]\n",
      "Translating MIL ==> NeuralNetwork Ops: 100%|██████████| 54/54 [00:00<00:00, 1935.07 ops/s]\n"
     ]
    },
    {
     "name": "stdout",
     "output_type": "stream",
     "text": [
      "converting for batch:  20\n",
      "\n",
      "*********\n",
      "\n",
      "\n"
     ]
    },
    {
     "name": "stderr",
     "output_type": "stream",
     "text": [
      "Running TensorFlow Graph Passes: 100%|██████████| 5/5 [00:00<00:00, 30.26 passes/s]\n",
      "Converting Frontend ==> MIL Ops: 100%|██████████| 31/31 [00:00<00:00, 517.56 ops/s]\n",
      "Running MIL Common passes: 100%|██████████| 33/33 [00:00<00:00, 642.58 passes/s]\n",
      "Running MIL Clean up passes: 100%|██████████| 8/8 [00:00<00:00, 260.49 passes/s]\n",
      "Translating MIL ==> NeuralNetwork Ops: 100%|██████████| 54/54 [00:00<00:00, 1543.13 ops/s]\n"
     ]
    },
    {
     "name": "stdout",
     "output_type": "stream",
     "text": [
      "Conversion complete in 0m 27s\n",
      "################ Batch size:  20\n",
      "converting for batch:  0\n",
      "\n",
      "*********\n",
      "\n",
      "\n"
     ]
    },
    {
     "name": "stderr",
     "output_type": "stream",
     "text": [
      "Running TensorFlow Graph Passes: 100%|██████████| 5/5 [00:00<00:00, 29.82 passes/s]\n",
      "Converting Frontend ==> MIL Ops: 100%|██████████| 31/31 [00:00<00:00, 545.33 ops/s]\n",
      "Running MIL Common passes: 100%|██████████| 33/33 [00:00<00:00, 676.03 passes/s]\n",
      "Running MIL Clean up passes: 100%|██████████| 8/8 [00:00<00:00, 295.86 passes/s]\n",
      "Translating MIL ==> NeuralNetwork Ops: 100%|██████████| 54/54 [00:00<00:00, 1859.82 ops/s]\n"
     ]
    },
    {
     "name": "stdout",
     "output_type": "stream",
     "text": [
      "converting for batch:  1\n",
      "\n",
      "*********\n",
      "\n",
      "\n"
     ]
    },
    {
     "name": "stderr",
     "output_type": "stream",
     "text": [
      "Running TensorFlow Graph Passes: 100%|██████████| 5/5 [00:00<00:00, 28.77 passes/s]\n",
      "Converting Frontend ==> MIL Ops: 100%|██████████| 31/31 [00:00<00:00, 517.35 ops/s]\n",
      "Running MIL Common passes: 100%|██████████| 33/33 [00:00<00:00, 622.30 passes/s]\n",
      "Running MIL Clean up passes: 100%|██████████| 8/8 [00:00<00:00, 262.38 passes/s]\n",
      "Translating MIL ==> NeuralNetwork Ops: 100%|██████████| 54/54 [00:00<00:00, 1681.25 ops/s]\n"
     ]
    },
    {
     "name": "stdout",
     "output_type": "stream",
     "text": [
      "converting for batch:  2\n",
      "\n",
      "*********\n",
      "\n",
      "\n"
     ]
    },
    {
     "name": "stderr",
     "output_type": "stream",
     "text": [
      "Running TensorFlow Graph Passes: 100%|██████████| 5/5 [00:00<00:00, 28.24 passes/s]\n",
      "Converting Frontend ==> MIL Ops: 100%|██████████| 31/31 [00:00<00:00, 572.38 ops/s]\n",
      "Running MIL Common passes: 100%|██████████| 33/33 [00:00<00:00, 632.73 passes/s]\n",
      "Running MIL Clean up passes: 100%|██████████| 8/8 [00:00<00:00, 248.26 passes/s]\n",
      "Translating MIL ==> NeuralNetwork Ops: 100%|██████████| 54/54 [00:00<00:00, 1638.04 ops/s]\n"
     ]
    },
    {
     "name": "stdout",
     "output_type": "stream",
     "text": [
      "converting for batch:  3\n",
      "\n",
      "*********\n",
      "\n",
      "\n"
     ]
    },
    {
     "name": "stderr",
     "output_type": "stream",
     "text": [
      "Running TensorFlow Graph Passes: 100%|██████████| 5/5 [00:00<00:00, 30.85 passes/s]\n",
      "Converting Frontend ==> MIL Ops: 100%|██████████| 31/31 [00:00<00:00, 494.67 ops/s]\n",
      "Running MIL Common passes: 100%|██████████| 33/33 [00:00<00:00, 642.04 passes/s]\n",
      "Running MIL Clean up passes: 100%|██████████| 8/8 [00:00<00:00, 292.32 passes/s]\n",
      "Translating MIL ==> NeuralNetwork Ops: 100%|██████████| 54/54 [00:00<00:00, 1735.00 ops/s]\n"
     ]
    },
    {
     "name": "stdout",
     "output_type": "stream",
     "text": [
      "converting for batch:  4\n",
      "\n",
      "*********\n",
      "\n",
      "\n"
     ]
    },
    {
     "name": "stderr",
     "output_type": "stream",
     "text": [
      "Running TensorFlow Graph Passes: 100%|██████████| 5/5 [00:00<00:00, 29.94 passes/s]\n",
      "Converting Frontend ==> MIL Ops: 100%|██████████| 31/31 [00:00<00:00, 509.43 ops/s]\n",
      "Running MIL Common passes: 100%|██████████| 33/33 [00:00<00:00, 636.58 passes/s]\n",
      "Running MIL Clean up passes: 100%|██████████| 8/8 [00:00<00:00, 280.78 passes/s]\n",
      "Translating MIL ==> NeuralNetwork Ops: 100%|██████████| 54/54 [00:00<00:00, 1598.68 ops/s]\n"
     ]
    },
    {
     "name": "stdout",
     "output_type": "stream",
     "text": [
      "converting for batch:  5\n",
      "\n",
      "*********\n",
      "\n",
      "\n"
     ]
    },
    {
     "name": "stderr",
     "output_type": "stream",
     "text": [
      "Running TensorFlow Graph Passes: 100%|██████████| 5/5 [00:00<00:00, 27.18 passes/s]\n",
      "Converting Frontend ==> MIL Ops: 100%|██████████| 31/31 [00:00<00:00, 501.15 ops/s]\n",
      "Running MIL Common passes: 100%|██████████| 33/33 [00:00<00:00, 637.57 passes/s]\n",
      "Running MIL Clean up passes: 100%|██████████| 8/8 [00:00<00:00, 289.48 passes/s]\n",
      "Translating MIL ==> NeuralNetwork Ops: 100%|██████████| 54/54 [00:00<00:00, 1896.81 ops/s]\n"
     ]
    },
    {
     "name": "stdout",
     "output_type": "stream",
     "text": [
      "converting for batch:  6\n",
      "\n",
      "*********\n",
      "\n",
      "\n"
     ]
    },
    {
     "name": "stderr",
     "output_type": "stream",
     "text": [
      "Running TensorFlow Graph Passes: 100%|██████████| 5/5 [00:00<00:00, 29.40 passes/s]\n",
      "Converting Frontend ==> MIL Ops: 100%|██████████| 31/31 [00:00<00:00, 499.93 ops/s]\n",
      "Running MIL Common passes: 100%|██████████| 33/33 [00:00<00:00, 623.61 passes/s]\n",
      "Running MIL Clean up passes: 100%|██████████| 8/8 [00:00<00:00, 255.15 passes/s]\n",
      "Translating MIL ==> NeuralNetwork Ops: 100%|██████████| 54/54 [00:00<00:00, 1203.72 ops/s]\n"
     ]
    },
    {
     "name": "stdout",
     "output_type": "stream",
     "text": [
      "converting for batch:  7\n",
      "\n",
      "*********\n",
      "\n",
      "\n"
     ]
    },
    {
     "name": "stderr",
     "output_type": "stream",
     "text": [
      "Running TensorFlow Graph Passes: 100%|██████████| 5/5 [00:00<00:00, 29.17 passes/s]\n",
      "Converting Frontend ==> MIL Ops: 100%|██████████| 31/31 [00:00<00:00, 516.44 ops/s]\n",
      "Running MIL Common passes: 100%|██████████| 33/33 [00:00<00:00, 615.61 passes/s]\n",
      "Running MIL Clean up passes: 100%|██████████| 8/8 [00:00<00:00, 289.14 passes/s]\n",
      "Translating MIL ==> NeuralNetwork Ops: 100%|██████████| 54/54 [00:00<00:00, 1563.09 ops/s]\n"
     ]
    },
    {
     "name": "stdout",
     "output_type": "stream",
     "text": [
      "converting for batch:  8\n",
      "\n",
      "*********\n",
      "\n",
      "\n"
     ]
    },
    {
     "name": "stderr",
     "output_type": "stream",
     "text": [
      "Running TensorFlow Graph Passes: 100%|██████████| 5/5 [00:00<00:00, 28.70 passes/s]\n",
      "Converting Frontend ==> MIL Ops: 100%|██████████| 31/31 [00:00<00:00, 560.34 ops/s]\n",
      "Running MIL Common passes: 100%|██████████| 33/33 [00:00<00:00, 640.44 passes/s]\n",
      "Running MIL Clean up passes: 100%|██████████| 8/8 [00:00<00:00, 291.85 passes/s]\n",
      "Translating MIL ==> NeuralNetwork Ops: 100%|██████████| 54/54 [00:00<00:00, 1755.24 ops/s]\n"
     ]
    },
    {
     "name": "stdout",
     "output_type": "stream",
     "text": [
      "converting for batch:  9\n",
      "\n",
      "*********\n",
      "\n",
      "\n"
     ]
    },
    {
     "name": "stderr",
     "output_type": "stream",
     "text": [
      "Running TensorFlow Graph Passes: 100%|██████████| 5/5 [00:00<00:00, 30.14 passes/s]\n",
      "Converting Frontend ==> MIL Ops: 100%|██████████| 31/31 [00:00<00:00, 636.24 ops/s]\n",
      "Running MIL Common passes: 100%|██████████| 33/33 [00:00<00:00, 642.76 passes/s]\n",
      "Running MIL Clean up passes: 100%|██████████| 8/8 [00:00<00:00, 320.27 passes/s]\n",
      "Translating MIL ==> NeuralNetwork Ops: 100%|██████████| 54/54 [00:00<00:00, 1564.53 ops/s]\n"
     ]
    },
    {
     "name": "stdout",
     "output_type": "stream",
     "text": [
      "converting for batch:  10\n",
      "\n",
      "*********\n",
      "\n",
      "\n"
     ]
    },
    {
     "name": "stderr",
     "output_type": "stream",
     "text": [
      "Running TensorFlow Graph Passes: 100%|██████████| 5/5 [00:00<00:00, 29.36 passes/s]\n",
      "Converting Frontend ==> MIL Ops: 100%|██████████| 31/31 [00:00<00:00, 527.89 ops/s]\n",
      "Running MIL Common passes: 100%|██████████| 33/33 [00:00<00:00, 507.12 passes/s]\n",
      "Running MIL Clean up passes: 100%|██████████| 8/8 [00:00<00:00, 272.36 passes/s]\n",
      "Translating MIL ==> NeuralNetwork Ops: 100%|██████████| 54/54 [00:00<00:00, 1673.84 ops/s]\n"
     ]
    },
    {
     "name": "stdout",
     "output_type": "stream",
     "text": [
      "converting for batch:  11\n",
      "\n",
      "*********\n",
      "\n",
      "\n"
     ]
    },
    {
     "name": "stderr",
     "output_type": "stream",
     "text": [
      "Running TensorFlow Graph Passes: 100%|██████████| 5/5 [00:00<00:00, 28.96 passes/s]\n",
      "Converting Frontend ==> MIL Ops: 100%|██████████| 31/31 [00:00<00:00, 496.35 ops/s]\n",
      "Running MIL Common passes: 100%|██████████| 33/33 [00:00<00:00, 620.28 passes/s]\n",
      "Running MIL Clean up passes: 100%|██████████| 8/8 [00:00<00:00, 275.75 passes/s]\n",
      "Translating MIL ==> NeuralNetwork Ops: 100%|██████████| 54/54 [00:00<00:00, 1616.28 ops/s]\n"
     ]
    },
    {
     "name": "stdout",
     "output_type": "stream",
     "text": [
      "converting for batch:  12\n",
      "\n",
      "*********\n",
      "\n",
      "\n"
     ]
    },
    {
     "name": "stderr",
     "output_type": "stream",
     "text": [
      "Running TensorFlow Graph Passes: 100%|██████████| 5/5 [00:00<00:00, 28.60 passes/s]\n",
      "Converting Frontend ==> MIL Ops: 100%|██████████| 31/31 [00:00<00:00, 610.86 ops/s]\n",
      "Running MIL Common passes: 100%|██████████| 33/33 [00:00<00:00, 533.39 passes/s]\n",
      "Running MIL Clean up passes: 100%|██████████| 8/8 [00:00<00:00, 270.19 passes/s]\n",
      "Translating MIL ==> NeuralNetwork Ops: 100%|██████████| 54/54 [00:00<00:00, 1551.51 ops/s]\n"
     ]
    },
    {
     "name": "stdout",
     "output_type": "stream",
     "text": [
      "converting for batch:  13\n",
      "\n",
      "*********\n",
      "\n",
      "\n"
     ]
    },
    {
     "name": "stderr",
     "output_type": "stream",
     "text": [
      "Running TensorFlow Graph Passes: 100%|██████████| 5/5 [00:00<00:00, 28.73 passes/s]\n",
      "Converting Frontend ==> MIL Ops: 100%|██████████| 31/31 [00:00<00:00, 342.41 ops/s]\n",
      "Running MIL Common passes: 100%|██████████| 33/33 [00:00<00:00, 402.98 passes/s]\n",
      "Running MIL Clean up passes: 100%|██████████| 8/8 [00:00<00:00, 137.52 passes/s]\n",
      "Translating MIL ==> NeuralNetwork Ops: 100%|██████████| 54/54 [00:00<00:00, 1124.48 ops/s]\n"
     ]
    },
    {
     "name": "stdout",
     "output_type": "stream",
     "text": [
      "converting for batch:  14\n",
      "\n",
      "*********\n",
      "\n",
      "\n"
     ]
    },
    {
     "name": "stderr",
     "output_type": "stream",
     "text": [
      "Running TensorFlow Graph Passes: 100%|██████████| 5/5 [00:00<00:00, 20.28 passes/s]\n",
      "Converting Frontend ==> MIL Ops: 100%|██████████| 31/31 [00:00<00:00, 511.33 ops/s]\n",
      "Running MIL Common passes: 100%|██████████| 33/33 [00:00<00:00, 330.86 passes/s]\n",
      "Running MIL Clean up passes: 100%|██████████| 8/8 [00:00<00:00, 110.52 passes/s]\n",
      "Translating MIL ==> NeuralNetwork Ops: 100%|██████████| 54/54 [00:00<00:00, 1112.43 ops/s]\n"
     ]
    },
    {
     "name": "stdout",
     "output_type": "stream",
     "text": [
      "converting for batch:  15\n",
      "\n",
      "*********\n",
      "\n",
      "\n"
     ]
    },
    {
     "name": "stderr",
     "output_type": "stream",
     "text": [
      "Running TensorFlow Graph Passes: 100%|██████████| 5/5 [00:00<00:00, 16.09 passes/s]\n",
      "Converting Frontend ==> MIL Ops: 100%|██████████| 31/31 [00:00<00:00, 228.69 ops/s]\n",
      "Running MIL Common passes: 100%|██████████| 33/33 [00:00<00:00, 454.97 passes/s]\n",
      "Running MIL Clean up passes: 100%|██████████| 8/8 [00:00<00:00, 189.35 passes/s]\n",
      "Translating MIL ==> NeuralNetwork Ops: 100%|██████████| 54/54 [00:00<00:00, 1198.62 ops/s]\n"
     ]
    },
    {
     "name": "stdout",
     "output_type": "stream",
     "text": [
      "converting for batch:  16\n",
      "\n",
      "*********\n",
      "\n",
      "\n"
     ]
    },
    {
     "name": "stderr",
     "output_type": "stream",
     "text": [
      "Running TensorFlow Graph Passes: 100%|██████████| 5/5 [00:00<00:00, 30.23 passes/s]\n",
      "Converting Frontend ==> MIL Ops: 100%|██████████| 31/31 [00:00<00:00, 472.80 ops/s]\n",
      "Running MIL Common passes: 100%|██████████| 33/33 [00:00<00:00, 646.69 passes/s]\n",
      "Running MIL Clean up passes: 100%|██████████| 8/8 [00:00<00:00, 290.22 passes/s]\n",
      "Translating MIL ==> NeuralNetwork Ops: 100%|██████████| 54/54 [00:00<00:00, 1657.56 ops/s]\n"
     ]
    },
    {
     "name": "stdout",
     "output_type": "stream",
     "text": [
      "converting for batch:  17\n",
      "\n",
      "*********\n",
      "\n",
      "\n"
     ]
    },
    {
     "name": "stderr",
     "output_type": "stream",
     "text": [
      "Running TensorFlow Graph Passes: 100%|██████████| 5/5 [00:00<00:00, 30.17 passes/s]\n",
      "Converting Frontend ==> MIL Ops: 100%|██████████| 31/31 [00:00<00:00, 515.20 ops/s]\n",
      "Running MIL Common passes: 100%|██████████| 33/33 [00:00<00:00, 618.95 passes/s]\n",
      "Running MIL Clean up passes: 100%|██████████| 8/8 [00:00<00:00, 249.47 passes/s]\n",
      "Translating MIL ==> NeuralNetwork Ops: 100%|██████████| 54/54 [00:00<00:00, 1599.05 ops/s]\n"
     ]
    },
    {
     "name": "stdout",
     "output_type": "stream",
     "text": [
      "converting for batch:  18\n",
      "\n",
      "*********\n",
      "\n",
      "\n"
     ]
    },
    {
     "name": "stderr",
     "output_type": "stream",
     "text": [
      "Running TensorFlow Graph Passes: 100%|██████████| 5/5 [00:00<00:00, 29.39 passes/s]\n",
      "Converting Frontend ==> MIL Ops: 100%|██████████| 31/31 [00:00<00:00, 616.47 ops/s]\n",
      "Running MIL Common passes: 100%|██████████| 33/33 [00:00<00:00, 548.73 passes/s]\n",
      "Running MIL Clean up passes: 100%|██████████| 8/8 [00:00<00:00, 279.41 passes/s]\n",
      "Translating MIL ==> NeuralNetwork Ops: 100%|██████████| 54/54 [00:00<00:00, 1668.11 ops/s]\n"
     ]
    },
    {
     "name": "stdout",
     "output_type": "stream",
     "text": [
      "converting for batch:  19\n",
      "\n",
      "*********\n",
      "\n",
      "\n"
     ]
    },
    {
     "name": "stderr",
     "output_type": "stream",
     "text": [
      "Running TensorFlow Graph Passes: 100%|██████████| 5/5 [00:00<00:00, 29.23 passes/s]\n",
      "Converting Frontend ==> MIL Ops: 100%|██████████| 31/31 [00:00<00:00, 455.54 ops/s]\n",
      "Running MIL Common passes: 100%|██████████| 33/33 [00:00<00:00, 649.02 passes/s]\n",
      "Running MIL Clean up passes: 100%|██████████| 8/8 [00:00<00:00, 296.05 passes/s]\n",
      "Translating MIL ==> NeuralNetwork Ops: 100%|██████████| 54/54 [00:00<00:00, 1536.31 ops/s]\n"
     ]
    },
    {
     "name": "stdout",
     "output_type": "stream",
     "text": [
      "converting for batch:  20\n",
      "\n",
      "*********\n",
      "\n",
      "\n"
     ]
    },
    {
     "name": "stderr",
     "output_type": "stream",
     "text": [
      "Running TensorFlow Graph Passes: 100%|██████████| 5/5 [00:00<00:00, 30.10 passes/s]\n",
      "Converting Frontend ==> MIL Ops: 100%|██████████| 31/31 [00:00<00:00, 500.31 ops/s]\n",
      "Running MIL Common passes: 100%|██████████| 33/33 [00:00<00:00, 608.26 passes/s]\n",
      "Running MIL Clean up passes: 100%|██████████| 8/8 [00:00<00:00, 284.53 passes/s]\n",
      "Translating MIL ==> NeuralNetwork Ops: 100%|██████████| 54/54 [00:00<00:00, 1975.13 ops/s]\n"
     ]
    },
    {
     "name": "stdout",
     "output_type": "stream",
     "text": [
      "Conversion complete in 0m 30s\n",
      "################ Batch size:  30\n",
      "converting for batch:  0\n",
      "\n",
      "*********\n",
      "\n",
      "\n"
     ]
    },
    {
     "name": "stderr",
     "output_type": "stream",
     "text": [
      "Running TensorFlow Graph Passes: 100%|██████████| 5/5 [00:00<00:00, 28.42 passes/s]\n",
      "Converting Frontend ==> MIL Ops: 100%|██████████| 31/31 [00:00<00:00, 548.64 ops/s]\n",
      "Running MIL Common passes: 100%|██████████| 33/33 [00:00<00:00, 458.87 passes/s]\n",
      "Running MIL Clean up passes: 100%|██████████| 8/8 [00:00<00:00, 205.49 passes/s]\n",
      "Translating MIL ==> NeuralNetwork Ops: 100%|██████████| 54/54 [00:00<00:00, 1265.02 ops/s]\n"
     ]
    },
    {
     "name": "stdout",
     "output_type": "stream",
     "text": [
      "converting for batch:  1\n",
      "\n",
      "*********\n",
      "\n",
      "\n"
     ]
    },
    {
     "name": "stderr",
     "output_type": "stream",
     "text": [
      "Running TensorFlow Graph Passes: 100%|██████████| 5/5 [00:00<00:00, 29.14 passes/s]\n",
      "Converting Frontend ==> MIL Ops: 100%|██████████| 31/31 [00:00<00:00, 508.63 ops/s]\n",
      "Running MIL Common passes: 100%|██████████| 33/33 [00:00<00:00, 570.06 passes/s]\n",
      "Running MIL Clean up passes: 100%|██████████| 8/8 [00:00<00:00, 156.24 passes/s]\n",
      "Translating MIL ==> NeuralNetwork Ops: 100%|██████████| 54/54 [00:00<00:00, 1251.75 ops/s]\n"
     ]
    },
    {
     "name": "stdout",
     "output_type": "stream",
     "text": [
      "converting for batch:  2\n",
      "\n",
      "*********\n",
      "\n",
      "\n"
     ]
    },
    {
     "name": "stderr",
     "output_type": "stream",
     "text": [
      "Running TensorFlow Graph Passes: 100%|██████████| 5/5 [00:00<00:00, 28.72 passes/s]\n",
      "Converting Frontend ==> MIL Ops: 100%|██████████| 31/31 [00:00<00:00, 481.47 ops/s]\n",
      "Running MIL Common passes: 100%|██████████| 33/33 [00:00<00:00, 606.75 passes/s]\n",
      "Running MIL Clean up passes: 100%|██████████| 8/8 [00:00<00:00, 285.08 passes/s]\n",
      "Translating MIL ==> NeuralNetwork Ops: 100%|██████████| 54/54 [00:00<00:00, 1548.26 ops/s]\n"
     ]
    },
    {
     "name": "stdout",
     "output_type": "stream",
     "text": [
      "converting for batch:  3\n",
      "\n",
      "*********\n",
      "\n",
      "\n"
     ]
    },
    {
     "name": "stderr",
     "output_type": "stream",
     "text": [
      "Running TensorFlow Graph Passes: 100%|██████████| 5/5 [00:00<00:00, 29.06 passes/s]\n",
      "Converting Frontend ==> MIL Ops: 100%|██████████| 31/31 [00:00<00:00, 502.15 ops/s]\n",
      "Running MIL Common passes: 100%|██████████| 33/33 [00:00<00:00, 645.68 passes/s]\n",
      "Running MIL Clean up passes: 100%|██████████| 8/8 [00:00<00:00, 337.43 passes/s]\n",
      "Translating MIL ==> NeuralNetwork Ops: 100%|██████████| 54/54 [00:00<00:00, 1486.46 ops/s]\n"
     ]
    },
    {
     "name": "stdout",
     "output_type": "stream",
     "text": [
      "converting for batch:  4\n",
      "\n",
      "*********\n",
      "\n",
      "\n"
     ]
    },
    {
     "name": "stderr",
     "output_type": "stream",
     "text": [
      "Running TensorFlow Graph Passes: 100%|██████████| 5/5 [00:00<00:00, 28.50 passes/s]\n",
      "Converting Frontend ==> MIL Ops: 100%|██████████| 31/31 [00:00<00:00, 509.79 ops/s]\n",
      "Running MIL Common passes: 100%|██████████| 33/33 [00:00<00:00, 551.19 passes/s]\n",
      "Running MIL Clean up passes: 100%|██████████| 8/8 [00:00<00:00, 204.14 passes/s]\n",
      "Translating MIL ==> NeuralNetwork Ops: 100%|██████████| 54/54 [00:00<00:00, 1724.95 ops/s]\n"
     ]
    },
    {
     "name": "stdout",
     "output_type": "stream",
     "text": [
      "converting for batch:  5\n",
      "\n",
      "*********\n",
      "\n",
      "\n"
     ]
    },
    {
     "name": "stderr",
     "output_type": "stream",
     "text": [
      "Running TensorFlow Graph Passes: 100%|██████████| 5/5 [00:00<00:00, 28.76 passes/s]\n",
      "Converting Frontend ==> MIL Ops: 100%|██████████| 31/31 [00:00<00:00, 485.36 ops/s]\n",
      "Running MIL Common passes: 100%|██████████| 33/33 [00:00<00:00, 618.92 passes/s]\n",
      "Running MIL Clean up passes: 100%|██████████| 8/8 [00:00<00:00, 320.54 passes/s]\n",
      "Translating MIL ==> NeuralNetwork Ops: 100%|██████████| 54/54 [00:00<00:00, 1602.57 ops/s]\n"
     ]
    },
    {
     "name": "stdout",
     "output_type": "stream",
     "text": [
      "converting for batch:  6\n",
      "\n",
      "*********\n",
      "\n",
      "\n"
     ]
    },
    {
     "name": "stderr",
     "output_type": "stream",
     "text": [
      "Running TensorFlow Graph Passes: 100%|██████████| 5/5 [00:00<00:00, 28.30 passes/s]\n",
      "Converting Frontend ==> MIL Ops: 100%|██████████| 31/31 [00:00<00:00, 544.09 ops/s]\n",
      "Running MIL Common passes: 100%|██████████| 33/33 [00:00<00:00, 624.75 passes/s]\n",
      "Running MIL Clean up passes: 100%|██████████| 8/8 [00:00<00:00, 285.07 passes/s]\n",
      "Translating MIL ==> NeuralNetwork Ops: 100%|██████████| 54/54 [00:00<00:00, 1487.12 ops/s]\n"
     ]
    },
    {
     "name": "stdout",
     "output_type": "stream",
     "text": [
      "converting for batch:  7\n",
      "\n",
      "*********\n",
      "\n",
      "\n"
     ]
    },
    {
     "name": "stderr",
     "output_type": "stream",
     "text": [
      "Running TensorFlow Graph Passes: 100%|██████████| 5/5 [00:00<00:00, 26.72 passes/s]\n",
      "Converting Frontend ==> MIL Ops: 100%|██████████| 31/31 [00:00<00:00, 486.25 ops/s]\n",
      "Running MIL Common passes: 100%|██████████| 33/33 [00:00<00:00, 628.51 passes/s]\n",
      "Running MIL Clean up passes: 100%|██████████| 8/8 [00:00<00:00, 237.97 passes/s]\n",
      "Translating MIL ==> NeuralNetwork Ops: 100%|██████████| 54/54 [00:00<00:00, 1463.86 ops/s]\n"
     ]
    },
    {
     "name": "stdout",
     "output_type": "stream",
     "text": [
      "converting for batch:  8\n",
      "\n",
      "*********\n",
      "\n",
      "\n"
     ]
    },
    {
     "name": "stderr",
     "output_type": "stream",
     "text": [
      "Running TensorFlow Graph Passes: 100%|██████████| 5/5 [00:00<00:00, 29.55 passes/s]\n",
      "Converting Frontend ==> MIL Ops: 100%|██████████| 31/31 [00:00<00:00, 500.31 ops/s]\n",
      "Running MIL Common passes: 100%|██████████| 33/33 [00:00<00:00, 452.51 passes/s]\n",
      "Running MIL Clean up passes: 100%|██████████| 8/8 [00:00<00:00, 205.01 passes/s]\n",
      "Translating MIL ==> NeuralNetwork Ops: 100%|██████████| 54/54 [00:00<00:00, 1073.54 ops/s]\n"
     ]
    },
    {
     "name": "stdout",
     "output_type": "stream",
     "text": [
      "converting for batch:  9\n",
      "\n",
      "*********\n",
      "\n",
      "\n"
     ]
    },
    {
     "name": "stderr",
     "output_type": "stream",
     "text": [
      "Running TensorFlow Graph Passes: 100%|██████████| 5/5 [00:00<00:00, 29.76 passes/s]\n",
      "Converting Frontend ==> MIL Ops: 100%|██████████| 31/31 [00:00<00:00, 504.11 ops/s]\n",
      "Running MIL Common passes: 100%|██████████| 33/33 [00:00<00:00, 610.50 passes/s]\n",
      "Running MIL Clean up passes: 100%|██████████| 8/8 [00:00<00:00, 287.81 passes/s]\n",
      "Translating MIL ==> NeuralNetwork Ops: 100%|██████████| 54/54 [00:00<00:00, 1708.87 ops/s]\n"
     ]
    },
    {
     "name": "stdout",
     "output_type": "stream",
     "text": [
      "converting for batch:  10\n",
      "\n",
      "*********\n",
      "\n",
      "\n"
     ]
    },
    {
     "name": "stderr",
     "output_type": "stream",
     "text": [
      "Running TensorFlow Graph Passes: 100%|██████████| 5/5 [00:00<00:00, 28.77 passes/s]\n",
      "Converting Frontend ==> MIL Ops: 100%|██████████| 31/31 [00:00<00:00, 414.43 ops/s]\n",
      "Running MIL Common passes: 100%|██████████| 33/33 [00:00<00:00, 455.78 passes/s]\n",
      "Running MIL Clean up passes: 100%|██████████| 8/8 [00:00<00:00, 269.81 passes/s]\n",
      "Translating MIL ==> NeuralNetwork Ops: 100%|██████████| 54/54 [00:00<00:00, 1806.81 ops/s]\n"
     ]
    },
    {
     "name": "stdout",
     "output_type": "stream",
     "text": [
      "converting for batch:  11\n",
      "\n",
      "*********\n",
      "\n",
      "\n"
     ]
    },
    {
     "name": "stderr",
     "output_type": "stream",
     "text": [
      "Running TensorFlow Graph Passes: 100%|██████████| 5/5 [00:00<00:00, 28.86 passes/s]\n",
      "Converting Frontend ==> MIL Ops: 100%|██████████| 31/31 [00:00<00:00, 505.01 ops/s]\n",
      "Running MIL Common passes: 100%|██████████| 33/33 [00:00<00:00, 615.24 passes/s]\n",
      "Running MIL Clean up passes: 100%|██████████| 8/8 [00:00<00:00, 309.23 passes/s]\n",
      "Translating MIL ==> NeuralNetwork Ops: 100%|██████████| 54/54 [00:00<00:00, 1959.16 ops/s]\n"
     ]
    },
    {
     "name": "stdout",
     "output_type": "stream",
     "text": [
      "converting for batch:  12\n",
      "\n",
      "*********\n",
      "\n",
      "\n"
     ]
    },
    {
     "name": "stderr",
     "output_type": "stream",
     "text": [
      "Running TensorFlow Graph Passes: 100%|██████████| 5/5 [00:00<00:00, 28.33 passes/s]\n",
      "Converting Frontend ==> MIL Ops: 100%|██████████| 31/31 [00:00<00:00, 490.46 ops/s]\n",
      "Running MIL Common passes: 100%|██████████| 33/33 [00:00<00:00, 623.29 passes/s]\n",
      "Running MIL Clean up passes: 100%|██████████| 8/8 [00:00<00:00, 281.88 passes/s]\n",
      "Translating MIL ==> NeuralNetwork Ops: 100%|██████████| 54/54 [00:00<00:00, 1645.03 ops/s]\n"
     ]
    },
    {
     "name": "stdout",
     "output_type": "stream",
     "text": [
      "converting for batch:  13\n",
      "\n",
      "*********\n",
      "\n",
      "\n"
     ]
    },
    {
     "name": "stderr",
     "output_type": "stream",
     "text": [
      "Running TensorFlow Graph Passes: 100%|██████████| 5/5 [00:00<00:00, 28.29 passes/s]\n",
      "Converting Frontend ==> MIL Ops: 100%|██████████| 31/31 [00:00<00:00, 479.93 ops/s]\n",
      "Running MIL Common passes: 100%|██████████| 33/33 [00:00<00:00, 611.84 passes/s]\n",
      "Running MIL Clean up passes: 100%|██████████| 8/8 [00:00<00:00, 284.26 passes/s]\n",
      "Translating MIL ==> NeuralNetwork Ops: 100%|██████████| 54/54 [00:00<00:00, 1585.48 ops/s]\n"
     ]
    },
    {
     "name": "stdout",
     "output_type": "stream",
     "text": [
      "converting for batch:  14\n",
      "\n",
      "*********\n",
      "\n",
      "\n"
     ]
    },
    {
     "name": "stderr",
     "output_type": "stream",
     "text": [
      "Running TensorFlow Graph Passes: 100%|██████████| 5/5 [00:00<00:00, 29.11 passes/s]\n",
      "Converting Frontend ==> MIL Ops: 100%|██████████| 31/31 [00:00<00:00, 543.87 ops/s]\n",
      "Running MIL Common passes: 100%|██████████| 33/33 [00:00<00:00, 627.80 passes/s]\n",
      "Running MIL Clean up passes: 100%|██████████| 8/8 [00:00<00:00, 263.92 passes/s]\n",
      "Translating MIL ==> NeuralNetwork Ops: 100%|██████████| 54/54 [00:00<00:00, 1849.37 ops/s]\n"
     ]
    },
    {
     "name": "stdout",
     "output_type": "stream",
     "text": [
      "converting for batch:  15\n",
      "\n",
      "*********\n",
      "\n",
      "\n"
     ]
    },
    {
     "name": "stderr",
     "output_type": "stream",
     "text": [
      "Running TensorFlow Graph Passes: 100%|██████████| 5/5 [00:00<00:00, 27.93 passes/s]\n",
      "Converting Frontend ==> MIL Ops: 100%|██████████| 31/31 [00:00<00:00, 558.00 ops/s]\n",
      "Running MIL Common passes: 100%|██████████| 33/33 [00:00<00:00, 520.19 passes/s]\n",
      "Running MIL Clean up passes: 100%|██████████| 8/8 [00:00<00:00, 232.01 passes/s]\n",
      "Translating MIL ==> NeuralNetwork Ops: 100%|██████████| 54/54 [00:00<00:00, 2008.55 ops/s]\n"
     ]
    },
    {
     "name": "stdout",
     "output_type": "stream",
     "text": [
      "converting for batch:  16\n",
      "\n",
      "*********\n",
      "\n",
      "\n"
     ]
    },
    {
     "name": "stderr",
     "output_type": "stream",
     "text": [
      "Running TensorFlow Graph Passes: 100%|██████████| 5/5 [00:00<00:00, 29.01 passes/s]\n",
      "Converting Frontend ==> MIL Ops: 100%|██████████| 31/31 [00:00<00:00, 505.33 ops/s]\n",
      "Running MIL Common passes: 100%|██████████| 33/33 [00:00<00:00, 590.83 passes/s]\n",
      "Running MIL Clean up passes: 100%|██████████| 8/8 [00:00<00:00, 240.27 passes/s]\n",
      "Translating MIL ==> NeuralNetwork Ops: 100%|██████████| 54/54 [00:00<00:00, 1706.85 ops/s]\n"
     ]
    },
    {
     "name": "stdout",
     "output_type": "stream",
     "text": [
      "converting for batch:  17\n",
      "\n",
      "*********\n",
      "\n",
      "\n"
     ]
    },
    {
     "name": "stderr",
     "output_type": "stream",
     "text": [
      "Running TensorFlow Graph Passes: 100%|██████████| 5/5 [00:00<00:00, 28.55 passes/s]\n",
      "Converting Frontend ==> MIL Ops: 100%|██████████| 31/31 [00:00<00:00, 491.46 ops/s]\n",
      "Running MIL Common passes: 100%|██████████| 33/33 [00:00<00:00, 589.50 passes/s]\n",
      "Running MIL Clean up passes: 100%|██████████| 8/8 [00:00<00:00, 290.52 passes/s]\n",
      "Translating MIL ==> NeuralNetwork Ops: 100%|██████████| 54/54 [00:00<00:00, 1637.17 ops/s]\n"
     ]
    },
    {
     "name": "stdout",
     "output_type": "stream",
     "text": [
      "converting for batch:  18\n",
      "\n",
      "*********\n",
      "\n",
      "\n"
     ]
    },
    {
     "name": "stderr",
     "output_type": "stream",
     "text": [
      "Running TensorFlow Graph Passes: 100%|██████████| 5/5 [00:00<00:00, 23.41 passes/s]\n",
      "Converting Frontend ==> MIL Ops: 100%|██████████| 31/31 [00:00<00:00, 511.70 ops/s]\n",
      "Running MIL Common passes: 100%|██████████| 33/33 [00:00<00:00, 594.41 passes/s]\n",
      "Running MIL Clean up passes: 100%|██████████| 8/8 [00:00<00:00, 311.96 passes/s]\n",
      "Translating MIL ==> NeuralNetwork Ops: 100%|██████████| 54/54 [00:00<00:00, 1533.57 ops/s]\n"
     ]
    },
    {
     "name": "stdout",
     "output_type": "stream",
     "text": [
      "converting for batch:  19\n",
      "\n",
      "*********\n",
      "\n",
      "\n"
     ]
    },
    {
     "name": "stderr",
     "output_type": "stream",
     "text": [
      "Running TensorFlow Graph Passes: 100%|██████████| 5/5 [00:00<00:00, 28.98 passes/s]\n",
      "Converting Frontend ==> MIL Ops: 100%|██████████| 31/31 [00:00<00:00, 478.91 ops/s]\n",
      "Running MIL Common passes: 100%|██████████| 33/33 [00:00<00:00, 543.32 passes/s]\n",
      "Running MIL Clean up passes: 100%|██████████| 8/8 [00:00<00:00, 194.06 passes/s]\n",
      "Translating MIL ==> NeuralNetwork Ops: 100%|██████████| 54/54 [00:00<00:00, 1296.93 ops/s]\n"
     ]
    },
    {
     "name": "stdout",
     "output_type": "stream",
     "text": [
      "converting for batch:  20\n",
      "\n",
      "*********\n",
      "\n",
      "\n"
     ]
    },
    {
     "name": "stderr",
     "output_type": "stream",
     "text": [
      "Running TensorFlow Graph Passes: 100%|██████████| 5/5 [00:00<00:00, 28.70 passes/s]\n",
      "Converting Frontend ==> MIL Ops: 100%|██████████| 31/31 [00:00<00:00, 523.14 ops/s]\n",
      "Running MIL Common passes: 100%|██████████| 33/33 [00:00<00:00, 639.19 passes/s]\n",
      "Running MIL Clean up passes: 100%|██████████| 8/8 [00:00<00:00, 311.90 passes/s]\n",
      "Translating MIL ==> NeuralNetwork Ops: 100%|██████████| 54/54 [00:00<00:00, 1732.89 ops/s]\n"
     ]
    },
    {
     "name": "stdout",
     "output_type": "stream",
     "text": [
      "Conversion complete in 0m 29s\n",
      "################ Batch size:  40\n",
      "converting for batch:  0\n",
      "\n",
      "*********\n",
      "\n",
      "\n"
     ]
    },
    {
     "name": "stderr",
     "output_type": "stream",
     "text": [
      "Running TensorFlow Graph Passes: 100%|██████████| 5/5 [00:00<00:00, 28.40 passes/s]\n",
      "Converting Frontend ==> MIL Ops: 100%|██████████| 31/31 [00:00<00:00, 529.07 ops/s]\n",
      "Running MIL Common passes: 100%|██████████| 33/33 [00:00<00:00, 622.79 passes/s]\n",
      "Running MIL Clean up passes: 100%|██████████| 8/8 [00:00<00:00, 287.13 passes/s]\n",
      "Translating MIL ==> NeuralNetwork Ops: 100%|██████████| 54/54 [00:00<00:00, 1572.60 ops/s]\n"
     ]
    },
    {
     "name": "stdout",
     "output_type": "stream",
     "text": [
      "converting for batch:  1\n",
      "\n",
      "*********\n",
      "\n",
      "\n"
     ]
    },
    {
     "name": "stderr",
     "output_type": "stream",
     "text": [
      "Running TensorFlow Graph Passes: 100%|██████████| 5/5 [00:00<00:00, 28.32 passes/s]\n",
      "Converting Frontend ==> MIL Ops: 100%|██████████| 31/31 [00:00<00:00, 554.19 ops/s]\n",
      "Running MIL Common passes: 100%|██████████| 33/33 [00:00<00:00, 644.90 passes/s]\n",
      "Running MIL Clean up passes: 100%|██████████| 8/8 [00:00<00:00, 333.82 passes/s]\n",
      "Translating MIL ==> NeuralNetwork Ops: 100%|██████████| 54/54 [00:00<00:00, 1487.31 ops/s]\n"
     ]
    },
    {
     "name": "stdout",
     "output_type": "stream",
     "text": [
      "converting for batch:  2\n",
      "\n",
      "*********\n",
      "\n",
      "\n"
     ]
    },
    {
     "name": "stderr",
     "output_type": "stream",
     "text": [
      "Running TensorFlow Graph Passes: 100%|██████████| 5/5 [00:00<00:00, 29.38 passes/s]\n",
      "Converting Frontend ==> MIL Ops: 100%|██████████| 31/31 [00:00<00:00, 503.21 ops/s]\n",
      "Running MIL Common passes: 100%|██████████| 33/33 [00:00<00:00, 650.91 passes/s]\n",
      "Running MIL Clean up passes: 100%|██████████| 8/8 [00:00<00:00, 370.94 passes/s]\n",
      "Translating MIL ==> NeuralNetwork Ops: 100%|██████████| 54/54 [00:00<00:00, 1768.63 ops/s]\n"
     ]
    },
    {
     "name": "stdout",
     "output_type": "stream",
     "text": [
      "converting for batch:  3\n",
      "\n",
      "*********\n",
      "\n",
      "\n"
     ]
    },
    {
     "name": "stderr",
     "output_type": "stream",
     "text": [
      "Running TensorFlow Graph Passes: 100%|██████████| 5/5 [00:00<00:00, 28.62 passes/s]\n",
      "Converting Frontend ==> MIL Ops: 100%|██████████| 31/31 [00:00<00:00, 540.65 ops/s]\n",
      "Running MIL Common passes: 100%|██████████| 33/33 [00:00<00:00, 652.00 passes/s]\n",
      "Running MIL Clean up passes: 100%|██████████| 8/8 [00:00<00:00, 305.52 passes/s]\n",
      "Translating MIL ==> NeuralNetwork Ops: 100%|██████████| 54/54 [00:00<00:00, 1724.36 ops/s]\n"
     ]
    },
    {
     "name": "stdout",
     "output_type": "stream",
     "text": [
      "converting for batch:  4\n",
      "\n",
      "*********\n",
      "\n",
      "\n"
     ]
    },
    {
     "name": "stderr",
     "output_type": "stream",
     "text": [
      "Running TensorFlow Graph Passes: 100%|██████████| 5/5 [00:00<00:00, 28.33 passes/s]\n",
      "Converting Frontend ==> MIL Ops: 100%|██████████| 31/31 [00:00<00:00, 477.11 ops/s]\n",
      "Running MIL Common passes: 100%|██████████| 33/33 [00:00<00:00, 418.90 passes/s]\n",
      "Running MIL Clean up passes: 100%|██████████| 8/8 [00:00<00:00, 302.25 passes/s]\n",
      "Translating MIL ==> NeuralNetwork Ops: 100%|██████████| 54/54 [00:00<00:00, 1857.45 ops/s]\n"
     ]
    },
    {
     "name": "stdout",
     "output_type": "stream",
     "text": [
      "converting for batch:  5\n",
      "\n",
      "*********\n",
      "\n",
      "\n"
     ]
    },
    {
     "name": "stderr",
     "output_type": "stream",
     "text": [
      "Running TensorFlow Graph Passes: 100%|██████████| 5/5 [00:00<00:00, 27.62 passes/s]\n",
      "Converting Frontend ==> MIL Ops: 100%|██████████| 31/31 [00:00<00:00, 412.22 ops/s]\n",
      "Running MIL Common passes: 100%|██████████| 33/33 [00:00<00:00, 550.60 passes/s]\n",
      "Running MIL Clean up passes: 100%|██████████| 8/8 [00:00<00:00, 231.52 passes/s]\n",
      "Translating MIL ==> NeuralNetwork Ops: 100%|██████████| 54/54 [00:00<00:00, 1511.98 ops/s]\n"
     ]
    },
    {
     "name": "stdout",
     "output_type": "stream",
     "text": [
      "converting for batch:  6\n",
      "\n",
      "*********\n",
      "\n",
      "\n"
     ]
    },
    {
     "name": "stderr",
     "output_type": "stream",
     "text": [
      "Running TensorFlow Graph Passes: 100%|██████████| 5/5 [00:00<00:00, 29.37 passes/s]\n",
      "Converting Frontend ==> MIL Ops: 100%|██████████| 31/31 [00:00<00:00, 510.36 ops/s]\n",
      "Running MIL Common passes: 100%|██████████| 33/33 [00:00<00:00, 459.87 passes/s]\n",
      "Running MIL Clean up passes: 100%|██████████| 8/8 [00:00<00:00, 169.61 passes/s]\n",
      "Translating MIL ==> NeuralNetwork Ops: 100%|██████████| 54/54 [00:00<00:00, 1368.96 ops/s]\n"
     ]
    },
    {
     "name": "stdout",
     "output_type": "stream",
     "text": [
      "converting for batch:  7\n",
      "\n",
      "*********\n",
      "\n",
      "\n"
     ]
    },
    {
     "name": "stderr",
     "output_type": "stream",
     "text": [
      "Running TensorFlow Graph Passes: 100%|██████████| 5/5 [00:00<00:00, 28.98 passes/s]\n",
      "Converting Frontend ==> MIL Ops: 100%|██████████| 31/31 [00:00<00:00, 568.27 ops/s]\n",
      "Running MIL Common passes: 100%|██████████| 33/33 [00:00<00:00, 524.62 passes/s]\n",
      "Running MIL Clean up passes: 100%|██████████| 8/8 [00:00<00:00, 321.80 passes/s]\n",
      "Translating MIL ==> NeuralNetwork Ops: 100%|██████████| 54/54 [00:00<00:00, 1367.99 ops/s]\n"
     ]
    },
    {
     "name": "stdout",
     "output_type": "stream",
     "text": [
      "converting for batch:  8\n",
      "\n",
      "*********\n",
      "\n",
      "\n"
     ]
    },
    {
     "name": "stderr",
     "output_type": "stream",
     "text": [
      "Running TensorFlow Graph Passes: 100%|██████████| 5/5 [00:00<00:00, 27.79 passes/s]\n",
      "Converting Frontend ==> MIL Ops: 100%|██████████| 31/31 [00:00<00:00, 465.38 ops/s]\n",
      "Running MIL Common passes: 100%|██████████| 33/33 [00:00<00:00, 597.74 passes/s]\n",
      "Running MIL Clean up passes: 100%|██████████| 8/8 [00:00<00:00, 284.66 passes/s]\n",
      "Translating MIL ==> NeuralNetwork Ops: 100%|██████████| 54/54 [00:00<00:00, 1355.76 ops/s]\n"
     ]
    },
    {
     "name": "stdout",
     "output_type": "stream",
     "text": [
      "converting for batch:  9\n",
      "\n",
      "*********\n",
      "\n",
      "\n"
     ]
    },
    {
     "name": "stderr",
     "output_type": "stream",
     "text": [
      "Running TensorFlow Graph Passes: 100%|██████████| 5/5 [00:00<00:00, 27.76 passes/s]\n",
      "Converting Frontend ==> MIL Ops: 100%|██████████| 31/31 [00:00<00:00, 495.04 ops/s]\n",
      "Running MIL Common passes: 100%|██████████| 33/33 [00:00<00:00, 644.23 passes/s]\n",
      "Running MIL Clean up passes: 100%|██████████| 8/8 [00:00<00:00, 321.52 passes/s]\n",
      "Translating MIL ==> NeuralNetwork Ops: 100%|██████████| 54/54 [00:00<00:00, 1497.13 ops/s]\n"
     ]
    },
    {
     "name": "stdout",
     "output_type": "stream",
     "text": [
      "converting for batch:  10\n",
      "\n",
      "*********\n",
      "\n",
      "\n"
     ]
    },
    {
     "name": "stderr",
     "output_type": "stream",
     "text": [
      "Running TensorFlow Graph Passes: 100%|██████████| 5/5 [00:00<00:00, 28.07 passes/s]\n",
      "Converting Frontend ==> MIL Ops: 100%|██████████| 31/31 [00:00<00:00, 483.57 ops/s]\n",
      "Running MIL Common passes: 100%|██████████| 33/33 [00:00<00:00, 545.58 passes/s]\n",
      "Running MIL Clean up passes: 100%|██████████| 8/8 [00:00<00:00, 263.23 passes/s]\n",
      "Translating MIL ==> NeuralNetwork Ops: 100%|██████████| 54/54 [00:00<00:00, 1788.91 ops/s]\n"
     ]
    },
    {
     "name": "stdout",
     "output_type": "stream",
     "text": [
      "converting for batch:  11\n",
      "\n",
      "*********\n",
      "\n",
      "\n"
     ]
    },
    {
     "name": "stderr",
     "output_type": "stream",
     "text": [
      "Running TensorFlow Graph Passes: 100%|██████████| 5/5 [00:00<00:00, 27.88 passes/s]\n",
      "Converting Frontend ==> MIL Ops: 100%|██████████| 31/31 [00:00<00:00, 523.01 ops/s]\n",
      "Running MIL Common passes: 100%|██████████| 33/33 [00:00<00:00, 584.69 passes/s]\n",
      "Running MIL Clean up passes: 100%|██████████| 8/8 [00:00<00:00, 270.53 passes/s]\n",
      "Translating MIL ==> NeuralNetwork Ops: 100%|██████████| 54/54 [00:00<00:00, 1567.67 ops/s]\n"
     ]
    },
    {
     "name": "stdout",
     "output_type": "stream",
     "text": [
      "converting for batch:  12\n",
      "\n",
      "*********\n",
      "\n",
      "\n"
     ]
    },
    {
     "name": "stderr",
     "output_type": "stream",
     "text": [
      "Running TensorFlow Graph Passes: 100%|██████████| 5/5 [00:00<00:00, 27.30 passes/s]\n",
      "Converting Frontend ==> MIL Ops: 100%|██████████| 31/31 [00:00<00:00, 516.28 ops/s]\n",
      "Running MIL Common passes: 100%|██████████| 33/33 [00:00<00:00, 474.90 passes/s]\n",
      "Running MIL Clean up passes: 100%|██████████| 8/8 [00:00<00:00, 198.60 passes/s]\n",
      "Translating MIL ==> NeuralNetwork Ops: 100%|██████████| 54/54 [00:00<00:00, 1205.28 ops/s]\n"
     ]
    },
    {
     "name": "stdout",
     "output_type": "stream",
     "text": [
      "converting for batch:  13\n",
      "\n",
      "*********\n",
      "\n",
      "\n"
     ]
    },
    {
     "name": "stderr",
     "output_type": "stream",
     "text": [
      "Running TensorFlow Graph Passes: 100%|██████████| 5/5 [00:00<00:00, 27.43 passes/s]\n",
      "Converting Frontend ==> MIL Ops: 100%|██████████| 31/31 [00:00<00:00, 536.02 ops/s]\n",
      "Running MIL Common passes: 100%|██████████| 33/33 [00:00<00:00, 594.72 passes/s]\n",
      "Running MIL Clean up passes: 100%|██████████| 8/8 [00:00<00:00, 295.01 passes/s]\n",
      "Translating MIL ==> NeuralNetwork Ops: 100%|██████████| 54/54 [00:00<00:00, 1701.11 ops/s]\n"
     ]
    },
    {
     "name": "stdout",
     "output_type": "stream",
     "text": [
      "converting for batch:  14\n",
      "\n",
      "*********\n",
      "\n",
      "\n"
     ]
    },
    {
     "name": "stderr",
     "output_type": "stream",
     "text": [
      "Running TensorFlow Graph Passes: 100%|██████████| 5/5 [00:00<00:00, 27.98 passes/s]\n",
      "Converting Frontend ==> MIL Ops: 100%|██████████| 31/31 [00:00<00:00, 492.33 ops/s]\n",
      "Running MIL Common passes: 100%|██████████| 33/33 [00:00<00:00, 558.79 passes/s]\n",
      "Running MIL Clean up passes: 100%|██████████| 8/8 [00:00<00:00, 296.46 passes/s]\n",
      "Translating MIL ==> NeuralNetwork Ops: 100%|██████████| 54/54 [00:00<00:00, 1684.40 ops/s]\n"
     ]
    },
    {
     "name": "stdout",
     "output_type": "stream",
     "text": [
      "converting for batch:  15\n",
      "\n",
      "*********\n",
      "\n",
      "\n"
     ]
    },
    {
     "name": "stderr",
     "output_type": "stream",
     "text": [
      "Running TensorFlow Graph Passes: 100%|██████████| 5/5 [00:00<00:00, 27.95 passes/s]\n",
      "Converting Frontend ==> MIL Ops: 100%|██████████| 31/31 [00:00<00:00, 495.56 ops/s]\n",
      "Running MIL Common passes: 100%|██████████| 33/33 [00:00<00:00, 573.04 passes/s]\n",
      "Running MIL Clean up passes: 100%|██████████| 8/8 [00:00<00:00, 251.79 passes/s]\n",
      "Translating MIL ==> NeuralNetwork Ops: 100%|██████████| 54/54 [00:00<00:00, 1628.91 ops/s]\n"
     ]
    },
    {
     "name": "stdout",
     "output_type": "stream",
     "text": [
      "converting for batch:  16\n",
      "\n",
      "*********\n",
      "\n",
      "\n"
     ]
    },
    {
     "name": "stderr",
     "output_type": "stream",
     "text": [
      "Running TensorFlow Graph Passes: 100%|██████████| 5/5 [00:00<00:00, 28.38 passes/s]\n",
      "Converting Frontend ==> MIL Ops: 100%|██████████| 31/31 [00:00<00:00, 502.88 ops/s]\n",
      "Running MIL Common passes: 100%|██████████| 33/33 [00:00<00:00, 601.21 passes/s]\n",
      "Running MIL Clean up passes: 100%|██████████| 8/8 [00:00<00:00, 307.86 passes/s]\n",
      "Translating MIL ==> NeuralNetwork Ops: 100%|██████████| 54/54 [00:00<00:00, 1679.53 ops/s]\n"
     ]
    },
    {
     "name": "stdout",
     "output_type": "stream",
     "text": [
      "converting for batch:  17\n",
      "\n",
      "*********\n",
      "\n",
      "\n"
     ]
    },
    {
     "name": "stderr",
     "output_type": "stream",
     "text": [
      "Running TensorFlow Graph Passes: 100%|██████████| 5/5 [00:00<00:00, 28.23 passes/s]\n",
      "Converting Frontend ==> MIL Ops: 100%|██████████| 31/31 [00:00<00:00, 503.63 ops/s]\n",
      "Running MIL Common passes: 100%|██████████| 33/33 [00:00<00:00, 603.11 passes/s]\n",
      "Running MIL Clean up passes: 100%|██████████| 8/8 [00:00<00:00, 288.67 passes/s]\n",
      "Translating MIL ==> NeuralNetwork Ops: 100%|██████████| 54/54 [00:00<00:00, 1546.48 ops/s]\n"
     ]
    },
    {
     "name": "stdout",
     "output_type": "stream",
     "text": [
      "converting for batch:  18\n",
      "\n",
      "*********\n",
      "\n",
      "\n"
     ]
    },
    {
     "name": "stderr",
     "output_type": "stream",
     "text": [
      "Running TensorFlow Graph Passes: 100%|██████████| 5/5 [00:00<00:00, 27.56 passes/s]\n",
      "Converting Frontend ==> MIL Ops: 100%|██████████| 31/31 [00:00<00:00, 514.28 ops/s]\n",
      "Running MIL Common passes: 100%|██████████| 33/33 [00:00<00:00, 634.85 passes/s]\n",
      "Running MIL Clean up passes: 100%|██████████| 8/8 [00:00<00:00, 242.90 passes/s]\n",
      "Translating MIL ==> NeuralNetwork Ops: 100%|██████████| 54/54 [00:00<00:00, 1628.27 ops/s]\n"
     ]
    },
    {
     "name": "stdout",
     "output_type": "stream",
     "text": [
      "converting for batch:  19\n",
      "\n",
      "*********\n",
      "\n",
      "\n"
     ]
    },
    {
     "name": "stderr",
     "output_type": "stream",
     "text": [
      "Running TensorFlow Graph Passes: 100%|██████████| 5/5 [00:00<00:00, 28.19 passes/s]\n",
      "Converting Frontend ==> MIL Ops: 100%|██████████| 31/31 [00:00<00:00, 515.00 ops/s]\n",
      "Running MIL Common passes: 100%|██████████| 33/33 [00:00<00:00, 572.69 passes/s]\n",
      "Running MIL Clean up passes: 100%|██████████| 8/8 [00:00<00:00, 253.22 passes/s]\n",
      "Translating MIL ==> NeuralNetwork Ops: 100%|██████████| 54/54 [00:00<00:00, 1596.87 ops/s]\n"
     ]
    },
    {
     "name": "stdout",
     "output_type": "stream",
     "text": [
      "converting for batch:  20\n",
      "\n",
      "*********\n",
      "\n",
      "\n"
     ]
    },
    {
     "name": "stderr",
     "output_type": "stream",
     "text": [
      "Running TensorFlow Graph Passes: 100%|██████████| 5/5 [00:00<00:00, 28.19 passes/s]\n",
      "Converting Frontend ==> MIL Ops: 100%|██████████| 31/31 [00:00<00:00, 581.87 ops/s]\n",
      "Running MIL Common passes: 100%|██████████| 33/33 [00:00<00:00, 614.64 passes/s]\n",
      "Running MIL Clean up passes: 100%|██████████| 8/8 [00:00<00:00, 241.54 passes/s]\n",
      "Translating MIL ==> NeuralNetwork Ops: 100%|██████████| 54/54 [00:00<00:00, 1607.05 ops/s]\n"
     ]
    },
    {
     "name": "stdout",
     "output_type": "stream",
     "text": [
      "Conversion complete in 0m 29s\n",
      "################ Batch size:  50\n",
      "converting for batch:  0\n",
      "\n",
      "*********\n",
      "\n",
      "\n"
     ]
    },
    {
     "name": "stderr",
     "output_type": "stream",
     "text": [
      "Running TensorFlow Graph Passes: 100%|██████████| 5/5 [00:00<00:00, 29.12 passes/s]\n",
      "Converting Frontend ==> MIL Ops: 100%|██████████| 31/31 [00:00<00:00, 523.95 ops/s]\n",
      "Running MIL Common passes: 100%|██████████| 33/33 [00:00<00:00, 639.69 passes/s]\n",
      "Running MIL Clean up passes: 100%|██████████| 8/8 [00:00<00:00, 315.71 passes/s]\n",
      "Translating MIL ==> NeuralNetwork Ops: 100%|██████████| 54/54 [00:00<00:00, 1640.99 ops/s]\n"
     ]
    },
    {
     "name": "stdout",
     "output_type": "stream",
     "text": [
      "converting for batch:  1\n",
      "\n",
      "*********\n",
      "\n",
      "\n"
     ]
    },
    {
     "name": "stderr",
     "output_type": "stream",
     "text": [
      "Running TensorFlow Graph Passes: 100%|██████████| 5/5 [00:00<00:00, 27.97 passes/s]\n",
      "Converting Frontend ==> MIL Ops: 100%|██████████| 31/31 [00:00<00:00, 500.73 ops/s]\n",
      "Running MIL Common passes: 100%|██████████| 33/33 [00:00<00:00, 621.31 passes/s]\n",
      "Running MIL Clean up passes: 100%|██████████| 8/8 [00:00<00:00, 247.16 passes/s]\n",
      "Translating MIL ==> NeuralNetwork Ops: 100%|██████████| 54/54 [00:00<00:00, 1604.18 ops/s]\n"
     ]
    },
    {
     "name": "stdout",
     "output_type": "stream",
     "text": [
      "converting for batch:  2\n",
      "\n",
      "*********\n",
      "\n",
      "\n"
     ]
    },
    {
     "name": "stderr",
     "output_type": "stream",
     "text": [
      "Running TensorFlow Graph Passes: 100%|██████████| 5/5 [00:00<00:00, 27.49 passes/s]\n",
      "Converting Frontend ==> MIL Ops: 100%|██████████| 31/31 [00:00<00:00, 417.42 ops/s]\n",
      "Running MIL Common passes: 100%|██████████| 33/33 [00:00<00:00, 649.75 passes/s]\n",
      "Running MIL Clean up passes: 100%|██████████| 8/8 [00:00<00:00, 287.98 passes/s]\n",
      "Translating MIL ==> NeuralNetwork Ops: 100%|██████████| 54/54 [00:00<00:00, 1404.24 ops/s]\n"
     ]
    },
    {
     "name": "stdout",
     "output_type": "stream",
     "text": [
      "converting for batch:  3\n",
      "\n",
      "*********\n",
      "\n",
      "\n"
     ]
    },
    {
     "name": "stderr",
     "output_type": "stream",
     "text": [
      "Running TensorFlow Graph Passes: 100%|██████████| 5/5 [00:00<00:00, 27.10 passes/s]\n",
      "Converting Frontend ==> MIL Ops: 100%|██████████| 31/31 [00:00<00:00, 526.47 ops/s]\n",
      "Running MIL Common passes: 100%|██████████| 33/33 [00:00<00:00, 574.08 passes/s]\n",
      "Running MIL Clean up passes: 100%|██████████| 8/8 [00:00<00:00, 297.00 passes/s]\n",
      "Translating MIL ==> NeuralNetwork Ops: 100%|██████████| 54/54 [00:00<00:00, 1659.35 ops/s]\n"
     ]
    },
    {
     "name": "stdout",
     "output_type": "stream",
     "text": [
      "converting for batch:  4\n",
      "\n",
      "*********\n",
      "\n",
      "\n"
     ]
    },
    {
     "name": "stderr",
     "output_type": "stream",
     "text": [
      "Running TensorFlow Graph Passes: 100%|██████████| 5/5 [00:00<00:00, 27.83 passes/s]\n",
      "Converting Frontend ==> MIL Ops: 100%|██████████| 31/31 [00:00<00:00, 508.68 ops/s]\n",
      "Running MIL Common passes: 100%|██████████| 33/33 [00:00<00:00, 636.01 passes/s]\n",
      "Running MIL Clean up passes: 100%|██████████| 8/8 [00:00<00:00, 330.46 passes/s]\n",
      "Translating MIL ==> NeuralNetwork Ops: 100%|██████████| 54/54 [00:00<00:00, 1840.94 ops/s]\n"
     ]
    },
    {
     "name": "stdout",
     "output_type": "stream",
     "text": [
      "converting for batch:  5\n",
      "\n",
      "*********\n",
      "\n",
      "\n"
     ]
    },
    {
     "name": "stderr",
     "output_type": "stream",
     "text": [
      "Running TensorFlow Graph Passes: 100%|██████████| 5/5 [00:00<00:00, 27.38 passes/s]\n",
      "Converting Frontend ==> MIL Ops: 100%|██████████| 31/31 [00:00<00:00, 530.01 ops/s]\n",
      "Running MIL Common passes: 100%|██████████| 33/33 [00:00<00:00, 597.62 passes/s]\n",
      "Running MIL Clean up passes: 100%|██████████| 8/8 [00:00<00:00, 303.58 passes/s]\n",
      "Translating MIL ==> NeuralNetwork Ops: 100%|██████████| 54/54 [00:00<00:00, 1744.18 ops/s]\n"
     ]
    },
    {
     "name": "stdout",
     "output_type": "stream",
     "text": [
      "converting for batch:  6\n",
      "\n",
      "*********\n",
      "\n",
      "\n"
     ]
    },
    {
     "name": "stderr",
     "output_type": "stream",
     "text": [
      "Running TensorFlow Graph Passes: 100%|██████████| 5/5 [00:00<00:00, 28.49 passes/s]\n",
      "Converting Frontend ==> MIL Ops: 100%|██████████| 31/31 [00:00<00:00, 516.09 ops/s]\n",
      "Running MIL Common passes: 100%|██████████| 33/33 [00:00<00:00, 612.48 passes/s]\n",
      "Running MIL Clean up passes: 100%|██████████| 8/8 [00:00<00:00, 273.35 passes/s]\n",
      "Translating MIL ==> NeuralNetwork Ops: 100%|██████████| 54/54 [00:00<00:00, 1683.88 ops/s]\n"
     ]
    },
    {
     "name": "stdout",
     "output_type": "stream",
     "text": [
      "converting for batch:  7\n",
      "\n",
      "*********\n",
      "\n",
      "\n"
     ]
    },
    {
     "name": "stderr",
     "output_type": "stream",
     "text": [
      "Running TensorFlow Graph Passes: 100%|██████████| 5/5 [00:00<00:00, 28.42 passes/s]\n",
      "Converting Frontend ==> MIL Ops: 100%|██████████| 31/31 [00:00<00:00, 504.63 ops/s]\n",
      "Running MIL Common passes: 100%|██████████| 33/33 [00:00<00:00, 566.93 passes/s]\n",
      "Running MIL Clean up passes: 100%|██████████| 8/8 [00:00<00:00, 335.51 passes/s]\n",
      "Translating MIL ==> NeuralNetwork Ops: 100%|██████████| 54/54 [00:00<00:00, 1744.36 ops/s]\n"
     ]
    },
    {
     "name": "stdout",
     "output_type": "stream",
     "text": [
      "converting for batch:  8\n",
      "\n",
      "*********\n",
      "\n",
      "\n"
     ]
    },
    {
     "name": "stderr",
     "output_type": "stream",
     "text": [
      "Running TensorFlow Graph Passes: 100%|██████████| 5/5 [00:00<00:00, 28.00 passes/s]\n",
      "Converting Frontend ==> MIL Ops: 100%|██████████| 31/31 [00:00<00:00, 524.32 ops/s]\n",
      "Running MIL Common passes: 100%|██████████| 33/33 [00:00<00:00, 657.23 passes/s]\n",
      "Running MIL Clean up passes: 100%|██████████| 8/8 [00:00<00:00, 237.22 passes/s]\n",
      "Translating MIL ==> NeuralNetwork Ops: 100%|██████████| 54/54 [00:00<00:00, 1584.73 ops/s]\n"
     ]
    },
    {
     "name": "stdout",
     "output_type": "stream",
     "text": [
      "converting for batch:  9\n",
      "\n",
      "*********\n",
      "\n",
      "\n"
     ]
    },
    {
     "name": "stderr",
     "output_type": "stream",
     "text": [
      "Running TensorFlow Graph Passes: 100%|██████████| 5/5 [00:00<00:00, 27.29 passes/s]\n",
      "Converting Frontend ==> MIL Ops: 100%|██████████| 31/31 [00:00<00:00, 542.20 ops/s]\n",
      "Running MIL Common passes: 100%|██████████| 33/33 [00:00<00:00, 616.21 passes/s]\n",
      "Running MIL Clean up passes: 100%|██████████| 8/8 [00:00<00:00, 300.87 passes/s]\n",
      "Translating MIL ==> NeuralNetwork Ops: 100%|██████████| 54/54 [00:00<00:00, 1740.64 ops/s]\n"
     ]
    },
    {
     "name": "stdout",
     "output_type": "stream",
     "text": [
      "converting for batch:  10\n",
      "\n",
      "*********\n",
      "\n",
      "\n"
     ]
    },
    {
     "name": "stderr",
     "output_type": "stream",
     "text": [
      "Running TensorFlow Graph Passes: 100%|██████████| 5/5 [00:00<00:00, 27.62 passes/s]\n",
      "Converting Frontend ==> MIL Ops: 100%|██████████| 31/31 [00:00<00:00, 482.78 ops/s]\n",
      "Running MIL Common passes: 100%|██████████| 33/33 [00:00<00:00, 605.04 passes/s]\n",
      "Running MIL Clean up passes: 100%|██████████| 8/8 [00:00<00:00, 307.57 passes/s]\n",
      "Translating MIL ==> NeuralNetwork Ops: 100%|██████████| 54/54 [00:00<00:00, 1518.18 ops/s]\n"
     ]
    },
    {
     "name": "stdout",
     "output_type": "stream",
     "text": [
      "converting for batch:  11\n",
      "\n",
      "*********\n",
      "\n",
      "\n"
     ]
    },
    {
     "name": "stderr",
     "output_type": "stream",
     "text": [
      "Running TensorFlow Graph Passes: 100%|██████████| 5/5 [00:00<00:00, 26.44 passes/s]\n",
      "Converting Frontend ==> MIL Ops: 100%|██████████| 31/31 [00:00<00:00, 501.84 ops/s]\n",
      "Running MIL Common passes: 100%|██████████| 33/33 [00:00<00:00, 527.88 passes/s]\n",
      "Running MIL Clean up passes: 100%|██████████| 8/8 [00:00<00:00, 289.76 passes/s]\n",
      "Translating MIL ==> NeuralNetwork Ops: 100%|██████████| 54/54 [00:00<00:00, 1556.93 ops/s]\n"
     ]
    },
    {
     "name": "stdout",
     "output_type": "stream",
     "text": [
      "converting for batch:  12\n",
      "\n",
      "*********\n",
      "\n",
      "\n"
     ]
    },
    {
     "name": "stderr",
     "output_type": "stream",
     "text": [
      "Running TensorFlow Graph Passes: 100%|██████████| 5/5 [00:00<00:00, 28.35 passes/s]\n",
      "Converting Frontend ==> MIL Ops: 100%|██████████| 31/31 [00:00<00:00, 517.36 ops/s]\n",
      "Running MIL Common passes: 100%|██████████| 33/33 [00:00<00:00, 566.13 passes/s]\n",
      "Running MIL Clean up passes: 100%|██████████| 8/8 [00:00<00:00, 300.11 passes/s]\n",
      "Translating MIL ==> NeuralNetwork Ops: 100%|██████████| 54/54 [00:00<00:00, 1927.81 ops/s]\n"
     ]
    },
    {
     "name": "stdout",
     "output_type": "stream",
     "text": [
      "converting for batch:  13\n",
      "\n",
      "*********\n",
      "\n",
      "\n"
     ]
    },
    {
     "name": "stderr",
     "output_type": "stream",
     "text": [
      "Running TensorFlow Graph Passes: 100%|██████████| 5/5 [00:00<00:00, 28.11 passes/s]\n",
      "Converting Frontend ==> MIL Ops: 100%|██████████| 31/31 [00:00<00:00, 518.58 ops/s]\n",
      "Running MIL Common passes: 100%|██████████| 33/33 [00:00<00:00, 630.90 passes/s]\n",
      "Running MIL Clean up passes: 100%|██████████| 8/8 [00:00<00:00, 299.99 passes/s]\n",
      "Translating MIL ==> NeuralNetwork Ops: 100%|██████████| 54/54 [00:00<00:00, 1505.65 ops/s]\n"
     ]
    },
    {
     "name": "stdout",
     "output_type": "stream",
     "text": [
      "converting for batch:  14\n",
      "\n",
      "*********\n",
      "\n",
      "\n"
     ]
    },
    {
     "name": "stderr",
     "output_type": "stream",
     "text": [
      "Running TensorFlow Graph Passes: 100%|██████████| 5/5 [00:00<00:00, 27.98 passes/s]\n",
      "Converting Frontend ==> MIL Ops: 100%|██████████| 31/31 [00:00<00:00, 514.80 ops/s]\n",
      "Running MIL Common passes: 100%|██████████| 33/33 [00:00<00:00, 583.37 passes/s]\n",
      "Running MIL Clean up passes: 100%|██████████| 8/8 [00:00<00:00, 230.66 passes/s]\n",
      "Translating MIL ==> NeuralNetwork Ops: 100%|██████████| 54/54 [00:00<00:00, 1601.29 ops/s]\n"
     ]
    },
    {
     "name": "stdout",
     "output_type": "stream",
     "text": [
      "converting for batch:  15\n",
      "\n",
      "*********\n",
      "\n",
      "\n"
     ]
    },
    {
     "name": "stderr",
     "output_type": "stream",
     "text": [
      "Running TensorFlow Graph Passes: 100%|██████████| 5/5 [00:00<00:00, 27.90 passes/s]\n",
      "Converting Frontend ==> MIL Ops: 100%|██████████| 31/31 [00:00<00:00, 477.68 ops/s]\n",
      "Running MIL Common passes: 100%|██████████| 33/33 [00:00<00:00, 490.16 passes/s]\n",
      "Running MIL Clean up passes: 100%|██████████| 8/8 [00:00<00:00, 305.81 passes/s]\n",
      "Translating MIL ==> NeuralNetwork Ops: 100%|██████████| 54/54 [00:00<00:00, 1541.68 ops/s]\n"
     ]
    },
    {
     "name": "stdout",
     "output_type": "stream",
     "text": [
      "converting for batch:  16\n",
      "\n",
      "*********\n",
      "\n",
      "\n"
     ]
    },
    {
     "name": "stderr",
     "output_type": "stream",
     "text": [
      "Running TensorFlow Graph Passes: 100%|██████████| 5/5 [00:00<00:00, 27.30 passes/s]\n",
      "Converting Frontend ==> MIL Ops: 100%|██████████| 31/31 [00:00<00:00, 518.37 ops/s]\n",
      "Running MIL Common passes: 100%|██████████| 33/33 [00:00<00:00, 601.34 passes/s]\n",
      "Running MIL Clean up passes: 100%|██████████| 8/8 [00:00<00:00, 311.38 passes/s]\n",
      "Translating MIL ==> NeuralNetwork Ops: 100%|██████████| 54/54 [00:00<00:00, 1525.90 ops/s]\n"
     ]
    },
    {
     "name": "stdout",
     "output_type": "stream",
     "text": [
      "converting for batch:  17\n",
      "\n",
      "*********\n",
      "\n",
      "\n"
     ]
    },
    {
     "name": "stderr",
     "output_type": "stream",
     "text": [
      "Running TensorFlow Graph Passes: 100%|██████████| 5/5 [00:00<00:00, 26.99 passes/s]\n",
      "Converting Frontend ==> MIL Ops: 100%|██████████| 31/31 [00:00<00:00, 518.36 ops/s]\n",
      "Running MIL Common passes: 100%|██████████| 33/33 [00:00<00:00, 571.89 passes/s]\n",
      "Running MIL Clean up passes: 100%|██████████| 8/8 [00:00<00:00, 274.76 passes/s]\n",
      "Translating MIL ==> NeuralNetwork Ops: 100%|██████████| 54/54 [00:00<00:00, 1338.15 ops/s]\n"
     ]
    },
    {
     "name": "stdout",
     "output_type": "stream",
     "text": [
      "converting for batch:  18\n",
      "\n",
      "*********\n",
      "\n",
      "\n"
     ]
    },
    {
     "name": "stderr",
     "output_type": "stream",
     "text": [
      "Running TensorFlow Graph Passes: 100%|██████████| 5/5 [00:00<00:00, 27.64 passes/s]\n",
      "Converting Frontend ==> MIL Ops: 100%|██████████| 31/31 [00:00<00:00, 525.47 ops/s]\n",
      "Running MIL Common passes: 100%|██████████| 33/33 [00:00<00:00, 604.88 passes/s]\n",
      "Running MIL Clean up passes: 100%|██████████| 8/8 [00:00<00:00, 250.90 passes/s]\n",
      "Translating MIL ==> NeuralNetwork Ops: 100%|██████████| 54/54 [00:00<00:00, 1579.92 ops/s]\n"
     ]
    },
    {
     "name": "stdout",
     "output_type": "stream",
     "text": [
      "converting for batch:  19\n",
      "\n",
      "*********\n",
      "\n",
      "\n"
     ]
    },
    {
     "name": "stderr",
     "output_type": "stream",
     "text": [
      "Running TensorFlow Graph Passes: 100%|██████████| 5/5 [00:00<00:00, 27.89 passes/s]\n",
      "Converting Frontend ==> MIL Ops: 100%|██████████| 31/31 [00:00<00:00, 589.78 ops/s]\n",
      "Running MIL Common passes: 100%|██████████| 33/33 [00:00<00:00, 565.43 passes/s]\n",
      "Running MIL Clean up passes: 100%|██████████| 8/8 [00:00<00:00, 275.38 passes/s]\n",
      "Translating MIL ==> NeuralNetwork Ops: 100%|██████████| 54/54 [00:00<00:00, 1597.30 ops/s]\n"
     ]
    },
    {
     "name": "stdout",
     "output_type": "stream",
     "text": [
      "converting for batch:  20\n",
      "\n",
      "*********\n",
      "\n",
      "\n"
     ]
    },
    {
     "name": "stderr",
     "output_type": "stream",
     "text": [
      "Running TensorFlow Graph Passes: 100%|██████████| 5/5 [00:00<00:00, 28.02 passes/s]\n",
      "Converting Frontend ==> MIL Ops: 100%|██████████| 31/31 [00:00<00:00, 527.63 ops/s]\n",
      "Running MIL Common passes: 100%|██████████| 33/33 [00:00<00:00, 602.73 passes/s]\n",
      "Running MIL Clean up passes: 100%|██████████| 8/8 [00:00<00:00, 307.26 passes/s]\n",
      "Translating MIL ==> NeuralNetwork Ops: 100%|██████████| 54/54 [00:00<00:00, 1512.56 ops/s]\n"
     ]
    },
    {
     "name": "stdout",
     "output_type": "stream",
     "text": [
      "Conversion complete in 0m 30s\n",
      "################ Batch size:  60\n",
      "converting for batch:  0\n",
      "\n",
      "*********\n",
      "\n",
      "\n"
     ]
    },
    {
     "name": "stderr",
     "output_type": "stream",
     "text": [
      "Running TensorFlow Graph Passes: 100%|██████████| 5/5 [00:00<00:00, 27.74 passes/s]\n",
      "Converting Frontend ==> MIL Ops: 100%|██████████| 31/31 [00:00<00:00, 492.51 ops/s]\n",
      "Running MIL Common passes: 100%|██████████| 33/33 [00:00<00:00, 596.95 passes/s]\n",
      "Running MIL Clean up passes: 100%|██████████| 8/8 [00:00<00:00, 324.15 passes/s]\n",
      "Translating MIL ==> NeuralNetwork Ops: 100%|██████████| 54/54 [00:00<00:00, 1746.56 ops/s]\n"
     ]
    },
    {
     "name": "stdout",
     "output_type": "stream",
     "text": [
      "converting for batch:  1\n",
      "\n",
      "*********\n",
      "\n",
      "\n"
     ]
    },
    {
     "name": "stderr",
     "output_type": "stream",
     "text": [
      "Running TensorFlow Graph Passes: 100%|██████████| 5/5 [00:00<00:00, 26.86 passes/s]\n",
      "Converting Frontend ==> MIL Ops: 100%|██████████| 31/31 [00:00<00:00, 521.32 ops/s]\n",
      "Running MIL Common passes: 100%|██████████| 33/33 [00:00<00:00, 553.96 passes/s]\n",
      "Running MIL Clean up passes: 100%|██████████| 8/8 [00:00<00:00, 268.75 passes/s]\n",
      "Translating MIL ==> NeuralNetwork Ops: 100%|██████████| 54/54 [00:00<00:00, 1526.98 ops/s]\n"
     ]
    },
    {
     "name": "stdout",
     "output_type": "stream",
     "text": [
      "converting for batch:  2\n",
      "\n",
      "*********\n",
      "\n",
      "\n"
     ]
    },
    {
     "name": "stderr",
     "output_type": "stream",
     "text": [
      "Running TensorFlow Graph Passes: 100%|██████████| 5/5 [00:00<00:00, 25.31 passes/s]\n",
      "Converting Frontend ==> MIL Ops: 100%|██████████| 31/31 [00:00<00:00, 367.51 ops/s]\n",
      "Running MIL Common passes: 100%|██████████| 33/33 [00:00<00:00, 529.82 passes/s]\n",
      "Running MIL Clean up passes: 100%|██████████| 8/8 [00:00<00:00, 156.79 passes/s]\n",
      "Translating MIL ==> NeuralNetwork Ops: 100%|██████████| 54/54 [00:00<00:00, 795.12 ops/s]\n"
     ]
    },
    {
     "name": "stdout",
     "output_type": "stream",
     "text": [
      "converting for batch:  3\n",
      "\n",
      "*********\n",
      "\n",
      "\n"
     ]
    },
    {
     "name": "stderr",
     "output_type": "stream",
     "text": [
      "Running TensorFlow Graph Passes: 100%|██████████| 5/5 [00:00<00:00, 26.40 passes/s]\n",
      "Converting Frontend ==> MIL Ops: 100%|██████████| 31/31 [00:00<00:00, 292.12 ops/s]\n",
      "Running MIL Common passes: 100%|██████████| 33/33 [00:00<00:00, 559.73 passes/s]\n",
      "Running MIL Clean up passes: 100%|██████████| 8/8 [00:00<00:00, 284.83 passes/s]\n",
      "Translating MIL ==> NeuralNetwork Ops: 100%|██████████| 54/54 [00:00<00:00, 1588.23 ops/s]\n"
     ]
    },
    {
     "name": "stdout",
     "output_type": "stream",
     "text": [
      "converting for batch:  4\n",
      "\n",
      "*********\n",
      "\n",
      "\n"
     ]
    },
    {
     "name": "stderr",
     "output_type": "stream",
     "text": [
      "Running TensorFlow Graph Passes: 100%|██████████| 5/5 [00:00<00:00, 23.79 passes/s]\n",
      "Converting Frontend ==> MIL Ops: 100%|██████████| 31/31 [00:00<00:00, 488.86 ops/s]\n",
      "Running MIL Common passes: 100%|██████████| 33/33 [00:00<00:00, 159.27 passes/s]\n",
      "Running MIL Clean up passes: 100%|██████████| 8/8 [00:00<00:00, 102.30 passes/s]\n",
      "Translating MIL ==> NeuralNetwork Ops: 100%|██████████| 54/54 [00:00<00:00, 888.68 ops/s]\n"
     ]
    },
    {
     "name": "stdout",
     "output_type": "stream",
     "text": [
      "converting for batch:  5\n",
      "\n",
      "*********\n",
      "\n",
      "\n"
     ]
    },
    {
     "name": "stderr",
     "output_type": "stream",
     "text": [
      "Running TensorFlow Graph Passes: 100%|██████████| 5/5 [00:00<00:00, 26.56 passes/s]\n",
      "Converting Frontend ==> MIL Ops: 100%|██████████| 31/31 [00:00<00:00, 573.74 ops/s]\n",
      "Running MIL Common passes: 100%|██████████| 33/33 [00:00<00:00, 577.05 passes/s]\n",
      "Running MIL Clean up passes: 100%|██████████| 8/8 [00:00<00:00, 198.05 passes/s]\n",
      "Translating MIL ==> NeuralNetwork Ops: 100%|██████████| 54/54 [00:00<00:00, 1048.52 ops/s]\n"
     ]
    },
    {
     "name": "stdout",
     "output_type": "stream",
     "text": [
      "converting for batch:  6\n",
      "\n",
      "*********\n",
      "\n",
      "\n"
     ]
    },
    {
     "name": "stderr",
     "output_type": "stream",
     "text": [
      "Running TensorFlow Graph Passes: 100%|██████████| 5/5 [00:00<00:00, 20.69 passes/s]\n",
      "Converting Frontend ==> MIL Ops: 100%|██████████| 31/31 [00:00<00:00, 349.94 ops/s]\n",
      "Running MIL Common passes: 100%|██████████| 33/33 [00:00<00:00, 358.67 passes/s]\n",
      "Running MIL Clean up passes: 100%|██████████| 8/8 [00:00<00:00, 213.69 passes/s]\n",
      "Translating MIL ==> NeuralNetwork Ops: 100%|██████████| 54/54 [00:00<00:00, 1382.55 ops/s]\n"
     ]
    },
    {
     "name": "stdout",
     "output_type": "stream",
     "text": [
      "converting for batch:  7\n",
      "\n",
      "*********\n",
      "\n",
      "\n"
     ]
    },
    {
     "name": "stderr",
     "output_type": "stream",
     "text": [
      "Running TensorFlow Graph Passes: 100%|██████████| 5/5 [00:00<00:00, 20.00 passes/s]\n",
      "Converting Frontend ==> MIL Ops: 100%|██████████| 31/31 [00:00<00:00, 512.85 ops/s]\n",
      "Running MIL Common passes: 100%|██████████| 33/33 [00:00<00:00, 386.63 passes/s]\n",
      "Running MIL Clean up passes: 100%|██████████| 8/8 [00:00<00:00, 110.41 passes/s]\n",
      "Translating MIL ==> NeuralNetwork Ops: 100%|██████████| 54/54 [00:00<00:00, 1100.31 ops/s]\n"
     ]
    },
    {
     "name": "stdout",
     "output_type": "stream",
     "text": [
      "converting for batch:  8\n",
      "\n",
      "*********\n",
      "\n",
      "\n"
     ]
    },
    {
     "name": "stderr",
     "output_type": "stream",
     "text": [
      "Running TensorFlow Graph Passes: 100%|██████████| 5/5 [00:00<00:00, 23.28 passes/s]\n",
      "Converting Frontend ==> MIL Ops: 100%|██████████| 31/31 [00:00<00:00, 390.12 ops/s]\n",
      "Running MIL Common passes: 100%|██████████| 33/33 [00:00<00:00, 238.44 passes/s]\n",
      "Running MIL Clean up passes: 100%|██████████| 8/8 [00:00<00:00, 195.77 passes/s]\n",
      "Translating MIL ==> NeuralNetwork Ops: 100%|██████████| 54/54 [00:00<00:00, 1032.90 ops/s]\n"
     ]
    },
    {
     "name": "stdout",
     "output_type": "stream",
     "text": [
      "converting for batch:  9\n",
      "\n",
      "*********\n",
      "\n",
      "\n"
     ]
    },
    {
     "name": "stderr",
     "output_type": "stream",
     "text": [
      "Running TensorFlow Graph Passes: 100%|██████████| 5/5 [00:00<00:00, 24.41 passes/s]\n",
      "Converting Frontend ==> MIL Ops: 100%|██████████| 31/31 [00:00<00:00, 574.02 ops/s]\n",
      "Running MIL Common passes: 100%|██████████| 33/33 [00:00<00:00, 522.99 passes/s]\n",
      "Running MIL Clean up passes: 100%|██████████| 8/8 [00:00<00:00, 152.80 passes/s]\n",
      "Translating MIL ==> NeuralNetwork Ops: 100%|██████████| 54/54 [00:00<00:00, 1287.53 ops/s]\n"
     ]
    },
    {
     "name": "stdout",
     "output_type": "stream",
     "text": [
      "converting for batch:  10\n",
      "\n",
      "*********\n",
      "\n",
      "\n"
     ]
    },
    {
     "name": "stderr",
     "output_type": "stream",
     "text": [
      "Running TensorFlow Graph Passes: 100%|██████████| 5/5 [00:00<00:00, 27.61 passes/s]\n",
      "Converting Frontend ==> MIL Ops: 100%|██████████| 31/31 [00:00<00:00, 393.49 ops/s]\n",
      "Running MIL Common passes: 100%|██████████| 33/33 [00:00<00:00, 453.86 passes/s]\n",
      "Running MIL Clean up passes: 100%|██████████| 8/8 [00:00<00:00, 185.24 passes/s]\n",
      "Translating MIL ==> NeuralNetwork Ops: 100%|██████████| 54/54 [00:00<00:00, 1115.79 ops/s]\n"
     ]
    },
    {
     "name": "stdout",
     "output_type": "stream",
     "text": [
      "converting for batch:  11\n",
      "\n",
      "*********\n",
      "\n",
      "\n"
     ]
    },
    {
     "name": "stderr",
     "output_type": "stream",
     "text": [
      "Running TensorFlow Graph Passes: 100%|██████████| 5/5 [00:00<00:00, 21.73 passes/s]\n",
      "Converting Frontend ==> MIL Ops: 100%|██████████| 31/31 [00:00<00:00, 318.59 ops/s]\n",
      "Running MIL Common passes: 100%|██████████| 33/33 [00:00<00:00, 511.82 passes/s]\n",
      "Running MIL Clean up passes: 100%|██████████| 8/8 [00:00<00:00, 246.02 passes/s]\n",
      "Translating MIL ==> NeuralNetwork Ops: 100%|██████████| 54/54 [00:00<00:00, 1516.77 ops/s]\n"
     ]
    },
    {
     "name": "stdout",
     "output_type": "stream",
     "text": [
      "converting for batch:  12\n",
      "\n",
      "*********\n",
      "\n",
      "\n"
     ]
    },
    {
     "name": "stderr",
     "output_type": "stream",
     "text": [
      "Running TensorFlow Graph Passes: 100%|██████████| 5/5 [00:00<00:00, 18.63 passes/s]\n",
      "Converting Frontend ==> MIL Ops: 100%|██████████| 31/31 [00:00<00:00, 475.67 ops/s]\n",
      "Running MIL Common passes: 100%|██████████| 33/33 [00:00<00:00, 219.30 passes/s]\n",
      "Running MIL Clean up passes: 100%|██████████| 8/8 [00:00<00:00, 115.57 passes/s]\n",
      "Translating MIL ==> NeuralNetwork Ops: 100%|██████████| 54/54 [00:00<00:00, 810.35 ops/s]\n"
     ]
    },
    {
     "name": "stdout",
     "output_type": "stream",
     "text": [
      "converting for batch:  13\n",
      "\n",
      "*********\n",
      "\n",
      "\n"
     ]
    },
    {
     "name": "stderr",
     "output_type": "stream",
     "text": [
      "Running TensorFlow Graph Passes: 100%|██████████| 5/5 [00:00<00:00, 27.63 passes/s]\n",
      "Converting Frontend ==> MIL Ops: 100%|██████████| 31/31 [00:00<00:00, 529.14 ops/s]\n",
      "Running MIL Common passes: 100%|██████████| 33/33 [00:00<00:00, 613.17 passes/s]\n",
      "Running MIL Clean up passes: 100%|██████████| 8/8 [00:00<00:00, 268.69 passes/s]\n",
      "Translating MIL ==> NeuralNetwork Ops: 100%|██████████| 54/54 [00:00<00:00, 1485.02 ops/s]\n"
     ]
    },
    {
     "name": "stdout",
     "output_type": "stream",
     "text": [
      "converting for batch:  14\n",
      "\n",
      "*********\n",
      "\n",
      "\n"
     ]
    },
    {
     "name": "stderr",
     "output_type": "stream",
     "text": [
      "Running TensorFlow Graph Passes: 100%|██████████| 5/5 [00:00<00:00, 27.01 passes/s]\n",
      "Converting Frontend ==> MIL Ops: 100%|██████████| 31/31 [00:00<00:00, 532.20 ops/s]\n",
      "Running MIL Common passes: 100%|██████████| 33/33 [00:00<00:00, 614.74 passes/s]\n",
      "Running MIL Clean up passes: 100%|██████████| 8/8 [00:00<00:00, 213.64 passes/s]\n",
      "Translating MIL ==> NeuralNetwork Ops: 100%|██████████| 54/54 [00:00<00:00, 1577.37 ops/s]\n"
     ]
    },
    {
     "name": "stdout",
     "output_type": "stream",
     "text": [
      "converting for batch:  15\n",
      "\n",
      "*********\n",
      "\n",
      "\n"
     ]
    },
    {
     "name": "stderr",
     "output_type": "stream",
     "text": [
      "Running TensorFlow Graph Passes: 100%|██████████| 5/5 [00:00<00:00, 27.54 passes/s]\n",
      "Converting Frontend ==> MIL Ops: 100%|██████████| 31/31 [00:00<00:00, 494.47 ops/s]\n",
      "Running MIL Common passes: 100%|██████████| 33/33 [00:00<00:00, 578.17 passes/s]\n",
      "Running MIL Clean up passes: 100%|██████████| 8/8 [00:00<00:00, 254.39 passes/s]\n",
      "Translating MIL ==> NeuralNetwork Ops: 100%|██████████| 54/54 [00:00<00:00, 1454.10 ops/s]\n"
     ]
    },
    {
     "name": "stdout",
     "output_type": "stream",
     "text": [
      "converting for batch:  16\n",
      "\n",
      "*********\n",
      "\n",
      "\n"
     ]
    },
    {
     "name": "stderr",
     "output_type": "stream",
     "text": [
      "Running TensorFlow Graph Passes: 100%|██████████| 5/5 [00:00<00:00, 27.31 passes/s]\n",
      "Converting Frontend ==> MIL Ops: 100%|██████████| 31/31 [00:00<00:00, 537.92 ops/s]\n",
      "Running MIL Common passes: 100%|██████████| 33/33 [00:00<00:00, 607.61 passes/s]\n",
      "Running MIL Clean up passes: 100%|██████████| 8/8 [00:00<00:00, 329.45 passes/s]\n",
      "Translating MIL ==> NeuralNetwork Ops: 100%|██████████| 54/54 [00:00<00:00, 1608.86 ops/s]\n"
     ]
    },
    {
     "name": "stdout",
     "output_type": "stream",
     "text": [
      "converting for batch:  17\n",
      "\n",
      "*********\n",
      "\n",
      "\n"
     ]
    },
    {
     "name": "stderr",
     "output_type": "stream",
     "text": [
      "Running TensorFlow Graph Passes: 100%|██████████| 5/5 [00:00<00:00, 27.00 passes/s]\n",
      "Converting Frontend ==> MIL Ops: 100%|██████████| 31/31 [00:00<00:00, 396.17 ops/s]\n",
      "Running MIL Common passes: 100%|██████████| 33/33 [00:00<00:00, 569.52 passes/s]\n",
      "Running MIL Clean up passes: 100%|██████████| 8/8 [00:00<00:00, 292.94 passes/s]\n",
      "Translating MIL ==> NeuralNetwork Ops: 100%|██████████| 54/54 [00:00<00:00, 1841.42 ops/s]\n"
     ]
    },
    {
     "name": "stdout",
     "output_type": "stream",
     "text": [
      "converting for batch:  18\n",
      "\n",
      "*********\n",
      "\n",
      "\n"
     ]
    },
    {
     "name": "stderr",
     "output_type": "stream",
     "text": [
      "Running TensorFlow Graph Passes: 100%|██████████| 5/5 [00:00<00:00, 26.81 passes/s]\n",
      "Converting Frontend ==> MIL Ops: 100%|██████████| 31/31 [00:00<00:00, 607.50 ops/s]\n",
      "Running MIL Common passes: 100%|██████████| 33/33 [00:00<00:00, 545.62 passes/s]\n",
      "Running MIL Clean up passes: 100%|██████████| 8/8 [00:00<00:00, 282.74 passes/s]\n",
      "Translating MIL ==> NeuralNetwork Ops: 100%|██████████| 54/54 [00:00<00:00, 1581.41 ops/s]\n"
     ]
    },
    {
     "name": "stdout",
     "output_type": "stream",
     "text": [
      "converting for batch:  19\n",
      "\n",
      "*********\n",
      "\n",
      "\n"
     ]
    },
    {
     "name": "stderr",
     "output_type": "stream",
     "text": [
      "Running TensorFlow Graph Passes: 100%|██████████| 5/5 [00:00<00:00, 28.43 passes/s]\n",
      "Converting Frontend ==> MIL Ops: 100%|██████████| 31/31 [00:00<00:00, 380.47 ops/s]\n",
      "Running MIL Common passes: 100%|██████████| 33/33 [00:00<00:00, 484.92 passes/s]\n",
      "Running MIL Clean up passes: 100%|██████████| 8/8 [00:00<00:00, 197.66 passes/s]\n",
      "Translating MIL ==> NeuralNetwork Ops: 100%|██████████| 54/54 [00:00<00:00, 1026.48 ops/s]\n"
     ]
    },
    {
     "name": "stdout",
     "output_type": "stream",
     "text": [
      "converting for batch:  20\n",
      "\n",
      "*********\n",
      "\n",
      "\n"
     ]
    },
    {
     "name": "stderr",
     "output_type": "stream",
     "text": [
      "Running TensorFlow Graph Passes: 100%|██████████| 5/5 [00:00<00:00, 22.67 passes/s]\n",
      "Converting Frontend ==> MIL Ops: 100%|██████████| 31/31 [00:00<00:00, 383.12 ops/s]\n",
      "Running MIL Common passes: 100%|██████████| 33/33 [00:00<00:00, 379.61 passes/s]\n",
      "Running MIL Clean up passes: 100%|██████████| 8/8 [00:00<00:00, 237.11 passes/s]\n",
      "Translating MIL ==> NeuralNetwork Ops: 100%|██████████| 54/54 [00:00<00:00, 1659.35 ops/s]\n"
     ]
    },
    {
     "name": "stdout",
     "output_type": "stream",
     "text": [
      "Conversion complete in 0m 37s\n",
      "################ Batch size:  70\n",
      "converting for batch:  0\n",
      "\n",
      "*********\n",
      "\n",
      "\n"
     ]
    },
    {
     "name": "stderr",
     "output_type": "stream",
     "text": [
      "Running TensorFlow Graph Passes: 100%|██████████| 5/5 [00:00<00:00, 25.20 passes/s]\n",
      "Converting Frontend ==> MIL Ops: 100%|██████████| 31/31 [00:00<00:00, 245.21 ops/s]\n",
      "Running MIL Common passes: 100%|██████████| 33/33 [00:00<00:00, 402.12 passes/s]\n",
      "Running MIL Clean up passes: 100%|██████████| 8/8 [00:00<00:00, 150.76 passes/s]\n",
      "Translating MIL ==> NeuralNetwork Ops: 100%|██████████| 54/54 [00:00<00:00, 1345.12 ops/s]\n"
     ]
    },
    {
     "name": "stdout",
     "output_type": "stream",
     "text": [
      "converting for batch:  1\n",
      "\n",
      "*********\n",
      "\n",
      "\n"
     ]
    },
    {
     "name": "stderr",
     "output_type": "stream",
     "text": [
      "Running TensorFlow Graph Passes: 100%|██████████| 5/5 [00:00<00:00, 23.62 passes/s]\n",
      "Converting Frontend ==> MIL Ops: 100%|██████████| 31/31 [00:00<00:00, 488.89 ops/s]\n",
      "Running MIL Common passes: 100%|██████████| 33/33 [00:00<00:00, 354.25 passes/s]\n",
      "Running MIL Clean up passes: 100%|██████████| 8/8 [00:00<00:00, 269.62 passes/s]\n",
      "Translating MIL ==> NeuralNetwork Ops: 100%|██████████| 54/54 [00:00<00:00, 1245.93 ops/s]\n"
     ]
    },
    {
     "name": "stdout",
     "output_type": "stream",
     "text": [
      "converting for batch:  2\n",
      "\n",
      "*********\n",
      "\n",
      "\n"
     ]
    },
    {
     "name": "stderr",
     "output_type": "stream",
     "text": [
      "Running TensorFlow Graph Passes: 100%|██████████| 5/5 [00:00<00:00, 23.60 passes/s]\n",
      "Converting Frontend ==> MIL Ops: 100%|██████████| 31/31 [00:00<00:00, 463.09 ops/s]\n",
      "Running MIL Common passes: 100%|██████████| 33/33 [00:00<00:00, 542.98 passes/s]\n",
      "Running MIL Clean up passes: 100%|██████████| 8/8 [00:00<00:00, 180.68 passes/s]\n",
      "Translating MIL ==> NeuralNetwork Ops: 100%|██████████| 54/54 [00:00<00:00, 1319.33 ops/s]\n"
     ]
    },
    {
     "name": "stdout",
     "output_type": "stream",
     "text": [
      "converting for batch:  3\n",
      "\n",
      "*********\n",
      "\n",
      "\n"
     ]
    },
    {
     "name": "stderr",
     "output_type": "stream",
     "text": [
      "Running TensorFlow Graph Passes: 100%|██████████| 5/5 [00:00<00:00, 26.75 passes/s]\n",
      "Converting Frontend ==> MIL Ops: 100%|██████████| 31/31 [00:00<00:00, 534.92 ops/s]\n",
      "Running MIL Common passes: 100%|██████████| 33/33 [00:00<00:00, 564.01 passes/s]\n",
      "Running MIL Clean up passes: 100%|██████████| 8/8 [00:00<00:00, 249.50 passes/s]\n",
      "Translating MIL ==> NeuralNetwork Ops: 100%|██████████| 54/54 [00:00<00:00, 1317.04 ops/s]\n"
     ]
    },
    {
     "name": "stdout",
     "output_type": "stream",
     "text": [
      "converting for batch:  4\n",
      "\n",
      "*********\n",
      "\n",
      "\n"
     ]
    },
    {
     "name": "stderr",
     "output_type": "stream",
     "text": [
      "Running TensorFlow Graph Passes: 100%|██████████| 5/5 [00:00<00:00, 23.49 passes/s]\n",
      "Converting Frontend ==> MIL Ops: 100%|██████████| 31/31 [00:00<00:00, 445.09 ops/s]\n",
      "Running MIL Common passes: 100%|██████████| 33/33 [00:00<00:00, 578.72 passes/s]\n",
      "Running MIL Clean up passes: 100%|██████████| 8/8 [00:00<00:00, 265.35 passes/s]\n",
      "Translating MIL ==> NeuralNetwork Ops: 100%|██████████| 54/54 [00:00<00:00, 1779.30 ops/s]\n"
     ]
    },
    {
     "name": "stdout",
     "output_type": "stream",
     "text": [
      "converting for batch:  5\n",
      "\n",
      "*********\n",
      "\n",
      "\n"
     ]
    },
    {
     "name": "stderr",
     "output_type": "stream",
     "text": [
      "Running TensorFlow Graph Passes: 100%|██████████| 5/5 [00:00<00:00, 21.96 passes/s]\n",
      "Converting Frontend ==> MIL Ops: 100%|██████████| 31/31 [00:00<00:00, 282.27 ops/s]\n",
      "Running MIL Common passes: 100%|██████████| 33/33 [00:00<00:00, 454.67 passes/s]\n",
      "Running MIL Clean up passes: 100%|██████████| 8/8 [00:00<00:00, 157.58 passes/s]\n",
      "Translating MIL ==> NeuralNetwork Ops: 100%|██████████| 54/54 [00:00<00:00, 1264.37 ops/s]\n"
     ]
    },
    {
     "name": "stdout",
     "output_type": "stream",
     "text": [
      "converting for batch:  6\n",
      "\n",
      "*********\n",
      "\n",
      "\n"
     ]
    },
    {
     "name": "stderr",
     "output_type": "stream",
     "text": [
      "Running TensorFlow Graph Passes: 100%|██████████| 5/5 [00:00<00:00, 25.21 passes/s]\n",
      "Converting Frontend ==> MIL Ops: 100%|██████████| 31/31 [00:00<00:00, 488.31 ops/s]\n",
      "Running MIL Common passes: 100%|██████████| 33/33 [00:00<00:00, 490.80 passes/s]\n",
      "Running MIL Clean up passes: 100%|██████████| 8/8 [00:00<00:00, 189.41 passes/s]\n",
      "Translating MIL ==> NeuralNetwork Ops: 100%|██████████| 54/54 [00:00<00:00, 919.12 ops/s]\n"
     ]
    },
    {
     "name": "stdout",
     "output_type": "stream",
     "text": [
      "converting for batch:  7\n",
      "\n",
      "*********\n",
      "\n",
      "\n"
     ]
    },
    {
     "name": "stderr",
     "output_type": "stream",
     "text": [
      "Running TensorFlow Graph Passes: 100%|██████████| 5/5 [00:00<00:00, 21.17 passes/s]\n",
      "Converting Frontend ==> MIL Ops: 100%|██████████| 31/31 [00:00<00:00, 597.76 ops/s]\n",
      "Running MIL Common passes: 100%|██████████| 33/33 [00:00<00:00, 444.64 passes/s]\n",
      "Running MIL Clean up passes: 100%|██████████| 8/8 [00:00<00:00, 273.05 passes/s]\n",
      "Translating MIL ==> NeuralNetwork Ops: 100%|██████████| 54/54 [00:00<00:00, 1525.77 ops/s]\n"
     ]
    },
    {
     "name": "stdout",
     "output_type": "stream",
     "text": [
      "converting for batch:  8\n",
      "\n",
      "*********\n",
      "\n",
      "\n"
     ]
    },
    {
     "name": "stderr",
     "output_type": "stream",
     "text": [
      "Running TensorFlow Graph Passes: 100%|██████████| 5/5 [00:00<00:00, 26.28 passes/s]\n",
      "Converting Frontend ==> MIL Ops: 100%|██████████| 31/31 [00:00<00:00, 584.56 ops/s]\n",
      "Running MIL Common passes: 100%|██████████| 33/33 [00:00<00:00, 562.94 passes/s]\n",
      "Running MIL Clean up passes: 100%|██████████| 8/8 [00:00<00:00, 224.05 passes/s]\n",
      "Translating MIL ==> NeuralNetwork Ops: 100%|██████████| 54/54 [00:00<00:00, 1822.98 ops/s]\n"
     ]
    },
    {
     "name": "stdout",
     "output_type": "stream",
     "text": [
      "converting for batch:  9\n",
      "\n",
      "*********\n",
      "\n",
      "\n"
     ]
    },
    {
     "name": "stderr",
     "output_type": "stream",
     "text": [
      "Running TensorFlow Graph Passes: 100%|██████████| 5/5 [00:00<00:00, 20.93 passes/s]\n",
      "Converting Frontend ==> MIL Ops: 100%|██████████| 31/31 [00:00<00:00, 266.32 ops/s]\n",
      "Running MIL Common passes: 100%|██████████| 33/33 [00:00<00:00, 465.70 passes/s]\n",
      "Running MIL Clean up passes: 100%|██████████| 8/8 [00:00<00:00, 177.36 passes/s]\n",
      "Translating MIL ==> NeuralNetwork Ops: 100%|██████████| 54/54 [00:00<00:00, 667.14 ops/s]\n"
     ]
    },
    {
     "name": "stdout",
     "output_type": "stream",
     "text": [
      "converting for batch:  10\n",
      "\n",
      "*********\n",
      "\n",
      "\n"
     ]
    },
    {
     "name": "stderr",
     "output_type": "stream",
     "text": [
      "Running TensorFlow Graph Passes: 100%|██████████| 5/5 [00:00<00:00, 25.90 passes/s]\n",
      "Converting Frontend ==> MIL Ops: 100%|██████████| 31/31 [00:00<00:00, 521.43 ops/s]\n",
      "Running MIL Common passes: 100%|██████████| 33/33 [00:00<00:00, 558.25 passes/s]\n",
      "Running MIL Clean up passes: 100%|██████████| 8/8 [00:00<00:00, 264.57 passes/s]\n",
      "Translating MIL ==> NeuralNetwork Ops: 100%|██████████| 54/54 [00:00<00:00, 1292.39 ops/s]\n"
     ]
    },
    {
     "name": "stdout",
     "output_type": "stream",
     "text": [
      "converting for batch:  11\n",
      "\n",
      "*********\n",
      "\n",
      "\n"
     ]
    },
    {
     "name": "stderr",
     "output_type": "stream",
     "text": [
      "Running TensorFlow Graph Passes: 100%|██████████| 5/5 [00:00<00:00, 26.26 passes/s]\n",
      "Converting Frontend ==> MIL Ops: 100%|██████████| 31/31 [00:00<00:00, 708.28 ops/s]\n",
      "Running MIL Common passes: 100%|██████████| 33/33 [00:00<00:00, 337.58 passes/s]\n",
      "Running MIL Clean up passes: 100%|██████████| 8/8 [00:00<00:00, 291.14 passes/s]\n",
      "Translating MIL ==> NeuralNetwork Ops: 100%|██████████| 54/54 [00:00<00:00, 1853.94 ops/s]\n"
     ]
    },
    {
     "name": "stdout",
     "output_type": "stream",
     "text": [
      "converting for batch:  12\n",
      "\n",
      "*********\n",
      "\n",
      "\n"
     ]
    },
    {
     "name": "stderr",
     "output_type": "stream",
     "text": [
      "Running TensorFlow Graph Passes: 100%|██████████| 5/5 [00:00<00:00, 22.03 passes/s]\n",
      "Converting Frontend ==> MIL Ops: 100%|██████████| 31/31 [00:00<00:00, 905.18 ops/s]\n",
      "Running MIL Common passes: 100%|██████████| 33/33 [00:00<00:00, 775.05 passes/s]\n",
      "Running MIL Clean up passes: 100%|██████████| 8/8 [00:00<00:00, 283.60 passes/s]\n",
      "Translating MIL ==> NeuralNetwork Ops: 100%|██████████| 54/54 [00:00<00:00, 1758.44 ops/s]\n"
     ]
    },
    {
     "name": "stdout",
     "output_type": "stream",
     "text": [
      "converting for batch:  13\n",
      "\n",
      "*********\n",
      "\n",
      "\n"
     ]
    },
    {
     "name": "stderr",
     "output_type": "stream",
     "text": [
      "Running TensorFlow Graph Passes: 100%|██████████| 5/5 [00:00<00:00, 25.77 passes/s]\n",
      "Converting Frontend ==> MIL Ops: 100%|██████████| 31/31 [00:00<00:00, 479.94 ops/s]\n",
      "Running MIL Common passes: 100%|██████████| 33/33 [00:00<00:00, 566.60 passes/s]\n",
      "Running MIL Clean up passes: 100%|██████████| 8/8 [00:00<00:00, 256.87 passes/s]\n",
      "Translating MIL ==> NeuralNetwork Ops: 100%|██████████| 54/54 [00:00<00:00, 1819.29 ops/s]\n"
     ]
    },
    {
     "name": "stdout",
     "output_type": "stream",
     "text": [
      "converting for batch:  14\n",
      "\n",
      "*********\n",
      "\n",
      "\n"
     ]
    },
    {
     "name": "stderr",
     "output_type": "stream",
     "text": [
      "Running TensorFlow Graph Passes: 100%|██████████| 5/5 [00:00<00:00, 24.21 passes/s]\n",
      "Converting Frontend ==> MIL Ops: 100%|██████████| 31/31 [00:00<00:00, 612.93 ops/s]\n",
      "Running MIL Common passes: 100%|██████████| 33/33 [00:00<00:00, 474.04 passes/s]\n",
      "Running MIL Clean up passes: 100%|██████████| 8/8 [00:00<00:00, 276.06 passes/s]\n",
      "Translating MIL ==> NeuralNetwork Ops: 100%|██████████| 54/54 [00:00<00:00, 1597.92 ops/s]\n"
     ]
    },
    {
     "name": "stdout",
     "output_type": "stream",
     "text": [
      "converting for batch:  15\n",
      "\n",
      "*********\n",
      "\n",
      "\n"
     ]
    },
    {
     "name": "stderr",
     "output_type": "stream",
     "text": [
      "Running TensorFlow Graph Passes: 100%|██████████| 5/5 [00:00<00:00, 11.79 passes/s]\n",
      "Converting Frontend ==> MIL Ops: 100%|██████████| 31/31 [00:00<00:00, 278.74 ops/s]\n",
      "Running MIL Common passes: 100%|██████████| 33/33 [00:00<00:00, 358.28 passes/s]\n",
      "Running MIL Clean up passes: 100%|██████████| 8/8 [00:00<00:00, 95.08 passes/s]\n",
      "Translating MIL ==> NeuralNetwork Ops: 100%|██████████| 54/54 [00:00<00:00, 738.91 ops/s]\n"
     ]
    },
    {
     "name": "stdout",
     "output_type": "stream",
     "text": [
      "converting for batch:  16\n",
      "\n",
      "*********\n",
      "\n",
      "\n"
     ]
    },
    {
     "name": "stderr",
     "output_type": "stream",
     "text": [
      "Running TensorFlow Graph Passes: 100%|██████████| 5/5 [00:00<00:00, 24.40 passes/s]\n",
      "Converting Frontend ==> MIL Ops: 100%|██████████| 31/31 [00:00<00:00, 468.68 ops/s]\n",
      "Running MIL Common passes: 100%|██████████| 33/33 [00:00<00:00, 615.71 passes/s]\n",
      "Running MIL Clean up passes: 100%|██████████| 8/8 [00:00<00:00, 327.99 passes/s]\n",
      "Translating MIL ==> NeuralNetwork Ops: 100%|██████████| 54/54 [00:00<00:00, 1622.50 ops/s]\n"
     ]
    },
    {
     "name": "stdout",
     "output_type": "stream",
     "text": [
      "converting for batch:  17\n",
      "\n",
      "*********\n",
      "\n",
      "\n"
     ]
    },
    {
     "name": "stderr",
     "output_type": "stream",
     "text": [
      "Running TensorFlow Graph Passes: 100%|██████████| 5/5 [00:00<00:00, 25.63 passes/s]\n",
      "Converting Frontend ==> MIL Ops: 100%|██████████| 31/31 [00:00<00:00, 505.32 ops/s]\n",
      "Running MIL Common passes: 100%|██████████| 33/33 [00:00<00:00, 620.41 passes/s]\n",
      "Running MIL Clean up passes: 100%|██████████| 8/8 [00:00<00:00, 229.60 passes/s]\n",
      "Translating MIL ==> NeuralNetwork Ops: 100%|██████████| 54/54 [00:00<00:00, 1547.46 ops/s]\n"
     ]
    },
    {
     "name": "stdout",
     "output_type": "stream",
     "text": [
      "converting for batch:  18\n",
      "\n",
      "*********\n",
      "\n",
      "\n"
     ]
    },
    {
     "name": "stderr",
     "output_type": "stream",
     "text": [
      "Running TensorFlow Graph Passes: 100%|██████████| 5/5 [00:00<00:00, 25.57 passes/s]\n",
      "Converting Frontend ==> MIL Ops: 100%|██████████| 31/31 [00:00<00:00, 473.36 ops/s]\n",
      "Running MIL Common passes: 100%|██████████| 33/33 [00:00<00:00, 667.35 passes/s]\n",
      "Running MIL Clean up passes: 100%|██████████| 8/8 [00:00<00:00, 273.22 passes/s]\n",
      "Translating MIL ==> NeuralNetwork Ops: 100%|██████████| 54/54 [00:00<00:00, 1437.39 ops/s]\n"
     ]
    },
    {
     "name": "stdout",
     "output_type": "stream",
     "text": [
      "converting for batch:  19\n",
      "\n",
      "*********\n",
      "\n",
      "\n"
     ]
    },
    {
     "name": "stderr",
     "output_type": "stream",
     "text": [
      "Running TensorFlow Graph Passes: 100%|██████████| 5/5 [00:00<00:00, 25.93 passes/s]\n",
      "Converting Frontend ==> MIL Ops: 100%|██████████| 31/31 [00:00<00:00, 525.47 ops/s]\n",
      "Running MIL Common passes: 100%|██████████| 33/33 [00:00<00:00, 592.99 passes/s]\n",
      "Running MIL Clean up passes: 100%|██████████| 8/8 [00:00<00:00, 297.61 passes/s]\n",
      "Translating MIL ==> NeuralNetwork Ops: 100%|██████████| 54/54 [00:00<00:00, 1648.06 ops/s]\n"
     ]
    },
    {
     "name": "stdout",
     "output_type": "stream",
     "text": [
      "converting for batch:  20\n",
      "\n",
      "*********\n",
      "\n",
      "\n"
     ]
    },
    {
     "name": "stderr",
     "output_type": "stream",
     "text": [
      "Running TensorFlow Graph Passes: 100%|██████████| 5/5 [00:00<00:00, 24.75 passes/s]\n",
      "Converting Frontend ==> MIL Ops: 100%|██████████| 31/31 [00:00<00:00, 560.02 ops/s]\n",
      "Running MIL Common passes: 100%|██████████| 33/33 [00:00<00:00, 498.13 passes/s]\n",
      "Running MIL Clean up passes: 100%|██████████| 8/8 [00:00<00:00, 221.57 passes/s]\n",
      "Translating MIL ==> NeuralNetwork Ops: 100%|██████████| 54/54 [00:00<00:00, 1512.52 ops/s]\n"
     ]
    },
    {
     "name": "stdout",
     "output_type": "stream",
     "text": [
      "Conversion complete in 0m 39s\n",
      "################ Batch size:  80\n",
      "converting for batch:  0\n",
      "\n",
      "*********\n",
      "\n",
      "\n"
     ]
    },
    {
     "name": "stderr",
     "output_type": "stream",
     "text": [
      "Running TensorFlow Graph Passes: 100%|██████████| 5/5 [00:00<00:00, 21.93 passes/s]\n",
      "Converting Frontend ==> MIL Ops: 100%|██████████| 31/31 [00:00<00:00, 593.12 ops/s]\n",
      "Running MIL Common passes: 100%|██████████| 33/33 [00:00<00:00, 583.01 passes/s]\n",
      "Running MIL Clean up passes: 100%|██████████| 8/8 [00:00<00:00, 295.71 passes/s]\n",
      "Translating MIL ==> NeuralNetwork Ops: 100%|██████████| 54/54 [00:00<00:00, 1690.61 ops/s]\n"
     ]
    },
    {
     "name": "stdout",
     "output_type": "stream",
     "text": [
      "converting for batch:  1\n",
      "\n",
      "*********\n",
      "\n",
      "\n"
     ]
    },
    {
     "name": "stderr",
     "output_type": "stream",
     "text": [
      "Running TensorFlow Graph Passes: 100%|██████████| 5/5 [00:00<00:00, 26.04 passes/s]\n",
      "Converting Frontend ==> MIL Ops: 100%|██████████| 31/31 [00:00<00:00, 584.85 ops/s]\n",
      "Running MIL Common passes: 100%|██████████| 33/33 [00:00<00:00, 479.67 passes/s]\n",
      "Running MIL Clean up passes: 100%|██████████| 8/8 [00:00<00:00, 225.50 passes/s]\n",
      "Translating MIL ==> NeuralNetwork Ops: 100%|██████████| 54/54 [00:00<00:00, 1726.06 ops/s]\n"
     ]
    },
    {
     "name": "stdout",
     "output_type": "stream",
     "text": [
      "converting for batch:  2\n",
      "\n",
      "*********\n",
      "\n",
      "\n"
     ]
    },
    {
     "name": "stderr",
     "output_type": "stream",
     "text": [
      "Running TensorFlow Graph Passes: 100%|██████████| 5/5 [00:00<00:00, 25.29 passes/s]\n",
      "Converting Frontend ==> MIL Ops: 100%|██████████| 31/31 [00:00<00:00, 477.04 ops/s]\n",
      "Running MIL Common passes: 100%|██████████| 33/33 [00:00<00:00, 615.98 passes/s]\n",
      "Running MIL Clean up passes: 100%|██████████| 8/8 [00:00<00:00, 271.54 passes/s]\n",
      "Translating MIL ==> NeuralNetwork Ops: 100%|██████████| 54/54 [00:00<00:00, 1780.18 ops/s]\n"
     ]
    },
    {
     "name": "stdout",
     "output_type": "stream",
     "text": [
      "converting for batch:  3\n",
      "\n",
      "*********\n",
      "\n",
      "\n"
     ]
    },
    {
     "name": "stderr",
     "output_type": "stream",
     "text": [
      "Running TensorFlow Graph Passes: 100%|██████████| 5/5 [00:00<00:00, 26.18 passes/s]\n",
      "Converting Frontend ==> MIL Ops: 100%|██████████| 31/31 [00:00<00:00, 500.27 ops/s]\n",
      "Running MIL Common passes: 100%|██████████| 33/33 [00:00<00:00, 560.34 passes/s]\n",
      "Running MIL Clean up passes: 100%|██████████| 8/8 [00:00<00:00, 322.55 passes/s]\n",
      "Translating MIL ==> NeuralNetwork Ops: 100%|██████████| 54/54 [00:00<00:00, 1820.88 ops/s]\n"
     ]
    },
    {
     "name": "stdout",
     "output_type": "stream",
     "text": [
      "converting for batch:  4\n",
      "\n",
      "*********\n",
      "\n",
      "\n"
     ]
    },
    {
     "name": "stderr",
     "output_type": "stream",
     "text": [
      "Running TensorFlow Graph Passes: 100%|██████████| 5/5 [00:00<00:00, 25.67 passes/s]\n",
      "Converting Frontend ==> MIL Ops: 100%|██████████| 31/31 [00:00<00:00, 540.60 ops/s]\n",
      "Running MIL Common passes: 100%|██████████| 33/33 [00:00<00:00, 600.66 passes/s]\n",
      "Running MIL Clean up passes: 100%|██████████| 8/8 [00:00<00:00, 261.54 passes/s]\n",
      "Translating MIL ==> NeuralNetwork Ops: 100%|██████████| 54/54 [00:00<00:00, 1613.49 ops/s]\n"
     ]
    },
    {
     "name": "stdout",
     "output_type": "stream",
     "text": [
      "converting for batch:  5\n",
      "\n",
      "*********\n",
      "\n",
      "\n"
     ]
    },
    {
     "name": "stderr",
     "output_type": "stream",
     "text": [
      "Running TensorFlow Graph Passes: 100%|██████████| 5/5 [00:00<00:00, 23.19 passes/s]\n",
      "Converting Frontend ==> MIL Ops: 100%|██████████| 31/31 [00:00<00:00, 390.18 ops/s]\n",
      "Running MIL Common passes: 100%|██████████| 33/33 [00:00<00:00, 338.63 passes/s]\n",
      "Running MIL Clean up passes: 100%|██████████| 8/8 [00:00<00:00, 166.51 passes/s]\n",
      "Translating MIL ==> NeuralNetwork Ops: 100%|██████████| 54/54 [00:00<00:00, 1090.27 ops/s]\n"
     ]
    },
    {
     "name": "stdout",
     "output_type": "stream",
     "text": [
      "converting for batch:  6\n",
      "\n",
      "*********\n",
      "\n",
      "\n"
     ]
    },
    {
     "name": "stderr",
     "output_type": "stream",
     "text": [
      "Running TensorFlow Graph Passes: 100%|██████████| 5/5 [00:00<00:00, 25.77 passes/s]\n",
      "Converting Frontend ==> MIL Ops: 100%|██████████| 31/31 [00:00<00:00, 546.02 ops/s]\n",
      "Running MIL Common passes: 100%|██████████| 33/33 [00:00<00:00, 616.20 passes/s]\n",
      "Running MIL Clean up passes: 100%|██████████| 8/8 [00:00<00:00, 252.97 passes/s]\n",
      "Translating MIL ==> NeuralNetwork Ops: 100%|██████████| 54/54 [00:00<00:00, 1549.81 ops/s]\n"
     ]
    },
    {
     "name": "stdout",
     "output_type": "stream",
     "text": [
      "converting for batch:  7\n",
      "\n",
      "*********\n",
      "\n",
      "\n"
     ]
    },
    {
     "name": "stderr",
     "output_type": "stream",
     "text": [
      "Running TensorFlow Graph Passes: 100%|██████████| 5/5 [00:00<00:00, 25.56 passes/s]\n",
      "Converting Frontend ==> MIL Ops: 100%|██████████| 31/31 [00:00<00:00, 461.52 ops/s]\n",
      "Running MIL Common passes: 100%|██████████| 33/33 [00:00<00:00, 485.25 passes/s]\n",
      "Running MIL Clean up passes: 100%|██████████| 8/8 [00:00<00:00, 199.03 passes/s]\n",
      "Translating MIL ==> NeuralNetwork Ops: 100%|██████████| 54/54 [00:00<00:00, 1052.61 ops/s]\n"
     ]
    },
    {
     "name": "stdout",
     "output_type": "stream",
     "text": [
      "converting for batch:  8\n",
      "\n",
      "*********\n",
      "\n",
      "\n"
     ]
    },
    {
     "name": "stderr",
     "output_type": "stream",
     "text": [
      "Running TensorFlow Graph Passes: 100%|██████████| 5/5 [00:00<00:00, 26.08 passes/s]\n",
      "Converting Frontend ==> MIL Ops: 100%|██████████| 31/31 [00:00<00:00, 560.77 ops/s]\n",
      "Running MIL Common passes: 100%|██████████| 33/33 [00:00<00:00, 560.93 passes/s]\n",
      "Running MIL Clean up passes: 100%|██████████| 8/8 [00:00<00:00, 312.23 passes/s]\n",
      "Translating MIL ==> NeuralNetwork Ops: 100%|██████████| 54/54 [00:00<00:00, 1732.22 ops/s]\n"
     ]
    },
    {
     "name": "stdout",
     "output_type": "stream",
     "text": [
      "converting for batch:  9\n",
      "\n",
      "*********\n",
      "\n",
      "\n"
     ]
    },
    {
     "name": "stderr",
     "output_type": "stream",
     "text": [
      "Running TensorFlow Graph Passes: 100%|██████████| 5/5 [00:00<00:00, 25.94 passes/s]\n",
      "Converting Frontend ==> MIL Ops: 100%|██████████| 31/31 [00:00<00:00, 551.36 ops/s]\n",
      "Running MIL Common passes: 100%|██████████| 33/33 [00:00<00:00, 549.01 passes/s]\n",
      "Running MIL Clean up passes: 100%|██████████| 8/8 [00:00<00:00, 283.72 passes/s]\n",
      "Translating MIL ==> NeuralNetwork Ops: 100%|██████████| 54/54 [00:00<00:00, 1727.12 ops/s]\n"
     ]
    },
    {
     "name": "stdout",
     "output_type": "stream",
     "text": [
      "converting for batch:  10\n",
      "\n",
      "*********\n",
      "\n",
      "\n"
     ]
    },
    {
     "name": "stderr",
     "output_type": "stream",
     "text": [
      "Running TensorFlow Graph Passes: 100%|██████████| 5/5 [00:00<00:00, 26.10 passes/s]\n",
      "Converting Frontend ==> MIL Ops: 100%|██████████| 31/31 [00:00<00:00, 508.75 ops/s]\n",
      "Running MIL Common passes: 100%|██████████| 33/33 [00:00<00:00, 606.19 passes/s]\n",
      "Running MIL Clean up passes: 100%|██████████| 8/8 [00:00<00:00, 158.01 passes/s]\n",
      "Translating MIL ==> NeuralNetwork Ops: 100%|██████████| 54/54 [00:00<00:00, 975.77 ops/s]\n"
     ]
    },
    {
     "name": "stdout",
     "output_type": "stream",
     "text": [
      "converting for batch:  11\n",
      "\n",
      "*********\n",
      "\n",
      "\n"
     ]
    },
    {
     "name": "stderr",
     "output_type": "stream",
     "text": [
      "Running TensorFlow Graph Passes: 100%|██████████| 5/5 [00:00<00:00, 24.35 passes/s]\n",
      "Converting Frontend ==> MIL Ops: 100%|██████████| 31/31 [00:00<00:00, 530.11 ops/s]\n",
      "Running MIL Common passes: 100%|██████████| 33/33 [00:00<00:00, 605.04 passes/s]\n",
      "Running MIL Clean up passes: 100%|██████████| 8/8 [00:00<00:00, 282.49 passes/s]\n",
      "Translating MIL ==> NeuralNetwork Ops: 100%|██████████| 54/54 [00:00<00:00, 1380.82 ops/s]\n"
     ]
    },
    {
     "name": "stdout",
     "output_type": "stream",
     "text": [
      "converting for batch:  12\n",
      "\n",
      "*********\n",
      "\n",
      "\n"
     ]
    },
    {
     "name": "stderr",
     "output_type": "stream",
     "text": [
      "Running TensorFlow Graph Passes: 100%|██████████| 5/5 [00:00<00:00, 21.03 passes/s]\n",
      "Converting Frontend ==> MIL Ops: 100%|██████████| 31/31 [00:00<00:00, 350.14 ops/s]\n",
      "Running MIL Common passes: 100%|██████████| 33/33 [00:00<00:00, 499.58 passes/s]\n",
      "Running MIL Clean up passes: 100%|██████████| 8/8 [00:00<00:00, 163.87 passes/s]\n",
      "Translating MIL ==> NeuralNetwork Ops: 100%|██████████| 54/54 [00:00<00:00, 733.34 ops/s]\n"
     ]
    },
    {
     "name": "stdout",
     "output_type": "stream",
     "text": [
      "converting for batch:  13\n",
      "\n",
      "*********\n",
      "\n",
      "\n"
     ]
    },
    {
     "name": "stderr",
     "output_type": "stream",
     "text": [
      "Running TensorFlow Graph Passes: 100%|██████████| 5/5 [00:00<00:00, 23.59 passes/s]\n",
      "Converting Frontend ==> MIL Ops: 100%|██████████| 31/31 [00:00<00:00, 567.10 ops/s]\n",
      "Running MIL Common passes: 100%|██████████| 33/33 [00:00<00:00, 520.18 passes/s]\n",
      "Running MIL Clean up passes: 100%|██████████| 8/8 [00:00<00:00, 270.68 passes/s]\n",
      "Translating MIL ==> NeuralNetwork Ops: 100%|██████████| 54/54 [00:00<00:00, 1103.01 ops/s]\n"
     ]
    },
    {
     "name": "stdout",
     "output_type": "stream",
     "text": [
      "converting for batch:  14\n",
      "\n",
      "*********\n",
      "\n",
      "\n"
     ]
    },
    {
     "name": "stderr",
     "output_type": "stream",
     "text": [
      "Running TensorFlow Graph Passes: 100%|██████████| 5/5 [00:00<00:00, 21.51 passes/s]\n",
      "Converting Frontend ==> MIL Ops: 100%|██████████| 31/31 [00:00<00:00, 203.00 ops/s]\n",
      "Running MIL Common passes: 100%|██████████| 33/33 [00:00<00:00, 424.92 passes/s]\n",
      "Running MIL Clean up passes: 100%|██████████| 8/8 [00:00<00:00, 273.13 passes/s]\n",
      "Translating MIL ==> NeuralNetwork Ops: 100%|██████████| 54/54 [00:00<00:00, 1122.22 ops/s]\n"
     ]
    },
    {
     "name": "stdout",
     "output_type": "stream",
     "text": [
      "converting for batch:  15\n",
      "\n",
      "*********\n",
      "\n",
      "\n"
     ]
    },
    {
     "name": "stderr",
     "output_type": "stream",
     "text": [
      "Running TensorFlow Graph Passes: 100%|██████████| 5/5 [00:00<00:00, 15.89 passes/s]\n",
      "Converting Frontend ==> MIL Ops: 100%|██████████| 31/31 [00:00<00:00, 399.76 ops/s]\n",
      "Running MIL Common passes: 100%|██████████| 33/33 [00:00<00:00, 360.69 passes/s]\n",
      "Running MIL Clean up passes: 100%|██████████| 8/8 [00:00<00:00, 192.82 passes/s]\n",
      "Translating MIL ==> NeuralNetwork Ops: 100%|██████████| 54/54 [00:00<00:00, 1068.27 ops/s]\n"
     ]
    },
    {
     "name": "stdout",
     "output_type": "stream",
     "text": [
      "converting for batch:  16\n",
      "\n",
      "*********\n",
      "\n",
      "\n"
     ]
    },
    {
     "name": "stderr",
     "output_type": "stream",
     "text": [
      "Running TensorFlow Graph Passes: 100%|██████████| 5/5 [00:00<00:00, 24.09 passes/s]\n",
      "Converting Frontend ==> MIL Ops: 100%|██████████| 31/31 [00:00<00:00, 570.72 ops/s]\n",
      "Running MIL Common passes: 100%|██████████| 33/33 [00:00<00:00, 372.81 passes/s]\n",
      "Running MIL Clean up passes: 100%|██████████| 8/8 [00:00<00:00, 88.03 passes/s]\n",
      "Translating MIL ==> NeuralNetwork Ops: 100%|██████████| 54/54 [00:00<00:00, 790.29 ops/s]\n"
     ]
    },
    {
     "name": "stdout",
     "output_type": "stream",
     "text": [
      "converting for batch:  17\n",
      "\n",
      "*********\n",
      "\n",
      "\n"
     ]
    },
    {
     "name": "stderr",
     "output_type": "stream",
     "text": [
      "Running TensorFlow Graph Passes: 100%|██████████| 5/5 [00:00<00:00, 11.21 passes/s]\n",
      "Converting Frontend ==> MIL Ops: 100%|██████████| 31/31 [00:00<00:00, 408.38 ops/s]\n",
      "Running MIL Common passes: 100%|██████████| 33/33 [00:00<00:00, 361.41 passes/s]\n",
      "Running MIL Clean up passes: 100%|██████████| 8/8 [00:00<00:00, 94.90 passes/s]\n",
      "Translating MIL ==> NeuralNetwork Ops: 100%|██████████| 54/54 [00:00<00:00, 353.25 ops/s]\n"
     ]
    },
    {
     "name": "stdout",
     "output_type": "stream",
     "text": [
      "converting for batch:  18\n",
      "\n",
      "*********\n",
      "\n",
      "\n"
     ]
    },
    {
     "name": "stderr",
     "output_type": "stream",
     "text": [
      "Running TensorFlow Graph Passes: 100%|██████████| 5/5 [00:00<00:00, 10.66 passes/s]\n",
      "Converting Frontend ==> MIL Ops: 100%|██████████| 31/31 [00:00<00:00, 204.15 ops/s]\n",
      "Running MIL Common passes: 100%|██████████| 33/33 [00:00<00:00, 208.12 passes/s]\n",
      "Running MIL Clean up passes: 100%|██████████| 8/8 [00:00<00:00, 55.06 passes/s]\n",
      "Translating MIL ==> NeuralNetwork Ops: 100%|██████████| 54/54 [00:00<00:00, 675.18 ops/s]\n"
     ]
    },
    {
     "name": "stdout",
     "output_type": "stream",
     "text": [
      "converting for batch:  19\n",
      "\n",
      "*********\n",
      "\n",
      "\n"
     ]
    },
    {
     "name": "stderr",
     "output_type": "stream",
     "text": [
      "Running TensorFlow Graph Passes: 100%|██████████| 5/5 [00:00<00:00, 25.33 passes/s]\n",
      "Converting Frontend ==> MIL Ops: 100%|██████████| 31/31 [00:00<00:00, 587.82 ops/s]\n",
      "Running MIL Common passes: 100%|██████████| 33/33 [00:00<00:00, 548.06 passes/s]\n",
      "Running MIL Clean up passes: 100%|██████████| 8/8 [00:00<00:00, 309.65 passes/s]\n",
      "Translating MIL ==> NeuralNetwork Ops: 100%|██████████| 54/54 [00:00<00:00, 1607.24 ops/s]\n"
     ]
    },
    {
     "name": "stdout",
     "output_type": "stream",
     "text": [
      "converting for batch:  20\n",
      "\n",
      "*********\n",
      "\n",
      "\n"
     ]
    },
    {
     "name": "stderr",
     "output_type": "stream",
     "text": [
      "Running TensorFlow Graph Passes: 100%|██████████| 5/5 [00:00<00:00, 26.06 passes/s]\n",
      "Converting Frontend ==> MIL Ops: 100%|██████████| 31/31 [00:00<00:00, 560.56 ops/s]\n",
      "Running MIL Common passes: 100%|██████████| 33/33 [00:00<00:00, 567.84 passes/s]\n",
      "Running MIL Clean up passes: 100%|██████████| 8/8 [00:00<00:00, 312.11 passes/s]\n",
      "Translating MIL ==> NeuralNetwork Ops: 100%|██████████| 54/54 [00:00<00:00, 1809.19 ops/s]\n"
     ]
    },
    {
     "name": "stdout",
     "output_type": "stream",
     "text": [
      "Conversion complete in 0m 39s\n",
      "################ Batch size:  90\n",
      "converting for batch:  0\n",
      "\n",
      "*********\n",
      "\n",
      "\n"
     ]
    },
    {
     "name": "stderr",
     "output_type": "stream",
     "text": [
      "Running TensorFlow Graph Passes: 100%|██████████| 5/5 [00:00<00:00, 25.34 passes/s]\n",
      "Converting Frontend ==> MIL Ops: 100%|██████████| 31/31 [00:00<00:00, 549.13 ops/s]\n",
      "Running MIL Common passes: 100%|██████████| 33/33 [00:00<00:00, 538.78 passes/s]\n",
      "Running MIL Clean up passes: 100%|██████████| 8/8 [00:00<00:00, 299.25 passes/s]\n",
      "Translating MIL ==> NeuralNetwork Ops: 100%|██████████| 54/54 [00:00<00:00, 1457.56 ops/s]\n"
     ]
    },
    {
     "name": "stdout",
     "output_type": "stream",
     "text": [
      "converting for batch:  1\n",
      "\n",
      "*********\n",
      "\n",
      "\n"
     ]
    },
    {
     "name": "stderr",
     "output_type": "stream",
     "text": [
      "Running TensorFlow Graph Passes: 100%|██████████| 5/5 [00:00<00:00, 22.53 passes/s]\n",
      "Converting Frontend ==> MIL Ops: 100%|██████████| 31/31 [00:00<00:00, 439.07 ops/s]\n",
      "Running MIL Common passes: 100%|██████████| 33/33 [00:00<00:00, 565.56 passes/s]\n",
      "Running MIL Clean up passes: 100%|██████████| 8/8 [00:00<00:00, 263.53 passes/s]\n",
      "Translating MIL ==> NeuralNetwork Ops: 100%|██████████| 54/54 [00:00<00:00, 1705.30 ops/s]\n"
     ]
    },
    {
     "name": "stdout",
     "output_type": "stream",
     "text": [
      "converting for batch:  2\n",
      "\n",
      "*********\n",
      "\n",
      "\n"
     ]
    },
    {
     "name": "stderr",
     "output_type": "stream",
     "text": [
      "Running TensorFlow Graph Passes: 100%|██████████| 5/5 [00:00<00:00, 25.31 passes/s]\n",
      "Converting Frontend ==> MIL Ops: 100%|██████████| 31/31 [00:00<00:00, 475.86 ops/s]\n",
      "Running MIL Common passes: 100%|██████████| 33/33 [00:00<00:00, 501.11 passes/s]\n",
      "Running MIL Clean up passes: 100%|██████████| 8/8 [00:00<00:00, 271.66 passes/s]\n",
      "Translating MIL ==> NeuralNetwork Ops: 100%|██████████| 54/54 [00:00<00:00, 1888.73 ops/s]\n"
     ]
    },
    {
     "name": "stdout",
     "output_type": "stream",
     "text": [
      "converting for batch:  3\n",
      "\n",
      "*********\n",
      "\n",
      "\n"
     ]
    },
    {
     "name": "stderr",
     "output_type": "stream",
     "text": [
      "Running TensorFlow Graph Passes: 100%|██████████| 5/5 [00:00<00:00, 25.26 passes/s]\n",
      "Converting Frontend ==> MIL Ops: 100%|██████████| 31/31 [00:00<00:00, 540.54 ops/s]\n",
      "Running MIL Common passes: 100%|██████████| 33/33 [00:00<00:00, 590.84 passes/s]\n",
      "Running MIL Clean up passes: 100%|██████████| 8/8 [00:00<00:00, 262.00 passes/s]\n",
      "Translating MIL ==> NeuralNetwork Ops: 100%|██████████| 54/54 [00:00<00:00, 1611.51 ops/s]\n"
     ]
    },
    {
     "name": "stdout",
     "output_type": "stream",
     "text": [
      "converting for batch:  4\n",
      "\n",
      "*********\n",
      "\n",
      "\n"
     ]
    },
    {
     "name": "stderr",
     "output_type": "stream",
     "text": [
      "Running TensorFlow Graph Passes: 100%|██████████| 5/5 [00:00<00:00, 23.80 passes/s]\n",
      "Converting Frontend ==> MIL Ops: 100%|██████████| 31/31 [00:00<00:00, 220.45 ops/s]\n",
      "Running MIL Common passes: 100%|██████████| 33/33 [00:00<00:00, 487.62 passes/s]\n",
      "Running MIL Clean up passes: 100%|██████████| 8/8 [00:00<00:00, 255.90 passes/s]\n",
      "Translating MIL ==> NeuralNetwork Ops: 100%|██████████| 54/54 [00:00<00:00, 1254.09 ops/s]\n"
     ]
    },
    {
     "name": "stdout",
     "output_type": "stream",
     "text": [
      "converting for batch:  5\n",
      "\n",
      "*********\n",
      "\n",
      "\n"
     ]
    },
    {
     "name": "stderr",
     "output_type": "stream",
     "text": [
      "Running TensorFlow Graph Passes: 100%|██████████| 5/5 [00:00<00:00, 19.41 passes/s]\n",
      "Converting Frontend ==> MIL Ops: 100%|██████████| 31/31 [00:00<00:00, 392.92 ops/s]\n",
      "Running MIL Common passes: 100%|██████████| 33/33 [00:00<00:00, 287.57 passes/s]\n",
      "Running MIL Clean up passes: 100%|██████████| 8/8 [00:00<00:00, 210.55 passes/s]\n",
      "Translating MIL ==> NeuralNetwork Ops: 100%|██████████| 54/54 [00:00<00:00, 1342.24 ops/s]\n"
     ]
    },
    {
     "name": "stdout",
     "output_type": "stream",
     "text": [
      "converting for batch:  6\n",
      "\n",
      "*********\n",
      "\n",
      "\n"
     ]
    },
    {
     "name": "stderr",
     "output_type": "stream",
     "text": [
      "Running TensorFlow Graph Passes: 100%|██████████| 5/5 [00:00<00:00, 26.77 passes/s]\n",
      "Converting Frontend ==> MIL Ops: 100%|██████████| 31/31 [00:00<00:00, 355.73 ops/s]\n",
      "Running MIL Common passes: 100%|██████████| 33/33 [00:00<00:00, 405.37 passes/s]\n",
      "Running MIL Clean up passes: 100%|██████████| 8/8 [00:00<00:00, 151.59 passes/s]\n",
      "Translating MIL ==> NeuralNetwork Ops: 100%|██████████| 54/54 [00:00<00:00, 885.94 ops/s]\n"
     ]
    },
    {
     "name": "stdout",
     "output_type": "stream",
     "text": [
      "converting for batch:  7\n",
      "\n",
      "*********\n",
      "\n",
      "\n"
     ]
    },
    {
     "name": "stderr",
     "output_type": "stream",
     "text": [
      "Running TensorFlow Graph Passes: 100%|██████████| 5/5 [00:00<00:00, 10.82 passes/s]\n",
      "Converting Frontend ==> MIL Ops: 100%|██████████| 31/31 [00:00<00:00, 423.93 ops/s]\n",
      "Running MIL Common passes: 100%|██████████| 33/33 [00:00<00:00, 231.45 passes/s]\n",
      "Running MIL Clean up passes: 100%|██████████| 8/8 [00:00<00:00, 108.67 passes/s]\n",
      "Translating MIL ==> NeuralNetwork Ops: 100%|██████████| 54/54 [00:00<00:00, 923.96 ops/s]\n"
     ]
    },
    {
     "name": "stdout",
     "output_type": "stream",
     "text": [
      "converting for batch:  8\n",
      "\n",
      "*********\n",
      "\n",
      "\n"
     ]
    },
    {
     "name": "stderr",
     "output_type": "stream",
     "text": [
      "Running TensorFlow Graph Passes: 100%|██████████| 5/5 [00:00<00:00, 23.47 passes/s]\n",
      "Converting Frontend ==> MIL Ops: 100%|██████████| 31/31 [00:00<00:00, 386.27 ops/s]\n",
      "Running MIL Common passes: 100%|██████████| 33/33 [00:00<00:00, 375.79 passes/s]\n",
      "Running MIL Clean up passes: 100%|██████████| 8/8 [00:00<00:00, 148.30 passes/s]\n",
      "Translating MIL ==> NeuralNetwork Ops: 100%|██████████| 54/54 [00:00<00:00, 934.22 ops/s]\n"
     ]
    },
    {
     "name": "stdout",
     "output_type": "stream",
     "text": [
      "converting for batch:  9\n",
      "\n",
      "*********\n",
      "\n",
      "\n"
     ]
    },
    {
     "name": "stderr",
     "output_type": "stream",
     "text": [
      "Running TensorFlow Graph Passes: 100%|██████████| 5/5 [00:00<00:00, 22.63 passes/s]\n",
      "Converting Frontend ==> MIL Ops: 100%|██████████| 31/31 [00:00<00:00, 506.33 ops/s]\n",
      "Running MIL Common passes: 100%|██████████| 33/33 [00:00<00:00, 525.73 passes/s]\n",
      "Running MIL Clean up passes: 100%|██████████| 8/8 [00:00<00:00, 284.59 passes/s]\n",
      "Translating MIL ==> NeuralNetwork Ops: 100%|██████████| 54/54 [00:00<00:00, 1460.69 ops/s]\n"
     ]
    },
    {
     "name": "stdout",
     "output_type": "stream",
     "text": [
      "converting for batch:  10\n",
      "\n",
      "*********\n",
      "\n",
      "\n"
     ]
    },
    {
     "name": "stderr",
     "output_type": "stream",
     "text": [
      "Running TensorFlow Graph Passes: 100%|██████████| 5/5 [00:00<00:00, 19.81 passes/s]\n",
      "Converting Frontend ==> MIL Ops: 100%|██████████| 31/31 [00:00<00:00, 362.67 ops/s]\n",
      "Running MIL Common passes: 100%|██████████| 33/33 [00:00<00:00, 284.40 passes/s]\n",
      "Running MIL Clean up passes: 100%|██████████| 8/8 [00:00<00:00, 133.54 passes/s]\n",
      "Translating MIL ==> NeuralNetwork Ops: 100%|██████████| 54/54 [00:00<00:00, 1421.83 ops/s]\n"
     ]
    },
    {
     "name": "stdout",
     "output_type": "stream",
     "text": [
      "converting for batch:  11\n",
      "\n",
      "*********\n",
      "\n",
      "\n"
     ]
    },
    {
     "name": "stderr",
     "output_type": "stream",
     "text": [
      "Running TensorFlow Graph Passes: 100%|██████████| 5/5 [00:00<00:00, 24.61 passes/s]\n",
      "Converting Frontend ==> MIL Ops: 100%|██████████| 31/31 [00:00<00:00, 547.00 ops/s]\n",
      "Running MIL Common passes: 100%|██████████| 33/33 [00:00<00:00, 505.71 passes/s]\n",
      "Running MIL Clean up passes: 100%|██████████| 8/8 [00:00<00:00, 118.12 passes/s]\n",
      "Translating MIL ==> NeuralNetwork Ops: 100%|██████████| 54/54 [00:00<00:00, 1685.49 ops/s]\n"
     ]
    },
    {
     "name": "stdout",
     "output_type": "stream",
     "text": [
      "converting for batch:  12\n",
      "\n",
      "*********\n",
      "\n",
      "\n"
     ]
    },
    {
     "name": "stderr",
     "output_type": "stream",
     "text": [
      "Running TensorFlow Graph Passes: 100%|██████████| 5/5 [00:00<00:00, 23.44 passes/s]\n",
      "Converting Frontend ==> MIL Ops: 100%|██████████| 31/31 [00:00<00:00, 501.72 ops/s]\n",
      "Running MIL Common passes: 100%|██████████| 33/33 [00:00<00:00, 553.36 passes/s]\n",
      "Running MIL Clean up passes: 100%|██████████| 8/8 [00:00<00:00, 287.24 passes/s]\n",
      "Translating MIL ==> NeuralNetwork Ops: 100%|██████████| 54/54 [00:00<00:00, 1684.28 ops/s]\n"
     ]
    },
    {
     "name": "stdout",
     "output_type": "stream",
     "text": [
      "converting for batch:  13\n",
      "\n",
      "*********\n",
      "\n",
      "\n"
     ]
    },
    {
     "name": "stderr",
     "output_type": "stream",
     "text": [
      "Running TensorFlow Graph Passes: 100%|██████████| 5/5 [00:00<00:00, 24.55 passes/s]\n",
      "Converting Frontend ==> MIL Ops: 100%|██████████| 31/31 [00:00<00:00, 564.60 ops/s]\n",
      "Running MIL Common passes: 100%|██████████| 33/33 [00:00<00:00, 534.57 passes/s]\n",
      "Running MIL Clean up passes: 100%|██████████| 8/8 [00:00<00:00, 271.60 passes/s]\n",
      "Translating MIL ==> NeuralNetwork Ops: 100%|██████████| 54/54 [00:00<00:00, 1644.44 ops/s]\n"
     ]
    },
    {
     "name": "stdout",
     "output_type": "stream",
     "text": [
      "converting for batch:  14\n",
      "\n",
      "*********\n",
      "\n",
      "\n"
     ]
    },
    {
     "name": "stderr",
     "output_type": "stream",
     "text": [
      "Running TensorFlow Graph Passes: 100%|██████████| 5/5 [00:00<00:00, 24.45 passes/s]\n",
      "Converting Frontend ==> MIL Ops: 100%|██████████| 31/31 [00:00<00:00, 514.53 ops/s]\n",
      "Running MIL Common passes: 100%|██████████| 33/33 [00:00<00:00, 491.05 passes/s]\n",
      "Running MIL Clean up passes: 100%|██████████| 8/8 [00:00<00:00, 277.16 passes/s]\n",
      "Translating MIL ==> NeuralNetwork Ops: 100%|██████████| 54/54 [00:00<00:00, 1837.17 ops/s]\n"
     ]
    },
    {
     "name": "stdout",
     "output_type": "stream",
     "text": [
      "converting for batch:  15\n",
      "\n",
      "*********\n",
      "\n",
      "\n"
     ]
    },
    {
     "name": "stderr",
     "output_type": "stream",
     "text": [
      "Running TensorFlow Graph Passes: 100%|██████████| 5/5 [00:00<00:00, 24.41 passes/s]\n",
      "Converting Frontend ==> MIL Ops: 100%|██████████| 31/31 [00:00<00:00, 585.46 ops/s]\n",
      "Running MIL Common passes: 100%|██████████| 33/33 [00:00<00:00, 522.09 passes/s]\n",
      "Running MIL Clean up passes: 100%|██████████| 8/8 [00:00<00:00, 243.72 passes/s]\n",
      "Translating MIL ==> NeuralNetwork Ops: 100%|██████████| 54/54 [00:00<00:00, 1831.32 ops/s]\n"
     ]
    },
    {
     "name": "stdout",
     "output_type": "stream",
     "text": [
      "converting for batch:  16\n",
      "\n",
      "*********\n",
      "\n",
      "\n"
     ]
    },
    {
     "name": "stderr",
     "output_type": "stream",
     "text": [
      "Running TensorFlow Graph Passes: 100%|██████████| 5/5 [00:00<00:00, 24.59 passes/s]\n",
      "Converting Frontend ==> MIL Ops: 100%|██████████| 31/31 [00:00<00:00, 495.19 ops/s]\n",
      "Running MIL Common passes: 100%|██████████| 33/33 [00:00<00:00, 449.28 passes/s]\n",
      "Running MIL Clean up passes: 100%|██████████| 8/8 [00:00<00:00, 189.69 passes/s]\n",
      "Translating MIL ==> NeuralNetwork Ops: 100%|██████████| 54/54 [00:00<00:00, 1219.24 ops/s]\n"
     ]
    },
    {
     "name": "stdout",
     "output_type": "stream",
     "text": [
      "converting for batch:  17\n",
      "\n",
      "*********\n",
      "\n",
      "\n"
     ]
    },
    {
     "name": "stderr",
     "output_type": "stream",
     "text": [
      "Running TensorFlow Graph Passes: 100%|██████████| 5/5 [00:00<00:00, 24.33 passes/s]\n",
      "Converting Frontend ==> MIL Ops: 100%|██████████| 31/31 [00:00<00:00, 517.40 ops/s]\n",
      "Running MIL Common passes: 100%|██████████| 33/33 [00:00<00:00, 494.63 passes/s]\n",
      "Running MIL Clean up passes: 100%|██████████| 8/8 [00:00<00:00, 281.51 passes/s]\n",
      "Translating MIL ==> NeuralNetwork Ops: 100%|██████████| 54/54 [00:00<00:00, 1522.85 ops/s]\n"
     ]
    },
    {
     "name": "stdout",
     "output_type": "stream",
     "text": [
      "converting for batch:  18\n",
      "\n",
      "*********\n",
      "\n",
      "\n"
     ]
    },
    {
     "name": "stderr",
     "output_type": "stream",
     "text": [
      "Running TensorFlow Graph Passes: 100%|██████████| 5/5 [00:00<00:00, 21.38 passes/s]\n",
      "Converting Frontend ==> MIL Ops: 100%|██████████| 31/31 [00:00<00:00, 380.04 ops/s]\n",
      "Running MIL Common passes: 100%|██████████| 33/33 [00:00<00:00, 262.70 passes/s]\n",
      "Running MIL Clean up passes: 100%|██████████| 8/8 [00:00<00:00, 97.18 passes/s]\n",
      "Translating MIL ==> NeuralNetwork Ops: 100%|██████████| 54/54 [00:00<00:00, 1411.22 ops/s]\n"
     ]
    },
    {
     "name": "stdout",
     "output_type": "stream",
     "text": [
      "converting for batch:  19\n",
      "\n",
      "*********\n",
      "\n",
      "\n"
     ]
    },
    {
     "name": "stderr",
     "output_type": "stream",
     "text": [
      "Running TensorFlow Graph Passes: 100%|██████████| 5/5 [00:00<00:00, 24.34 passes/s]\n",
      "Converting Frontend ==> MIL Ops: 100%|██████████| 31/31 [00:00<00:00, 515.81 ops/s]\n",
      "Running MIL Common passes: 100%|██████████| 33/33 [00:00<00:00, 464.99 passes/s]\n",
      "Running MIL Clean up passes: 100%|██████████| 8/8 [00:00<00:00, 258.43 passes/s]\n",
      "Translating MIL ==> NeuralNetwork Ops: 100%|██████████| 54/54 [00:00<00:00, 1512.48 ops/s]\n"
     ]
    },
    {
     "name": "stdout",
     "output_type": "stream",
     "text": [
      "converting for batch:  20\n",
      "\n",
      "*********\n",
      "\n",
      "\n"
     ]
    },
    {
     "name": "stderr",
     "output_type": "stream",
     "text": [
      "Running TensorFlow Graph Passes: 100%|██████████| 5/5 [00:00<00:00, 23.13 passes/s]\n",
      "Converting Frontend ==> MIL Ops: 100%|██████████| 31/31 [00:00<00:00, 600.11 ops/s]\n",
      "Running MIL Common passes: 100%|██████████| 33/33 [00:00<00:00, 501.15 passes/s]\n",
      "Running MIL Clean up passes: 100%|██████████| 8/8 [00:00<00:00, 224.81 passes/s]\n",
      "Translating MIL ==> NeuralNetwork Ops: 100%|██████████| 54/54 [00:00<00:00, 1220.92 ops/s]\n"
     ]
    },
    {
     "name": "stdout",
     "output_type": "stream",
     "text": [
      "Conversion complete in 0m 42s\n",
      "################ Batch size:  100\n",
      "converting for batch:  0\n",
      "\n",
      "*********\n",
      "\n",
      "\n"
     ]
    },
    {
     "name": "stderr",
     "output_type": "stream",
     "text": [
      "Running TensorFlow Graph Passes: 100%|██████████| 5/5 [00:00<00:00, 20.38 passes/s]\n",
      "Converting Frontend ==> MIL Ops: 100%|██████████| 31/31 [00:00<00:00, 688.84 ops/s]\n",
      "Running MIL Common passes: 100%|██████████| 33/33 [00:00<00:00, 352.68 passes/s]\n",
      "Running MIL Clean up passes: 100%|██████████| 8/8 [00:00<00:00, 145.96 passes/s]\n",
      "Translating MIL ==> NeuralNetwork Ops: 100%|██████████| 54/54 [00:00<00:00, 1525.04 ops/s]\n"
     ]
    },
    {
     "name": "stdout",
     "output_type": "stream",
     "text": [
      "converting for batch:  1\n",
      "\n",
      "*********\n",
      "\n",
      "\n"
     ]
    },
    {
     "name": "stderr",
     "output_type": "stream",
     "text": [
      "Running TensorFlow Graph Passes: 100%|██████████| 5/5 [00:00<00:00, 15.97 passes/s]\n",
      "Converting Frontend ==> MIL Ops: 100%|██████████| 31/31 [00:00<00:00, 159.79 ops/s]\n",
      "Running MIL Common passes: 100%|██████████| 33/33 [00:00<00:00, 132.89 passes/s]\n",
      "Running MIL Clean up passes: 100%|██████████| 8/8 [00:00<00:00, 96.77 passes/s]\n",
      "Translating MIL ==> NeuralNetwork Ops: 100%|██████████| 54/54 [00:00<00:00, 493.88 ops/s]\n"
     ]
    },
    {
     "name": "stdout",
     "output_type": "stream",
     "text": [
      "converting for batch:  2\n",
      "\n",
      "*********\n",
      "\n",
      "\n"
     ]
    },
    {
     "name": "stderr",
     "output_type": "stream",
     "text": [
      "Running TensorFlow Graph Passes: 100%|██████████| 5/5 [00:00<00:00, 24.04 passes/s]\n",
      "Converting Frontend ==> MIL Ops: 100%|██████████| 31/31 [00:00<00:00, 443.02 ops/s]\n",
      "Running MIL Common passes: 100%|██████████| 33/33 [00:00<00:00, 355.02 passes/s]\n",
      "Running MIL Clean up passes: 100%|██████████| 8/8 [00:00<00:00, 55.27 passes/s]\n",
      "Translating MIL ==> NeuralNetwork Ops: 100%|██████████| 54/54 [00:00<00:00, 295.56 ops/s]\n"
     ]
    },
    {
     "name": "stdout",
     "output_type": "stream",
     "text": [
      "converting for batch:  3\n",
      "\n",
      "*********\n",
      "\n",
      "\n"
     ]
    },
    {
     "name": "stderr",
     "output_type": "stream",
     "text": [
      "Running TensorFlow Graph Passes: 100%|██████████| 5/5 [00:00<00:00, 16.46 passes/s]\n",
      "Converting Frontend ==> MIL Ops: 100%|██████████| 31/31 [00:00<00:00, 280.08 ops/s]\n",
      "Running MIL Common passes: 100%|██████████| 33/33 [00:00<00:00, 229.51 passes/s]\n",
      "Running MIL Clean up passes: 100%|██████████| 8/8 [00:00<00:00, 41.07 passes/s]\n",
      "Translating MIL ==> NeuralNetwork Ops: 100%|██████████| 54/54 [00:00<00:00, 1298.35 ops/s]\n"
     ]
    },
    {
     "name": "stdout",
     "output_type": "stream",
     "text": [
      "converting for batch:  4\n",
      "\n",
      "*********\n",
      "\n",
      "\n"
     ]
    },
    {
     "name": "stderr",
     "output_type": "stream",
     "text": [
      "Running TensorFlow Graph Passes: 100%|██████████| 5/5 [00:00<00:00, 12.87 passes/s]\n",
      "Converting Frontend ==> MIL Ops: 100%|██████████| 31/31 [00:00<00:00, 232.36 ops/s]\n",
      "Running MIL Common passes: 100%|██████████| 33/33 [00:00<00:00, 154.18 passes/s]\n",
      "Running MIL Clean up passes: 100%|██████████| 8/8 [00:00<00:00, 40.51 passes/s]\n",
      "Translating MIL ==> NeuralNetwork Ops: 100%|██████████| 54/54 [00:00<00:00, 309.45 ops/s]\n"
     ]
    },
    {
     "name": "stdout",
     "output_type": "stream",
     "text": [
      "converting for batch:  5\n",
      "\n",
      "*********\n",
      "\n",
      "\n"
     ]
    },
    {
     "name": "stderr",
     "output_type": "stream",
     "text": [
      "Running TensorFlow Graph Passes: 100%|██████████| 5/5 [00:00<00:00, 17.59 passes/s]\n",
      "Converting Frontend ==> MIL Ops: 100%|██████████| 31/31 [00:00<00:00, 291.51 ops/s]\n",
      "Running MIL Common passes: 100%|██████████| 33/33 [00:00<00:00, 356.93 passes/s]\n",
      "Running MIL Clean up passes: 100%|██████████| 8/8 [00:00<00:00, 102.73 passes/s]\n",
      "Translating MIL ==> NeuralNetwork Ops: 100%|██████████| 54/54 [00:00<00:00, 901.16 ops/s]\n"
     ]
    },
    {
     "name": "stdout",
     "output_type": "stream",
     "text": [
      "converting for batch:  6\n",
      "\n",
      "*********\n",
      "\n",
      "\n"
     ]
    },
    {
     "name": "stderr",
     "output_type": "stream",
     "text": [
      "Running TensorFlow Graph Passes: 100%|██████████| 5/5 [00:00<00:00, 23.77 passes/s]\n",
      "Converting Frontend ==> MIL Ops: 100%|██████████| 31/31 [00:00<00:00, 570.92 ops/s]\n",
      "Running MIL Common passes: 100%|██████████| 33/33 [00:00<00:00, 552.62 passes/s]\n",
      "Running MIL Clean up passes: 100%|██████████| 8/8 [00:00<00:00, 281.54 passes/s]\n",
      "Translating MIL ==> NeuralNetwork Ops: 100%|██████████| 54/54 [00:00<00:00, 1815.12 ops/s]\n"
     ]
    },
    {
     "name": "stdout",
     "output_type": "stream",
     "text": [
      "converting for batch:  7\n",
      "\n",
      "*********\n",
      "\n",
      "\n"
     ]
    },
    {
     "name": "stderr",
     "output_type": "stream",
     "text": [
      "Running TensorFlow Graph Passes: 100%|██████████| 5/5 [00:00<00:00, 13.97 passes/s]\n",
      "Converting Frontend ==> MIL Ops: 100%|██████████| 31/31 [00:00<00:00, 311.14 ops/s]\n",
      "Running MIL Common passes: 100%|██████████| 33/33 [00:00<00:00, 415.38 passes/s]\n",
      "Running MIL Clean up passes: 100%|██████████| 8/8 [00:00<00:00, 126.36 passes/s]\n",
      "Translating MIL ==> NeuralNetwork Ops: 100%|██████████| 54/54 [00:00<00:00, 1348.52 ops/s]\n"
     ]
    },
    {
     "name": "stdout",
     "output_type": "stream",
     "text": [
      "converting for batch:  8\n",
      "\n",
      "*********\n",
      "\n",
      "\n"
     ]
    },
    {
     "name": "stderr",
     "output_type": "stream",
     "text": [
      "Running TensorFlow Graph Passes: 100%|██████████| 5/5 [00:00<00:00, 13.09 passes/s]\n",
      "Converting Frontend ==> MIL Ops: 100%|██████████| 31/31 [00:00<00:00, 243.48 ops/s]\n",
      "Running MIL Common passes: 100%|██████████| 33/33 [00:00<00:00, 249.36 passes/s]\n",
      "Running MIL Clean up passes: 100%|██████████| 8/8 [00:00<00:00, 239.08 passes/s]\n",
      "Translating MIL ==> NeuralNetwork Ops: 100%|██████████| 54/54 [00:00<00:00, 499.61 ops/s]\n"
     ]
    },
    {
     "name": "stdout",
     "output_type": "stream",
     "text": [
      "converting for batch:  9\n",
      "\n",
      "*********\n",
      "\n",
      "\n"
     ]
    },
    {
     "name": "stderr",
     "output_type": "stream",
     "text": [
      "Running TensorFlow Graph Passes: 100%|██████████| 5/5 [00:00<00:00, 17.76 passes/s]\n",
      "Converting Frontend ==> MIL Ops: 100%|██████████| 31/31 [00:00<00:00, 339.57 ops/s]\n",
      "Running MIL Common passes: 100%|██████████| 33/33 [00:00<00:00, 396.93 passes/s]\n",
      "Running MIL Clean up passes: 100%|██████████| 8/8 [00:00<00:00, 197.70 passes/s]\n",
      "Translating MIL ==> NeuralNetwork Ops: 100%|██████████| 54/54 [00:00<00:00, 1548.84 ops/s]\n"
     ]
    },
    {
     "name": "stdout",
     "output_type": "stream",
     "text": [
      "converting for batch:  10\n",
      "\n",
      "*********\n",
      "\n",
      "\n"
     ]
    },
    {
     "name": "stderr",
     "output_type": "stream",
     "text": [
      "Running TensorFlow Graph Passes: 100%|██████████| 5/5 [00:00<00:00, 18.55 passes/s]\n",
      "Converting Frontend ==> MIL Ops: 100%|██████████| 31/31 [00:00<00:00, 535.20 ops/s]\n",
      "Running MIL Common passes: 100%|██████████| 33/33 [00:00<00:00, 321.79 passes/s]\n",
      "Running MIL Clean up passes: 100%|██████████| 8/8 [00:00<00:00, 302.07 passes/s]\n",
      "Translating MIL ==> NeuralNetwork Ops: 100%|██████████| 54/54 [00:00<00:00, 1755.59 ops/s]\n"
     ]
    },
    {
     "name": "stdout",
     "output_type": "stream",
     "text": [
      "converting for batch:  11\n",
      "\n",
      "*********\n",
      "\n",
      "\n"
     ]
    },
    {
     "name": "stderr",
     "output_type": "stream",
     "text": [
      "Running TensorFlow Graph Passes: 100%|██████████| 5/5 [00:00<00:00, 25.55 passes/s]\n",
      "Converting Frontend ==> MIL Ops: 100%|██████████| 31/31 [00:00<00:00, 611.05 ops/s]\n",
      "Running MIL Common passes: 100%|██████████| 33/33 [00:00<00:00, 479.09 passes/s]\n",
      "Running MIL Clean up passes: 100%|██████████| 8/8 [00:00<00:00, 259.98 passes/s]\n",
      "Translating MIL ==> NeuralNetwork Ops: 100%|██████████| 54/54 [00:00<00:00, 1754.04 ops/s]\n"
     ]
    },
    {
     "name": "stdout",
     "output_type": "stream",
     "text": [
      "converting for batch:  12\n",
      "\n",
      "*********\n",
      "\n",
      "\n"
     ]
    },
    {
     "name": "stderr",
     "output_type": "stream",
     "text": [
      "Running TensorFlow Graph Passes: 100%|██████████| 5/5 [00:00<00:00, 24.85 passes/s]\n",
      "Converting Frontend ==> MIL Ops: 100%|██████████| 31/31 [00:00<00:00, 546.06 ops/s]\n",
      "Running MIL Common passes: 100%|██████████| 33/33 [00:00<00:00, 543.95 passes/s]\n",
      "Running MIL Clean up passes: 100%|██████████| 8/8 [00:00<00:00, 320.95 passes/s]\n",
      "Translating MIL ==> NeuralNetwork Ops: 100%|██████████| 54/54 [00:00<00:00, 1685.09 ops/s]\n"
     ]
    },
    {
     "name": "stdout",
     "output_type": "stream",
     "text": [
      "converting for batch:  13\n",
      "\n",
      "*********\n",
      "\n",
      "\n"
     ]
    },
    {
     "name": "stderr",
     "output_type": "stream",
     "text": [
      "Running TensorFlow Graph Passes: 100%|██████████| 5/5 [00:00<00:00, 24.18 passes/s]\n",
      "Converting Frontend ==> MIL Ops: 100%|██████████| 31/31 [00:00<00:00, 439.21 ops/s]\n",
      "Running MIL Common passes: 100%|██████████| 33/33 [00:00<00:00, 474.62 passes/s]\n",
      "Running MIL Clean up passes: 100%|██████████| 8/8 [00:00<00:00, 176.78 passes/s]\n",
      "Translating MIL ==> NeuralNetwork Ops: 100%|██████████| 54/54 [00:00<00:00, 1444.50 ops/s]\n"
     ]
    },
    {
     "name": "stdout",
     "output_type": "stream",
     "text": [
      "converting for batch:  14\n",
      "\n",
      "*********\n",
      "\n",
      "\n"
     ]
    },
    {
     "name": "stderr",
     "output_type": "stream",
     "text": [
      "Running TensorFlow Graph Passes: 100%|██████████| 5/5 [00:00<00:00, 26.83 passes/s]\n",
      "Converting Frontend ==> MIL Ops: 100%|██████████| 31/31 [00:00<00:00, 356.79 ops/s]\n",
      "Running MIL Common passes: 100%|██████████| 33/33 [00:00<00:00, 439.43 passes/s]\n",
      "Running MIL Clean up passes: 100%|██████████| 8/8 [00:00<00:00, 299.19 passes/s]\n",
      "Translating MIL ==> NeuralNetwork Ops: 100%|██████████| 54/54 [00:00<00:00, 1318.00 ops/s]\n"
     ]
    },
    {
     "name": "stdout",
     "output_type": "stream",
     "text": [
      "converting for batch:  15\n",
      "\n",
      "*********\n",
      "\n",
      "\n"
     ]
    },
    {
     "name": "stderr",
     "output_type": "stream",
     "text": [
      "Running TensorFlow Graph Passes: 100%|██████████| 5/5 [00:00<00:00, 25.37 passes/s]\n",
      "Converting Frontend ==> MIL Ops: 100%|██████████| 31/31 [00:00<00:00, 384.12 ops/s]\n",
      "Running MIL Common passes: 100%|██████████| 33/33 [00:00<00:00, 487.26 passes/s]\n",
      "Running MIL Clean up passes: 100%|██████████| 8/8 [00:00<00:00, 211.16 passes/s]\n",
      "Translating MIL ==> NeuralNetwork Ops: 100%|██████████| 54/54 [00:00<00:00, 1031.64 ops/s]\n"
     ]
    },
    {
     "name": "stdout",
     "output_type": "stream",
     "text": [
      "converting for batch:  16\n",
      "\n",
      "*********\n",
      "\n",
      "\n"
     ]
    },
    {
     "name": "stderr",
     "output_type": "stream",
     "text": [
      "Running TensorFlow Graph Passes: 100%|██████████| 5/5 [00:00<00:00, 24.64 passes/s]\n",
      "Converting Frontend ==> MIL Ops: 100%|██████████| 31/31 [00:00<00:00, 591.72 ops/s]\n",
      "Running MIL Common passes: 100%|██████████| 33/33 [00:00<00:00, 543.57 passes/s]\n",
      "Running MIL Clean up passes: 100%|██████████| 8/8 [00:00<00:00, 266.64 passes/s]\n",
      "Translating MIL ==> NeuralNetwork Ops: 100%|██████████| 54/54 [00:00<00:00, 1060.90 ops/s]\n"
     ]
    },
    {
     "name": "stdout",
     "output_type": "stream",
     "text": [
      "converting for batch:  17\n",
      "\n",
      "*********\n",
      "\n",
      "\n"
     ]
    },
    {
     "name": "stderr",
     "output_type": "stream",
     "text": [
      "Running TensorFlow Graph Passes: 100%|██████████| 5/5 [00:00<00:00, 24.45 passes/s]\n",
      "Converting Frontend ==> MIL Ops: 100%|██████████| 31/31 [00:00<00:00, 611.05 ops/s]\n",
      "Running MIL Common passes: 100%|██████████| 33/33 [00:00<00:00, 544.35 passes/s]\n",
      "Running MIL Clean up passes: 100%|██████████| 8/8 [00:00<00:00, 266.50 passes/s]\n",
      "Translating MIL ==> NeuralNetwork Ops: 100%|██████████| 54/54 [00:00<00:00, 1890.02 ops/s]\n"
     ]
    },
    {
     "name": "stdout",
     "output_type": "stream",
     "text": [
      "converting for batch:  18\n",
      "\n",
      "*********\n",
      "\n",
      "\n"
     ]
    },
    {
     "name": "stderr",
     "output_type": "stream",
     "text": [
      "Running TensorFlow Graph Passes: 100%|██████████| 5/5 [00:00<00:00, 22.85 passes/s]\n",
      "Converting Frontend ==> MIL Ops: 100%|██████████| 31/31 [00:00<00:00, 585.50 ops/s]\n",
      "Running MIL Common passes: 100%|██████████| 33/33 [00:00<00:00, 527.74 passes/s]\n",
      "Running MIL Clean up passes: 100%|██████████| 8/8 [00:00<00:00, 267.79 passes/s]\n",
      "Translating MIL ==> NeuralNetwork Ops: 100%|██████████| 54/54 [00:00<00:00, 1943.06 ops/s]\n"
     ]
    },
    {
     "name": "stdout",
     "output_type": "stream",
     "text": [
      "converting for batch:  19\n",
      "\n",
      "*********\n",
      "\n",
      "\n"
     ]
    },
    {
     "name": "stderr",
     "output_type": "stream",
     "text": [
      "Running TensorFlow Graph Passes: 100%|██████████| 5/5 [00:00<00:00, 24.49 passes/s]\n",
      "Converting Frontend ==> MIL Ops: 100%|██████████| 31/31 [00:00<00:00, 545.64 ops/s]\n",
      "Running MIL Common passes: 100%|██████████| 33/33 [00:00<00:00, 527.39 passes/s]\n",
      "Running MIL Clean up passes: 100%|██████████| 8/8 [00:00<00:00, 225.80 passes/s]\n",
      "Translating MIL ==> NeuralNetwork Ops: 100%|██████████| 54/54 [00:00<00:00, 1612.42 ops/s]\n"
     ]
    },
    {
     "name": "stdout",
     "output_type": "stream",
     "text": [
      "converting for batch:  20\n",
      "\n",
      "*********\n",
      "\n",
      "\n"
     ]
    },
    {
     "name": "stderr",
     "output_type": "stream",
     "text": [
      "Running TensorFlow Graph Passes: 100%|██████████| 5/5 [00:00<00:00, 24.20 passes/s]\n",
      "Converting Frontend ==> MIL Ops: 100%|██████████| 31/31 [00:00<00:00, 620.31 ops/s]\n",
      "Running MIL Common passes: 100%|██████████| 33/33 [00:00<00:00, 776.56 passes/s]\n",
      "Running MIL Clean up passes: 100%|██████████| 8/8 [00:00<00:00, 446.61 passes/s]\n",
      "Translating MIL ==> NeuralNetwork Ops: 100%|██████████| 54/54 [00:00<00:00, 2557.91 ops/s]\n"
     ]
    },
    {
     "name": "stdout",
     "output_type": "stream",
     "text": [
      "Conversion complete in 0m 50s\n",
      "################ Batch size:  128\n",
      "converting for batch:  0\n",
      "\n",
      "*********\n",
      "\n",
      "\n"
     ]
    },
    {
     "name": "stderr",
     "output_type": "stream",
     "text": [
      "Running TensorFlow Graph Passes: 100%|██████████| 5/5 [00:00<00:00, 25.09 passes/s]\n",
      "Converting Frontend ==> MIL Ops: 100%|██████████| 31/31 [00:00<00:00, 758.63 ops/s]\n",
      "Running MIL Common passes: 100%|██████████| 33/33 [00:00<00:00, 794.76 passes/s]\n",
      "Running MIL Clean up passes: 100%|██████████| 8/8 [00:00<00:00, 438.48 passes/s]\n",
      "Translating MIL ==> NeuralNetwork Ops: 100%|██████████| 54/54 [00:00<00:00, 2013.93 ops/s]\n"
     ]
    },
    {
     "name": "stdout",
     "output_type": "stream",
     "text": [
      "converting for batch:  1\n",
      "\n",
      "*********\n",
      "\n",
      "\n"
     ]
    },
    {
     "name": "stderr",
     "output_type": "stream",
     "text": [
      "Running TensorFlow Graph Passes: 100%|██████████| 5/5 [00:00<00:00, 25.11 passes/s]\n",
      "Converting Frontend ==> MIL Ops: 100%|██████████| 31/31 [00:00<00:00, 722.48 ops/s]\n",
      "Running MIL Common passes: 100%|██████████| 33/33 [00:00<00:00, 805.70 passes/s]\n",
      "Running MIL Clean up passes: 100%|██████████| 8/8 [00:00<00:00, 384.85 passes/s]\n",
      "Translating MIL ==> NeuralNetwork Ops: 100%|██████████| 54/54 [00:00<00:00, 2486.17 ops/s]\n"
     ]
    },
    {
     "name": "stdout",
     "output_type": "stream",
     "text": [
      "converting for batch:  2\n",
      "\n",
      "*********\n",
      "\n",
      "\n"
     ]
    },
    {
     "name": "stderr",
     "output_type": "stream",
     "text": [
      "Running TensorFlow Graph Passes: 100%|██████████| 5/5 [00:00<00:00, 24.99 passes/s]\n",
      "Converting Frontend ==> MIL Ops: 100%|██████████| 31/31 [00:00<00:00, 755.07 ops/s]\n",
      "Running MIL Common passes: 100%|██████████| 33/33 [00:00<00:00, 851.81 passes/s]\n",
      "Running MIL Clean up passes: 100%|██████████| 8/8 [00:00<00:00, 465.22 passes/s]\n",
      "Translating MIL ==> NeuralNetwork Ops: 100%|██████████| 54/54 [00:00<00:00, 2457.68 ops/s]\n"
     ]
    },
    {
     "name": "stdout",
     "output_type": "stream",
     "text": [
      "converting for batch:  3\n",
      "\n",
      "*********\n",
      "\n",
      "\n"
     ]
    },
    {
     "name": "stderr",
     "output_type": "stream",
     "text": [
      "Running TensorFlow Graph Passes: 100%|██████████| 5/5 [00:00<00:00, 24.51 passes/s]\n",
      "Converting Frontend ==> MIL Ops: 100%|██████████| 31/31 [00:00<00:00, 771.76 ops/s]\n",
      "Running MIL Common passes: 100%|██████████| 33/33 [00:00<00:00, 839.54 passes/s]\n",
      "Running MIL Clean up passes: 100%|██████████| 8/8 [00:00<00:00, 439.88 passes/s]\n",
      "Translating MIL ==> NeuralNetwork Ops: 100%|██████████| 54/54 [00:00<00:00, 2346.10 ops/s]\n"
     ]
    },
    {
     "name": "stdout",
     "output_type": "stream",
     "text": [
      "converting for batch:  4\n",
      "\n",
      "*********\n",
      "\n",
      "\n"
     ]
    },
    {
     "name": "stderr",
     "output_type": "stream",
     "text": [
      "Running TensorFlow Graph Passes: 100%|██████████| 5/5 [00:00<00:00, 24.74 passes/s]\n",
      "Converting Frontend ==> MIL Ops: 100%|██████████| 31/31 [00:00<00:00, 798.70 ops/s]\n",
      "Running MIL Common passes: 100%|██████████| 33/33 [00:00<00:00, 904.90 passes/s]\n",
      "Running MIL Clean up passes: 100%|██████████| 8/8 [00:00<00:00, 336.45 passes/s]\n",
      "Translating MIL ==> NeuralNetwork Ops: 100%|██████████| 54/54 [00:00<00:00, 2412.34 ops/s]\n"
     ]
    },
    {
     "name": "stdout",
     "output_type": "stream",
     "text": [
      "converting for batch:  5\n",
      "\n",
      "*********\n",
      "\n",
      "\n"
     ]
    },
    {
     "name": "stderr",
     "output_type": "stream",
     "text": [
      "Running TensorFlow Graph Passes: 100%|██████████| 5/5 [00:00<00:00, 24.76 passes/s]\n",
      "Converting Frontend ==> MIL Ops: 100%|██████████| 31/31 [00:00<00:00, 794.53 ops/s]\n",
      "Running MIL Common passes: 100%|██████████| 33/33 [00:00<00:00, 902.94 passes/s]\n",
      "Running MIL Clean up passes: 100%|██████████| 8/8 [00:00<00:00, 395.76 passes/s]\n",
      "Translating MIL ==> NeuralNetwork Ops: 100%|██████████| 54/54 [00:00<00:00, 2692.88 ops/s]\n"
     ]
    },
    {
     "name": "stdout",
     "output_type": "stream",
     "text": [
      "converting for batch:  6\n",
      "\n",
      "*********\n",
      "\n",
      "\n"
     ]
    },
    {
     "name": "stderr",
     "output_type": "stream",
     "text": [
      "Running TensorFlow Graph Passes: 100%|██████████| 5/5 [00:00<00:00, 24.47 passes/s]\n",
      "Converting Frontend ==> MIL Ops: 100%|██████████| 31/31 [00:00<00:00, 536.44 ops/s]\n",
      "Running MIL Common passes: 100%|██████████| 33/33 [00:00<00:00, 530.76 passes/s]\n",
      "Running MIL Clean up passes: 100%|██████████| 8/8 [00:00<00:00, 261.39 passes/s]\n",
      "Translating MIL ==> NeuralNetwork Ops: 100%|██████████| 54/54 [00:00<00:00, 1779.82 ops/s]\n"
     ]
    },
    {
     "name": "stdout",
     "output_type": "stream",
     "text": [
      "converting for batch:  7\n",
      "\n",
      "*********\n",
      "\n",
      "\n"
     ]
    },
    {
     "name": "stderr",
     "output_type": "stream",
     "text": [
      "Running TensorFlow Graph Passes: 100%|██████████| 5/5 [00:00<00:00, 23.96 passes/s]\n",
      "Converting Frontend ==> MIL Ops: 100%|██████████| 31/31 [00:00<00:00, 513.30 ops/s]\n",
      "Running MIL Common passes: 100%|██████████| 33/33 [00:00<00:00, 537.74 passes/s]\n",
      "Running MIL Clean up passes: 100%|██████████| 8/8 [00:00<00:00, 240.82 passes/s]\n",
      "Translating MIL ==> NeuralNetwork Ops: 100%|██████████| 54/54 [00:00<00:00, 1653.30 ops/s]\n"
     ]
    },
    {
     "name": "stdout",
     "output_type": "stream",
     "text": [
      "converting for batch:  8\n",
      "\n",
      "*********\n",
      "\n",
      "\n"
     ]
    },
    {
     "name": "stderr",
     "output_type": "stream",
     "text": [
      "Running TensorFlow Graph Passes: 100%|██████████| 5/5 [00:00<00:00, 24.01 passes/s]\n",
      "Converting Frontend ==> MIL Ops: 100%|██████████| 31/31 [00:00<00:00, 590.28 ops/s]\n",
      "Running MIL Common passes: 100%|██████████| 33/33 [00:00<00:00, 540.72 passes/s]\n",
      "Running MIL Clean up passes: 100%|██████████| 8/8 [00:00<00:00, 251.28 passes/s]\n",
      "Translating MIL ==> NeuralNetwork Ops: 100%|██████████| 54/54 [00:00<00:00, 1567.84 ops/s]\n"
     ]
    },
    {
     "name": "stdout",
     "output_type": "stream",
     "text": [
      "converting for batch:  9\n",
      "\n",
      "*********\n",
      "\n",
      "\n"
     ]
    },
    {
     "name": "stderr",
     "output_type": "stream",
     "text": [
      "Running TensorFlow Graph Passes: 100%|██████████| 5/5 [00:00<00:00, 24.24 passes/s]\n",
      "Converting Frontend ==> MIL Ops: 100%|██████████| 31/31 [00:00<00:00, 592.48 ops/s]\n",
      "Running MIL Common passes: 100%|██████████| 33/33 [00:00<00:00, 557.03 passes/s]\n",
      "Running MIL Clean up passes: 100%|██████████| 8/8 [00:00<00:00, 252.77 passes/s]\n",
      "Translating MIL ==> NeuralNetwork Ops: 100%|██████████| 54/54 [00:00<00:00, 1628.38 ops/s]\n"
     ]
    },
    {
     "name": "stdout",
     "output_type": "stream",
     "text": [
      "converting for batch:  10\n",
      "\n",
      "*********\n",
      "\n",
      "\n"
     ]
    },
    {
     "name": "stderr",
     "output_type": "stream",
     "text": [
      "Running TensorFlow Graph Passes: 100%|██████████| 5/5 [00:00<00:00, 24.31 passes/s]\n",
      "Converting Frontend ==> MIL Ops: 100%|██████████| 31/31 [00:00<00:00, 597.39 ops/s]\n",
      "Running MIL Common passes: 100%|██████████| 33/33 [00:00<00:00, 492.14 passes/s]\n",
      "Running MIL Clean up passes: 100%|██████████| 8/8 [00:00<00:00, 294.84 passes/s]\n",
      "Translating MIL ==> NeuralNetwork Ops: 100%|██████████| 54/54 [00:00<00:00, 1724.41 ops/s]\n"
     ]
    },
    {
     "name": "stdout",
     "output_type": "stream",
     "text": [
      "converting for batch:  11\n",
      "\n",
      "*********\n",
      "\n",
      "\n"
     ]
    },
    {
     "name": "stderr",
     "output_type": "stream",
     "text": [
      "Running TensorFlow Graph Passes: 100%|██████████| 5/5 [00:00<00:00, 24.22 passes/s]\n",
      "Converting Frontend ==> MIL Ops: 100%|██████████| 31/31 [00:00<00:00, 567.12 ops/s]\n",
      "Running MIL Common passes: 100%|██████████| 33/33 [00:00<00:00, 570.74 passes/s]\n",
      "Running MIL Clean up passes: 100%|██████████| 8/8 [00:00<00:00, 254.41 passes/s]\n",
      "Translating MIL ==> NeuralNetwork Ops: 100%|██████████| 54/54 [00:00<00:00, 1778.48 ops/s]\n"
     ]
    },
    {
     "name": "stdout",
     "output_type": "stream",
     "text": [
      "converting for batch:  12\n",
      "\n",
      "*********\n",
      "\n",
      "\n"
     ]
    },
    {
     "name": "stderr",
     "output_type": "stream",
     "text": [
      "Running TensorFlow Graph Passes: 100%|██████████| 5/5 [00:00<00:00, 23.34 passes/s]\n",
      "Converting Frontend ==> MIL Ops: 100%|██████████| 31/31 [00:00<00:00, 455.78 ops/s]\n",
      "Running MIL Common passes: 100%|██████████| 33/33 [00:00<00:00, 447.55 passes/s]\n",
      "Running MIL Clean up passes: 100%|██████████| 8/8 [00:00<00:00, 173.83 passes/s]\n",
      "Translating MIL ==> NeuralNetwork Ops: 100%|██████████| 54/54 [00:00<00:00, 1265.11 ops/s]\n"
     ]
    },
    {
     "name": "stdout",
     "output_type": "stream",
     "text": [
      "converting for batch:  13\n",
      "\n",
      "*********\n",
      "\n",
      "\n"
     ]
    },
    {
     "name": "stderr",
     "output_type": "stream",
     "text": [
      "Running TensorFlow Graph Passes: 100%|██████████| 5/5 [00:00<00:00, 24.50 passes/s]\n",
      "Converting Frontend ==> MIL Ops: 100%|██████████| 31/31 [00:00<00:00, 600.37 ops/s]\n",
      "Running MIL Common passes: 100%|██████████| 33/33 [00:00<00:00, 509.94 passes/s]\n",
      "Running MIL Clean up passes: 100%|██████████| 8/8 [00:00<00:00, 258.64 passes/s]\n",
      "Translating MIL ==> NeuralNetwork Ops: 100%|██████████| 54/54 [00:00<00:00, 1644.04 ops/s]\n"
     ]
    },
    {
     "name": "stdout",
     "output_type": "stream",
     "text": [
      "converting for batch:  14\n",
      "\n",
      "*********\n",
      "\n",
      "\n"
     ]
    },
    {
     "name": "stderr",
     "output_type": "stream",
     "text": [
      "Running TensorFlow Graph Passes: 100%|██████████| 5/5 [00:00<00:00, 24.06 passes/s]\n",
      "Converting Frontend ==> MIL Ops: 100%|██████████| 31/31 [00:00<00:00, 559.45 ops/s]\n",
      "Running MIL Common passes: 100%|██████████| 33/33 [00:00<00:00, 607.68 passes/s]\n",
      "Running MIL Clean up passes: 100%|██████████| 8/8 [00:00<00:00, 277.01 passes/s]\n",
      "Translating MIL ==> NeuralNetwork Ops: 100%|██████████| 54/54 [00:00<00:00, 1670.73 ops/s]\n"
     ]
    },
    {
     "name": "stdout",
     "output_type": "stream",
     "text": [
      "converting for batch:  15\n",
      "\n",
      "*********\n",
      "\n",
      "\n"
     ]
    },
    {
     "name": "stderr",
     "output_type": "stream",
     "text": [
      "Running TensorFlow Graph Passes: 100%|██████████| 5/5 [00:00<00:00, 24.12 passes/s]\n",
      "Converting Frontend ==> MIL Ops: 100%|██████████| 31/31 [00:00<00:00, 618.39 ops/s]\n",
      "Running MIL Common passes: 100%|██████████| 33/33 [00:00<00:00, 549.27 passes/s]\n",
      "Running MIL Clean up passes: 100%|██████████| 8/8 [00:00<00:00, 282.81 passes/s]\n",
      "Translating MIL ==> NeuralNetwork Ops: 100%|██████████| 54/54 [00:00<00:00, 1745.20 ops/s]\n"
     ]
    },
    {
     "name": "stdout",
     "output_type": "stream",
     "text": [
      "converting for batch:  16\n",
      "\n",
      "*********\n",
      "\n",
      "\n"
     ]
    },
    {
     "name": "stderr",
     "output_type": "stream",
     "text": [
      "Running TensorFlow Graph Passes: 100%|██████████| 5/5 [00:00<00:00, 23.91 passes/s]\n",
      "Converting Frontend ==> MIL Ops: 100%|██████████| 31/31 [00:00<00:00, 547.95 ops/s]\n",
      "Running MIL Common passes: 100%|██████████| 33/33 [00:00<00:00, 503.77 passes/s]\n",
      "Running MIL Clean up passes: 100%|██████████| 8/8 [00:00<00:00, 258.81 passes/s]\n",
      "Translating MIL ==> NeuralNetwork Ops: 100%|██████████| 54/54 [00:00<00:00, 1584.08 ops/s]\n"
     ]
    },
    {
     "name": "stdout",
     "output_type": "stream",
     "text": [
      "converting for batch:  17\n",
      "\n",
      "*********\n",
      "\n",
      "\n"
     ]
    },
    {
     "name": "stderr",
     "output_type": "stream",
     "text": [
      "Running TensorFlow Graph Passes: 100%|██████████| 5/5 [00:00<00:00, 24.35 passes/s]\n",
      "Converting Frontend ==> MIL Ops: 100%|██████████| 31/31 [00:00<00:00, 571.07 ops/s]\n",
      "Running MIL Common passes: 100%|██████████| 33/33 [00:00<00:00, 502.53 passes/s]\n",
      "Running MIL Clean up passes: 100%|██████████| 8/8 [00:00<00:00, 249.53 passes/s]\n",
      "Translating MIL ==> NeuralNetwork Ops: 100%|██████████| 54/54 [00:00<00:00, 1734.27 ops/s]\n"
     ]
    },
    {
     "name": "stdout",
     "output_type": "stream",
     "text": [
      "converting for batch:  18\n",
      "\n",
      "*********\n",
      "\n",
      "\n"
     ]
    },
    {
     "name": "stderr",
     "output_type": "stream",
     "text": [
      "Running TensorFlow Graph Passes: 100%|██████████| 5/5 [00:00<00:00, 24.14 passes/s]\n",
      "Converting Frontend ==> MIL Ops: 100%|██████████| 31/31 [00:00<00:00, 582.76 ops/s]\n",
      "Running MIL Common passes: 100%|██████████| 33/33 [00:00<00:00, 553.66 passes/s]\n",
      "Running MIL Clean up passes: 100%|██████████| 8/8 [00:00<00:00, 255.83 passes/s]\n",
      "Translating MIL ==> NeuralNetwork Ops: 100%|██████████| 54/54 [00:00<00:00, 1752.16 ops/s]\n"
     ]
    },
    {
     "name": "stdout",
     "output_type": "stream",
     "text": [
      "converting for batch:  19\n",
      "\n",
      "*********\n",
      "\n",
      "\n"
     ]
    },
    {
     "name": "stderr",
     "output_type": "stream",
     "text": [
      "Running TensorFlow Graph Passes: 100%|██████████| 5/5 [00:00<00:00, 24.05 passes/s]\n",
      "Converting Frontend ==> MIL Ops: 100%|██████████| 31/31 [00:00<00:00, 601.97 ops/s]\n",
      "Running MIL Common passes: 100%|██████████| 33/33 [00:00<00:00, 537.60 passes/s]\n",
      "Running MIL Clean up passes: 100%|██████████| 8/8 [00:00<00:00, 295.89 passes/s]\n",
      "Translating MIL ==> NeuralNetwork Ops: 100%|██████████| 54/54 [00:00<00:00, 1784.35 ops/s]\n"
     ]
    },
    {
     "name": "stdout",
     "output_type": "stream",
     "text": [
      "converting for batch:  20\n",
      "\n",
      "*********\n",
      "\n",
      "\n"
     ]
    },
    {
     "name": "stderr",
     "output_type": "stream",
     "text": [
      "Running TensorFlow Graph Passes: 100%|██████████| 5/5 [00:00<00:00, 24.17 passes/s]\n",
      "Converting Frontend ==> MIL Ops: 100%|██████████| 31/31 [00:00<00:00, 672.42 ops/s]\n",
      "Running MIL Common passes: 100%|██████████| 33/33 [00:00<00:00, 356.37 passes/s]\n",
      "Running MIL Clean up passes: 100%|██████████| 8/8 [00:00<00:00, 296.33 passes/s]\n",
      "Translating MIL ==> NeuralNetwork Ops: 100%|██████████| 54/54 [00:00<00:00, 1899.79 ops/s]\n"
     ]
    },
    {
     "name": "stdout",
     "output_type": "stream",
     "text": [
      "Conversion complete in 0m 34s\n",
      "################ Batch size:  150\n",
      "converting for batch:  0\n",
      "\n",
      "*********\n",
      "\n",
      "\n"
     ]
    },
    {
     "name": "stderr",
     "output_type": "stream",
     "text": [
      "Running TensorFlow Graph Passes: 100%|██████████| 5/5 [00:00<00:00, 24.58 passes/s]\n",
      "Converting Frontend ==> MIL Ops: 100%|██████████| 31/31 [00:00<00:00, 603.52 ops/s]\n",
      "Running MIL Common passes: 100%|██████████| 33/33 [00:00<00:00, 629.12 passes/s]\n",
      "Running MIL Clean up passes: 100%|██████████| 8/8 [00:00<00:00, 292.08 passes/s]\n",
      "Translating MIL ==> NeuralNetwork Ops: 100%|██████████| 54/54 [00:00<00:00, 1842.62 ops/s]\n"
     ]
    },
    {
     "name": "stdout",
     "output_type": "stream",
     "text": [
      "converting for batch:  1\n",
      "\n",
      "*********\n",
      "\n",
      "\n"
     ]
    },
    {
     "name": "stderr",
     "output_type": "stream",
     "text": [
      "Running TensorFlow Graph Passes: 100%|██████████| 5/5 [00:00<00:00, 24.47 passes/s]\n",
      "Converting Frontend ==> MIL Ops: 100%|██████████| 31/31 [00:00<00:00, 618.73 ops/s]\n",
      "Running MIL Common passes: 100%|██████████| 33/33 [00:00<00:00, 553.19 passes/s]\n",
      "Running MIL Clean up passes: 100%|██████████| 8/8 [00:00<00:00, 239.47 passes/s]\n",
      "Translating MIL ==> NeuralNetwork Ops: 100%|██████████| 54/54 [00:00<00:00, 1618.90 ops/s]\n"
     ]
    },
    {
     "name": "stdout",
     "output_type": "stream",
     "text": [
      "converting for batch:  2\n",
      "\n",
      "*********\n",
      "\n",
      "\n"
     ]
    },
    {
     "name": "stderr",
     "output_type": "stream",
     "text": [
      "Running TensorFlow Graph Passes: 100%|██████████| 5/5 [00:00<00:00, 24.20 passes/s]\n",
      "Converting Frontend ==> MIL Ops: 100%|██████████| 31/31 [00:00<00:00, 592.11 ops/s]\n",
      "Running MIL Common passes: 100%|██████████| 33/33 [00:00<00:00, 552.99 passes/s]\n",
      "Running MIL Clean up passes: 100%|██████████| 8/8 [00:00<00:00, 294.14 passes/s]\n",
      "Translating MIL ==> NeuralNetwork Ops: 100%|██████████| 54/54 [00:00<00:00, 1827.66 ops/s]\n"
     ]
    },
    {
     "name": "stdout",
     "output_type": "stream",
     "text": [
      "converting for batch:  3\n",
      "\n",
      "*********\n",
      "\n",
      "\n"
     ]
    },
    {
     "name": "stderr",
     "output_type": "stream",
     "text": [
      "Running TensorFlow Graph Passes: 100%|██████████| 5/5 [00:00<00:00, 23.81 passes/s]\n",
      "Converting Frontend ==> MIL Ops: 100%|██████████| 31/31 [00:00<00:00, 575.88 ops/s]\n",
      "Running MIL Common passes: 100%|██████████| 33/33 [00:00<00:00, 539.69 passes/s]\n",
      "Running MIL Clean up passes: 100%|██████████| 8/8 [00:00<00:00, 282.14 passes/s]\n",
      "Translating MIL ==> NeuralNetwork Ops: 100%|██████████| 54/54 [00:00<00:00, 1592.77 ops/s]\n"
     ]
    },
    {
     "name": "stdout",
     "output_type": "stream",
     "text": [
      "converting for batch:  4\n",
      "\n",
      "*********\n",
      "\n",
      "\n"
     ]
    },
    {
     "name": "stderr",
     "output_type": "stream",
     "text": [
      "Running TensorFlow Graph Passes: 100%|██████████| 5/5 [00:00<00:00, 23.58 passes/s]\n",
      "Converting Frontend ==> MIL Ops: 100%|██████████| 31/31 [00:00<00:00, 634.66 ops/s]\n",
      "Running MIL Common passes: 100%|██████████| 33/33 [00:00<00:00, 512.30 passes/s]\n",
      "Running MIL Clean up passes: 100%|██████████| 8/8 [00:00<00:00, 219.74 passes/s]\n",
      "Translating MIL ==> NeuralNetwork Ops: 100%|██████████| 54/54 [00:00<00:00, 1526.33 ops/s]\n"
     ]
    },
    {
     "name": "stdout",
     "output_type": "stream",
     "text": [
      "converting for batch:  5\n",
      "\n",
      "*********\n",
      "\n",
      "\n"
     ]
    },
    {
     "name": "stderr",
     "output_type": "stream",
     "text": [
      "Running TensorFlow Graph Passes: 100%|██████████| 5/5 [00:00<00:00, 20.53 passes/s]\n",
      "Converting Frontend ==> MIL Ops: 100%|██████████| 31/31 [00:00<00:00, 418.93 ops/s]\n",
      "Running MIL Common passes: 100%|██████████| 33/33 [00:00<00:00, 615.34 passes/s]\n",
      "Running MIL Clean up passes: 100%|██████████| 8/8 [00:00<00:00, 217.01 passes/s]\n",
      "Translating MIL ==> NeuralNetwork Ops: 100%|██████████| 54/54 [00:00<00:00, 1446.48 ops/s]\n"
     ]
    },
    {
     "name": "stdout",
     "output_type": "stream",
     "text": [
      "converting for batch:  6\n",
      "\n",
      "*********\n",
      "\n",
      "\n"
     ]
    },
    {
     "name": "stderr",
     "output_type": "stream",
     "text": [
      "Running TensorFlow Graph Passes: 100%|██████████| 5/5 [00:00<00:00, 23.79 passes/s]\n",
      "Converting Frontend ==> MIL Ops: 100%|██████████| 31/31 [00:00<00:00, 585.24 ops/s]\n",
      "Running MIL Common passes: 100%|██████████| 33/33 [00:00<00:00, 531.63 passes/s]\n",
      "Running MIL Clean up passes: 100%|██████████| 8/8 [00:00<00:00, 235.67 passes/s]\n",
      "Translating MIL ==> NeuralNetwork Ops: 100%|██████████| 54/54 [00:00<00:00, 1625.37 ops/s]\n"
     ]
    },
    {
     "name": "stdout",
     "output_type": "stream",
     "text": [
      "converting for batch:  7\n",
      "\n",
      "*********\n",
      "\n",
      "\n"
     ]
    },
    {
     "name": "stderr",
     "output_type": "stream",
     "text": [
      "Running TensorFlow Graph Passes: 100%|██████████| 5/5 [00:00<00:00, 23.71 passes/s]\n",
      "Converting Frontend ==> MIL Ops: 100%|██████████| 31/31 [00:00<00:00, 574.00 ops/s]\n",
      "Running MIL Common passes: 100%|██████████| 33/33 [00:00<00:00, 550.67 passes/s]\n",
      "Running MIL Clean up passes: 100%|██████████| 8/8 [00:00<00:00, 280.74 passes/s]\n",
      "Translating MIL ==> NeuralNetwork Ops: 100%|██████████| 54/54 [00:00<00:00, 1611.64 ops/s]\n"
     ]
    },
    {
     "name": "stdout",
     "output_type": "stream",
     "text": [
      "converting for batch:  8\n",
      "\n",
      "*********\n",
      "\n",
      "\n"
     ]
    },
    {
     "name": "stderr",
     "output_type": "stream",
     "text": [
      "Running TensorFlow Graph Passes: 100%|██████████| 5/5 [00:00<00:00, 23.43 passes/s]\n",
      "Converting Frontend ==> MIL Ops: 100%|██████████| 31/31 [00:00<00:00, 601.64 ops/s]\n",
      "Running MIL Common passes: 100%|██████████| 33/33 [00:00<00:00, 567.46 passes/s]\n",
      "Running MIL Clean up passes: 100%|██████████| 8/8 [00:00<00:00, 268.02 passes/s]\n",
      "Translating MIL ==> NeuralNetwork Ops: 100%|██████████| 54/54 [00:00<00:00, 1610.65 ops/s]\n"
     ]
    },
    {
     "name": "stdout",
     "output_type": "stream",
     "text": [
      "converting for batch:  9\n",
      "\n",
      "*********\n",
      "\n",
      "\n"
     ]
    },
    {
     "name": "stderr",
     "output_type": "stream",
     "text": [
      "Running TensorFlow Graph Passes: 100%|██████████| 5/5 [00:00<00:00, 23.63 passes/s]\n",
      "Converting Frontend ==> MIL Ops: 100%|██████████| 31/31 [00:00<00:00, 571.05 ops/s]\n",
      "Running MIL Common passes: 100%|██████████| 33/33 [00:00<00:00, 556.65 passes/s]\n",
      "Running MIL Clean up passes: 100%|██████████| 8/8 [00:00<00:00, 277.70 passes/s]\n",
      "Translating MIL ==> NeuralNetwork Ops: 100%|██████████| 54/54 [00:00<00:00, 1753.36 ops/s]\n"
     ]
    },
    {
     "name": "stdout",
     "output_type": "stream",
     "text": [
      "converting for batch:  10\n",
      "\n",
      "*********\n",
      "\n",
      "\n"
     ]
    },
    {
     "name": "stderr",
     "output_type": "stream",
     "text": [
      "Running TensorFlow Graph Passes: 100%|██████████| 5/5 [00:00<00:00, 22.92 passes/s]\n",
      "Converting Frontend ==> MIL Ops: 100%|██████████| 31/31 [00:00<00:00, 325.43 ops/s]\n",
      "Running MIL Common passes: 100%|██████████| 33/33 [00:00<00:00, 467.85 passes/s]\n",
      "Running MIL Clean up passes: 100%|██████████| 8/8 [00:00<00:00, 211.59 passes/s]\n",
      "Translating MIL ==> NeuralNetwork Ops: 100%|██████████| 54/54 [00:00<00:00, 1113.82 ops/s]\n"
     ]
    },
    {
     "name": "stdout",
     "output_type": "stream",
     "text": [
      "converting for batch:  11\n",
      "\n",
      "*********\n",
      "\n",
      "\n"
     ]
    },
    {
     "name": "stderr",
     "output_type": "stream",
     "text": [
      "Running TensorFlow Graph Passes: 100%|██████████| 5/5 [00:00<00:00, 23.72 passes/s]\n",
      "Converting Frontend ==> MIL Ops: 100%|██████████| 31/31 [00:00<00:00, 589.25 ops/s]\n",
      "Running MIL Common passes: 100%|██████████| 33/33 [00:00<00:00, 458.75 passes/s]\n",
      "Running MIL Clean up passes: 100%|██████████| 8/8 [00:00<00:00, 282.38 passes/s]\n",
      "Translating MIL ==> NeuralNetwork Ops: 100%|██████████| 54/54 [00:00<00:00, 1696.93 ops/s]\n"
     ]
    },
    {
     "name": "stdout",
     "output_type": "stream",
     "text": [
      "converting for batch:  12\n",
      "\n",
      "*********\n",
      "\n",
      "\n"
     ]
    },
    {
     "name": "stderr",
     "output_type": "stream",
     "text": [
      "Running TensorFlow Graph Passes: 100%|██████████| 5/5 [00:00<00:00, 23.86 passes/s]\n",
      "Converting Frontend ==> MIL Ops: 100%|██████████| 31/31 [00:00<00:00, 607.70 ops/s]\n",
      "Running MIL Common passes: 100%|██████████| 33/33 [00:00<00:00, 600.83 passes/s]\n",
      "Running MIL Clean up passes: 100%|██████████| 8/8 [00:00<00:00, 284.89 passes/s]\n",
      "Translating MIL ==> NeuralNetwork Ops: 100%|██████████| 54/54 [00:00<00:00, 1682.46 ops/s]\n"
     ]
    },
    {
     "name": "stdout",
     "output_type": "stream",
     "text": [
      "converting for batch:  13\n",
      "\n",
      "*********\n",
      "\n",
      "\n"
     ]
    },
    {
     "name": "stderr",
     "output_type": "stream",
     "text": [
      "Running TensorFlow Graph Passes: 100%|██████████| 5/5 [00:00<00:00, 23.18 passes/s]\n",
      "Converting Frontend ==> MIL Ops: 100%|██████████| 31/31 [00:00<00:00, 572.14 ops/s]\n",
      "Running MIL Common passes: 100%|██████████| 33/33 [00:00<00:00, 540.71 passes/s]\n",
      "Running MIL Clean up passes: 100%|██████████| 8/8 [00:00<00:00, 238.96 passes/s]\n",
      "Translating MIL ==> NeuralNetwork Ops: 100%|██████████| 54/54 [00:00<00:00, 1713.79 ops/s]\n"
     ]
    },
    {
     "name": "stdout",
     "output_type": "stream",
     "text": [
      "converting for batch:  14\n",
      "\n",
      "*********\n",
      "\n",
      "\n"
     ]
    },
    {
     "name": "stderr",
     "output_type": "stream",
     "text": [
      "Running TensorFlow Graph Passes: 100%|██████████| 5/5 [00:00<00:00, 23.52 passes/s]\n",
      "Converting Frontend ==> MIL Ops: 100%|██████████| 31/31 [00:00<00:00, 589.25 ops/s]\n",
      "Running MIL Common passes: 100%|██████████| 33/33 [00:00<00:00, 573.95 passes/s]\n",
      "Running MIL Clean up passes: 100%|██████████| 8/8 [00:00<00:00, 260.70 passes/s]\n",
      "Translating MIL ==> NeuralNetwork Ops: 100%|██████████| 54/54 [00:00<00:00, 1621.71 ops/s]\n"
     ]
    },
    {
     "name": "stdout",
     "output_type": "stream",
     "text": [
      "converting for batch:  15\n",
      "\n",
      "*********\n",
      "\n",
      "\n"
     ]
    },
    {
     "name": "stderr",
     "output_type": "stream",
     "text": [
      "Running TensorFlow Graph Passes: 100%|██████████| 5/5 [00:00<00:00, 23.71 passes/s]\n",
      "Converting Frontend ==> MIL Ops: 100%|██████████| 31/31 [00:00<00:00, 740.09 ops/s]\n",
      "Running MIL Common passes: 100%|██████████| 33/33 [00:00<00:00, 816.12 passes/s]\n",
      "Running MIL Clean up passes: 100%|██████████| 8/8 [00:00<00:00, 457.67 passes/s]\n",
      "Translating MIL ==> NeuralNetwork Ops: 100%|██████████| 54/54 [00:00<00:00, 2386.62 ops/s]\n"
     ]
    },
    {
     "name": "stdout",
     "output_type": "stream",
     "text": [
      "converting for batch:  16\n",
      "\n",
      "*********\n",
      "\n",
      "\n"
     ]
    },
    {
     "name": "stderr",
     "output_type": "stream",
     "text": [
      "Running TensorFlow Graph Passes: 100%|██████████| 5/5 [00:00<00:00, 23.94 passes/s]\n",
      "Converting Frontend ==> MIL Ops: 100%|██████████| 31/31 [00:00<00:00, 778.85 ops/s]\n",
      "Running MIL Common passes: 100%|██████████| 33/33 [00:00<00:00, 860.30 passes/s]\n",
      "Running MIL Clean up passes: 100%|██████████| 8/8 [00:00<00:00, 392.72 passes/s]\n",
      "Translating MIL ==> NeuralNetwork Ops: 100%|██████████| 54/54 [00:00<00:00, 2448.20 ops/s]\n"
     ]
    },
    {
     "name": "stdout",
     "output_type": "stream",
     "text": [
      "converting for batch:  17\n",
      "\n",
      "*********\n",
      "\n",
      "\n"
     ]
    },
    {
     "name": "stderr",
     "output_type": "stream",
     "text": [
      "Running TensorFlow Graph Passes: 100%|██████████| 5/5 [00:00<00:00, 23.93 passes/s]\n",
      "Converting Frontend ==> MIL Ops: 100%|██████████| 31/31 [00:00<00:00, 732.65 ops/s]\n",
      "Running MIL Common passes: 100%|██████████| 33/33 [00:00<00:00, 856.57 passes/s]\n",
      "Running MIL Clean up passes: 100%|██████████| 8/8 [00:00<00:00, 373.95 passes/s]\n",
      "Translating MIL ==> NeuralNetwork Ops: 100%|██████████| 54/54 [00:00<00:00, 2589.76 ops/s]\n"
     ]
    },
    {
     "name": "stdout",
     "output_type": "stream",
     "text": [
      "converting for batch:  18\n",
      "\n",
      "*********\n",
      "\n",
      "\n"
     ]
    },
    {
     "name": "stderr",
     "output_type": "stream",
     "text": [
      "Running TensorFlow Graph Passes: 100%|██████████| 5/5 [00:00<00:00, 24.16 passes/s]\n",
      "Converting Frontend ==> MIL Ops: 100%|██████████| 31/31 [00:00<00:00, 760.09 ops/s]\n",
      "Running MIL Common passes: 100%|██████████| 33/33 [00:00<00:00, 827.86 passes/s]\n",
      "Running MIL Clean up passes: 100%|██████████| 8/8 [00:00<00:00, 442.92 passes/s]\n",
      "Translating MIL ==> NeuralNetwork Ops: 100%|██████████| 54/54 [00:00<00:00, 2394.49 ops/s]\n"
     ]
    },
    {
     "name": "stdout",
     "output_type": "stream",
     "text": [
      "converting for batch:  19\n",
      "\n",
      "*********\n",
      "\n",
      "\n"
     ]
    },
    {
     "name": "stderr",
     "output_type": "stream",
     "text": [
      "Running TensorFlow Graph Passes: 100%|██████████| 5/5 [00:00<00:00, 24.08 passes/s]\n",
      "Converting Frontend ==> MIL Ops: 100%|██████████| 31/31 [00:00<00:00, 786.16 ops/s]\n",
      "Running MIL Common passes: 100%|██████████| 33/33 [00:00<00:00, 872.02 passes/s]\n",
      "Running MIL Clean up passes: 100%|██████████| 8/8 [00:00<00:00, 320.42 passes/s]\n",
      "Translating MIL ==> NeuralNetwork Ops: 100%|██████████| 54/54 [00:00<00:00, 1812.45 ops/s]\n"
     ]
    },
    {
     "name": "stdout",
     "output_type": "stream",
     "text": [
      "converting for batch:  20\n",
      "\n",
      "*********\n",
      "\n",
      "\n"
     ]
    },
    {
     "name": "stderr",
     "output_type": "stream",
     "text": [
      "Running TensorFlow Graph Passes: 100%|██████████| 5/5 [00:00<00:00, 23.81 passes/s]\n",
      "Converting Frontend ==> MIL Ops: 100%|██████████| 31/31 [00:00<00:00, 761.22 ops/s]\n",
      "Running MIL Common passes: 100%|██████████| 33/33 [00:00<00:00, 812.59 passes/s]\n",
      "Running MIL Clean up passes: 100%|██████████| 8/8 [00:00<00:00, 392.15 passes/s]\n",
      "Translating MIL ==> NeuralNetwork Ops: 100%|██████████| 54/54 [00:00<00:00, 2481.62 ops/s]\n"
     ]
    },
    {
     "name": "stdout",
     "output_type": "stream",
     "text": [
      "Conversion complete in 0m 34s\n",
      "################ Batch size:  200\n",
      "converting for batch:  0\n",
      "\n",
      "*********\n",
      "\n",
      "\n"
     ]
    },
    {
     "name": "stderr",
     "output_type": "stream",
     "text": [
      "Running TensorFlow Graph Passes: 100%|██████████| 5/5 [00:00<00:00, 23.86 passes/s]\n",
      "Converting Frontend ==> MIL Ops: 100%|██████████| 31/31 [00:00<00:00, 774.34 ops/s]\n",
      "Running MIL Common passes: 100%|██████████| 33/33 [00:00<00:00, 909.82 passes/s]\n",
      "Running MIL Clean up passes: 100%|██████████| 8/8 [00:00<00:00, 449.95 passes/s]\n",
      "Translating MIL ==> NeuralNetwork Ops: 100%|██████████| 54/54 [00:00<00:00, 2567.04 ops/s]\n"
     ]
    },
    {
     "name": "stdout",
     "output_type": "stream",
     "text": [
      "converting for batch:  1\n",
      "\n",
      "*********\n",
      "\n",
      "\n"
     ]
    },
    {
     "name": "stderr",
     "output_type": "stream",
     "text": [
      "Running TensorFlow Graph Passes: 100%|██████████| 5/5 [00:00<00:00, 23.66 passes/s]\n",
      "Converting Frontend ==> MIL Ops: 100%|██████████| 31/31 [00:00<00:00, 437.07 ops/s]\n",
      "Running MIL Common passes: 100%|██████████| 33/33 [00:00<00:00, 425.27 passes/s]\n",
      "Running MIL Clean up passes: 100%|██████████| 8/8 [00:00<00:00, 174.41 passes/s]\n",
      "Translating MIL ==> NeuralNetwork Ops: 100%|██████████| 54/54 [00:00<00:00, 1237.74 ops/s]\n"
     ]
    },
    {
     "name": "stdout",
     "output_type": "stream",
     "text": [
      "converting for batch:  2\n",
      "\n",
      "*********\n",
      "\n",
      "\n"
     ]
    },
    {
     "name": "stderr",
     "output_type": "stream",
     "text": [
      "Running TensorFlow Graph Passes: 100%|██████████| 5/5 [00:00<00:00, 23.50 passes/s]\n",
      "Converting Frontend ==> MIL Ops: 100%|██████████| 31/31 [00:00<00:00, 610.07 ops/s]\n",
      "Running MIL Common passes: 100%|██████████| 33/33 [00:00<00:00, 588.69 passes/s]\n",
      "Running MIL Clean up passes: 100%|██████████| 8/8 [00:00<00:00, 280.94 passes/s]\n",
      "Translating MIL ==> NeuralNetwork Ops: 100%|██████████| 54/54 [00:00<00:00, 1408.60 ops/s]\n"
     ]
    },
    {
     "name": "stdout",
     "output_type": "stream",
     "text": [
      "converting for batch:  3\n",
      "\n",
      "*********\n",
      "\n",
      "\n"
     ]
    },
    {
     "name": "stderr",
     "output_type": "stream",
     "text": [
      "Running TensorFlow Graph Passes: 100%|██████████| 5/5 [00:00<00:00, 23.56 passes/s]\n",
      "Converting Frontend ==> MIL Ops: 100%|██████████| 31/31 [00:00<00:00, 640.70 ops/s]\n",
      "Running MIL Common passes: 100%|██████████| 33/33 [00:00<00:00, 557.06 passes/s]\n",
      "Running MIL Clean up passes: 100%|██████████| 8/8 [00:00<00:00, 264.56 passes/s]\n",
      "Translating MIL ==> NeuralNetwork Ops: 100%|██████████| 54/54 [00:00<00:00, 1578.36 ops/s]\n"
     ]
    },
    {
     "name": "stdout",
     "output_type": "stream",
     "text": [
      "converting for batch:  4\n",
      "\n",
      "*********\n",
      "\n",
      "\n"
     ]
    },
    {
     "name": "stderr",
     "output_type": "stream",
     "text": [
      "Running TensorFlow Graph Passes: 100%|██████████| 5/5 [00:00<00:00, 23.37 passes/s]\n",
      "Converting Frontend ==> MIL Ops: 100%|██████████| 31/31 [00:00<00:00, 542.37 ops/s]\n",
      "Running MIL Common passes: 100%|██████████| 33/33 [00:00<00:00, 544.56 passes/s]\n",
      "Running MIL Clean up passes: 100%|██████████| 8/8 [00:00<00:00, 245.22 passes/s]\n",
      "Translating MIL ==> NeuralNetwork Ops: 100%|██████████| 54/54 [00:00<00:00, 1824.82 ops/s]\n"
     ]
    },
    {
     "name": "stdout",
     "output_type": "stream",
     "text": [
      "converting for batch:  5\n",
      "\n",
      "*********\n",
      "\n",
      "\n"
     ]
    },
    {
     "name": "stderr",
     "output_type": "stream",
     "text": [
      "Running TensorFlow Graph Passes: 100%|██████████| 5/5 [00:00<00:00, 23.17 passes/s]\n",
      "Converting Frontend ==> MIL Ops: 100%|██████████| 31/31 [00:00<00:00, 596.23 ops/s]\n",
      "Running MIL Common passes: 100%|██████████| 33/33 [00:00<00:00, 571.52 passes/s]\n",
      "Running MIL Clean up passes: 100%|██████████| 8/8 [00:00<00:00, 271.88 passes/s]\n",
      "Translating MIL ==> NeuralNetwork Ops: 100%|██████████| 54/54 [00:00<00:00, 1654.10 ops/s]\n"
     ]
    },
    {
     "name": "stdout",
     "output_type": "stream",
     "text": [
      "converting for batch:  6\n",
      "\n",
      "*********\n",
      "\n",
      "\n"
     ]
    },
    {
     "name": "stderr",
     "output_type": "stream",
     "text": [
      "Running TensorFlow Graph Passes: 100%|██████████| 5/5 [00:00<00:00, 23.31 passes/s]\n",
      "Converting Frontend ==> MIL Ops: 100%|██████████| 31/31 [00:00<00:00, 587.97 ops/s]\n",
      "Running MIL Common passes: 100%|██████████| 33/33 [00:00<00:00, 567.01 passes/s]\n",
      "Running MIL Clean up passes: 100%|██████████| 8/8 [00:00<00:00, 176.16 passes/s]\n",
      "Translating MIL ==> NeuralNetwork Ops: 100%|██████████| 54/54 [00:00<00:00, 1761.08 ops/s]\n"
     ]
    },
    {
     "name": "stdout",
     "output_type": "stream",
     "text": [
      "converting for batch:  7\n",
      "\n",
      "*********\n",
      "\n",
      "\n"
     ]
    },
    {
     "name": "stderr",
     "output_type": "stream",
     "text": [
      "Running TensorFlow Graph Passes: 100%|██████████| 5/5 [00:00<00:00, 22.88 passes/s]\n",
      "Converting Frontend ==> MIL Ops: 100%|██████████| 31/31 [00:00<00:00, 583.69 ops/s]\n",
      "Running MIL Common passes: 100%|██████████| 33/33 [00:00<00:00, 531.69 passes/s]\n",
      "Running MIL Clean up passes: 100%|██████████| 8/8 [00:00<00:00, 257.91 passes/s]\n",
      "Translating MIL ==> NeuralNetwork Ops: 100%|██████████| 54/54 [00:00<00:00, 1782.49 ops/s]\n"
     ]
    },
    {
     "name": "stdout",
     "output_type": "stream",
     "text": [
      "converting for batch:  8\n",
      "\n",
      "*********\n",
      "\n",
      "\n"
     ]
    },
    {
     "name": "stderr",
     "output_type": "stream",
     "text": [
      "Running TensorFlow Graph Passes: 100%|██████████| 5/5 [00:00<00:00, 23.07 passes/s]\n",
      "Converting Frontend ==> MIL Ops: 100%|██████████| 31/31 [00:00<00:00, 585.13 ops/s]\n",
      "Running MIL Common passes: 100%|██████████| 33/33 [00:00<00:00, 589.79 passes/s]\n",
      "Running MIL Clean up passes: 100%|██████████| 8/8 [00:00<00:00, 292.65 passes/s]\n",
      "Translating MIL ==> NeuralNetwork Ops: 100%|██████████| 54/54 [00:00<00:00, 1660.10 ops/s]\n"
     ]
    },
    {
     "name": "stdout",
     "output_type": "stream",
     "text": [
      "converting for batch:  9\n",
      "\n",
      "*********\n",
      "\n",
      "\n"
     ]
    },
    {
     "name": "stderr",
     "output_type": "stream",
     "text": [
      "Running TensorFlow Graph Passes: 100%|██████████| 5/5 [00:00<00:00, 23.34 passes/s]\n",
      "Converting Frontend ==> MIL Ops: 100%|██████████| 31/31 [00:00<00:00, 622.16 ops/s]\n",
      "Running MIL Common passes: 100%|██████████| 33/33 [00:00<00:00, 575.76 passes/s]\n",
      "Running MIL Clean up passes: 100%|██████████| 8/8 [00:00<00:00, 276.77 passes/s]\n",
      "Translating MIL ==> NeuralNetwork Ops: 100%|██████████| 54/54 [00:00<00:00, 1658.99 ops/s]\n"
     ]
    },
    {
     "name": "stdout",
     "output_type": "stream",
     "text": [
      "converting for batch:  10\n",
      "\n",
      "*********\n",
      "\n",
      "\n"
     ]
    },
    {
     "name": "stderr",
     "output_type": "stream",
     "text": [
      "Running TensorFlow Graph Passes: 100%|██████████| 5/5 [00:00<00:00, 23.16 passes/s]\n",
      "Converting Frontend ==> MIL Ops: 100%|██████████| 31/31 [00:00<00:00, 647.76 ops/s]\n",
      "Running MIL Common passes: 100%|██████████| 33/33 [00:00<00:00, 537.42 passes/s]\n",
      "Running MIL Clean up passes: 100%|██████████| 8/8 [00:00<00:00, 271.46 passes/s]\n",
      "Translating MIL ==> NeuralNetwork Ops: 100%|██████████| 54/54 [00:00<00:00, 1662.37 ops/s]\n"
     ]
    },
    {
     "name": "stdout",
     "output_type": "stream",
     "text": [
      "converting for batch:  11\n",
      "\n",
      "*********\n",
      "\n",
      "\n"
     ]
    },
    {
     "name": "stderr",
     "output_type": "stream",
     "text": [
      "Running TensorFlow Graph Passes: 100%|██████████| 5/5 [00:00<00:00, 23.26 passes/s]\n",
      "Converting Frontend ==> MIL Ops: 100%|██████████| 31/31 [00:00<00:00, 608.38 ops/s]\n",
      "Running MIL Common passes: 100%|██████████| 33/33 [00:00<00:00, 532.22 passes/s]\n",
      "Running MIL Clean up passes: 100%|██████████| 8/8 [00:00<00:00, 316.57 passes/s]\n",
      "Translating MIL ==> NeuralNetwork Ops: 100%|██████████| 54/54 [00:00<00:00, 1463.50 ops/s]\n"
     ]
    },
    {
     "name": "stdout",
     "output_type": "stream",
     "text": [
      "converting for batch:  12\n",
      "\n",
      "*********\n",
      "\n",
      "\n"
     ]
    },
    {
     "name": "stderr",
     "output_type": "stream",
     "text": [
      "Running TensorFlow Graph Passes: 100%|██████████| 5/5 [00:00<00:00, 22.95 passes/s]\n",
      "Converting Frontend ==> MIL Ops: 100%|██████████| 31/31 [00:00<00:00, 620.77 ops/s]\n",
      "Running MIL Common passes: 100%|██████████| 33/33 [00:00<00:00, 509.09 passes/s]\n",
      "Running MIL Clean up passes: 100%|██████████| 8/8 [00:00<00:00, 253.34 passes/s]\n",
      "Translating MIL ==> NeuralNetwork Ops: 100%|██████████| 54/54 [00:00<00:00, 1611.07 ops/s]\n"
     ]
    },
    {
     "name": "stdout",
     "output_type": "stream",
     "text": [
      "converting for batch:  13\n",
      "\n",
      "*********\n",
      "\n",
      "\n"
     ]
    },
    {
     "name": "stderr",
     "output_type": "stream",
     "text": [
      "Running TensorFlow Graph Passes: 100%|██████████| 5/5 [00:00<00:00, 23.11 passes/s]\n",
      "Converting Frontend ==> MIL Ops: 100%|██████████| 31/31 [00:00<00:00, 622.64 ops/s]\n",
      "Running MIL Common passes: 100%|██████████| 33/33 [00:00<00:00, 510.98 passes/s]\n",
      "Running MIL Clean up passes: 100%|██████████| 8/8 [00:00<00:00, 234.65 passes/s]\n",
      "Translating MIL ==> NeuralNetwork Ops: 100%|██████████| 54/54 [00:00<00:00, 1467.27 ops/s]\n"
     ]
    },
    {
     "name": "stdout",
     "output_type": "stream",
     "text": [
      "converting for batch:  14\n",
      "\n",
      "*********\n",
      "\n",
      "\n"
     ]
    },
    {
     "name": "stderr",
     "output_type": "stream",
     "text": [
      "Running TensorFlow Graph Passes: 100%|██████████| 5/5 [00:00<00:00, 25.39 passes/s]\n",
      "Converting Frontend ==> MIL Ops: 100%|██████████| 31/31 [00:00<00:00, 945.82 ops/s]\n",
      "Running MIL Common passes: 100%|██████████| 33/33 [00:00<00:00, 541.46 passes/s]\n",
      "Running MIL Clean up passes: 100%|██████████| 8/8 [00:00<00:00, 223.52 passes/s]\n",
      "Translating MIL ==> NeuralNetwork Ops: 100%|██████████| 54/54 [00:00<00:00, 1678.09 ops/s]\n"
     ]
    },
    {
     "name": "stdout",
     "output_type": "stream",
     "text": [
      "converting for batch:  15\n",
      "\n",
      "*********\n",
      "\n",
      "\n"
     ]
    },
    {
     "name": "stderr",
     "output_type": "stream",
     "text": [
      "Running TensorFlow Graph Passes: 100%|██████████| 5/5 [00:00<00:00, 23.05 passes/s]\n",
      "Converting Frontend ==> MIL Ops: 100%|██████████| 31/31 [00:00<00:00, 602.62 ops/s]\n",
      "Running MIL Common passes: 100%|██████████| 33/33 [00:00<00:00, 556.36 passes/s]\n",
      "Running MIL Clean up passes: 100%|██████████| 8/8 [00:00<00:00, 221.35 passes/s]\n",
      "Translating MIL ==> NeuralNetwork Ops: 100%|██████████| 54/54 [00:00<00:00, 1775.20 ops/s]\n"
     ]
    },
    {
     "name": "stdout",
     "output_type": "stream",
     "text": [
      "converting for batch:  16\n",
      "\n",
      "*********\n",
      "\n",
      "\n"
     ]
    },
    {
     "name": "stderr",
     "output_type": "stream",
     "text": [
      "Running TensorFlow Graph Passes: 100%|██████████| 5/5 [00:00<00:00, 23.07 passes/s]\n",
      "Converting Frontend ==> MIL Ops: 100%|██████████| 31/31 [00:00<00:00, 616.19 ops/s]\n",
      "Running MIL Common passes: 100%|██████████| 33/33 [00:00<00:00, 552.25 passes/s]\n",
      "Running MIL Clean up passes: 100%|██████████| 8/8 [00:00<00:00, 263.61 passes/s]\n",
      "Translating MIL ==> NeuralNetwork Ops: 100%|██████████| 54/54 [00:00<00:00, 1647.29 ops/s]\n"
     ]
    },
    {
     "name": "stdout",
     "output_type": "stream",
     "text": [
      "converting for batch:  17\n",
      "\n",
      "*********\n",
      "\n",
      "\n"
     ]
    },
    {
     "name": "stderr",
     "output_type": "stream",
     "text": [
      "Running TensorFlow Graph Passes: 100%|██████████| 5/5 [00:00<00:00, 22.89 passes/s]\n",
      "Converting Frontend ==> MIL Ops: 100%|██████████| 31/31 [00:00<00:00, 586.51 ops/s]\n",
      "Running MIL Common passes: 100%|██████████| 33/33 [00:00<00:00, 585.85 passes/s]\n",
      "Running MIL Clean up passes: 100%|██████████| 8/8 [00:00<00:00, 269.60 passes/s]\n",
      "Translating MIL ==> NeuralNetwork Ops: 100%|██████████| 54/54 [00:00<00:00, 1564.04 ops/s]\n"
     ]
    },
    {
     "name": "stdout",
     "output_type": "stream",
     "text": [
      "converting for batch:  18\n",
      "\n",
      "*********\n",
      "\n",
      "\n"
     ]
    },
    {
     "name": "stderr",
     "output_type": "stream",
     "text": [
      "Running TensorFlow Graph Passes: 100%|██████████| 5/5 [00:00<00:00, 23.00 passes/s]\n",
      "Converting Frontend ==> MIL Ops: 100%|██████████| 31/31 [00:00<00:00, 621.80 ops/s]\n",
      "Running MIL Common passes: 100%|██████████| 33/33 [00:00<00:00, 567.29 passes/s]\n",
      "Running MIL Clean up passes: 100%|██████████| 8/8 [00:00<00:00, 282.33 passes/s]\n",
      "Translating MIL ==> NeuralNetwork Ops: 100%|██████████| 54/54 [00:00<00:00, 1703.53 ops/s]\n"
     ]
    },
    {
     "name": "stdout",
     "output_type": "stream",
     "text": [
      "converting for batch:  19\n",
      "\n",
      "*********\n",
      "\n",
      "\n"
     ]
    },
    {
     "name": "stderr",
     "output_type": "stream",
     "text": [
      "Running TensorFlow Graph Passes: 100%|██████████| 5/5 [00:00<00:00, 22.91 passes/s]\n",
      "Converting Frontend ==> MIL Ops: 100%|██████████| 31/31 [00:00<00:00, 364.58 ops/s]\n",
      "Running MIL Common passes: 100%|██████████| 33/33 [00:00<00:00, 482.68 passes/s]\n",
      "Running MIL Clean up passes: 100%|██████████| 8/8 [00:00<00:00, 201.69 passes/s]\n",
      "Translating MIL ==> NeuralNetwork Ops: 100%|██████████| 54/54 [00:00<00:00, 1026.97 ops/s]\n"
     ]
    },
    {
     "name": "stdout",
     "output_type": "stream",
     "text": [
      "converting for batch:  20\n",
      "\n",
      "*********\n",
      "\n",
      "\n"
     ]
    },
    {
     "name": "stderr",
     "output_type": "stream",
     "text": [
      "Running TensorFlow Graph Passes: 100%|██████████| 5/5 [00:00<00:00, 23.16 passes/s]\n",
      "Converting Frontend ==> MIL Ops: 100%|██████████| 31/31 [00:00<00:00, 413.64 ops/s]\n",
      "Running MIL Common passes: 100%|██████████| 33/33 [00:00<00:00, 622.73 passes/s]\n",
      "Running MIL Clean up passes: 100%|██████████| 8/8 [00:00<00:00, 278.38 passes/s]\n",
      "Translating MIL ==> NeuralNetwork Ops: 100%|██████████| 54/54 [00:00<00:00, 1931.19 ops/s]\n"
     ]
    },
    {
     "name": "stdout",
     "output_type": "stream",
     "text": [
      "Conversion complete in 0m 36s\n",
      "################ Batch size:  250\n",
      "converting for batch:  0\n",
      "\n",
      "*********\n",
      "\n",
      "\n"
     ]
    },
    {
     "name": "stderr",
     "output_type": "stream",
     "text": [
      "Running TensorFlow Graph Passes: 100%|██████████| 5/5 [00:00<00:00, 23.05 passes/s]\n",
      "Converting Frontend ==> MIL Ops: 100%|██████████| 31/31 [00:00<00:00, 653.81 ops/s]\n",
      "Running MIL Common passes: 100%|██████████| 33/33 [00:00<00:00, 533.45 passes/s]\n",
      "Running MIL Clean up passes: 100%|██████████| 8/8 [00:00<00:00, 249.61 passes/s]\n",
      "Translating MIL ==> NeuralNetwork Ops: 100%|██████████| 54/54 [00:00<00:00, 1554.77 ops/s]\n"
     ]
    },
    {
     "name": "stdout",
     "output_type": "stream",
     "text": [
      "converting for batch:  1\n",
      "\n",
      "*********\n",
      "\n",
      "\n"
     ]
    },
    {
     "name": "stderr",
     "output_type": "stream",
     "text": [
      "Running TensorFlow Graph Passes: 100%|██████████| 5/5 [00:00<00:00, 22.88 passes/s]\n",
      "Converting Frontend ==> MIL Ops: 100%|██████████| 31/31 [00:00<00:00, 572.83 ops/s]\n",
      "Running MIL Common passes: 100%|██████████| 33/33 [00:00<00:00, 580.82 passes/s]\n",
      "Running MIL Clean up passes: 100%|██████████| 8/8 [00:00<00:00, 309.69 passes/s]\n",
      "Translating MIL ==> NeuralNetwork Ops: 100%|██████████| 54/54 [00:00<00:00, 1656.38 ops/s]\n"
     ]
    },
    {
     "name": "stdout",
     "output_type": "stream",
     "text": [
      "converting for batch:  2\n",
      "\n",
      "*********\n",
      "\n",
      "\n"
     ]
    },
    {
     "name": "stderr",
     "output_type": "stream",
     "text": [
      "Running TensorFlow Graph Passes: 100%|██████████| 5/5 [00:00<00:00, 22.97 passes/s]\n",
      "Converting Frontend ==> MIL Ops: 100%|██████████| 31/31 [00:00<00:00, 643.51 ops/s]\n",
      "Running MIL Common passes: 100%|██████████| 33/33 [00:00<00:00, 544.01 passes/s]\n",
      "Running MIL Clean up passes: 100%|██████████| 8/8 [00:00<00:00, 248.70 passes/s]\n",
      "Translating MIL ==> NeuralNetwork Ops: 100%|██████████| 54/54 [00:00<00:00, 1660.10 ops/s]\n"
     ]
    },
    {
     "name": "stdout",
     "output_type": "stream",
     "text": [
      "converting for batch:  3\n",
      "\n",
      "*********\n",
      "\n",
      "\n"
     ]
    },
    {
     "name": "stderr",
     "output_type": "stream",
     "text": [
      "Running TensorFlow Graph Passes: 100%|██████████| 5/5 [00:00<00:00, 22.90 passes/s]\n",
      "Converting Frontend ==> MIL Ops: 100%|██████████| 31/31 [00:00<00:00, 536.29 ops/s]\n",
      "Running MIL Common passes: 100%|██████████| 33/33 [00:00<00:00, 549.97 passes/s]\n",
      "Running MIL Clean up passes: 100%|██████████| 8/8 [00:00<00:00, 261.32 passes/s]\n",
      "Translating MIL ==> NeuralNetwork Ops: 100%|██████████| 54/54 [00:00<00:00, 1746.56 ops/s]\n"
     ]
    },
    {
     "name": "stdout",
     "output_type": "stream",
     "text": [
      "converting for batch:  4\n",
      "\n",
      "*********\n",
      "\n",
      "\n"
     ]
    },
    {
     "name": "stderr",
     "output_type": "stream",
     "text": [
      "Running TensorFlow Graph Passes: 100%|██████████| 5/5 [00:00<00:00, 22.38 passes/s]\n",
      "Converting Frontend ==> MIL Ops: 100%|██████████| 31/31 [00:00<00:00, 585.00 ops/s]\n",
      "Running MIL Common passes: 100%|██████████| 33/33 [00:00<00:00, 528.72 passes/s]\n",
      "Running MIL Clean up passes: 100%|██████████| 8/8 [00:00<00:00, 270.08 passes/s]\n",
      "Translating MIL ==> NeuralNetwork Ops: 100%|██████████| 54/54 [00:00<00:00, 1814.39 ops/s]\n"
     ]
    },
    {
     "name": "stdout",
     "output_type": "stream",
     "text": [
      "converting for batch:  5\n",
      "\n",
      "*********\n",
      "\n",
      "\n"
     ]
    },
    {
     "name": "stderr",
     "output_type": "stream",
     "text": [
      "Running TensorFlow Graph Passes: 100%|██████████| 5/5 [00:00<00:00, 22.87 passes/s]\n",
      "Converting Frontend ==> MIL Ops: 100%|██████████| 31/31 [00:00<00:00, 573.78 ops/s]\n",
      "Running MIL Common passes: 100%|██████████| 33/33 [00:00<00:00, 559.44 passes/s]\n",
      "Running MIL Clean up passes: 100%|██████████| 8/8 [00:00<00:00, 312.79 passes/s]\n",
      "Translating MIL ==> NeuralNetwork Ops: 100%|██████████| 54/54 [00:00<00:00, 1607.53 ops/s]\n"
     ]
    },
    {
     "name": "stdout",
     "output_type": "stream",
     "text": [
      "converting for batch:  6\n",
      "\n",
      "*********\n",
      "\n",
      "\n"
     ]
    },
    {
     "name": "stderr",
     "output_type": "stream",
     "text": [
      "Running TensorFlow Graph Passes: 100%|██████████| 5/5 [00:00<00:00, 22.66 passes/s]\n",
      "Converting Frontend ==> MIL Ops: 100%|██████████| 31/31 [00:00<00:00, 588.60 ops/s]\n",
      "Running MIL Common passes: 100%|██████████| 33/33 [00:00<00:00, 534.93 passes/s]\n",
      "Running MIL Clean up passes: 100%|██████████| 8/8 [00:00<00:00, 261.82 passes/s]\n",
      "Translating MIL ==> NeuralNetwork Ops: 100%|██████████| 54/54 [00:00<00:00, 1573.25 ops/s]\n"
     ]
    },
    {
     "name": "stdout",
     "output_type": "stream",
     "text": [
      "converting for batch:  7\n",
      "\n",
      "*********\n",
      "\n",
      "\n"
     ]
    },
    {
     "name": "stderr",
     "output_type": "stream",
     "text": [
      "Running TensorFlow Graph Passes: 100%|██████████| 5/5 [00:00<00:00, 22.39 passes/s]\n",
      "Converting Frontend ==> MIL Ops: 100%|██████████| 31/31 [00:00<00:00, 476.54 ops/s]\n",
      "Running MIL Common passes: 100%|██████████| 33/33 [00:00<00:00, 586.80 passes/s]\n",
      "Running MIL Clean up passes: 100%|██████████| 8/8 [00:00<00:00, 284.87 passes/s]\n",
      "Translating MIL ==> NeuralNetwork Ops: 100%|██████████| 54/54 [00:00<00:00, 1531.56 ops/s]\n"
     ]
    },
    {
     "name": "stdout",
     "output_type": "stream",
     "text": [
      "converting for batch:  8\n",
      "\n",
      "*********\n",
      "\n",
      "\n"
     ]
    },
    {
     "name": "stderr",
     "output_type": "stream",
     "text": [
      "Running TensorFlow Graph Passes: 100%|██████████| 5/5 [00:00<00:00, 22.89 passes/s]\n",
      "Converting Frontend ==> MIL Ops: 100%|██████████| 31/31 [00:00<00:00, 569.29 ops/s]\n",
      "Running MIL Common passes: 100%|██████████| 33/33 [00:00<00:00, 500.57 passes/s]\n",
      "Running MIL Clean up passes: 100%|██████████| 8/8 [00:00<00:00, 254.50 passes/s]\n",
      "Translating MIL ==> NeuralNetwork Ops: 100%|██████████| 54/54 [00:00<00:00, 1640.04 ops/s]\n"
     ]
    },
    {
     "name": "stdout",
     "output_type": "stream",
     "text": [
      "converting for batch:  9\n",
      "\n",
      "*********\n",
      "\n",
      "\n"
     ]
    },
    {
     "name": "stderr",
     "output_type": "stream",
     "text": [
      "Running TensorFlow Graph Passes: 100%|██████████| 5/5 [00:00<00:00, 22.65 passes/s]\n",
      "Converting Frontend ==> MIL Ops: 100%|██████████| 31/31 [00:00<00:00, 566.31 ops/s]\n",
      "Running MIL Common passes: 100%|██████████| 33/33 [00:00<00:00, 556.25 passes/s]\n",
      "Running MIL Clean up passes: 100%|██████████| 8/8 [00:00<00:00, 259.16 passes/s]\n",
      "Translating MIL ==> NeuralNetwork Ops: 100%|██████████| 54/54 [00:00<00:00, 1853.87 ops/s]\n"
     ]
    },
    {
     "name": "stdout",
     "output_type": "stream",
     "text": [
      "converting for batch:  10\n",
      "\n",
      "*********\n",
      "\n",
      "\n"
     ]
    },
    {
     "name": "stderr",
     "output_type": "stream",
     "text": [
      "Running TensorFlow Graph Passes: 100%|██████████| 5/5 [00:00<00:00, 23.27 passes/s]\n",
      "Converting Frontend ==> MIL Ops: 100%|██████████| 31/31 [00:00<00:00, 634.99 ops/s]\n",
      "Running MIL Common passes: 100%|██████████| 33/33 [00:00<00:00, 551.15 passes/s]\n",
      "Running MIL Clean up passes: 100%|██████████| 8/8 [00:00<00:00, 283.10 passes/s]\n",
      "Translating MIL ==> NeuralNetwork Ops: 100%|██████████| 54/54 [00:00<00:00, 1792.59 ops/s]\n"
     ]
    },
    {
     "name": "stdout",
     "output_type": "stream",
     "text": [
      "converting for batch:  11\n",
      "\n",
      "*********\n",
      "\n",
      "\n"
     ]
    },
    {
     "name": "stderr",
     "output_type": "stream",
     "text": [
      "Running TensorFlow Graph Passes: 100%|██████████| 5/5 [00:00<00:00, 22.40 passes/s]\n",
      "Converting Frontend ==> MIL Ops: 100%|██████████| 31/31 [00:00<00:00, 572.54 ops/s]\n",
      "Running MIL Common passes: 100%|██████████| 33/33 [00:00<00:00, 526.43 passes/s]\n",
      "Running MIL Clean up passes: 100%|██████████| 8/8 [00:00<00:00, 253.23 passes/s]\n",
      "Translating MIL ==> NeuralNetwork Ops: 100%|██████████| 54/54 [00:00<00:00, 1603.27 ops/s]\n"
     ]
    },
    {
     "name": "stdout",
     "output_type": "stream",
     "text": [
      "converting for batch:  12\n",
      "\n",
      "*********\n",
      "\n",
      "\n"
     ]
    },
    {
     "name": "stderr",
     "output_type": "stream",
     "text": [
      "Running TensorFlow Graph Passes: 100%|██████████| 5/5 [00:00<00:00, 22.83 passes/s]\n",
      "Converting Frontend ==> MIL Ops: 100%|██████████| 31/31 [00:00<00:00, 617.53 ops/s]\n",
      "Running MIL Common passes: 100%|██████████| 33/33 [00:00<00:00, 571.15 passes/s]\n",
      "Running MIL Clean up passes: 100%|██████████| 8/8 [00:00<00:00, 256.85 passes/s]\n",
      "Translating MIL ==> NeuralNetwork Ops: 100%|██████████| 54/54 [00:00<00:00, 1656.83 ops/s]\n"
     ]
    },
    {
     "name": "stdout",
     "output_type": "stream",
     "text": [
      "converting for batch:  13\n",
      "\n",
      "*********\n",
      "\n",
      "\n"
     ]
    },
    {
     "name": "stderr",
     "output_type": "stream",
     "text": [
      "Running TensorFlow Graph Passes: 100%|██████████| 5/5 [00:00<00:00, 22.71 passes/s]\n",
      "Converting Frontend ==> MIL Ops: 100%|██████████| 31/31 [00:00<00:00, 633.55 ops/s]\n",
      "Running MIL Common passes: 100%|██████████| 33/33 [00:00<00:00, 523.60 passes/s]\n",
      "Running MIL Clean up passes: 100%|██████████| 8/8 [00:00<00:00, 266.19 passes/s]\n",
      "Translating MIL ==> NeuralNetwork Ops: 100%|██████████| 54/54 [00:00<00:00, 1639.59 ops/s]\n"
     ]
    },
    {
     "name": "stdout",
     "output_type": "stream",
     "text": [
      "converting for batch:  14\n",
      "\n",
      "*********\n",
      "\n",
      "\n"
     ]
    },
    {
     "name": "stderr",
     "output_type": "stream",
     "text": [
      "Running TensorFlow Graph Passes: 100%|██████████| 5/5 [00:00<00:00, 22.36 passes/s]\n",
      "Converting Frontend ==> MIL Ops: 100%|██████████| 31/31 [00:00<00:00, 611.96 ops/s]\n",
      "Running MIL Common passes: 100%|██████████| 33/33 [00:00<00:00, 551.85 passes/s]\n",
      "Running MIL Clean up passes: 100%|██████████| 8/8 [00:00<00:00, 251.79 passes/s]\n",
      "Translating MIL ==> NeuralNetwork Ops: 100%|██████████| 54/54 [00:00<00:00, 1762.86 ops/s]\n"
     ]
    },
    {
     "name": "stdout",
     "output_type": "stream",
     "text": [
      "converting for batch:  15\n",
      "\n",
      "*********\n",
      "\n",
      "\n"
     ]
    },
    {
     "name": "stderr",
     "output_type": "stream",
     "text": [
      "Running TensorFlow Graph Passes: 100%|██████████| 5/5 [00:00<00:00, 22.86 passes/s]\n",
      "Converting Frontend ==> MIL Ops: 100%|██████████| 31/31 [00:00<00:00, 418.73 ops/s]\n",
      "Running MIL Common passes: 100%|██████████| 33/33 [00:00<00:00, 355.26 passes/s]\n",
      "Running MIL Clean up passes: 100%|██████████| 8/8 [00:00<00:00, 200.00 passes/s]\n",
      "Translating MIL ==> NeuralNetwork Ops: 100%|██████████| 54/54 [00:00<00:00, 1235.17 ops/s]\n"
     ]
    },
    {
     "name": "stdout",
     "output_type": "stream",
     "text": [
      "converting for batch:  16\n",
      "\n",
      "*********\n",
      "\n",
      "\n"
     ]
    },
    {
     "name": "stderr",
     "output_type": "stream",
     "text": [
      "Running TensorFlow Graph Passes: 100%|██████████| 5/5 [00:00<00:00, 23.17 passes/s]\n",
      "Converting Frontend ==> MIL Ops: 100%|██████████| 31/31 [00:00<00:00, 629.60 ops/s]\n",
      "Running MIL Common passes: 100%|██████████| 33/33 [00:00<00:00, 418.60 passes/s]\n",
      "Running MIL Clean up passes: 100%|██████████| 8/8 [00:00<00:00, 277.00 passes/s]\n",
      "Translating MIL ==> NeuralNetwork Ops: 100%|██████████| 54/54 [00:00<00:00, 1835.55 ops/s]\n"
     ]
    },
    {
     "name": "stdout",
     "output_type": "stream",
     "text": [
      "converting for batch:  17\n",
      "\n",
      "*********\n",
      "\n",
      "\n"
     ]
    },
    {
     "name": "stderr",
     "output_type": "stream",
     "text": [
      "Running TensorFlow Graph Passes: 100%|██████████| 5/5 [00:00<00:00, 22.95 passes/s]\n",
      "Converting Frontend ==> MIL Ops: 100%|██████████| 31/31 [00:00<00:00, 557.15 ops/s]\n",
      "Running MIL Common passes: 100%|██████████| 33/33 [00:00<00:00, 542.35 passes/s]\n",
      "Running MIL Clean up passes: 100%|██████████| 8/8 [00:00<00:00, 282.50 passes/s]\n",
      "Translating MIL ==> NeuralNetwork Ops: 100%|██████████| 54/54 [00:00<00:00, 1743.55 ops/s]\n"
     ]
    },
    {
     "name": "stdout",
     "output_type": "stream",
     "text": [
      "converting for batch:  18\n",
      "\n",
      "*********\n",
      "\n",
      "\n"
     ]
    },
    {
     "name": "stderr",
     "output_type": "stream",
     "text": [
      "Running TensorFlow Graph Passes: 100%|██████████| 5/5 [00:00<00:00, 22.63 passes/s]\n",
      "Converting Frontend ==> MIL Ops: 100%|██████████| 31/31 [00:00<00:00, 525.60 ops/s]\n",
      "Running MIL Common passes: 100%|██████████| 33/33 [00:00<00:00, 541.76 passes/s]\n",
      "Running MIL Clean up passes: 100%|██████████| 8/8 [00:00<00:00, 257.71 passes/s]\n",
      "Translating MIL ==> NeuralNetwork Ops: 100%|██████████| 54/54 [00:00<00:00, 1817.87 ops/s]\n"
     ]
    },
    {
     "name": "stdout",
     "output_type": "stream",
     "text": [
      "converting for batch:  19\n",
      "\n",
      "*********\n",
      "\n",
      "\n"
     ]
    },
    {
     "name": "stderr",
     "output_type": "stream",
     "text": [
      "Running TensorFlow Graph Passes: 100%|██████████| 5/5 [00:00<00:00, 22.85 passes/s]\n",
      "Converting Frontend ==> MIL Ops: 100%|██████████| 31/31 [00:00<00:00, 613.79 ops/s]\n",
      "Running MIL Common passes: 100%|██████████| 33/33 [00:00<00:00, 552.54 passes/s]\n",
      "Running MIL Clean up passes: 100%|██████████| 8/8 [00:00<00:00, 267.60 passes/s]\n",
      "Translating MIL ==> NeuralNetwork Ops: 100%|██████████| 54/54 [00:00<00:00, 1588.11 ops/s]\n"
     ]
    },
    {
     "name": "stdout",
     "output_type": "stream",
     "text": [
      "converting for batch:  20\n",
      "\n",
      "*********\n",
      "\n",
      "\n"
     ]
    },
    {
     "name": "stderr",
     "output_type": "stream",
     "text": [
      "Running TensorFlow Graph Passes: 100%|██████████| 5/5 [00:00<00:00, 22.40 passes/s]\n",
      "Converting Frontend ==> MIL Ops: 100%|██████████| 31/31 [00:00<00:00, 571.77 ops/s]\n",
      "Running MIL Common passes: 100%|██████████| 33/33 [00:00<00:00, 570.41 passes/s]\n",
      "Running MIL Clean up passes: 100%|██████████| 8/8 [00:00<00:00, 275.28 passes/s]\n",
      "Translating MIL ==> NeuralNetwork Ops: 100%|██████████| 54/54 [00:00<00:00, 1697.14 ops/s]\n"
     ]
    },
    {
     "name": "stdout",
     "output_type": "stream",
     "text": [
      "Conversion complete in 0m 38s\n",
      "################ Batch size:  300\n",
      "converting for batch:  0\n",
      "\n",
      "*********\n",
      "\n",
      "\n"
     ]
    },
    {
     "name": "stderr",
     "output_type": "stream",
     "text": [
      "Running TensorFlow Graph Passes: 100%|██████████| 5/5 [00:00<00:00, 22.77 passes/s]\n",
      "Converting Frontend ==> MIL Ops: 100%|██████████| 31/31 [00:00<00:00, 581.14 ops/s]\n",
      "Running MIL Common passes: 100%|██████████| 33/33 [00:00<00:00, 578.35 passes/s]\n",
      "Running MIL Clean up passes: 100%|██████████| 8/8 [00:00<00:00, 311.49 passes/s]\n",
      "Translating MIL ==> NeuralNetwork Ops: 100%|██████████| 54/54 [00:00<00:00, 1754.56 ops/s]\n"
     ]
    },
    {
     "name": "stdout",
     "output_type": "stream",
     "text": [
      "converting for batch:  1\n",
      "\n",
      "*********\n",
      "\n",
      "\n"
     ]
    },
    {
     "name": "stderr",
     "output_type": "stream",
     "text": [
      "Running TensorFlow Graph Passes: 100%|██████████| 5/5 [00:00<00:00, 22.59 passes/s]\n",
      "Converting Frontend ==> MIL Ops: 100%|██████████| 31/31 [00:00<00:00, 580.44 ops/s]\n",
      "Running MIL Common passes: 100%|██████████| 33/33 [00:00<00:00, 579.98 passes/s]\n",
      "Running MIL Clean up passes: 100%|██████████| 8/8 [00:00<00:00, 287.06 passes/s]\n",
      "Translating MIL ==> NeuralNetwork Ops: 100%|██████████| 54/54 [00:00<00:00, 1674.16 ops/s]\n"
     ]
    },
    {
     "name": "stdout",
     "output_type": "stream",
     "text": [
      "converting for batch:  2\n",
      "\n",
      "*********\n",
      "\n",
      "\n"
     ]
    },
    {
     "name": "stderr",
     "output_type": "stream",
     "text": [
      "Running TensorFlow Graph Passes: 100%|██████████| 5/5 [00:00<00:00, 22.58 passes/s]\n",
      "Converting Frontend ==> MIL Ops: 100%|██████████| 31/31 [00:00<00:00, 603.65 ops/s]\n",
      "Running MIL Common passes: 100%|██████████| 33/33 [00:00<00:00, 509.69 passes/s]\n",
      "Running MIL Clean up passes: 100%|██████████| 8/8 [00:00<00:00, 315.28 passes/s]\n",
      "Translating MIL ==> NeuralNetwork Ops: 100%|██████████| 54/54 [00:00<00:00, 1664.55 ops/s]\n"
     ]
    },
    {
     "name": "stdout",
     "output_type": "stream",
     "text": [
      "converting for batch:  3\n",
      "\n",
      "*********\n",
      "\n",
      "\n"
     ]
    },
    {
     "name": "stderr",
     "output_type": "stream",
     "text": [
      "Running TensorFlow Graph Passes: 100%|██████████| 5/5 [00:00<00:00, 22.53 passes/s]\n",
      "Converting Frontend ==> MIL Ops: 100%|██████████| 31/31 [00:00<00:00, 573.69 ops/s]\n",
      "Running MIL Common passes: 100%|██████████| 33/33 [00:00<00:00, 554.83 passes/s]\n",
      "Running MIL Clean up passes: 100%|██████████| 8/8 [00:00<00:00, 226.61 passes/s]\n",
      "Translating MIL ==> NeuralNetwork Ops: 100%|██████████| 54/54 [00:00<00:00, 1409.37 ops/s]\n"
     ]
    },
    {
     "name": "stdout",
     "output_type": "stream",
     "text": [
      "converting for batch:  4\n",
      "\n",
      "*********\n",
      "\n",
      "\n"
     ]
    },
    {
     "name": "stderr",
     "output_type": "stream",
     "text": [
      "Running TensorFlow Graph Passes: 100%|██████████| 5/5 [00:00<00:00, 22.66 passes/s]\n",
      "Converting Frontend ==> MIL Ops: 100%|██████████| 31/31 [00:00<00:00, 630.98 ops/s]\n",
      "Running MIL Common passes: 100%|██████████| 33/33 [00:00<00:00, 592.13 passes/s]\n",
      "Running MIL Clean up passes: 100%|██████████| 8/8 [00:00<00:00, 288.03 passes/s]\n",
      "Translating MIL ==> NeuralNetwork Ops: 100%|██████████| 54/54 [00:00<00:00, 1611.08 ops/s]\n"
     ]
    },
    {
     "name": "stdout",
     "output_type": "stream",
     "text": [
      "converting for batch:  5\n",
      "\n",
      "*********\n",
      "\n",
      "\n"
     ]
    },
    {
     "name": "stderr",
     "output_type": "stream",
     "text": [
      "Running TensorFlow Graph Passes: 100%|██████████| 5/5 [00:00<00:00, 23.53 passes/s]\n",
      "Converting Frontend ==> MIL Ops: 100%|██████████| 31/31 [00:00<00:00, 391.58 ops/s]\n",
      "Running MIL Common passes: 100%|██████████| 33/33 [00:00<00:00, 426.72 passes/s]\n",
      "Running MIL Clean up passes: 100%|██████████| 8/8 [00:00<00:00, 257.14 passes/s]\n",
      "Translating MIL ==> NeuralNetwork Ops: 100%|██████████| 54/54 [00:00<00:00, 1387.04 ops/s]\n"
     ]
    },
    {
     "name": "stdout",
     "output_type": "stream",
     "text": [
      "converting for batch:  6\n",
      "\n",
      "*********\n",
      "\n",
      "\n"
     ]
    },
    {
     "name": "stderr",
     "output_type": "stream",
     "text": [
      "Running TensorFlow Graph Passes: 100%|██████████| 5/5 [00:00<00:00, 22.42 passes/s]\n",
      "Converting Frontend ==> MIL Ops: 100%|██████████| 31/31 [00:00<00:00, 606.66 ops/s]\n",
      "Running MIL Common passes: 100%|██████████| 33/33 [00:00<00:00, 444.79 passes/s]\n",
      "Running MIL Clean up passes: 100%|██████████| 8/8 [00:00<00:00, 292.36 passes/s]\n",
      "Translating MIL ==> NeuralNetwork Ops: 100%|██████████| 54/54 [00:00<00:00, 1459.61 ops/s]\n"
     ]
    },
    {
     "name": "stdout",
     "output_type": "stream",
     "text": [
      "converting for batch:  7\n",
      "\n",
      "*********\n",
      "\n",
      "\n"
     ]
    },
    {
     "name": "stderr",
     "output_type": "stream",
     "text": [
      "Running TensorFlow Graph Passes: 100%|██████████| 5/5 [00:00<00:00, 22.07 passes/s]\n",
      "Converting Frontend ==> MIL Ops: 100%|██████████| 31/31 [00:00<00:00, 588.19 ops/s]\n",
      "Running MIL Common passes: 100%|██████████| 33/33 [00:00<00:00, 513.35 passes/s]\n",
      "Running MIL Clean up passes: 100%|██████████| 8/8 [00:00<00:00, 290.83 passes/s]\n",
      "Translating MIL ==> NeuralNetwork Ops: 100%|██████████| 54/54 [00:00<00:00, 1718.61 ops/s]\n"
     ]
    },
    {
     "name": "stdout",
     "output_type": "stream",
     "text": [
      "converting for batch:  8\n",
      "\n",
      "*********\n",
      "\n",
      "\n"
     ]
    },
    {
     "name": "stderr",
     "output_type": "stream",
     "text": [
      "Running TensorFlow Graph Passes: 100%|██████████| 5/5 [00:00<00:00, 21.73 passes/s]\n",
      "Converting Frontend ==> MIL Ops: 100%|██████████| 31/31 [00:00<00:00, 501.02 ops/s]\n",
      "Running MIL Common passes: 100%|██████████| 33/33 [00:00<00:00, 461.64 passes/s]\n",
      "Running MIL Clean up passes: 100%|██████████| 8/8 [00:00<00:00, 253.79 passes/s]\n",
      "Translating MIL ==> NeuralNetwork Ops: 100%|██████████| 54/54 [00:00<00:00, 1778.36 ops/s]\n"
     ]
    },
    {
     "name": "stdout",
     "output_type": "stream",
     "text": [
      "converting for batch:  9\n",
      "\n",
      "*********\n",
      "\n",
      "\n"
     ]
    },
    {
     "name": "stderr",
     "output_type": "stream",
     "text": [
      "Running TensorFlow Graph Passes: 100%|██████████| 5/5 [00:00<00:00, 21.91 passes/s]\n",
      "Converting Frontend ==> MIL Ops: 100%|██████████| 31/31 [00:00<00:00, 355.46 ops/s]\n",
      "Running MIL Common passes: 100%|██████████| 33/33 [00:00<00:00, 555.59 passes/s]\n",
      "Running MIL Clean up passes: 100%|██████████| 8/8 [00:00<00:00, 274.97 passes/s]\n",
      "Translating MIL ==> NeuralNetwork Ops: 100%|██████████| 54/54 [00:00<00:00, 1716.31 ops/s]\n"
     ]
    },
    {
     "name": "stdout",
     "output_type": "stream",
     "text": [
      "converting for batch:  10\n",
      "\n",
      "*********\n",
      "\n",
      "\n"
     ]
    },
    {
     "name": "stderr",
     "output_type": "stream",
     "text": [
      "Running TensorFlow Graph Passes: 100%|██████████| 5/5 [00:00<00:00, 22.45 passes/s]\n",
      "Converting Frontend ==> MIL Ops: 100%|██████████| 31/31 [00:00<00:00, 234.74 ops/s]\n",
      "Running MIL Common passes: 100%|██████████| 33/33 [00:00<00:00, 405.84 passes/s]\n",
      "Running MIL Clean up passes: 100%|██████████| 8/8 [00:00<00:00, 208.15 passes/s]\n",
      "Translating MIL ==> NeuralNetwork Ops: 100%|██████████| 54/54 [00:00<00:00, 1507.38 ops/s]\n"
     ]
    },
    {
     "name": "stdout",
     "output_type": "stream",
     "text": [
      "converting for batch:  11\n",
      "\n",
      "*********\n",
      "\n",
      "\n"
     ]
    },
    {
     "name": "stderr",
     "output_type": "stream",
     "text": [
      "Running TensorFlow Graph Passes: 100%|██████████| 5/5 [00:00<00:00, 22.31 passes/s]\n",
      "Converting Frontend ==> MIL Ops: 100%|██████████| 31/31 [00:00<00:00, 604.86 ops/s]\n",
      "Running MIL Common passes: 100%|██████████| 33/33 [00:00<00:00, 602.92 passes/s]\n",
      "Running MIL Clean up passes: 100%|██████████| 8/8 [00:00<00:00, 300.13 passes/s]\n",
      "Translating MIL ==> NeuralNetwork Ops: 100%|██████████| 54/54 [00:00<00:00, 1632.51 ops/s]\n"
     ]
    },
    {
     "name": "stdout",
     "output_type": "stream",
     "text": [
      "converting for batch:  12\n",
      "\n",
      "*********\n",
      "\n",
      "\n"
     ]
    },
    {
     "name": "stderr",
     "output_type": "stream",
     "text": [
      "Running TensorFlow Graph Passes: 100%|██████████| 5/5 [00:00<00:00, 22.21 passes/s]\n",
      "Converting Frontend ==> MIL Ops: 100%|██████████| 31/31 [00:00<00:00, 603.14 ops/s]\n",
      "Running MIL Common passes: 100%|██████████| 33/33 [00:00<00:00, 498.58 passes/s]\n",
      "Running MIL Clean up passes: 100%|██████████| 8/8 [00:00<00:00, 251.66 passes/s]\n",
      "Translating MIL ==> NeuralNetwork Ops: 100%|██████████| 54/54 [00:00<00:00, 1614.06 ops/s]\n"
     ]
    },
    {
     "name": "stdout",
     "output_type": "stream",
     "text": [
      "converting for batch:  13\n",
      "\n",
      "*********\n",
      "\n",
      "\n"
     ]
    },
    {
     "name": "stderr",
     "output_type": "stream",
     "text": [
      "Running TensorFlow Graph Passes: 100%|██████████| 5/5 [00:00<00:00, 22.06 passes/s]\n",
      "Converting Frontend ==> MIL Ops: 100%|██████████| 31/31 [00:00<00:00, 596.46 ops/s]\n",
      "Running MIL Common passes: 100%|██████████| 33/33 [00:00<00:00, 580.02 passes/s]\n",
      "Running MIL Clean up passes: 100%|██████████| 8/8 [00:00<00:00, 284.59 passes/s]\n",
      "Translating MIL ==> NeuralNetwork Ops: 100%|██████████| 54/54 [00:00<00:00, 1624.02 ops/s]\n"
     ]
    },
    {
     "name": "stdout",
     "output_type": "stream",
     "text": [
      "converting for batch:  14\n",
      "\n",
      "*********\n",
      "\n",
      "\n"
     ]
    },
    {
     "name": "stderr",
     "output_type": "stream",
     "text": [
      "Running TensorFlow Graph Passes: 100%|██████████| 5/5 [00:00<00:00, 22.62 passes/s]\n",
      "Converting Frontend ==> MIL Ops: 100%|██████████| 31/31 [00:00<00:00, 550.52 ops/s]\n",
      "Running MIL Common passes: 100%|██████████| 33/33 [00:00<00:00, 571.87 passes/s]\n",
      "Running MIL Clean up passes: 100%|██████████| 8/8 [00:00<00:00, 279.44 passes/s]\n",
      "Translating MIL ==> NeuralNetwork Ops: 100%|██████████| 54/54 [00:00<00:00, 1657.06 ops/s]\n"
     ]
    },
    {
     "name": "stdout",
     "output_type": "stream",
     "text": [
      "converting for batch:  15\n",
      "\n",
      "*********\n",
      "\n",
      "\n"
     ]
    },
    {
     "name": "stderr",
     "output_type": "stream",
     "text": [
      "Running TensorFlow Graph Passes: 100%|██████████| 5/5 [00:00<00:00, 22.23 passes/s]\n",
      "Converting Frontend ==> MIL Ops: 100%|██████████| 31/31 [00:00<00:00, 595.14 ops/s]\n",
      "Running MIL Common passes: 100%|██████████| 33/33 [00:00<00:00, 508.90 passes/s]\n",
      "Running MIL Clean up passes: 100%|██████████| 8/8 [00:00<00:00, 286.63 passes/s]\n",
      "Translating MIL ==> NeuralNetwork Ops: 100%|██████████| 54/54 [00:00<00:00, 1644.34 ops/s]\n"
     ]
    },
    {
     "name": "stdout",
     "output_type": "stream",
     "text": [
      "converting for batch:  16\n",
      "\n",
      "*********\n",
      "\n",
      "\n"
     ]
    },
    {
     "name": "stderr",
     "output_type": "stream",
     "text": [
      "Running TensorFlow Graph Passes: 100%|██████████| 5/5 [00:00<00:00, 22.38 passes/s]\n",
      "Converting Frontend ==> MIL Ops: 100%|██████████| 31/31 [00:00<00:00, 427.12 ops/s]\n",
      "Running MIL Common passes: 100%|██████████| 33/33 [00:00<00:00, 468.44 passes/s]\n",
      "Running MIL Clean up passes: 100%|██████████| 8/8 [00:00<00:00, 198.14 passes/s]\n",
      "Translating MIL ==> NeuralNetwork Ops: 100%|██████████| 54/54 [00:00<00:00, 1553.20 ops/s]\n"
     ]
    },
    {
     "name": "stdout",
     "output_type": "stream",
     "text": [
      "converting for batch:  17\n",
      "\n",
      "*********\n",
      "\n",
      "\n"
     ]
    },
    {
     "name": "stderr",
     "output_type": "stream",
     "text": [
      "Running TensorFlow Graph Passes: 100%|██████████| 5/5 [00:00<00:00, 21.79 passes/s]\n",
      "Converting Frontend ==> MIL Ops: 100%|██████████| 31/31 [00:00<00:00, 611.09 ops/s]\n",
      "Running MIL Common passes: 100%|██████████| 33/33 [00:00<00:00, 554.30 passes/s]\n",
      "Running MIL Clean up passes: 100%|██████████| 8/8 [00:00<00:00, 275.64 passes/s]\n",
      "Translating MIL ==> NeuralNetwork Ops: 100%|██████████| 54/54 [00:00<00:00, 1908.67 ops/s]\n"
     ]
    },
    {
     "name": "stdout",
     "output_type": "stream",
     "text": [
      "converting for batch:  18\n",
      "\n",
      "*********\n",
      "\n",
      "\n"
     ]
    },
    {
     "name": "stderr",
     "output_type": "stream",
     "text": [
      "Running TensorFlow Graph Passes: 100%|██████████| 5/5 [00:00<00:00, 22.15 passes/s]\n",
      "Converting Frontend ==> MIL Ops: 100%|██████████| 31/31 [00:00<00:00, 608.14 ops/s]\n",
      "Running MIL Common passes: 100%|██████████| 33/33 [00:00<00:00, 536.79 passes/s]\n",
      "Running MIL Clean up passes: 100%|██████████| 8/8 [00:00<00:00, 288.72 passes/s]\n",
      "Translating MIL ==> NeuralNetwork Ops: 100%|██████████| 54/54 [00:00<00:00, 1730.81 ops/s]\n"
     ]
    },
    {
     "name": "stdout",
     "output_type": "stream",
     "text": [
      "converting for batch:  19\n",
      "\n",
      "*********\n",
      "\n",
      "\n"
     ]
    },
    {
     "name": "stderr",
     "output_type": "stream",
     "text": [
      "Running TensorFlow Graph Passes: 100%|██████████| 5/5 [00:00<00:00, 22.12 passes/s]\n",
      "Converting Frontend ==> MIL Ops: 100%|██████████| 31/31 [00:00<00:00, 603.30 ops/s]\n",
      "Running MIL Common passes: 100%|██████████| 33/33 [00:00<00:00, 577.56 passes/s]\n",
      "Running MIL Clean up passes: 100%|██████████| 8/8 [00:00<00:00, 265.23 passes/s]\n",
      "Translating MIL ==> NeuralNetwork Ops: 100%|██████████| 54/54 [00:00<00:00, 1822.80 ops/s]\n"
     ]
    },
    {
     "name": "stdout",
     "output_type": "stream",
     "text": [
      "converting for batch:  20\n",
      "\n",
      "*********\n",
      "\n",
      "\n"
     ]
    },
    {
     "name": "stderr",
     "output_type": "stream",
     "text": [
      "Running TensorFlow Graph Passes: 100%|██████████| 5/5 [00:00<00:00, 22.19 passes/s]\n",
      "Converting Frontend ==> MIL Ops: 100%|██████████| 31/31 [00:00<00:00, 600.83 ops/s]\n",
      "Running MIL Common passes: 100%|██████████| 33/33 [00:00<00:00, 578.74 passes/s]\n",
      "Running MIL Clean up passes: 100%|██████████| 8/8 [00:00<00:00, 273.86 passes/s]\n",
      "Translating MIL ==> NeuralNetwork Ops: 100%|██████████| 54/54 [00:00<00:00, 1846.28 ops/s]\n"
     ]
    },
    {
     "name": "stdout",
     "output_type": "stream",
     "text": [
      "Conversion complete in 0m 40s\n",
      "################ Batch size:  350\n",
      "converting for batch:  0\n",
      "\n",
      "*********\n",
      "\n",
      "\n"
     ]
    },
    {
     "name": "stderr",
     "output_type": "stream",
     "text": [
      "Running TensorFlow Graph Passes: 100%|██████████| 5/5 [00:00<00:00, 22.18 passes/s]\n",
      "Converting Frontend ==> MIL Ops: 100%|██████████| 31/31 [00:00<00:00, 586.25 ops/s]\n",
      "Running MIL Common passes: 100%|██████████| 33/33 [00:00<00:00, 559.39 passes/s]\n",
      "Running MIL Clean up passes: 100%|██████████| 8/8 [00:00<00:00, 270.41 passes/s]\n",
      "Translating MIL ==> NeuralNetwork Ops: 100%|██████████| 54/54 [00:00<00:00, 1714.06 ops/s]\n"
     ]
    },
    {
     "name": "stdout",
     "output_type": "stream",
     "text": [
      "converting for batch:  1\n",
      "\n",
      "*********\n",
      "\n",
      "\n"
     ]
    },
    {
     "name": "stderr",
     "output_type": "stream",
     "text": [
      "Running TensorFlow Graph Passes: 100%|██████████| 5/5 [00:00<00:00, 22.08 passes/s]\n",
      "Converting Frontend ==> MIL Ops: 100%|██████████| 31/31 [00:00<00:00, 622.56 ops/s]\n",
      "Running MIL Common passes: 100%|██████████| 33/33 [00:00<00:00, 558.38 passes/s]\n",
      "Running MIL Clean up passes: 100%|██████████| 8/8 [00:00<00:00, 257.19 passes/s]\n",
      "Translating MIL ==> NeuralNetwork Ops: 100%|██████████| 54/54 [00:00<00:00, 1764.36 ops/s]\n"
     ]
    },
    {
     "name": "stdout",
     "output_type": "stream",
     "text": [
      "converting for batch:  2\n",
      "\n",
      "*********\n",
      "\n",
      "\n"
     ]
    },
    {
     "name": "stderr",
     "output_type": "stream",
     "text": [
      "Running TensorFlow Graph Passes: 100%|██████████| 5/5 [00:00<00:00, 21.65 passes/s]\n",
      "Converting Frontend ==> MIL Ops: 100%|██████████| 31/31 [00:00<00:00, 593.62 ops/s]\n",
      "Running MIL Common passes: 100%|██████████| 33/33 [00:00<00:00, 532.27 passes/s]\n",
      "Running MIL Clean up passes: 100%|██████████| 8/8 [00:00<00:00, 277.54 passes/s]\n",
      "Translating MIL ==> NeuralNetwork Ops: 100%|██████████| 54/54 [00:00<00:00, 1541.36 ops/s]\n"
     ]
    },
    {
     "name": "stdout",
     "output_type": "stream",
     "text": [
      "converting for batch:  3\n",
      "\n",
      "*********\n",
      "\n",
      "\n"
     ]
    },
    {
     "name": "stderr",
     "output_type": "stream",
     "text": [
      "Running TensorFlow Graph Passes: 100%|██████████| 5/5 [00:00<00:00, 21.71 passes/s]\n",
      "Converting Frontend ==> MIL Ops: 100%|██████████| 31/31 [00:00<00:00, 591.96 ops/s]\n",
      "Running MIL Common passes: 100%|██████████| 33/33 [00:00<00:00, 575.47 passes/s]\n",
      "Running MIL Clean up passes: 100%|██████████| 8/8 [00:00<00:00, 263.73 passes/s]\n",
      "Translating MIL ==> NeuralNetwork Ops: 100%|██████████| 54/54 [00:00<00:00, 1762.75 ops/s]\n"
     ]
    },
    {
     "name": "stdout",
     "output_type": "stream",
     "text": [
      "converting for batch:  4\n",
      "\n",
      "*********\n",
      "\n",
      "\n"
     ]
    },
    {
     "name": "stderr",
     "output_type": "stream",
     "text": [
      "Running TensorFlow Graph Passes: 100%|██████████| 5/5 [00:00<00:00, 22.14 passes/s]\n",
      "Converting Frontend ==> MIL Ops: 100%|██████████| 31/31 [00:00<00:00, 607.67 ops/s]\n",
      "Running MIL Common passes: 100%|██████████| 33/33 [00:00<00:00, 578.65 passes/s]\n",
      "Running MIL Clean up passes: 100%|██████████| 8/8 [00:00<00:00, 263.39 passes/s]\n",
      "Translating MIL ==> NeuralNetwork Ops: 100%|██████████| 54/54 [00:00<00:00, 1968.87 ops/s]\n"
     ]
    },
    {
     "name": "stdout",
     "output_type": "stream",
     "text": [
      "converting for batch:  5\n",
      "\n",
      "*********\n",
      "\n",
      "\n"
     ]
    },
    {
     "name": "stderr",
     "output_type": "stream",
     "text": [
      "Running TensorFlow Graph Passes: 100%|██████████| 5/5 [00:00<00:00, 21.01 passes/s]\n",
      "Converting Frontend ==> MIL Ops: 100%|██████████| 31/31 [00:00<00:00, 597.04 ops/s]\n",
      "Running MIL Common passes: 100%|██████████| 33/33 [00:00<00:00, 551.20 passes/s]\n",
      "Running MIL Clean up passes: 100%|██████████| 8/8 [00:00<00:00, 261.32 passes/s]\n",
      "Translating MIL ==> NeuralNetwork Ops: 100%|██████████| 54/54 [00:00<00:00, 1676.49 ops/s]\n"
     ]
    },
    {
     "name": "stdout",
     "output_type": "stream",
     "text": [
      "converting for batch:  6\n",
      "\n",
      "*********\n",
      "\n",
      "\n"
     ]
    },
    {
     "name": "stderr",
     "output_type": "stream",
     "text": [
      "Running TensorFlow Graph Passes: 100%|██████████| 5/5 [00:00<00:00, 22.38 passes/s]\n",
      "Converting Frontend ==> MIL Ops: 100%|██████████| 31/31 [00:00<00:00, 612.04 ops/s]\n",
      "Running MIL Common passes: 100%|██████████| 33/33 [00:00<00:00, 526.01 passes/s]\n",
      "Running MIL Clean up passes: 100%|██████████| 8/8 [00:00<00:00, 244.02 passes/s]\n",
      "Translating MIL ==> NeuralNetwork Ops: 100%|██████████| 54/54 [00:00<00:00, 1914.58 ops/s]\n"
     ]
    },
    {
     "name": "stdout",
     "output_type": "stream",
     "text": [
      "converting for batch:  7\n",
      "\n",
      "*********\n",
      "\n",
      "\n"
     ]
    },
    {
     "name": "stderr",
     "output_type": "stream",
     "text": [
      "Running TensorFlow Graph Passes: 100%|██████████| 5/5 [00:00<00:00, 21.69 passes/s]\n",
      "Converting Frontend ==> MIL Ops: 100%|██████████| 31/31 [00:00<00:00, 614.74 ops/s]\n",
      "Running MIL Common passes: 100%|██████████| 33/33 [00:00<00:00, 544.56 passes/s]\n",
      "Running MIL Clean up passes: 100%|██████████| 8/8 [00:00<00:00, 258.97 passes/s]\n",
      "Translating MIL ==> NeuralNetwork Ops: 100%|██████████| 54/54 [00:00<00:00, 1792.59 ops/s]\n"
     ]
    },
    {
     "name": "stdout",
     "output_type": "stream",
     "text": [
      "converting for batch:  8\n",
      "\n",
      "*********\n",
      "\n",
      "\n"
     ]
    },
    {
     "name": "stderr",
     "output_type": "stream",
     "text": [
      "Running TensorFlow Graph Passes: 100%|██████████| 5/5 [00:00<00:00, 22.01 passes/s]\n",
      "Converting Frontend ==> MIL Ops: 100%|██████████| 31/31 [00:00<00:00, 589.65 ops/s]\n",
      "Running MIL Common passes: 100%|██████████| 33/33 [00:00<00:00, 587.99 passes/s]\n",
      "Running MIL Clean up passes: 100%|██████████| 8/8 [00:00<00:00, 270.26 passes/s]\n",
      "Translating MIL ==> NeuralNetwork Ops: 100%|██████████| 54/54 [00:00<00:00, 1543.39 ops/s]\n"
     ]
    },
    {
     "name": "stdout",
     "output_type": "stream",
     "text": [
      "converting for batch:  9\n",
      "\n",
      "*********\n",
      "\n",
      "\n"
     ]
    },
    {
     "name": "stderr",
     "output_type": "stream",
     "text": [
      "Running TensorFlow Graph Passes: 100%|██████████| 5/5 [00:00<00:00, 22.06 passes/s]\n",
      "Converting Frontend ==> MIL Ops: 100%|██████████| 31/31 [00:00<00:00, 605.87 ops/s]\n",
      "Running MIL Common passes: 100%|██████████| 33/33 [00:00<00:00, 569.84 passes/s]\n",
      "Running MIL Clean up passes: 100%|██████████| 8/8 [00:00<00:00, 268.32 passes/s]\n",
      "Translating MIL ==> NeuralNetwork Ops: 100%|██████████| 54/54 [00:00<00:00, 1867.95 ops/s]\n"
     ]
    },
    {
     "name": "stdout",
     "output_type": "stream",
     "text": [
      "converting for batch:  10\n",
      "\n",
      "*********\n",
      "\n",
      "\n"
     ]
    },
    {
     "name": "stderr",
     "output_type": "stream",
     "text": [
      "Running TensorFlow Graph Passes: 100%|██████████| 5/5 [00:00<00:00, 22.02 passes/s]\n",
      "Converting Frontend ==> MIL Ops: 100%|██████████| 31/31 [00:00<00:00, 571.98 ops/s]\n",
      "Running MIL Common passes: 100%|██████████| 33/33 [00:00<00:00, 575.43 passes/s]\n",
      "Running MIL Clean up passes: 100%|██████████| 8/8 [00:00<00:00, 258.89 passes/s]\n",
      "Translating MIL ==> NeuralNetwork Ops: 100%|██████████| 54/54 [00:00<00:00, 1347.67 ops/s]\n"
     ]
    },
    {
     "name": "stdout",
     "output_type": "stream",
     "text": [
      "converting for batch:  11\n",
      "\n",
      "*********\n",
      "\n",
      "\n"
     ]
    },
    {
     "name": "stderr",
     "output_type": "stream",
     "text": [
      "Running TensorFlow Graph Passes: 100%|██████████| 5/5 [00:00<00:00, 21.70 passes/s]\n",
      "Converting Frontend ==> MIL Ops: 100%|██████████| 31/31 [00:00<00:00, 610.15 ops/s]\n",
      "Running MIL Common passes: 100%|██████████| 33/33 [00:00<00:00, 573.08 passes/s]\n",
      "Running MIL Clean up passes: 100%|██████████| 8/8 [00:00<00:00, 258.17 passes/s]\n",
      "Translating MIL ==> NeuralNetwork Ops: 100%|██████████| 54/54 [00:00<00:00, 1846.48 ops/s]\n"
     ]
    },
    {
     "name": "stdout",
     "output_type": "stream",
     "text": [
      "converting for batch:  12\n",
      "\n",
      "*********\n",
      "\n",
      "\n"
     ]
    },
    {
     "name": "stderr",
     "output_type": "stream",
     "text": [
      "Running TensorFlow Graph Passes: 100%|██████████| 5/5 [00:00<00:00, 21.62 passes/s]\n",
      "Converting Frontend ==> MIL Ops: 100%|██████████| 31/31 [00:00<00:00, 604.37 ops/s]\n",
      "Running MIL Common passes: 100%|██████████| 33/33 [00:00<00:00, 571.60 passes/s]\n",
      "Running MIL Clean up passes: 100%|██████████| 8/8 [00:00<00:00, 301.92 passes/s]\n",
      "Translating MIL ==> NeuralNetwork Ops: 100%|██████████| 54/54 [00:00<00:00, 1887.78 ops/s]\n"
     ]
    },
    {
     "name": "stdout",
     "output_type": "stream",
     "text": [
      "converting for batch:  13\n",
      "\n",
      "*********\n",
      "\n",
      "\n"
     ]
    },
    {
     "name": "stderr",
     "output_type": "stream",
     "text": [
      "Running TensorFlow Graph Passes: 100%|██████████| 5/5 [00:00<00:00, 21.54 passes/s]\n",
      "Converting Frontend ==> MIL Ops: 100%|██████████| 31/31 [00:00<00:00, 588.78 ops/s]\n",
      "Running MIL Common passes: 100%|██████████| 33/33 [00:00<00:00, 549.93 passes/s]\n",
      "Running MIL Clean up passes: 100%|██████████| 8/8 [00:00<00:00, 285.58 passes/s]\n",
      "Translating MIL ==> NeuralNetwork Ops: 100%|██████████| 54/54 [00:00<00:00, 1832.80 ops/s]\n"
     ]
    },
    {
     "name": "stdout",
     "output_type": "stream",
     "text": [
      "converting for batch:  14\n",
      "\n",
      "*********\n",
      "\n",
      "\n"
     ]
    },
    {
     "name": "stderr",
     "output_type": "stream",
     "text": [
      "Running TensorFlow Graph Passes: 100%|██████████| 5/5 [00:00<00:00, 21.67 passes/s]\n",
      "Converting Frontend ==> MIL Ops: 100%|██████████| 31/31 [00:00<00:00, 625.73 ops/s]\n",
      "Running MIL Common passes: 100%|██████████| 33/33 [00:00<00:00, 551.39 passes/s]\n",
      "Running MIL Clean up passes: 100%|██████████| 8/8 [00:00<00:00, 259.55 passes/s]\n",
      "Translating MIL ==> NeuralNetwork Ops: 100%|██████████| 54/54 [00:00<00:00, 1500.20 ops/s]\n"
     ]
    },
    {
     "name": "stdout",
     "output_type": "stream",
     "text": [
      "converting for batch:  15\n",
      "\n",
      "*********\n",
      "\n",
      "\n"
     ]
    },
    {
     "name": "stderr",
     "output_type": "stream",
     "text": [
      "Running TensorFlow Graph Passes: 100%|██████████| 5/5 [00:00<00:00, 22.18 passes/s]\n",
      "Converting Frontend ==> MIL Ops: 100%|██████████| 31/31 [00:00<00:00, 457.42 ops/s]\n",
      "Running MIL Common passes: 100%|██████████| 33/33 [00:00<00:00, 385.48 passes/s]\n",
      "Running MIL Clean up passes: 100%|██████████| 8/8 [00:00<00:00, 238.32 passes/s]\n",
      "Translating MIL ==> NeuralNetwork Ops: 100%|██████████| 54/54 [00:00<00:00, 1166.66 ops/s]\n"
     ]
    },
    {
     "name": "stdout",
     "output_type": "stream",
     "text": [
      "converting for batch:  16\n",
      "\n",
      "*********\n",
      "\n",
      "\n"
     ]
    },
    {
     "name": "stderr",
     "output_type": "stream",
     "text": [
      "Running TensorFlow Graph Passes: 100%|██████████| 5/5 [00:00<00:00, 21.84 passes/s]\n",
      "Converting Frontend ==> MIL Ops: 100%|██████████| 31/31 [00:00<00:00, 617.54 ops/s]\n",
      "Running MIL Common passes: 100%|██████████| 33/33 [00:00<00:00, 440.27 passes/s]\n",
      "Running MIL Clean up passes: 100%|██████████| 8/8 [00:00<00:00, 293.03 passes/s]\n",
      "Translating MIL ==> NeuralNetwork Ops: 100%|██████████| 54/54 [00:00<00:00, 1890.04 ops/s]\n"
     ]
    },
    {
     "name": "stdout",
     "output_type": "stream",
     "text": [
      "converting for batch:  17\n",
      "\n",
      "*********\n",
      "\n",
      "\n"
     ]
    },
    {
     "name": "stderr",
     "output_type": "stream",
     "text": [
      "Running TensorFlow Graph Passes: 100%|██████████| 5/5 [00:00<00:00, 21.28 passes/s]\n",
      "Converting Frontend ==> MIL Ops: 100%|██████████| 31/31 [00:00<00:00, 628.66 ops/s]\n",
      "Running MIL Common passes: 100%|██████████| 33/33 [00:00<00:00, 538.34 passes/s]\n",
      "Running MIL Clean up passes: 100%|██████████| 8/8 [00:00<00:00, 237.82 passes/s]\n",
      "Translating MIL ==> NeuralNetwork Ops: 100%|██████████| 54/54 [00:00<00:00, 1274.13 ops/s]\n"
     ]
    },
    {
     "name": "stdout",
     "output_type": "stream",
     "text": [
      "converting for batch:  18\n",
      "\n",
      "*********\n",
      "\n",
      "\n"
     ]
    },
    {
     "name": "stderr",
     "output_type": "stream",
     "text": [
      "Running TensorFlow Graph Passes: 100%|██████████| 5/5 [00:00<00:00, 21.44 passes/s]\n",
      "Converting Frontend ==> MIL Ops: 100%|██████████| 31/31 [00:00<00:00, 587.52 ops/s]\n",
      "Running MIL Common passes: 100%|██████████| 33/33 [00:00<00:00, 548.26 passes/s]\n",
      "Running MIL Clean up passes: 100%|██████████| 8/8 [00:00<00:00, 265.20 passes/s]\n",
      "Translating MIL ==> NeuralNetwork Ops: 100%|██████████| 54/54 [00:00<00:00, 1630.15 ops/s]\n"
     ]
    },
    {
     "name": "stdout",
     "output_type": "stream",
     "text": [
      "converting for batch:  19\n",
      "\n",
      "*********\n",
      "\n",
      "\n"
     ]
    },
    {
     "name": "stderr",
     "output_type": "stream",
     "text": [
      "Running TensorFlow Graph Passes: 100%|██████████| 5/5 [00:00<00:00, 21.69 passes/s]\n",
      "Converting Frontend ==> MIL Ops: 100%|██████████| 31/31 [00:00<00:00, 613.39 ops/s]\n",
      "Running MIL Common passes: 100%|██████████| 33/33 [00:00<00:00, 577.39 passes/s]\n",
      "Running MIL Clean up passes: 100%|██████████| 8/8 [00:00<00:00, 251.23 passes/s]\n",
      "Translating MIL ==> NeuralNetwork Ops: 100%|██████████| 54/54 [00:00<00:00, 1808.32 ops/s]\n"
     ]
    },
    {
     "name": "stdout",
     "output_type": "stream",
     "text": [
      "converting for batch:  20\n",
      "\n",
      "*********\n",
      "\n",
      "\n"
     ]
    },
    {
     "name": "stderr",
     "output_type": "stream",
     "text": [
      "Running TensorFlow Graph Passes: 100%|██████████| 5/5 [00:00<00:00, 21.53 passes/s]\n",
      "Converting Frontend ==> MIL Ops: 100%|██████████| 31/31 [00:00<00:00, 586.40 ops/s]\n",
      "Running MIL Common passes: 100%|██████████| 33/33 [00:00<00:00, 603.81 passes/s]\n",
      "Running MIL Clean up passes: 100%|██████████| 8/8 [00:00<00:00, 286.75 passes/s]\n",
      "Translating MIL ==> NeuralNetwork Ops: 100%|██████████| 54/54 [00:00<00:00, 1698.71 ops/s]\n"
     ]
    },
    {
     "name": "stdout",
     "output_type": "stream",
     "text": [
      "Conversion complete in 0m 41s\n",
      "################ Batch size:  400\n",
      "converting for batch:  0\n",
      "\n",
      "*********\n",
      "\n",
      "\n"
     ]
    },
    {
     "name": "stderr",
     "output_type": "stream",
     "text": [
      "Running TensorFlow Graph Passes: 100%|██████████| 5/5 [00:00<00:00, 22.03 passes/s]\n",
      "Converting Frontend ==> MIL Ops: 100%|██████████| 31/31 [00:00<00:00, 542.44 ops/s]\n",
      "Running MIL Common passes: 100%|██████████| 33/33 [00:00<00:00, 483.67 passes/s]\n",
      "Running MIL Clean up passes: 100%|██████████| 8/8 [00:00<00:00, 246.42 passes/s]\n",
      "Translating MIL ==> NeuralNetwork Ops: 100%|██████████| 54/54 [00:00<00:00, 1443.89 ops/s]\n"
     ]
    },
    {
     "name": "stdout",
     "output_type": "stream",
     "text": [
      "converting for batch:  1\n",
      "\n",
      "*********\n",
      "\n",
      "\n"
     ]
    },
    {
     "name": "stderr",
     "output_type": "stream",
     "text": [
      "Running TensorFlow Graph Passes: 100%|██████████| 5/5 [00:00<00:00, 21.99 passes/s]\n",
      "Converting Frontend ==> MIL Ops: 100%|██████████| 31/31 [00:00<00:00, 645.00 ops/s]\n",
      "Running MIL Common passes: 100%|██████████| 33/33 [00:00<00:00, 538.36 passes/s]\n",
      "Running MIL Clean up passes: 100%|██████████| 8/8 [00:00<00:00, 263.63 passes/s]\n",
      "Translating MIL ==> NeuralNetwork Ops: 100%|██████████| 54/54 [00:00<00:00, 1909.54 ops/s]\n"
     ]
    },
    {
     "name": "stdout",
     "output_type": "stream",
     "text": [
      "converting for batch:  2\n",
      "\n",
      "*********\n",
      "\n",
      "\n"
     ]
    },
    {
     "name": "stderr",
     "output_type": "stream",
     "text": [
      "Running TensorFlow Graph Passes: 100%|██████████| 5/5 [00:00<00:00, 21.72 passes/s]\n",
      "Converting Frontend ==> MIL Ops: 100%|██████████| 31/31 [00:00<00:00, 623.97 ops/s]\n",
      "Running MIL Common passes: 100%|██████████| 33/33 [00:00<00:00, 583.48 passes/s]\n",
      "Running MIL Clean up passes: 100%|██████████| 8/8 [00:00<00:00, 291.21 passes/s]\n",
      "Translating MIL ==> NeuralNetwork Ops: 100%|██████████| 54/54 [00:00<00:00, 1756.61 ops/s]\n"
     ]
    },
    {
     "name": "stdout",
     "output_type": "stream",
     "text": [
      "converting for batch:  3\n",
      "\n",
      "*********\n",
      "\n",
      "\n"
     ]
    },
    {
     "name": "stderr",
     "output_type": "stream",
     "text": [
      "Running TensorFlow Graph Passes: 100%|██████████| 5/5 [00:00<00:00, 21.77 passes/s]\n",
      "Converting Frontend ==> MIL Ops: 100%|██████████| 31/31 [00:00<00:00, 603.97 ops/s]\n",
      "Running MIL Common passes: 100%|██████████| 33/33 [00:00<00:00, 604.82 passes/s]\n",
      "Running MIL Clean up passes: 100%|██████████| 8/8 [00:00<00:00, 297.20 passes/s]\n",
      "Translating MIL ==> NeuralNetwork Ops: 100%|██████████| 54/54 [00:00<00:00, 1805.43 ops/s]\n"
     ]
    },
    {
     "name": "stdout",
     "output_type": "stream",
     "text": [
      "converting for batch:  4\n",
      "\n",
      "*********\n",
      "\n",
      "\n"
     ]
    },
    {
     "name": "stderr",
     "output_type": "stream",
     "text": [
      "Running TensorFlow Graph Passes: 100%|██████████| 5/5 [00:00<00:00, 21.74 passes/s]\n",
      "Converting Frontend ==> MIL Ops: 100%|██████████| 31/31 [00:00<00:00, 442.43 ops/s]\n",
      "Running MIL Common passes: 100%|██████████| 33/33 [00:00<00:00, 352.25 passes/s]\n",
      "Running MIL Clean up passes: 100%|██████████| 8/8 [00:00<00:00, 171.24 passes/s]\n",
      "Translating MIL ==> NeuralNetwork Ops: 100%|██████████| 54/54 [00:00<00:00, 1207.17 ops/s]\n"
     ]
    },
    {
     "name": "stdout",
     "output_type": "stream",
     "text": [
      "converting for batch:  5\n",
      "\n",
      "*********\n",
      "\n",
      "\n"
     ]
    },
    {
     "name": "stderr",
     "output_type": "stream",
     "text": [
      "Running TensorFlow Graph Passes: 100%|██████████| 5/5 [00:00<00:00, 21.77 passes/s]\n",
      "Converting Frontend ==> MIL Ops: 100%|██████████| 31/31 [00:00<00:00, 645.12 ops/s]\n",
      "Running MIL Common passes: 100%|██████████| 33/33 [00:00<00:00, 591.34 passes/s]\n",
      "Running MIL Clean up passes: 100%|██████████| 8/8 [00:00<00:00, 270.47 passes/s]\n",
      "Translating MIL ==> NeuralNetwork Ops: 100%|██████████| 54/54 [00:00<00:00, 1494.31 ops/s]\n"
     ]
    },
    {
     "name": "stdout",
     "output_type": "stream",
     "text": [
      "converting for batch:  6\n",
      "\n",
      "*********\n",
      "\n",
      "\n"
     ]
    },
    {
     "name": "stderr",
     "output_type": "stream",
     "text": [
      "Running TensorFlow Graph Passes: 100%|██████████| 5/5 [00:00<00:00, 21.55 passes/s]\n",
      "Converting Frontend ==> MIL Ops: 100%|██████████| 31/31 [00:00<00:00, 365.91 ops/s]\n",
      "Running MIL Common passes: 100%|██████████| 33/33 [00:00<00:00, 562.48 passes/s]\n",
      "Running MIL Clean up passes: 100%|██████████| 8/8 [00:00<00:00, 304.32 passes/s]\n",
      "Translating MIL ==> NeuralNetwork Ops: 100%|██████████| 54/54 [00:00<00:00, 1647.40 ops/s]\n"
     ]
    },
    {
     "name": "stdout",
     "output_type": "stream",
     "text": [
      "converting for batch:  7\n",
      "\n",
      "*********\n",
      "\n",
      "\n"
     ]
    },
    {
     "name": "stderr",
     "output_type": "stream",
     "text": [
      "Running TensorFlow Graph Passes: 100%|██████████| 5/5 [00:00<00:00, 21.40 passes/s]\n",
      "Converting Frontend ==> MIL Ops: 100%|██████████| 31/31 [00:00<00:00, 612.92 ops/s]\n",
      "Running MIL Common passes: 100%|██████████| 33/33 [00:00<00:00, 515.65 passes/s]\n",
      "Running MIL Clean up passes: 100%|██████████| 8/8 [00:00<00:00, 251.22 passes/s]\n",
      "Translating MIL ==> NeuralNetwork Ops: 100%|██████████| 54/54 [00:00<00:00, 1729.27 ops/s]\n"
     ]
    },
    {
     "name": "stdout",
     "output_type": "stream",
     "text": [
      "converting for batch:  8\n",
      "\n",
      "*********\n",
      "\n",
      "\n"
     ]
    },
    {
     "name": "stderr",
     "output_type": "stream",
     "text": [
      "Running TensorFlow Graph Passes: 100%|██████████| 5/5 [00:00<00:00, 20.96 passes/s]\n",
      "Converting Frontend ==> MIL Ops: 100%|██████████| 31/31 [00:00<00:00, 357.49 ops/s]\n",
      "Running MIL Common passes: 100%|██████████| 33/33 [00:00<00:00, 553.04 passes/s]\n",
      "Running MIL Clean up passes: 100%|██████████| 8/8 [00:00<00:00, 310.13 passes/s]\n",
      "Translating MIL ==> NeuralNetwork Ops: 100%|██████████| 54/54 [00:00<00:00, 1722.43 ops/s]\n"
     ]
    },
    {
     "name": "stdout",
     "output_type": "stream",
     "text": [
      "converting for batch:  9\n",
      "\n",
      "*********\n",
      "\n",
      "\n"
     ]
    },
    {
     "name": "stderr",
     "output_type": "stream",
     "text": [
      "Running TensorFlow Graph Passes: 100%|██████████| 5/5 [00:00<00:00, 22.70 passes/s]\n",
      "Converting Frontend ==> MIL Ops: 100%|██████████| 31/31 [00:00<00:00, 413.63 ops/s]\n",
      "Running MIL Common passes: 100%|██████████| 33/33 [00:00<00:00, 409.68 passes/s]\n",
      "Running MIL Clean up passes: 100%|██████████| 8/8 [00:00<00:00, 212.19 passes/s]\n",
      "Translating MIL ==> NeuralNetwork Ops: 100%|██████████| 54/54 [00:00<00:00, 1165.15 ops/s]\n"
     ]
    },
    {
     "name": "stdout",
     "output_type": "stream",
     "text": [
      "converting for batch:  10\n",
      "\n",
      "*********\n",
      "\n",
      "\n"
     ]
    },
    {
     "name": "stderr",
     "output_type": "stream",
     "text": [
      "Running TensorFlow Graph Passes: 100%|██████████| 5/5 [00:00<00:00, 21.43 passes/s]\n",
      "Converting Frontend ==> MIL Ops: 100%|██████████| 31/31 [00:00<00:00, 591.69 ops/s]\n",
      "Running MIL Common passes: 100%|██████████| 33/33 [00:00<00:00, 577.96 passes/s]\n",
      "Running MIL Clean up passes: 100%|██████████| 8/8 [00:00<00:00, 299.52 passes/s]\n",
      "Translating MIL ==> NeuralNetwork Ops: 100%|██████████| 54/54 [00:00<00:00, 1812.45 ops/s]\n"
     ]
    },
    {
     "name": "stdout",
     "output_type": "stream",
     "text": [
      "converting for batch:  11\n",
      "\n",
      "*********\n",
      "\n",
      "\n"
     ]
    },
    {
     "name": "stderr",
     "output_type": "stream",
     "text": [
      "Running TensorFlow Graph Passes: 100%|██████████| 5/5 [00:00<00:00, 21.47 passes/s]\n",
      "Converting Frontend ==> MIL Ops: 100%|██████████| 31/31 [00:00<00:00, 602.03 ops/s]\n",
      "Running MIL Common passes: 100%|██████████| 33/33 [00:00<00:00, 471.56 passes/s]\n",
      "Running MIL Clean up passes: 100%|██████████| 8/8 [00:00<00:00, 226.05 passes/s]\n",
      "Translating MIL ==> NeuralNetwork Ops: 100%|██████████| 54/54 [00:00<00:00, 1816.40 ops/s]\n"
     ]
    },
    {
     "name": "stdout",
     "output_type": "stream",
     "text": [
      "converting for batch:  12\n",
      "\n",
      "*********\n",
      "\n",
      "\n"
     ]
    },
    {
     "name": "stderr",
     "output_type": "stream",
     "text": [
      "Running TensorFlow Graph Passes: 100%|██████████| 5/5 [00:00<00:00, 21.31 passes/s]\n",
      "Converting Frontend ==> MIL Ops: 100%|██████████| 31/31 [00:00<00:00, 622.79 ops/s]\n",
      "Running MIL Common passes: 100%|██████████| 33/33 [00:00<00:00, 567.65 passes/s]\n",
      "Running MIL Clean up passes: 100%|██████████| 8/8 [00:00<00:00, 249.49 passes/s]\n",
      "Translating MIL ==> NeuralNetwork Ops: 100%|██████████| 54/54 [00:00<00:00, 1908.65 ops/s]\n"
     ]
    },
    {
     "name": "stdout",
     "output_type": "stream",
     "text": [
      "converting for batch:  13\n",
      "\n",
      "*********\n",
      "\n",
      "\n"
     ]
    },
    {
     "name": "stderr",
     "output_type": "stream",
     "text": [
      "Running TensorFlow Graph Passes: 100%|██████████| 5/5 [00:00<00:00, 20.84 passes/s]\n",
      "Converting Frontend ==> MIL Ops: 100%|██████████| 31/31 [00:00<00:00, 588.70 ops/s]\n",
      "Running MIL Common passes: 100%|██████████| 33/33 [00:00<00:00, 574.08 passes/s]\n",
      "Running MIL Clean up passes: 100%|██████████| 8/8 [00:00<00:00, 265.62 passes/s]\n",
      "Translating MIL ==> NeuralNetwork Ops: 100%|██████████| 54/54 [00:00<00:00, 1706.84 ops/s]\n"
     ]
    },
    {
     "name": "stdout",
     "output_type": "stream",
     "text": [
      "converting for batch:  14\n",
      "\n",
      "*********\n",
      "\n",
      "\n"
     ]
    },
    {
     "name": "stderr",
     "output_type": "stream",
     "text": [
      "Running TensorFlow Graph Passes: 100%|██████████| 5/5 [00:00<00:00, 20.73 passes/s]\n",
      "Converting Frontend ==> MIL Ops: 100%|██████████| 31/31 [00:00<00:00, 580.66 ops/s]\n",
      "Running MIL Common passes: 100%|██████████| 33/33 [00:00<00:00, 555.88 passes/s]\n",
      "Running MIL Clean up passes: 100%|██████████| 8/8 [00:00<00:00, 302.23 passes/s]\n",
      "Translating MIL ==> NeuralNetwork Ops: 100%|██████████| 54/54 [00:00<00:00, 1911.84 ops/s]\n"
     ]
    },
    {
     "name": "stdout",
     "output_type": "stream",
     "text": [
      "converting for batch:  15\n",
      "\n",
      "*********\n",
      "\n",
      "\n"
     ]
    },
    {
     "name": "stderr",
     "output_type": "stream",
     "text": [
      "Running TensorFlow Graph Passes: 100%|██████████| 5/5 [00:00<00:00, 21.07 passes/s]\n",
      "Converting Frontend ==> MIL Ops: 100%|██████████| 31/31 [00:00<00:00, 653.00 ops/s]\n",
      "Running MIL Common passes: 100%|██████████| 33/33 [00:00<00:00, 558.61 passes/s]\n",
      "Running MIL Clean up passes: 100%|██████████| 8/8 [00:00<00:00, 257.49 passes/s]\n",
      "Translating MIL ==> NeuralNetwork Ops: 100%|██████████| 54/54 [00:00<00:00, 1795.09 ops/s]\n"
     ]
    },
    {
     "name": "stdout",
     "output_type": "stream",
     "text": [
      "converting for batch:  16\n",
      "\n",
      "*********\n",
      "\n",
      "\n"
     ]
    },
    {
     "name": "stderr",
     "output_type": "stream",
     "text": [
      "Running TensorFlow Graph Passes: 100%|██████████| 5/5 [00:00<00:00, 21.43 passes/s]\n",
      "Converting Frontend ==> MIL Ops: 100%|██████████| 31/31 [00:00<00:00, 588.95 ops/s]\n",
      "Running MIL Common passes: 100%|██████████| 33/33 [00:00<00:00, 550.09 passes/s]\n",
      "Running MIL Clean up passes: 100%|██████████| 8/8 [00:00<00:00, 292.92 passes/s]\n",
      "Translating MIL ==> NeuralNetwork Ops: 100%|██████████| 54/54 [00:00<00:00, 1654.26 ops/s]\n"
     ]
    },
    {
     "name": "stdout",
     "output_type": "stream",
     "text": [
      "converting for batch:  17\n",
      "\n",
      "*********\n",
      "\n",
      "\n"
     ]
    },
    {
     "name": "stderr",
     "output_type": "stream",
     "text": [
      "Running TensorFlow Graph Passes: 100%|██████████| 5/5 [00:00<00:00, 20.86 passes/s]\n",
      "Converting Frontend ==> MIL Ops: 100%|██████████| 31/31 [00:00<00:00, 629.29 ops/s]\n",
      "Running MIL Common passes: 100%|██████████| 33/33 [00:00<00:00, 587.63 passes/s]\n",
      "Running MIL Clean up passes: 100%|██████████| 8/8 [00:00<00:00, 250.94 passes/s]\n",
      "Translating MIL ==> NeuralNetwork Ops: 100%|██████████| 54/54 [00:00<00:00, 1694.97 ops/s]\n"
     ]
    },
    {
     "name": "stdout",
     "output_type": "stream",
     "text": [
      "converting for batch:  18\n",
      "\n",
      "*********\n",
      "\n",
      "\n"
     ]
    },
    {
     "name": "stderr",
     "output_type": "stream",
     "text": [
      "Running TensorFlow Graph Passes: 100%|██████████| 5/5 [00:00<00:00, 20.34 passes/s]\n",
      "Converting Frontend ==> MIL Ops: 100%|██████████| 31/31 [00:00<00:00, 599.56 ops/s]\n",
      "Running MIL Common passes: 100%|██████████| 33/33 [00:00<00:00, 536.74 passes/s]\n",
      "Running MIL Clean up passes: 100%|██████████| 8/8 [00:00<00:00, 287.77 passes/s]\n",
      "Translating MIL ==> NeuralNetwork Ops: 100%|██████████| 54/54 [00:00<00:00, 1709.79 ops/s]\n"
     ]
    },
    {
     "name": "stdout",
     "output_type": "stream",
     "text": [
      "converting for batch:  19\n",
      "\n",
      "*********\n",
      "\n",
      "\n"
     ]
    },
    {
     "name": "stderr",
     "output_type": "stream",
     "text": [
      "Running TensorFlow Graph Passes: 100%|██████████| 5/5 [00:00<00:00, 22.26 passes/s]\n",
      "Converting Frontend ==> MIL Ops: 100%|██████████| 31/31 [00:00<00:00, 614.00 ops/s]\n",
      "Running MIL Common passes: 100%|██████████| 33/33 [00:00<00:00, 567.40 passes/s]\n",
      "Running MIL Clean up passes: 100%|██████████| 8/8 [00:00<00:00, 267.80 passes/s]\n",
      "Translating MIL ==> NeuralNetwork Ops: 100%|██████████| 54/54 [00:00<00:00, 1879.11 ops/s]\n"
     ]
    },
    {
     "name": "stdout",
     "output_type": "stream",
     "text": [
      "converting for batch:  20\n",
      "\n",
      "*********\n",
      "\n",
      "\n"
     ]
    },
    {
     "name": "stderr",
     "output_type": "stream",
     "text": [
      "Running TensorFlow Graph Passes: 100%|██████████| 5/5 [00:00<00:00, 21.54 passes/s]\n",
      "Converting Frontend ==> MIL Ops: 100%|██████████| 31/31 [00:00<00:00, 646.61 ops/s]\n",
      "Running MIL Common passes: 100%|██████████| 33/33 [00:00<00:00, 517.94 passes/s]\n",
      "Running MIL Clean up passes: 100%|██████████| 8/8 [00:00<00:00, 291.67 passes/s]\n",
      "Translating MIL ==> NeuralNetwork Ops: 100%|██████████| 54/54 [00:00<00:00, 1831.93 ops/s]\n"
     ]
    },
    {
     "name": "stdout",
     "output_type": "stream",
     "text": [
      "Conversion complete in 0m 43s\n",
      "################ Batch size:  450\n",
      "converting for batch:  0\n",
      "\n",
      "*********\n",
      "\n",
      "\n"
     ]
    },
    {
     "name": "stderr",
     "output_type": "stream",
     "text": [
      "Running TensorFlow Graph Passes: 100%|██████████| 5/5 [00:00<00:00, 21.60 passes/s]\n",
      "Converting Frontend ==> MIL Ops: 100%|██████████| 31/31 [00:00<00:00, 643.51 ops/s]\n",
      "Running MIL Common passes: 100%|██████████| 33/33 [00:00<00:00, 590.76 passes/s]\n",
      "Running MIL Clean up passes: 100%|██████████| 8/8 [00:00<00:00, 276.57 passes/s]\n",
      "Translating MIL ==> NeuralNetwork Ops: 100%|██████████| 54/54 [00:00<00:00, 1857.77 ops/s]\n"
     ]
    },
    {
     "name": "stdout",
     "output_type": "stream",
     "text": [
      "converting for batch:  1\n",
      "\n",
      "*********\n",
      "\n",
      "\n"
     ]
    },
    {
     "name": "stderr",
     "output_type": "stream",
     "text": [
      "Running TensorFlow Graph Passes: 100%|██████████| 5/5 [00:00<00:00, 21.18 passes/s]\n",
      "Converting Frontend ==> MIL Ops: 100%|██████████| 31/31 [00:00<00:00, 628.23 ops/s]\n",
      "Running MIL Common passes: 100%|██████████| 33/33 [00:00<00:00, 454.01 passes/s]\n",
      "Running MIL Clean up passes: 100%|██████████| 8/8 [00:00<00:00, 236.79 passes/s]\n",
      "Translating MIL ==> NeuralNetwork Ops: 100%|██████████| 54/54 [00:00<00:00, 1444.78 ops/s]\n"
     ]
    },
    {
     "name": "stdout",
     "output_type": "stream",
     "text": [
      "converting for batch:  2\n",
      "\n",
      "*********\n",
      "\n",
      "\n"
     ]
    },
    {
     "name": "stderr",
     "output_type": "stream",
     "text": [
      "Running TensorFlow Graph Passes: 100%|██████████| 5/5 [00:00<00:00, 21.17 passes/s]\n",
      "Converting Frontend ==> MIL Ops: 100%|██████████| 31/31 [00:00<00:00, 613.64 ops/s]\n",
      "Running MIL Common passes: 100%|██████████| 33/33 [00:00<00:00, 498.30 passes/s]\n",
      "Running MIL Clean up passes: 100%|██████████| 8/8 [00:00<00:00, 249.71 passes/s]\n",
      "Translating MIL ==> NeuralNetwork Ops: 100%|██████████| 54/54 [00:00<00:00, 1583.71 ops/s]\n"
     ]
    },
    {
     "name": "stdout",
     "output_type": "stream",
     "text": [
      "converting for batch:  3\n",
      "\n",
      "*********\n",
      "\n",
      "\n"
     ]
    },
    {
     "name": "stderr",
     "output_type": "stream",
     "text": [
      "Running TensorFlow Graph Passes: 100%|██████████| 5/5 [00:00<00:00, 20.54 passes/s]\n",
      "Converting Frontend ==> MIL Ops: 100%|██████████| 31/31 [00:00<00:00, 636.12 ops/s]\n",
      "Running MIL Common passes: 100%|██████████| 33/33 [00:00<00:00, 530.40 passes/s]\n",
      "Running MIL Clean up passes: 100%|██████████| 8/8 [00:00<00:00, 291.22 passes/s]\n",
      "Translating MIL ==> NeuralNetwork Ops: 100%|██████████| 54/54 [00:00<00:00, 1885.72 ops/s]\n"
     ]
    },
    {
     "name": "stdout",
     "output_type": "stream",
     "text": [
      "converting for batch:  4\n",
      "\n",
      "*********\n",
      "\n",
      "\n"
     ]
    },
    {
     "name": "stderr",
     "output_type": "stream",
     "text": [
      "Running TensorFlow Graph Passes: 100%|██████████| 5/5 [00:00<00:00, 21.06 passes/s]\n",
      "Converting Frontend ==> MIL Ops: 100%|██████████| 31/31 [00:00<00:00, 608.07 ops/s]\n",
      "Running MIL Common passes: 100%|██████████| 33/33 [00:00<00:00, 583.51 passes/s]\n",
      "Running MIL Clean up passes: 100%|██████████| 8/8 [00:00<00:00, 274.34 passes/s]\n",
      "Translating MIL ==> NeuralNetwork Ops: 100%|██████████| 54/54 [00:00<00:00, 1794.92 ops/s]\n"
     ]
    },
    {
     "name": "stdout",
     "output_type": "stream",
     "text": [
      "converting for batch:  5\n",
      "\n",
      "*********\n",
      "\n",
      "\n"
     ]
    },
    {
     "name": "stderr",
     "output_type": "stream",
     "text": [
      "Running TensorFlow Graph Passes: 100%|██████████| 5/5 [00:00<00:00, 21.42 passes/s]\n",
      "Converting Frontend ==> MIL Ops: 100%|██████████| 31/31 [00:00<00:00, 657.94 ops/s]\n",
      "Running MIL Common passes: 100%|██████████| 33/33 [00:00<00:00, 568.05 passes/s]\n",
      "Running MIL Clean up passes: 100%|██████████| 8/8 [00:00<00:00, 273.88 passes/s]\n",
      "Translating MIL ==> NeuralNetwork Ops: 100%|██████████| 54/54 [00:00<00:00, 1899.53 ops/s]\n"
     ]
    },
    {
     "name": "stdout",
     "output_type": "stream",
     "text": [
      "converting for batch:  6\n",
      "\n",
      "*********\n",
      "\n",
      "\n"
     ]
    },
    {
     "name": "stderr",
     "output_type": "stream",
     "text": [
      "Running TensorFlow Graph Passes: 100%|██████████| 5/5 [00:00<00:00, 21.56 passes/s]\n",
      "Converting Frontend ==> MIL Ops: 100%|██████████| 31/31 [00:00<00:00, 613.63 ops/s]\n",
      "Running MIL Common passes: 100%|██████████| 33/33 [00:00<00:00, 601.30 passes/s]\n",
      "Running MIL Clean up passes: 100%|██████████| 8/8 [00:00<00:00, 246.31 passes/s]\n",
      "Translating MIL ==> NeuralNetwork Ops: 100%|██████████| 54/54 [00:00<00:00, 1952.91 ops/s]\n"
     ]
    },
    {
     "name": "stdout",
     "output_type": "stream",
     "text": [
      "converting for batch:  7\n",
      "\n",
      "*********\n",
      "\n",
      "\n"
     ]
    },
    {
     "name": "stderr",
     "output_type": "stream",
     "text": [
      "Running TensorFlow Graph Passes: 100%|██████████| 5/5 [00:00<00:00, 21.51 passes/s]\n",
      "Converting Frontend ==> MIL Ops: 100%|██████████| 31/31 [00:00<00:00, 667.92 ops/s]\n",
      "Running MIL Common passes: 100%|██████████| 33/33 [00:00<00:00, 513.65 passes/s]\n",
      "Running MIL Clean up passes: 100%|██████████| 8/8 [00:00<00:00, 269.71 passes/s]\n",
      "Translating MIL ==> NeuralNetwork Ops: 100%|██████████| 54/54 [00:00<00:00, 1771.94 ops/s]\n"
     ]
    },
    {
     "name": "stdout",
     "output_type": "stream",
     "text": [
      "converting for batch:  8\n",
      "\n",
      "*********\n",
      "\n",
      "\n"
     ]
    },
    {
     "name": "stderr",
     "output_type": "stream",
     "text": [
      "Running TensorFlow Graph Passes: 100%|██████████| 5/5 [00:00<00:00, 17.45 passes/s]\n",
      "Converting Frontend ==> MIL Ops: 100%|██████████| 31/31 [00:00<00:00, 641.56 ops/s]\n",
      "Running MIL Common passes: 100%|██████████| 33/33 [00:00<00:00, 614.18 passes/s]\n",
      "Running MIL Clean up passes: 100%|██████████| 8/8 [00:00<00:00, 311.90 passes/s]\n",
      "Translating MIL ==> NeuralNetwork Ops: 100%|██████████| 54/54 [00:00<00:00, 1894.94 ops/s]\n"
     ]
    },
    {
     "name": "stdout",
     "output_type": "stream",
     "text": [
      "converting for batch:  9\n",
      "\n",
      "*********\n",
      "\n",
      "\n"
     ]
    },
    {
     "name": "stderr",
     "output_type": "stream",
     "text": [
      "Running TensorFlow Graph Passes: 100%|██████████| 5/5 [00:00<00:00, 21.43 passes/s]\n",
      "Converting Frontend ==> MIL Ops: 100%|██████████| 31/31 [00:00<00:00, 640.47 ops/s]\n",
      "Running MIL Common passes: 100%|██████████| 33/33 [00:00<00:00, 548.23 passes/s]\n",
      "Running MIL Clean up passes: 100%|██████████| 8/8 [00:00<00:00, 289.25 passes/s]\n",
      "Translating MIL ==> NeuralNetwork Ops: 100%|██████████| 54/54 [00:00<00:00, 1710.60 ops/s]\n"
     ]
    },
    {
     "name": "stdout",
     "output_type": "stream",
     "text": [
      "converting for batch:  10\n",
      "\n",
      "*********\n",
      "\n",
      "\n"
     ]
    },
    {
     "name": "stderr",
     "output_type": "stream",
     "text": [
      "Running TensorFlow Graph Passes: 100%|██████████| 5/5 [00:00<00:00, 21.57 passes/s]\n",
      "Converting Frontend ==> MIL Ops: 100%|██████████| 31/31 [00:00<00:00, 609.89 ops/s]\n",
      "Running MIL Common passes: 100%|██████████| 33/33 [00:00<00:00, 585.64 passes/s]\n",
      "Running MIL Clean up passes: 100%|██████████| 8/8 [00:00<00:00, 313.39 passes/s]\n",
      "Translating MIL ==> NeuralNetwork Ops: 100%|██████████| 54/54 [00:00<00:00, 1864.70 ops/s]\n"
     ]
    },
    {
     "name": "stdout",
     "output_type": "stream",
     "text": [
      "converting for batch:  11\n",
      "\n",
      "*********\n",
      "\n",
      "\n"
     ]
    },
    {
     "name": "stderr",
     "output_type": "stream",
     "text": [
      "Running TensorFlow Graph Passes: 100%|██████████| 5/5 [00:00<00:00, 21.13 passes/s]\n",
      "Converting Frontend ==> MIL Ops: 100%|██████████| 31/31 [00:00<00:00, 602.96 ops/s]\n",
      "Running MIL Common passes: 100%|██████████| 33/33 [00:00<00:00, 537.65 passes/s]\n",
      "Running MIL Clean up passes: 100%|██████████| 8/8 [00:00<00:00, 250.51 passes/s]\n",
      "Translating MIL ==> NeuralNetwork Ops: 100%|██████████| 54/54 [00:00<00:00, 1750.52 ops/s]\n"
     ]
    },
    {
     "name": "stdout",
     "output_type": "stream",
     "text": [
      "converting for batch:  12\n",
      "\n",
      "*********\n",
      "\n",
      "\n"
     ]
    },
    {
     "name": "stderr",
     "output_type": "stream",
     "text": [
      "Running TensorFlow Graph Passes: 100%|██████████| 5/5 [00:00<00:00, 20.72 passes/s]\n",
      "Converting Frontend ==> MIL Ops: 100%|██████████| 31/31 [00:00<00:00, 412.78 ops/s]\n",
      "Running MIL Common passes: 100%|██████████| 33/33 [00:00<00:00, 367.92 passes/s]\n",
      "Running MIL Clean up passes: 100%|██████████| 8/8 [00:00<00:00, 166.02 passes/s]\n",
      "Translating MIL ==> NeuralNetwork Ops: 100%|██████████| 54/54 [00:00<00:00, 963.75 ops/s]\n"
     ]
    },
    {
     "name": "stdout",
     "output_type": "stream",
     "text": [
      "converting for batch:  13\n",
      "\n",
      "*********\n",
      "\n",
      "\n"
     ]
    },
    {
     "name": "stderr",
     "output_type": "stream",
     "text": [
      "Running TensorFlow Graph Passes: 100%|██████████| 5/5 [00:00<00:00, 21.42 passes/s]\n",
      "Converting Frontend ==> MIL Ops: 100%|██████████| 31/31 [00:00<00:00, 622.92 ops/s]\n",
      "Running MIL Common passes: 100%|██████████| 33/33 [00:00<00:00, 559.71 passes/s]\n",
      "Running MIL Clean up passes: 100%|██████████| 8/8 [00:00<00:00, 307.26 passes/s]\n",
      "Translating MIL ==> NeuralNetwork Ops: 100%|██████████| 54/54 [00:00<00:00, 1794.38 ops/s]\n"
     ]
    },
    {
     "name": "stdout",
     "output_type": "stream",
     "text": [
      "converting for batch:  14\n",
      "\n",
      "*********\n",
      "\n",
      "\n"
     ]
    },
    {
     "name": "stderr",
     "output_type": "stream",
     "text": [
      "Running TensorFlow Graph Passes: 100%|██████████| 5/5 [00:00<00:00, 21.22 passes/s]\n",
      "Converting Frontend ==> MIL Ops: 100%|██████████| 31/31 [00:00<00:00, 612.84 ops/s]\n",
      "Running MIL Common passes: 100%|██████████| 33/33 [00:00<00:00, 583.25 passes/s]\n",
      "Running MIL Clean up passes: 100%|██████████| 8/8 [00:00<00:00, 282.86 passes/s]\n",
      "Translating MIL ==> NeuralNetwork Ops: 100%|██████████| 54/54 [00:00<00:00, 1750.11 ops/s]\n"
     ]
    },
    {
     "name": "stdout",
     "output_type": "stream",
     "text": [
      "converting for batch:  15\n",
      "\n",
      "*********\n",
      "\n",
      "\n"
     ]
    },
    {
     "name": "stderr",
     "output_type": "stream",
     "text": [
      "Running TensorFlow Graph Passes: 100%|██████████| 5/5 [00:00<00:00, 21.31 passes/s]\n",
      "Converting Frontend ==> MIL Ops: 100%|██████████| 31/31 [00:00<00:00, 634.73 ops/s]\n",
      "Running MIL Common passes: 100%|██████████| 33/33 [00:00<00:00, 562.74 passes/s]\n",
      "Running MIL Clean up passes: 100%|██████████| 8/8 [00:00<00:00, 305.39 passes/s]\n",
      "Translating MIL ==> NeuralNetwork Ops: 100%|██████████| 54/54 [00:00<00:00, 1970.60 ops/s]\n"
     ]
    },
    {
     "name": "stdout",
     "output_type": "stream",
     "text": [
      "converting for batch:  16\n",
      "\n",
      "*********\n",
      "\n",
      "\n"
     ]
    },
    {
     "name": "stderr",
     "output_type": "stream",
     "text": [
      "Running TensorFlow Graph Passes: 100%|██████████| 5/5 [00:00<00:00, 21.25 passes/s]\n",
      "Converting Frontend ==> MIL Ops: 100%|██████████| 31/31 [00:00<00:00, 627.40 ops/s]\n",
      "Running MIL Common passes: 100%|██████████| 33/33 [00:00<00:00, 544.96 passes/s]\n",
      "Running MIL Clean up passes: 100%|██████████| 8/8 [00:00<00:00, 262.33 passes/s]\n",
      "Translating MIL ==> NeuralNetwork Ops: 100%|██████████| 54/54 [00:00<00:00, 1837.73 ops/s]\n"
     ]
    },
    {
     "name": "stdout",
     "output_type": "stream",
     "text": [
      "converting for batch:  17\n",
      "\n",
      "*********\n",
      "\n",
      "\n"
     ]
    },
    {
     "name": "stderr",
     "output_type": "stream",
     "text": [
      "Running TensorFlow Graph Passes: 100%|██████████| 5/5 [00:00<00:00, 20.83 passes/s]\n",
      "Converting Frontend ==> MIL Ops: 100%|██████████| 31/31 [00:00<00:00, 594.41 ops/s]\n",
      "Running MIL Common passes: 100%|██████████| 33/33 [00:00<00:00, 616.53 passes/s]\n",
      "Running MIL Clean up passes: 100%|██████████| 8/8 [00:00<00:00, 261.15 passes/s]\n",
      "Translating MIL ==> NeuralNetwork Ops: 100%|██████████| 54/54 [00:00<00:00, 1669.81 ops/s]\n"
     ]
    },
    {
     "name": "stdout",
     "output_type": "stream",
     "text": [
      "converting for batch:  18\n",
      "\n",
      "*********\n",
      "\n",
      "\n"
     ]
    },
    {
     "name": "stderr",
     "output_type": "stream",
     "text": [
      "Running TensorFlow Graph Passes: 100%|██████████| 5/5 [00:00<00:00, 20.28 passes/s]\n",
      "Converting Frontend ==> MIL Ops: 100%|██████████| 31/31 [00:00<00:00, 607.29 ops/s]\n",
      "Running MIL Common passes: 100%|██████████| 33/33 [00:00<00:00, 550.06 passes/s]\n",
      "Running MIL Clean up passes: 100%|██████████| 8/8 [00:00<00:00, 290.92 passes/s]\n",
      "Translating MIL ==> NeuralNetwork Ops: 100%|██████████| 54/54 [00:00<00:00, 2042.83 ops/s]\n"
     ]
    },
    {
     "name": "stdout",
     "output_type": "stream",
     "text": [
      "converting for batch:  19\n",
      "\n",
      "*********\n",
      "\n",
      "\n"
     ]
    },
    {
     "name": "stderr",
     "output_type": "stream",
     "text": [
      "Running TensorFlow Graph Passes: 100%|██████████| 5/5 [00:00<00:00, 20.86 passes/s]\n",
      "Converting Frontend ==> MIL Ops: 100%|██████████| 31/31 [00:00<00:00, 612.36 ops/s]\n",
      "Running MIL Common passes: 100%|██████████| 33/33 [00:00<00:00, 599.24 passes/s]\n",
      "Running MIL Clean up passes: 100%|██████████| 8/8 [00:00<00:00, 273.95 passes/s]\n",
      "Translating MIL ==> NeuralNetwork Ops: 100%|██████████| 54/54 [00:00<00:00, 1749.95 ops/s]\n"
     ]
    },
    {
     "name": "stdout",
     "output_type": "stream",
     "text": [
      "converting for batch:  20\n",
      "\n",
      "*********\n",
      "\n",
      "\n"
     ]
    },
    {
     "name": "stderr",
     "output_type": "stream",
     "text": [
      "Running TensorFlow Graph Passes: 100%|██████████| 5/5 [00:00<00:00, 20.94 passes/s]\n",
      "Converting Frontend ==> MIL Ops: 100%|██████████| 31/31 [00:00<00:00, 640.20 ops/s]\n",
      "Running MIL Common passes: 100%|██████████| 33/33 [00:00<00:00, 572.40 passes/s]\n",
      "Running MIL Clean up passes: 100%|██████████| 8/8 [00:00<00:00, 257.27 passes/s]\n",
      "Translating MIL ==> NeuralNetwork Ops: 100%|██████████| 54/54 [00:00<00:00, 1834.56 ops/s]\n"
     ]
    },
    {
     "name": "stdout",
     "output_type": "stream",
     "text": [
      "Conversion complete in 0m 44s\n",
      "################ Batch size:  500\n",
      "converting for batch:  0\n",
      "\n",
      "*********\n",
      "\n",
      "\n"
     ]
    },
    {
     "name": "stderr",
     "output_type": "stream",
     "text": [
      "Running TensorFlow Graph Passes: 100%|██████████| 5/5 [00:00<00:00, 21.05 passes/s]\n",
      "Converting Frontend ==> MIL Ops: 100%|██████████| 31/31 [00:00<00:00, 616.55 ops/s]\n",
      "Running MIL Common passes: 100%|██████████| 33/33 [00:00<00:00, 544.33 passes/s]\n",
      "Running MIL Clean up passes: 100%|██████████| 8/8 [00:00<00:00, 270.92 passes/s]\n",
      "Translating MIL ==> NeuralNetwork Ops: 100%|██████████| 54/54 [00:00<00:00, 2083.65 ops/s]\n"
     ]
    },
    {
     "name": "stdout",
     "output_type": "stream",
     "text": [
      "converting for batch:  1\n",
      "\n",
      "*********\n",
      "\n",
      "\n"
     ]
    },
    {
     "name": "stderr",
     "output_type": "stream",
     "text": [
      "Running TensorFlow Graph Passes: 100%|██████████| 5/5 [00:00<00:00, 21.77 passes/s]\n",
      "Converting Frontend ==> MIL Ops: 100%|██████████| 31/31 [00:00<00:00, 446.80 ops/s]\n",
      "Running MIL Common passes: 100%|██████████| 33/33 [00:00<00:00, 370.68 passes/s]\n",
      "Running MIL Clean up passes: 100%|██████████| 8/8 [00:00<00:00, 141.78 passes/s]\n",
      "Translating MIL ==> NeuralNetwork Ops: 100%|██████████| 54/54 [00:00<00:00, 1023.44 ops/s]\n"
     ]
    },
    {
     "name": "stdout",
     "output_type": "stream",
     "text": [
      "converting for batch:  2\n",
      "\n",
      "*********\n",
      "\n",
      "\n"
     ]
    },
    {
     "name": "stderr",
     "output_type": "stream",
     "text": [
      "Running TensorFlow Graph Passes: 100%|██████████| 5/5 [00:00<00:00, 21.19 passes/s]\n",
      "Converting Frontend ==> MIL Ops: 100%|██████████| 31/31 [00:00<00:00, 602.57 ops/s]\n",
      "Running MIL Common passes: 100%|██████████| 33/33 [00:00<00:00, 626.16 passes/s]\n",
      "Running MIL Clean up passes: 100%|██████████| 8/8 [00:00<00:00, 272.09 passes/s]\n",
      "Translating MIL ==> NeuralNetwork Ops: 100%|██████████| 54/54 [00:00<00:00, 1635.32 ops/s]\n"
     ]
    },
    {
     "name": "stdout",
     "output_type": "stream",
     "text": [
      "converting for batch:  3\n",
      "\n",
      "*********\n",
      "\n",
      "\n"
     ]
    },
    {
     "name": "stderr",
     "output_type": "stream",
     "text": [
      "Running TensorFlow Graph Passes: 100%|██████████| 5/5 [00:00<00:00, 20.99 passes/s]\n",
      "Converting Frontend ==> MIL Ops: 100%|██████████| 31/31 [00:00<00:00, 667.30 ops/s]\n",
      "Running MIL Common passes: 100%|██████████| 33/33 [00:00<00:00, 539.15 passes/s]\n",
      "Running MIL Clean up passes: 100%|██████████| 8/8 [00:00<00:00, 285.39 passes/s]\n",
      "Translating MIL ==> NeuralNetwork Ops: 100%|██████████| 54/54 [00:00<00:00, 1767.30 ops/s]\n"
     ]
    },
    {
     "name": "stdout",
     "output_type": "stream",
     "text": [
      "converting for batch:  4\n",
      "\n",
      "*********\n",
      "\n",
      "\n"
     ]
    },
    {
     "name": "stderr",
     "output_type": "stream",
     "text": [
      "Running TensorFlow Graph Passes: 100%|██████████| 5/5 [00:00<00:00, 20.83 passes/s]\n",
      "Converting Frontend ==> MIL Ops: 100%|██████████| 31/31 [00:00<00:00, 633.00 ops/s]\n",
      "Running MIL Common passes: 100%|██████████| 33/33 [00:00<00:00, 582.31 passes/s]\n",
      "Running MIL Clean up passes: 100%|██████████| 8/8 [00:00<00:00, 266.94 passes/s]\n",
      "Translating MIL ==> NeuralNetwork Ops: 100%|██████████| 54/54 [00:00<00:00, 1924.25 ops/s]\n"
     ]
    },
    {
     "name": "stdout",
     "output_type": "stream",
     "text": [
      "converting for batch:  5\n",
      "\n",
      "*********\n",
      "\n",
      "\n"
     ]
    },
    {
     "name": "stderr",
     "output_type": "stream",
     "text": [
      "Running TensorFlow Graph Passes: 100%|██████████| 5/5 [00:00<00:00, 21.10 passes/s]\n",
      "Converting Frontend ==> MIL Ops: 100%|██████████| 31/31 [00:00<00:00, 495.70 ops/s]\n",
      "Running MIL Common passes: 100%|██████████| 33/33 [00:00<00:00, 376.95 passes/s]\n",
      "Running MIL Clean up passes: 100%|██████████| 8/8 [00:00<00:00, 227.83 passes/s]\n",
      "Translating MIL ==> NeuralNetwork Ops: 100%|██████████| 54/54 [00:00<00:00, 1305.24 ops/s]\n"
     ]
    },
    {
     "name": "stdout",
     "output_type": "stream",
     "text": [
      "converting for batch:  6\n",
      "\n",
      "*********\n",
      "\n",
      "\n"
     ]
    },
    {
     "name": "stderr",
     "output_type": "stream",
     "text": [
      "Running TensorFlow Graph Passes: 100%|██████████| 5/5 [00:00<00:00, 21.05 passes/s]\n",
      "Converting Frontend ==> MIL Ops: 100%|██████████| 31/31 [00:00<00:00, 618.37 ops/s]\n",
      "Running MIL Common passes: 100%|██████████| 33/33 [00:00<00:00, 565.46 passes/s]\n",
      "Running MIL Clean up passes: 100%|██████████| 8/8 [00:00<00:00, 284.06 passes/s]\n",
      "Translating MIL ==> NeuralNetwork Ops: 100%|██████████| 54/54 [00:00<00:00, 1943.72 ops/s]\n"
     ]
    },
    {
     "name": "stdout",
     "output_type": "stream",
     "text": [
      "converting for batch:  7\n",
      "\n",
      "*********\n",
      "\n",
      "\n"
     ]
    },
    {
     "name": "stderr",
     "output_type": "stream",
     "text": [
      "Running TensorFlow Graph Passes: 100%|██████████| 5/5 [00:00<00:00, 20.98 passes/s]\n",
      "Converting Frontend ==> MIL Ops: 100%|██████████| 31/31 [00:00<00:00, 665.02 ops/s]\n",
      "Running MIL Common passes: 100%|██████████| 33/33 [00:00<00:00, 550.53 passes/s]\n",
      "Running MIL Clean up passes: 100%|██████████| 8/8 [00:00<00:00, 303.55 passes/s]\n",
      "Translating MIL ==> NeuralNetwork Ops: 100%|██████████| 54/54 [00:00<00:00, 1628.04 ops/s]\n"
     ]
    },
    {
     "name": "stdout",
     "output_type": "stream",
     "text": [
      "converting for batch:  8\n",
      "\n",
      "*********\n",
      "\n",
      "\n"
     ]
    },
    {
     "name": "stderr",
     "output_type": "stream",
     "text": [
      "Running TensorFlow Graph Passes: 100%|██████████| 5/5 [00:00<00:00, 21.23 passes/s]\n",
      "Converting Frontend ==> MIL Ops: 100%|██████████| 31/31 [00:00<00:00, 618.02 ops/s]\n",
      "Running MIL Common passes: 100%|██████████| 33/33 [00:00<00:00, 588.04 passes/s]\n",
      "Running MIL Clean up passes: 100%|██████████| 8/8 [00:00<00:00, 279.60 passes/s]\n",
      "Translating MIL ==> NeuralNetwork Ops: 100%|██████████| 54/54 [00:00<00:00, 1736.23 ops/s]\n"
     ]
    },
    {
     "name": "stdout",
     "output_type": "stream",
     "text": [
      "converting for batch:  9\n",
      "\n",
      "*********\n",
      "\n",
      "\n"
     ]
    },
    {
     "name": "stderr",
     "output_type": "stream",
     "text": [
      "Running TensorFlow Graph Passes: 100%|██████████| 5/5 [00:00<00:00, 20.91 passes/s]\n",
      "Converting Frontend ==> MIL Ops: 100%|██████████| 31/31 [00:00<00:00, 602.08 ops/s]\n",
      "Running MIL Common passes: 100%|██████████| 33/33 [00:00<00:00, 566.31 passes/s]\n",
      "Running MIL Clean up passes: 100%|██████████| 8/8 [00:00<00:00, 300.88 passes/s]\n",
      "Translating MIL ==> NeuralNetwork Ops: 100%|██████████| 54/54 [00:00<00:00, 1772.30 ops/s]\n"
     ]
    },
    {
     "name": "stdout",
     "output_type": "stream",
     "text": [
      "converting for batch:  10\n",
      "\n",
      "*********\n",
      "\n",
      "\n"
     ]
    },
    {
     "name": "stderr",
     "output_type": "stream",
     "text": [
      "Running TensorFlow Graph Passes: 100%|██████████| 5/5 [00:00<00:00, 20.83 passes/s]\n",
      "Converting Frontend ==> MIL Ops: 100%|██████████| 31/31 [00:00<00:00, 659.03 ops/s]\n",
      "Running MIL Common passes: 100%|██████████| 33/33 [00:00<00:00, 543.85 passes/s]\n",
      "Running MIL Clean up passes: 100%|██████████| 8/8 [00:00<00:00, 293.62 passes/s]\n",
      "Translating MIL ==> NeuralNetwork Ops: 100%|██████████| 54/54 [00:00<00:00, 1690.99 ops/s]\n"
     ]
    },
    {
     "name": "stdout",
     "output_type": "stream",
     "text": [
      "converting for batch:  11\n",
      "\n",
      "*********\n",
      "\n",
      "\n"
     ]
    },
    {
     "name": "stderr",
     "output_type": "stream",
     "text": [
      "Running TensorFlow Graph Passes: 100%|██████████| 5/5 [00:00<00:00, 21.23 passes/s]\n",
      "Converting Frontend ==> MIL Ops: 100%|██████████| 31/31 [00:00<00:00, 580.67 ops/s]\n",
      "Running MIL Common passes: 100%|██████████| 33/33 [00:00<00:00, 570.26 passes/s]\n",
      "Running MIL Clean up passes: 100%|██████████| 8/8 [00:00<00:00, 288.42 passes/s]\n",
      "Translating MIL ==> NeuralNetwork Ops: 100%|██████████| 54/54 [00:00<00:00, 1694.28 ops/s]\n"
     ]
    },
    {
     "name": "stdout",
     "output_type": "stream",
     "text": [
      "converting for batch:  12\n",
      "\n",
      "*********\n",
      "\n",
      "\n"
     ]
    },
    {
     "name": "stderr",
     "output_type": "stream",
     "text": [
      "Running TensorFlow Graph Passes: 100%|██████████| 5/5 [00:00<00:00, 21.14 passes/s]\n",
      "Converting Frontend ==> MIL Ops: 100%|██████████| 31/31 [00:00<00:00, 638.10 ops/s]\n",
      "Running MIL Common passes: 100%|██████████| 33/33 [00:00<00:00, 660.21 passes/s]\n",
      "Running MIL Clean up passes: 100%|██████████| 8/8 [00:00<00:00, 316.48 passes/s]\n",
      "Translating MIL ==> NeuralNetwork Ops: 100%|██████████| 54/54 [00:00<00:00, 1980.35 ops/s]\n"
     ]
    },
    {
     "name": "stdout",
     "output_type": "stream",
     "text": [
      "converting for batch:  13\n",
      "\n",
      "*********\n",
      "\n",
      "\n"
     ]
    },
    {
     "name": "stderr",
     "output_type": "stream",
     "text": [
      "Running TensorFlow Graph Passes: 100%|██████████| 5/5 [00:00<00:00, 21.10 passes/s]\n",
      "Converting Frontend ==> MIL Ops: 100%|██████████| 31/31 [00:00<00:00, 641.80 ops/s]\n",
      "Running MIL Common passes: 100%|██████████| 33/33 [00:00<00:00, 524.46 passes/s]\n",
      "Running MIL Clean up passes: 100%|██████████| 8/8 [00:00<00:00, 271.20 passes/s]\n",
      "Translating MIL ==> NeuralNetwork Ops: 100%|██████████| 54/54 [00:00<00:00, 1905.51 ops/s]\n"
     ]
    },
    {
     "name": "stdout",
     "output_type": "stream",
     "text": [
      "converting for batch:  14\n",
      "\n",
      "*********\n",
      "\n",
      "\n"
     ]
    },
    {
     "name": "stderr",
     "output_type": "stream",
     "text": [
      "Running TensorFlow Graph Passes: 100%|██████████| 5/5 [00:00<00:00, 20.88 passes/s]\n",
      "Converting Frontend ==> MIL Ops: 100%|██████████| 31/31 [00:00<00:00, 619.38 ops/s]\n",
      "Running MIL Common passes: 100%|██████████| 33/33 [00:00<00:00, 576.42 passes/s]\n",
      "Running MIL Clean up passes: 100%|██████████| 8/8 [00:00<00:00, 261.14 passes/s]\n",
      "Translating MIL ==> NeuralNetwork Ops: 100%|██████████| 54/54 [00:00<00:00, 1872.01 ops/s]\n"
     ]
    },
    {
     "name": "stdout",
     "output_type": "stream",
     "text": [
      "converting for batch:  15\n",
      "\n",
      "*********\n",
      "\n",
      "\n"
     ]
    },
    {
     "name": "stderr",
     "output_type": "stream",
     "text": [
      "Running TensorFlow Graph Passes: 100%|██████████| 5/5 [00:00<00:00, 17.90 passes/s]\n",
      "Converting Frontend ==> MIL Ops: 100%|██████████| 31/31 [00:00<00:00, 743.94 ops/s]\n",
      "Running MIL Common passes: 100%|██████████| 33/33 [00:00<00:00, 562.07 passes/s]\n",
      "Running MIL Clean up passes: 100%|██████████| 8/8 [00:00<00:00, 338.11 passes/s]\n",
      "Translating MIL ==> NeuralNetwork Ops: 100%|██████████| 54/54 [00:00<00:00, 1915.43 ops/s]\n"
     ]
    },
    {
     "name": "stdout",
     "output_type": "stream",
     "text": [
      "converting for batch:  16\n",
      "\n",
      "*********\n",
      "\n",
      "\n"
     ]
    },
    {
     "name": "stderr",
     "output_type": "stream",
     "text": [
      "Running TensorFlow Graph Passes: 100%|██████████| 5/5 [00:00<00:00, 21.04 passes/s]\n",
      "Converting Frontend ==> MIL Ops: 100%|██████████| 31/31 [00:00<00:00, 620.72 ops/s]\n",
      "Running MIL Common passes: 100%|██████████| 33/33 [00:00<00:00, 561.31 passes/s]\n",
      "Running MIL Clean up passes: 100%|██████████| 8/8 [00:00<00:00, 267.79 passes/s]\n",
      "Translating MIL ==> NeuralNetwork Ops: 100%|██████████| 54/54 [00:00<00:00, 1678.48 ops/s]\n"
     ]
    },
    {
     "name": "stdout",
     "output_type": "stream",
     "text": [
      "converting for batch:  17\n",
      "\n",
      "*********\n",
      "\n",
      "\n"
     ]
    },
    {
     "name": "stderr",
     "output_type": "stream",
     "text": [
      "Running TensorFlow Graph Passes: 100%|██████████| 5/5 [00:00<00:00, 20.57 passes/s]\n",
      "Converting Frontend ==> MIL Ops: 100%|██████████| 31/31 [00:00<00:00, 613.13 ops/s]\n",
      "Running MIL Common passes: 100%|██████████| 33/33 [00:00<00:00, 544.27 passes/s]\n",
      "Running MIL Clean up passes: 100%|██████████| 8/8 [00:00<00:00, 292.91 passes/s]\n",
      "Translating MIL ==> NeuralNetwork Ops: 100%|██████████| 54/54 [00:00<00:00, 1888.59 ops/s]\n"
     ]
    },
    {
     "name": "stdout",
     "output_type": "stream",
     "text": [
      "converting for batch:  18\n",
      "\n",
      "*********\n",
      "\n",
      "\n"
     ]
    },
    {
     "name": "stderr",
     "output_type": "stream",
     "text": [
      "Running TensorFlow Graph Passes: 100%|██████████| 5/5 [00:00<00:00, 21.07 passes/s]\n",
      "Converting Frontend ==> MIL Ops: 100%|██████████| 31/31 [00:00<00:00, 539.70 ops/s]\n",
      "Running MIL Common passes: 100%|██████████| 33/33 [00:00<00:00, 581.73 passes/s]\n",
      "Running MIL Clean up passes: 100%|██████████| 8/8 [00:00<00:00, 268.60 passes/s]\n",
      "Translating MIL ==> NeuralNetwork Ops: 100%|██████████| 54/54 [00:00<00:00, 1486.01 ops/s]\n"
     ]
    },
    {
     "name": "stdout",
     "output_type": "stream",
     "text": [
      "converting for batch:  19\n",
      "\n",
      "*********\n",
      "\n",
      "\n"
     ]
    },
    {
     "name": "stderr",
     "output_type": "stream",
     "text": [
      "Running TensorFlow Graph Passes: 100%|██████████| 5/5 [00:00<00:00, 20.40 passes/s]\n",
      "Converting Frontend ==> MIL Ops: 100%|██████████| 31/31 [00:00<00:00, 668.42 ops/s]\n",
      "Running MIL Common passes: 100%|██████████| 33/33 [00:00<00:00, 534.28 passes/s]\n",
      "Running MIL Clean up passes: 100%|██████████| 8/8 [00:00<00:00, 227.35 passes/s]\n",
      "Translating MIL ==> NeuralNetwork Ops: 100%|██████████| 54/54 [00:00<00:00, 1571.69 ops/s]\n"
     ]
    },
    {
     "name": "stdout",
     "output_type": "stream",
     "text": [
      "Conversion complete in 0m 44s\n"
     ]
    }
   ],
   "source": [
    "#model_name = 'letnet5-keras'\n",
    "import pandas as pd \n",
    "data_file_error = open(error_path + 'keras/onnx_error_metrics_{}.csv'.format(model_name), mode='w', newline='',\n",
    "                                  encoding='utf-8')\n",
    "data_writer_error = csv.writer(data_file_error, delimiter=',', quotechar='\"', quoting=csv.QUOTE_MINIMAL)\n",
    "data_writer_error.writerow(['model','framework', 'training_id', 'model_full', \"batch_size\", 'round','absolute_error', 'relative_error'])\n",
    "\n",
    "\n",
    "data_file_error2 = open(error_path + 'keras/mlmore_error_metrics_{}.csv'.format(model_name), mode='w', newline='',\n",
    "                                  encoding='utf-8')\n",
    "data_writer_error2 = csv.writer(data_file_error2, delimiter=',', quotechar='\"', quoting=csv.QUOTE_MINIMAL)\n",
    "data_writer_error2.writerow(['model','framework', 'training_id', 'model_full', \"batch_size\", 'round','absolute_error', 'relative_error'])\n",
    "\n",
    "\n",
    "data_file_run = open(error_path + 'keras/runtime_metrics_{}.csv'.format(model_name), mode='w', newline='',\n",
    "                                  encoding='utf-8')\n",
    "data_writer_run = csv.writer(data_file_run, delimiter=',', quotechar='\"', quoting=csv.QUOTE_MINIMAL)\n",
    "data_writer_run.writerow(['model','framework', 'training_id', 'model_full', \"batch_size\", 'round','converter','original_size', 'converted_size', 'original_infererence_time', 'converted_infererence_time', 'conversion_time', 'saving_converted_time', 'overral_time', 'avg_abs_error', 'median_abs_error', 'min_abs_error', 'max_abs_error','avg_rel_error', 'median_rel_error', 'min_rel_error', 'max_rel_error'])\n",
    "\n",
    "for batch_size in [1, 5,10,20,30,40,50,60,70,80,90,100,128, 150,200, 250,300,350, 400, 450, 500]:\n",
    "    print(\"################ Batch size: \", batch_size)\n",
    "    val_generator =  DataGenerator(x_test, y_test, batch_size=batch_size,  dim = input_shape, \n",
    "                               n_classes= nb_classes, \n",
    "                               to_fit=True, shuffle=True)\n",
    "    _lets_convert(val_generator, data_writer_error, data_writer_error2, data_writer_run, batch_size)\n",
    "data_file_error.close()\n",
    "data_file_run.close()"
   ]
  },
  {
   "cell_type": "code",
   "execution_count": null,
   "metadata": {},
   "outputs": [],
   "source": []
  },
  {
   "cell_type": "code",
   "execution_count": null,
   "metadata": {},
   "outputs": [],
   "source": []
  },
  {
   "cell_type": "code",
   "execution_count": null,
   "metadata": {},
   "outputs": [],
   "source": []
  },
  {
   "cell_type": "markdown",
   "metadata": {},
   "source": [
    "# Tests"
   ]
  },
  {
   "cell_type": "code",
   "execution_count": 16,
   "metadata": {},
   "outputs": [],
   "source": [
    "## Lets first load just one batch of the dataset for testing"
   ]
  },
  {
   "cell_type": "code",
   "execution_count": 18,
   "metadata": {},
   "outputs": [],
   "source": [
    "val_generator =  DataGenerator(x_test, y_test, batch_size=1,  dim = input_shape, \n",
    "                               n_classes= nb_classes, \n",
    "                               to_fit=True, shuffle=True)\n",
    "for i, (images, labels) in enumerate(val_generator):\n",
    "    x, y = images, labels\n",
    "    break"
   ]
  },
  {
   "cell_type": "markdown",
   "metadata": {},
   "source": [
    "## Converting pytorch model to onnx then to Keras"
   ]
  },
  {
   "cell_type": "code",
   "execution_count": 35,
   "metadata": {},
   "outputs": [
    {
     "ename": "TypeError",
     "evalue": "from_keras() got an unexpected keyword argument 'input_names'",
     "output_type": "error",
     "traceback": [
      "\u001b[0;31m---------------------------------------------------------------------------\u001b[0m",
      "\u001b[0;31mTypeError\u001b[0m                                 Traceback (most recent call last)",
      "\u001b[0;32m<ipython-input-35-f717a53ed525>\u001b[0m in \u001b[0;36m<module>\u001b[0;34m\u001b[0m\n\u001b[1;32m      4\u001b[0m                 \u001b[0mcustom_op_handlers\u001b[0m\u001b[0;34m=\u001b[0m\u001b[0;32mNone\u001b[0m\u001b[0;34m,\u001b[0m \u001b[0mcustom_rewriter\u001b[0m\u001b[0;34m=\u001b[0m\u001b[0;32mNone\u001b[0m\u001b[0;34m,\u001b[0m\u001b[0;34m\u001b[0m\u001b[0;34m\u001b[0m\u001b[0m\n\u001b[1;32m      5\u001b[0m                 \u001b[0minputs_as_nchw\u001b[0m\u001b[0;34m=\u001b[0m\u001b[0;32mNone\u001b[0m\u001b[0;34m,\u001b[0m \u001b[0mextra_opset\u001b[0m\u001b[0;34m=\u001b[0m\u001b[0;32mNone\u001b[0m\u001b[0;34m,\u001b[0m \u001b[0mshape_override\u001b[0m\u001b[0;34m=\u001b[0m\u001b[0;32mNone\u001b[0m\u001b[0;34m,\u001b[0m\u001b[0;34m\u001b[0m\u001b[0;34m\u001b[0m\u001b[0m\n\u001b[0;32m----> 6\u001b[0;31m                  target=None, large_model=False, output_path=onnx_path+'keras/lenet5/{}.onnx'.format(model_name))\n\u001b[0m",
      "\u001b[0;31mTypeError\u001b[0m: from_keras() got an unexpected keyword argument 'input_names'"
     ]
    }
   ],
   "source": [
    "## Convert to onnx runtime\n",
    "model_proto, external_tensor_storage = tf2onnx.convert.from_keras(model, input_names=['inputs'],\n",
    "                input_signature=None, opset=11, custom_ops=None,\n",
    "                custom_op_handlers=None, custom_rewriter=None,\n",
    "                inputs_as_nchw=None, extra_opset=None, shape_override=None,\n",
    "                 target=None, large_model=False, output_path=onnx_path+'keras/lenet5/{}.onnx'.format(model_name))"
   ]
  },
  {
   "cell_type": "code",
   "execution_count": 17,
   "metadata": {},
   "outputs": [],
   "source": [
    "from onnx2keras import onnx_to_keras\n",
    "from onnx_tf.backend import prepare"
   ]
  },
  {
   "cell_type": "code",
   "execution_count": 22,
   "metadata": {},
   "outputs": [
    {
     "name": "stdout",
     "output_type": "stream",
     "text": [
      "['conv2d_input']\n"
     ]
    },
    {
     "name": "stderr",
     "output_type": "stream",
     "text": [
      "WARNING:absl:Found untraced functions such as gen_tensor_dict while saving (showing 1 of 1). These functions will not be directly callable after loading.\n"
     ]
    }
   ],
   "source": [
    "onnx_model = onnx.load(onnx_path+'keras/lenet5/{}.onnx'.format(model_name))\n",
    "tf_rep = prepare(onnx_model)  # prepare tf representation\n",
    "print(tf_rep.inputs)\n",
    "#k_model = onnx_to_keras(onnx_model, tf_rep.inputs)\n",
    "tf_rep.export_graph(restored_path+'keras/lenet5/{}.pb'.format(model_name))"
   ]
  },
  {
   "cell_type": "code",
   "execution_count": 23,
   "metadata": {},
   "outputs": [
    {
     "ename": "AttributeError",
     "evalue": "module 'tensorflow' has no attribute 'gfile'",
     "output_type": "error",
     "traceback": [
      "\u001b[0;31m---------------------------------------------------------------------------\u001b[0m",
      "\u001b[0;31mAttributeError\u001b[0m                            Traceback (most recent call last)",
      "\u001b[0;32m<ipython-input-23-92970fa17ff6>\u001b[0m in \u001b[0;36m<module>\u001b[0;34m\u001b[0m\n\u001b[0;32m----> 1\u001b[0;31m \u001b[0;32mwith\u001b[0m \u001b[0mtf\u001b[0m\u001b[0;34m.\u001b[0m\u001b[0mgfile\u001b[0m\u001b[0;34m.\u001b[0m\u001b[0mFastGFile\u001b[0m\u001b[0;34m(\u001b[0m\u001b[0mrestored_path\u001b[0m\u001b[0;34m+\u001b[0m\u001b[0;34m'keras/lenet5/{}.pb'\u001b[0m\u001b[0;34m.\u001b[0m\u001b[0mformat\u001b[0m\u001b[0;34m(\u001b[0m\u001b[0mmodel_name\u001b[0m\u001b[0;34m)\u001b[0m\u001b[0;34m,\u001b[0m \u001b[0;34m'rb'\u001b[0m\u001b[0;34m)\u001b[0m \u001b[0;32mas\u001b[0m \u001b[0mf\u001b[0m\u001b[0;34m:\u001b[0m\u001b[0;34m\u001b[0m\u001b[0;34m\u001b[0m\u001b[0m\n\u001b[0m\u001b[1;32m      2\u001b[0m     \u001b[0mgraph_def\u001b[0m \u001b[0;34m=\u001b[0m \u001b[0mtf\u001b[0m\u001b[0;34m.\u001b[0m\u001b[0mGraphDef\u001b[0m\u001b[0;34m(\u001b[0m\u001b[0;34m)\u001b[0m\u001b[0;34m\u001b[0m\u001b[0;34m\u001b[0m\u001b[0m\n\u001b[1;32m      3\u001b[0m     \u001b[0mgraph_def\u001b[0m\u001b[0;34m.\u001b[0m\u001b[0mParseFromString\u001b[0m\u001b[0;34m(\u001b[0m\u001b[0mf\u001b[0m\u001b[0;34m.\u001b[0m\u001b[0mread\u001b[0m\u001b[0;34m(\u001b[0m\u001b[0;34m)\u001b[0m\u001b[0;34m)\u001b[0m\u001b[0;34m\u001b[0m\u001b[0;34m\u001b[0m\u001b[0m\n",
      "\u001b[0;31mAttributeError\u001b[0m: module 'tensorflow' has no attribute 'gfile'"
     ]
    }
   ],
   "source": [
    "with tf.gfile.FastGFile(restored_path+'keras/lenet5/{}.pb'.format(model_name), 'rb') as f:\n",
    "    graph_def = tf.GraphDef()\n",
    "    graph_def.ParseFromString(f.read())"
   ]
  },
  {
   "cell_type": "code",
   "execution_count": null,
   "metadata": {},
   "outputs": [],
   "source": []
  },
  {
   "cell_type": "code",
   "execution_count": null,
   "metadata": {},
   "outputs": [],
   "source": []
  },
  {
   "cell_type": "code",
   "execution_count": null,
   "metadata": {},
   "outputs": [],
   "source": []
  },
  {
   "cell_type": "code",
   "execution_count": null,
   "metadata": {},
   "outputs": [],
   "source": []
  },
  {
   "cell_type": "code",
   "execution_count": 28,
   "metadata": {},
   "outputs": [],
   "source": [
    "## scikit-learn 0.19.2 should be okay\n",
    "#!pip install scikit-learn==0.19.2"
   ]
  },
  {
   "cell_type": "markdown",
   "metadata": {},
   "source": [
    "## Lets try to restore the model Here..."
   ]
  },
  {
   "cell_type": "code",
   "execution_count": 14,
   "metadata": {},
   "outputs": [],
   "source": [
    "onnx_model = onnx.load(onnx_path+\"keras/{}/{}.onnx\".format(model_short_name, model_name))\n",
    "onnx.checker.check_model(onnx_model)\n",
    "size2 = os.path.getsize(onnx_path+\"keras/{}/{}.onnx\".format(model_short_name,model_name))"
   ]
  },
  {
   "cell_type": "code",
   "execution_count": 15,
   "metadata": {},
   "outputs": [],
   "source": [
    "from onnx2keras import onnx_to_keras"
   ]
  },
  {
   "cell_type": "code",
   "execution_count": 16,
   "metadata": {},
   "outputs": [
    {
     "name": "stderr",
     "output_type": "stream",
     "text": [
      "INFO:onnx2keras:Converter is called.\n",
      "DEBUG:onnx2keras:List input shapes:\n",
      "DEBUG:onnx2keras:None\n",
      "DEBUG:onnx2keras:List inputs:\n",
      "DEBUG:onnx2keras:Input 0 -> conv2d_input.\n",
      "DEBUG:onnx2keras:List outputs:\n",
      "DEBUG:onnx2keras:Output 0 -> dense_1.\n",
      "DEBUG:onnx2keras:Gathering weights to dictionary.\n",
      "DEBUG:onnx2keras:Found weight sequential/dense_1/MatMul/ReadVariableOp:0 with shape (84, 10).\n",
      "DEBUG:onnx2keras:Found weight sequential/dense_1/BiasAdd/ReadVariableOp:0 with shape (10,).\n",
      "DEBUG:onnx2keras:Found weight sequential/dense/MatMul/ReadVariableOp:0 with shape (1080, 84).\n",
      "DEBUG:onnx2keras:Found weight sequential/dense/BiasAdd/ReadVariableOp:0 with shape (84,).\n",
      "DEBUG:onnx2keras:Found weight sequential/conv2d_2/Conv2D/ReadVariableOp:0 with shape (120, 16, 5, 5).\n",
      "DEBUG:onnx2keras:Found weight sequential/conv2d_2/BiasAdd/ReadVariableOp:0 with shape (120,).\n",
      "DEBUG:onnx2keras:Found weight sequential/conv2d_1/Conv2D/ReadVariableOp:0 with shape (16, 6, 5, 5).\n",
      "DEBUG:onnx2keras:Found weight sequential/conv2d_1/BiasAdd/ReadVariableOp:0 with shape (16,).\n",
      "DEBUG:onnx2keras:Found weight sequential/conv2d/Conv2D/ReadVariableOp:0 with shape (6, 1, 5, 5).\n",
      "DEBUG:onnx2keras:Found weight sequential/conv2d/BiasAdd/ReadVariableOp:0 with shape (6,).\n",
      "DEBUG:onnx2keras:Found weight new_shape__28 with shape (4,).\n",
      "DEBUG:onnx2keras:Found weight const_fold_opt__29 with shape (2,).\n",
      "DEBUG:onnx2keras:######\n",
      "DEBUG:onnx2keras:...\n",
      "DEBUG:onnx2keras:Converting ONNX operation\n",
      "DEBUG:onnx2keras:type: Reshape\n",
      "DEBUG:onnx2keras:node_name: sequential/conv2d/BiasAdd__7:0\n",
      "DEBUG:onnx2keras:node_params: {'change_ordering': False, 'name_policy': None}\n",
      "DEBUG:onnx2keras:...\n",
      "DEBUG:onnx2keras:Check if all inputs are available:\n",
      "DEBUG:onnx2keras:Check input 0 (name conv2d_input).\n",
      "DEBUG:onnx2keras:The input not found in layers / model inputs.\n"
     ]
    },
    {
     "ename": "AttributeError",
     "evalue": "Current node is not in weights / model inputs / layers.",
     "output_type": "error",
     "traceback": [
      "\u001b[0;31m---------------------------------------------------------------------------\u001b[0m",
      "\u001b[0;31mAttributeError\u001b[0m                            Traceback (most recent call last)",
      "\u001b[0;32m<ipython-input-16-cf0f47738875>\u001b[0m in \u001b[0;36m<module>\u001b[0;34m\u001b[0m\n\u001b[0;32m----> 1\u001b[0;31m \u001b[0mk_model_restored\u001b[0m \u001b[0;34m=\u001b[0m \u001b[0monnx_to_keras\u001b[0m\u001b[0;34m(\u001b[0m\u001b[0monnx_model\u001b[0m\u001b[0;34m,\u001b[0m \u001b[0;34m[\u001b[0m\u001b[0;34m'input'\u001b[0m\u001b[0;34m]\u001b[0m\u001b[0;34m)\u001b[0m\u001b[0;34m\u001b[0m\u001b[0;34m\u001b[0m\u001b[0m\n\u001b[0m",
      "\u001b[0;32m/opt/anaconda3/lib/python3.7/site-packages/onnx2keras/converter.py\u001b[0m in \u001b[0;36monnx_to_keras\u001b[0;34m(onnx_model, input_names, input_shapes, name_policy, verbose, change_ordering)\u001b[0m\n\u001b[1;32m    168\u001b[0m                     \u001b[0mlayers\u001b[0m\u001b[0;34m[\u001b[0m\u001b[0mnode_input\u001b[0m\u001b[0;34m]\u001b[0m \u001b[0;34m=\u001b[0m \u001b[0mweights\u001b[0m\u001b[0;34m[\u001b[0m\u001b[0mnode_input\u001b[0m\u001b[0;34m]\u001b[0m\u001b[0;34m\u001b[0m\u001b[0;34m\u001b[0m\u001b[0m\n\u001b[1;32m    169\u001b[0m                 \u001b[0;32melse\u001b[0m\u001b[0;34m:\u001b[0m\u001b[0;34m\u001b[0m\u001b[0;34m\u001b[0m\u001b[0m\n\u001b[0;32m--> 170\u001b[0;31m                     \u001b[0;32mraise\u001b[0m \u001b[0mAttributeError\u001b[0m\u001b[0;34m(\u001b[0m\u001b[0;34m'Current node is not in weights / model inputs / layers.'\u001b[0m\u001b[0;34m)\u001b[0m\u001b[0;34m\u001b[0m\u001b[0;34m\u001b[0m\u001b[0m\n\u001b[0m\u001b[1;32m    171\u001b[0m         \u001b[0;32melse\u001b[0m\u001b[0;34m:\u001b[0m\u001b[0;34m\u001b[0m\u001b[0;34m\u001b[0m\u001b[0m\n\u001b[1;32m    172\u001b[0m             \u001b[0mlogger\u001b[0m\u001b[0;34m.\u001b[0m\u001b[0mdebug\u001b[0m\u001b[0;34m(\u001b[0m\u001b[0;34m'... found all, continue'\u001b[0m\u001b[0;34m)\u001b[0m\u001b[0;34m\u001b[0m\u001b[0;34m\u001b[0m\u001b[0m\n",
      "\u001b[0;31mAttributeError\u001b[0m: Current node is not in weights / model inputs / layers."
     ]
    }
   ],
   "source": [
    "k_model_restored = onnx_to_keras(onnx_model, ['input'])"
   ]
  },
  {
   "cell_type": "code",
   "execution_count": null,
   "metadata": {},
   "outputs": [],
   "source": []
  },
  {
   "cell_type": "code",
   "execution_count": null,
   "metadata": {},
   "outputs": [],
   "source": []
  },
  {
   "cell_type": "code",
   "execution_count": null,
   "metadata": {},
   "outputs": [],
   "source": []
  },
  {
   "cell_type": "code",
   "execution_count": null,
   "metadata": {},
   "outputs": [],
   "source": []
  },
  {
   "cell_type": "markdown",
   "metadata": {},
   "source": [
    "## Let's try to convert this model to coreml"
   ]
  },
  {
   "cell_type": "code",
   "execution_count": 23,
   "metadata": {},
   "outputs": [],
   "source": [
    "# install it first\n",
    "#!pip install coremltools\n",
    "'''WARNING:root:scikit-learn version 0.21.3 is not supported. Minimum required version: 0.17. Maximum required version: 0.19.2. Disabling scikit-learn conversion API.\n",
    "WARNING:root:TensorFlow version 2.5.0 detected. Last version known to be fully compatible is 2.3.1 .\n",
    "Using TensorFlow backend.'''"
   ]
  },
  {
   "cell_type": "code",
   "execution_count": 17,
   "metadata": {},
   "outputs": [
    {
     "name": "stderr",
     "output_type": "stream",
     "text": [
      "WARNING:root:TensorFlow version 2.5.0 detected. Last version known to be fully compatible is 2.3.1 .\n",
      "Using TensorFlow backend.\n"
     ]
    }
   ],
   "source": [
    "import coremltools"
   ]
  },
  {
   "cell_type": "code",
   "execution_count": 18,
   "metadata": {},
   "outputs": [
    {
     "name": "stderr",
     "output_type": "stream",
     "text": [
      "Running TensorFlow Graph Passes: 100%|██████████| 5/5 [00:00<00:00, 30.73 passes/s]\n",
      "Converting Frontend ==> MIL Ops: 100%|██████████| 31/31 [00:00<00:00, 436.57 ops/s]\n",
      "Running MIL Common passes: 100%|██████████| 33/33 [00:00<00:00, 555.08 passes/s]\n",
      "Running MIL Clean up passes: 100%|██████████| 8/8 [00:00<00:00, 242.97 passes/s]\n",
      "Translating MIL ==> NeuralNetwork Ops: 100%|██████████| 54/54 [00:00<00:00, 1511.08 ops/s]\n"
     ]
    }
   ],
   "source": [
    "coreml_model = coremltools.convert(model)"
   ]
  },
  {
   "cell_type": "code",
   "execution_count": 33,
   "metadata": {},
   "outputs": [
    {
     "name": "stderr",
     "output_type": "stream",
     "text": [
      "Running TensorFlow Graph Passes: 100%|██████████| 5/5 [00:00<00:00, 25.87 passes/s]\n",
      "Converting Frontend ==> MIL Ops: 100%|██████████| 31/31 [00:00<00:00, 433.59 ops/s]\n",
      "Running MIL Common passes: 100%|██████████| 33/33 [00:00<00:00, 398.60 passes/s]\n",
      "Running MIL Clean up passes: 100%|██████████| 8/8 [00:00<00:00, 215.65 passes/s]\n",
      "Translating MIL ==> NeuralNetwork Ops: 100%|██████████| 54/54 [00:00<00:00, 1544.94 ops/s]\n"
     ]
    }
   ],
   "source": [
    "coreml_model2 = coremltools.convert(model, input_name='input_name', image_input_name='input_names')"
   ]
  },
  {
   "cell_type": "code",
   "execution_count": 36,
   "metadata": {},
   "outputs": [],
   "source": []
  },
  {
   "cell_type": "code",
   "execution_count": 39,
   "metadata": {},
   "outputs": [
    {
     "data": {
      "text/plain": [
       "name: \"conv2d_input\"\n",
       "type {\n",
       "  multiArrayType {\n",
       "    shape: 1\n",
       "    shape: 28\n",
       "    shape: 28\n",
       "    shape: 1\n",
       "    dataType: FLOAT32\n",
       "    shapeRange {\n",
       "      sizeRanges {\n",
       "        lowerBound: 1\n",
       "        upperBound: -1\n",
       "      }\n",
       "      sizeRanges {\n",
       "        lowerBound: 28\n",
       "        upperBound: 28\n",
       "      }\n",
       "      sizeRanges {\n",
       "        lowerBound: 28\n",
       "        upperBound: 28\n",
       "      }\n",
       "      sizeRanges {\n",
       "        lowerBound: 1\n",
       "        upperBound: 1\n",
       "      }\n",
       "    }\n",
       "  }\n",
       "}"
      ]
     },
     "execution_count": 39,
     "metadata": {},
     "output_type": "execute_result"
    }
   ],
   "source": []
  },
  {
   "cell_type": "code",
   "execution_count": null,
   "metadata": {},
   "outputs": [],
   "source": []
  },
  {
   "cell_type": "code",
   "execution_count": 19,
   "metadata": {},
   "outputs": [
    {
     "name": "stdout",
     "output_type": "stream",
     "text": [
      "[name: \"conv2d_input\"\n",
      "type {\n",
      "  multiArrayType {\n",
      "    shape: 1\n",
      "    shape: 28\n",
      "    shape: 28\n",
      "    shape: 1\n",
      "    dataType: FLOAT32\n",
      "    shapeRange {\n",
      "      sizeRanges {\n",
      "        lowerBound: 1\n",
      "        upperBound: -1\n",
      "      }\n",
      "      sizeRanges {\n",
      "        lowerBound: 28\n",
      "        upperBound: 28\n",
      "      }\n",
      "      sizeRanges {\n",
      "        lowerBound: 28\n",
      "        upperBound: 28\n",
      "      }\n",
      "      sizeRanges {\n",
      "        lowerBound: 1\n",
      "        upperBound: 1\n",
      "      }\n",
      "    }\n",
      "  }\n",
      "}\n",
      "]\n"
     ]
    }
   ],
   "source": [
    "print(coreml_model.get_spec().description.input)"
   ]
  },
  {
   "cell_type": "code",
   "execution_count": 20,
   "metadata": {},
   "outputs": [],
   "source": [
    "#input_shape = (1,28,28)\n",
    "output_dict_test = coreml_model.predict({'conv2d_input':X_test})"
   ]
  },
  {
   "cell_type": "code",
   "execution_count": 21,
   "metadata": {},
   "outputs": [
    {
     "data": {
      "text/plain": [
       "array([[3.3256106e-21, 6.8065322e-19, 6.5434598e-18, ..., 1.0000000e+00,\n",
       "        1.7159787e-19, 1.8412391e-16],\n",
       "       [8.1228532e-02, 1.3294430e-01, 8.4695749e-02, ..., 1.0460241e-01,\n",
       "        1.5361437e-01, 9.5107198e-02],\n",
       "       [8.1228532e-02, 1.3294430e-01, 8.4695749e-02, ..., 1.0460241e-01,\n",
       "        1.5361437e-01, 9.5107198e-02],\n",
       "       ...,\n",
       "       [8.1228532e-02, 1.3294430e-01, 8.4695749e-02, ..., 1.0460241e-01,\n",
       "        1.5361437e-01, 9.5107183e-02],\n",
       "       [8.1228532e-02, 1.3294430e-01, 8.4695749e-02, ..., 1.0460241e-01,\n",
       "        1.5361437e-01, 9.5107183e-02],\n",
       "       [8.1228532e-02, 1.3294430e-01, 8.4695749e-02, ..., 1.0460241e-01,\n",
       "        1.5361437e-01, 9.5107183e-02]], dtype=float32)"
      ]
     },
     "execution_count": 21,
     "metadata": {},
     "output_type": "execute_result"
    }
   ],
   "source": [
    "output_dict_test['Identity']"
   ]
  },
  {
   "cell_type": "code",
   "execution_count": 22,
   "metadata": {},
   "outputs": [
    {
     "data": {
      "text/plain": [
       "array([[0., 0., 0., ..., 1., 0., 0.],\n",
       "       [0., 0., 1., ..., 0., 0., 0.],\n",
       "       [0., 1., 0., ..., 0., 0., 0.],\n",
       "       ...,\n",
       "       [0., 0., 0., ..., 0., 0., 0.],\n",
       "       [0., 0., 0., ..., 0., 0., 0.],\n",
       "       [0., 0., 0., ..., 0., 0., 0.]], dtype=float32)"
      ]
     },
     "execution_count": 22,
     "metadata": {},
     "output_type": "execute_result"
    }
   ],
   "source": [
    "Y_test"
   ]
  },
  {
   "cell_type": "code",
   "execution_count": 23,
   "metadata": {},
   "outputs": [
    {
     "ename": "AssertionError",
     "evalue": "\nArrays are not equal\n\nMismatched elements: 99999 / 100000 (100%)\nMax absolute difference: 0.9318618\nMax relative difference: 13.676064\n x: array([[0., 0., 0., ..., 1., 0., 0.],\n       [0., 0., 1., ..., 0., 0., 0.],\n       [0., 1., 0., ..., 0., 0., 0.],...\n y: array([[3.325611e-21, 6.806532e-19, 6.543460e-18, ..., 1.000000e+00,\n        1.715979e-19, 1.841239e-16],\n       [8.122853e-02, 1.329443e-01, 8.469575e-02, ..., 1.046024e-01,...",
     "output_type": "error",
     "traceback": [
      "\u001b[0;31m---------------------------------------------------------------------------\u001b[0m",
      "\u001b[0;31mAssertionError\u001b[0m                            Traceback (most recent call last)",
      "\u001b[0;32m<ipython-input-23-896366a6bff2>\u001b[0m in \u001b[0;36m<module>\u001b[0;34m\u001b[0m\n\u001b[0;32m----> 1\u001b[0;31m \u001b[0mnp\u001b[0m\u001b[0;34m.\u001b[0m\u001b[0mtesting\u001b[0m\u001b[0;34m.\u001b[0m\u001b[0massert_array_equal\u001b[0m\u001b[0;34m(\u001b[0m\u001b[0mY_test\u001b[0m\u001b[0;34m,\u001b[0m \u001b[0moutput_dict_test\u001b[0m\u001b[0;34m[\u001b[0m\u001b[0;34m'Identity'\u001b[0m\u001b[0;34m]\u001b[0m\u001b[0;34m)\u001b[0m\u001b[0;34m\u001b[0m\u001b[0;34m\u001b[0m\u001b[0m\n\u001b[0m",
      "\u001b[0;32m/opt/anaconda3/lib/python3.7/site-packages/numpy/testing/_private/utils.py\u001b[0m in \u001b[0;36massert_array_equal\u001b[0;34m(x, y, err_msg, verbose)\u001b[0m\n\u001b[1;32m    929\u001b[0m     \u001b[0m__tracebackhide__\u001b[0m \u001b[0;34m=\u001b[0m \u001b[0;32mTrue\u001b[0m  \u001b[0;31m# Hide traceback for py.test\u001b[0m\u001b[0;34m\u001b[0m\u001b[0;34m\u001b[0m\u001b[0m\n\u001b[1;32m    930\u001b[0m     assert_array_compare(operator.__eq__, x, y, err_msg=err_msg,\n\u001b[0;32m--> 931\u001b[0;31m                          verbose=verbose, header='Arrays are not equal')\n\u001b[0m\u001b[1;32m    932\u001b[0m \u001b[0;34m\u001b[0m\u001b[0m\n\u001b[1;32m    933\u001b[0m \u001b[0;34m\u001b[0m\u001b[0m\n",
      "\u001b[0;32m/opt/anaconda3/lib/python3.7/site-packages/numpy/testing/_private/utils.py\u001b[0m in \u001b[0;36massert_array_compare\u001b[0;34m(comparison, x, y, err_msg, verbose, header, precision, equal_nan, equal_inf)\u001b[0m\n\u001b[1;32m    838\u001b[0m                                 \u001b[0mverbose\u001b[0m\u001b[0;34m=\u001b[0m\u001b[0mverbose\u001b[0m\u001b[0;34m,\u001b[0m \u001b[0mheader\u001b[0m\u001b[0;34m=\u001b[0m\u001b[0mheader\u001b[0m\u001b[0;34m,\u001b[0m\u001b[0;34m\u001b[0m\u001b[0;34m\u001b[0m\u001b[0m\n\u001b[1;32m    839\u001b[0m                                 names=('x', 'y'), precision=precision)\n\u001b[0;32m--> 840\u001b[0;31m             \u001b[0;32mraise\u001b[0m \u001b[0mAssertionError\u001b[0m\u001b[0;34m(\u001b[0m\u001b[0mmsg\u001b[0m\u001b[0;34m)\u001b[0m\u001b[0;34m\u001b[0m\u001b[0;34m\u001b[0m\u001b[0m\n\u001b[0m\u001b[1;32m    841\u001b[0m     \u001b[0;32mexcept\u001b[0m \u001b[0mValueError\u001b[0m\u001b[0;34m:\u001b[0m\u001b[0;34m\u001b[0m\u001b[0;34m\u001b[0m\u001b[0m\n\u001b[1;32m    842\u001b[0m         \u001b[0;32mimport\u001b[0m \u001b[0mtraceback\u001b[0m\u001b[0;34m\u001b[0m\u001b[0;34m\u001b[0m\u001b[0m\n",
      "\u001b[0;31mAssertionError\u001b[0m: \nArrays are not equal\n\nMismatched elements: 99999 / 100000 (100%)\nMax absolute difference: 0.9318618\nMax relative difference: 13.676064\n x: array([[0., 0., 0., ..., 1., 0., 0.],\n       [0., 0., 1., ..., 0., 0., 0.],\n       [0., 1., 0., ..., 0., 0., 0.],...\n y: array([[3.325611e-21, 6.806532e-19, 6.543460e-18, ..., 1.000000e+00,\n        1.715979e-19, 1.841239e-16],\n       [8.122853e-02, 1.329443e-01, 8.469575e-02, ..., 1.046024e-01,..."
     ]
    }
   ],
   "source": [
    "np.testing.assert_array_equal(Y_test, output_dict_test['Identity'])"
   ]
  },
  {
   "cell_type": "code",
   "execution_count": 24,
   "metadata": {},
   "outputs": [],
   "source": [
    "batch_size = 1\n",
    "\n",
    "val_generator =  DataGenerator(x_test, y_test, batch_size=batch_size,  dim = input_shape, \n",
    "                               n_classes= nb_classes, \n",
    "                               to_fit=True, shuffle=True)"
   ]
  },
  {
   "cell_type": "code",
   "execution_count": null,
   "metadata": {},
   "outputs": [],
   "source": []
  },
  {
   "cell_type": "code",
   "execution_count": 26,
   "metadata": {},
   "outputs": [],
   "source": [
    "for i, (images, labels) in enumerate(val_generator): \n",
    "    k_predict = model.predict(images)\n",
    "    output_dict_test = coreml_model.predict({'conv2d_input':images})\n",
    "    #print()\n",
    "    #np.testing.assert_array_equal(Y_test, output_dict_test['Identity'])\n",
    "    break"
   ]
  },
  {
   "cell_type": "code",
   "execution_count": 27,
   "metadata": {},
   "outputs": [
    {
     "data": {
      "text/plain": [
       "array([[1.0000000e+00, 1.3026834e-13, 2.7554650e-11, 4.7366053e-15,\n",
       "        3.2157813e-14, 5.1787448e-13, 8.5086306e-11, 4.3897487e-13,\n",
       "        5.8446173e-13, 3.7581365e-11]], dtype=float32)"
      ]
     },
     "execution_count": 27,
     "metadata": {},
     "output_type": "execute_result"
    }
   ],
   "source": [
    "k_predict"
   ]
  },
  {
   "cell_type": "code",
   "execution_count": 28,
   "metadata": {},
   "outputs": [
    {
     "data": {
      "text/plain": [
       "array([[1.0000000e+00, 1.3553026e-13, 2.8510128e-11, 4.9403252e-15,\n",
       "        3.3564270e-14, 5.3701808e-13, 8.7776848e-11, 4.5606216e-13,\n",
       "        6.0698175e-13, 3.8738769e-11]], dtype=float32)"
      ]
     },
     "execution_count": 28,
     "metadata": {},
     "output_type": "execute_result"
    }
   ],
   "source": [
    "output_dict_test['Identity']"
   ]
  },
  {
   "cell_type": "code",
   "execution_count": 40,
   "metadata": {},
   "outputs": [],
   "source": [
    "abs_err2 = np.absolute(k_predict-output_dict_test['Identity'])\n",
    "rel_err2 = np.absolute(k_predict-output_dict_test['Identity'])/ np.absolute(output_dict_test['Identity'])"
   ]
  },
  {
   "cell_type": "code",
   "execution_count": 41,
   "metadata": {},
   "outputs": [
    {
     "name": "stdout",
     "output_type": "stream",
     "text": [
      "[[0.0000000e+00 5.2619177e-15 9.5547875e-13 2.0371989e-16 1.4064576e-15\n",
      "  1.9143595e-14 2.6905422e-12 1.7087297e-14 2.2520018e-14 1.1574040e-12]] [[0.         0.03882467 0.03351366 0.04123613 0.04190341 0.03564795\n",
      "  0.03065207 0.03746704 0.03710164 0.02987715]]\n"
     ]
    }
   ],
   "source": [
    "print(abs_err2, rel_err2)"
   ]
  },
  {
   "cell_type": "code",
   "execution_count": 29,
   "metadata": {},
   "outputs": [
    {
     "ename": "AssertionError",
     "evalue": "\nArrays are not equal\n\nMismatched elements: 9 / 10 (90%)\nMax absolute difference: 2.6905422e-12\nMax relative difference: 0.04190341\n x: array([[1.000000e+00, 1.302683e-13, 2.755465e-11, 4.736605e-15,\n        3.215781e-14, 5.178745e-13, 8.508631e-11, 4.389749e-13,\n        5.844617e-13, 3.758137e-11]], dtype=float32)\n y: array([[1.000000e+00, 1.355303e-13, 2.851013e-11, 4.940325e-15,\n        3.356427e-14, 5.370181e-13, 8.777685e-11, 4.560622e-13,\n        6.069818e-13, 3.873877e-11]], dtype=float32)",
     "output_type": "error",
     "traceback": [
      "\u001b[0;31m---------------------------------------------------------------------------\u001b[0m",
      "\u001b[0;31mAssertionError\u001b[0m                            Traceback (most recent call last)",
      "\u001b[0;32m<ipython-input-29-4eade6d46d34>\u001b[0m in \u001b[0;36m<module>\u001b[0;34m\u001b[0m\n\u001b[0;32m----> 1\u001b[0;31m \u001b[0mnp\u001b[0m\u001b[0;34m.\u001b[0m\u001b[0mtesting\u001b[0m\u001b[0;34m.\u001b[0m\u001b[0massert_array_equal\u001b[0m\u001b[0;34m(\u001b[0m\u001b[0mk_predict\u001b[0m\u001b[0;34m,\u001b[0m \u001b[0moutput_dict_test\u001b[0m\u001b[0;34m[\u001b[0m\u001b[0;34m'Identity'\u001b[0m\u001b[0;34m]\u001b[0m\u001b[0;34m)\u001b[0m\u001b[0;34m\u001b[0m\u001b[0;34m\u001b[0m\u001b[0m\n\u001b[0m",
      "\u001b[0;32m/opt/anaconda3/lib/python3.7/site-packages/numpy/testing/_private/utils.py\u001b[0m in \u001b[0;36massert_array_equal\u001b[0;34m(x, y, err_msg, verbose)\u001b[0m\n\u001b[1;32m    929\u001b[0m     \u001b[0m__tracebackhide__\u001b[0m \u001b[0;34m=\u001b[0m \u001b[0;32mTrue\u001b[0m  \u001b[0;31m# Hide traceback for py.test\u001b[0m\u001b[0;34m\u001b[0m\u001b[0;34m\u001b[0m\u001b[0m\n\u001b[1;32m    930\u001b[0m     assert_array_compare(operator.__eq__, x, y, err_msg=err_msg,\n\u001b[0;32m--> 931\u001b[0;31m                          verbose=verbose, header='Arrays are not equal')\n\u001b[0m\u001b[1;32m    932\u001b[0m \u001b[0;34m\u001b[0m\u001b[0m\n\u001b[1;32m    933\u001b[0m \u001b[0;34m\u001b[0m\u001b[0m\n",
      "\u001b[0;32m/opt/anaconda3/lib/python3.7/site-packages/numpy/testing/_private/utils.py\u001b[0m in \u001b[0;36massert_array_compare\u001b[0;34m(comparison, x, y, err_msg, verbose, header, precision, equal_nan, equal_inf)\u001b[0m\n\u001b[1;32m    838\u001b[0m                                 \u001b[0mverbose\u001b[0m\u001b[0;34m=\u001b[0m\u001b[0mverbose\u001b[0m\u001b[0;34m,\u001b[0m \u001b[0mheader\u001b[0m\u001b[0;34m=\u001b[0m\u001b[0mheader\u001b[0m\u001b[0;34m,\u001b[0m\u001b[0;34m\u001b[0m\u001b[0;34m\u001b[0m\u001b[0m\n\u001b[1;32m    839\u001b[0m                                 names=('x', 'y'), precision=precision)\n\u001b[0;32m--> 840\u001b[0;31m             \u001b[0;32mraise\u001b[0m \u001b[0mAssertionError\u001b[0m\u001b[0;34m(\u001b[0m\u001b[0mmsg\u001b[0m\u001b[0;34m)\u001b[0m\u001b[0;34m\u001b[0m\u001b[0;34m\u001b[0m\u001b[0m\n\u001b[0m\u001b[1;32m    841\u001b[0m     \u001b[0;32mexcept\u001b[0m \u001b[0mValueError\u001b[0m\u001b[0;34m:\u001b[0m\u001b[0;34m\u001b[0m\u001b[0;34m\u001b[0m\u001b[0m\n\u001b[1;32m    842\u001b[0m         \u001b[0;32mimport\u001b[0m \u001b[0mtraceback\u001b[0m\u001b[0;34m\u001b[0m\u001b[0;34m\u001b[0m\u001b[0m\n",
      "\u001b[0;31mAssertionError\u001b[0m: \nArrays are not equal\n\nMismatched elements: 9 / 10 (90%)\nMax absolute difference: 2.6905422e-12\nMax relative difference: 0.04190341\n x: array([[1.000000e+00, 1.302683e-13, 2.755465e-11, 4.736605e-15,\n        3.215781e-14, 5.178745e-13, 8.508631e-11, 4.389749e-13,\n        5.844617e-13, 3.758137e-11]], dtype=float32)\n y: array([[1.000000e+00, 1.355303e-13, 2.851013e-11, 4.940325e-15,\n        3.356427e-14, 5.370181e-13, 8.777685e-11, 4.560622e-13,\n        6.069818e-13, 3.873877e-11]], dtype=float32)"
     ]
    }
   ],
   "source": [
    "np.testing.assert_array_equal(k_predict, output_dict_test['Identity'])"
   ]
  },
  {
   "cell_type": "code",
   "execution_count": null,
   "metadata": {},
   "outputs": [],
   "source": []
  }
 ],
 "metadata": {
  "kernelspec": {
   "display_name": "Python 3",
   "language": "python",
   "name": "python3"
  },
  "language_info": {
   "codemirror_mode": {
    "name": "ipython",
    "version": 3
   },
   "file_extension": ".py",
   "mimetype": "text/x-python",
   "name": "python",
   "nbconvert_exporter": "python",
   "pygments_lexer": "ipython3",
   "version": "3.7.4"
  }
 },
 "nbformat": 4,
 "nbformat_minor": 5
}
