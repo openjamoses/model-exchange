{
 "cells": [
  {
   "cell_type": "code",
   "execution_count": 1,
   "metadata": {},
   "outputs": [],
   "source": [
    "import torch\n",
    "import torch.nn as nn\n",
    "import torch.optim as optim\n",
    "from torch.autograd import Variable\n",
    "import torchvision\n",
    "from torchvision import datasets, models, transforms"
   ]
  },
  {
   "cell_type": "code",
   "execution_count": 2,
   "metadata": {},
   "outputs": [],
   "source": [
    "vgg16 = models.vgg16(pretrained=True)"
   ]
  },
  {
   "cell_type": "code",
   "execution_count": 4,
   "metadata": {},
   "outputs": [
    {
     "name": "stdout",
     "output_type": "stream",
     "text": [
      "graph(%input.1 : Float(1, 3, 224, 224, strides=[150528, 50176, 224, 1], requires_grad=0, device=cpu),\n",
      "      %features.0.weight : Float(64, 3, 3, 3, strides=[27, 9, 3, 1], requires_grad=1, device=cpu),\n",
      "      %features.0.bias : Float(64, strides=[1], requires_grad=1, device=cpu),\n",
      "      %features.2.weight : Float(64, 64, 3, 3, strides=[576, 9, 3, 1], requires_grad=1, device=cpu),\n",
      "      %features.2.bias : Float(64, strides=[1], requires_grad=1, device=cpu),\n",
      "      %features.5.weight : Float(128, 64, 3, 3, strides=[576, 9, 3, 1], requires_grad=1, device=cpu),\n",
      "      %features.5.bias : Float(128, strides=[1], requires_grad=1, device=cpu),\n",
      "      %features.7.weight : Float(128, 128, 3, 3, strides=[1152, 9, 3, 1], requires_grad=1, device=cpu),\n",
      "      %features.7.bias : Float(128, strides=[1], requires_grad=1, device=cpu),\n",
      "      %features.10.weight : Float(256, 128, 3, 3, strides=[1152, 9, 3, 1], requires_grad=1, device=cpu),\n",
      "      %features.10.bias : Float(256, strides=[1], requires_grad=1, device=cpu),\n",
      "      %features.12.weight : Float(256, 256, 3, 3, strides=[2304, 9, 3, 1], requires_grad=1, device=cpu),\n",
      "      %features.12.bias : Float(256, strides=[1], requires_grad=1, device=cpu),\n",
      "      %features.14.weight : Float(256, 256, 3, 3, strides=[2304, 9, 3, 1], requires_grad=1, device=cpu),\n",
      "      %features.14.bias : Float(256, strides=[1], requires_grad=1, device=cpu),\n",
      "      %features.17.weight : Float(512, 256, 3, 3, strides=[2304, 9, 3, 1], requires_grad=1, device=cpu),\n",
      "      %features.17.bias : Float(512, strides=[1], requires_grad=1, device=cpu),\n",
      "      %features.19.weight : Float(512, 512, 3, 3, strides=[4608, 9, 3, 1], requires_grad=1, device=cpu),\n",
      "      %features.19.bias : Float(512, strides=[1], requires_grad=1, device=cpu),\n",
      "      %features.21.weight : Float(512, 512, 3, 3, strides=[4608, 9, 3, 1], requires_grad=1, device=cpu),\n",
      "      %features.21.bias : Float(512, strides=[1], requires_grad=1, device=cpu),\n",
      "      %features.24.weight : Float(512, 512, 3, 3, strides=[4608, 9, 3, 1], requires_grad=1, device=cpu),\n",
      "      %features.24.bias : Float(512, strides=[1], requires_grad=1, device=cpu),\n",
      "      %features.26.weight : Float(512, 512, 3, 3, strides=[4608, 9, 3, 1], requires_grad=1, device=cpu),\n",
      "      %features.26.bias : Float(512, strides=[1], requires_grad=1, device=cpu),\n",
      "      %features.28.weight : Float(512, 512, 3, 3, strides=[4608, 9, 3, 1], requires_grad=1, device=cpu),\n",
      "      %features.28.bias : Float(512, strides=[1], requires_grad=1, device=cpu),\n",
      "      %classifier.0.weight : Float(4096, 25088, strides=[25088, 1], requires_grad=1, device=cpu),\n",
      "      %classifier.0.bias : Float(4096, strides=[1], requires_grad=1, device=cpu),\n",
      "      %classifier.3.weight : Float(4096, 4096, strides=[4096, 1], requires_grad=1, device=cpu),\n",
      "      %classifier.3.bias : Float(4096, strides=[1], requires_grad=1, device=cpu),\n",
      "      %classifier.6.weight : Float(1000, 4096, strides=[4096, 1], requires_grad=1, device=cpu),\n",
      "      %classifier.6.bias : Float(1000, strides=[1], requires_grad=1, device=cpu)):\n",
      "  %33 : Float(1, 64, 224, 224, strides=[3211264, 50176, 224, 1], requires_grad=1, device=cpu) = onnx::Conv[dilations=[1, 1], group=1, kernel_shape=[3, 3], pads=[1, 1, 1, 1], strides=[1, 1]](%input.1, %features.0.weight, %features.0.bias) # /opt/anaconda3/lib/python3.7/site-packages/torch/nn/modules/conv.py:440:0\n",
      "  %34 : Float(1, 64, 224, 224, strides=[3211264, 50176, 224, 1], requires_grad=1, device=cpu) = onnx::Relu(%33) # /opt/anaconda3/lib/python3.7/site-packages/torch/nn/functional.py:1296:0\n",
      "  %35 : Float(1, 64, 224, 224, strides=[3211264, 50176, 224, 1], requires_grad=1, device=cpu) = onnx::Conv[dilations=[1, 1], group=1, kernel_shape=[3, 3], pads=[1, 1, 1, 1], strides=[1, 1]](%34, %features.2.weight, %features.2.bias) # /opt/anaconda3/lib/python3.7/site-packages/torch/nn/modules/conv.py:440:0\n",
      "  %36 : Float(1, 64, 224, 224, strides=[3211264, 50176, 224, 1], requires_grad=1, device=cpu) = onnx::Relu(%35) # /opt/anaconda3/lib/python3.7/site-packages/torch/nn/functional.py:1296:0\n",
      "  %37 : Float(1, 64, 112, 112, strides=[802816, 12544, 112, 1], requires_grad=1, device=cpu) = onnx::MaxPool[ceil_mode=0, kernel_shape=[2, 2], pads=[0, 0, 0, 0], strides=[2, 2]](%36) # /opt/anaconda3/lib/python3.7/site-packages/torch/nn/functional.py:718:0\n",
      "  %38 : Float(1, 128, 112, 112, strides=[1605632, 12544, 112, 1], requires_grad=1, device=cpu) = onnx::Conv[dilations=[1, 1], group=1, kernel_shape=[3, 3], pads=[1, 1, 1, 1], strides=[1, 1]](%37, %features.5.weight, %features.5.bias) # /opt/anaconda3/lib/python3.7/site-packages/torch/nn/modules/conv.py:440:0\n",
      "  %39 : Float(1, 128, 112, 112, strides=[1605632, 12544, 112, 1], requires_grad=1, device=cpu) = onnx::Relu(%38) # /opt/anaconda3/lib/python3.7/site-packages/torch/nn/functional.py:1296:0\n",
      "  %40 : Float(1, 128, 112, 112, strides=[1605632, 12544, 112, 1], requires_grad=1, device=cpu) = onnx::Conv[dilations=[1, 1], group=1, kernel_shape=[3, 3], pads=[1, 1, 1, 1], strides=[1, 1]](%39, %features.7.weight, %features.7.bias) # /opt/anaconda3/lib/python3.7/site-packages/torch/nn/modules/conv.py:440:0\n",
      "  %41 : Float(1, 128, 112, 112, strides=[1605632, 12544, 112, 1], requires_grad=1, device=cpu) = onnx::Relu(%40) # /opt/anaconda3/lib/python3.7/site-packages/torch/nn/functional.py:1296:0\n",
      "  %42 : Float(1, 128, 56, 56, strides=[401408, 3136, 56, 1], requires_grad=1, device=cpu) = onnx::MaxPool[ceil_mode=0, kernel_shape=[2, 2], pads=[0, 0, 0, 0], strides=[2, 2]](%41) # /opt/anaconda3/lib/python3.7/site-packages/torch/nn/functional.py:718:0\n",
      "  %43 : Float(1, 256, 56, 56, strides=[802816, 3136, 56, 1], requires_grad=1, device=cpu) = onnx::Conv[dilations=[1, 1], group=1, kernel_shape=[3, 3], pads=[1, 1, 1, 1], strides=[1, 1]](%42, %features.10.weight, %features.10.bias) # /opt/anaconda3/lib/python3.7/site-packages/torch/nn/modules/conv.py:440:0\n",
      "  %44 : Float(1, 256, 56, 56, strides=[802816, 3136, 56, 1], requires_grad=1, device=cpu) = onnx::Relu(%43) # /opt/anaconda3/lib/python3.7/site-packages/torch/nn/functional.py:1296:0\n",
      "  %45 : Float(1, 256, 56, 56, strides=[802816, 3136, 56, 1], requires_grad=1, device=cpu) = onnx::Conv[dilations=[1, 1], group=1, kernel_shape=[3, 3], pads=[1, 1, 1, 1], strides=[1, 1]](%44, %features.12.weight, %features.12.bias) # /opt/anaconda3/lib/python3.7/site-packages/torch/nn/modules/conv.py:440:0\n",
      "  %46 : Float(1, 256, 56, 56, strides=[802816, 3136, 56, 1], requires_grad=1, device=cpu) = onnx::Relu(%45) # /opt/anaconda3/lib/python3.7/site-packages/torch/nn/functional.py:1296:0\n",
      "  %47 : Float(1, 256, 56, 56, strides=[802816, 3136, 56, 1], requires_grad=1, device=cpu) = onnx::Conv[dilations=[1, 1], group=1, kernel_shape=[3, 3], pads=[1, 1, 1, 1], strides=[1, 1]](%46, %features.14.weight, %features.14.bias) # /opt/anaconda3/lib/python3.7/site-packages/torch/nn/modules/conv.py:440:0\n",
      "  %48 : Float(1, 256, 56, 56, strides=[802816, 3136, 56, 1], requires_grad=1, device=cpu) = onnx::Relu(%47) # /opt/anaconda3/lib/python3.7/site-packages/torch/nn/functional.py:1296:0\n",
      "  %49 : Float(1, 256, 28, 28, strides=[200704, 784, 28, 1], requires_grad=1, device=cpu) = onnx::MaxPool[ceil_mode=0, kernel_shape=[2, 2], pads=[0, 0, 0, 0], strides=[2, 2]](%48) # /opt/anaconda3/lib/python3.7/site-packages/torch/nn/functional.py:718:0\n",
      "  %50 : Float(1, 512, 28, 28, strides=[401408, 784, 28, 1], requires_grad=1, device=cpu) = onnx::Conv[dilations=[1, 1], group=1, kernel_shape=[3, 3], pads=[1, 1, 1, 1], strides=[1, 1]](%49, %features.17.weight, %features.17.bias) # /opt/anaconda3/lib/python3.7/site-packages/torch/nn/modules/conv.py:440:0\n",
      "  %51 : Float(1, 512, 28, 28, strides=[401408, 784, 28, 1], requires_grad=1, device=cpu) = onnx::Relu(%50) # /opt/anaconda3/lib/python3.7/site-packages/torch/nn/functional.py:1296:0\n",
      "  %52 : Float(1, 512, 28, 28, strides=[401408, 784, 28, 1], requires_grad=1, device=cpu) = onnx::Conv[dilations=[1, 1], group=1, kernel_shape=[3, 3], pads=[1, 1, 1, 1], strides=[1, 1]](%51, %features.19.weight, %features.19.bias) # /opt/anaconda3/lib/python3.7/site-packages/torch/nn/modules/conv.py:440:0\n",
      "  %53 : Float(1, 512, 28, 28, strides=[401408, 784, 28, 1], requires_grad=1, device=cpu) = onnx::Relu(%52) # /opt/anaconda3/lib/python3.7/site-packages/torch/nn/functional.py:1296:0\n",
      "  %54 : Float(1, 512, 28, 28, strides=[401408, 784, 28, 1], requires_grad=1, device=cpu) = onnx::Conv[dilations=[1, 1], group=1, kernel_shape=[3, 3], pads=[1, 1, 1, 1], strides=[1, 1]](%53, %features.21.weight, %features.21.bias) # /opt/anaconda3/lib/python3.7/site-packages/torch/nn/modules/conv.py:440:0\n",
      "  %55 : Float(1, 512, 28, 28, strides=[401408, 784, 28, 1], requires_grad=1, device=cpu) = onnx::Relu(%54) # /opt/anaconda3/lib/python3.7/site-packages/torch/nn/functional.py:1296:0\n",
      "  %56 : Float(1, 512, 14, 14, strides=[100352, 196, 14, 1], requires_grad=1, device=cpu) = onnx::MaxPool[ceil_mode=0, kernel_shape=[2, 2], pads=[0, 0, 0, 0], strides=[2, 2]](%55) # /opt/anaconda3/lib/python3.7/site-packages/torch/nn/functional.py:718:0\n",
      "  %57 : Float(1, 512, 14, 14, strides=[100352, 196, 14, 1], requires_grad=1, device=cpu) = onnx::Conv[dilations=[1, 1], group=1, kernel_shape=[3, 3], pads=[1, 1, 1, 1], strides=[1, 1]](%56, %features.24.weight, %features.24.bias) # /opt/anaconda3/lib/python3.7/site-packages/torch/nn/modules/conv.py:440:0\n",
      "  %58 : Float(1, 512, 14, 14, strides=[100352, 196, 14, 1], requires_grad=1, device=cpu) = onnx::Relu(%57) # /opt/anaconda3/lib/python3.7/site-packages/torch/nn/functional.py:1296:0\n",
      "  %59 : Float(1, 512, 14, 14, strides=[100352, 196, 14, 1], requires_grad=1, device=cpu) = onnx::Conv[dilations=[1, 1], group=1, kernel_shape=[3, 3], pads=[1, 1, 1, 1], strides=[1, 1]](%58, %features.26.weight, %features.26.bias) # /opt/anaconda3/lib/python3.7/site-packages/torch/nn/modules/conv.py:440:0\n",
      "  %60 : Float(1, 512, 14, 14, strides=[100352, 196, 14, 1], requires_grad=1, device=cpu) = onnx::Relu(%59) # /opt/anaconda3/lib/python3.7/site-packages/torch/nn/functional.py:1296:0\n",
      "  %61 : Float(1, 512, 14, 14, strides=[100352, 196, 14, 1], requires_grad=1, device=cpu) = onnx::Conv[dilations=[1, 1], group=1, kernel_shape=[3, 3], pads=[1, 1, 1, 1], strides=[1, 1]](%60, %features.28.weight, %features.28.bias) # /opt/anaconda3/lib/python3.7/site-packages/torch/nn/modules/conv.py:440:0\n",
      "  %62 : Float(1, 512, 14, 14, strides=[100352, 196, 14, 1], requires_grad=1, device=cpu) = onnx::Relu(%61) # /opt/anaconda3/lib/python3.7/site-packages/torch/nn/functional.py:1296:0\n",
      "  %63 : Float(1, 512, 7, 7, strides=[25088, 49, 7, 1], requires_grad=1, device=cpu) = onnx::MaxPool[ceil_mode=0, kernel_shape=[2, 2], pads=[0, 0, 0, 0], strides=[2, 2]](%62) # /opt/anaconda3/lib/python3.7/site-packages/torch/nn/functional.py:718:0\n",
      "  %64 : Float(1, 512, 7, 7, strides=[25088, 49, 7, 1], requires_grad=1, device=cpu) = onnx::AveragePool[kernel_shape=[1, 1], strides=[1, 1]](%63) # /opt/anaconda3/lib/python3.7/site-packages/torch/nn/functional.py:1130:0\n",
      "  %65 : Float(1, 25088, strides=[25088, 1], requires_grad=1, device=cpu) = onnx::Flatten[axis=1](%64) # /opt/anaconda3/lib/python3.7/site-packages/torchvision/models/vgg.py:51:0\n",
      "  %66 : Float(1, 4096, strides=[4096, 1], requires_grad=1, device=cpu) = onnx::Gemm[alpha=1., beta=1., transB=1](%65, %classifier.0.weight, %classifier.0.bias) # /opt/anaconda3/lib/python3.7/site-packages/torch/nn/functional.py:1847:0\n",
      "  %67 : Float(1, 4096, strides=[4096, 1], requires_grad=1, device=cpu) = onnx::Relu(%66) # /opt/anaconda3/lib/python3.7/site-packages/torch/nn/functional.py:1168:0\n",
      "  %68 : Float(1, 4096, strides=[4096, 1], requires_grad=1, device=cpu) = onnx::Gemm[alpha=1., beta=1., transB=1](%67, %classifier.3.weight, %classifier.3.bias) # /opt/anaconda3/lib/python3.7/site-packages/torch/nn/functional.py:1847:0\n",
      "  %69 : Float(1, 4096, strides=[4096, 1], requires_grad=1, device=cpu) = onnx::Relu(%68) # /opt/anaconda3/lib/python3.7/site-packages/torch/nn/functional.py:1168:0\n",
      "  %70 : Float(1, 1000, strides=[1000, 1], requires_grad=1, device=cpu) = onnx::Gemm[alpha=1., beta=1., transB=1](%69, %classifier.6.weight, %classifier.6.bias) # /opt/anaconda3/lib/python3.7/site-packages/torch/nn/functional.py:1847:0\n",
      "  return (%70)\n",
      "\n"
     ]
    }
   ],
   "source": [
    "x = Variable(torch.randn(1, 3, 224, 224))\n",
    "torch.onnx.export(vgg16, x, 'vgg16_pytorch.onnx', verbose=True, opset_version=10)"
   ]
  },
  {
   "cell_type": "code",
   "execution_count": null,
   "metadata": {},
   "outputs": [],
   "source": []
  }
 ],
 "metadata": {
  "kernelspec": {
   "display_name": "Python 3",
   "language": "python",
   "name": "python3"
  },
  "language_info": {
   "codemirror_mode": {
    "name": "ipython",
    "version": 3
   },
   "file_extension": ".py",
   "mimetype": "text/x-python",
   "name": "python",
   "nbconvert_exporter": "python",
   "pygments_lexer": "ipython3",
   "version": "3.7.4"
  }
 },
 "nbformat": 4,
 "nbformat_minor": 2
}
