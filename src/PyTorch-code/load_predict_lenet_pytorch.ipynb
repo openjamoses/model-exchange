{
 "cells": [
  {
   "cell_type": "code",
   "execution_count": 1,
   "metadata": {},
   "outputs": [
    {
     "data": {
      "text/plain": [
       "<matplotlib.pyplot._IonContext at 0x7fc694a22f50>"
      ]
     },
     "execution_count": 1,
     "metadata": {},
     "output_type": "execute_result"
    }
   ],
   "source": [
    "from __future__ import print_function, division\n",
    "#Import needed packages\n",
    "import torch\n",
    "import torch.nn as nn\n",
    "import torch.nn.functional as F\n",
    "import torch.optim as optim\n",
    "#from onnx_tf.backend import prepare\n",
    "import torch.optim as optim\n",
    "from torch.optim import lr_scheduler\n",
    "import numpy as np\n",
    "import torchvision\n",
    "from torchvision import datasets, models, transforms\n",
    "from torch.autograd import Variable\n",
    "from pytorch2keras.converter import pytorch_to_keras\n",
    "import matplotlib.pyplot as plt\n",
    "import time\n",
    "import os\n",
    "import copy\n",
    "import csv\n",
    "from tensorflow import keras\n",
    "import tensorflow as tf\n",
    "import pandas as pd\n",
    "from datetime import datetime\n",
    "from sklearn import metrics\n",
    "\n",
    "plt.ion()   # interactive mode"
   ]
  },
  {
   "cell_type": "code",
   "execution_count": 2,
   "metadata": {},
   "outputs": [],
   "source": [
    "from torchvision import datasets\n",
    "import torchvision.transforms as transforms\n",
    "from torch.utils.data.sampler import SubsetRandomSampler"
   ]
  },
  {
   "cell_type": "code",
   "execution_count": 3,
   "metadata": {},
   "outputs": [
    {
     "name": "stdout",
     "output_type": "stream",
     "text": [
      "Downloading http://yann.lecun.com/exdb/mnist/train-images-idx3-ubyte.gz\n",
      "Downloading http://yann.lecun.com/exdb/mnist/train-images-idx3-ubyte.gz to mnist_data/MNIST/raw/train-images-idx3-ubyte.gz\n"
     ]
    },
    {
     "data": {
      "application/vnd.jupyter.widget-view+json": {
       "model_id": "dfdc75635af24d7b9f2ee8e60ed88dfe",
       "version_major": 2,
       "version_minor": 0
      },
      "text/plain": [
       "  0%|          | 0/9912422 [00:00<?, ?it/s]"
      ]
     },
     "metadata": {},
     "output_type": "display_data"
    },
    {
     "name": "stdout",
     "output_type": "stream",
     "text": [
      "Extracting mnist_data/MNIST/raw/train-images-idx3-ubyte.gz to mnist_data/MNIST/raw\n",
      "\n",
      "Downloading http://yann.lecun.com/exdb/mnist/train-labels-idx1-ubyte.gz\n",
      "Downloading http://yann.lecun.com/exdb/mnist/train-labels-idx1-ubyte.gz to mnist_data/MNIST/raw/train-labels-idx1-ubyte.gz\n"
     ]
    },
    {
     "data": {
      "application/vnd.jupyter.widget-view+json": {
       "model_id": "a16d788032ab46759047e0d25907ea0d",
       "version_major": 2,
       "version_minor": 0
      },
      "text/plain": [
       "  0%|          | 0/28881 [00:00<?, ?it/s]"
      ]
     },
     "metadata": {},
     "output_type": "display_data"
    },
    {
     "name": "stdout",
     "output_type": "stream",
     "text": [
      "Extracting mnist_data/MNIST/raw/train-labels-idx1-ubyte.gz to mnist_data/MNIST/raw\n",
      "\n",
      "Downloading http://yann.lecun.com/exdb/mnist/t10k-images-idx3-ubyte.gz\n",
      "Downloading http://yann.lecun.com/exdb/mnist/t10k-images-idx3-ubyte.gz to mnist_data/MNIST/raw/t10k-images-idx3-ubyte.gz\n"
     ]
    },
    {
     "data": {
      "application/vnd.jupyter.widget-view+json": {
       "model_id": "b7cc3f7fd1ac455ba10c19269bda1c77",
       "version_major": 2,
       "version_minor": 0
      },
      "text/plain": [
       "  0%|          | 0/1648877 [00:00<?, ?it/s]"
      ]
     },
     "metadata": {},
     "output_type": "display_data"
    },
    {
     "name": "stdout",
     "output_type": "stream",
     "text": [
      "Extracting mnist_data/MNIST/raw/t10k-images-idx3-ubyte.gz to mnist_data/MNIST/raw\n",
      "\n",
      "Downloading http://yann.lecun.com/exdb/mnist/t10k-labels-idx1-ubyte.gz\n",
      "Downloading http://yann.lecun.com/exdb/mnist/t10k-labels-idx1-ubyte.gz to mnist_data/MNIST/raw/t10k-labels-idx1-ubyte.gz\n"
     ]
    },
    {
     "data": {
      "application/vnd.jupyter.widget-view+json": {
       "model_id": "9049545240994f43b545603300d11401",
       "version_major": 2,
       "version_minor": 0
      },
      "text/plain": [
       "  0%|          | 0/4542 [00:00<?, ?it/s]"
      ]
     },
     "metadata": {},
     "output_type": "display_data"
    },
    {
     "name": "stdout",
     "output_type": "stream",
     "text": [
      "Extracting mnist_data/MNIST/raw/t10k-labels-idx1-ubyte.gz to mnist_data/MNIST/raw\n",
      "\n"
     ]
    },
    {
     "name": "stderr",
     "output_type": "stream",
     "text": [
      "/opt/anaconda3/lib/python3.7/site-packages/torchvision/datasets/mnist.py:498: UserWarning: The given NumPy array is not writeable, and PyTorch does not support non-writeable tensors. This means you can write to the underlying (supposedly non-writeable) NumPy array using the tensor. You may want to copy the array to protect its data or make it writeable before converting it to a tensor. This type of warning will be suppressed for the rest of this program. (Triggered internally at  ../torch/csrc/utils/tensor_numpy.cpp:180.)\n",
      "  return torch.from_numpy(parsed.astype(m[2], copy=False)).view(*s)\n"
     ]
    }
   ],
   "source": [
    "# Mnist dataset fpr Lenet\n",
    "batch_size = 128\n",
    "T = torchvision.transforms.Compose([\n",
    "    torchvision.transforms.ToTensor()\n",
    "])\n",
    "train_data = torchvision.datasets.MNIST('mnist_data', train=True, download=True, transform=T)\n",
    "val_data = torchvision.datasets.MNIST('mnist_data', train=False, download=True, transform=T)\n",
    "\n",
    "trainloader = torch.utils.data.DataLoader(train_data, batch_size = batch_size)\n",
    "valloader = torch.utils.data.DataLoader(val_data, batch_size = batch_size)"
   ]
  },
  {
   "cell_type": "code",
   "execution_count": 4,
   "metadata": {},
   "outputs": [],
   "source": [
    "training_id = 10\n",
    "model_short_name = 'lenet5'\n",
    "framework = 'pytorch'"
   ]
  },
  {
   "cell_type": "code",
   "execution_count": 5,
   "metadata": {},
   "outputs": [
    {
     "data": {
      "text/plain": [
       "252295"
      ]
     },
     "execution_count": 5,
     "metadata": {},
     "output_type": "execute_result"
    }
   ],
   "source": [
    "path = '/Volumes/Cisco/Fall2021/onnx-exchange/Training/pytorch/lenet5/'\n",
    "\n",
    "# Model class must be defined somewhere\n",
    "since_0 = time.time()\n",
    "model_name = 'torch_lenet5-mnist_2021-11-01_{}'.format(training_id)\n",
    "model = torch.load(path+model_name+'.pth', map_location=torch.device('cpu'))\n",
    "#resnet50_model.eval()\n",
    "t_elapsed_0 = time.time() - since_0\n",
    "size0 = os.path.getsize(path+model_name+'.pth')\n",
    "size0"
   ]
  },
  {
   "cell_type": "code",
   "execution_count": 6,
   "metadata": {},
   "outputs": [
    {
     "data": {
      "text/plain": [
       "252295"
      ]
     },
     "execution_count": 6,
     "metadata": {},
     "output_type": "execute_result"
    }
   ],
   "source": [
    "size1 = os.path.getsize(path+model_name+'.pth')\n",
    "size1"
   ]
  },
  {
   "cell_type": "code",
   "execution_count": 7,
   "metadata": {},
   "outputs": [
    {
     "name": "stderr",
     "output_type": "stream",
     "text": [
      "WARNING:root:TensorFlow version 2.5.0 detected. Last version known to be fully compatible is 2.3.1 .\n",
      "Using TensorFlow backend.\n"
     ]
    }
   ],
   "source": [
    "import onnx\n",
    "import onnxruntime\n",
    "import coremltools\n",
    "import time"
   ]
  },
  {
   "cell_type": "code",
   "execution_count": 8,
   "metadata": {},
   "outputs": [],
   "source": [
    "onnx_path = '/Volumes/Cisco/Fall2021/onnx-exchange/conversion/onnx/'\n",
    "coreml_path = '/Volumes/Cisco/Fall2021/onnx-exchange/conversion/coremltools/'\n",
    "error_path = '/Volumes/Cisco/Fall2021/onnx-exchange/conversion/errors/'"
   ]
  },
  {
   "cell_type": "code",
   "execution_count": 9,
   "metadata": {},
   "outputs": [],
   "source": [
    "def to_numpy(tensor):\n",
    "    return tensor.detach().cpu().numpy() if tensor.requires_grad else tensor.cpu().numpy()"
   ]
  },
  {
   "cell_type": "code",
   "execution_count": 10,
   "metadata": {},
   "outputs": [],
   "source": [
    "def to_onnx(i, x, data_writer_error, data_writer_error2, data_writer_run, batch_size):\n",
    "    # Input to the model\n",
    "    #device_reset = cuda.get_current_device()\n",
    "    #device_reset.reset()\n",
    "    #x.cuda()\n",
    "   \n",
    "    print(\"converting for batch: \", i)\n",
    "    traced_model = torch.jit.trace(model, x)\n",
    "    #torch.random.manual_seed(42)\n",
    "    #x = torch.randn(10000, 3, 32, 32, requires_grad=True)\n",
    "    since_ = time.time()\n",
    "    since_1 = time.time()\n",
    "    torch_out = model(x)\n",
    "    t_elapsed_1 = time.time() - since_1\n",
    "    \n",
    "    # Export the model\n",
    "    if not os.path.exists(onnx_path+framework+\"/{}\".format(model_short_name)):\n",
    "        os.makedirs(onnx_path+framework+\"/{}\".format(model_short_name))\n",
    "    if not os.path.exists(coreml_path+framework+\"/{}\".format(model_short_name)):\n",
    "        os.makedirs(coreml_path+framework+\"/{}\".format(model_short_name))\n",
    "        \n",
    "    since_1 = time.time()\n",
    "    \n",
    "    since_onnx = time.time()\n",
    "    torch.onnx._export(model,               # model being run\n",
    "                  x,                         # model input (or a tuple for multiple inputs)\n",
    "                  onnx_path+framework+\"/{}/{}.onnx\".format(model_short_name, model_name),   # where to save the model (can be a file or file-like object)\n",
    "                  export_params=True,        # store the trained parameter weights inside the model file\n",
    "                  opset_version=10,          # the ONNX version to export the model to\n",
    "                  do_constant_folding=True,  # whether to execute constant folding for optimization\n",
    "                  input_names = ['input'],   # the model's input names\n",
    "                  #operator_export_type=torch.onnx.OperatorExportTypes.ONNX_ATEN_FALLBACK,\n",
    "                  output_names = ['output'], # the model's output names\n",
    "                  dynamic_axes={'input' : {0 : 'batch_size'},    # variable length axes\n",
    "                                'output' : {0 : 'batch_size'}})\n",
    "    \n",
    "    t_elapsed_2 = time.time() - since_1\n",
    "    \n",
    "    \n",
    "    onnx_model = onnx.load(onnx_path+framework+\"/{}/{}.onnx\".format(model_short_name, model_name))\n",
    "    onnx.checker.check_model(onnx_model)\n",
    "    size2 = os.path.getsize(onnx_path+framework+\"/{}/{}.onnx\".format(model_short_name, model_name))\n",
    "    #def to_numpy(tensor):\n",
    "    #    return tensor.detach().cpu().numpy() if tensor.requires_grad else tensor.cpu().numpy()\n",
    "    ort_session = onnxruntime.InferenceSession(onnx_path+framework+\"/{}/{}.onnx\".format(model_short_name, model_name))\n",
    "    since_1 = time.time()\n",
    "    ort_inputs = {ort_session.get_inputs()[0].name: to_numpy(x)}\n",
    "    ort_outs = ort_session.run(None, ort_inputs)\n",
    "    t_elapsed_3 = time.time() - since_1\n",
    "    t_elapsed_ = time.time() - since_\n",
    "    t_elapsed_onnx = time.time() - since_onnx\n",
    "    # compare ONNX Runtime and PyTorch results\n",
    "    print(\"\\n*********\\n\\n\")\n",
    "    #time_diff = t_elapsed_0+t_elapsed_1, t_elapsed_2, t_elapsed_3\n",
    "    \n",
    "    abs_err = np.absolute(to_numpy(torch_out)-ort_outs[0])\n",
    "    rel_err = np.absolute(to_numpy(torch_out)-ort_outs[0])/ np.absolute(ort_outs[0])\n",
    "    #print('Batch: ', i, abs_err, rel_err)\n",
    "    \n",
    "\n",
    "    \n",
    "    ## Converting the coremltool\n",
    "    since_1 = time.time()\n",
    "    # Using image_input in the inputs parameter:\n",
    "    # Convert to Core ML using the Unified Conversion API.\n",
    "    coreml_model = coremltools.convert(traced_model,inputs=[coremltools.TensorType(shape=x.shape)])\n",
    "    t_elapsed_4 = time.time() - since_1\n",
    "    since_1 = time.time()\n",
    "    coreml_model.save(coreml_path+framework+'/{}/{}.mlmodel'.format(model_short_name, model_name))\n",
    "    t_elapsed_5 = time.time() - since_1\n",
    "    \n",
    "    split_ = str(coreml_model.get_spec().description.input[0]).split('\\n')\n",
    "    name_1 = split_[0].replace('name: \"', '')\n",
    "    name_1 = name_1.replace('\"', '')\n",
    "    #print(name_1)\n",
    "\n",
    "    size3 = os.path.getsize(coreml_path+framework+'/{}/{}.mlmodel'.format(model_short_name, model_name))\n",
    "    \n",
    "    since_1 = time.time()\n",
    "    output_dict_test = coreml_model.predict({name_1:to_numpy(x)})\n",
    "    t_elapsed_6 = time.time() - since_1\n",
    "    t_elapsed2_ = time.time() - since_\n",
    "    \n",
    "    coreml_array_output = output_dict_test[list(output_dict_test.keys())[0]]\n",
    "    abs_err2 = np.absolute(to_numpy(torch_out)-coreml_array_output)\n",
    "    rel_err2 = np.absolute(to_numpy(torch_out)-coreml_array_output)/ np.absolute(coreml_array_output)\n",
    "    \n",
    "    for j in range (len(abs_err)):\n",
    "        for k in range(len(abs_err[j])): \n",
    "            data_writer_error.writerow([model_short_name,framework, training_id, model_name, batch_size, i, abs_err[j][k], rel_err[j][k]])\n",
    "    \n",
    "    \n",
    "    for j in range (len(abs_err2)):\n",
    "        for k in range(len(abs_err2[j])): \n",
    "            data_writer_error2.writerow([model_short_name,framework, training_id, model_name, batch_size, i, abs_err2[j][k], rel_err2[j][k]])\n",
    "      \n",
    "    data_writer_run.writerow([model_short_name, framework, training_id, model_name, batch_size, i,'onnx',size0, size2, t_elapsed_1, t_elapsed_3,  t_elapsed_2,'', t_elapsed_, np.mean(abs_err), np.median(abs_err), np.min(abs_err), np.max(abs_err), np.mean(rel_err), np.median(rel_err), np.min(rel_err), np.max(rel_err)])\n",
    "    data_writer_run.writerow([model_short_name, framework, training_id, model_name, batch_size, i,'coremltools',size0, size3, t_elapsed_1, t_elapsed_6, t_elapsed_4, t_elapsed_5, (t_elapsed2_-t_elapsed_onnx), np.mean(abs_err2), np.median(abs_err2), np.min(abs_err2), np.max(abs_err2), np.mean(rel_err2), np.median(rel_err2), np.min(rel_err2), np.max(rel_err2)])"
   ]
  },
  {
   "cell_type": "code",
   "execution_count": 11,
   "metadata": {},
   "outputs": [],
   "source": [
    "def _lets_convert(data, data_writer_error, data_writer_error2, data_writer_run, batch_size): # for cifar10 etc\n",
    "    since = time.time()\n",
    "    for i, (images, labels) in enumerate(data):\n",
    "        to_onnx(i, images,data_writer_error, data_writer_error2, data_writer_run, batch_size)\n",
    "        if i == 20: \n",
    "            break\n",
    "    time_elapsed = time.time() - since\n",
    "    print('Conversion complete in {:.0f}m {:.0f}s'.format(time_elapsed // 60, time_elapsed % 60) )"
   ]
  },
  {
   "cell_type": "code",
   "execution_count": 12,
   "metadata": {},
   "outputs": [],
   "source": [
    "#model_name = 'letnet5-keras'\n",
    "import pandas as pd \n",
    "def run_experiment(model_short_name, model_name):\n",
    "    if not os.path.exists(error_path+framework+\"/{}\".format(model_short_name)): \n",
    "        os.makedirs(error_path+framework+\"/{}\".format(model_short_name))\n",
    "\n",
    "    data_file_error = open(error_path + framework+'/{}/onnx_error_metrics_{}.csv'.format(model_short_name, model_name), mode='w', newline='',\n",
    "                                      encoding='utf-8')\n",
    "    data_writer_error = csv.writer(data_file_error, delimiter=',', quotechar='\"', quoting=csv.QUOTE_MINIMAL)\n",
    "    data_writer_error.writerow(['model','framework', 'training_id', 'model_full', \"batch_size\", 'round','absolute_error', 'relative_error'])\n",
    "\n",
    "\n",
    "    data_file_error2 = open(error_path + framework+'/{}/mlmore_error_metrics_{}.csv'.format(model_short_name, model_name), mode='w', newline='',\n",
    "                                      encoding='utf-8')\n",
    "    data_writer_error2 = csv.writer(data_file_error2, delimiter=',', quotechar='\"', quoting=csv.QUOTE_MINIMAL)\n",
    "    data_writer_error2.writerow(['model','framework', 'training_id', 'model_full', \"batch_size\", 'round','absolute_error', 'relative_error'])\n",
    "\n",
    "\n",
    "    data_file_run = open(error_path + framework+'/{}/runtime_metrics_{}.csv'.format(model_short_name, model_name), mode='w', newline='',\n",
    "                                      encoding='utf-8')\n",
    "    data_writer_run = csv.writer(data_file_run, delimiter=',', quotechar='\"', quoting=csv.QUOTE_MINIMAL)\n",
    "    data_writer_run.writerow(['model','framework', 'training_id', 'model_full', \"batch_size\", 'round','converter','original_size', 'converted_size', 'original_infererence_time', 'converted_infererence_time', 'conversion_time', 'saving_converted_time', 'overral_time', 'avg_abs_error', 'median_abs_error', 'min_abs_error', 'max_abs_error','avg_rel_error', 'median_rel_error', 'min_rel_error', 'max_rel_error'])\n",
    "    \n",
    "    #for batch_size in [1, 5,10,20,30,40,50,60,70,80,90,100,128, 150,200, 250,300,350, 400, 450, 500]:\n",
    "    for batch_size in [1, 5,10,50,100,128, 150,200, 250,300,350, 400, 450, 500]:\n",
    "        print(\"################ Batch size: \", batch_size)\n",
    "        #trainloader = torch.utils.data.DataLoader(train_data, batch_size = batch_size)\n",
    "        valloader = torch.utils.data.DataLoader(val_data, batch_size = batch_size)\n",
    "        \n",
    "        _lets_convert(valloader, data_writer_error, data_writer_error2, data_writer_run, batch_size)\n",
    "    data_file_error.close()\n",
    "    data_file_error2.close()\n",
    "    data_file_run.close()"
   ]
  },
  {
   "cell_type": "code",
   "execution_count": 13,
   "metadata": {},
   "outputs": [
    {
     "name": "stdout",
     "output_type": "stream",
     "text": [
      "################ Batch size:  1\n",
      "converting for batch:  0\n",
      "\n",
      "*********\n",
      "\n",
      "\n"
     ]
    },
    {
     "name": "stderr",
     "output_type": "stream",
     "text": [
      "Converting Frontend ==> MIL Ops:  98%|█████████▊| 46/47 [00:00<00:00, 2189.12 ops/s]\n",
      "Running MIL Common passes:   0%|          | 0/33 [00:00<?, ? passes/s]/opt/anaconda3/lib/python3.7/site-packages/coremltools/converters/mil/mil/passes/name_sanitization_utils.py:101: UserWarning: Input, 'input.1', of the source model, has been renamed to 'input_1' in the Core ML model.\n",
      "  warnings.warn(msg.format(var.name, new_name))\n",
      "/opt/anaconda3/lib/python3.7/site-packages/coremltools/converters/mil/mil/passes/name_sanitization_utils.py:129: UserWarning: Output, '57', of the source model, has been renamed to 'var_57' in the Core ML model.\n",
      "  warnings.warn(msg.format(var.name, new_name))\n",
      "Running MIL Common passes: 100%|██████████| 33/33 [00:00<00:00, 1212.16 passes/s]\n",
      "Running MIL Clean up passes: 100%|██████████| 8/8 [00:00<00:00, 315.35 passes/s]\n",
      "Translating MIL ==> NeuralNetwork Ops: 100%|██████████| 45/45 [00:00<00:00, 1557.30 ops/s]\n"
     ]
    },
    {
     "name": "stdout",
     "output_type": "stream",
     "text": [
      "converting for batch:  1\n",
      "\n",
      "*********\n",
      "\n",
      "\n"
     ]
    },
    {
     "name": "stderr",
     "output_type": "stream",
     "text": [
      "Converting Frontend ==> MIL Ops:  98%|█████████▊| 46/47 [00:00<00:00, 1878.00 ops/s]\n",
      "Running MIL Common passes: 100%|██████████| 33/33 [00:00<00:00, 1266.60 passes/s]\n",
      "Running MIL Clean up passes: 100%|██████████| 8/8 [00:00<00:00, 332.13 passes/s]\n",
      "Translating MIL ==> NeuralNetwork Ops: 100%|██████████| 45/45 [00:00<00:00, 2256.97 ops/s]\n"
     ]
    },
    {
     "name": "stdout",
     "output_type": "stream",
     "text": [
      "converting for batch:  2\n",
      "\n",
      "*********\n",
      "\n",
      "\n"
     ]
    },
    {
     "name": "stderr",
     "output_type": "stream",
     "text": [
      "Converting Frontend ==> MIL Ops:  98%|█████████▊| 46/47 [00:00<00:00, 3587.27 ops/s]\n",
      "Running MIL Common passes: 100%|██████████| 33/33 [00:00<00:00, 2004.72 passes/s]\n",
      "Running MIL Clean up passes: 100%|██████████| 8/8 [00:00<00:00, 418.15 passes/s]\n",
      "Translating MIL ==> NeuralNetwork Ops: 100%|██████████| 45/45 [00:00<00:00, 1746.82 ops/s]\n"
     ]
    },
    {
     "name": "stdout",
     "output_type": "stream",
     "text": [
      "converting for batch:  3\n",
      "\n",
      "*********\n",
      "\n",
      "\n"
     ]
    },
    {
     "name": "stderr",
     "output_type": "stream",
     "text": [
      "Converting Frontend ==> MIL Ops:  98%|█████████▊| 46/47 [00:00<00:00, 4576.76 ops/s]\n",
      "Running MIL Common passes: 100%|██████████| 33/33 [00:00<00:00, 2033.50 passes/s]\n",
      "Running MIL Clean up passes: 100%|██████████| 8/8 [00:00<00:00, 446.66 passes/s]\n",
      "Translating MIL ==> NeuralNetwork Ops: 100%|██████████| 45/45 [00:00<00:00, 2304.70 ops/s]\n"
     ]
    },
    {
     "name": "stdout",
     "output_type": "stream",
     "text": [
      "converting for batch:  4\n",
      "\n",
      "*********\n",
      "\n",
      "\n"
     ]
    },
    {
     "name": "stderr",
     "output_type": "stream",
     "text": [
      "Converting Frontend ==> MIL Ops:  98%|█████████▊| 46/47 [00:00<00:00, 4442.30 ops/s]\n",
      "Running MIL Common passes: 100%|██████████| 33/33 [00:00<00:00, 2365.98 passes/s]\n",
      "Running MIL Clean up passes: 100%|██████████| 8/8 [00:00<00:00, 297.81 passes/s]\n",
      "Translating MIL ==> NeuralNetwork Ops: 100%|██████████| 45/45 [00:00<00:00, 1987.84 ops/s]\n"
     ]
    },
    {
     "name": "stdout",
     "output_type": "stream",
     "text": [
      "converting for batch:  5\n",
      "\n",
      "*********\n",
      "\n",
      "\n"
     ]
    },
    {
     "name": "stderr",
     "output_type": "stream",
     "text": [
      "Converting Frontend ==> MIL Ops:  98%|█████████▊| 46/47 [00:00<00:00, 4295.53 ops/s]\n",
      "Running MIL Common passes: 100%|██████████| 33/33 [00:00<00:00, 1957.32 passes/s]\n",
      "Running MIL Clean up passes: 100%|██████████| 8/8 [00:00<00:00, 297.31 passes/s]\n",
      "Translating MIL ==> NeuralNetwork Ops: 100%|██████████| 45/45 [00:00<00:00, 2469.30 ops/s]\n"
     ]
    },
    {
     "name": "stdout",
     "output_type": "stream",
     "text": [
      "converting for batch:  6\n",
      "\n",
      "*********\n",
      "\n",
      "\n"
     ]
    },
    {
     "name": "stderr",
     "output_type": "stream",
     "text": [
      "Converting Frontend ==> MIL Ops:  98%|█████████▊| 46/47 [00:00<00:00, 2959.76 ops/s]\n",
      "Running MIL Common passes: 100%|██████████| 33/33 [00:00<00:00, 1044.77 passes/s]\n",
      "Running MIL Clean up passes: 100%|██████████| 8/8 [00:00<00:00, 288.14 passes/s]\n",
      "Translating MIL ==> NeuralNetwork Ops: 100%|██████████| 45/45 [00:00<00:00, 1672.16 ops/s]\n"
     ]
    },
    {
     "name": "stdout",
     "output_type": "stream",
     "text": [
      "converting for batch:  7\n",
      "\n",
      "*********\n",
      "\n",
      "\n"
     ]
    },
    {
     "name": "stderr",
     "output_type": "stream",
     "text": [
      "Converting Frontend ==> MIL Ops:  98%|█████████▊| 46/47 [00:00<00:00, 4014.27 ops/s]\n",
      "Running MIL Common passes: 100%|██████████| 33/33 [00:00<00:00, 1744.56 passes/s]\n",
      "Running MIL Clean up passes: 100%|██████████| 8/8 [00:00<00:00, 322.45 passes/s]\n",
      "Translating MIL ==> NeuralNetwork Ops: 100%|██████████| 45/45 [00:00<00:00, 2007.29 ops/s]\n"
     ]
    },
    {
     "name": "stdout",
     "output_type": "stream",
     "text": [
      "converting for batch:  8\n",
      "\n",
      "*********\n",
      "\n",
      "\n"
     ]
    },
    {
     "name": "stderr",
     "output_type": "stream",
     "text": [
      "Converting Frontend ==> MIL Ops:  98%|█████████▊| 46/47 [00:00<00:00, 4077.30 ops/s]\n",
      "Running MIL Common passes: 100%|██████████| 33/33 [00:00<00:00, 2089.68 passes/s]\n",
      "Running MIL Clean up passes: 100%|██████████| 8/8 [00:00<00:00, 501.88 passes/s]\n",
      "Translating MIL ==> NeuralNetwork Ops: 100%|██████████| 45/45 [00:00<00:00, 1526.20 ops/s]\n"
     ]
    },
    {
     "name": "stdout",
     "output_type": "stream",
     "text": [
      "converting for batch:  9\n",
      "\n",
      "*********\n",
      "\n",
      "\n"
     ]
    },
    {
     "name": "stderr",
     "output_type": "stream",
     "text": [
      "Converting Frontend ==> MIL Ops:  98%|█████████▊| 46/47 [00:00<00:00, 3934.38 ops/s]\n",
      "Running MIL Common passes: 100%|██████████| 33/33 [00:00<00:00, 1836.09 passes/s]\n",
      "Running MIL Clean up passes: 100%|██████████| 8/8 [00:00<00:00, 656.44 passes/s]\n",
      "Translating MIL ==> NeuralNetwork Ops: 100%|██████████| 45/45 [00:00<00:00, 1997.16 ops/s]\n"
     ]
    },
    {
     "name": "stdout",
     "output_type": "stream",
     "text": [
      "converting for batch:  10\n",
      "\n",
      "*********\n",
      "\n",
      "\n"
     ]
    },
    {
     "name": "stderr",
     "output_type": "stream",
     "text": [
      "Converting Frontend ==> MIL Ops:  98%|█████████▊| 46/47 [00:00<00:00, 3912.84 ops/s]\n",
      "Running MIL Common passes: 100%|██████████| 33/33 [00:00<00:00, 1399.73 passes/s]\n",
      "Running MIL Clean up passes: 100%|██████████| 8/8 [00:00<00:00, 381.06 passes/s]\n",
      "Translating MIL ==> NeuralNetwork Ops: 100%|██████████| 45/45 [00:00<00:00, 2142.36 ops/s]\n"
     ]
    },
    {
     "name": "stdout",
     "output_type": "stream",
     "text": [
      "converting for batch:  11\n",
      "\n",
      "*********\n",
      "\n",
      "\n"
     ]
    },
    {
     "name": "stderr",
     "output_type": "stream",
     "text": [
      "Converting Frontend ==> MIL Ops:  98%|█████████▊| 46/47 [00:00<00:00, 838.39 ops/s]\n",
      "Running MIL Common passes: 100%|██████████| 33/33 [00:00<00:00, 2213.88 passes/s]\n",
      "Running MIL Clean up passes: 100%|██████████| 8/8 [00:00<00:00, 234.60 passes/s]\n",
      "Translating MIL ==> NeuralNetwork Ops: 100%|██████████| 45/45 [00:00<00:00, 2385.99 ops/s]\n"
     ]
    },
    {
     "name": "stdout",
     "output_type": "stream",
     "text": [
      "converting for batch:  12\n",
      "\n",
      "*********\n",
      "\n",
      "\n"
     ]
    },
    {
     "name": "stderr",
     "output_type": "stream",
     "text": [
      "Converting Frontend ==> MIL Ops:  98%|█████████▊| 46/47 [00:00<00:00, 4385.15 ops/s]\n",
      "Running MIL Common passes: 100%|██████████| 33/33 [00:00<00:00, 1543.93 passes/s]\n",
      "Running MIL Clean up passes: 100%|██████████| 8/8 [00:00<00:00, 383.42 passes/s]\n",
      "Translating MIL ==> NeuralNetwork Ops: 100%|██████████| 45/45 [00:00<00:00, 2523.11 ops/s]\n"
     ]
    },
    {
     "name": "stdout",
     "output_type": "stream",
     "text": [
      "converting for batch:  13\n",
      "\n",
      "*********\n",
      "\n",
      "\n"
     ]
    },
    {
     "name": "stderr",
     "output_type": "stream",
     "text": [
      "Converting Frontend ==> MIL Ops:  98%|█████████▊| 46/47 [00:00<00:00, 4258.93 ops/s]\n",
      "Running MIL Common passes: 100%|██████████| 33/33 [00:00<00:00, 1914.07 passes/s]\n",
      "Running MIL Clean up passes: 100%|██████████| 8/8 [00:00<00:00, 618.06 passes/s]\n",
      "Translating MIL ==> NeuralNetwork Ops: 100%|██████████| 45/45 [00:00<00:00, 1609.91 ops/s]\n"
     ]
    },
    {
     "name": "stdout",
     "output_type": "stream",
     "text": [
      "converting for batch:  14\n",
      "\n",
      "*********\n",
      "\n",
      "\n"
     ]
    },
    {
     "name": "stderr",
     "output_type": "stream",
     "text": [
      "Converting Frontend ==> MIL Ops:  98%|█████████▊| 46/47 [00:00<00:00, 4366.40 ops/s]\n",
      "Running MIL Common passes: 100%|██████████| 33/33 [00:00<00:00, 2294.52 passes/s]\n",
      "Running MIL Clean up passes: 100%|██████████| 8/8 [00:00<00:00, 426.21 passes/s]\n",
      "Translating MIL ==> NeuralNetwork Ops: 100%|██████████| 45/45 [00:00<00:00, 2826.77 ops/s]\n"
     ]
    },
    {
     "name": "stdout",
     "output_type": "stream",
     "text": [
      "converting for batch:  15\n",
      "\n",
      "*********\n",
      "\n",
      "\n"
     ]
    },
    {
     "name": "stderr",
     "output_type": "stream",
     "text": [
      "Converting Frontend ==> MIL Ops:  98%|█████████▊| 46/47 [00:00<00:00, 2533.62 ops/s]\n",
      "Running MIL Common passes: 100%|██████████| 33/33 [00:00<00:00, 1603.64 passes/s]\n",
      "Running MIL Clean up passes: 100%|██████████| 8/8 [00:00<00:00, 433.23 passes/s]\n",
      "Translating MIL ==> NeuralNetwork Ops: 100%|██████████| 45/45 [00:00<00:00, 2582.77 ops/s]\n"
     ]
    },
    {
     "name": "stdout",
     "output_type": "stream",
     "text": [
      "converting for batch:  16\n",
      "\n",
      "*********\n",
      "\n",
      "\n"
     ]
    },
    {
     "name": "stderr",
     "output_type": "stream",
     "text": [
      "Converting Frontend ==> MIL Ops:  98%|█████████▊| 46/47 [00:00<00:00, 3709.42 ops/s]\n",
      "Running MIL Common passes: 100%|██████████| 33/33 [00:00<00:00, 1581.80 passes/s]\n",
      "Running MIL Clean up passes: 100%|██████████| 8/8 [00:00<00:00, 612.84 passes/s]\n",
      "Translating MIL ==> NeuralNetwork Ops: 100%|██████████| 45/45 [00:00<00:00, 2632.63 ops/s]\n"
     ]
    },
    {
     "name": "stdout",
     "output_type": "stream",
     "text": [
      "converting for batch:  17\n",
      "\n",
      "*********\n",
      "\n",
      "\n"
     ]
    },
    {
     "name": "stderr",
     "output_type": "stream",
     "text": [
      "Converting Frontend ==> MIL Ops:  98%|█████████▊| 46/47 [00:00<00:00, 3801.88 ops/s]\n",
      "Running MIL Common passes: 100%|██████████| 33/33 [00:00<00:00, 1495.02 passes/s]\n",
      "Running MIL Clean up passes: 100%|██████████| 8/8 [00:00<00:00, 279.02 passes/s]\n",
      "Translating MIL ==> NeuralNetwork Ops: 100%|██████████| 45/45 [00:00<00:00, 2450.20 ops/s]\n"
     ]
    },
    {
     "name": "stdout",
     "output_type": "stream",
     "text": [
      "converting for batch:  18\n",
      "\n",
      "*********\n",
      "\n",
      "\n"
     ]
    },
    {
     "name": "stderr",
     "output_type": "stream",
     "text": [
      "Converting Frontend ==> MIL Ops:  98%|█████████▊| 46/47 [00:00<00:00, 2948.32 ops/s]\n",
      "Running MIL Common passes: 100%|██████████| 33/33 [00:00<00:00, 1279.96 passes/s]\n",
      "Running MIL Clean up passes: 100%|██████████| 8/8 [00:00<00:00, 524.35 passes/s]\n",
      "Translating MIL ==> NeuralNetwork Ops: 100%|██████████| 45/45 [00:00<00:00, 2852.62 ops/s]\n"
     ]
    },
    {
     "name": "stdout",
     "output_type": "stream",
     "text": [
      "converting for batch:  19\n",
      "\n",
      "*********\n",
      "\n",
      "\n"
     ]
    },
    {
     "name": "stderr",
     "output_type": "stream",
     "text": [
      "Converting Frontend ==> MIL Ops:  98%|█████████▊| 46/47 [00:00<00:00, 2409.53 ops/s]\n",
      "Running MIL Common passes: 100%|██████████| 33/33 [00:00<00:00, 1466.07 passes/s]\n",
      "Running MIL Clean up passes: 100%|██████████| 8/8 [00:00<00:00, 421.80 passes/s]\n",
      "Translating MIL ==> NeuralNetwork Ops: 100%|██████████| 45/45 [00:00<00:00, 1462.13 ops/s]\n"
     ]
    },
    {
     "name": "stdout",
     "output_type": "stream",
     "text": [
      "converting for batch:  20\n",
      "\n",
      "*********\n",
      "\n",
      "\n"
     ]
    },
    {
     "name": "stderr",
     "output_type": "stream",
     "text": [
      "Converting Frontend ==> MIL Ops:  98%|█████████▊| 46/47 [00:00<00:00, 3158.67 ops/s]\n",
      "Running MIL Common passes: 100%|██████████| 33/33 [00:00<00:00, 1647.19 passes/s]\n",
      "Running MIL Clean up passes: 100%|██████████| 8/8 [00:00<00:00, 333.82 passes/s]\n",
      "Translating MIL ==> NeuralNetwork Ops: 100%|██████████| 45/45 [00:00<00:00, 2092.73 ops/s]\n"
     ]
    },
    {
     "name": "stdout",
     "output_type": "stream",
     "text": [
      "Conversion complete in 0m 18s\n",
      "################ Batch size:  5\n",
      "converting for batch:  0\n",
      "\n",
      "*********\n",
      "\n",
      "\n"
     ]
    },
    {
     "name": "stderr",
     "output_type": "stream",
     "text": [
      "Converting Frontend ==> MIL Ops:  98%|█████████▊| 46/47 [00:00<00:00, 3795.30 ops/s]\n",
      "Running MIL Common passes: 100%|██████████| 33/33 [00:00<00:00, 1293.91 passes/s]\n",
      "Running MIL Clean up passes: 100%|██████████| 8/8 [00:00<00:00, 611.25 passes/s]\n",
      "Translating MIL ==> NeuralNetwork Ops: 100%|██████████| 45/45 [00:00<00:00, 1391.21 ops/s]\n"
     ]
    },
    {
     "name": "stdout",
     "output_type": "stream",
     "text": [
      "converting for batch:  1\n",
      "\n",
      "*********\n",
      "\n",
      "\n"
     ]
    },
    {
     "name": "stderr",
     "output_type": "stream",
     "text": [
      "Converting Frontend ==> MIL Ops:  98%|█████████▊| 46/47 [00:00<00:00, 4175.33 ops/s]\n",
      "Running MIL Common passes: 100%|██████████| 33/33 [00:00<00:00, 1412.80 passes/s]\n",
      "Running MIL Clean up passes: 100%|██████████| 8/8 [00:00<00:00, 582.84 passes/s]\n",
      "Translating MIL ==> NeuralNetwork Ops: 100%|██████████| 45/45 [00:00<00:00, 3132.62 ops/s]\n"
     ]
    },
    {
     "name": "stdout",
     "output_type": "stream",
     "text": [
      "converting for batch:  2\n",
      "\n",
      "*********\n",
      "\n",
      "\n"
     ]
    },
    {
     "name": "stderr",
     "output_type": "stream",
     "text": [
      "Converting Frontend ==> MIL Ops:  98%|█████████▊| 46/47 [00:00<00:00, 4099.05 ops/s]\n",
      "Running MIL Common passes: 100%|██████████| 33/33 [00:00<00:00, 2148.95 passes/s]\n",
      "Running MIL Clean up passes: 100%|██████████| 8/8 [00:00<00:00, 418.17 passes/s]\n",
      "Translating MIL ==> NeuralNetwork Ops: 100%|██████████| 45/45 [00:00<00:00, 1885.76 ops/s]\n"
     ]
    },
    {
     "name": "stdout",
     "output_type": "stream",
     "text": [
      "converting for batch:  3\n",
      "\n",
      "*********\n",
      "\n",
      "\n"
     ]
    },
    {
     "name": "stderr",
     "output_type": "stream",
     "text": [
      "Converting Frontend ==> MIL Ops:  98%|█████████▊| 46/47 [00:00<00:00, 3661.83 ops/s]\n",
      "Running MIL Common passes: 100%|██████████| 33/33 [00:00<00:00, 2959.93 passes/s]\n",
      "Running MIL Clean up passes: 100%|██████████| 8/8 [00:00<00:00, 273.73 passes/s]\n",
      "Translating MIL ==> NeuralNetwork Ops: 100%|██████████| 45/45 [00:00<00:00, 2697.19 ops/s]\n"
     ]
    },
    {
     "name": "stdout",
     "output_type": "stream",
     "text": [
      "converting for batch:  4\n",
      "\n",
      "*********\n",
      "\n",
      "\n"
     ]
    },
    {
     "name": "stderr",
     "output_type": "stream",
     "text": [
      "Converting Frontend ==> MIL Ops:  98%|█████████▊| 46/47 [00:00<00:00, 3069.72 ops/s]\n",
      "Running MIL Common passes: 100%|██████████| 33/33 [00:00<00:00, 1705.32 passes/s]\n",
      "Running MIL Clean up passes: 100%|██████████| 8/8 [00:00<00:00, 457.48 passes/s]\n",
      "Translating MIL ==> NeuralNetwork Ops: 100%|██████████| 45/45 [00:00<00:00, 1887.89 ops/s]\n"
     ]
    },
    {
     "name": "stdout",
     "output_type": "stream",
     "text": [
      "converting for batch:  5\n",
      "\n",
      "*********\n",
      "\n",
      "\n"
     ]
    },
    {
     "name": "stderr",
     "output_type": "stream",
     "text": [
      "Converting Frontend ==> MIL Ops:  98%|█████████▊| 46/47 [00:00<00:00, 3144.21 ops/s]\n",
      "Running MIL Common passes: 100%|██████████| 33/33 [00:00<00:00, 1787.35 passes/s]\n",
      "Running MIL Clean up passes: 100%|██████████| 8/8 [00:00<00:00, 425.42 passes/s]\n",
      "Translating MIL ==> NeuralNetwork Ops: 100%|██████████| 45/45 [00:00<00:00, 2498.72 ops/s]\n"
     ]
    },
    {
     "name": "stdout",
     "output_type": "stream",
     "text": [
      "converting for batch:  6\n",
      "\n",
      "*********\n",
      "\n",
      "\n"
     ]
    },
    {
     "name": "stderr",
     "output_type": "stream",
     "text": [
      "Converting Frontend ==> MIL Ops:  98%|█████████▊| 46/47 [00:00<00:00, 2779.13 ops/s]\n",
      "Running MIL Common passes: 100%|██████████| 33/33 [00:00<00:00, 1329.41 passes/s]\n",
      "Running MIL Clean up passes: 100%|██████████| 8/8 [00:00<00:00, 434.38 passes/s]\n",
      "Translating MIL ==> NeuralNetwork Ops: 100%|██████████| 45/45 [00:00<00:00, 2295.01 ops/s]\n"
     ]
    },
    {
     "name": "stdout",
     "output_type": "stream",
     "text": [
      "converting for batch:  7\n",
      "\n",
      "*********\n",
      "\n",
      "\n"
     ]
    },
    {
     "name": "stderr",
     "output_type": "stream",
     "text": [
      "Converting Frontend ==> MIL Ops:  98%|█████████▊| 46/47 [00:00<00:00, 3330.25 ops/s]\n",
      "Running MIL Common passes: 100%|██████████| 33/33 [00:00<00:00, 1859.05 passes/s]\n",
      "Running MIL Clean up passes: 100%|██████████| 8/8 [00:00<00:00, 478.37 passes/s]\n",
      "Translating MIL ==> NeuralNetwork Ops: 100%|██████████| 45/45 [00:00<00:00, 2269.62 ops/s]\n"
     ]
    },
    {
     "name": "stdout",
     "output_type": "stream",
     "text": [
      "converting for batch:  8\n",
      "\n",
      "*********\n",
      "\n",
      "\n"
     ]
    },
    {
     "name": "stderr",
     "output_type": "stream",
     "text": [
      "Converting Frontend ==> MIL Ops:  98%|█████████▊| 46/47 [00:00<00:00, 3429.28 ops/s]\n",
      "Running MIL Common passes: 100%|██████████| 33/33 [00:00<00:00, 1751.61 passes/s]\n",
      "Running MIL Clean up passes: 100%|██████████| 8/8 [00:00<00:00, 438.69 passes/s]\n",
      "Translating MIL ==> NeuralNetwork Ops: 100%|██████████| 45/45 [00:00<00:00, 1986.57 ops/s]\n"
     ]
    },
    {
     "name": "stdout",
     "output_type": "stream",
     "text": [
      "converting for batch:  9\n",
      "\n",
      "*********\n",
      "\n",
      "\n"
     ]
    },
    {
     "name": "stderr",
     "output_type": "stream",
     "text": [
      "Converting Frontend ==> MIL Ops:  98%|█████████▊| 46/47 [00:00<00:00, 3073.19 ops/s]\n",
      "Running MIL Common passes: 100%|██████████| 33/33 [00:00<00:00, 1243.92 passes/s]\n",
      "Running MIL Clean up passes: 100%|██████████| 8/8 [00:00<00:00, 634.53 passes/s]\n",
      "Translating MIL ==> NeuralNetwork Ops: 100%|██████████| 45/45 [00:00<00:00, 2317.92 ops/s]\n"
     ]
    },
    {
     "name": "stdout",
     "output_type": "stream",
     "text": [
      "converting for batch:  10\n",
      "\n",
      "*********\n",
      "\n",
      "\n"
     ]
    },
    {
     "name": "stderr",
     "output_type": "stream",
     "text": [
      "Converting Frontend ==> MIL Ops:  98%|█████████▊| 46/47 [00:00<00:00, 3084.74 ops/s]\n",
      "Running MIL Common passes: 100%|██████████| 33/33 [00:00<00:00, 1582.58 passes/s]\n",
      "Running MIL Clean up passes: 100%|██████████| 8/8 [00:00<00:00, 462.40 passes/s]\n",
      "Translating MIL ==> NeuralNetwork Ops: 100%|██████████| 45/45 [00:00<00:00, 2007.31 ops/s]\n"
     ]
    },
    {
     "name": "stdout",
     "output_type": "stream",
     "text": [
      "converting for batch:  11\n",
      "\n",
      "*********\n",
      "\n",
      "\n"
     ]
    },
    {
     "name": "stderr",
     "output_type": "stream",
     "text": [
      "Converting Frontend ==> MIL Ops:  98%|█████████▊| 46/47 [00:00<00:00, 3548.02 ops/s]\n",
      "Running MIL Common passes: 100%|██████████| 33/33 [00:00<00:00, 2024.31 passes/s]\n",
      "Running MIL Clean up passes: 100%|██████████| 8/8 [00:00<00:00, 379.72 passes/s]\n",
      "Translating MIL ==> NeuralNetwork Ops: 100%|██████████| 45/45 [00:00<00:00, 2088.50 ops/s]\n"
     ]
    },
    {
     "name": "stdout",
     "output_type": "stream",
     "text": [
      "converting for batch:  12\n",
      "\n",
      "*********\n",
      "\n",
      "\n"
     ]
    },
    {
     "name": "stderr",
     "output_type": "stream",
     "text": [
      "Converting Frontend ==> MIL Ops:  98%|█████████▊| 46/47 [00:00<00:00, 2808.29 ops/s]\n",
      "Running MIL Common passes: 100%|██████████| 33/33 [00:00<00:00, 1796.51 passes/s]\n",
      "Running MIL Clean up passes: 100%|██████████| 8/8 [00:00<00:00, 344.74 passes/s]\n",
      "Translating MIL ==> NeuralNetwork Ops: 100%|██████████| 45/45 [00:00<00:00, 2683.04 ops/s]\n"
     ]
    },
    {
     "name": "stdout",
     "output_type": "stream",
     "text": [
      "converting for batch:  13\n",
      "\n",
      "*********\n",
      "\n",
      "\n"
     ]
    },
    {
     "name": "stderr",
     "output_type": "stream",
     "text": [
      "Converting Frontend ==> MIL Ops:  98%|█████████▊| 46/47 [00:00<00:00, 2909.15 ops/s]\n",
      "Running MIL Common passes: 100%|██████████| 33/33 [00:00<00:00, 1893.49 passes/s]\n",
      "Running MIL Clean up passes: 100%|██████████| 8/8 [00:00<00:00, 412.44 passes/s]\n",
      "Translating MIL ==> NeuralNetwork Ops: 100%|██████████| 45/45 [00:00<00:00, 1842.37 ops/s]\n"
     ]
    },
    {
     "name": "stdout",
     "output_type": "stream",
     "text": [
      "converting for batch:  14\n",
      "\n",
      "*********\n",
      "\n",
      "\n"
     ]
    },
    {
     "name": "stderr",
     "output_type": "stream",
     "text": [
      "Converting Frontend ==> MIL Ops:  98%|█████████▊| 46/47 [00:00<00:00, 3252.28 ops/s]\n",
      "Running MIL Common passes: 100%|██████████| 33/33 [00:00<00:00, 2129.15 passes/s]\n",
      "Running MIL Clean up passes: 100%|██████████| 8/8 [00:00<00:00, 640.19 passes/s]\n",
      "Translating MIL ==> NeuralNetwork Ops: 100%|██████████| 45/45 [00:00<00:00, 2339.09 ops/s]\n"
     ]
    },
    {
     "name": "stdout",
     "output_type": "stream",
     "text": [
      "converting for batch:  15\n",
      "\n",
      "*********\n",
      "\n",
      "\n"
     ]
    },
    {
     "name": "stderr",
     "output_type": "stream",
     "text": [
      "Converting Frontend ==> MIL Ops:  98%|█████████▊| 46/47 [00:00<00:00, 3947.10 ops/s]\n",
      "Running MIL Common passes: 100%|██████████| 33/33 [00:00<00:00, 1802.31 passes/s]\n",
      "Running MIL Clean up passes: 100%|██████████| 8/8 [00:00<00:00, 395.84 passes/s]\n",
      "Translating MIL ==> NeuralNetwork Ops: 100%|██████████| 45/45 [00:00<00:00, 1510.58 ops/s]\n"
     ]
    },
    {
     "name": "stdout",
     "output_type": "stream",
     "text": [
      "converting for batch:  16\n",
      "\n",
      "*********\n",
      "\n",
      "\n"
     ]
    },
    {
     "name": "stderr",
     "output_type": "stream",
     "text": [
      "Converting Frontend ==> MIL Ops:  98%|█████████▊| 46/47 [00:00<00:00, 3359.53 ops/s]\n",
      "Running MIL Common passes: 100%|██████████| 33/33 [00:00<00:00, 1776.31 passes/s]\n",
      "Running MIL Clean up passes: 100%|██████████| 8/8 [00:00<00:00, 411.82 passes/s]\n",
      "Translating MIL ==> NeuralNetwork Ops: 100%|██████████| 45/45 [00:00<00:00, 2342.29 ops/s]\n"
     ]
    },
    {
     "name": "stdout",
     "output_type": "stream",
     "text": [
      "converting for batch:  17\n",
      "\n",
      "*********\n",
      "\n",
      "\n"
     ]
    },
    {
     "name": "stderr",
     "output_type": "stream",
     "text": [
      "Converting Frontend ==> MIL Ops:  98%|█████████▊| 46/47 [00:00<00:00, 3236.02 ops/s]\n",
      "Running MIL Common passes: 100%|██████████| 33/33 [00:00<00:00, 2136.09 passes/s]\n",
      "Running MIL Clean up passes: 100%|██████████| 8/8 [00:00<00:00, 595.46 passes/s]\n",
      "Translating MIL ==> NeuralNetwork Ops: 100%|██████████| 45/45 [00:00<00:00, 2010.65 ops/s]\n"
     ]
    },
    {
     "name": "stdout",
     "output_type": "stream",
     "text": [
      "converting for batch:  18\n",
      "\n",
      "*********\n",
      "\n",
      "\n"
     ]
    },
    {
     "name": "stderr",
     "output_type": "stream",
     "text": [
      "Converting Frontend ==> MIL Ops:  98%|█████████▊| 46/47 [00:00<00:00, 3577.89 ops/s]\n",
      "Running MIL Common passes: 100%|██████████| 33/33 [00:00<00:00, 2017.96 passes/s]\n",
      "Running MIL Clean up passes: 100%|██████████| 8/8 [00:00<00:00, 352.41 passes/s]\n",
      "Translating MIL ==> NeuralNetwork Ops: 100%|██████████| 45/45 [00:00<00:00, 1690.78 ops/s]\n"
     ]
    },
    {
     "name": "stdout",
     "output_type": "stream",
     "text": [
      "converting for batch:  19\n",
      "\n",
      "*********\n",
      "\n",
      "\n"
     ]
    },
    {
     "name": "stderr",
     "output_type": "stream",
     "text": [
      "Converting Frontend ==> MIL Ops:  98%|█████████▊| 46/47 [00:00<00:00, 2830.62 ops/s]\n",
      "Running MIL Common passes: 100%|██████████| 33/33 [00:00<00:00, 1273.63 passes/s]\n",
      "Running MIL Clean up passes: 100%|██████████| 8/8 [00:00<00:00, 544.78 passes/s]\n",
      "Translating MIL ==> NeuralNetwork Ops: 100%|██████████| 45/45 [00:00<00:00, 2188.59 ops/s]\n"
     ]
    },
    {
     "name": "stdout",
     "output_type": "stream",
     "text": [
      "converting for batch:  20\n",
      "\n",
      "*********\n",
      "\n",
      "\n"
     ]
    },
    {
     "name": "stderr",
     "output_type": "stream",
     "text": [
      "Converting Frontend ==> MIL Ops:  98%|█████████▊| 46/47 [00:00<00:00, 3054.70 ops/s]\n",
      "Running MIL Common passes: 100%|██████████| 33/33 [00:00<00:00, 1564.51 passes/s]\n",
      "Running MIL Clean up passes: 100%|██████████| 8/8 [00:00<00:00, 393.77 passes/s]\n",
      "Translating MIL ==> NeuralNetwork Ops: 100%|██████████| 45/45 [00:00<00:00, 1554.67 ops/s]\n"
     ]
    },
    {
     "name": "stdout",
     "output_type": "stream",
     "text": [
      "Conversion complete in 0m 18s\n",
      "################ Batch size:  10\n",
      "converting for batch:  0\n",
      "\n",
      "*********\n",
      "\n",
      "\n"
     ]
    },
    {
     "name": "stderr",
     "output_type": "stream",
     "text": [
      "Converting Frontend ==> MIL Ops:  98%|█████████▊| 46/47 [00:00<00:00, 3566.39 ops/s]\n",
      "Running MIL Common passes: 100%|██████████| 33/33 [00:00<00:00, 2314.43 passes/s]\n",
      "Running MIL Clean up passes: 100%|██████████| 8/8 [00:00<00:00, 519.69 passes/s]\n",
      "Translating MIL ==> NeuralNetwork Ops: 100%|██████████| 45/45 [00:00<00:00, 2257.81 ops/s]\n"
     ]
    },
    {
     "name": "stdout",
     "output_type": "stream",
     "text": [
      "converting for batch:  1\n",
      "\n",
      "*********\n",
      "\n",
      "\n"
     ]
    },
    {
     "name": "stderr",
     "output_type": "stream",
     "text": [
      "Converting Frontend ==> MIL Ops:  98%|█████████▊| 46/47 [00:00<00:00, 4181.12 ops/s]\n",
      "Running MIL Common passes: 100%|██████████| 33/33 [00:00<00:00, 2377.85 passes/s]\n",
      "Running MIL Clean up passes: 100%|██████████| 8/8 [00:00<00:00, 550.36 passes/s]\n",
      "Translating MIL ==> NeuralNetwork Ops: 100%|██████████| 45/45 [00:00<00:00, 2167.92 ops/s]\n"
     ]
    },
    {
     "name": "stdout",
     "output_type": "stream",
     "text": [
      "converting for batch:  2\n",
      "\n",
      "*********\n",
      "\n",
      "\n"
     ]
    },
    {
     "name": "stderr",
     "output_type": "stream",
     "text": [
      "Converting Frontend ==> MIL Ops:  98%|█████████▊| 46/47 [00:00<00:00, 4046.86 ops/s]\n",
      "Running MIL Common passes: 100%|██████████| 33/33 [00:00<00:00, 1562.14 passes/s]\n",
      "Running MIL Clean up passes: 100%|██████████| 8/8 [00:00<00:00, 483.56 passes/s]\n",
      "Translating MIL ==> NeuralNetwork Ops: 100%|██████████| 45/45 [00:00<00:00, 1923.33 ops/s]\n"
     ]
    },
    {
     "name": "stdout",
     "output_type": "stream",
     "text": [
      "converting for batch:  3\n",
      "\n",
      "*********\n",
      "\n",
      "\n"
     ]
    },
    {
     "name": "stderr",
     "output_type": "stream",
     "text": [
      "Converting Frontend ==> MIL Ops:  98%|█████████▊| 46/47 [00:00<00:00, 3785.70 ops/s]\n",
      "Running MIL Common passes: 100%|██████████| 33/33 [00:00<00:00, 1349.19 passes/s]\n",
      "Running MIL Clean up passes: 100%|██████████| 8/8 [00:00<00:00, 510.70 passes/s]\n",
      "Translating MIL ==> NeuralNetwork Ops: 100%|██████████| 45/45 [00:00<00:00, 2298.72 ops/s]\n"
     ]
    },
    {
     "name": "stdout",
     "output_type": "stream",
     "text": [
      "converting for batch:  4\n",
      "\n",
      "*********\n",
      "\n",
      "\n"
     ]
    },
    {
     "name": "stderr",
     "output_type": "stream",
     "text": [
      "Converting Frontend ==> MIL Ops:  98%|█████████▊| 46/47 [00:00<00:00, 3271.74 ops/s]\n",
      "Running MIL Common passes: 100%|██████████| 33/33 [00:00<00:00, 1504.23 passes/s]\n",
      "Running MIL Clean up passes: 100%|██████████| 8/8 [00:00<00:00, 563.57 passes/s]\n",
      "Translating MIL ==> NeuralNetwork Ops: 100%|██████████| 45/45 [00:00<00:00, 1407.71 ops/s]\n"
     ]
    },
    {
     "name": "stdout",
     "output_type": "stream",
     "text": [
      "converting for batch:  5\n",
      "\n",
      "*********\n",
      "\n",
      "\n"
     ]
    },
    {
     "name": "stderr",
     "output_type": "stream",
     "text": [
      "Converting Frontend ==> MIL Ops:  98%|█████████▊| 46/47 [00:00<00:00, 2968.46 ops/s]\n",
      "Running MIL Common passes: 100%|██████████| 33/33 [00:00<00:00, 1218.44 passes/s]\n",
      "Running MIL Clean up passes: 100%|██████████| 8/8 [00:00<00:00, 276.39 passes/s]\n",
      "Translating MIL ==> NeuralNetwork Ops: 100%|██████████| 45/45 [00:00<00:00, 2360.98 ops/s]\n"
     ]
    },
    {
     "name": "stdout",
     "output_type": "stream",
     "text": [
      "converting for batch:  6\n",
      "\n",
      "*********\n",
      "\n",
      "\n"
     ]
    },
    {
     "name": "stderr",
     "output_type": "stream",
     "text": [
      "Converting Frontend ==> MIL Ops:  98%|█████████▊| 46/47 [00:00<00:00, 2948.72 ops/s]\n",
      "Running MIL Common passes: 100%|██████████| 33/33 [00:00<00:00, 1650.34 passes/s]\n",
      "Running MIL Clean up passes: 100%|██████████| 8/8 [00:00<00:00, 483.65 passes/s]\n",
      "Translating MIL ==> NeuralNetwork Ops: 100%|██████████| 45/45 [00:00<00:00, 2032.34 ops/s]\n"
     ]
    },
    {
     "name": "stdout",
     "output_type": "stream",
     "text": [
      "converting for batch:  7\n",
      "\n",
      "*********\n",
      "\n",
      "\n"
     ]
    },
    {
     "name": "stderr",
     "output_type": "stream",
     "text": [
      "Converting Frontend ==> MIL Ops:  98%|█████████▊| 46/47 [00:00<00:00, 3646.19 ops/s]\n",
      "Running MIL Common passes: 100%|██████████| 33/33 [00:00<00:00, 1618.76 passes/s]\n",
      "Running MIL Clean up passes: 100%|██████████| 8/8 [00:00<00:00, 549.94 passes/s]\n",
      "Translating MIL ==> NeuralNetwork Ops: 100%|██████████| 45/45 [00:00<00:00, 1990.44 ops/s]\n"
     ]
    },
    {
     "name": "stdout",
     "output_type": "stream",
     "text": [
      "converting for batch:  8\n",
      "\n",
      "*********\n",
      "\n",
      "\n"
     ]
    },
    {
     "name": "stderr",
     "output_type": "stream",
     "text": [
      "Converting Frontend ==> MIL Ops:  98%|█████████▊| 46/47 [00:00<00:00, 3940.40 ops/s]\n",
      "Running MIL Common passes: 100%|██████████| 33/33 [00:00<00:00, 1630.03 passes/s]\n",
      "Running MIL Clean up passes: 100%|██████████| 8/8 [00:00<00:00, 848.45 passes/s]\n",
      "Translating MIL ==> NeuralNetwork Ops: 100%|██████████| 45/45 [00:00<00:00, 2170.04 ops/s]\n"
     ]
    },
    {
     "name": "stdout",
     "output_type": "stream",
     "text": [
      "converting for batch:  9\n",
      "\n",
      "*********\n",
      "\n",
      "\n"
     ]
    },
    {
     "name": "stderr",
     "output_type": "stream",
     "text": [
      "Converting Frontend ==> MIL Ops:  98%|█████████▊| 46/47 [00:00<00:00, 1646.99 ops/s]\n",
      "Running MIL Common passes: 100%|██████████| 33/33 [00:00<00:00, 1566.42 passes/s]\n",
      "Running MIL Clean up passes: 100%|██████████| 8/8 [00:00<00:00, 383.12 passes/s]\n",
      "Translating MIL ==> NeuralNetwork Ops: 100%|██████████| 45/45 [00:00<00:00, 1669.96 ops/s]\n"
     ]
    },
    {
     "name": "stdout",
     "output_type": "stream",
     "text": [
      "converting for batch:  10\n",
      "\n",
      "*********\n",
      "\n",
      "\n"
     ]
    },
    {
     "name": "stderr",
     "output_type": "stream",
     "text": [
      "Converting Frontend ==> MIL Ops:  98%|█████████▊| 46/47 [00:00<00:00, 2950.80 ops/s]\n",
      "Running MIL Common passes: 100%|██████████| 33/33 [00:00<00:00, 903.61 passes/s]\n",
      "Running MIL Clean up passes: 100%|██████████| 8/8 [00:00<00:00, 655.41 passes/s]\n",
      "Translating MIL ==> NeuralNetwork Ops: 100%|██████████| 45/45 [00:00<00:00, 2195.41 ops/s]\n"
     ]
    },
    {
     "name": "stdout",
     "output_type": "stream",
     "text": [
      "converting for batch:  11\n",
      "\n",
      "*********\n",
      "\n",
      "\n"
     ]
    },
    {
     "name": "stderr",
     "output_type": "stream",
     "text": [
      "Converting Frontend ==> MIL Ops:  98%|█████████▊| 46/47 [00:00<00:00, 4047.45 ops/s]\n",
      "Running MIL Common passes: 100%|██████████| 33/33 [00:00<00:00, 1322.48 passes/s]\n",
      "Running MIL Clean up passes: 100%|██████████| 8/8 [00:00<00:00, 363.72 passes/s]\n",
      "Translating MIL ==> NeuralNetwork Ops: 100%|██████████| 45/45 [00:00<00:00, 2009.37 ops/s]\n"
     ]
    },
    {
     "name": "stdout",
     "output_type": "stream",
     "text": [
      "converting for batch:  12\n",
      "\n",
      "*********\n",
      "\n",
      "\n"
     ]
    },
    {
     "name": "stderr",
     "output_type": "stream",
     "text": [
      "Converting Frontend ==> MIL Ops:  98%|█████████▊| 46/47 [00:00<00:00, 3888.47 ops/s]\n",
      "Running MIL Common passes: 100%|██████████| 33/33 [00:00<00:00, 1127.16 passes/s]\n",
      "Running MIL Clean up passes: 100%|██████████| 8/8 [00:00<00:00, 491.17 passes/s]\n",
      "Translating MIL ==> NeuralNetwork Ops: 100%|██████████| 45/45 [00:00<00:00, 1670.08 ops/s]\n"
     ]
    },
    {
     "name": "stdout",
     "output_type": "stream",
     "text": [
      "converting for batch:  13\n",
      "\n",
      "*********\n",
      "\n",
      "\n"
     ]
    },
    {
     "name": "stderr",
     "output_type": "stream",
     "text": [
      "Converting Frontend ==> MIL Ops:  98%|█████████▊| 46/47 [00:00<00:00, 4349.07 ops/s]\n",
      "Running MIL Common passes: 100%|██████████| 33/33 [00:00<00:00, 2654.47 passes/s]\n",
      "Running MIL Clean up passes: 100%|██████████| 8/8 [00:00<00:00, 373.16 passes/s]\n",
      "Translating MIL ==> NeuralNetwork Ops: 100%|██████████| 45/45 [00:00<00:00, 2277.42 ops/s]\n"
     ]
    },
    {
     "name": "stdout",
     "output_type": "stream",
     "text": [
      "converting for batch:  14\n",
      "\n",
      "*********\n",
      "\n",
      "\n"
     ]
    },
    {
     "name": "stderr",
     "output_type": "stream",
     "text": [
      "Converting Frontend ==> MIL Ops:  98%|█████████▊| 46/47 [00:00<00:00, 3738.89 ops/s]\n",
      "Running MIL Common passes: 100%|██████████| 33/33 [00:00<00:00, 1044.97 passes/s]\n",
      "Running MIL Clean up passes: 100%|██████████| 8/8 [00:00<00:00, 460.62 passes/s]\n",
      "Translating MIL ==> NeuralNetwork Ops: 100%|██████████| 45/45 [00:00<00:00, 2005.99 ops/s]\n"
     ]
    },
    {
     "name": "stdout",
     "output_type": "stream",
     "text": [
      "converting for batch:  15\n",
      "\n",
      "*********\n",
      "\n",
      "\n"
     ]
    },
    {
     "name": "stderr",
     "output_type": "stream",
     "text": [
      "Converting Frontend ==> MIL Ops:  98%|█████████▊| 46/47 [00:00<00:00, 2965.68 ops/s]\n",
      "Running MIL Common passes: 100%|██████████| 33/33 [00:00<00:00, 1817.46 passes/s]\n",
      "Running MIL Clean up passes: 100%|██████████| 8/8 [00:00<00:00, 468.85 passes/s]\n",
      "Translating MIL ==> NeuralNetwork Ops: 100%|██████████| 45/45 [00:00<00:00, 2773.15 ops/s]\n"
     ]
    },
    {
     "name": "stdout",
     "output_type": "stream",
     "text": [
      "converting for batch:  16\n",
      "\n",
      "*********\n",
      "\n",
      "\n"
     ]
    },
    {
     "name": "stderr",
     "output_type": "stream",
     "text": [
      "Converting Frontend ==> MIL Ops:  98%|█████████▊| 46/47 [00:00<00:00, 3243.96 ops/s]\n",
      "Running MIL Common passes: 100%|██████████| 33/33 [00:00<00:00, 1391.76 passes/s]\n",
      "Running MIL Clean up passes: 100%|██████████| 8/8 [00:00<00:00, 728.07 passes/s]\n",
      "Translating MIL ==> NeuralNetwork Ops: 100%|██████████| 45/45 [00:00<00:00, 2475.65 ops/s]\n"
     ]
    },
    {
     "name": "stdout",
     "output_type": "stream",
     "text": [
      "converting for batch:  17\n",
      "\n",
      "*********\n",
      "\n",
      "\n"
     ]
    },
    {
     "name": "stderr",
     "output_type": "stream",
     "text": [
      "Converting Frontend ==> MIL Ops:  98%|█████████▊| 46/47 [00:00<00:00, 3963.15 ops/s]\n",
      "Running MIL Common passes: 100%|██████████| 33/33 [00:00<00:00, 1343.98 passes/s]\n",
      "Running MIL Clean up passes: 100%|██████████| 8/8 [00:00<00:00, 353.53 passes/s]\n",
      "Translating MIL ==> NeuralNetwork Ops: 100%|██████████| 45/45 [00:00<00:00, 1964.63 ops/s]\n"
     ]
    },
    {
     "name": "stdout",
     "output_type": "stream",
     "text": [
      "converting for batch:  18\n",
      "\n",
      "*********\n",
      "\n",
      "\n"
     ]
    },
    {
     "name": "stderr",
     "output_type": "stream",
     "text": [
      "Converting Frontend ==> MIL Ops:  98%|█████████▊| 46/47 [00:00<00:00, 3950.17 ops/s]\n",
      "Running MIL Common passes: 100%|██████████| 33/33 [00:00<00:00, 1236.78 passes/s]\n",
      "Running MIL Clean up passes: 100%|██████████| 8/8 [00:00<00:00, 532.85 passes/s]\n",
      "Translating MIL ==> NeuralNetwork Ops: 100%|██████████| 45/45 [00:00<00:00, 2970.05 ops/s]\n"
     ]
    },
    {
     "name": "stdout",
     "output_type": "stream",
     "text": [
      "converting for batch:  19\n",
      "\n",
      "*********\n",
      "\n",
      "\n"
     ]
    },
    {
     "name": "stderr",
     "output_type": "stream",
     "text": [
      "Converting Frontend ==> MIL Ops:  98%|█████████▊| 46/47 [00:00<00:00, 3152.84 ops/s]\n",
      "Running MIL Common passes: 100%|██████████| 33/33 [00:00<00:00, 1833.95 passes/s]\n",
      "Running MIL Clean up passes: 100%|██████████| 8/8 [00:00<00:00, 400.68 passes/s]\n",
      "Translating MIL ==> NeuralNetwork Ops: 100%|██████████| 45/45 [00:00<00:00, 2248.23 ops/s]\n"
     ]
    },
    {
     "name": "stdout",
     "output_type": "stream",
     "text": [
      "converting for batch:  20\n",
      "\n",
      "*********\n",
      "\n",
      "\n"
     ]
    },
    {
     "name": "stderr",
     "output_type": "stream",
     "text": [
      "Converting Frontend ==> MIL Ops:  98%|█████████▊| 46/47 [00:00<00:00, 4015.69 ops/s]\n",
      "Running MIL Common passes: 100%|██████████| 33/33 [00:00<00:00, 2357.43 passes/s]\n",
      "Running MIL Clean up passes: 100%|██████████| 8/8 [00:00<00:00, 436.39 passes/s]\n",
      "Translating MIL ==> NeuralNetwork Ops: 100%|██████████| 45/45 [00:00<00:00, 2459.43 ops/s]\n"
     ]
    },
    {
     "name": "stdout",
     "output_type": "stream",
     "text": [
      "Conversion complete in 0m 18s\n",
      "################ Batch size:  50\n",
      "converting for batch:  0\n",
      "\n",
      "*********\n",
      "\n",
      "\n"
     ]
    },
    {
     "name": "stderr",
     "output_type": "stream",
     "text": [
      "Converting Frontend ==> MIL Ops:  98%|█████████▊| 46/47 [00:00<00:00, 3510.64 ops/s]\n",
      "Running MIL Common passes: 100%|██████████| 33/33 [00:00<00:00, 1287.06 passes/s]\n",
      "Running MIL Clean up passes: 100%|██████████| 8/8 [00:00<00:00, 386.83 passes/s]\n",
      "Translating MIL ==> NeuralNetwork Ops: 100%|██████████| 45/45 [00:00<00:00, 2885.72 ops/s]\n"
     ]
    },
    {
     "name": "stdout",
     "output_type": "stream",
     "text": [
      "converting for batch:  1\n",
      "\n",
      "*********\n",
      "\n",
      "\n"
     ]
    },
    {
     "name": "stderr",
     "output_type": "stream",
     "text": [
      "Converting Frontend ==> MIL Ops:  98%|█████████▊| 46/47 [00:00<00:00, 2740.87 ops/s]\n",
      "Running MIL Common passes: 100%|██████████| 33/33 [00:00<00:00, 2218.78 passes/s]\n",
      "Running MIL Clean up passes: 100%|██████████| 8/8 [00:00<00:00, 396.93 passes/s]\n",
      "Translating MIL ==> NeuralNetwork Ops: 100%|██████████| 45/45 [00:00<00:00, 2148.70 ops/s]\n"
     ]
    },
    {
     "name": "stdout",
     "output_type": "stream",
     "text": [
      "converting for batch:  2\n",
      "\n",
      "*********\n",
      "\n",
      "\n"
     ]
    },
    {
     "name": "stderr",
     "output_type": "stream",
     "text": [
      "Converting Frontend ==> MIL Ops:  98%|█████████▊| 46/47 [00:00<00:00, 3082.91 ops/s]\n",
      "Running MIL Common passes: 100%|██████████| 33/33 [00:00<00:00, 2896.01 passes/s]\n",
      "Running MIL Clean up passes: 100%|██████████| 8/8 [00:00<00:00, 637.84 passes/s]\n",
      "Translating MIL ==> NeuralNetwork Ops: 100%|██████████| 45/45 [00:00<00:00, 2153.21 ops/s]\n"
     ]
    },
    {
     "name": "stdout",
     "output_type": "stream",
     "text": [
      "converting for batch:  3\n",
      "\n",
      "*********\n",
      "\n",
      "\n"
     ]
    },
    {
     "name": "stderr",
     "output_type": "stream",
     "text": [
      "Converting Frontend ==> MIL Ops:  98%|█████████▊| 46/47 [00:00<00:00, 4130.73 ops/s]\n",
      "Running MIL Common passes: 100%|██████████| 33/33 [00:00<00:00, 1837.92 passes/s]\n",
      "Running MIL Clean up passes: 100%|██████████| 8/8 [00:00<00:00, 466.19 passes/s]\n",
      "Translating MIL ==> NeuralNetwork Ops: 100%|██████████| 45/45 [00:00<00:00, 2538.34 ops/s]\n"
     ]
    },
    {
     "name": "stdout",
     "output_type": "stream",
     "text": [
      "converting for batch:  4\n",
      "\n",
      "*********\n",
      "\n",
      "\n"
     ]
    },
    {
     "name": "stderr",
     "output_type": "stream",
     "text": [
      "Converting Frontend ==> MIL Ops:  98%|█████████▊| 46/47 [00:00<00:00, 3459.41 ops/s]\n",
      "Running MIL Common passes: 100%|██████████| 33/33 [00:00<00:00, 2018.23 passes/s]\n",
      "Running MIL Clean up passes: 100%|██████████| 8/8 [00:00<00:00, 624.47 passes/s]\n",
      "Translating MIL ==> NeuralNetwork Ops: 100%|██████████| 45/45 [00:00<00:00, 1875.56 ops/s]\n"
     ]
    },
    {
     "name": "stdout",
     "output_type": "stream",
     "text": [
      "converting for batch:  5\n",
      "\n",
      "*********\n",
      "\n",
      "\n"
     ]
    },
    {
     "name": "stderr",
     "output_type": "stream",
     "text": [
      "Converting Frontend ==> MIL Ops:  98%|█████████▊| 46/47 [00:00<00:00, 3419.31 ops/s]\n",
      "Running MIL Common passes: 100%|██████████| 33/33 [00:00<00:00, 1589.81 passes/s]\n",
      "Running MIL Clean up passes: 100%|██████████| 8/8 [00:00<00:00, 470.15 passes/s]\n",
      "Translating MIL ==> NeuralNetwork Ops: 100%|██████████| 45/45 [00:00<00:00, 2190.42 ops/s]\n"
     ]
    },
    {
     "name": "stdout",
     "output_type": "stream",
     "text": [
      "converting for batch:  6\n",
      "\n",
      "*********\n",
      "\n",
      "\n"
     ]
    },
    {
     "name": "stderr",
     "output_type": "stream",
     "text": [
      "Converting Frontend ==> MIL Ops:  98%|█████████▊| 46/47 [00:00<00:00, 2345.78 ops/s]\n",
      "Running MIL Common passes: 100%|██████████| 33/33 [00:00<00:00, 1801.40 passes/s]\n",
      "Running MIL Clean up passes: 100%|██████████| 8/8 [00:00<00:00, 387.20 passes/s]\n",
      "Translating MIL ==> NeuralNetwork Ops: 100%|██████████| 45/45 [00:00<00:00, 2640.07 ops/s]\n"
     ]
    },
    {
     "name": "stdout",
     "output_type": "stream",
     "text": [
      "converting for batch:  7\n",
      "\n",
      "*********\n",
      "\n",
      "\n"
     ]
    },
    {
     "name": "stderr",
     "output_type": "stream",
     "text": [
      "Converting Frontend ==> MIL Ops:  98%|█████████▊| 46/47 [00:00<00:00, 3110.60 ops/s]\n",
      "Running MIL Common passes: 100%|██████████| 33/33 [00:00<00:00, 963.05 passes/s]\n",
      "Running MIL Clean up passes: 100%|██████████| 8/8 [00:00<00:00, 377.59 passes/s]\n",
      "Translating MIL ==> NeuralNetwork Ops: 100%|██████████| 45/45 [00:00<00:00, 1705.49 ops/s]\n"
     ]
    },
    {
     "name": "stdout",
     "output_type": "stream",
     "text": [
      "converting for batch:  8\n",
      "\n",
      "*********\n",
      "\n",
      "\n"
     ]
    },
    {
     "name": "stderr",
     "output_type": "stream",
     "text": [
      "Converting Frontend ==> MIL Ops:  98%|█████████▊| 46/47 [00:00<00:00, 3615.17 ops/s]\n",
      "Running MIL Common passes: 100%|██████████| 33/33 [00:00<00:00, 2299.36 passes/s]\n",
      "Running MIL Clean up passes: 100%|██████████| 8/8 [00:00<00:00, 411.78 passes/s]\n",
      "Translating MIL ==> NeuralNetwork Ops: 100%|██████████| 45/45 [00:00<00:00, 2139.49 ops/s]\n"
     ]
    },
    {
     "name": "stdout",
     "output_type": "stream",
     "text": [
      "converting for batch:  9\n",
      "\n",
      "*********\n",
      "\n",
      "\n"
     ]
    },
    {
     "name": "stderr",
     "output_type": "stream",
     "text": [
      "Converting Frontend ==> MIL Ops:  98%|█████████▊| 46/47 [00:00<00:00, 3892.00 ops/s]\n",
      "Running MIL Common passes: 100%|██████████| 33/33 [00:00<00:00, 1597.20 passes/s]\n",
      "Running MIL Clean up passes: 100%|██████████| 8/8 [00:00<00:00, 576.71 passes/s]\n",
      "Translating MIL ==> NeuralNetwork Ops: 100%|██████████| 45/45 [00:00<00:00, 2483.04 ops/s]\n"
     ]
    },
    {
     "name": "stdout",
     "output_type": "stream",
     "text": [
      "converting for batch:  10\n",
      "\n",
      "*********\n",
      "\n",
      "\n"
     ]
    },
    {
     "name": "stderr",
     "output_type": "stream",
     "text": [
      "Converting Frontend ==> MIL Ops:  98%|█████████▊| 46/47 [00:00<00:00, 3310.08 ops/s]\n",
      "Running MIL Common passes: 100%|██████████| 33/33 [00:00<00:00, 1502.32 passes/s]\n",
      "Running MIL Clean up passes: 100%|██████████| 8/8 [00:00<00:00, 255.68 passes/s]\n",
      "Translating MIL ==> NeuralNetwork Ops: 100%|██████████| 45/45 [00:00<00:00, 1640.37 ops/s]\n"
     ]
    },
    {
     "name": "stdout",
     "output_type": "stream",
     "text": [
      "converting for batch:  11\n",
      "\n",
      "*********\n",
      "\n",
      "\n"
     ]
    },
    {
     "name": "stderr",
     "output_type": "stream",
     "text": [
      "Converting Frontend ==> MIL Ops:  98%|█████████▊| 46/47 [00:00<00:00, 3453.96 ops/s]\n",
      "Running MIL Common passes: 100%|██████████| 33/33 [00:00<00:00, 1953.59 passes/s]\n",
      "Running MIL Clean up passes: 100%|██████████| 8/8 [00:00<00:00, 417.84 passes/s]\n",
      "Translating MIL ==> NeuralNetwork Ops: 100%|██████████| 45/45 [00:00<00:00, 2015.14 ops/s]\n"
     ]
    },
    {
     "name": "stdout",
     "output_type": "stream",
     "text": [
      "converting for batch:  12\n",
      "\n",
      "*********\n",
      "\n",
      "\n"
     ]
    },
    {
     "name": "stderr",
     "output_type": "stream",
     "text": [
      "Converting Frontend ==> MIL Ops:  98%|█████████▊| 46/47 [00:00<00:00, 2915.62 ops/s]\n",
      "Running MIL Common passes: 100%|██████████| 33/33 [00:00<00:00, 2665.15 passes/s]\n",
      "Running MIL Clean up passes: 100%|██████████| 8/8 [00:00<00:00, 553.40 passes/s]\n",
      "Translating MIL ==> NeuralNetwork Ops: 100%|██████████| 45/45 [00:00<00:00, 2088.75 ops/s]\n"
     ]
    },
    {
     "name": "stdout",
     "output_type": "stream",
     "text": [
      "converting for batch:  13\n",
      "\n",
      "*********\n",
      "\n",
      "\n"
     ]
    },
    {
     "name": "stderr",
     "output_type": "stream",
     "text": [
      "Converting Frontend ==> MIL Ops:  98%|█████████▊| 46/47 [00:00<00:00, 2958.63 ops/s]\n",
      "Running MIL Common passes: 100%|██████████| 33/33 [00:00<00:00, 2293.22 passes/s]\n",
      "Running MIL Clean up passes: 100%|██████████| 8/8 [00:00<00:00, 556.38 passes/s]\n",
      "Translating MIL ==> NeuralNetwork Ops: 100%|██████████| 45/45 [00:00<00:00, 2041.16 ops/s]\n"
     ]
    },
    {
     "name": "stdout",
     "output_type": "stream",
     "text": [
      "converting for batch:  14\n",
      "\n",
      "*********\n",
      "\n",
      "\n"
     ]
    },
    {
     "name": "stderr",
     "output_type": "stream",
     "text": [
      "Converting Frontend ==> MIL Ops:  98%|█████████▊| 46/47 [00:00<00:00, 3637.18 ops/s]\n",
      "Running MIL Common passes: 100%|██████████| 33/33 [00:00<00:00, 2539.62 passes/s]\n",
      "Running MIL Clean up passes: 100%|██████████| 8/8 [00:00<00:00, 354.47 passes/s]\n",
      "Translating MIL ==> NeuralNetwork Ops: 100%|██████████| 45/45 [00:00<00:00, 2235.27 ops/s]\n"
     ]
    },
    {
     "name": "stdout",
     "output_type": "stream",
     "text": [
      "converting for batch:  15\n",
      "\n",
      "*********\n",
      "\n",
      "\n"
     ]
    },
    {
     "name": "stderr",
     "output_type": "stream",
     "text": [
      "Converting Frontend ==> MIL Ops:  98%|█████████▊| 46/47 [00:00<00:00, 2091.29 ops/s]\n",
      "Running MIL Common passes: 100%|██████████| 33/33 [00:00<00:00, 1280.45 passes/s]\n",
      "Running MIL Clean up passes: 100%|██████████| 8/8 [00:00<00:00, 453.82 passes/s]\n",
      "Translating MIL ==> NeuralNetwork Ops: 100%|██████████| 45/45 [00:00<00:00, 2156.95 ops/s]\n"
     ]
    },
    {
     "name": "stdout",
     "output_type": "stream",
     "text": [
      "converting for batch:  16\n",
      "\n",
      "*********\n",
      "\n",
      "\n"
     ]
    },
    {
     "name": "stderr",
     "output_type": "stream",
     "text": [
      "Converting Frontend ==> MIL Ops:  98%|█████████▊| 46/47 [00:00<00:00, 3559.81 ops/s]\n",
      "Running MIL Common passes: 100%|██████████| 33/33 [00:00<00:00, 2730.18 passes/s]\n",
      "Running MIL Clean up passes: 100%|██████████| 8/8 [00:00<00:00, 485.85 passes/s]\n",
      "Translating MIL ==> NeuralNetwork Ops: 100%|██████████| 45/45 [00:00<00:00, 2152.08 ops/s]\n"
     ]
    },
    {
     "name": "stdout",
     "output_type": "stream",
     "text": [
      "converting for batch:  17\n",
      "\n",
      "*********\n",
      "\n",
      "\n"
     ]
    },
    {
     "name": "stderr",
     "output_type": "stream",
     "text": [
      "Converting Frontend ==> MIL Ops:  98%|█████████▊| 46/47 [00:00<00:00, 2853.44 ops/s]\n",
      "Running MIL Common passes: 100%|██████████| 33/33 [00:00<00:00, 1126.55 passes/s]\n",
      "Running MIL Clean up passes: 100%|██████████| 8/8 [00:00<00:00, 296.31 passes/s]\n",
      "Translating MIL ==> NeuralNetwork Ops: 100%|██████████| 45/45 [00:00<00:00, 1924.38 ops/s]\n"
     ]
    },
    {
     "name": "stdout",
     "output_type": "stream",
     "text": [
      "converting for batch:  18\n",
      "\n",
      "*********\n",
      "\n",
      "\n"
     ]
    },
    {
     "name": "stderr",
     "output_type": "stream",
     "text": [
      "Converting Frontend ==> MIL Ops:  98%|█████████▊| 46/47 [00:00<00:00, 2910.69 ops/s]\n",
      "Running MIL Common passes: 100%|██████████| 33/33 [00:00<00:00, 2705.53 passes/s]\n",
      "Running MIL Clean up passes: 100%|██████████| 8/8 [00:00<00:00, 680.71 passes/s]\n",
      "Translating MIL ==> NeuralNetwork Ops: 100%|██████████| 45/45 [00:00<00:00, 2017.94 ops/s]\n"
     ]
    },
    {
     "name": "stdout",
     "output_type": "stream",
     "text": [
      "converting for batch:  19\n",
      "\n",
      "*********\n",
      "\n",
      "\n"
     ]
    },
    {
     "name": "stderr",
     "output_type": "stream",
     "text": [
      "Converting Frontend ==> MIL Ops:  98%|█████████▊| 46/47 [00:00<00:00, 2677.83 ops/s]\n",
      "Running MIL Common passes: 100%|██████████| 33/33 [00:00<00:00, 1680.94 passes/s]\n",
      "Running MIL Clean up passes: 100%|██████████| 8/8 [00:00<00:00, 261.66 passes/s]\n",
      "Translating MIL ==> NeuralNetwork Ops: 100%|██████████| 45/45 [00:00<00:00, 1660.99 ops/s]\n"
     ]
    },
    {
     "name": "stdout",
     "output_type": "stream",
     "text": [
      "converting for batch:  20\n",
      "\n",
      "*********\n",
      "\n",
      "\n"
     ]
    },
    {
     "name": "stderr",
     "output_type": "stream",
     "text": [
      "Converting Frontend ==> MIL Ops:  98%|█████████▊| 46/47 [00:00<00:00, 3193.17 ops/s]\n",
      "Running MIL Common passes: 100%|██████████| 33/33 [00:00<00:00, 1374.09 passes/s]\n",
      "Running MIL Clean up passes: 100%|██████████| 8/8 [00:00<00:00, 408.70 passes/s]\n",
      "Translating MIL ==> NeuralNetwork Ops: 100%|██████████| 45/45 [00:00<00:00, 2495.69 ops/s]\n"
     ]
    },
    {
     "name": "stdout",
     "output_type": "stream",
     "text": [
      "Conversion complete in 0m 19s\n",
      "################ Batch size:  100\n",
      "converting for batch:  0\n",
      "\n",
      "*********\n",
      "\n",
      "\n"
     ]
    },
    {
     "name": "stderr",
     "output_type": "stream",
     "text": [
      "Converting Frontend ==> MIL Ops:  98%|█████████▊| 46/47 [00:00<00:00, 3251.34 ops/s]\n",
      "Running MIL Common passes: 100%|██████████| 33/33 [00:00<00:00, 1324.04 passes/s]\n",
      "Running MIL Clean up passes: 100%|██████████| 8/8 [00:00<00:00, 418.50 passes/s]\n",
      "Translating MIL ==> NeuralNetwork Ops: 100%|██████████| 45/45 [00:00<00:00, 2586.49 ops/s]\n"
     ]
    },
    {
     "name": "stdout",
     "output_type": "stream",
     "text": [
      "converting for batch:  1\n",
      "\n",
      "*********\n",
      "\n",
      "\n"
     ]
    },
    {
     "name": "stderr",
     "output_type": "stream",
     "text": [
      "Converting Frontend ==> MIL Ops:  98%|█████████▊| 46/47 [00:00<00:00, 2822.26 ops/s]\n",
      "Running MIL Common passes: 100%|██████████| 33/33 [00:00<00:00, 2011.83 passes/s]\n",
      "Running MIL Clean up passes: 100%|██████████| 8/8 [00:00<00:00, 562.98 passes/s]\n",
      "Translating MIL ==> NeuralNetwork Ops: 100%|██████████| 45/45 [00:00<00:00, 2016.32 ops/s]\n"
     ]
    },
    {
     "name": "stdout",
     "output_type": "stream",
     "text": [
      "converting for batch:  2\n",
      "\n",
      "*********\n",
      "\n",
      "\n"
     ]
    },
    {
     "name": "stderr",
     "output_type": "stream",
     "text": [
      "Converting Frontend ==> MIL Ops:  98%|█████████▊| 46/47 [00:00<00:00, 2788.40 ops/s]\n",
      "Running MIL Common passes: 100%|██████████| 33/33 [00:00<00:00, 1314.79 passes/s]\n",
      "Running MIL Clean up passes: 100%|██████████| 8/8 [00:00<00:00, 775.65 passes/s]\n",
      "Translating MIL ==> NeuralNetwork Ops: 100%|██████████| 45/45 [00:00<00:00, 2649.59 ops/s]\n"
     ]
    },
    {
     "name": "stdout",
     "output_type": "stream",
     "text": [
      "converting for batch:  3\n",
      "\n",
      "*********\n",
      "\n",
      "\n"
     ]
    },
    {
     "name": "stderr",
     "output_type": "stream",
     "text": [
      "Converting Frontend ==> MIL Ops:  98%|█████████▊| 46/47 [00:00<00:00, 1626.88 ops/s]\n",
      "Running MIL Common passes: 100%|██████████| 33/33 [00:00<00:00, 1613.55 passes/s]\n",
      "Running MIL Clean up passes: 100%|██████████| 8/8 [00:00<00:00, 521.10 passes/s]\n",
      "Translating MIL ==> NeuralNetwork Ops: 100%|██████████| 45/45 [00:00<00:00, 1730.97 ops/s]\n"
     ]
    },
    {
     "name": "stdout",
     "output_type": "stream",
     "text": [
      "converting for batch:  4\n",
      "\n",
      "*********\n",
      "\n",
      "\n"
     ]
    },
    {
     "name": "stderr",
     "output_type": "stream",
     "text": [
      "Converting Frontend ==> MIL Ops:  98%|█████████▊| 46/47 [00:00<00:00, 2225.76 ops/s]\n",
      "Running MIL Common passes: 100%|██████████| 33/33 [00:00<00:00, 707.06 passes/s]\n",
      "Running MIL Clean up passes: 100%|██████████| 8/8 [00:00<00:00, 332.42 passes/s]\n",
      "Translating MIL ==> NeuralNetwork Ops: 100%|██████████| 45/45 [00:00<00:00, 813.30 ops/s]\n"
     ]
    },
    {
     "name": "stdout",
     "output_type": "stream",
     "text": [
      "converting for batch:  5\n",
      "\n",
      "*********\n",
      "\n",
      "\n"
     ]
    },
    {
     "name": "stderr",
     "output_type": "stream",
     "text": [
      "Converting Frontend ==> MIL Ops:  98%|█████████▊| 46/47 [00:00<00:00, 3892.70 ops/s]\n",
      "Running MIL Common passes: 100%|██████████| 33/33 [00:00<00:00, 2403.99 passes/s]\n",
      "Running MIL Clean up passes: 100%|██████████| 8/8 [00:00<00:00, 502.13 passes/s]\n",
      "Translating MIL ==> NeuralNetwork Ops: 100%|██████████| 45/45 [00:00<00:00, 1909.55 ops/s]\n"
     ]
    },
    {
     "name": "stdout",
     "output_type": "stream",
     "text": [
      "converting for batch:  6\n",
      "\n",
      "*********\n",
      "\n",
      "\n"
     ]
    },
    {
     "name": "stderr",
     "output_type": "stream",
     "text": [
      "Converting Frontend ==> MIL Ops:  98%|█████████▊| 46/47 [00:00<00:00, 4139.32 ops/s]\n",
      "Running MIL Common passes: 100%|██████████| 33/33 [00:00<00:00, 1761.68 passes/s]\n",
      "Running MIL Clean up passes: 100%|██████████| 8/8 [00:00<00:00, 469.29 passes/s]\n",
      "Translating MIL ==> NeuralNetwork Ops: 100%|██████████| 45/45 [00:00<00:00, 2022.02 ops/s]\n"
     ]
    },
    {
     "name": "stdout",
     "output_type": "stream",
     "text": [
      "converting for batch:  7\n",
      "\n",
      "*********\n",
      "\n",
      "\n"
     ]
    },
    {
     "name": "stderr",
     "output_type": "stream",
     "text": [
      "Converting Frontend ==> MIL Ops:  98%|█████████▊| 46/47 [00:00<00:00, 2775.57 ops/s]\n",
      "Running MIL Common passes: 100%|██████████| 33/33 [00:00<00:00, 1996.94 passes/s]\n",
      "Running MIL Clean up passes: 100%|██████████| 8/8 [00:00<00:00, 384.65 passes/s]\n",
      "Translating MIL ==> NeuralNetwork Ops: 100%|██████████| 45/45 [00:00<00:00, 2370.05 ops/s]\n"
     ]
    },
    {
     "name": "stdout",
     "output_type": "stream",
     "text": [
      "converting for batch:  8\n",
      "\n",
      "*********\n",
      "\n",
      "\n"
     ]
    },
    {
     "name": "stderr",
     "output_type": "stream",
     "text": [
      "Converting Frontend ==> MIL Ops:  98%|█████████▊| 46/47 [00:00<00:00, 3504.78 ops/s]\n",
      "Running MIL Common passes: 100%|██████████| 33/33 [00:00<00:00, 1833.76 passes/s]\n",
      "Running MIL Clean up passes: 100%|██████████| 8/8 [00:00<00:00, 451.10 passes/s]\n",
      "Translating MIL ==> NeuralNetwork Ops: 100%|██████████| 45/45 [00:00<00:00, 1930.25 ops/s]\n"
     ]
    },
    {
     "name": "stdout",
     "output_type": "stream",
     "text": [
      "converting for batch:  9\n",
      "\n",
      "*********\n",
      "\n",
      "\n"
     ]
    },
    {
     "name": "stderr",
     "output_type": "stream",
     "text": [
      "Converting Frontend ==> MIL Ops:  98%|█████████▊| 46/47 [00:00<00:00, 3708.49 ops/s]\n",
      "Running MIL Common passes: 100%|██████████| 33/33 [00:00<00:00, 2270.87 passes/s]\n",
      "Running MIL Clean up passes: 100%|██████████| 8/8 [00:00<00:00, 213.37 passes/s]\n",
      "Translating MIL ==> NeuralNetwork Ops: 100%|██████████| 45/45 [00:00<00:00, 1220.76 ops/s]\n"
     ]
    },
    {
     "name": "stdout",
     "output_type": "stream",
     "text": [
      "converting for batch:  10\n",
      "\n",
      "*********\n",
      "\n",
      "\n"
     ]
    },
    {
     "name": "stderr",
     "output_type": "stream",
     "text": [
      "Converting Frontend ==> MIL Ops:  98%|█████████▊| 46/47 [00:00<00:00, 3144.46 ops/s]\n",
      "Running MIL Common passes: 100%|██████████| 33/33 [00:00<00:00, 1398.98 passes/s]\n",
      "Running MIL Clean up passes: 100%|██████████| 8/8 [00:00<00:00, 445.96 passes/s]\n",
      "Translating MIL ==> NeuralNetwork Ops: 100%|██████████| 45/45 [00:00<00:00, 2333.05 ops/s]\n"
     ]
    },
    {
     "name": "stdout",
     "output_type": "stream",
     "text": [
      "converting for batch:  11\n",
      "\n",
      "*********\n",
      "\n",
      "\n"
     ]
    },
    {
     "name": "stderr",
     "output_type": "stream",
     "text": [
      "Converting Frontend ==> MIL Ops:  98%|█████████▊| 46/47 [00:00<00:00, 2639.59 ops/s]\n",
      "Running MIL Common passes: 100%|██████████| 33/33 [00:00<00:00, 1606.55 passes/s]\n",
      "Running MIL Clean up passes: 100%|██████████| 8/8 [00:00<00:00, 464.09 passes/s]\n",
      "Translating MIL ==> NeuralNetwork Ops: 100%|██████████| 45/45 [00:00<00:00, 2307.69 ops/s]\n"
     ]
    },
    {
     "name": "stdout",
     "output_type": "stream",
     "text": [
      "converting for batch:  12\n",
      "\n",
      "*********\n",
      "\n",
      "\n"
     ]
    },
    {
     "name": "stderr",
     "output_type": "stream",
     "text": [
      "Converting Frontend ==> MIL Ops:  98%|█████████▊| 46/47 [00:00<00:00, 3915.30 ops/s]\n",
      "Running MIL Common passes: 100%|██████████| 33/33 [00:00<00:00, 1473.02 passes/s]\n",
      "Running MIL Clean up passes: 100%|██████████| 8/8 [00:00<00:00, 350.89 passes/s]\n",
      "Translating MIL ==> NeuralNetwork Ops: 100%|██████████| 45/45 [00:00<00:00, 2351.48 ops/s]\n"
     ]
    },
    {
     "name": "stdout",
     "output_type": "stream",
     "text": [
      "converting for batch:  13\n",
      "\n",
      "*********\n",
      "\n",
      "\n"
     ]
    },
    {
     "name": "stderr",
     "output_type": "stream",
     "text": [
      "Converting Frontend ==> MIL Ops:  98%|█████████▊| 46/47 [00:00<00:00, 2447.71 ops/s]\n",
      "Running MIL Common passes: 100%|██████████| 33/33 [00:00<00:00, 1352.64 passes/s]\n",
      "Running MIL Clean up passes: 100%|██████████| 8/8 [00:00<00:00, 456.91 passes/s]\n",
      "Translating MIL ==> NeuralNetwork Ops: 100%|██████████| 45/45 [00:00<00:00, 1848.65 ops/s]\n"
     ]
    },
    {
     "name": "stdout",
     "output_type": "stream",
     "text": [
      "converting for batch:  14\n",
      "\n",
      "*********\n",
      "\n",
      "\n"
     ]
    },
    {
     "name": "stderr",
     "output_type": "stream",
     "text": [
      "Converting Frontend ==> MIL Ops:  98%|█████████▊| 46/47 [00:00<00:00, 3667.67 ops/s]\n",
      "Running MIL Common passes: 100%|██████████| 33/33 [00:00<00:00, 955.30 passes/s]\n",
      "Running MIL Clean up passes: 100%|██████████| 8/8 [00:00<00:00, 444.08 passes/s]\n",
      "Translating MIL ==> NeuralNetwork Ops: 100%|██████████| 45/45 [00:00<00:00, 2073.92 ops/s]\n"
     ]
    },
    {
     "name": "stdout",
     "output_type": "stream",
     "text": [
      "converting for batch:  15\n",
      "\n",
      "*********\n",
      "\n",
      "\n"
     ]
    },
    {
     "name": "stderr",
     "output_type": "stream",
     "text": [
      "Converting Frontend ==> MIL Ops:  98%|█████████▊| 46/47 [00:00<00:00, 2882.04 ops/s]\n",
      "Running MIL Common passes: 100%|██████████| 33/33 [00:00<00:00, 1254.66 passes/s]\n",
      "Running MIL Clean up passes: 100%|██████████| 8/8 [00:00<00:00, 327.67 passes/s]\n",
      "Translating MIL ==> NeuralNetwork Ops: 100%|██████████| 45/45 [00:00<00:00, 922.32 ops/s]\n"
     ]
    },
    {
     "name": "stdout",
     "output_type": "stream",
     "text": [
      "converting for batch:  16\n",
      "\n",
      "*********\n",
      "\n",
      "\n"
     ]
    },
    {
     "name": "stderr",
     "output_type": "stream",
     "text": [
      "Converting Frontend ==> MIL Ops:  98%|█████████▊| 46/47 [00:00<00:00, 3056.06 ops/s]\n",
      "Running MIL Common passes: 100%|██████████| 33/33 [00:00<00:00, 1526.70 passes/s]\n",
      "Running MIL Clean up passes: 100%|██████████| 8/8 [00:00<00:00, 457.48 passes/s]\n",
      "Translating MIL ==> NeuralNetwork Ops: 100%|██████████| 45/45 [00:00<00:00, 2272.16 ops/s]\n"
     ]
    },
    {
     "name": "stdout",
     "output_type": "stream",
     "text": [
      "converting for batch:  17\n",
      "\n",
      "*********\n",
      "\n",
      "\n"
     ]
    },
    {
     "name": "stderr",
     "output_type": "stream",
     "text": [
      "Converting Frontend ==> MIL Ops:  98%|█████████▊| 46/47 [00:00<00:00, 2601.08 ops/s]\n",
      "Running MIL Common passes: 100%|██████████| 33/33 [00:00<00:00, 2002.55 passes/s]\n",
      "Running MIL Clean up passes: 100%|██████████| 8/8 [00:00<00:00, 778.81 passes/s]\n",
      "Translating MIL ==> NeuralNetwork Ops: 100%|██████████| 45/45 [00:00<00:00, 2449.21 ops/s]\n"
     ]
    },
    {
     "name": "stdout",
     "output_type": "stream",
     "text": [
      "converting for batch:  18\n",
      "\n",
      "*********\n",
      "\n",
      "\n"
     ]
    },
    {
     "name": "stderr",
     "output_type": "stream",
     "text": [
      "Converting Frontend ==> MIL Ops:  98%|█████████▊| 46/47 [00:00<00:00, 2771.58 ops/s]\n",
      "Running MIL Common passes: 100%|██████████| 33/33 [00:00<00:00, 1898.08 passes/s]\n",
      "Running MIL Clean up passes: 100%|██████████| 8/8 [00:00<00:00, 434.08 passes/s]\n",
      "Translating MIL ==> NeuralNetwork Ops: 100%|██████████| 45/45 [00:00<00:00, 2365.06 ops/s]\n"
     ]
    },
    {
     "name": "stdout",
     "output_type": "stream",
     "text": [
      "converting for batch:  19\n",
      "\n",
      "*********\n",
      "\n",
      "\n"
     ]
    },
    {
     "name": "stderr",
     "output_type": "stream",
     "text": [
      "Converting Frontend ==> MIL Ops:  98%|█████████▊| 46/47 [00:00<00:00, 3707.57 ops/s]\n",
      "Running MIL Common passes: 100%|██████████| 33/33 [00:00<00:00, 1331.29 passes/s]\n",
      "Running MIL Clean up passes: 100%|██████████| 8/8 [00:00<00:00, 250.99 passes/s]\n",
      "Translating MIL ==> NeuralNetwork Ops: 100%|██████████| 45/45 [00:00<00:00, 2431.14 ops/s]\n"
     ]
    },
    {
     "name": "stdout",
     "output_type": "stream",
     "text": [
      "converting for batch:  20\n",
      "\n",
      "*********\n",
      "\n",
      "\n"
     ]
    },
    {
     "name": "stderr",
     "output_type": "stream",
     "text": [
      "Converting Frontend ==> MIL Ops:  98%|█████████▊| 46/47 [00:00<00:00, 2949.85 ops/s]\n",
      "Running MIL Common passes: 100%|██████████| 33/33 [00:00<00:00, 2173.45 passes/s]\n",
      "Running MIL Clean up passes: 100%|██████████| 8/8 [00:00<00:00, 598.66 passes/s]\n",
      "Translating MIL ==> NeuralNetwork Ops: 100%|██████████| 45/45 [00:00<00:00, 1872.25 ops/s]\n"
     ]
    },
    {
     "name": "stdout",
     "output_type": "stream",
     "text": [
      "Conversion complete in 0m 20s\n",
      "################ Batch size:  128\n",
      "converting for batch:  0\n",
      "\n",
      "*********\n",
      "\n",
      "\n"
     ]
    },
    {
     "name": "stderr",
     "output_type": "stream",
     "text": [
      "Converting Frontend ==> MIL Ops:  98%|█████████▊| 46/47 [00:00<00:00, 2836.16 ops/s]\n",
      "Running MIL Common passes: 100%|██████████| 33/33 [00:00<00:00, 1948.53 passes/s]\n",
      "Running MIL Clean up passes: 100%|██████████| 8/8 [00:00<00:00, 581.95 passes/s]\n",
      "Translating MIL ==> NeuralNetwork Ops: 100%|██████████| 45/45 [00:00<00:00, 1996.72 ops/s]\n"
     ]
    },
    {
     "name": "stdout",
     "output_type": "stream",
     "text": [
      "converting for batch:  1\n",
      "\n",
      "*********\n",
      "\n",
      "\n"
     ]
    },
    {
     "name": "stderr",
     "output_type": "stream",
     "text": [
      "Converting Frontend ==> MIL Ops:  98%|█████████▊| 46/47 [00:00<00:00, 2684.88 ops/s]\n",
      "Running MIL Common passes: 100%|██████████| 33/33 [00:00<00:00, 1874.56 passes/s]\n",
      "Running MIL Clean up passes: 100%|██████████| 8/8 [00:00<00:00, 565.34 passes/s]\n",
      "Translating MIL ==> NeuralNetwork Ops: 100%|██████████| 45/45 [00:00<00:00, 2464.56 ops/s]\n"
     ]
    },
    {
     "name": "stdout",
     "output_type": "stream",
     "text": [
      "converting for batch:  2\n",
      "\n",
      "*********\n",
      "\n",
      "\n"
     ]
    },
    {
     "name": "stderr",
     "output_type": "stream",
     "text": [
      "Converting Frontend ==> MIL Ops:  98%|█████████▊| 46/47 [00:00<00:00, 4158.42 ops/s]\n",
      "Running MIL Common passes: 100%|██████████| 33/33 [00:00<00:00, 1986.37 passes/s]\n",
      "Running MIL Clean up passes: 100%|██████████| 8/8 [00:00<00:00, 422.08 passes/s]\n",
      "Translating MIL ==> NeuralNetwork Ops: 100%|██████████| 45/45 [00:00<00:00, 2634.32 ops/s]\n"
     ]
    },
    {
     "name": "stdout",
     "output_type": "stream",
     "text": [
      "converting for batch:  3\n",
      "\n",
      "*********\n",
      "\n",
      "\n"
     ]
    },
    {
     "name": "stderr",
     "output_type": "stream",
     "text": [
      "Converting Frontend ==> MIL Ops:  98%|█████████▊| 46/47 [00:00<00:00, 4179.95 ops/s]\n",
      "Running MIL Common passes: 100%|██████████| 33/33 [00:00<00:00, 2275.88 passes/s]\n",
      "Running MIL Clean up passes: 100%|██████████| 8/8 [00:00<00:00, 394.27 passes/s]\n",
      "Translating MIL ==> NeuralNetwork Ops: 100%|██████████| 45/45 [00:00<00:00, 2113.47 ops/s]\n"
     ]
    },
    {
     "name": "stdout",
     "output_type": "stream",
     "text": [
      "converting for batch:  4\n",
      "\n",
      "*********\n",
      "\n",
      "\n"
     ]
    },
    {
     "name": "stderr",
     "output_type": "stream",
     "text": [
      "Converting Frontend ==> MIL Ops:  98%|█████████▊| 46/47 [00:00<00:00, 2870.55 ops/s]\n",
      "Running MIL Common passes: 100%|██████████| 33/33 [00:00<00:00, 1735.38 passes/s]\n",
      "Running MIL Clean up passes: 100%|██████████| 8/8 [00:00<00:00, 452.52 passes/s]\n",
      "Translating MIL ==> NeuralNetwork Ops: 100%|██████████| 45/45 [00:00<00:00, 1898.98 ops/s]\n"
     ]
    },
    {
     "name": "stdout",
     "output_type": "stream",
     "text": [
      "converting for batch:  5\n",
      "\n",
      "*********\n",
      "\n",
      "\n"
     ]
    },
    {
     "name": "stderr",
     "output_type": "stream",
     "text": [
      "Converting Frontend ==> MIL Ops:  98%|█████████▊| 46/47 [00:00<00:00, 3281.48 ops/s]\n",
      "Running MIL Common passes: 100%|██████████| 33/33 [00:00<00:00, 940.54 passes/s]\n",
      "Running MIL Clean up passes: 100%|██████████| 8/8 [00:00<00:00, 398.61 passes/s]\n",
      "Translating MIL ==> NeuralNetwork Ops: 100%|██████████| 45/45 [00:00<00:00, 2174.09 ops/s]\n"
     ]
    },
    {
     "name": "stdout",
     "output_type": "stream",
     "text": [
      "converting for batch:  6\n",
      "\n",
      "*********\n",
      "\n",
      "\n"
     ]
    },
    {
     "name": "stderr",
     "output_type": "stream",
     "text": [
      "Converting Frontend ==> MIL Ops:  98%|█████████▊| 46/47 [00:00<00:00, 2249.95 ops/s]\n",
      "Running MIL Common passes: 100%|██████████| 33/33 [00:00<00:00, 1535.30 passes/s]\n",
      "Running MIL Clean up passes: 100%|██████████| 8/8 [00:00<00:00, 436.66 passes/s]\n",
      "Translating MIL ==> NeuralNetwork Ops: 100%|██████████| 45/45 [00:00<00:00, 2455.27 ops/s]\n"
     ]
    },
    {
     "name": "stdout",
     "output_type": "stream",
     "text": [
      "converting for batch:  7\n",
      "\n",
      "*********\n",
      "\n",
      "\n"
     ]
    },
    {
     "name": "stderr",
     "output_type": "stream",
     "text": [
      "Converting Frontend ==> MIL Ops:  98%|█████████▊| 46/47 [00:00<00:00, 3584.81 ops/s]\n",
      "Running MIL Common passes: 100%|██████████| 33/33 [00:00<00:00, 1763.95 passes/s]\n",
      "Running MIL Clean up passes: 100%|██████████| 8/8 [00:00<00:00, 736.25 passes/s]\n",
      "Translating MIL ==> NeuralNetwork Ops: 100%|██████████| 45/45 [00:00<00:00, 2810.23 ops/s]\n"
     ]
    },
    {
     "name": "stdout",
     "output_type": "stream",
     "text": [
      "converting for batch:  8\n",
      "\n",
      "*********\n",
      "\n",
      "\n"
     ]
    },
    {
     "name": "stderr",
     "output_type": "stream",
     "text": [
      "Converting Frontend ==> MIL Ops:  98%|█████████▊| 46/47 [00:00<00:00, 3030.66 ops/s]\n",
      "Running MIL Common passes: 100%|██████████| 33/33 [00:00<00:00, 1658.38 passes/s]\n",
      "Running MIL Clean up passes: 100%|██████████| 8/8 [00:00<00:00, 440.50 passes/s]\n",
      "Translating MIL ==> NeuralNetwork Ops: 100%|██████████| 45/45 [00:00<00:00, 2364.17 ops/s]\n"
     ]
    },
    {
     "name": "stdout",
     "output_type": "stream",
     "text": [
      "converting for batch:  9\n",
      "\n",
      "*********\n",
      "\n",
      "\n"
     ]
    },
    {
     "name": "stderr",
     "output_type": "stream",
     "text": [
      "Converting Frontend ==> MIL Ops:  98%|█████████▊| 46/47 [00:00<00:00, 2441.51 ops/s]\n",
      "Running MIL Common passes: 100%|██████████| 33/33 [00:00<00:00, 2061.85 passes/s]\n",
      "Running MIL Clean up passes: 100%|██████████| 8/8 [00:00<00:00, 570.03 passes/s]\n",
      "Translating MIL ==> NeuralNetwork Ops: 100%|██████████| 45/45 [00:00<00:00, 2206.01 ops/s]\n"
     ]
    },
    {
     "name": "stdout",
     "output_type": "stream",
     "text": [
      "converting for batch:  10\n",
      "\n",
      "*********\n",
      "\n",
      "\n"
     ]
    },
    {
     "name": "stderr",
     "output_type": "stream",
     "text": [
      "Converting Frontend ==> MIL Ops:  98%|█████████▊| 46/47 [00:00<00:00, 3317.94 ops/s]\n",
      "Running MIL Common passes: 100%|██████████| 33/33 [00:00<00:00, 2483.66 passes/s]\n",
      "Running MIL Clean up passes: 100%|██████████| 8/8 [00:00<00:00, 536.51 passes/s]\n",
      "Translating MIL ==> NeuralNetwork Ops: 100%|██████████| 45/45 [00:00<00:00, 2245.99 ops/s]\n"
     ]
    },
    {
     "name": "stdout",
     "output_type": "stream",
     "text": [
      "converting for batch:  11\n",
      "\n",
      "*********\n",
      "\n",
      "\n"
     ]
    },
    {
     "name": "stderr",
     "output_type": "stream",
     "text": [
      "Converting Frontend ==> MIL Ops:  98%|█████████▊| 46/47 [00:00<00:00, 2805.02 ops/s]\n",
      "Running MIL Common passes: 100%|██████████| 33/33 [00:00<00:00, 970.64 passes/s]\n",
      "Running MIL Clean up passes: 100%|██████████| 8/8 [00:00<00:00, 226.21 passes/s]\n",
      "Translating MIL ==> NeuralNetwork Ops: 100%|██████████| 45/45 [00:00<00:00, 2541.93 ops/s]\n"
     ]
    },
    {
     "name": "stdout",
     "output_type": "stream",
     "text": [
      "converting for batch:  12\n",
      "\n",
      "*********\n",
      "\n",
      "\n"
     ]
    },
    {
     "name": "stderr",
     "output_type": "stream",
     "text": [
      "Converting Frontend ==> MIL Ops:  98%|█████████▊| 46/47 [00:00<00:00, 1574.26 ops/s]\n",
      "Running MIL Common passes: 100%|██████████| 33/33 [00:00<00:00, 1351.35 passes/s]\n",
      "Running MIL Clean up passes: 100%|██████████| 8/8 [00:00<00:00, 264.56 passes/s]\n",
      "Translating MIL ==> NeuralNetwork Ops: 100%|██████████| 45/45 [00:00<00:00, 1932.82 ops/s]\n"
     ]
    },
    {
     "name": "stdout",
     "output_type": "stream",
     "text": [
      "converting for batch:  13\n",
      "\n",
      "*********\n",
      "\n",
      "\n"
     ]
    },
    {
     "name": "stderr",
     "output_type": "stream",
     "text": [
      "Converting Frontend ==> MIL Ops:  98%|█████████▊| 46/47 [00:00<00:00, 3110.20 ops/s]\n",
      "Running MIL Common passes: 100%|██████████| 33/33 [00:00<00:00, 1095.08 passes/s]\n",
      "Running MIL Clean up passes: 100%|██████████| 8/8 [00:00<00:00, 195.56 passes/s]\n",
      "Translating MIL ==> NeuralNetwork Ops: 100%|██████████| 45/45 [00:00<00:00, 2655.18 ops/s]\n"
     ]
    },
    {
     "name": "stdout",
     "output_type": "stream",
     "text": [
      "converting for batch:  14\n",
      "\n",
      "*********\n",
      "\n",
      "\n"
     ]
    },
    {
     "name": "stderr",
     "output_type": "stream",
     "text": [
      "Converting Frontend ==> MIL Ops:  98%|█████████▊| 46/47 [00:00<00:00, 3992.76 ops/s]\n",
      "Running MIL Common passes: 100%|██████████| 33/33 [00:00<00:00, 1778.41 passes/s]\n",
      "Running MIL Clean up passes: 100%|██████████| 8/8 [00:00<00:00, 265.16 passes/s]\n",
      "Translating MIL ==> NeuralNetwork Ops: 100%|██████████| 45/45 [00:00<00:00, 2379.94 ops/s]\n"
     ]
    },
    {
     "name": "stdout",
     "output_type": "stream",
     "text": [
      "converting for batch:  15\n",
      "\n",
      "*********\n",
      "\n",
      "\n"
     ]
    },
    {
     "name": "stderr",
     "output_type": "stream",
     "text": [
      "Converting Frontend ==> MIL Ops:  98%|█████████▊| 46/47 [00:00<00:00, 2888.90 ops/s]\n",
      "Running MIL Common passes: 100%|██████████| 33/33 [00:00<00:00, 1802.78 passes/s]\n",
      "Running MIL Clean up passes: 100%|██████████| 8/8 [00:00<00:00, 478.58 passes/s]\n",
      "Translating MIL ==> NeuralNetwork Ops: 100%|██████████| 45/45 [00:00<00:00, 2578.04 ops/s]\n"
     ]
    },
    {
     "name": "stdout",
     "output_type": "stream",
     "text": [
      "converting for batch:  16\n",
      "\n",
      "*********\n",
      "\n",
      "\n"
     ]
    },
    {
     "name": "stderr",
     "output_type": "stream",
     "text": [
      "Converting Frontend ==> MIL Ops:  98%|█████████▊| 46/47 [00:00<00:00, 2811.24 ops/s]\n",
      "Running MIL Common passes: 100%|██████████| 33/33 [00:00<00:00, 1830.90 passes/s]\n",
      "Running MIL Clean up passes: 100%|██████████| 8/8 [00:00<00:00, 450.12 passes/s]\n",
      "Translating MIL ==> NeuralNetwork Ops: 100%|██████████| 45/45 [00:00<00:00, 2351.59 ops/s]\n"
     ]
    },
    {
     "name": "stdout",
     "output_type": "stream",
     "text": [
      "converting for batch:  17\n",
      "\n",
      "*********\n",
      "\n",
      "\n"
     ]
    },
    {
     "name": "stderr",
     "output_type": "stream",
     "text": [
      "Converting Frontend ==> MIL Ops:  98%|█████████▊| 46/47 [00:00<00:00, 3368.98 ops/s]\n",
      "Running MIL Common passes: 100%|██████████| 33/33 [00:00<00:00, 1719.72 passes/s]\n",
      "Running MIL Clean up passes: 100%|██████████| 8/8 [00:00<00:00, 503.81 passes/s]\n",
      "Translating MIL ==> NeuralNetwork Ops: 100%|██████████| 45/45 [00:00<00:00, 2565.08 ops/s]\n"
     ]
    },
    {
     "name": "stdout",
     "output_type": "stream",
     "text": [
      "converting for batch:  18\n",
      "\n",
      "*********\n",
      "\n",
      "\n"
     ]
    },
    {
     "name": "stderr",
     "output_type": "stream",
     "text": [
      "Converting Frontend ==> MIL Ops:  98%|█████████▊| 46/47 [00:00<00:00, 3763.69 ops/s]\n",
      "Running MIL Common passes: 100%|██████████| 33/33 [00:00<00:00, 2013.82 passes/s]\n",
      "Running MIL Clean up passes: 100%|██████████| 8/8 [00:00<00:00, 458.08 passes/s]\n",
      "Translating MIL ==> NeuralNetwork Ops: 100%|██████████| 45/45 [00:00<00:00, 3006.00 ops/s]\n"
     ]
    },
    {
     "name": "stdout",
     "output_type": "stream",
     "text": [
      "converting for batch:  19\n",
      "\n",
      "*********\n",
      "\n",
      "\n"
     ]
    },
    {
     "name": "stderr",
     "output_type": "stream",
     "text": [
      "Converting Frontend ==> MIL Ops:  98%|█████████▊| 46/47 [00:00<00:00, 3007.14 ops/s]\n",
      "Running MIL Common passes: 100%|██████████| 33/33 [00:00<00:00, 1965.13 passes/s]\n",
      "Running MIL Clean up passes: 100%|██████████| 8/8 [00:00<00:00, 472.31 passes/s]\n",
      "Translating MIL ==> NeuralNetwork Ops: 100%|██████████| 45/45 [00:00<00:00, 2795.04 ops/s]\n"
     ]
    },
    {
     "name": "stdout",
     "output_type": "stream",
     "text": [
      "converting for batch:  20\n",
      "\n",
      "*********\n",
      "\n",
      "\n"
     ]
    },
    {
     "name": "stderr",
     "output_type": "stream",
     "text": [
      "Converting Frontend ==> MIL Ops:  98%|█████████▊| 46/47 [00:00<00:00, 2775.61 ops/s]\n",
      "Running MIL Common passes: 100%|██████████| 33/33 [00:00<00:00, 1980.80 passes/s]\n",
      "Running MIL Clean up passes: 100%|██████████| 8/8 [00:00<00:00, 659.62 passes/s]\n",
      "Translating MIL ==> NeuralNetwork Ops: 100%|██████████| 45/45 [00:00<00:00, 2644.39 ops/s]\n"
     ]
    },
    {
     "name": "stdout",
     "output_type": "stream",
     "text": [
      "Conversion complete in 0m 21s\n",
      "################ Batch size:  150\n",
      "converting for batch:  0\n",
      "\n",
      "*********\n",
      "\n",
      "\n"
     ]
    },
    {
     "name": "stderr",
     "output_type": "stream",
     "text": [
      "Converting Frontend ==> MIL Ops:  98%|█████████▊| 46/47 [00:00<00:00, 2789.57 ops/s]\n",
      "Running MIL Common passes: 100%|██████████| 33/33 [00:00<00:00, 1669.71 passes/s]\n",
      "Running MIL Clean up passes: 100%|██████████| 8/8 [00:00<00:00, 395.61 passes/s]\n",
      "Translating MIL ==> NeuralNetwork Ops: 100%|██████████| 45/45 [00:00<00:00, 2455.36 ops/s]\n"
     ]
    },
    {
     "name": "stdout",
     "output_type": "stream",
     "text": [
      "converting for batch:  1\n",
      "\n",
      "*********\n",
      "\n",
      "\n"
     ]
    },
    {
     "name": "stderr",
     "output_type": "stream",
     "text": [
      "Converting Frontend ==> MIL Ops:  98%|█████████▊| 46/47 [00:00<00:00, 3481.44 ops/s]\n",
      "Running MIL Common passes: 100%|██████████| 33/33 [00:00<00:00, 1807.91 passes/s]\n",
      "Running MIL Clean up passes: 100%|██████████| 8/8 [00:00<00:00, 662.19 passes/s]\n",
      "Translating MIL ==> NeuralNetwork Ops: 100%|██████████| 45/45 [00:00<00:00, 2491.27 ops/s]\n"
     ]
    },
    {
     "name": "stdout",
     "output_type": "stream",
     "text": [
      "converting for batch:  2\n",
      "\n",
      "*********\n",
      "\n",
      "\n"
     ]
    },
    {
     "name": "stderr",
     "output_type": "stream",
     "text": [
      "Converting Frontend ==> MIL Ops:  98%|█████████▊| 46/47 [00:00<00:00, 3521.67 ops/s]\n",
      "Running MIL Common passes: 100%|██████████| 33/33 [00:00<00:00, 2149.72 passes/s]\n",
      "Running MIL Clean up passes: 100%|██████████| 8/8 [00:00<00:00, 639.79 passes/s]\n",
      "Translating MIL ==> NeuralNetwork Ops: 100%|██████████| 45/45 [00:00<00:00, 2508.66 ops/s]\n"
     ]
    },
    {
     "name": "stdout",
     "output_type": "stream",
     "text": [
      "converting for batch:  3\n",
      "\n",
      "*********\n",
      "\n",
      "\n"
     ]
    },
    {
     "name": "stderr",
     "output_type": "stream",
     "text": [
      "Converting Frontend ==> MIL Ops:  98%|█████████▊| 46/47 [00:00<00:00, 2277.25 ops/s]\n",
      "Running MIL Common passes: 100%|██████████| 33/33 [00:00<00:00, 1424.31 passes/s]\n",
      "Running MIL Clean up passes: 100%|██████████| 8/8 [00:00<00:00, 544.14 passes/s]\n",
      "Translating MIL ==> NeuralNetwork Ops: 100%|██████████| 45/45 [00:00<00:00, 1878.21 ops/s]\n"
     ]
    },
    {
     "name": "stdout",
     "output_type": "stream",
     "text": [
      "converting for batch:  4\n",
      "\n",
      "*********\n",
      "\n",
      "\n"
     ]
    },
    {
     "name": "stderr",
     "output_type": "stream",
     "text": [
      "Converting Frontend ==> MIL Ops:  98%|█████████▊| 46/47 [00:00<00:00, 3703.37 ops/s]\n",
      "Running MIL Common passes: 100%|██████████| 33/33 [00:00<00:00, 1614.96 passes/s]\n",
      "Running MIL Clean up passes: 100%|██████████| 8/8 [00:00<00:00, 698.38 passes/s]\n",
      "Translating MIL ==> NeuralNetwork Ops: 100%|██████████| 45/45 [00:00<00:00, 2421.16 ops/s]\n"
     ]
    },
    {
     "name": "stdout",
     "output_type": "stream",
     "text": [
      "converting for batch:  5\n",
      "\n",
      "*********\n",
      "\n",
      "\n"
     ]
    },
    {
     "name": "stderr",
     "output_type": "stream",
     "text": [
      "Converting Frontend ==> MIL Ops:  98%|█████████▊| 46/47 [00:00<00:00, 3527.33 ops/s]\n",
      "Running MIL Common passes: 100%|██████████| 33/33 [00:00<00:00, 986.87 passes/s]\n",
      "Running MIL Clean up passes: 100%|██████████| 8/8 [00:00<00:00, 404.81 passes/s]\n",
      "Translating MIL ==> NeuralNetwork Ops: 100%|██████████| 45/45 [00:00<00:00, 2290.41 ops/s]\n"
     ]
    },
    {
     "name": "stdout",
     "output_type": "stream",
     "text": [
      "converting for batch:  6\n",
      "\n",
      "*********\n",
      "\n",
      "\n"
     ]
    },
    {
     "name": "stderr",
     "output_type": "stream",
     "text": [
      "Converting Frontend ==> MIL Ops:  98%|█████████▊| 46/47 [00:00<00:00, 2881.31 ops/s]\n",
      "Running MIL Common passes: 100%|██████████| 33/33 [00:00<00:00, 1954.64 passes/s]\n",
      "Running MIL Clean up passes: 100%|██████████| 8/8 [00:00<00:00, 521.89 passes/s]\n",
      "Translating MIL ==> NeuralNetwork Ops: 100%|██████████| 45/45 [00:00<00:00, 2129.66 ops/s]\n"
     ]
    },
    {
     "name": "stdout",
     "output_type": "stream",
     "text": [
      "converting for batch:  7\n",
      "\n",
      "*********\n",
      "\n",
      "\n"
     ]
    },
    {
     "name": "stderr",
     "output_type": "stream",
     "text": [
      "Converting Frontend ==> MIL Ops:  98%|█████████▊| 46/47 [00:00<00:00, 3531.92 ops/s]\n",
      "Running MIL Common passes: 100%|██████████| 33/33 [00:00<00:00, 2242.62 passes/s]\n",
      "Running MIL Clean up passes: 100%|██████████| 8/8 [00:00<00:00, 560.22 passes/s]\n",
      "Translating MIL ==> NeuralNetwork Ops: 100%|██████████| 45/45 [00:00<00:00, 2179.79 ops/s]\n"
     ]
    },
    {
     "name": "stdout",
     "output_type": "stream",
     "text": [
      "converting for batch:  8\n",
      "\n",
      "*********\n",
      "\n",
      "\n"
     ]
    },
    {
     "name": "stderr",
     "output_type": "stream",
     "text": [
      "Converting Frontend ==> MIL Ops:  98%|█████████▊| 46/47 [00:00<00:00, 2604.77 ops/s]\n",
      "Running MIL Common passes: 100%|██████████| 33/33 [00:00<00:00, 1551.27 passes/s]\n",
      "Running MIL Clean up passes: 100%|██████████| 8/8 [00:00<00:00, 484.09 passes/s]\n",
      "Translating MIL ==> NeuralNetwork Ops: 100%|██████████| 45/45 [00:00<00:00, 2718.91 ops/s]\n"
     ]
    },
    {
     "name": "stdout",
     "output_type": "stream",
     "text": [
      "converting for batch:  9\n",
      "\n",
      "*********\n",
      "\n",
      "\n"
     ]
    },
    {
     "name": "stderr",
     "output_type": "stream",
     "text": [
      "Converting Frontend ==> MIL Ops:  98%|█████████▊| 46/47 [00:00<00:00, 4185.30 ops/s]\n",
      "Running MIL Common passes: 100%|██████████| 33/33 [00:00<00:00, 2197.37 passes/s]\n",
      "Running MIL Clean up passes: 100%|██████████| 8/8 [00:00<00:00, 513.39 passes/s]\n",
      "Translating MIL ==> NeuralNetwork Ops: 100%|██████████| 45/45 [00:00<00:00, 1773.47 ops/s]\n"
     ]
    },
    {
     "name": "stdout",
     "output_type": "stream",
     "text": [
      "converting for batch:  10\n",
      "\n",
      "*********\n",
      "\n",
      "\n"
     ]
    },
    {
     "name": "stderr",
     "output_type": "stream",
     "text": [
      "Converting Frontend ==> MIL Ops:  98%|█████████▊| 46/47 [00:00<00:00, 2786.19 ops/s]\n",
      "Running MIL Common passes: 100%|██████████| 33/33 [00:00<00:00, 1853.00 passes/s]\n",
      "Running MIL Clean up passes: 100%|██████████| 8/8 [00:00<00:00, 484.91 passes/s]\n",
      "Translating MIL ==> NeuralNetwork Ops: 100%|██████████| 45/45 [00:00<00:00, 2212.39 ops/s]\n"
     ]
    },
    {
     "name": "stdout",
     "output_type": "stream",
     "text": [
      "converting for batch:  11\n",
      "\n",
      "*********\n",
      "\n",
      "\n"
     ]
    },
    {
     "name": "stderr",
     "output_type": "stream",
     "text": [
      "Converting Frontend ==> MIL Ops:  98%|█████████▊| 46/47 [00:00<00:00, 3105.99 ops/s]\n",
      "Running MIL Common passes: 100%|██████████| 33/33 [00:00<00:00, 1886.88 passes/s]\n",
      "Running MIL Clean up passes: 100%|██████████| 8/8 [00:00<00:00, 561.18 passes/s]\n",
      "Translating MIL ==> NeuralNetwork Ops: 100%|██████████| 45/45 [00:00<00:00, 2198.96 ops/s]\n"
     ]
    },
    {
     "name": "stdout",
     "output_type": "stream",
     "text": [
      "converting for batch:  12\n",
      "\n",
      "*********\n",
      "\n",
      "\n"
     ]
    },
    {
     "name": "stderr",
     "output_type": "stream",
     "text": [
      "Converting Frontend ==> MIL Ops:  98%|█████████▊| 46/47 [00:00<00:00, 3153.10 ops/s]\n",
      "Running MIL Common passes: 100%|██████████| 33/33 [00:00<00:00, 1347.21 passes/s]\n",
      "Running MIL Clean up passes: 100%|██████████| 8/8 [00:00<00:00, 534.15 passes/s]\n",
      "Translating MIL ==> NeuralNetwork Ops: 100%|██████████| 45/45 [00:00<00:00, 2552.76 ops/s]\n"
     ]
    },
    {
     "name": "stdout",
     "output_type": "stream",
     "text": [
      "converting for batch:  13\n",
      "\n",
      "*********\n",
      "\n",
      "\n"
     ]
    },
    {
     "name": "stderr",
     "output_type": "stream",
     "text": [
      "Converting Frontend ==> MIL Ops:  98%|█████████▊| 46/47 [00:00<00:00, 2925.08 ops/s]\n",
      "Running MIL Common passes: 100%|██████████| 33/33 [00:00<00:00, 1695.96 passes/s]\n",
      "Running MIL Clean up passes: 100%|██████████| 8/8 [00:00<00:00, 601.86 passes/s]\n",
      "Translating MIL ==> NeuralNetwork Ops: 100%|██████████| 45/45 [00:00<00:00, 2615.95 ops/s]\n"
     ]
    },
    {
     "name": "stdout",
     "output_type": "stream",
     "text": [
      "converting for batch:  14\n",
      "\n",
      "*********\n",
      "\n",
      "\n"
     ]
    },
    {
     "name": "stderr",
     "output_type": "stream",
     "text": [
      "Converting Frontend ==> MIL Ops:  98%|█████████▊| 46/47 [00:00<00:00, 2931.65 ops/s]\n",
      "Running MIL Common passes: 100%|██████████| 33/33 [00:00<00:00, 1762.13 passes/s]\n",
      "Running MIL Clean up passes: 100%|██████████| 8/8 [00:00<00:00, 573.43 passes/s]\n",
      "Translating MIL ==> NeuralNetwork Ops: 100%|██████████| 45/45 [00:00<00:00, 2232.83 ops/s]\n"
     ]
    },
    {
     "name": "stdout",
     "output_type": "stream",
     "text": [
      "converting for batch:  15\n",
      "\n",
      "*********\n",
      "\n",
      "\n"
     ]
    },
    {
     "name": "stderr",
     "output_type": "stream",
     "text": [
      "Converting Frontend ==> MIL Ops:  98%|█████████▊| 46/47 [00:00<00:00, 3173.06 ops/s]\n",
      "Running MIL Common passes: 100%|██████████| 33/33 [00:00<00:00, 1014.57 passes/s]\n",
      "Running MIL Clean up passes: 100%|██████████| 8/8 [00:00<00:00, 407.18 passes/s]\n",
      "Translating MIL ==> NeuralNetwork Ops: 100%|██████████| 45/45 [00:00<00:00, 2733.12 ops/s]\n"
     ]
    },
    {
     "name": "stdout",
     "output_type": "stream",
     "text": [
      "converting for batch:  16\n",
      "\n",
      "*********\n",
      "\n",
      "\n"
     ]
    },
    {
     "name": "stderr",
     "output_type": "stream",
     "text": [
      "Converting Frontend ==> MIL Ops:  98%|█████████▊| 46/47 [00:00<00:00, 3350.32 ops/s]\n",
      "Running MIL Common passes: 100%|██████████| 33/33 [00:00<00:00, 1786.79 passes/s]\n",
      "Running MIL Clean up passes: 100%|██████████| 8/8 [00:00<00:00, 518.80 passes/s]\n",
      "Translating MIL ==> NeuralNetwork Ops: 100%|██████████| 45/45 [00:00<00:00, 2458.21 ops/s]\n"
     ]
    },
    {
     "name": "stdout",
     "output_type": "stream",
     "text": [
      "converting for batch:  17\n",
      "\n",
      "*********\n",
      "\n",
      "\n"
     ]
    },
    {
     "name": "stderr",
     "output_type": "stream",
     "text": [
      "Converting Frontend ==> MIL Ops:  98%|█████████▊| 46/47 [00:00<00:00, 2951.75 ops/s]\n",
      "Running MIL Common passes: 100%|██████████| 33/33 [00:00<00:00, 1984.49 passes/s]\n",
      "Running MIL Clean up passes: 100%|██████████| 8/8 [00:00<00:00, 590.67 passes/s]\n",
      "Translating MIL ==> NeuralNetwork Ops: 100%|██████████| 45/45 [00:00<00:00, 2446.07 ops/s]\n"
     ]
    },
    {
     "name": "stdout",
     "output_type": "stream",
     "text": [
      "converting for batch:  18\n",
      "\n",
      "*********\n",
      "\n",
      "\n"
     ]
    },
    {
     "name": "stderr",
     "output_type": "stream",
     "text": [
      "Converting Frontend ==> MIL Ops:  98%|█████████▊| 46/47 [00:00<00:00, 4432.10 ops/s]\n",
      "Running MIL Common passes: 100%|██████████| 33/33 [00:00<00:00, 2035.80 passes/s]\n",
      "Running MIL Clean up passes: 100%|██████████| 8/8 [00:00<00:00, 483.97 passes/s]\n",
      "Translating MIL ==> NeuralNetwork Ops: 100%|██████████| 45/45 [00:00<00:00, 2342.52 ops/s]\n"
     ]
    },
    {
     "name": "stdout",
     "output_type": "stream",
     "text": [
      "converting for batch:  19\n",
      "\n",
      "*********\n",
      "\n",
      "\n"
     ]
    },
    {
     "name": "stderr",
     "output_type": "stream",
     "text": [
      "Converting Frontend ==> MIL Ops:  98%|█████████▊| 46/47 [00:00<00:00, 4000.70 ops/s]\n",
      "Running MIL Common passes: 100%|██████████| 33/33 [00:00<00:00, 1830.80 passes/s]\n",
      "Running MIL Clean up passes: 100%|██████████| 8/8 [00:00<00:00, 622.96 passes/s]\n",
      "Translating MIL ==> NeuralNetwork Ops: 100%|██████████| 45/45 [00:00<00:00, 2378.32 ops/s]\n"
     ]
    },
    {
     "name": "stdout",
     "output_type": "stream",
     "text": [
      "converting for batch:  20\n",
      "\n",
      "*********\n",
      "\n",
      "\n"
     ]
    },
    {
     "name": "stderr",
     "output_type": "stream",
     "text": [
      "Converting Frontend ==> MIL Ops:  98%|█████████▊| 46/47 [00:00<00:00, 3512.82 ops/s]\n",
      "Running MIL Common passes: 100%|██████████| 33/33 [00:00<00:00, 1600.53 passes/s]\n",
      "Running MIL Clean up passes: 100%|██████████| 8/8 [00:00<00:00, 636.63 passes/s]\n",
      "Translating MIL ==> NeuralNetwork Ops: 100%|██████████| 45/45 [00:00<00:00, 2588.40 ops/s]\n"
     ]
    },
    {
     "name": "stdout",
     "output_type": "stream",
     "text": [
      "Conversion complete in 0m 21s\n",
      "################ Batch size:  200\n",
      "converting for batch:  0\n",
      "\n",
      "*********\n",
      "\n",
      "\n"
     ]
    },
    {
     "name": "stderr",
     "output_type": "stream",
     "text": [
      "Converting Frontend ==> MIL Ops:  98%|█████████▊| 46/47 [00:00<00:00, 2527.48 ops/s]\n",
      "Running MIL Common passes: 100%|██████████| 33/33 [00:00<00:00, 1824.31 passes/s]\n",
      "Running MIL Clean up passes: 100%|██████████| 8/8 [00:00<00:00, 619.29 passes/s]\n",
      "Translating MIL ==> NeuralNetwork Ops: 100%|██████████| 45/45 [00:00<00:00, 1926.68 ops/s]\n"
     ]
    },
    {
     "name": "stdout",
     "output_type": "stream",
     "text": [
      "converting for batch:  1\n",
      "\n",
      "*********\n",
      "\n",
      "\n"
     ]
    },
    {
     "name": "stderr",
     "output_type": "stream",
     "text": [
      "Converting Frontend ==> MIL Ops:  98%|█████████▊| 46/47 [00:00<00:00, 4098.00 ops/s]\n",
      "Running MIL Common passes: 100%|██████████| 33/33 [00:00<00:00, 2119.86 passes/s]\n",
      "Running MIL Clean up passes: 100%|██████████| 8/8 [00:00<00:00, 602.63 passes/s]\n",
      "Translating MIL ==> NeuralNetwork Ops: 100%|██████████| 45/45 [00:00<00:00, 2328.67 ops/s]\n"
     ]
    },
    {
     "name": "stdout",
     "output_type": "stream",
     "text": [
      "converting for batch:  2\n",
      "\n",
      "*********\n",
      "\n",
      "\n"
     ]
    },
    {
     "name": "stderr",
     "output_type": "stream",
     "text": [
      "Converting Frontend ==> MIL Ops:  98%|█████████▊| 46/47 [00:00<00:00, 3060.32 ops/s]\n",
      "Running MIL Common passes: 100%|██████████| 33/33 [00:00<00:00, 1840.98 passes/s]\n",
      "Running MIL Clean up passes: 100%|██████████| 8/8 [00:00<00:00, 410.70 passes/s]\n",
      "Translating MIL ==> NeuralNetwork Ops: 100%|██████████| 45/45 [00:00<00:00, 1620.45 ops/s]\n"
     ]
    },
    {
     "name": "stdout",
     "output_type": "stream",
     "text": [
      "converting for batch:  3\n",
      "\n",
      "*********\n",
      "\n",
      "\n"
     ]
    },
    {
     "name": "stderr",
     "output_type": "stream",
     "text": [
      "Converting Frontend ==> MIL Ops:  98%|█████████▊| 46/47 [00:00<00:00, 2946.65 ops/s]\n",
      "Running MIL Common passes: 100%|██████████| 33/33 [00:00<00:00, 1744.76 passes/s]\n",
      "Running MIL Clean up passes: 100%|██████████| 8/8 [00:00<00:00, 378.44 passes/s]\n",
      "Translating MIL ==> NeuralNetwork Ops: 100%|██████████| 45/45 [00:00<00:00, 2448.16 ops/s]\n"
     ]
    },
    {
     "name": "stdout",
     "output_type": "stream",
     "text": [
      "converting for batch:  4\n",
      "\n",
      "*********\n",
      "\n",
      "\n"
     ]
    },
    {
     "name": "stderr",
     "output_type": "stream",
     "text": [
      "Converting Frontend ==> MIL Ops:  98%|█████████▊| 46/47 [00:00<00:00, 2932.54 ops/s]\n",
      "Running MIL Common passes: 100%|██████████| 33/33 [00:00<00:00, 1109.36 passes/s]\n",
      "Running MIL Clean up passes: 100%|██████████| 8/8 [00:00<00:00, 578.57 passes/s]\n",
      "Translating MIL ==> NeuralNetwork Ops: 100%|██████████| 45/45 [00:00<00:00, 2120.83 ops/s]\n"
     ]
    },
    {
     "name": "stdout",
     "output_type": "stream",
     "text": [
      "converting for batch:  5\n",
      "\n",
      "*********\n",
      "\n",
      "\n"
     ]
    },
    {
     "name": "stderr",
     "output_type": "stream",
     "text": [
      "Converting Frontend ==> MIL Ops:  98%|█████████▊| 46/47 [00:00<00:00, 4094.35 ops/s]\n",
      "Running MIL Common passes: 100%|██████████| 33/33 [00:00<00:00, 1854.77 passes/s]\n",
      "Running MIL Clean up passes: 100%|██████████| 8/8 [00:00<00:00, 538.47 passes/s]\n",
      "Translating MIL ==> NeuralNetwork Ops: 100%|██████████| 45/45 [00:00<00:00, 2108.92 ops/s]\n"
     ]
    },
    {
     "name": "stdout",
     "output_type": "stream",
     "text": [
      "converting for batch:  6\n",
      "\n",
      "*********\n",
      "\n",
      "\n"
     ]
    },
    {
     "name": "stderr",
     "output_type": "stream",
     "text": [
      "Converting Frontend ==> MIL Ops:  98%|█████████▊| 46/47 [00:00<00:00, 2253.47 ops/s]\n",
      "Running MIL Common passes: 100%|██████████| 33/33 [00:00<00:00, 1931.51 passes/s]\n",
      "Running MIL Clean up passes: 100%|██████████| 8/8 [00:00<00:00, 442.87 passes/s]\n",
      "Translating MIL ==> NeuralNetwork Ops: 100%|██████████| 45/45 [00:00<00:00, 2748.40 ops/s]\n"
     ]
    },
    {
     "name": "stdout",
     "output_type": "stream",
     "text": [
      "converting for batch:  7\n",
      "\n",
      "*********\n",
      "\n",
      "\n"
     ]
    },
    {
     "name": "stderr",
     "output_type": "stream",
     "text": [
      "Converting Frontend ==> MIL Ops:  98%|█████████▊| 46/47 [00:00<00:00, 3066.89 ops/s]\n",
      "Running MIL Common passes: 100%|██████████| 33/33 [00:00<00:00, 2264.11 passes/s]\n",
      "Running MIL Clean up passes: 100%|██████████| 8/8 [00:00<00:00, 463.53 passes/s]\n",
      "Translating MIL ==> NeuralNetwork Ops: 100%|██████████| 45/45 [00:00<00:00, 2131.16 ops/s]\n"
     ]
    },
    {
     "name": "stdout",
     "output_type": "stream",
     "text": [
      "converting for batch:  8\n",
      "\n",
      "*********\n",
      "\n",
      "\n"
     ]
    },
    {
     "name": "stderr",
     "output_type": "stream",
     "text": [
      "Converting Frontend ==> MIL Ops:  98%|█████████▊| 46/47 [00:00<00:00, 2737.76 ops/s]\n",
      "Running MIL Common passes: 100%|██████████| 33/33 [00:00<00:00, 1986.42 passes/s]\n",
      "Running MIL Clean up passes: 100%|██████████| 8/8 [00:00<00:00, 583.38 passes/s]\n",
      "Translating MIL ==> NeuralNetwork Ops: 100%|██████████| 45/45 [00:00<00:00, 2121.65 ops/s]\n"
     ]
    },
    {
     "name": "stdout",
     "output_type": "stream",
     "text": [
      "converting for batch:  9\n",
      "\n",
      "*********\n",
      "\n",
      "\n"
     ]
    },
    {
     "name": "stderr",
     "output_type": "stream",
     "text": [
      "Converting Frontend ==> MIL Ops:  98%|█████████▊| 46/47 [00:00<00:00, 2840.08 ops/s]\n",
      "Running MIL Common passes: 100%|██████████| 33/33 [00:00<00:00, 1949.77 passes/s]\n",
      "Running MIL Clean up passes: 100%|██████████| 8/8 [00:00<00:00, 529.83 passes/s]\n",
      "Translating MIL ==> NeuralNetwork Ops: 100%|██████████| 45/45 [00:00<00:00, 1970.84 ops/s]\n"
     ]
    },
    {
     "name": "stdout",
     "output_type": "stream",
     "text": [
      "converting for batch:  10\n",
      "\n",
      "*********\n",
      "\n",
      "\n"
     ]
    },
    {
     "name": "stderr",
     "output_type": "stream",
     "text": [
      "Converting Frontend ==> MIL Ops:  98%|█████████▊| 46/47 [00:00<00:00, 2798.76 ops/s]\n",
      "Running MIL Common passes: 100%|██████████| 33/33 [00:00<00:00, 1822.17 passes/s]\n",
      "Running MIL Clean up passes: 100%|██████████| 8/8 [00:00<00:00, 637.49 passes/s]\n",
      "Translating MIL ==> NeuralNetwork Ops: 100%|██████████| 45/45 [00:00<00:00, 2280.01 ops/s]\n"
     ]
    },
    {
     "name": "stdout",
     "output_type": "stream",
     "text": [
      "converting for batch:  11\n",
      "\n",
      "*********\n",
      "\n",
      "\n"
     ]
    },
    {
     "name": "stderr",
     "output_type": "stream",
     "text": [
      "Converting Frontend ==> MIL Ops:  98%|█████████▊| 46/47 [00:00<00:00, 2354.02 ops/s]\n",
      "Running MIL Common passes: 100%|██████████| 33/33 [00:00<00:00, 905.94 passes/s]\n",
      "Running MIL Clean up passes: 100%|██████████| 8/8 [00:00<00:00, 361.47 passes/s]\n",
      "Translating MIL ==> NeuralNetwork Ops: 100%|██████████| 45/45 [00:00<00:00, 2292.03 ops/s]\n"
     ]
    },
    {
     "name": "stdout",
     "output_type": "stream",
     "text": [
      "converting for batch:  12\n",
      "\n",
      "*********\n",
      "\n",
      "\n"
     ]
    },
    {
     "name": "stderr",
     "output_type": "stream",
     "text": [
      "Converting Frontend ==> MIL Ops:  98%|█████████▊| 46/47 [00:00<00:00, 2977.35 ops/s]\n",
      "Running MIL Common passes: 100%|██████████| 33/33 [00:00<00:00, 2022.21 passes/s]\n",
      "Running MIL Clean up passes: 100%|██████████| 8/8 [00:00<00:00, 439.44 passes/s]\n",
      "Translating MIL ==> NeuralNetwork Ops: 100%|██████████| 45/45 [00:00<00:00, 1665.82 ops/s]\n"
     ]
    },
    {
     "name": "stdout",
     "output_type": "stream",
     "text": [
      "converting for batch:  13\n",
      "\n",
      "*********\n",
      "\n",
      "\n"
     ]
    },
    {
     "name": "stderr",
     "output_type": "stream",
     "text": [
      "Converting Frontend ==> MIL Ops:  98%|█████████▊| 46/47 [00:00<00:00, 2645.81 ops/s]\n",
      "Running MIL Common passes: 100%|██████████| 33/33 [00:00<00:00, 1436.64 passes/s]\n",
      "Running MIL Clean up passes: 100%|██████████| 8/8 [00:00<00:00, 627.27 passes/s]\n",
      "Translating MIL ==> NeuralNetwork Ops: 100%|██████████| 45/45 [00:00<00:00, 3068.25 ops/s]\n"
     ]
    },
    {
     "name": "stdout",
     "output_type": "stream",
     "text": [
      "converting for batch:  14\n",
      "\n",
      "*********\n",
      "\n",
      "\n"
     ]
    },
    {
     "name": "stderr",
     "output_type": "stream",
     "text": [
      "Converting Frontend ==> MIL Ops:  98%|█████████▊| 46/47 [00:00<00:00, 3121.37 ops/s]\n",
      "Running MIL Common passes: 100%|██████████| 33/33 [00:00<00:00, 1338.41 passes/s]\n",
      "Running MIL Clean up passes: 100%|██████████| 8/8 [00:00<00:00, 284.62 passes/s]\n",
      "Translating MIL ==> NeuralNetwork Ops: 100%|██████████| 45/45 [00:00<00:00, 2379.70 ops/s]\n"
     ]
    },
    {
     "name": "stdout",
     "output_type": "stream",
     "text": [
      "converting for batch:  15\n",
      "\n",
      "*********\n",
      "\n",
      "\n"
     ]
    },
    {
     "name": "stderr",
     "output_type": "stream",
     "text": [
      "Converting Frontend ==> MIL Ops:  98%|█████████▊| 46/47 [00:00<00:00, 3979.83 ops/s]\n",
      "Running MIL Common passes: 100%|██████████| 33/33 [00:00<00:00, 2353.47 passes/s]\n",
      "Running MIL Clean up passes: 100%|██████████| 8/8 [00:00<00:00, 475.90 passes/s]\n",
      "Translating MIL ==> NeuralNetwork Ops: 100%|██████████| 45/45 [00:00<00:00, 2408.09 ops/s]\n"
     ]
    },
    {
     "name": "stdout",
     "output_type": "stream",
     "text": [
      "converting for batch:  16\n",
      "\n",
      "*********\n",
      "\n",
      "\n"
     ]
    },
    {
     "name": "stderr",
     "output_type": "stream",
     "text": [
      "Converting Frontend ==> MIL Ops:  98%|█████████▊| 46/47 [00:00<00:00, 3265.43 ops/s]\n",
      "Running MIL Common passes: 100%|██████████| 33/33 [00:00<00:00, 2341.92 passes/s]\n",
      "Running MIL Clean up passes: 100%|██████████| 8/8 [00:00<00:00, 588.24 passes/s]\n",
      "Translating MIL ==> NeuralNetwork Ops: 100%|██████████| 45/45 [00:00<00:00, 2646.29 ops/s]\n"
     ]
    },
    {
     "name": "stdout",
     "output_type": "stream",
     "text": [
      "converting for batch:  17\n",
      "\n",
      "*********\n",
      "\n",
      "\n"
     ]
    },
    {
     "name": "stderr",
     "output_type": "stream",
     "text": [
      "Converting Frontend ==> MIL Ops:  98%|█████████▊| 46/47 [00:00<00:00, 3245.87 ops/s]\n",
      "Running MIL Common passes: 100%|██████████| 33/33 [00:00<00:00, 2756.88 passes/s]\n",
      "Running MIL Clean up passes: 100%|██████████| 8/8 [00:00<00:00, 918.70 passes/s]\n",
      "Translating MIL ==> NeuralNetwork Ops: 100%|██████████| 45/45 [00:00<00:00, 3369.52 ops/s]\n"
     ]
    },
    {
     "name": "stdout",
     "output_type": "stream",
     "text": [
      "converting for batch:  18\n",
      "\n",
      "*********\n",
      "\n",
      "\n"
     ]
    },
    {
     "name": "stderr",
     "output_type": "stream",
     "text": [
      "Converting Frontend ==> MIL Ops:  98%|█████████▊| 46/47 [00:00<00:00, 2622.26 ops/s]\n",
      "Running MIL Common passes: 100%|██████████| 33/33 [00:00<00:00, 1689.17 passes/s]\n",
      "Running MIL Clean up passes: 100%|██████████| 8/8 [00:00<00:00, 747.12 passes/s]\n",
      "Translating MIL ==> NeuralNetwork Ops: 100%|██████████| 45/45 [00:00<00:00, 1709.85 ops/s]\n"
     ]
    },
    {
     "name": "stdout",
     "output_type": "stream",
     "text": [
      "converting for batch:  19\n",
      "\n",
      "*********\n",
      "\n",
      "\n"
     ]
    },
    {
     "name": "stderr",
     "output_type": "stream",
     "text": [
      "Converting Frontend ==> MIL Ops:  98%|█████████▊| 46/47 [00:00<00:00, 2677.69 ops/s]\n",
      "Running MIL Common passes: 100%|██████████| 33/33 [00:00<00:00, 1369.47 passes/s]\n",
      "Running MIL Clean up passes: 100%|██████████| 8/8 [00:00<00:00, 496.31 passes/s]\n",
      "Translating MIL ==> NeuralNetwork Ops: 100%|██████████| 45/45 [00:00<00:00, 1796.40 ops/s]\n"
     ]
    },
    {
     "name": "stdout",
     "output_type": "stream",
     "text": [
      "converting for batch:  20\n",
      "\n",
      "*********\n",
      "\n",
      "\n"
     ]
    },
    {
     "name": "stderr",
     "output_type": "stream",
     "text": [
      "Converting Frontend ==> MIL Ops:  98%|█████████▊| 46/47 [00:00<00:00, 1876.46 ops/s]\n",
      "Running MIL Common passes: 100%|██████████| 33/33 [00:00<00:00, 1297.33 passes/s]\n",
      "Running MIL Clean up passes: 100%|██████████| 8/8 [00:00<00:00, 664.62 passes/s]\n",
      "Translating MIL ==> NeuralNetwork Ops: 100%|██████████| 45/45 [00:00<00:00, 2587.51 ops/s]\n"
     ]
    },
    {
     "name": "stdout",
     "output_type": "stream",
     "text": [
      "Conversion complete in 0m 23s\n",
      "################ Batch size:  250\n",
      "converting for batch:  0\n",
      "\n",
      "*********\n",
      "\n",
      "\n"
     ]
    },
    {
     "name": "stderr",
     "output_type": "stream",
     "text": [
      "Converting Frontend ==> MIL Ops:  98%|█████████▊| 46/47 [00:00<00:00, 3338.43 ops/s]\n",
      "Running MIL Common passes: 100%|██████████| 33/33 [00:00<00:00, 2861.41 passes/s]\n",
      "Running MIL Clean up passes: 100%|██████████| 8/8 [00:00<00:00, 586.86 passes/s]\n",
      "Translating MIL ==> NeuralNetwork Ops: 100%|██████████| 45/45 [00:00<00:00, 1514.94 ops/s]\n"
     ]
    },
    {
     "name": "stdout",
     "output_type": "stream",
     "text": [
      "converting for batch:  1\n",
      "\n",
      "*********\n",
      "\n",
      "\n"
     ]
    },
    {
     "name": "stderr",
     "output_type": "stream",
     "text": [
      "Converting Frontend ==> MIL Ops:  98%|█████████▊| 46/47 [00:00<00:00, 1805.61 ops/s]\n",
      "Running MIL Common passes: 100%|██████████| 33/33 [00:00<00:00, 1046.89 passes/s]\n",
      "Running MIL Clean up passes: 100%|██████████| 8/8 [00:00<00:00, 519.57 passes/s]\n",
      "Translating MIL ==> NeuralNetwork Ops: 100%|██████████| 45/45 [00:00<00:00, 2635.13 ops/s]\n"
     ]
    },
    {
     "name": "stdout",
     "output_type": "stream",
     "text": [
      "converting for batch:  2\n",
      "\n",
      "*********\n",
      "\n",
      "\n"
     ]
    },
    {
     "name": "stderr",
     "output_type": "stream",
     "text": [
      "Converting Frontend ==> MIL Ops:  98%|█████████▊| 46/47 [00:00<00:00, 3609.76 ops/s]\n",
      "Running MIL Common passes: 100%|██████████| 33/33 [00:00<00:00, 1834.66 passes/s]\n",
      "Running MIL Clean up passes: 100%|██████████| 8/8 [00:00<00:00, 629.18 passes/s]\n",
      "Translating MIL ==> NeuralNetwork Ops: 100%|██████████| 45/45 [00:00<00:00, 2890.90 ops/s]\n"
     ]
    },
    {
     "name": "stdout",
     "output_type": "stream",
     "text": [
      "converting for batch:  3\n",
      "\n",
      "*********\n",
      "\n",
      "\n"
     ]
    },
    {
     "name": "stderr",
     "output_type": "stream",
     "text": [
      "Converting Frontend ==> MIL Ops:  98%|█████████▊| 46/47 [00:00<00:00, 3249.04 ops/s]\n",
      "Running MIL Common passes: 100%|██████████| 33/33 [00:00<00:00, 2845.58 passes/s]\n",
      "Running MIL Clean up passes: 100%|██████████| 8/8 [00:00<00:00, 516.33 passes/s]\n",
      "Translating MIL ==> NeuralNetwork Ops: 100%|██████████| 45/45 [00:00<00:00, 2387.92 ops/s]\n"
     ]
    },
    {
     "name": "stdout",
     "output_type": "stream",
     "text": [
      "converting for batch:  4\n",
      "\n",
      "*********\n",
      "\n",
      "\n"
     ]
    },
    {
     "name": "stderr",
     "output_type": "stream",
     "text": [
      "Converting Frontend ==> MIL Ops:  98%|█████████▊| 46/47 [00:00<00:00, 3521.15 ops/s]\n",
      "Running MIL Common passes: 100%|██████████| 33/33 [00:00<00:00, 2355.35 passes/s]\n",
      "Running MIL Clean up passes: 100%|██████████| 8/8 [00:00<00:00, 368.36 passes/s]\n",
      "Translating MIL ==> NeuralNetwork Ops: 100%|██████████| 45/45 [00:00<00:00, 1940.31 ops/s]\n"
     ]
    },
    {
     "name": "stdout",
     "output_type": "stream",
     "text": [
      "converting for batch:  5\n",
      "\n",
      "*********\n",
      "\n",
      "\n"
     ]
    },
    {
     "name": "stderr",
     "output_type": "stream",
     "text": [
      "Converting Frontend ==> MIL Ops:  98%|█████████▊| 46/47 [00:00<00:00, 2703.99 ops/s]\n",
      "Running MIL Common passes: 100%|██████████| 33/33 [00:00<00:00, 1313.32 passes/s]\n",
      "Running MIL Clean up passes: 100%|██████████| 8/8 [00:00<00:00, 429.74 passes/s]\n",
      "Translating MIL ==> NeuralNetwork Ops: 100%|██████████| 45/45 [00:00<00:00, 2799.89 ops/s]\n"
     ]
    },
    {
     "name": "stdout",
     "output_type": "stream",
     "text": [
      "converting for batch:  6\n",
      "\n",
      "*********\n",
      "\n",
      "\n"
     ]
    },
    {
     "name": "stderr",
     "output_type": "stream",
     "text": [
      "Converting Frontend ==> MIL Ops:  98%|█████████▊| 46/47 [00:00<00:00, 1362.22 ops/s]\n",
      "Running MIL Common passes: 100%|██████████| 33/33 [00:00<00:00, 1857.48 passes/s]\n",
      "Running MIL Clean up passes: 100%|██████████| 8/8 [00:00<00:00, 491.31 passes/s]\n",
      "Translating MIL ==> NeuralNetwork Ops: 100%|██████████| 45/45 [00:00<00:00, 2439.15 ops/s]\n"
     ]
    },
    {
     "name": "stdout",
     "output_type": "stream",
     "text": [
      "converting for batch:  7\n",
      "\n",
      "*********\n",
      "\n",
      "\n"
     ]
    },
    {
     "name": "stderr",
     "output_type": "stream",
     "text": [
      "Converting Frontend ==> MIL Ops:  98%|█████████▊| 46/47 [00:00<00:00, 4005.27 ops/s]\n",
      "Running MIL Common passes: 100%|██████████| 33/33 [00:00<00:00, 1577.20 passes/s]\n",
      "Running MIL Clean up passes: 100%|██████████| 8/8 [00:00<00:00, 708.27 passes/s]\n",
      "Translating MIL ==> NeuralNetwork Ops: 100%|██████████| 45/45 [00:00<00:00, 2023.00 ops/s]\n"
     ]
    },
    {
     "name": "stdout",
     "output_type": "stream",
     "text": [
      "converting for batch:  8\n",
      "\n",
      "*********\n",
      "\n",
      "\n"
     ]
    },
    {
     "name": "stderr",
     "output_type": "stream",
     "text": [
      "Converting Frontend ==> MIL Ops:  98%|█████████▊| 46/47 [00:00<00:00, 3535.22 ops/s]\n",
      "Running MIL Common passes: 100%|██████████| 33/33 [00:00<00:00, 2582.80 passes/s]\n",
      "Running MIL Clean up passes: 100%|██████████| 8/8 [00:00<00:00, 404.80 passes/s]\n",
      "Translating MIL ==> NeuralNetwork Ops: 100%|██████████| 45/45 [00:00<00:00, 2278.71 ops/s]\n"
     ]
    },
    {
     "name": "stdout",
     "output_type": "stream",
     "text": [
      "converting for batch:  9\n",
      "\n",
      "*********\n",
      "\n",
      "\n"
     ]
    },
    {
     "name": "stderr",
     "output_type": "stream",
     "text": [
      "Converting Frontend ==> MIL Ops:  98%|█████████▊| 46/47 [00:00<00:00, 2808.29 ops/s]\n",
      "Running MIL Common passes: 100%|██████████| 33/33 [00:00<00:00, 1728.01 passes/s]\n",
      "Running MIL Clean up passes: 100%|██████████| 8/8 [00:00<00:00, 535.94 passes/s]\n",
      "Translating MIL ==> NeuralNetwork Ops: 100%|██████████| 45/45 [00:00<00:00, 2333.94 ops/s]\n"
     ]
    },
    {
     "name": "stdout",
     "output_type": "stream",
     "text": [
      "converting for batch:  10\n",
      "\n",
      "*********\n",
      "\n",
      "\n"
     ]
    },
    {
     "name": "stderr",
     "output_type": "stream",
     "text": [
      "Converting Frontend ==> MIL Ops:  98%|█████████▊| 46/47 [00:00<00:00, 3719.29 ops/s]\n",
      "Running MIL Common passes: 100%|██████████| 33/33 [00:00<00:00, 2049.94 passes/s]\n",
      "Running MIL Clean up passes: 100%|██████████| 8/8 [00:00<00:00, 449.43 passes/s]\n",
      "Translating MIL ==> NeuralNetwork Ops: 100%|██████████| 45/45 [00:00<00:00, 2165.44 ops/s]\n"
     ]
    },
    {
     "name": "stdout",
     "output_type": "stream",
     "text": [
      "converting for batch:  11\n",
      "\n",
      "*********\n",
      "\n",
      "\n"
     ]
    },
    {
     "name": "stderr",
     "output_type": "stream",
     "text": [
      "Converting Frontend ==> MIL Ops:  98%|█████████▊| 46/47 [00:00<00:00, 3626.59 ops/s]\n",
      "Running MIL Common passes: 100%|██████████| 33/33 [00:00<00:00, 1945.19 passes/s]\n",
      "Running MIL Clean up passes: 100%|██████████| 8/8 [00:00<00:00, 423.51 passes/s]\n",
      "Translating MIL ==> NeuralNetwork Ops: 100%|██████████| 45/45 [00:00<00:00, 2075.82 ops/s]\n"
     ]
    },
    {
     "name": "stdout",
     "output_type": "stream",
     "text": [
      "converting for batch:  12\n",
      "\n",
      "*********\n",
      "\n",
      "\n"
     ]
    },
    {
     "name": "stderr",
     "output_type": "stream",
     "text": [
      "Converting Frontend ==> MIL Ops:  98%|█████████▊| 46/47 [00:00<00:00, 2961.22 ops/s]\n",
      "Running MIL Common passes: 100%|██████████| 33/33 [00:00<00:00, 1642.44 passes/s]\n",
      "Running MIL Clean up passes: 100%|██████████| 8/8 [00:00<00:00, 484.96 passes/s]\n",
      "Translating MIL ==> NeuralNetwork Ops: 100%|██████████| 45/45 [00:00<00:00, 2611.29 ops/s]\n"
     ]
    },
    {
     "name": "stdout",
     "output_type": "stream",
     "text": [
      "converting for batch:  13\n",
      "\n",
      "*********\n",
      "\n",
      "\n"
     ]
    },
    {
     "name": "stderr",
     "output_type": "stream",
     "text": [
      "Converting Frontend ==> MIL Ops:  98%|█████████▊| 46/47 [00:00<00:00, 3466.18 ops/s]\n",
      "Running MIL Common passes: 100%|██████████| 33/33 [00:00<00:00, 2035.80 passes/s]\n",
      "Running MIL Clean up passes: 100%|██████████| 8/8 [00:00<00:00, 238.38 passes/s]\n",
      "Translating MIL ==> NeuralNetwork Ops: 100%|██████████| 45/45 [00:00<00:00, 2493.21 ops/s]\n"
     ]
    },
    {
     "name": "stdout",
     "output_type": "stream",
     "text": [
      "converting for batch:  14\n",
      "\n",
      "*********\n",
      "\n",
      "\n"
     ]
    },
    {
     "name": "stderr",
     "output_type": "stream",
     "text": [
      "Converting Frontend ==> MIL Ops:  98%|█████████▊| 46/47 [00:00<00:00, 3935.98 ops/s]\n",
      "Running MIL Common passes: 100%|██████████| 33/33 [00:00<00:00, 1945.52 passes/s]\n",
      "Running MIL Clean up passes: 100%|██████████| 8/8 [00:00<00:00, 467.72 passes/s]\n",
      "Translating MIL ==> NeuralNetwork Ops: 100%|██████████| 45/45 [00:00<00:00, 2808.10 ops/s]\n"
     ]
    },
    {
     "name": "stdout",
     "output_type": "stream",
     "text": [
      "converting for batch:  15\n",
      "\n",
      "*********\n",
      "\n",
      "\n"
     ]
    },
    {
     "name": "stderr",
     "output_type": "stream",
     "text": [
      "Converting Frontend ==> MIL Ops:  98%|█████████▊| 46/47 [00:00<00:00, 3748.12 ops/s]\n",
      "Running MIL Common passes: 100%|██████████| 33/33 [00:00<00:00, 2010.72 passes/s]\n",
      "Running MIL Clean up passes: 100%|██████████| 8/8 [00:00<00:00, 460.03 passes/s]\n",
      "Translating MIL ==> NeuralNetwork Ops: 100%|██████████| 45/45 [00:00<00:00, 2193.09 ops/s]\n"
     ]
    },
    {
     "name": "stdout",
     "output_type": "stream",
     "text": [
      "converting for batch:  16\n",
      "\n",
      "*********\n",
      "\n",
      "\n"
     ]
    },
    {
     "name": "stderr",
     "output_type": "stream",
     "text": [
      "Converting Frontend ==> MIL Ops:  98%|█████████▊| 46/47 [00:00<00:00, 3862.62 ops/s]\n",
      "Running MIL Common passes: 100%|██████████| 33/33 [00:00<00:00, 2554.58 passes/s]\n",
      "Running MIL Clean up passes: 100%|██████████| 8/8 [00:00<00:00, 377.34 passes/s]\n",
      "Translating MIL ==> NeuralNetwork Ops: 100%|██████████| 45/45 [00:00<00:00, 1966.86 ops/s]\n"
     ]
    },
    {
     "name": "stdout",
     "output_type": "stream",
     "text": [
      "converting for batch:  17\n",
      "\n",
      "*********\n",
      "\n",
      "\n"
     ]
    },
    {
     "name": "stderr",
     "output_type": "stream",
     "text": [
      "Converting Frontend ==> MIL Ops:  98%|█████████▊| 46/47 [00:00<00:00, 3027.48 ops/s]\n",
      "Running MIL Common passes: 100%|██████████| 33/33 [00:00<00:00, 1968.37 passes/s]\n",
      "Running MIL Clean up passes: 100%|██████████| 8/8 [00:00<00:00, 476.82 passes/s]\n",
      "Translating MIL ==> NeuralNetwork Ops: 100%|██████████| 45/45 [00:00<00:00, 2047.22 ops/s]\n"
     ]
    },
    {
     "name": "stdout",
     "output_type": "stream",
     "text": [
      "converting for batch:  18\n",
      "\n",
      "*********\n",
      "\n",
      "\n"
     ]
    },
    {
     "name": "stderr",
     "output_type": "stream",
     "text": [
      "Converting Frontend ==> MIL Ops:  98%|█████████▊| 46/47 [00:00<00:00, 2814.56 ops/s]\n",
      "Running MIL Common passes: 100%|██████████| 33/33 [00:00<00:00, 2048.79 passes/s]\n",
      "Running MIL Clean up passes: 100%|██████████| 8/8 [00:00<00:00, 552.71 passes/s]\n",
      "Translating MIL ==> NeuralNetwork Ops: 100%|██████████| 45/45 [00:00<00:00, 2311.62 ops/s]\n"
     ]
    },
    {
     "name": "stdout",
     "output_type": "stream",
     "text": [
      "converting for batch:  19\n",
      "\n",
      "*********\n",
      "\n",
      "\n"
     ]
    },
    {
     "name": "stderr",
     "output_type": "stream",
     "text": [
      "Converting Frontend ==> MIL Ops:  98%|█████████▊| 46/47 [00:00<00:00, 3363.52 ops/s]\n",
      "Running MIL Common passes: 100%|██████████| 33/33 [00:00<00:00, 2162.25 passes/s]\n",
      "Running MIL Clean up passes: 100%|██████████| 8/8 [00:00<00:00, 428.08 passes/s]\n",
      "Translating MIL ==> NeuralNetwork Ops: 100%|██████████| 45/45 [00:00<00:00, 2262.00 ops/s]\n"
     ]
    },
    {
     "name": "stdout",
     "output_type": "stream",
     "text": [
      "converting for batch:  20\n",
      "\n",
      "*********\n",
      "\n",
      "\n"
     ]
    },
    {
     "name": "stderr",
     "output_type": "stream",
     "text": [
      "Converting Frontend ==> MIL Ops:  98%|█████████▊| 46/47 [00:00<00:00, 2815.01 ops/s]\n",
      "Running MIL Common passes: 100%|██████████| 33/33 [00:00<00:00, 1739.48 passes/s]\n",
      "Running MIL Clean up passes: 100%|██████████| 8/8 [00:00<00:00, 667.78 passes/s]\n",
      "Translating MIL ==> NeuralNetwork Ops: 100%|██████████| 45/45 [00:00<00:00, 2442.59 ops/s]\n"
     ]
    },
    {
     "name": "stdout",
     "output_type": "stream",
     "text": [
      "Conversion complete in 0m 24s\n",
      "################ Batch size:  300\n",
      "converting for batch:  0\n",
      "\n",
      "*********\n",
      "\n",
      "\n"
     ]
    },
    {
     "name": "stderr",
     "output_type": "stream",
     "text": [
      "Converting Frontend ==> MIL Ops:  98%|█████████▊| 46/47 [00:00<00:00, 3366.51 ops/s]\n",
      "Running MIL Common passes: 100%|██████████| 33/33 [00:00<00:00, 2608.89 passes/s]\n",
      "Running MIL Clean up passes: 100%|██████████| 8/8 [00:00<00:00, 665.84 passes/s]\n",
      "Translating MIL ==> NeuralNetwork Ops: 100%|██████████| 45/45 [00:00<00:00, 2143.67 ops/s]\n"
     ]
    },
    {
     "name": "stdout",
     "output_type": "stream",
     "text": [
      "converting for batch:  1\n",
      "\n",
      "*********\n",
      "\n",
      "\n"
     ]
    },
    {
     "name": "stderr",
     "output_type": "stream",
     "text": [
      "Converting Frontend ==> MIL Ops:  98%|█████████▊| 46/47 [00:00<00:00, 2114.95 ops/s]\n",
      "Running MIL Common passes: 100%|██████████| 33/33 [00:00<00:00, 1995.16 passes/s]\n",
      "Running MIL Clean up passes: 100%|██████████| 8/8 [00:00<00:00, 506.40 passes/s]\n",
      "Translating MIL ==> NeuralNetwork Ops: 100%|██████████| 45/45 [00:00<00:00, 2759.37 ops/s]\n"
     ]
    },
    {
     "name": "stdout",
     "output_type": "stream",
     "text": [
      "converting for batch:  2\n",
      "\n",
      "*********\n",
      "\n",
      "\n"
     ]
    },
    {
     "name": "stderr",
     "output_type": "stream",
     "text": [
      "Converting Frontend ==> MIL Ops:  98%|█████████▊| 46/47 [00:00<00:00, 3446.18 ops/s]\n",
      "Running MIL Common passes: 100%|██████████| 33/33 [00:00<00:00, 1932.21 passes/s]\n",
      "Running MIL Clean up passes: 100%|██████████| 8/8 [00:00<00:00, 582.04 passes/s]\n",
      "Translating MIL ==> NeuralNetwork Ops: 100%|██████████| 45/45 [00:00<00:00, 2248.98 ops/s]\n"
     ]
    },
    {
     "name": "stdout",
     "output_type": "stream",
     "text": [
      "converting for batch:  3\n",
      "\n",
      "*********\n",
      "\n",
      "\n"
     ]
    },
    {
     "name": "stderr",
     "output_type": "stream",
     "text": [
      "Converting Frontend ==> MIL Ops:  98%|█████████▊| 46/47 [00:00<00:00, 4344.47 ops/s]\n",
      "Running MIL Common passes: 100%|██████████| 33/33 [00:00<00:00, 2170.93 passes/s]\n",
      "Running MIL Clean up passes: 100%|██████████| 8/8 [00:00<00:00, 544.78 passes/s]\n",
      "Translating MIL ==> NeuralNetwork Ops: 100%|██████████| 45/45 [00:00<00:00, 2133.49 ops/s]\n"
     ]
    },
    {
     "name": "stdout",
     "output_type": "stream",
     "text": [
      "converting for batch:  4\n",
      "\n",
      "*********\n",
      "\n",
      "\n"
     ]
    },
    {
     "name": "stderr",
     "output_type": "stream",
     "text": [
      "Converting Frontend ==> MIL Ops:  98%|█████████▊| 46/47 [00:00<00:00, 3736.14 ops/s]\n",
      "Running MIL Common passes: 100%|██████████| 33/33 [00:00<00:00, 2003.18 passes/s]\n",
      "Running MIL Clean up passes: 100%|██████████| 8/8 [00:00<00:00, 567.54 passes/s]\n",
      "Translating MIL ==> NeuralNetwork Ops: 100%|██████████| 45/45 [00:00<00:00, 1195.76 ops/s]\n"
     ]
    },
    {
     "name": "stdout",
     "output_type": "stream",
     "text": [
      "converting for batch:  5\n",
      "\n",
      "*********\n",
      "\n",
      "\n"
     ]
    },
    {
     "name": "stderr",
     "output_type": "stream",
     "text": [
      "Converting Frontend ==> MIL Ops:  98%|█████████▊| 46/47 [00:00<00:00, 3065.57 ops/s]\n",
      "Running MIL Common passes: 100%|██████████| 33/33 [00:00<00:00, 1649.41 passes/s]\n",
      "Running MIL Clean up passes: 100%|██████████| 8/8 [00:00<00:00, 642.88 passes/s]\n",
      "Translating MIL ==> NeuralNetwork Ops: 100%|██████████| 45/45 [00:00<00:00, 2268.14 ops/s]\n"
     ]
    },
    {
     "name": "stdout",
     "output_type": "stream",
     "text": [
      "converting for batch:  6\n",
      "\n",
      "*********\n",
      "\n",
      "\n"
     ]
    },
    {
     "name": "stderr",
     "output_type": "stream",
     "text": [
      "Converting Frontend ==> MIL Ops:  98%|█████████▊| 46/47 [00:00<00:00, 4221.65 ops/s]\n",
      "Running MIL Common passes: 100%|██████████| 33/33 [00:00<00:00, 2214.88 passes/s]\n",
      "Running MIL Clean up passes: 100%|██████████| 8/8 [00:00<00:00, 194.53 passes/s]\n",
      "Translating MIL ==> NeuralNetwork Ops: 100%|██████████| 45/45 [00:00<00:00, 2701.59 ops/s]\n"
     ]
    },
    {
     "name": "stdout",
     "output_type": "stream",
     "text": [
      "converting for batch:  7\n",
      "\n",
      "*********\n",
      "\n",
      "\n"
     ]
    },
    {
     "name": "stderr",
     "output_type": "stream",
     "text": [
      "Converting Frontend ==> MIL Ops:  98%|█████████▊| 46/47 [00:00<00:00, 3996.89 ops/s]\n",
      "Running MIL Common passes: 100%|██████████| 33/33 [00:00<00:00, 1771.52 passes/s]\n",
      "Running MIL Clean up passes: 100%|██████████| 8/8 [00:00<00:00, 498.20 passes/s]\n",
      "Translating MIL ==> NeuralNetwork Ops: 100%|██████████| 45/45 [00:00<00:00, 2570.84 ops/s]\n"
     ]
    },
    {
     "name": "stdout",
     "output_type": "stream",
     "text": [
      "converting for batch:  8\n",
      "\n",
      "*********\n",
      "\n",
      "\n"
     ]
    },
    {
     "name": "stderr",
     "output_type": "stream",
     "text": [
      "Converting Frontend ==> MIL Ops:  98%|█████████▊| 46/47 [00:00<00:00, 3341.09 ops/s]\n",
      "Running MIL Common passes: 100%|██████████| 33/33 [00:00<00:00, 2031.65 passes/s]\n",
      "Running MIL Clean up passes: 100%|██████████| 8/8 [00:00<00:00, 607.43 passes/s]\n",
      "Translating MIL ==> NeuralNetwork Ops: 100%|██████████| 45/45 [00:00<00:00, 2718.00 ops/s]\n"
     ]
    },
    {
     "name": "stdout",
     "output_type": "stream",
     "text": [
      "converting for batch:  9\n",
      "\n",
      "*********\n",
      "\n",
      "\n"
     ]
    },
    {
     "name": "stderr",
     "output_type": "stream",
     "text": [
      "Converting Frontend ==> MIL Ops:  98%|█████████▊| 46/47 [00:00<00:00, 4267.03 ops/s]\n",
      "Running MIL Common passes: 100%|██████████| 33/33 [00:00<00:00, 2408.93 passes/s]\n",
      "Running MIL Clean up passes: 100%|██████████| 8/8 [00:00<00:00, 768.56 passes/s]\n",
      "Translating MIL ==> NeuralNetwork Ops: 100%|██████████| 45/45 [00:00<00:00, 1915.15 ops/s]\n"
     ]
    },
    {
     "name": "stdout",
     "output_type": "stream",
     "text": [
      "converting for batch:  10\n",
      "\n",
      "*********\n",
      "\n",
      "\n"
     ]
    },
    {
     "name": "stderr",
     "output_type": "stream",
     "text": [
      "Converting Frontend ==> MIL Ops:  98%|█████████▊| 46/47 [00:00<00:00, 3552.40 ops/s]\n",
      "Running MIL Common passes: 100%|██████████| 33/33 [00:00<00:00, 1442.11 passes/s]\n",
      "Running MIL Clean up passes: 100%|██████████| 8/8 [00:00<00:00, 494.63 passes/s]\n",
      "Translating MIL ==> NeuralNetwork Ops: 100%|██████████| 45/45 [00:00<00:00, 2290.30 ops/s]\n"
     ]
    },
    {
     "name": "stdout",
     "output_type": "stream",
     "text": [
      "converting for batch:  11\n",
      "\n",
      "*********\n",
      "\n",
      "\n"
     ]
    },
    {
     "name": "stderr",
     "output_type": "stream",
     "text": [
      "Converting Frontend ==> MIL Ops:  98%|█████████▊| 46/47 [00:00<00:00, 3589.81 ops/s]\n",
      "Running MIL Common passes: 100%|██████████| 33/33 [00:00<00:00, 2066.90 passes/s]\n",
      "Running MIL Clean up passes: 100%|██████████| 8/8 [00:00<00:00, 583.69 passes/s]\n",
      "Translating MIL ==> NeuralNetwork Ops: 100%|██████████| 45/45 [00:00<00:00, 2197.27 ops/s]\n"
     ]
    },
    {
     "name": "stdout",
     "output_type": "stream",
     "text": [
      "converting for batch:  12\n",
      "\n",
      "*********\n",
      "\n",
      "\n"
     ]
    },
    {
     "name": "stderr",
     "output_type": "stream",
     "text": [
      "Converting Frontend ==> MIL Ops:  98%|█████████▊| 46/47 [00:00<00:00, 3116.12 ops/s]\n",
      "Running MIL Common passes: 100%|██████████| 33/33 [00:00<00:00, 1654.06 passes/s]\n",
      "Running MIL Clean up passes: 100%|██████████| 8/8 [00:00<00:00, 523.22 passes/s]\n",
      "Translating MIL ==> NeuralNetwork Ops: 100%|██████████| 45/45 [00:00<00:00, 2392.31 ops/s]\n"
     ]
    },
    {
     "name": "stdout",
     "output_type": "stream",
     "text": [
      "converting for batch:  13\n",
      "\n",
      "*********\n",
      "\n",
      "\n"
     ]
    },
    {
     "name": "stderr",
     "output_type": "stream",
     "text": [
      "Converting Frontend ==> MIL Ops:  98%|█████████▊| 46/47 [00:00<00:00, 4336.85 ops/s]\n",
      "Running MIL Common passes: 100%|██████████| 33/33 [00:00<00:00, 2322.35 passes/s]\n",
      "Running MIL Clean up passes: 100%|██████████| 8/8 [00:00<00:00, 476.79 passes/s]\n",
      "Translating MIL ==> NeuralNetwork Ops: 100%|██████████| 45/45 [00:00<00:00, 2300.97 ops/s]\n"
     ]
    },
    {
     "name": "stdout",
     "output_type": "stream",
     "text": [
      "converting for batch:  14\n",
      "\n",
      "*********\n",
      "\n",
      "\n"
     ]
    },
    {
     "name": "stderr",
     "output_type": "stream",
     "text": [
      "Converting Frontend ==> MIL Ops:  98%|█████████▊| 46/47 [00:00<00:00, 3497.34 ops/s]\n",
      "Running MIL Common passes: 100%|██████████| 33/33 [00:00<00:00, 2134.37 passes/s]\n",
      "Running MIL Clean up passes: 100%|██████████| 8/8 [00:00<00:00, 294.91 passes/s]\n",
      "Translating MIL ==> NeuralNetwork Ops: 100%|██████████| 45/45 [00:00<00:00, 2837.65 ops/s]\n"
     ]
    },
    {
     "name": "stdout",
     "output_type": "stream",
     "text": [
      "converting for batch:  15\n",
      "\n",
      "*********\n",
      "\n",
      "\n"
     ]
    },
    {
     "name": "stderr",
     "output_type": "stream",
     "text": [
      "Converting Frontend ==> MIL Ops:  98%|█████████▊| 46/47 [00:00<00:00, 3360.82 ops/s]\n",
      "Running MIL Common passes: 100%|██████████| 33/33 [00:00<00:00, 1820.61 passes/s]\n",
      "Running MIL Clean up passes: 100%|██████████| 8/8 [00:00<00:00, 464.17 passes/s]\n",
      "Translating MIL ==> NeuralNetwork Ops: 100%|██████████| 45/45 [00:00<00:00, 2009.37 ops/s]\n"
     ]
    },
    {
     "name": "stdout",
     "output_type": "stream",
     "text": [
      "converting for batch:  16\n",
      "\n",
      "*********\n",
      "\n",
      "\n"
     ]
    },
    {
     "name": "stderr",
     "output_type": "stream",
     "text": [
      "Converting Frontend ==> MIL Ops:  98%|█████████▊| 46/47 [00:00<00:00, 4023.06 ops/s]\n",
      "Running MIL Common passes: 100%|██████████| 33/33 [00:00<00:00, 2109.46 passes/s]\n",
      "Running MIL Clean up passes: 100%|██████████| 8/8 [00:00<00:00, 400.54 passes/s]\n",
      "Translating MIL ==> NeuralNetwork Ops: 100%|██████████| 45/45 [00:00<00:00, 2532.52 ops/s]\n"
     ]
    },
    {
     "name": "stdout",
     "output_type": "stream",
     "text": [
      "converting for batch:  17\n",
      "\n",
      "*********\n",
      "\n",
      "\n"
     ]
    },
    {
     "name": "stderr",
     "output_type": "stream",
     "text": [
      "Converting Frontend ==> MIL Ops:  98%|█████████▊| 46/47 [00:00<00:00, 3404.29 ops/s]\n",
      "Running MIL Common passes: 100%|██████████| 33/33 [00:00<00:00, 2272.14 passes/s]\n",
      "Running MIL Clean up passes: 100%|██████████| 8/8 [00:00<00:00, 401.71 passes/s]\n",
      "Translating MIL ==> NeuralNetwork Ops: 100%|██████████| 45/45 [00:00<00:00, 2576.32 ops/s]\n"
     ]
    },
    {
     "name": "stdout",
     "output_type": "stream",
     "text": [
      "converting for batch:  18\n",
      "\n",
      "*********\n",
      "\n",
      "\n"
     ]
    },
    {
     "name": "stderr",
     "output_type": "stream",
     "text": [
      "Converting Frontend ==> MIL Ops:  98%|█████████▊| 46/47 [00:00<00:00, 2626.19 ops/s]\n",
      "Running MIL Common passes: 100%|██████████| 33/33 [00:00<00:00, 846.33 passes/s]\n",
      "Running MIL Clean up passes: 100%|██████████| 8/8 [00:00<00:00, 352.47 passes/s]\n",
      "Translating MIL ==> NeuralNetwork Ops: 100%|██████████| 45/45 [00:00<00:00, 2695.57 ops/s]\n"
     ]
    },
    {
     "name": "stdout",
     "output_type": "stream",
     "text": [
      "converting for batch:  19\n",
      "\n",
      "*********\n",
      "\n",
      "\n"
     ]
    },
    {
     "name": "stderr",
     "output_type": "stream",
     "text": [
      "Converting Frontend ==> MIL Ops:  98%|█████████▊| 46/47 [00:00<00:00, 3710.85 ops/s]\n",
      "Running MIL Common passes: 100%|██████████| 33/33 [00:00<00:00, 2773.34 passes/s]\n",
      "Running MIL Clean up passes: 100%|██████████| 8/8 [00:00<00:00, 678.72 passes/s]\n",
      "Translating MIL ==> NeuralNetwork Ops: 100%|██████████| 45/45 [00:00<00:00, 2304.14 ops/s]\n"
     ]
    },
    {
     "name": "stdout",
     "output_type": "stream",
     "text": [
      "converting for batch:  20\n",
      "\n",
      "*********\n",
      "\n",
      "\n"
     ]
    },
    {
     "name": "stderr",
     "output_type": "stream",
     "text": [
      "Converting Frontend ==> MIL Ops:  98%|█████████▊| 46/47 [00:00<00:00, 4048.56 ops/s]\n",
      "Running MIL Common passes: 100%|██████████| 33/33 [00:00<00:00, 1813.08 passes/s]\n",
      "Running MIL Clean up passes: 100%|██████████| 8/8 [00:00<00:00, 603.27 passes/s]\n",
      "Translating MIL ==> NeuralNetwork Ops: 100%|██████████| 45/45 [00:00<00:00, 2233.02 ops/s]\n"
     ]
    },
    {
     "name": "stdout",
     "output_type": "stream",
     "text": [
      "Conversion complete in 0m 26s\n",
      "################ Batch size:  350\n",
      "converting for batch:  0\n",
      "\n",
      "*********\n",
      "\n",
      "\n"
     ]
    },
    {
     "name": "stderr",
     "output_type": "stream",
     "text": [
      "Converting Frontend ==> MIL Ops:  98%|█████████▊| 46/47 [00:00<00:00, 3863.86 ops/s]\n",
      "Running MIL Common passes: 100%|██████████| 33/33 [00:00<00:00, 2472.84 passes/s]\n",
      "Running MIL Clean up passes: 100%|██████████| 8/8 [00:00<00:00, 660.62 passes/s]\n",
      "Translating MIL ==> NeuralNetwork Ops: 100%|██████████| 45/45 [00:00<00:00, 1774.87 ops/s]\n"
     ]
    },
    {
     "name": "stdout",
     "output_type": "stream",
     "text": [
      "converting for batch:  1\n",
      "\n",
      "*********\n",
      "\n",
      "\n"
     ]
    },
    {
     "name": "stderr",
     "output_type": "stream",
     "text": [
      "Converting Frontend ==> MIL Ops:  98%|█████████▊| 46/47 [00:00<00:00, 4011.85 ops/s]\n",
      "Running MIL Common passes: 100%|██████████| 33/33 [00:00<00:00, 1874.99 passes/s]\n",
      "Running MIL Clean up passes: 100%|██████████| 8/8 [00:00<00:00, 521.99 passes/s]\n",
      "Translating MIL ==> NeuralNetwork Ops: 100%|██████████| 45/45 [00:00<00:00, 1961.14 ops/s]\n"
     ]
    },
    {
     "name": "stdout",
     "output_type": "stream",
     "text": [
      "converting for batch:  2\n",
      "\n",
      "*********\n",
      "\n",
      "\n"
     ]
    },
    {
     "name": "stderr",
     "output_type": "stream",
     "text": [
      "Converting Frontend ==> MIL Ops:  98%|█████████▊| 46/47 [00:00<00:00, 3718.28 ops/s]\n",
      "Running MIL Common passes: 100%|██████████| 33/33 [00:00<00:00, 1662.65 passes/s]\n",
      "Running MIL Clean up passes: 100%|██████████| 8/8 [00:00<00:00, 519.41 passes/s]\n",
      "Translating MIL ==> NeuralNetwork Ops: 100%|██████████| 45/45 [00:00<00:00, 2025.82 ops/s]\n"
     ]
    },
    {
     "name": "stdout",
     "output_type": "stream",
     "text": [
      "converting for batch:  3\n",
      "\n",
      "*********\n",
      "\n",
      "\n"
     ]
    },
    {
     "name": "stderr",
     "output_type": "stream",
     "text": [
      "Converting Frontend ==> MIL Ops:  98%|█████████▊| 46/47 [00:00<00:00, 4208.94 ops/s]\n",
      "Running MIL Common passes: 100%|██████████| 33/33 [00:00<00:00, 2227.31 passes/s]\n",
      "Running MIL Clean up passes: 100%|██████████| 8/8 [00:00<00:00, 556.05 passes/s]\n",
      "Translating MIL ==> NeuralNetwork Ops: 100%|██████████| 45/45 [00:00<00:00, 2591.74 ops/s]\n"
     ]
    },
    {
     "name": "stdout",
     "output_type": "stream",
     "text": [
      "converting for batch:  4\n",
      "\n",
      "*********\n",
      "\n",
      "\n"
     ]
    },
    {
     "name": "stderr",
     "output_type": "stream",
     "text": [
      "Converting Frontend ==> MIL Ops:  98%|█████████▊| 46/47 [00:00<00:00, 2869.73 ops/s]\n",
      "Running MIL Common passes: 100%|██████████| 33/33 [00:00<00:00, 2038.83 passes/s]\n",
      "Running MIL Clean up passes: 100%|██████████| 8/8 [00:00<00:00, 584.24 passes/s]\n",
      "Translating MIL ==> NeuralNetwork Ops: 100%|██████████| 45/45 [00:00<00:00, 2081.01 ops/s]\n"
     ]
    },
    {
     "name": "stdout",
     "output_type": "stream",
     "text": [
      "converting for batch:  5\n",
      "\n",
      "*********\n",
      "\n",
      "\n"
     ]
    },
    {
     "name": "stderr",
     "output_type": "stream",
     "text": [
      "Converting Frontend ==> MIL Ops:  98%|█████████▊| 46/47 [00:00<00:00, 2440.18 ops/s]\n",
      "Running MIL Common passes: 100%|██████████| 33/33 [00:00<00:00, 1531.46 passes/s]\n",
      "Running MIL Clean up passes: 100%|██████████| 8/8 [00:00<00:00, 685.09 passes/s]\n",
      "Translating MIL ==> NeuralNetwork Ops: 100%|██████████| 45/45 [00:00<00:00, 2179.49 ops/s]\n"
     ]
    },
    {
     "name": "stdout",
     "output_type": "stream",
     "text": [
      "converting for batch:  6\n",
      "\n",
      "*********\n",
      "\n",
      "\n"
     ]
    },
    {
     "name": "stderr",
     "output_type": "stream",
     "text": [
      "Converting Frontend ==> MIL Ops:  98%|█████████▊| 46/47 [00:00<00:00, 3596.84 ops/s]\n",
      "Running MIL Common passes: 100%|██████████| 33/33 [00:00<00:00, 1203.89 passes/s]\n",
      "Running MIL Clean up passes: 100%|██████████| 8/8 [00:00<00:00, 434.17 passes/s]\n",
      "Translating MIL ==> NeuralNetwork Ops: 100%|██████████| 45/45 [00:00<00:00, 1151.98 ops/s]\n"
     ]
    },
    {
     "name": "stdout",
     "output_type": "stream",
     "text": [
      "converting for batch:  7\n",
      "\n",
      "*********\n",
      "\n",
      "\n"
     ]
    },
    {
     "name": "stderr",
     "output_type": "stream",
     "text": [
      "Converting Frontend ==> MIL Ops:  98%|█████████▊| 46/47 [00:00<00:00, 3665.10 ops/s]\n",
      "Running MIL Common passes: 100%|██████████| 33/33 [00:00<00:00, 2487.90 passes/s]\n",
      "Running MIL Clean up passes: 100%|██████████| 8/8 [00:00<00:00, 583.73 passes/s]\n",
      "Translating MIL ==> NeuralNetwork Ops: 100%|██████████| 45/45 [00:00<00:00, 2111.98 ops/s]\n"
     ]
    },
    {
     "name": "stdout",
     "output_type": "stream",
     "text": [
      "converting for batch:  8\n",
      "\n",
      "*********\n",
      "\n",
      "\n"
     ]
    },
    {
     "name": "stderr",
     "output_type": "stream",
     "text": [
      "Converting Frontend ==> MIL Ops:  98%|█████████▊| 46/47 [00:00<00:00, 2266.23 ops/s]\n",
      "Running MIL Common passes: 100%|██████████| 33/33 [00:00<00:00, 1056.40 passes/s]\n",
      "Running MIL Clean up passes: 100%|██████████| 8/8 [00:00<00:00, 402.53 passes/s]\n",
      "Translating MIL ==> NeuralNetwork Ops: 100%|██████████| 45/45 [00:00<00:00, 386.47 ops/s]\n"
     ]
    },
    {
     "name": "stdout",
     "output_type": "stream",
     "text": [
      "converting for batch:  9\n",
      "\n",
      "*********\n",
      "\n",
      "\n"
     ]
    },
    {
     "name": "stderr",
     "output_type": "stream",
     "text": [
      "Converting Frontend ==> MIL Ops:  98%|█████████▊| 46/47 [00:00<00:00, 3426.66 ops/s]\n",
      "Running MIL Common passes: 100%|██████████| 33/33 [00:00<00:00, 767.48 passes/s]\n",
      "Running MIL Clean up passes: 100%|██████████| 8/8 [00:00<00:00, 242.63 passes/s]\n",
      "Translating MIL ==> NeuralNetwork Ops: 100%|██████████| 45/45 [00:00<00:00, 932.11 ops/s]\n"
     ]
    },
    {
     "name": "stdout",
     "output_type": "stream",
     "text": [
      "converting for batch:  10\n",
      "\n",
      "*********\n",
      "\n",
      "\n"
     ]
    },
    {
     "name": "stderr",
     "output_type": "stream",
     "text": [
      "Converting Frontend ==> MIL Ops:  98%|█████████▊| 46/47 [00:00<00:00, 3321.76 ops/s]\n",
      "Running MIL Common passes: 100%|██████████| 33/33 [00:00<00:00, 2066.62 passes/s]\n",
      "Running MIL Clean up passes: 100%|██████████| 8/8 [00:00<00:00, 660.46 passes/s]\n",
      "Translating MIL ==> NeuralNetwork Ops: 100%|██████████| 45/45 [00:00<00:00, 2449.63 ops/s]\n"
     ]
    },
    {
     "name": "stdout",
     "output_type": "stream",
     "text": [
      "converting for batch:  11\n",
      "\n",
      "*********\n",
      "\n",
      "\n"
     ]
    },
    {
     "name": "stderr",
     "output_type": "stream",
     "text": [
      "Converting Frontend ==> MIL Ops:  98%|█████████▊| 46/47 [00:00<00:00, 2553.98 ops/s]\n",
      "Running MIL Common passes: 100%|██████████| 33/33 [00:00<00:00, 1919.27 passes/s]\n",
      "Running MIL Clean up passes: 100%|██████████| 8/8 [00:00<00:00, 542.00 passes/s]\n",
      "Translating MIL ==> NeuralNetwork Ops: 100%|██████████| 45/45 [00:00<00:00, 2237.47 ops/s]\n"
     ]
    },
    {
     "name": "stdout",
     "output_type": "stream",
     "text": [
      "converting for batch:  12\n",
      "\n",
      "*********\n",
      "\n",
      "\n"
     ]
    },
    {
     "name": "stderr",
     "output_type": "stream",
     "text": [
      "Converting Frontend ==> MIL Ops:  98%|█████████▊| 46/47 [00:00<00:00, 184.25 ops/s]\n",
      "Running MIL Common passes: 100%|██████████| 33/33 [00:00<00:00, 900.85 passes/s]\n",
      "Running MIL Clean up passes: 100%|██████████| 8/8 [00:00<00:00, 252.04 passes/s]\n",
      "Translating MIL ==> NeuralNetwork Ops: 100%|██████████| 45/45 [00:00<00:00, 325.83 ops/s]\n"
     ]
    },
    {
     "name": "stdout",
     "output_type": "stream",
     "text": [
      "converting for batch:  13\n",
      "\n",
      "*********\n",
      "\n",
      "\n"
     ]
    },
    {
     "name": "stderr",
     "output_type": "stream",
     "text": [
      "Converting Frontend ==> MIL Ops:  98%|█████████▊| 46/47 [00:00<00:00, 945.33 ops/s]\n",
      "Running MIL Common passes: 100%|██████████| 33/33 [00:00<00:00, 332.56 passes/s]\n",
      "Running MIL Clean up passes: 100%|██████████| 8/8 [00:00<00:00, 432.50 passes/s]\n",
      "Translating MIL ==> NeuralNetwork Ops: 100%|██████████| 45/45 [00:00<00:00, 673.41 ops/s]\n"
     ]
    },
    {
     "name": "stdout",
     "output_type": "stream",
     "text": [
      "converting for batch:  14\n",
      "\n",
      "*********\n",
      "\n",
      "\n"
     ]
    },
    {
     "name": "stderr",
     "output_type": "stream",
     "text": [
      "Converting Frontend ==> MIL Ops:  98%|█████████▊| 46/47 [00:00<00:00, 474.00 ops/s]\n",
      "Running MIL Common passes: 100%|██████████| 33/33 [00:00<00:00, 376.78 passes/s]\n",
      "Running MIL Clean up passes: 100%|██████████| 8/8 [00:00<00:00, 194.79 passes/s]\n",
      "Translating MIL ==> NeuralNetwork Ops: 100%|██████████| 45/45 [00:00<00:00, 1522.79 ops/s]\n"
     ]
    },
    {
     "name": "stdout",
     "output_type": "stream",
     "text": [
      "converting for batch:  15\n",
      "\n",
      "*********\n",
      "\n",
      "\n"
     ]
    },
    {
     "name": "stderr",
     "output_type": "stream",
     "text": [
      "Converting Frontend ==> MIL Ops:  98%|█████████▊| 46/47 [00:00<00:00, 1032.36 ops/s]\n",
      "Running MIL Common passes: 100%|██████████| 33/33 [00:00<00:00, 572.89 passes/s]\n",
      "Running MIL Clean up passes: 100%|██████████| 8/8 [00:00<00:00, 246.37 passes/s]\n",
      "Translating MIL ==> NeuralNetwork Ops: 100%|██████████| 45/45 [00:00<00:00, 871.61 ops/s]\n"
     ]
    },
    {
     "name": "stdout",
     "output_type": "stream",
     "text": [
      "converting for batch:  16\n",
      "\n",
      "*********\n",
      "\n",
      "\n"
     ]
    },
    {
     "name": "stderr",
     "output_type": "stream",
     "text": [
      "Converting Frontend ==> MIL Ops:  98%|█████████▊| 46/47 [00:00<00:00, 613.25 ops/s]\n",
      "Running MIL Common passes: 100%|██████████| 33/33 [00:00<00:00, 670.97 passes/s]\n",
      "Running MIL Clean up passes: 100%|██████████| 8/8 [00:00<00:00, 153.47 passes/s]\n",
      "Translating MIL ==> NeuralNetwork Ops: 100%|██████████| 45/45 [00:00<00:00, 1735.64 ops/s]\n"
     ]
    },
    {
     "name": "stdout",
     "output_type": "stream",
     "text": [
      "converting for batch:  17\n",
      "\n",
      "*********\n",
      "\n",
      "\n"
     ]
    },
    {
     "name": "stderr",
     "output_type": "stream",
     "text": [
      "Converting Frontend ==> MIL Ops:  98%|█████████▊| 46/47 [00:00<00:00, 638.13 ops/s]\n",
      "Running MIL Common passes: 100%|██████████| 33/33 [00:00<00:00, 305.85 passes/s]\n",
      "Running MIL Clean up passes: 100%|██████████| 8/8 [00:00<00:00, 206.23 passes/s]\n",
      "Translating MIL ==> NeuralNetwork Ops: 100%|██████████| 45/45 [00:00<00:00, 420.85 ops/s]\n"
     ]
    },
    {
     "name": "stdout",
     "output_type": "stream",
     "text": [
      "converting for batch:  18\n",
      "\n",
      "*********\n",
      "\n",
      "\n"
     ]
    },
    {
     "name": "stderr",
     "output_type": "stream",
     "text": [
      "Converting Frontend ==> MIL Ops:  98%|█████████▊| 46/47 [00:00<00:00, 524.39 ops/s]\n",
      "Running MIL Common passes: 100%|██████████| 33/33 [00:00<00:00, 671.91 passes/s]\n",
      "Running MIL Clean up passes: 100%|██████████| 8/8 [00:00<00:00, 235.79 passes/s]\n",
      "Translating MIL ==> NeuralNetwork Ops: 100%|██████████| 45/45 [00:00<00:00, 831.65 ops/s]\n"
     ]
    },
    {
     "name": "stdout",
     "output_type": "stream",
     "text": [
      "converting for batch:  19\n",
      "\n",
      "*********\n",
      "\n",
      "\n"
     ]
    },
    {
     "name": "stderr",
     "output_type": "stream",
     "text": [
      "Converting Frontend ==> MIL Ops:  98%|█████████▊| 46/47 [00:00<00:00, 261.09 ops/s]\n",
      "Running MIL Common passes: 100%|██████████| 33/33 [00:00<00:00, 160.54 passes/s]\n",
      "Running MIL Clean up passes: 100%|██████████| 8/8 [00:00<00:00, 248.75 passes/s]\n",
      "Translating MIL ==> NeuralNetwork Ops: 100%|██████████| 45/45 [00:00<00:00, 1750.63 ops/s]\n"
     ]
    },
    {
     "name": "stdout",
     "output_type": "stream",
     "text": [
      "converting for batch:  20\n",
      "\n",
      "*********\n",
      "\n",
      "\n"
     ]
    },
    {
     "name": "stderr",
     "output_type": "stream",
     "text": [
      "Converting Frontend ==> MIL Ops:  98%|█████████▊| 46/47 [00:00<00:00, 638.46 ops/s]\n",
      "Running MIL Common passes: 100%|██████████| 33/33 [00:00<00:00, 568.49 passes/s]\n",
      "Running MIL Clean up passes: 100%|██████████| 8/8 [00:00<00:00, 377.39 passes/s]\n",
      "Translating MIL ==> NeuralNetwork Ops: 100%|██████████| 45/45 [00:00<00:00, 1331.33 ops/s]\n"
     ]
    },
    {
     "name": "stdout",
     "output_type": "stream",
     "text": [
      "Conversion complete in 0m 49s\n",
      "################ Batch size:  400\n",
      "converting for batch:  0\n",
      "\n",
      "*********\n",
      "\n",
      "\n"
     ]
    },
    {
     "name": "stderr",
     "output_type": "stream",
     "text": [
      "Converting Frontend ==> MIL Ops:  98%|█████████▊| 46/47 [00:00<00:00, 486.62 ops/s]\n",
      "Running MIL Common passes: 100%|██████████| 33/33 [00:00<00:00, 476.72 passes/s]\n",
      "Running MIL Clean up passes: 100%|██████████| 8/8 [00:00<00:00, 138.57 passes/s]\n",
      "Translating MIL ==> NeuralNetwork Ops: 100%|██████████| 45/45 [00:00<00:00, 1621.57 ops/s]\n"
     ]
    },
    {
     "name": "stdout",
     "output_type": "stream",
     "text": [
      "converting for batch:  1\n",
      "\n",
      "*********\n",
      "\n",
      "\n"
     ]
    },
    {
     "name": "stderr",
     "output_type": "stream",
     "text": [
      "Converting Frontend ==> MIL Ops:  98%|█████████▊| 46/47 [00:00<00:00, 1487.28 ops/s]\n",
      "Running MIL Common passes: 100%|██████████| 33/33 [00:00<00:00, 458.26 passes/s]\n",
      "Running MIL Clean up passes: 100%|██████████| 8/8 [00:00<00:00, 298.68 passes/s]\n",
      "Translating MIL ==> NeuralNetwork Ops: 100%|██████████| 45/45 [00:00<00:00, 2285.42 ops/s]\n"
     ]
    },
    {
     "name": "stdout",
     "output_type": "stream",
     "text": [
      "converting for batch:  2\n",
      "\n",
      "*********\n",
      "\n",
      "\n"
     ]
    },
    {
     "name": "stderr",
     "output_type": "stream",
     "text": [
      "Converting Frontend ==> MIL Ops:  98%|█████████▊| 46/47 [00:00<00:00, 2979.46 ops/s]\n",
      "Running MIL Common passes: 100%|██████████| 33/33 [00:00<00:00, 1789.91 passes/s]\n",
      "Running MIL Clean up passes: 100%|██████████| 8/8 [00:00<00:00, 400.22 passes/s]\n",
      "Translating MIL ==> NeuralNetwork Ops: 100%|██████████| 45/45 [00:00<00:00, 925.53 ops/s]\n"
     ]
    },
    {
     "name": "stdout",
     "output_type": "stream",
     "text": [
      "converting for batch:  3\n",
      "\n",
      "*********\n",
      "\n",
      "\n"
     ]
    },
    {
     "name": "stderr",
     "output_type": "stream",
     "text": [
      "Converting Frontend ==> MIL Ops:  98%|█████████▊| 46/47 [00:00<00:00, 3437.46 ops/s]\n",
      "Running MIL Common passes: 100%|██████████| 33/33 [00:00<00:00, 1897.12 passes/s]\n",
      "Running MIL Clean up passes: 100%|██████████| 8/8 [00:00<00:00, 499.12 passes/s]\n",
      "Translating MIL ==> NeuralNetwork Ops: 100%|██████████| 45/45 [00:00<00:00, 408.04 ops/s]\n"
     ]
    },
    {
     "name": "stdout",
     "output_type": "stream",
     "text": [
      "converting for batch:  4\n",
      "\n",
      "*********\n",
      "\n",
      "\n"
     ]
    },
    {
     "name": "stderr",
     "output_type": "stream",
     "text": [
      "Converting Frontend ==> MIL Ops:  98%|█████████▊| 46/47 [00:00<00:00, 3433.61 ops/s]\n",
      "Running MIL Common passes: 100%|██████████| 33/33 [00:00<00:00, 2007.69 passes/s]\n",
      "Running MIL Clean up passes: 100%|██████████| 8/8 [00:00<00:00, 644.18 passes/s]\n",
      "Translating MIL ==> NeuralNetwork Ops: 100%|██████████| 45/45 [00:00<00:00, 2331.46 ops/s]\n"
     ]
    },
    {
     "name": "stdout",
     "output_type": "stream",
     "text": [
      "converting for batch:  5\n",
      "\n",
      "*********\n",
      "\n",
      "\n"
     ]
    },
    {
     "name": "stderr",
     "output_type": "stream",
     "text": [
      "Converting Frontend ==> MIL Ops:  98%|█████████▊| 46/47 [00:00<00:00, 2789.09 ops/s]\n",
      "Running MIL Common passes: 100%|██████████| 33/33 [00:00<00:00, 1842.74 passes/s]\n",
      "Running MIL Clean up passes: 100%|██████████| 8/8 [00:00<00:00, 568.70 passes/s]\n",
      "Translating MIL ==> NeuralNetwork Ops: 100%|██████████| 45/45 [00:00<00:00, 2223.21 ops/s]\n"
     ]
    },
    {
     "name": "stdout",
     "output_type": "stream",
     "text": [
      "converting for batch:  6\n",
      "\n",
      "*********\n",
      "\n",
      "\n"
     ]
    },
    {
     "name": "stderr",
     "output_type": "stream",
     "text": [
      "Converting Frontend ==> MIL Ops:  98%|█████████▊| 46/47 [00:00<00:00, 3556.46 ops/s]\n",
      "Running MIL Common passes: 100%|██████████| 33/33 [00:00<00:00, 2638.08 passes/s]\n",
      "Running MIL Clean up passes: 100%|██████████| 8/8 [00:00<00:00, 515.07 passes/s]\n",
      "Translating MIL ==> NeuralNetwork Ops: 100%|██████████| 45/45 [00:00<00:00, 1954.92 ops/s]\n"
     ]
    },
    {
     "name": "stdout",
     "output_type": "stream",
     "text": [
      "converting for batch:  7\n",
      "\n",
      "*********\n",
      "\n",
      "\n"
     ]
    },
    {
     "name": "stderr",
     "output_type": "stream",
     "text": [
      "Converting Frontend ==> MIL Ops:  98%|█████████▊| 46/47 [00:00<00:00, 2921.36 ops/s]\n",
      "Running MIL Common passes: 100%|██████████| 33/33 [00:00<00:00, 438.74 passes/s]\n",
      "Running MIL Clean up passes: 100%|██████████| 8/8 [00:00<00:00, 281.62 passes/s]\n",
      "Translating MIL ==> NeuralNetwork Ops: 100%|██████████| 45/45 [00:00<00:00, 1884.89 ops/s]\n"
     ]
    },
    {
     "name": "stdout",
     "output_type": "stream",
     "text": [
      "converting for batch:  8\n",
      "\n",
      "*********\n",
      "\n",
      "\n"
     ]
    },
    {
     "name": "stderr",
     "output_type": "stream",
     "text": [
      "Converting Frontend ==> MIL Ops:  98%|█████████▊| 46/47 [00:00<00:00, 2678.13 ops/s]\n",
      "Running MIL Common passes: 100%|██████████| 33/33 [00:00<00:00, 1629.74 passes/s]\n",
      "Running MIL Clean up passes: 100%|██████████| 8/8 [00:00<00:00, 529.32 passes/s]\n",
      "Translating MIL ==> NeuralNetwork Ops: 100%|██████████| 45/45 [00:00<00:00, 2000.08 ops/s]\n"
     ]
    },
    {
     "name": "stdout",
     "output_type": "stream",
     "text": [
      "converting for batch:  9\n",
      "\n",
      "*********\n",
      "\n",
      "\n"
     ]
    },
    {
     "name": "stderr",
     "output_type": "stream",
     "text": [
      "Converting Frontend ==> MIL Ops:  98%|█████████▊| 46/47 [00:00<00:00, 2549.32 ops/s]\n",
      "Running MIL Common passes: 100%|██████████| 33/33 [00:00<00:00, 1775.83 passes/s]\n",
      "Running MIL Clean up passes: 100%|██████████| 8/8 [00:00<00:00, 575.63 passes/s]\n",
      "Translating MIL ==> NeuralNetwork Ops: 100%|██████████| 45/45 [00:00<00:00, 2088.54 ops/s]\n"
     ]
    },
    {
     "name": "stdout",
     "output_type": "stream",
     "text": [
      "converting for batch:  10\n",
      "\n",
      "*********\n",
      "\n",
      "\n"
     ]
    },
    {
     "name": "stderr",
     "output_type": "stream",
     "text": [
      "Converting Frontend ==> MIL Ops:  98%|█████████▊| 46/47 [00:00<00:00, 1934.33 ops/s]\n",
      "Running MIL Common passes: 100%|██████████| 33/33 [00:00<00:00, 1644.75 passes/s]\n",
      "Running MIL Clean up passes: 100%|██████████| 8/8 [00:00<00:00, 400.56 passes/s]\n",
      "Translating MIL ==> NeuralNetwork Ops: 100%|██████████| 45/45 [00:00<00:00, 1861.65 ops/s]\n"
     ]
    },
    {
     "name": "stdout",
     "output_type": "stream",
     "text": [
      "converting for batch:  11\n",
      "\n",
      "*********\n",
      "\n",
      "\n"
     ]
    },
    {
     "name": "stderr",
     "output_type": "stream",
     "text": [
      "Converting Frontend ==> MIL Ops:  98%|█████████▊| 46/47 [00:00<00:00, 3566.19 ops/s]\n",
      "Running MIL Common passes: 100%|██████████| 33/33 [00:00<00:00, 1778.71 passes/s]\n",
      "Running MIL Clean up passes: 100%|██████████| 8/8 [00:00<00:00, 474.47 passes/s]\n",
      "Translating MIL ==> NeuralNetwork Ops: 100%|██████████| 45/45 [00:00<00:00, 2233.79 ops/s]\n"
     ]
    },
    {
     "name": "stdout",
     "output_type": "stream",
     "text": [
      "converting for batch:  12\n",
      "\n",
      "*********\n",
      "\n",
      "\n"
     ]
    },
    {
     "name": "stderr",
     "output_type": "stream",
     "text": [
      "Converting Frontend ==> MIL Ops:  98%|█████████▊| 46/47 [00:00<00:00, 1926.95 ops/s]\n",
      "Running MIL Common passes: 100%|██████████| 33/33 [00:00<00:00, 921.06 passes/s]\n",
      "Running MIL Clean up passes: 100%|██████████| 8/8 [00:00<00:00, 357.78 passes/s]\n",
      "Translating MIL ==> NeuralNetwork Ops: 100%|██████████| 45/45 [00:00<00:00, 1019.00 ops/s]\n"
     ]
    },
    {
     "name": "stdout",
     "output_type": "stream",
     "text": [
      "converting for batch:  13\n",
      "\n",
      "*********\n",
      "\n",
      "\n"
     ]
    },
    {
     "name": "stderr",
     "output_type": "stream",
     "text": [
      "Converting Frontend ==> MIL Ops:  98%|█████████▊| 46/47 [00:00<00:00, 2620.02 ops/s]\n",
      "Running MIL Common passes: 100%|██████████| 33/33 [00:00<00:00, 220.93 passes/s]\n",
      "Running MIL Clean up passes: 100%|██████████| 8/8 [00:00<00:00, 248.66 passes/s]\n",
      "Translating MIL ==> NeuralNetwork Ops: 100%|██████████| 45/45 [00:00<00:00, 2350.86 ops/s]\n"
     ]
    },
    {
     "name": "stdout",
     "output_type": "stream",
     "text": [
      "converting for batch:  14\n",
      "\n",
      "*********\n",
      "\n",
      "\n"
     ]
    },
    {
     "name": "stderr",
     "output_type": "stream",
     "text": [
      "Converting Frontend ==> MIL Ops:  98%|█████████▊| 46/47 [00:00<00:00, 3603.08 ops/s]\n",
      "Running MIL Common passes: 100%|██████████| 33/33 [00:00<00:00, 2039.19 passes/s]\n",
      "Running MIL Clean up passes: 100%|██████████| 8/8 [00:00<00:00, 567.81 passes/s]\n",
      "Translating MIL ==> NeuralNetwork Ops: 100%|██████████| 45/45 [00:00<00:00, 2203.74 ops/s]\n"
     ]
    },
    {
     "name": "stdout",
     "output_type": "stream",
     "text": [
      "converting for batch:  15\n",
      "\n",
      "*********\n",
      "\n",
      "\n"
     ]
    },
    {
     "name": "stderr",
     "output_type": "stream",
     "text": [
      "Converting Frontend ==> MIL Ops:  98%|█████████▊| 46/47 [00:00<00:00, 3851.90 ops/s]\n",
      "Running MIL Common passes: 100%|██████████| 33/33 [00:00<00:00, 1705.84 passes/s]\n",
      "Running MIL Clean up passes: 100%|██████████| 8/8 [00:00<00:00, 420.17 passes/s]\n",
      "Translating MIL ==> NeuralNetwork Ops: 100%|██████████| 45/45 [00:00<00:00, 2107.24 ops/s]\n"
     ]
    },
    {
     "name": "stdout",
     "output_type": "stream",
     "text": [
      "converting for batch:  16\n",
      "\n",
      "*********\n",
      "\n",
      "\n"
     ]
    },
    {
     "name": "stderr",
     "output_type": "stream",
     "text": [
      "Converting Frontend ==> MIL Ops:  98%|█████████▊| 46/47 [00:00<00:00, 3741.94 ops/s]\n",
      "Running MIL Common passes: 100%|██████████| 33/33 [00:00<00:00, 1127.32 passes/s]\n",
      "Running MIL Clean up passes: 100%|██████████| 8/8 [00:00<00:00, 635.52 passes/s]\n",
      "Translating MIL ==> NeuralNetwork Ops: 100%|██████████| 45/45 [00:00<00:00, 2164.49 ops/s]\n"
     ]
    },
    {
     "name": "stdout",
     "output_type": "stream",
     "text": [
      "converting for batch:  17\n",
      "\n",
      "*********\n",
      "\n",
      "\n"
     ]
    },
    {
     "name": "stderr",
     "output_type": "stream",
     "text": [
      "Converting Frontend ==> MIL Ops:  98%|█████████▊| 46/47 [00:00<00:00, 3447.29 ops/s]\n",
      "Running MIL Common passes: 100%|██████████| 33/33 [00:00<00:00, 1810.89 passes/s]\n",
      "Running MIL Clean up passes: 100%|██████████| 8/8 [00:00<00:00, 516.67 passes/s]\n",
      "Translating MIL ==> NeuralNetwork Ops: 100%|██████████| 45/45 [00:00<00:00, 2843.08 ops/s]\n"
     ]
    },
    {
     "name": "stdout",
     "output_type": "stream",
     "text": [
      "converting for batch:  18\n",
      "\n",
      "*********\n",
      "\n",
      "\n"
     ]
    },
    {
     "name": "stderr",
     "output_type": "stream",
     "text": [
      "Converting Frontend ==> MIL Ops:  98%|█████████▊| 46/47 [00:00<00:00, 2559.84 ops/s]\n",
      "Running MIL Common passes: 100%|██████████| 33/33 [00:00<00:00, 1439.86 passes/s]\n",
      "Running MIL Clean up passes: 100%|██████████| 8/8 [00:00<00:00, 480.92 passes/s]\n",
      "Translating MIL ==> NeuralNetwork Ops: 100%|██████████| 45/45 [00:00<00:00, 2503.17 ops/s]\n"
     ]
    },
    {
     "name": "stdout",
     "output_type": "stream",
     "text": [
      "converting for batch:  19\n",
      "\n",
      "*********\n",
      "\n",
      "\n"
     ]
    },
    {
     "name": "stderr",
     "output_type": "stream",
     "text": [
      "Converting Frontend ==> MIL Ops:  98%|█████████▊| 46/47 [00:00<00:00, 3091.61 ops/s]\n",
      "Running MIL Common passes: 100%|██████████| 33/33 [00:00<00:00, 2215.98 passes/s]\n",
      "Running MIL Clean up passes: 100%|██████████| 8/8 [00:00<00:00, 691.44 passes/s]\n",
      "Translating MIL ==> NeuralNetwork Ops: 100%|██████████| 45/45 [00:00<00:00, 2781.37 ops/s]\n"
     ]
    },
    {
     "name": "stdout",
     "output_type": "stream",
     "text": [
      "converting for batch:  20\n",
      "\n",
      "*********\n",
      "\n",
      "\n"
     ]
    },
    {
     "name": "stderr",
     "output_type": "stream",
     "text": [
      "Converting Frontend ==> MIL Ops:  98%|█████████▊| 46/47 [00:00<00:00, 3349.68 ops/s]\n",
      "Running MIL Common passes: 100%|██████████| 33/33 [00:00<00:00, 622.94 passes/s]\n",
      "Running MIL Clean up passes: 100%|██████████| 8/8 [00:00<00:00, 127.64 passes/s]\n",
      "Translating MIL ==> NeuralNetwork Ops: 100%|██████████| 45/45 [00:00<00:00, 2583.37 ops/s]\n"
     ]
    },
    {
     "name": "stdout",
     "output_type": "stream",
     "text": [
      "Conversion complete in 0m 42s\n",
      "################ Batch size:  450\n",
      "converting for batch:  0\n",
      "\n",
      "*********\n",
      "\n",
      "\n"
     ]
    },
    {
     "name": "stderr",
     "output_type": "stream",
     "text": [
      "Converting Frontend ==> MIL Ops:  98%|█████████▊| 46/47 [00:00<00:00, 3243.09 ops/s]\n",
      "Running MIL Common passes: 100%|██████████| 33/33 [00:00<00:00, 2078.63 passes/s]\n",
      "Running MIL Clean up passes: 100%|██████████| 8/8 [00:00<00:00, 542.59 passes/s]\n",
      "Translating MIL ==> NeuralNetwork Ops: 100%|██████████| 45/45 [00:00<00:00, 1872.96 ops/s]\n"
     ]
    },
    {
     "name": "stdout",
     "output_type": "stream",
     "text": [
      "converting for batch:  1\n",
      "\n",
      "*********\n",
      "\n",
      "\n"
     ]
    },
    {
     "name": "stderr",
     "output_type": "stream",
     "text": [
      "Converting Frontend ==> MIL Ops:  98%|█████████▊| 46/47 [00:00<00:00, 2705.70 ops/s]\n",
      "Running MIL Common passes: 100%|██████████| 33/33 [00:00<00:00, 1415.08 passes/s]\n",
      "Running MIL Clean up passes: 100%|██████████| 8/8 [00:00<00:00, 536.44 passes/s]\n",
      "Translating MIL ==> NeuralNetwork Ops: 100%|██████████| 45/45 [00:00<00:00, 1793.83 ops/s]\n"
     ]
    },
    {
     "name": "stdout",
     "output_type": "stream",
     "text": [
      "converting for batch:  2\n",
      "\n",
      "*********\n",
      "\n",
      "\n"
     ]
    },
    {
     "name": "stderr",
     "output_type": "stream",
     "text": [
      "Converting Frontend ==> MIL Ops:  98%|█████████▊| 46/47 [00:00<00:00, 2613.80 ops/s]\n",
      "Running MIL Common passes: 100%|██████████| 33/33 [00:00<00:00, 1496.33 passes/s]\n",
      "Running MIL Clean up passes: 100%|██████████| 8/8 [00:00<00:00, 224.03 passes/s]\n",
      "Translating MIL ==> NeuralNetwork Ops: 100%|██████████| 45/45 [00:00<00:00, 1353.57 ops/s]\n"
     ]
    },
    {
     "name": "stdout",
     "output_type": "stream",
     "text": [
      "converting for batch:  3\n",
      "\n",
      "*********\n",
      "\n",
      "\n"
     ]
    },
    {
     "name": "stderr",
     "output_type": "stream",
     "text": [
      "Converting Frontend ==> MIL Ops:  98%|█████████▊| 46/47 [00:00<00:00, 3376.35 ops/s]\n",
      "Running MIL Common passes: 100%|██████████| 33/33 [00:00<00:00, 1487.90 passes/s]\n",
      "Running MIL Clean up passes: 100%|██████████| 8/8 [00:00<00:00, 400.01 passes/s]\n",
      "Translating MIL ==> NeuralNetwork Ops: 100%|██████████| 45/45 [00:00<00:00, 2231.94 ops/s]\n"
     ]
    },
    {
     "name": "stdout",
     "output_type": "stream",
     "text": [
      "converting for batch:  4\n",
      "\n",
      "*********\n",
      "\n",
      "\n"
     ]
    },
    {
     "name": "stderr",
     "output_type": "stream",
     "text": [
      "Converting Frontend ==> MIL Ops:  98%|█████████▊| 46/47 [00:00<00:00, 2896.71 ops/s]\n",
      "Running MIL Common passes: 100%|██████████| 33/33 [00:00<00:00, 565.67 passes/s]\n",
      "Running MIL Clean up passes: 100%|██████████| 8/8 [00:00<00:00, 644.29 passes/s]\n",
      "Translating MIL ==> NeuralNetwork Ops: 100%|██████████| 45/45 [00:00<00:00, 2316.47 ops/s]\n"
     ]
    },
    {
     "name": "stdout",
     "output_type": "stream",
     "text": [
      "converting for batch:  5\n",
      "\n",
      "*********\n",
      "\n",
      "\n"
     ]
    },
    {
     "name": "stderr",
     "output_type": "stream",
     "text": [
      "Converting Frontend ==> MIL Ops:  98%|█████████▊| 46/47 [00:00<00:00, 1225.45 ops/s]\n",
      "Running MIL Common passes: 100%|██████████| 33/33 [00:00<00:00, 1761.53 passes/s]\n",
      "Running MIL Clean up passes: 100%|██████████| 8/8 [00:00<00:00, 573.19 passes/s]\n",
      "Translating MIL ==> NeuralNetwork Ops: 100%|██████████| 45/45 [00:00<00:00, 2403.34 ops/s]\n"
     ]
    },
    {
     "name": "stdout",
     "output_type": "stream",
     "text": [
      "converting for batch:  6\n",
      "\n",
      "*********\n",
      "\n",
      "\n"
     ]
    },
    {
     "name": "stderr",
     "output_type": "stream",
     "text": [
      "Converting Frontend ==> MIL Ops:  98%|█████████▊| 46/47 [00:00<00:00, 3891.37 ops/s]\n",
      "Running MIL Common passes: 100%|██████████| 33/33 [00:00<00:00, 1776.86 passes/s]\n",
      "Running MIL Clean up passes: 100%|██████████| 8/8 [00:00<00:00, 334.60 passes/s]\n",
      "Translating MIL ==> NeuralNetwork Ops: 100%|██████████| 45/45 [00:00<00:00, 2495.98 ops/s]\n"
     ]
    },
    {
     "name": "stdout",
     "output_type": "stream",
     "text": [
      "converting for batch:  7\n",
      "\n",
      "*********\n",
      "\n",
      "\n"
     ]
    },
    {
     "name": "stderr",
     "output_type": "stream",
     "text": [
      "Converting Frontend ==> MIL Ops:  98%|█████████▊| 46/47 [00:00<00:00, 2889.46 ops/s]\n",
      "Running MIL Common passes: 100%|██████████| 33/33 [00:00<00:00, 2013.44 passes/s]\n",
      "Running MIL Clean up passes: 100%|██████████| 8/8 [00:00<00:00, 514.70 passes/s]\n",
      "Translating MIL ==> NeuralNetwork Ops: 100%|██████████| 45/45 [00:00<00:00, 2415.30 ops/s]\n"
     ]
    },
    {
     "name": "stdout",
     "output_type": "stream",
     "text": [
      "converting for batch:  8\n",
      "\n",
      "*********\n",
      "\n",
      "\n"
     ]
    },
    {
     "name": "stderr",
     "output_type": "stream",
     "text": [
      "Converting Frontend ==> MIL Ops:  98%|█████████▊| 46/47 [00:00<00:00, 3443.05 ops/s]\n",
      "Running MIL Common passes: 100%|██████████| 33/33 [00:00<00:00, 1886.37 passes/s]\n",
      "Running MIL Clean up passes: 100%|██████████| 8/8 [00:00<00:00, 487.04 passes/s]\n",
      "Translating MIL ==> NeuralNetwork Ops: 100%|██████████| 45/45 [00:00<00:00, 2626.04 ops/s]\n"
     ]
    },
    {
     "name": "stdout",
     "output_type": "stream",
     "text": [
      "converting for batch:  9\n",
      "\n",
      "*********\n",
      "\n",
      "\n"
     ]
    },
    {
     "name": "stderr",
     "output_type": "stream",
     "text": [
      "Converting Frontend ==> MIL Ops:  98%|█████████▊| 46/47 [00:00<00:00, 3313.72 ops/s]\n",
      "Running MIL Common passes: 100%|██████████| 33/33 [00:00<00:00, 2423.22 passes/s]\n",
      "Running MIL Clean up passes: 100%|██████████| 8/8 [00:00<00:00, 946.42 passes/s]\n",
      "Translating MIL ==> NeuralNetwork Ops: 100%|██████████| 45/45 [00:00<00:00, 2533.34 ops/s]\n"
     ]
    },
    {
     "name": "stdout",
     "output_type": "stream",
     "text": [
      "converting for batch:  10\n",
      "\n",
      "*********\n",
      "\n",
      "\n"
     ]
    },
    {
     "name": "stderr",
     "output_type": "stream",
     "text": [
      "Converting Frontend ==> MIL Ops:  98%|█████████▊| 46/47 [00:00<00:00, 2844.22 ops/s]\n",
      "Running MIL Common passes: 100%|██████████| 33/33 [00:00<00:00, 3174.30 passes/s]\n",
      "Running MIL Clean up passes: 100%|██████████| 8/8 [00:00<00:00, 979.55 passes/s]\n",
      "Translating MIL ==> NeuralNetwork Ops: 100%|██████████| 45/45 [00:00<00:00, 2687.39 ops/s]\n"
     ]
    },
    {
     "name": "stdout",
     "output_type": "stream",
     "text": [
      "converting for batch:  11\n",
      "\n",
      "*********\n",
      "\n",
      "\n"
     ]
    },
    {
     "name": "stderr",
     "output_type": "stream",
     "text": [
      "Converting Frontend ==> MIL Ops:  98%|█████████▊| 46/47 [00:00<00:00, 1490.50 ops/s]\n",
      "Running MIL Common passes: 100%|██████████| 33/33 [00:00<00:00, 1596.98 passes/s]\n",
      "Running MIL Clean up passes: 100%|██████████| 8/8 [00:00<00:00, 744.03 passes/s]\n",
      "Translating MIL ==> NeuralNetwork Ops: 100%|██████████| 45/45 [00:00<00:00, 3081.73 ops/s]\n"
     ]
    },
    {
     "name": "stdout",
     "output_type": "stream",
     "text": [
      "converting for batch:  12\n",
      "\n",
      "*********\n",
      "\n",
      "\n"
     ]
    },
    {
     "name": "stderr",
     "output_type": "stream",
     "text": [
      "Converting Frontend ==> MIL Ops:  98%|█████████▊| 46/47 [00:00<00:00, 2284.37 ops/s]\n",
      "Running MIL Common passes: 100%|██████████| 33/33 [00:00<00:00, 1908.16 passes/s]\n",
      "Running MIL Clean up passes: 100%|██████████| 8/8 [00:00<00:00, 535.05 passes/s]\n",
      "Translating MIL ==> NeuralNetwork Ops: 100%|██████████| 45/45 [00:00<00:00, 2338.02 ops/s]\n"
     ]
    },
    {
     "name": "stdout",
     "output_type": "stream",
     "text": [
      "converting for batch:  13\n",
      "\n",
      "*********\n",
      "\n",
      "\n"
     ]
    },
    {
     "name": "stderr",
     "output_type": "stream",
     "text": [
      "Converting Frontend ==> MIL Ops:  98%|█████████▊| 46/47 [00:00<00:00, 2976.20 ops/s]\n",
      "Running MIL Common passes: 100%|██████████| 33/33 [00:00<00:00, 1191.20 passes/s]\n",
      "Running MIL Clean up passes: 100%|██████████| 8/8 [00:00<00:00, 429.94 passes/s]\n",
      "Translating MIL ==> NeuralNetwork Ops: 100%|██████████| 45/45 [00:00<00:00, 2707.90 ops/s]\n"
     ]
    },
    {
     "name": "stdout",
     "output_type": "stream",
     "text": [
      "converting for batch:  14\n",
      "\n",
      "*********\n",
      "\n",
      "\n"
     ]
    },
    {
     "name": "stderr",
     "output_type": "stream",
     "text": [
      "Converting Frontend ==> MIL Ops:  98%|█████████▊| 46/47 [00:00<00:00, 3274.02 ops/s]\n",
      "Running MIL Common passes: 100%|██████████| 33/33 [00:00<00:00, 2149.59 passes/s]\n",
      "Running MIL Clean up passes: 100%|██████████| 8/8 [00:00<00:00, 618.33 passes/s]\n",
      "Translating MIL ==> NeuralNetwork Ops: 100%|██████████| 45/45 [00:00<00:00, 2696.07 ops/s]\n"
     ]
    },
    {
     "name": "stdout",
     "output_type": "stream",
     "text": [
      "converting for batch:  15\n",
      "\n",
      "*********\n",
      "\n",
      "\n"
     ]
    },
    {
     "name": "stderr",
     "output_type": "stream",
     "text": [
      "Converting Frontend ==> MIL Ops:  98%|█████████▊| 46/47 [00:00<00:00, 2480.05 ops/s]\n",
      "Running MIL Common passes: 100%|██████████| 33/33 [00:00<00:00, 1703.30 passes/s]\n",
      "Running MIL Clean up passes: 100%|██████████| 8/8 [00:00<00:00, 567.06 passes/s]\n",
      "Translating MIL ==> NeuralNetwork Ops: 100%|██████████| 45/45 [00:00<00:00, 2051.99 ops/s]\n"
     ]
    },
    {
     "name": "stdout",
     "output_type": "stream",
     "text": [
      "converting for batch:  16\n",
      "\n",
      "*********\n",
      "\n",
      "\n"
     ]
    },
    {
     "name": "stderr",
     "output_type": "stream",
     "text": [
      "Converting Frontend ==> MIL Ops:  98%|█████████▊| 46/47 [00:00<00:00, 4032.31 ops/s]\n",
      "Running MIL Common passes: 100%|██████████| 33/33 [00:00<00:00, 1969.21 passes/s]\n",
      "Running MIL Clean up passes: 100%|██████████| 8/8 [00:00<00:00, 290.71 passes/s]\n",
      "Translating MIL ==> NeuralNetwork Ops: 100%|██████████| 45/45 [00:00<00:00, 1346.27 ops/s]\n"
     ]
    },
    {
     "name": "stdout",
     "output_type": "stream",
     "text": [
      "converting for batch:  17\n",
      "\n",
      "*********\n",
      "\n",
      "\n"
     ]
    },
    {
     "name": "stderr",
     "output_type": "stream",
     "text": [
      "Converting Frontend ==> MIL Ops:  98%|█████████▊| 46/47 [00:00<00:00, 3657.73 ops/s]\n",
      "Running MIL Common passes: 100%|██████████| 33/33 [00:00<00:00, 1826.52 passes/s]\n",
      "Running MIL Clean up passes: 100%|██████████| 8/8 [00:00<00:00, 452.28 passes/s]\n",
      "Translating MIL ==> NeuralNetwork Ops: 100%|██████████| 45/45 [00:00<00:00, 1957.39 ops/s]\n"
     ]
    },
    {
     "name": "stdout",
     "output_type": "stream",
     "text": [
      "converting for batch:  18\n",
      "\n",
      "*********\n",
      "\n",
      "\n"
     ]
    },
    {
     "name": "stderr",
     "output_type": "stream",
     "text": [
      "Converting Frontend ==> MIL Ops:  98%|█████████▊| 46/47 [00:00<00:00, 2481.13 ops/s]\n",
      "Running MIL Common passes: 100%|██████████| 33/33 [00:00<00:00, 1573.17 passes/s]\n",
      "Running MIL Clean up passes: 100%|██████████| 8/8 [00:00<00:00, 399.99 passes/s]\n",
      "Translating MIL ==> NeuralNetwork Ops: 100%|██████████| 45/45 [00:00<00:00, 2517.35 ops/s]\n"
     ]
    },
    {
     "name": "stdout",
     "output_type": "stream",
     "text": [
      "converting for batch:  19\n",
      "\n",
      "*********\n",
      "\n",
      "\n"
     ]
    },
    {
     "name": "stderr",
     "output_type": "stream",
     "text": [
      "Converting Frontend ==> MIL Ops:  98%|█████████▊| 46/47 [00:00<00:00, 3145.95 ops/s]\n",
      "Running MIL Common passes: 100%|██████████| 33/33 [00:00<00:00, 1932.64 passes/s]\n",
      "Running MIL Clean up passes: 100%|██████████| 8/8 [00:00<00:00, 604.01 passes/s]\n",
      "Translating MIL ==> NeuralNetwork Ops: 100%|██████████| 45/45 [00:00<00:00, 2126.14 ops/s]\n"
     ]
    },
    {
     "name": "stdout",
     "output_type": "stream",
     "text": [
      "converting for batch:  20\n",
      "\n",
      "*********\n",
      "\n",
      "\n"
     ]
    },
    {
     "name": "stderr",
     "output_type": "stream",
     "text": [
      "Converting Frontend ==> MIL Ops:  98%|█████████▊| 46/47 [00:00<00:00, 3856.14 ops/s]\n",
      "Running MIL Common passes: 100%|██████████| 33/33 [00:00<00:00, 1877.54 passes/s]\n",
      "Running MIL Clean up passes: 100%|██████████| 8/8 [00:00<00:00, 802.09 passes/s]\n",
      "Translating MIL ==> NeuralNetwork Ops: 100%|██████████| 45/45 [00:00<00:00, 2095.38 ops/s]\n"
     ]
    },
    {
     "name": "stdout",
     "output_type": "stream",
     "text": [
      "Conversion complete in 0m 35s\n",
      "################ Batch size:  500\n",
      "converting for batch:  0\n",
      "\n",
      "*********\n",
      "\n",
      "\n"
     ]
    },
    {
     "name": "stderr",
     "output_type": "stream",
     "text": [
      "Converting Frontend ==> MIL Ops:  98%|█████████▊| 46/47 [00:00<00:00, 3839.10 ops/s]\n",
      "Running MIL Common passes: 100%|██████████| 33/33 [00:00<00:00, 1599.70 passes/s]\n",
      "Running MIL Clean up passes: 100%|██████████| 8/8 [00:00<00:00, 292.99 passes/s]\n",
      "Translating MIL ==> NeuralNetwork Ops: 100%|██████████| 45/45 [00:00<00:00, 2135.23 ops/s]\n"
     ]
    },
    {
     "name": "stdout",
     "output_type": "stream",
     "text": [
      "converting for batch:  1\n",
      "\n",
      "*********\n",
      "\n",
      "\n"
     ]
    },
    {
     "name": "stderr",
     "output_type": "stream",
     "text": [
      "Converting Frontend ==> MIL Ops:  98%|█████████▊| 46/47 [00:00<00:00, 2767.92 ops/s]\n",
      "Running MIL Common passes: 100%|██████████| 33/33 [00:00<00:00, 1710.99 passes/s]\n",
      "Running MIL Clean up passes: 100%|██████████| 8/8 [00:00<00:00, 597.91 passes/s]\n",
      "Translating MIL ==> NeuralNetwork Ops: 100%|██████████| 45/45 [00:00<00:00, 1761.65 ops/s]\n"
     ]
    },
    {
     "name": "stdout",
     "output_type": "stream",
     "text": [
      "converting for batch:  2\n",
      "\n",
      "*********\n",
      "\n",
      "\n"
     ]
    },
    {
     "name": "stderr",
     "output_type": "stream",
     "text": [
      "Converting Frontend ==> MIL Ops:  98%|█████████▊| 46/47 [00:00<00:00, 3943.06 ops/s]\n",
      "Running MIL Common passes: 100%|██████████| 33/33 [00:00<00:00, 2074.43 passes/s]\n",
      "Running MIL Clean up passes: 100%|██████████| 8/8 [00:00<00:00, 565.44 passes/s]\n",
      "Translating MIL ==> NeuralNetwork Ops: 100%|██████████| 45/45 [00:00<00:00, 2395.65 ops/s]\n"
     ]
    },
    {
     "name": "stdout",
     "output_type": "stream",
     "text": [
      "converting for batch:  3\n",
      "\n",
      "*********\n",
      "\n",
      "\n"
     ]
    },
    {
     "name": "stderr",
     "output_type": "stream",
     "text": [
      "Converting Frontend ==> MIL Ops:  98%|█████████▊| 46/47 [00:00<00:00, 3912.99 ops/s]\n",
      "Running MIL Common passes: 100%|██████████| 33/33 [00:00<00:00, 2830.16 passes/s]\n",
      "Running MIL Clean up passes: 100%|██████████| 8/8 [00:00<00:00, 594.09 passes/s]\n",
      "Translating MIL ==> NeuralNetwork Ops: 100%|██████████| 45/45 [00:00<00:00, 2421.56 ops/s]\n"
     ]
    },
    {
     "name": "stdout",
     "output_type": "stream",
     "text": [
      "converting for batch:  4\n",
      "\n",
      "*********\n",
      "\n",
      "\n"
     ]
    },
    {
     "name": "stderr",
     "output_type": "stream",
     "text": [
      "Converting Frontend ==> MIL Ops:  98%|█████████▊| 46/47 [00:00<00:00, 3214.08 ops/s]\n",
      "Running MIL Common passes: 100%|██████████| 33/33 [00:00<00:00, 1800.34 passes/s]\n",
      "Running MIL Clean up passes: 100%|██████████| 8/8 [00:00<00:00, 539.82 passes/s]\n",
      "Translating MIL ==> NeuralNetwork Ops: 100%|██████████| 45/45 [00:00<00:00, 2005.46 ops/s]\n"
     ]
    },
    {
     "name": "stdout",
     "output_type": "stream",
     "text": [
      "converting for batch:  5\n",
      "\n",
      "*********\n",
      "\n",
      "\n"
     ]
    },
    {
     "name": "stderr",
     "output_type": "stream",
     "text": [
      "Converting Frontend ==> MIL Ops:  98%|█████████▊| 46/47 [00:00<00:00, 2949.67 ops/s]\n",
      "Running MIL Common passes: 100%|██████████| 33/33 [00:00<00:00, 1999.39 passes/s]\n",
      "Running MIL Clean up passes: 100%|██████████| 8/8 [00:00<00:00, 676.75 passes/s]\n",
      "Translating MIL ==> NeuralNetwork Ops: 100%|██████████| 45/45 [00:00<00:00, 2464.24 ops/s]\n"
     ]
    },
    {
     "name": "stdout",
     "output_type": "stream",
     "text": [
      "converting for batch:  6\n",
      "\n",
      "*********\n",
      "\n",
      "\n"
     ]
    },
    {
     "name": "stderr",
     "output_type": "stream",
     "text": [
      "Converting Frontend ==> MIL Ops:  98%|█████████▊| 46/47 [00:00<00:00, 3033.04 ops/s]\n",
      "Running MIL Common passes: 100%|██████████| 33/33 [00:00<00:00, 2074.05 passes/s]\n",
      "Running MIL Clean up passes: 100%|██████████| 8/8 [00:00<00:00, 523.36 passes/s]\n",
      "Translating MIL ==> NeuralNetwork Ops: 100%|██████████| 45/45 [00:00<00:00, 3077.11 ops/s]\n"
     ]
    },
    {
     "name": "stdout",
     "output_type": "stream",
     "text": [
      "converting for batch:  7\n",
      "\n",
      "*********\n",
      "\n",
      "\n"
     ]
    },
    {
     "name": "stderr",
     "output_type": "stream",
     "text": [
      "Converting Frontend ==> MIL Ops:  98%|█████████▊| 46/47 [00:00<00:00, 1099.71 ops/s]\n",
      "Running MIL Common passes: 100%|██████████| 33/33 [00:00<00:00, 718.87 passes/s]\n",
      "Running MIL Clean up passes: 100%|██████████| 8/8 [00:00<00:00, 298.66 passes/s]\n",
      "Translating MIL ==> NeuralNetwork Ops: 100%|██████████| 45/45 [00:00<00:00, 1005.70 ops/s]\n"
     ]
    },
    {
     "name": "stdout",
     "output_type": "stream",
     "text": [
      "converting for batch:  8\n",
      "\n",
      "*********\n",
      "\n",
      "\n"
     ]
    },
    {
     "name": "stderr",
     "output_type": "stream",
     "text": [
      "Converting Frontend ==> MIL Ops:  98%|█████████▊| 46/47 [00:00<00:00, 3297.92 ops/s]\n",
      "Running MIL Common passes: 100%|██████████| 33/33 [00:00<00:00, 2617.82 passes/s]\n",
      "Running MIL Clean up passes: 100%|██████████| 8/8 [00:00<00:00, 580.47 passes/s]\n",
      "Translating MIL ==> NeuralNetwork Ops: 100%|██████████| 45/45 [00:00<00:00, 2845.95 ops/s]\n"
     ]
    },
    {
     "name": "stdout",
     "output_type": "stream",
     "text": [
      "converting for batch:  9\n",
      "\n",
      "*********\n",
      "\n",
      "\n"
     ]
    },
    {
     "name": "stderr",
     "output_type": "stream",
     "text": [
      "Converting Frontend ==> MIL Ops:  98%|█████████▊| 46/47 [00:00<00:00, 2044.25 ops/s]\n",
      "Running MIL Common passes: 100%|██████████| 33/33 [00:00<00:00, 1751.50 passes/s]\n",
      "Running MIL Clean up passes: 100%|██████████| 8/8 [00:00<00:00, 630.52 passes/s]\n",
      "Translating MIL ==> NeuralNetwork Ops: 100%|██████████| 45/45 [00:00<00:00, 1926.80 ops/s]\n"
     ]
    },
    {
     "name": "stdout",
     "output_type": "stream",
     "text": [
      "converting for batch:  10\n",
      "\n",
      "*********\n",
      "\n",
      "\n"
     ]
    },
    {
     "name": "stderr",
     "output_type": "stream",
     "text": [
      "Converting Frontend ==> MIL Ops:  98%|█████████▊| 46/47 [00:00<00:00, 2962.81 ops/s]\n",
      "Running MIL Common passes: 100%|██████████| 33/33 [00:00<00:00, 1796.39 passes/s]\n",
      "Running MIL Clean up passes: 100%|██████████| 8/8 [00:00<00:00, 501.63 passes/s]\n",
      "Translating MIL ==> NeuralNetwork Ops: 100%|██████████| 45/45 [00:00<00:00, 2771.44 ops/s]\n"
     ]
    },
    {
     "name": "stdout",
     "output_type": "stream",
     "text": [
      "converting for batch:  11\n",
      "\n",
      "*********\n",
      "\n",
      "\n"
     ]
    },
    {
     "name": "stderr",
     "output_type": "stream",
     "text": [
      "Converting Frontend ==> MIL Ops:  98%|█████████▊| 46/47 [00:00<00:00, 3081.29 ops/s]\n",
      "Running MIL Common passes: 100%|██████████| 33/33 [00:00<00:00, 1543.36 passes/s]\n",
      "Running MIL Clean up passes: 100%|██████████| 8/8 [00:00<00:00, 529.55 passes/s]\n",
      "Translating MIL ==> NeuralNetwork Ops: 100%|██████████| 45/45 [00:00<00:00, 2394.01 ops/s]\n"
     ]
    },
    {
     "name": "stdout",
     "output_type": "stream",
     "text": [
      "converting for batch:  12\n",
      "\n",
      "*********\n",
      "\n",
      "\n"
     ]
    },
    {
     "name": "stderr",
     "output_type": "stream",
     "text": [
      "Converting Frontend ==> MIL Ops:  98%|█████████▊| 46/47 [00:00<00:00, 3018.62 ops/s]\n",
      "Running MIL Common passes: 100%|██████████| 33/33 [00:00<00:00, 1863.78 passes/s]\n",
      "Running MIL Clean up passes: 100%|██████████| 8/8 [00:00<00:00, 486.23 passes/s]\n",
      "Translating MIL ==> NeuralNetwork Ops: 100%|██████████| 45/45 [00:00<00:00, 2800.93 ops/s]\n"
     ]
    },
    {
     "name": "stdout",
     "output_type": "stream",
     "text": [
      "converting for batch:  13\n",
      "\n",
      "*********\n",
      "\n",
      "\n"
     ]
    },
    {
     "name": "stderr",
     "output_type": "stream",
     "text": [
      "Converting Frontend ==> MIL Ops:  98%|█████████▊| 46/47 [00:00<00:00, 3325.20 ops/s]\n",
      "Running MIL Common passes: 100%|██████████| 33/33 [00:00<00:00, 2038.17 passes/s]\n",
      "Running MIL Clean up passes: 100%|██████████| 8/8 [00:00<00:00, 463.88 passes/s]\n",
      "Translating MIL ==> NeuralNetwork Ops: 100%|██████████| 45/45 [00:00<00:00, 2428.20 ops/s]\n"
     ]
    },
    {
     "name": "stdout",
     "output_type": "stream",
     "text": [
      "converting for batch:  14\n",
      "\n",
      "*********\n",
      "\n",
      "\n"
     ]
    },
    {
     "name": "stderr",
     "output_type": "stream",
     "text": [
      "Converting Frontend ==> MIL Ops:  98%|█████████▊| 46/47 [00:00<00:00, 2778.76 ops/s]\n",
      "Running MIL Common passes: 100%|██████████| 33/33 [00:00<00:00, 1149.74 passes/s]\n",
      "Running MIL Clean up passes: 100%|██████████| 8/8 [00:00<00:00, 610.69 passes/s]\n",
      "Translating MIL ==> NeuralNetwork Ops: 100%|██████████| 45/45 [00:00<00:00, 1629.19 ops/s]\n"
     ]
    },
    {
     "name": "stdout",
     "output_type": "stream",
     "text": [
      "converting for batch:  15\n",
      "\n",
      "*********\n",
      "\n",
      "\n"
     ]
    },
    {
     "name": "stderr",
     "output_type": "stream",
     "text": [
      "Converting Frontend ==> MIL Ops:  98%|█████████▊| 46/47 [00:00<00:00, 3020.37 ops/s]\n",
      "Running MIL Common passes: 100%|██████████| 33/33 [00:00<00:00, 2015.00 passes/s]\n",
      "Running MIL Clean up passes: 100%|██████████| 8/8 [00:00<00:00, 637.25 passes/s]\n",
      "Translating MIL ==> NeuralNetwork Ops: 100%|██████████| 45/45 [00:00<00:00, 1934.15 ops/s]\n"
     ]
    },
    {
     "name": "stdout",
     "output_type": "stream",
     "text": [
      "converting for batch:  16\n",
      "\n",
      "*********\n",
      "\n",
      "\n"
     ]
    },
    {
     "name": "stderr",
     "output_type": "stream",
     "text": [
      "Converting Frontend ==> MIL Ops:  98%|█████████▊| 46/47 [00:00<00:00, 2925.65 ops/s]\n",
      "Running MIL Common passes: 100%|██████████| 33/33 [00:00<00:00, 1984.37 passes/s]\n",
      "Running MIL Clean up passes: 100%|██████████| 8/8 [00:00<00:00, 138.93 passes/s]\n",
      "Translating MIL ==> NeuralNetwork Ops: 100%|██████████| 45/45 [00:00<00:00, 2555.36 ops/s]\n"
     ]
    },
    {
     "name": "stdout",
     "output_type": "stream",
     "text": [
      "converting for batch:  17\n",
      "\n",
      "*********\n",
      "\n",
      "\n"
     ]
    },
    {
     "name": "stderr",
     "output_type": "stream",
     "text": [
      "Converting Frontend ==> MIL Ops:  98%|█████████▊| 46/47 [00:00<00:00, 2768.76 ops/s]\n",
      "Running MIL Common passes: 100%|██████████| 33/33 [00:00<00:00, 1787.44 passes/s]\n",
      "Running MIL Clean up passes: 100%|██████████| 8/8 [00:00<00:00, 514.24 passes/s]\n",
      "Translating MIL ==> NeuralNetwork Ops: 100%|██████████| 45/45 [00:00<00:00, 1696.77 ops/s]\n"
     ]
    },
    {
     "name": "stdout",
     "output_type": "stream",
     "text": [
      "converting for batch:  18\n",
      "\n",
      "*********\n",
      "\n",
      "\n"
     ]
    },
    {
     "name": "stderr",
     "output_type": "stream",
     "text": [
      "Converting Frontend ==> MIL Ops:  98%|█████████▊| 46/47 [00:00<00:00, 3075.69 ops/s]\n",
      "Running MIL Common passes: 100%|██████████| 33/33 [00:00<00:00, 961.96 passes/s]\n",
      "Running MIL Clean up passes: 100%|██████████| 8/8 [00:00<00:00, 579.78 passes/s]\n",
      "Translating MIL ==> NeuralNetwork Ops: 100%|██████████| 45/45 [00:00<00:00, 1619.05 ops/s]\n"
     ]
    },
    {
     "name": "stdout",
     "output_type": "stream",
     "text": [
      "converting for batch:  19\n",
      "\n",
      "*********\n",
      "\n",
      "\n"
     ]
    },
    {
     "name": "stderr",
     "output_type": "stream",
     "text": [
      "Converting Frontend ==> MIL Ops:  98%|█████████▊| 46/47 [00:00<00:00, 3282.93 ops/s]\n",
      "Running MIL Common passes: 100%|██████████| 33/33 [00:00<00:00, 1836.29 passes/s]\n",
      "Running MIL Clean up passes: 100%|██████████| 8/8 [00:00<00:00, 554.09 passes/s]\n",
      "Translating MIL ==> NeuralNetwork Ops: 100%|██████████| 45/45 [00:00<00:00, 2976.79 ops/s]\n"
     ]
    },
    {
     "name": "stdout",
     "output_type": "stream",
     "text": [
      "Conversion complete in 0m 32s\n"
     ]
    }
   ],
   "source": [
    "run_experiment(model_short_name, model_name)"
   ]
  },
  {
   "cell_type": "code",
   "execution_count": null,
   "metadata": {},
   "outputs": [],
   "source": []
  },
  {
   "cell_type": "code",
   "execution_count": null,
   "metadata": {},
   "outputs": [],
   "source": []
  },
  {
   "cell_type": "code",
   "execution_count": null,
   "metadata": {},
   "outputs": [],
   "source": []
  },
  {
   "cell_type": "code",
   "execution_count": null,
   "metadata": {},
   "outputs": [],
   "source": []
  },
  {
   "cell_type": "code",
   "execution_count": null,
   "metadata": {},
   "outputs": [],
   "source": []
  },
  {
   "cell_type": "code",
   "execution_count": null,
   "metadata": {},
   "outputs": [],
   "source": []
  },
  {
   "cell_type": "code",
   "execution_count": null,
   "metadata": {},
   "outputs": [],
   "source": []
  },
  {
   "cell_type": "code",
   "execution_count": null,
   "metadata": {},
   "outputs": [],
   "source": []
  },
  {
   "cell_type": "code",
   "execution_count": null,
   "metadata": {},
   "outputs": [],
   "source": []
  },
  {
   "cell_type": "code",
   "execution_count": null,
   "metadata": {},
   "outputs": [],
   "source": []
  },
  {
   "cell_type": "code",
   "execution_count": null,
   "metadata": {},
   "outputs": [],
   "source": []
  },
  {
   "cell_type": "code",
   "execution_count": 10,
   "metadata": {},
   "outputs": [],
   "source": [
    "for i, (images, labels) in enumerate(valloader):\n",
    "    x_test, y_test = images, labels\n",
    "    break"
   ]
  },
  {
   "cell_type": "code",
   "execution_count": 14,
   "metadata": {},
   "outputs": [],
   "source": [
    "# Export the model\n",
    "if not os.path.exists(onnx_path+framework+\"/{}\".format(model_short_name)):\n",
    "    os.makedirs(onnx_path+framework+\"/{}\".format(model_short_name))\n",
    "if not os.path.exists(coreml_path+framework+\"/{}\".format(model_short_name)):\n",
    "    os.makedirs(coreml_path+framework+\"/{}\".format(model_short_name))"
   ]
  },
  {
   "cell_type": "code",
   "execution_count": 15,
   "metadata": {},
   "outputs": [
    {
     "data": {
      "text/plain": [
       "tensor([[ -6.6358,   1.2895,   0.4550,  ...,  21.1323,  -5.8902,   4.0097],\n",
       "        [  0.6449,   6.2741,  34.7097,  ...,  -0.3277,  -1.8668,  -7.1835],\n",
       "        [ -7.5961,  15.3428,  -2.6259,  ...,   0.8016,   2.4336,  -0.9590],\n",
       "        ...,\n",
       "        [ -2.7858,  -5.1429,   0.6817,  ...,  -1.0616,   0.7974,  13.7856],\n",
       "        [ 22.0681,  -8.9676,   1.9604,  ...,  -7.2898,  -3.2032,   0.6012],\n",
       "        [ -5.8501,  -7.5255, -12.7759,  ...,  -4.8417,   3.1106,   4.5962]],\n",
       "       grad_fn=<AddmmBackward>)"
      ]
     },
     "execution_count": 15,
     "metadata": {},
     "output_type": "execute_result"
    }
   ],
   "source": [
    "torch.onnx._export(model,               # model being run\n",
    "                  x_test,                         # model input (or a tuple for multiple inputs)\n",
    "                  onnx_path+framework+\"/{}/{}.onnx\".format(model_short_name, model_name),   # where to save the model (can be a file or file-like object)\n",
    "                  export_params=True,        # store the trained parameter weights inside the model file\n",
    "                  opset_version=10,          # the ONNX version to export the model to\n",
    "                  do_constant_folding=True,  # whether to execute constant folding for optimization\n",
    "                  input_names = ['input'],   # the model's input names\n",
    "                  #operator_export_type=torch.onnx.OperatorExportTypes.ONNX_ATEN_FALLBACK,\n",
    "                  output_names = ['output'], # the model's output names\n",
    "                  dynamic_axes={'input' : {0 : 'batch_size'},    # variable length axes\n",
    "                                'output' : {0 : 'batch_size'}})"
   ]
  },
  {
   "cell_type": "code",
   "execution_count": null,
   "metadata": {},
   "outputs": [],
   "source": []
  },
  {
   "cell_type": "code",
   "execution_count": 12,
   "metadata": {},
   "outputs": [],
   "source": [
    "from onnx2keras import onnx_to_keras\n",
    "from onnx_tf.backend import prepare"
   ]
  },
  {
   "cell_type": "code",
   "execution_count": 17,
   "metadata": {},
   "outputs": [
    {
     "name": "stderr",
     "output_type": "stream",
     "text": [
      "INFO:onnx2keras:Converter is called.\n",
      "DEBUG:onnx2keras:List input shapes:\n",
      "DEBUG:onnx2keras:None\n",
      "DEBUG:onnx2keras:List inputs:\n",
      "DEBUG:onnx2keras:Input 0 -> input.\n",
      "DEBUG:onnx2keras:List outputs:\n",
      "DEBUG:onnx2keras:Output 0 -> output.\n",
      "DEBUG:onnx2keras:Gathering weights to dictionary.\n",
      "DEBUG:onnx2keras:Found weight 1 with shape (6, 1, 5, 5).\n",
      "DEBUG:onnx2keras:Found weight 2 with shape (6,).\n",
      "DEBUG:onnx2keras:Found weight 3 with shape (16, 6, 5, 5).\n",
      "DEBUG:onnx2keras:Found weight 4 with shape (16,).\n",
      "DEBUG:onnx2keras:Found weight 5 with shape (120, 400).\n",
      "DEBUG:onnx2keras:Found weight 6 with shape (120,).\n",
      "DEBUG:onnx2keras:Found weight 7 with shape (84, 120).\n",
      "DEBUG:onnx2keras:Found weight 8 with shape (84,).\n",
      "DEBUG:onnx2keras:Found weight 9 with shape (10, 84).\n",
      "DEBUG:onnx2keras:Found weight 10 with shape (10,).\n",
      "DEBUG:onnx2keras:Found input input with shape [1, 28, 28]\n",
      "DEBUG:onnx2keras:######\n",
      "DEBUG:onnx2keras:...\n",
      "DEBUG:onnx2keras:Converting ONNX operation\n",
      "DEBUG:onnx2keras:type: Conv\n",
      "DEBUG:onnx2keras:node_name: 11\n",
      "DEBUG:onnx2keras:node_params: {'dilations': [1, 1], 'group': 1, 'kernel_shape': [5, 5], 'pads': [2, 2, 2, 2], 'strides': [1, 1], 'change_ordering': False, 'name_policy': None}\n",
      "DEBUG:onnx2keras:...\n",
      "DEBUG:onnx2keras:Check if all inputs are available:\n",
      "DEBUG:onnx2keras:Check input 0 (name input).\n",
      "DEBUG:onnx2keras:Check input 1 (name 1).\n",
      "DEBUG:onnx2keras:The input not found in layers / model inputs.\n",
      "DEBUG:onnx2keras:Found in weights, add as a numpy constant.\n",
      "DEBUG:onnx2keras:Check input 2 (name 2).\n",
      "DEBUG:onnx2keras:The input not found in layers / model inputs.\n",
      "DEBUG:onnx2keras:Found in weights, add as a numpy constant.\n",
      "DEBUG:onnx2keras:... found all, continue\n",
      "DEBUG:onnx2keras:conv:Conv with bias\n",
      "DEBUG:onnx2keras:conv:2D convolution\n",
      "DEBUG:onnx2keras:conv:Paddings exist, add ZeroPadding layer\n"
     ]
    },
    {
     "name": "stdout",
     "output_type": "stream",
     "text": [
      "['input']\n"
     ]
    },
    {
     "name": "stderr",
     "output_type": "stream",
     "text": [
      "DEBUG:onnx2keras:Output TF Layer -> KerasTensor(type_spec=TensorSpec(shape=(None, 6, 28, 28), dtype=tf.float32, name=None), name='11/BiasAdd:0', description=\"created by layer '11'\")\n",
      "DEBUG:onnx2keras:######\n",
      "DEBUG:onnx2keras:...\n",
      "DEBUG:onnx2keras:Converting ONNX operation\n",
      "DEBUG:onnx2keras:type: Relu\n",
      "DEBUG:onnx2keras:node_name: 12\n",
      "DEBUG:onnx2keras:node_params: {'change_ordering': False, 'name_policy': None}\n",
      "DEBUG:onnx2keras:...\n",
      "DEBUG:onnx2keras:Check if all inputs are available:\n",
      "DEBUG:onnx2keras:Check input 0 (name 11).\n",
      "DEBUG:onnx2keras:... found all, continue\n",
      "DEBUG:onnx2keras:Output TF Layer -> KerasTensor(type_spec=TensorSpec(shape=(None, 6, 28, 28), dtype=tf.float32, name=None), name='12/Relu:0', description=\"created by layer '12'\")\n",
      "DEBUG:onnx2keras:######\n",
      "DEBUG:onnx2keras:...\n",
      "DEBUG:onnx2keras:Converting ONNX operation\n",
      "DEBUG:onnx2keras:type: Pad\n",
      "DEBUG:onnx2keras:node_name: 13\n",
      "DEBUG:onnx2keras:node_params: {'mode': b'constant', 'pads': [0, 0, 0, 0, 0, 0, 0, 0], 'value': 0.0, 'change_ordering': False, 'name_policy': None}\n",
      "DEBUG:onnx2keras:...\n",
      "DEBUG:onnx2keras:Check if all inputs are available:\n",
      "DEBUG:onnx2keras:Check input 0 (name 12).\n",
      "DEBUG:onnx2keras:... found all, continue\n",
      "DEBUG:onnx2keras:Output TF Layer -> KerasTensor(type_spec=TensorSpec(shape=(None, 6, 28, 28), dtype=tf.float32, name=None), name='13/Pad:0', description=\"created by layer '13'\")\n",
      "DEBUG:onnx2keras:######\n",
      "DEBUG:onnx2keras:...\n",
      "DEBUG:onnx2keras:Converting ONNX operation\n",
      "DEBUG:onnx2keras:type: AveragePool\n",
      "DEBUG:onnx2keras:node_name: 14\n",
      "DEBUG:onnx2keras:node_params: {'ceil_mode': 0, 'kernel_shape': [2, 2], 'pads': [0, 0, 0, 0], 'strides': [2, 2], 'change_ordering': False, 'name_policy': None}\n",
      "DEBUG:onnx2keras:...\n",
      "DEBUG:onnx2keras:Check if all inputs are available:\n",
      "DEBUG:onnx2keras:Check input 0 (name 13).\n",
      "DEBUG:onnx2keras:... found all, continue\n",
      "WARNING:onnx2keras:avgpool:Unable to use `same` padding. Add ZeroPadding2D layer to fix shapes.\n",
      "DEBUG:onnx2keras:Output TF Layer -> KerasTensor(type_spec=TensorSpec(shape=(None, 6, 14, 14), dtype=tf.float32, name=None), name='14/AvgPool:0', description=\"created by layer '14'\")\n",
      "DEBUG:onnx2keras:######\n",
      "DEBUG:onnx2keras:...\n",
      "DEBUG:onnx2keras:Converting ONNX operation\n",
      "DEBUG:onnx2keras:type: Conv\n",
      "DEBUG:onnx2keras:node_name: 15\n",
      "DEBUG:onnx2keras:node_params: {'dilations': [1, 1], 'group': 1, 'kernel_shape': [5, 5], 'pads': [0, 0, 0, 0], 'strides': [1, 1], 'change_ordering': False, 'name_policy': None}\n",
      "DEBUG:onnx2keras:...\n",
      "DEBUG:onnx2keras:Check if all inputs are available:\n",
      "DEBUG:onnx2keras:Check input 0 (name 14).\n",
      "DEBUG:onnx2keras:Check input 1 (name 3).\n",
      "DEBUG:onnx2keras:The input not found in layers / model inputs.\n",
      "DEBUG:onnx2keras:Found in weights, add as a numpy constant.\n",
      "DEBUG:onnx2keras:Check input 2 (name 4).\n",
      "DEBUG:onnx2keras:The input not found in layers / model inputs.\n",
      "DEBUG:onnx2keras:Found in weights, add as a numpy constant.\n",
      "DEBUG:onnx2keras:... found all, continue\n",
      "DEBUG:onnx2keras:conv:Conv with bias\n",
      "DEBUG:onnx2keras:conv:2D convolution\n",
      "DEBUG:onnx2keras:Output TF Layer -> KerasTensor(type_spec=TensorSpec(shape=(None, 16, 10, 10), dtype=tf.float32, name=None), name='15/BiasAdd:0', description=\"created by layer '15'\")\n",
      "DEBUG:onnx2keras:######\n",
      "DEBUG:onnx2keras:...\n",
      "DEBUG:onnx2keras:Converting ONNX operation\n",
      "DEBUG:onnx2keras:type: Relu\n",
      "DEBUG:onnx2keras:node_name: 16\n",
      "DEBUG:onnx2keras:node_params: {'change_ordering': False, 'name_policy': None}\n",
      "DEBUG:onnx2keras:...\n",
      "DEBUG:onnx2keras:Check if all inputs are available:\n",
      "DEBUG:onnx2keras:Check input 0 (name 15).\n",
      "DEBUG:onnx2keras:... found all, continue\n",
      "DEBUG:onnx2keras:Output TF Layer -> KerasTensor(type_spec=TensorSpec(shape=(None, 16, 10, 10), dtype=tf.float32, name=None), name='16/Relu:0', description=\"created by layer '16'\")\n",
      "DEBUG:onnx2keras:######\n",
      "DEBUG:onnx2keras:...\n",
      "DEBUG:onnx2keras:Converting ONNX operation\n",
      "DEBUG:onnx2keras:type: Pad\n",
      "DEBUG:onnx2keras:node_name: 17\n",
      "DEBUG:onnx2keras:node_params: {'mode': b'constant', 'pads': [0, 0, 0, 0, 0, 0, 0, 0], 'value': 0.0, 'change_ordering': False, 'name_policy': None}\n",
      "DEBUG:onnx2keras:...\n",
      "DEBUG:onnx2keras:Check if all inputs are available:\n",
      "DEBUG:onnx2keras:Check input 0 (name 16).\n",
      "DEBUG:onnx2keras:... found all, continue\n",
      "DEBUG:onnx2keras:Output TF Layer -> KerasTensor(type_spec=TensorSpec(shape=(None, 16, 10, 10), dtype=tf.float32, name=None), name='17/Pad:0', description=\"created by layer '17'\")\n",
      "DEBUG:onnx2keras:######\n",
      "DEBUG:onnx2keras:...\n",
      "DEBUG:onnx2keras:Converting ONNX operation\n",
      "DEBUG:onnx2keras:type: AveragePool\n",
      "DEBUG:onnx2keras:node_name: 18\n",
      "DEBUG:onnx2keras:node_params: {'ceil_mode': 0, 'kernel_shape': [2, 2], 'pads': [0, 0, 0, 0], 'strides': [2, 2], 'change_ordering': False, 'name_policy': None}\n",
      "DEBUG:onnx2keras:...\n",
      "DEBUG:onnx2keras:Check if all inputs are available:\n",
      "DEBUG:onnx2keras:Check input 0 (name 17).\n"
     ]
    },
    {
     "name": "stdout",
     "output_type": "stream",
     "text": [
      "[0, 0, 0, 0, 0, 0, 0, 0]\n",
      "[0, 0, 0, 0, 0, 0, 0, 0]\n"
     ]
    },
    {
     "name": "stderr",
     "output_type": "stream",
     "text": [
      "DEBUG:onnx2keras:... found all, continue\n",
      "WARNING:onnx2keras:avgpool:Unable to use `same` padding. Add ZeroPadding2D layer to fix shapes.\n",
      "DEBUG:onnx2keras:Output TF Layer -> KerasTensor(type_spec=TensorSpec(shape=(None, 16, 5, 5), dtype=tf.float32, name=None), name='18/AvgPool:0', description=\"created by layer '18'\")\n",
      "DEBUG:onnx2keras:######\n",
      "DEBUG:onnx2keras:...\n",
      "DEBUG:onnx2keras:Converting ONNX operation\n",
      "DEBUG:onnx2keras:type: Flatten\n",
      "DEBUG:onnx2keras:node_name: 19\n",
      "DEBUG:onnx2keras:node_params: {'axis': 1, 'change_ordering': False, 'name_policy': None}\n",
      "DEBUG:onnx2keras:...\n",
      "DEBUG:onnx2keras:Check if all inputs are available:\n",
      "DEBUG:onnx2keras:Check input 0 (name 18).\n",
      "DEBUG:onnx2keras:... found all, continue\n",
      "DEBUG:onnx2keras:flatten:Convert inputs to Keras/TF layers if needed.\n",
      "DEBUG:onnx2keras:Output TF Layer -> KerasTensor(type_spec=TensorSpec(shape=(None, 400), dtype=tf.float32, name=None), name='19/Reshape:0', description=\"created by layer '19'\")\n",
      "DEBUG:onnx2keras:######\n",
      "DEBUG:onnx2keras:...\n",
      "DEBUG:onnx2keras:Converting ONNX operation\n",
      "DEBUG:onnx2keras:type: Gemm\n",
      "DEBUG:onnx2keras:node_name: 20\n",
      "DEBUG:onnx2keras:node_params: {'alpha': 1.0, 'beta': 1.0, 'transB': 1, 'change_ordering': False, 'name_policy': None}\n",
      "DEBUG:onnx2keras:...\n",
      "DEBUG:onnx2keras:Check if all inputs are available:\n",
      "DEBUG:onnx2keras:Check input 0 (name 19).\n",
      "DEBUG:onnx2keras:Check input 1 (name 5).\n",
      "DEBUG:onnx2keras:The input not found in layers / model inputs.\n",
      "DEBUG:onnx2keras:Found in weights, add as a numpy constant.\n",
      "DEBUG:onnx2keras:Check input 2 (name 6).\n",
      "DEBUG:onnx2keras:The input not found in layers / model inputs.\n",
      "DEBUG:onnx2keras:Found in weights, add as a numpy constant.\n",
      "DEBUG:onnx2keras:... found all, continue\n",
      "DEBUG:onnx2keras:gemm:Convert GEMM with bias.\n",
      "DEBUG:onnx2keras:gemm:Transposing W matrix.\n",
      "DEBUG:onnx2keras:gemm:Input units 400, output units 120.\n",
      "DEBUG:onnx2keras:Output TF Layer -> KerasTensor(type_spec=TensorSpec(shape=(None, 120), dtype=tf.float32, name=None), name='20/BiasAdd:0', description=\"created by layer '20'\")\n",
      "DEBUG:onnx2keras:######\n",
      "DEBUG:onnx2keras:...\n",
      "DEBUG:onnx2keras:Converting ONNX operation\n",
      "DEBUG:onnx2keras:type: Relu\n",
      "DEBUG:onnx2keras:node_name: 21\n",
      "DEBUG:onnx2keras:node_params: {'change_ordering': False, 'name_policy': None}\n",
      "DEBUG:onnx2keras:...\n",
      "DEBUG:onnx2keras:Check if all inputs are available:\n",
      "DEBUG:onnx2keras:Check input 0 (name 20).\n",
      "DEBUG:onnx2keras:... found all, continue\n",
      "DEBUG:onnx2keras:Output TF Layer -> KerasTensor(type_spec=TensorSpec(shape=(None, 120), dtype=tf.float32, name=None), name='21/Relu:0', description=\"created by layer '21'\")\n",
      "DEBUG:onnx2keras:######\n",
      "DEBUG:onnx2keras:...\n",
      "DEBUG:onnx2keras:Converting ONNX operation\n",
      "DEBUG:onnx2keras:type: Gemm\n",
      "DEBUG:onnx2keras:node_name: 22\n",
      "DEBUG:onnx2keras:node_params: {'alpha': 1.0, 'beta': 1.0, 'transB': 1, 'change_ordering': False, 'name_policy': None}\n",
      "DEBUG:onnx2keras:...\n",
      "DEBUG:onnx2keras:Check if all inputs are available:\n",
      "DEBUG:onnx2keras:Check input 0 (name 21).\n",
      "DEBUG:onnx2keras:Check input 1 (name 7).\n",
      "DEBUG:onnx2keras:The input not found in layers / model inputs.\n",
      "DEBUG:onnx2keras:Found in weights, add as a numpy constant.\n",
      "DEBUG:onnx2keras:Check input 2 (name 8).\n",
      "DEBUG:onnx2keras:The input not found in layers / model inputs.\n",
      "DEBUG:onnx2keras:Found in weights, add as a numpy constant.\n",
      "DEBUG:onnx2keras:... found all, continue\n",
      "DEBUG:onnx2keras:gemm:Convert GEMM with bias.\n",
      "DEBUG:onnx2keras:gemm:Transposing W matrix.\n",
      "DEBUG:onnx2keras:gemm:Input units 120, output units 84.\n",
      "DEBUG:onnx2keras:Output TF Layer -> KerasTensor(type_spec=TensorSpec(shape=(None, 84), dtype=tf.float32, name=None), name='22/BiasAdd:0', description=\"created by layer '22'\")\n",
      "DEBUG:onnx2keras:######\n",
      "DEBUG:onnx2keras:...\n",
      "DEBUG:onnx2keras:Converting ONNX operation\n",
      "DEBUG:onnx2keras:type: Relu\n",
      "DEBUG:onnx2keras:node_name: 23\n",
      "DEBUG:onnx2keras:node_params: {'change_ordering': False, 'name_policy': None}\n",
      "DEBUG:onnx2keras:...\n",
      "DEBUG:onnx2keras:Check if all inputs are available:\n",
      "DEBUG:onnx2keras:Check input 0 (name 22).\n",
      "DEBUG:onnx2keras:... found all, continue\n",
      "DEBUG:onnx2keras:Output TF Layer -> KerasTensor(type_spec=TensorSpec(shape=(None, 84), dtype=tf.float32, name=None), name='23/Relu:0', description=\"created by layer '23'\")\n",
      "DEBUG:onnx2keras:######\n",
      "DEBUG:onnx2keras:...\n",
      "DEBUG:onnx2keras:Converting ONNX operation\n",
      "DEBUG:onnx2keras:type: Gemm\n",
      "DEBUG:onnx2keras:node_name: output\n",
      "DEBUG:onnx2keras:node_params: {'alpha': 1.0, 'beta': 1.0, 'transB': 1, 'change_ordering': False, 'name_policy': None}\n",
      "DEBUG:onnx2keras:...\n",
      "DEBUG:onnx2keras:Check if all inputs are available:\n",
      "DEBUG:onnx2keras:Check input 0 (name 23).\n",
      "DEBUG:onnx2keras:Check input 1 (name 9).\n",
      "DEBUG:onnx2keras:The input not found in layers / model inputs.\n",
      "DEBUG:onnx2keras:Found in weights, add as a numpy constant.\n",
      "DEBUG:onnx2keras:Check input 2 (name 10).\n",
      "DEBUG:onnx2keras:The input not found in layers / model inputs.\n",
      "DEBUG:onnx2keras:Found in weights, add as a numpy constant.\n",
      "DEBUG:onnx2keras:... found all, continue\n",
      "DEBUG:onnx2keras:gemm:Convert GEMM with bias.\n",
      "DEBUG:onnx2keras:gemm:Transposing W matrix.\n",
      "DEBUG:onnx2keras:gemm:Input units 84, output units 10.\n",
      "DEBUG:onnx2keras:Output TF Layer -> KerasTensor(type_spec=TensorSpec(shape=(None, 10), dtype=tf.float32, name=None), name='output/BiasAdd:0', description=\"created by layer 'output'\")\n"
     ]
    }
   ],
   "source": [
    "onnx_model = onnx.load(onnx_path+framework+\"/{}/{}.onnx\".format(model_short_name, model_name))\n",
    "tf_rep = prepare(onnx_model)  # prepare tf representation\n",
    "print(tf_rep.inputs)\n",
    "k_model = onnx_to_keras(onnx_model, ['input'])"
   ]
  },
  {
   "cell_type": "code",
   "execution_count": 18,
   "metadata": {},
   "outputs": [
    {
     "name": "stderr",
     "output_type": "stream",
     "text": [
      "/opt/anaconda3/lib/python3.7/site-packages/tensorflow/python/keras/optimizer_v2/optimizer_v2.py:375: UserWarning: The `lr` argument is deprecated, use `learning_rate` instead.\n",
      "  \"The `lr` argument is deprecated, use `learning_rate` instead.\")\n"
     ]
    }
   ],
   "source": [
    "from tensorflow import keras\n",
    "k_model.compile(loss='categorical_crossentropy', optimizer=keras.optimizers.RMSprop(lr=2e-5), metrics=['accuracy'])"
   ]
  },
  {
   "cell_type": "code",
   "execution_count": 19,
   "metadata": {},
   "outputs": [],
   "source": [
    "import tensorflow.keras as K\n",
    "import tensorflow as tf\n",
    "from tensorflow import keras\n",
    "from tensorflow.keras.models import load_model\n",
    "import time\n",
    "import os\n",
    "import copy\n",
    "import csv\n",
    "from tensorflow import keras\n",
    "import tensorflow as tf\n",
    "import pandas as pd\n",
    "from datetime import datetime\n",
    "from sklearn import metrics\n",
    "import tf2onnx\n",
    "import numpy as np\n",
    "import math"
   ]
  },
  {
   "cell_type": "code",
   "execution_count": 20,
   "metadata": {},
   "outputs": [
    {
     "name": "stdout",
     "output_type": "stream",
     "text": [
      "X_train shape:  (60000, 28, 28, 1)\n",
      "60000 training samples\n",
      "10000 test samples\n",
      "One-hot encoding: [0. 0. 0. 0. 0. 1. 0. 0. 0. 0.]\n"
     ]
    }
   ],
   "source": [
    "batch_size = 500 # Number of images processed at once\n",
    "nb_classes = 10  # 10 Digits from 0 to 9\n",
    "\n",
    "# Dimensionen of the input images (28x28 pixel)\n",
    "img_rows, img_cols = 28, 28\n",
    "\n",
    "# Load image data with labels, split into test and training set \n",
    "(X_train, y_train), (X_test, y_test) = tf.keras.datasets.mnist.load_data()\n",
    "\n",
    "# reshape images in 4D tensor (N images, 28 rows, 28 columns, 1 channel) \n",
    "# rescale pixels range from [0, 255] to [0, 1]\n",
    "X_train = X_train.reshape(X_train.shape[0], img_rows, img_cols, 1)\n",
    "X_test = X_test.reshape(X_test.shape[0], img_rows, img_cols, 1)\n",
    "X_train = X_train.astype(\"float32\")\n",
    "X_test = X_test.astype(\"float32\")\n",
    "X_train /= 255\n",
    "X_test /= 255\n",
    "print('X_train shape: ', X_train.shape)\n",
    "print(X_train.shape[0], \"training samples\")\n",
    "print(X_test.shape[0], \"test samples\")\n",
    "\n",
    "# convert digit labels (0-9) in one-hot encoded binary vectors. \n",
    "# These correspond to the training/test labels at the output of the net. \n",
    "Y_train = tf.keras.utils.to_categorical(y_train, nb_classes)\n",
    "Y_test = tf.keras.utils.to_categorical(y_test, nb_classes)\n",
    "print(\"One-hot encoding: {}\".format(Y_train[0, :]))"
   ]
  },
  {
   "cell_type": "code",
   "execution_count": 21,
   "metadata": {},
   "outputs": [
    {
     "name": "stdout",
     "output_type": "stream",
     "text": [
      "Epoch 1/2\n"
     ]
    },
    {
     "ename": "ValueError",
     "evalue": "in user code:\n\n    /opt/anaconda3/lib/python3.7/site-packages/tensorflow/python/keras/engine/training.py:855 train_function  *\n        return step_function(self, iterator)\n    /opt/anaconda3/lib/python3.7/site-packages/tensorflow/python/keras/engine/training.py:845 step_function  **\n        outputs = model.distribute_strategy.run(run_step, args=(data,))\n    /opt/anaconda3/lib/python3.7/site-packages/tensorflow/python/distribute/distribute_lib.py:1285 run\n        return self._extended.call_for_each_replica(fn, args=args, kwargs=kwargs)\n    /opt/anaconda3/lib/python3.7/site-packages/tensorflow/python/distribute/distribute_lib.py:2833 call_for_each_replica\n        return self._call_for_each_replica(fn, args, kwargs)\n    /opt/anaconda3/lib/python3.7/site-packages/tensorflow/python/distribute/distribute_lib.py:3608 _call_for_each_replica\n        return fn(*args, **kwargs)\n    /opt/anaconda3/lib/python3.7/site-packages/tensorflow/python/keras/engine/training.py:838 run_step  **\n        outputs = model.train_step(data)\n    /opt/anaconda3/lib/python3.7/site-packages/tensorflow/python/keras/engine/training.py:795 train_step\n        y_pred = self(x, training=True)\n    /opt/anaconda3/lib/python3.7/site-packages/tensorflow/python/keras/engine/base_layer.py:1013 __call__\n        input_spec.assert_input_compatibility(self.input_spec, inputs, self.name)\n    /opt/anaconda3/lib/python3.7/site-packages/tensorflow/python/keras/engine/input_spec.py:270 assert_input_compatibility\n        ', found shape=' + display_shape(x.shape))\n\n    ValueError: Input 0 is incompatible with layer model: expected shape=(None, 1, 28, 28), found shape=(32, 28, 28, 1)\n",
     "output_type": "error",
     "traceback": [
      "\u001b[0;31m---------------------------------------------------------------------------\u001b[0m",
      "\u001b[0;31mValueError\u001b[0m                                Traceback (most recent call last)",
      "\u001b[0;32m<ipython-input-21-f15c41486d2d>\u001b[0m in \u001b[0;36m<module>\u001b[0;34m\u001b[0m\n\u001b[0;32m----> 1\u001b[0;31m \u001b[0mhistory\u001b[0m \u001b[0;34m=\u001b[0m \u001b[0mk_model\u001b[0m\u001b[0;34m.\u001b[0m\u001b[0mfit\u001b[0m\u001b[0;34m(\u001b[0m\u001b[0mX_train\u001b[0m\u001b[0;34m,\u001b[0m \u001b[0mY_train\u001b[0m\u001b[0;34m,\u001b[0m \u001b[0mbatch_size\u001b[0m\u001b[0;34m=\u001b[0m\u001b[0;36m32\u001b[0m\u001b[0;34m,\u001b[0m \u001b[0mepochs\u001b[0m\u001b[0;34m=\u001b[0m\u001b[0;36m2\u001b[0m\u001b[0;34m,\u001b[0m \u001b[0mverbose\u001b[0m\u001b[0;34m=\u001b[0m\u001b[0;36m1\u001b[0m\u001b[0;34m,\u001b[0m \u001b[0mvalidation_data\u001b[0m\u001b[0;34m=\u001b[0m\u001b[0;34m(\u001b[0m\u001b[0mX_test\u001b[0m\u001b[0;34m,\u001b[0m \u001b[0mY_test\u001b[0m\u001b[0;34m)\u001b[0m\u001b[0;34m)\u001b[0m\u001b[0;34m\u001b[0m\u001b[0;34m\u001b[0m\u001b[0m\n\u001b[0m",
      "\u001b[0;32m/opt/anaconda3/lib/python3.7/site-packages/tensorflow/python/keras/engine/training.py\u001b[0m in \u001b[0;36mfit\u001b[0;34m(self, x, y, batch_size, epochs, verbose, callbacks, validation_split, validation_data, shuffle, class_weight, sample_weight, initial_epoch, steps_per_epoch, validation_steps, validation_batch_size, validation_freq, max_queue_size, workers, use_multiprocessing)\u001b[0m\n\u001b[1;32m   1181\u001b[0m                 _r=1):\n\u001b[1;32m   1182\u001b[0m               \u001b[0mcallbacks\u001b[0m\u001b[0;34m.\u001b[0m\u001b[0mon_train_batch_begin\u001b[0m\u001b[0;34m(\u001b[0m\u001b[0mstep\u001b[0m\u001b[0;34m)\u001b[0m\u001b[0;34m\u001b[0m\u001b[0;34m\u001b[0m\u001b[0m\n\u001b[0;32m-> 1183\u001b[0;31m               \u001b[0mtmp_logs\u001b[0m \u001b[0;34m=\u001b[0m \u001b[0mself\u001b[0m\u001b[0;34m.\u001b[0m\u001b[0mtrain_function\u001b[0m\u001b[0;34m(\u001b[0m\u001b[0miterator\u001b[0m\u001b[0;34m)\u001b[0m\u001b[0;34m\u001b[0m\u001b[0;34m\u001b[0m\u001b[0m\n\u001b[0m\u001b[1;32m   1184\u001b[0m               \u001b[0;32mif\u001b[0m \u001b[0mdata_handler\u001b[0m\u001b[0;34m.\u001b[0m\u001b[0mshould_sync\u001b[0m\u001b[0;34m:\u001b[0m\u001b[0;34m\u001b[0m\u001b[0;34m\u001b[0m\u001b[0m\n\u001b[1;32m   1185\u001b[0m                 \u001b[0mcontext\u001b[0m\u001b[0;34m.\u001b[0m\u001b[0masync_wait\u001b[0m\u001b[0;34m(\u001b[0m\u001b[0;34m)\u001b[0m\u001b[0;34m\u001b[0m\u001b[0;34m\u001b[0m\u001b[0m\n",
      "\u001b[0;32m/opt/anaconda3/lib/python3.7/site-packages/tensorflow/python/eager/def_function.py\u001b[0m in \u001b[0;36m__call__\u001b[0;34m(self, *args, **kwds)\u001b[0m\n\u001b[1;32m    887\u001b[0m \u001b[0;34m\u001b[0m\u001b[0m\n\u001b[1;32m    888\u001b[0m       \u001b[0;32mwith\u001b[0m \u001b[0mOptionalXlaContext\u001b[0m\u001b[0;34m(\u001b[0m\u001b[0mself\u001b[0m\u001b[0;34m.\u001b[0m\u001b[0m_jit_compile\u001b[0m\u001b[0;34m)\u001b[0m\u001b[0;34m:\u001b[0m\u001b[0;34m\u001b[0m\u001b[0;34m\u001b[0m\u001b[0m\n\u001b[0;32m--> 889\u001b[0;31m         \u001b[0mresult\u001b[0m \u001b[0;34m=\u001b[0m \u001b[0mself\u001b[0m\u001b[0;34m.\u001b[0m\u001b[0m_call\u001b[0m\u001b[0;34m(\u001b[0m\u001b[0;34m*\u001b[0m\u001b[0margs\u001b[0m\u001b[0;34m,\u001b[0m \u001b[0;34m**\u001b[0m\u001b[0mkwds\u001b[0m\u001b[0;34m)\u001b[0m\u001b[0;34m\u001b[0m\u001b[0;34m\u001b[0m\u001b[0m\n\u001b[0m\u001b[1;32m    890\u001b[0m \u001b[0;34m\u001b[0m\u001b[0m\n\u001b[1;32m    891\u001b[0m       \u001b[0mnew_tracing_count\u001b[0m \u001b[0;34m=\u001b[0m \u001b[0mself\u001b[0m\u001b[0;34m.\u001b[0m\u001b[0mexperimental_get_tracing_count\u001b[0m\u001b[0;34m(\u001b[0m\u001b[0;34m)\u001b[0m\u001b[0;34m\u001b[0m\u001b[0;34m\u001b[0m\u001b[0m\n",
      "\u001b[0;32m/opt/anaconda3/lib/python3.7/site-packages/tensorflow/python/eager/def_function.py\u001b[0m in \u001b[0;36m_call\u001b[0;34m(self, *args, **kwds)\u001b[0m\n\u001b[1;32m    931\u001b[0m       \u001b[0;31m# This is the first call of __call__, so we have to initialize.\u001b[0m\u001b[0;34m\u001b[0m\u001b[0;34m\u001b[0m\u001b[0;34m\u001b[0m\u001b[0m\n\u001b[1;32m    932\u001b[0m       \u001b[0minitializers\u001b[0m \u001b[0;34m=\u001b[0m \u001b[0;34m[\u001b[0m\u001b[0;34m]\u001b[0m\u001b[0;34m\u001b[0m\u001b[0;34m\u001b[0m\u001b[0m\n\u001b[0;32m--> 933\u001b[0;31m       \u001b[0mself\u001b[0m\u001b[0;34m.\u001b[0m\u001b[0m_initialize\u001b[0m\u001b[0;34m(\u001b[0m\u001b[0margs\u001b[0m\u001b[0;34m,\u001b[0m \u001b[0mkwds\u001b[0m\u001b[0;34m,\u001b[0m \u001b[0madd_initializers_to\u001b[0m\u001b[0;34m=\u001b[0m\u001b[0minitializers\u001b[0m\u001b[0;34m)\u001b[0m\u001b[0;34m\u001b[0m\u001b[0;34m\u001b[0m\u001b[0m\n\u001b[0m\u001b[1;32m    934\u001b[0m     \u001b[0;32mfinally\u001b[0m\u001b[0;34m:\u001b[0m\u001b[0;34m\u001b[0m\u001b[0;34m\u001b[0m\u001b[0m\n\u001b[1;32m    935\u001b[0m       \u001b[0;31m# At this point we know that the initialization is complete (or less\u001b[0m\u001b[0;34m\u001b[0m\u001b[0;34m\u001b[0m\u001b[0;34m\u001b[0m\u001b[0m\n",
      "\u001b[0;32m/opt/anaconda3/lib/python3.7/site-packages/tensorflow/python/eager/def_function.py\u001b[0m in \u001b[0;36m_initialize\u001b[0;34m(self, args, kwds, add_initializers_to)\u001b[0m\n\u001b[1;32m    762\u001b[0m     self._concrete_stateful_fn = (\n\u001b[1;32m    763\u001b[0m         self._stateful_fn._get_concrete_function_internal_garbage_collected(  # pylint: disable=protected-access\n\u001b[0;32m--> 764\u001b[0;31m             *args, **kwds))\n\u001b[0m\u001b[1;32m    765\u001b[0m \u001b[0;34m\u001b[0m\u001b[0m\n\u001b[1;32m    766\u001b[0m     \u001b[0;32mdef\u001b[0m \u001b[0minvalid_creator_scope\u001b[0m\u001b[0;34m(\u001b[0m\u001b[0;34m*\u001b[0m\u001b[0munused_args\u001b[0m\u001b[0;34m,\u001b[0m \u001b[0;34m**\u001b[0m\u001b[0munused_kwds\u001b[0m\u001b[0;34m)\u001b[0m\u001b[0;34m:\u001b[0m\u001b[0;34m\u001b[0m\u001b[0;34m\u001b[0m\u001b[0m\n",
      "\u001b[0;32m/opt/anaconda3/lib/python3.7/site-packages/tensorflow/python/eager/function.py\u001b[0m in \u001b[0;36m_get_concrete_function_internal_garbage_collected\u001b[0;34m(self, *args, **kwargs)\u001b[0m\n\u001b[1;32m   3048\u001b[0m       \u001b[0margs\u001b[0m\u001b[0;34m,\u001b[0m \u001b[0mkwargs\u001b[0m \u001b[0;34m=\u001b[0m \u001b[0;32mNone\u001b[0m\u001b[0;34m,\u001b[0m \u001b[0;32mNone\u001b[0m\u001b[0;34m\u001b[0m\u001b[0;34m\u001b[0m\u001b[0m\n\u001b[1;32m   3049\u001b[0m     \u001b[0;32mwith\u001b[0m \u001b[0mself\u001b[0m\u001b[0;34m.\u001b[0m\u001b[0m_lock\u001b[0m\u001b[0;34m:\u001b[0m\u001b[0;34m\u001b[0m\u001b[0;34m\u001b[0m\u001b[0m\n\u001b[0;32m-> 3050\u001b[0;31m       \u001b[0mgraph_function\u001b[0m\u001b[0;34m,\u001b[0m \u001b[0m_\u001b[0m \u001b[0;34m=\u001b[0m \u001b[0mself\u001b[0m\u001b[0;34m.\u001b[0m\u001b[0m_maybe_define_function\u001b[0m\u001b[0;34m(\u001b[0m\u001b[0margs\u001b[0m\u001b[0;34m,\u001b[0m \u001b[0mkwargs\u001b[0m\u001b[0;34m)\u001b[0m\u001b[0;34m\u001b[0m\u001b[0;34m\u001b[0m\u001b[0m\n\u001b[0m\u001b[1;32m   3051\u001b[0m     \u001b[0;32mreturn\u001b[0m \u001b[0mgraph_function\u001b[0m\u001b[0;34m\u001b[0m\u001b[0;34m\u001b[0m\u001b[0m\n\u001b[1;32m   3052\u001b[0m \u001b[0;34m\u001b[0m\u001b[0m\n",
      "\u001b[0;32m/opt/anaconda3/lib/python3.7/site-packages/tensorflow/python/eager/function.py\u001b[0m in \u001b[0;36m_maybe_define_function\u001b[0;34m(self, args, kwargs)\u001b[0m\n\u001b[1;32m   3442\u001b[0m \u001b[0;34m\u001b[0m\u001b[0m\n\u001b[1;32m   3443\u001b[0m           \u001b[0mself\u001b[0m\u001b[0;34m.\u001b[0m\u001b[0m_function_cache\u001b[0m\u001b[0;34m.\u001b[0m\u001b[0mmissed\u001b[0m\u001b[0;34m.\u001b[0m\u001b[0madd\u001b[0m\u001b[0;34m(\u001b[0m\u001b[0mcall_context_key\u001b[0m\u001b[0;34m)\u001b[0m\u001b[0;34m\u001b[0m\u001b[0;34m\u001b[0m\u001b[0m\n\u001b[0;32m-> 3444\u001b[0;31m           \u001b[0mgraph_function\u001b[0m \u001b[0;34m=\u001b[0m \u001b[0mself\u001b[0m\u001b[0;34m.\u001b[0m\u001b[0m_create_graph_function\u001b[0m\u001b[0;34m(\u001b[0m\u001b[0margs\u001b[0m\u001b[0;34m,\u001b[0m \u001b[0mkwargs\u001b[0m\u001b[0;34m)\u001b[0m\u001b[0;34m\u001b[0m\u001b[0;34m\u001b[0m\u001b[0m\n\u001b[0m\u001b[1;32m   3445\u001b[0m           \u001b[0mself\u001b[0m\u001b[0;34m.\u001b[0m\u001b[0m_function_cache\u001b[0m\u001b[0;34m.\u001b[0m\u001b[0mprimary\u001b[0m\u001b[0;34m[\u001b[0m\u001b[0mcache_key\u001b[0m\u001b[0;34m]\u001b[0m \u001b[0;34m=\u001b[0m \u001b[0mgraph_function\u001b[0m\u001b[0;34m\u001b[0m\u001b[0;34m\u001b[0m\u001b[0m\n\u001b[1;32m   3446\u001b[0m \u001b[0;34m\u001b[0m\u001b[0m\n",
      "\u001b[0;32m/opt/anaconda3/lib/python3.7/site-packages/tensorflow/python/eager/function.py\u001b[0m in \u001b[0;36m_create_graph_function\u001b[0;34m(self, args, kwargs, override_flat_arg_shapes)\u001b[0m\n\u001b[1;32m   3287\u001b[0m             \u001b[0marg_names\u001b[0m\u001b[0;34m=\u001b[0m\u001b[0marg_names\u001b[0m\u001b[0;34m,\u001b[0m\u001b[0;34m\u001b[0m\u001b[0;34m\u001b[0m\u001b[0m\n\u001b[1;32m   3288\u001b[0m             \u001b[0moverride_flat_arg_shapes\u001b[0m\u001b[0;34m=\u001b[0m\u001b[0moverride_flat_arg_shapes\u001b[0m\u001b[0;34m,\u001b[0m\u001b[0;34m\u001b[0m\u001b[0;34m\u001b[0m\u001b[0m\n\u001b[0;32m-> 3289\u001b[0;31m             capture_by_value=self._capture_by_value),\n\u001b[0m\u001b[1;32m   3290\u001b[0m         \u001b[0mself\u001b[0m\u001b[0;34m.\u001b[0m\u001b[0m_function_attributes\u001b[0m\u001b[0;34m,\u001b[0m\u001b[0;34m\u001b[0m\u001b[0;34m\u001b[0m\u001b[0m\n\u001b[1;32m   3291\u001b[0m         \u001b[0mfunction_spec\u001b[0m\u001b[0;34m=\u001b[0m\u001b[0mself\u001b[0m\u001b[0;34m.\u001b[0m\u001b[0mfunction_spec\u001b[0m\u001b[0;34m,\u001b[0m\u001b[0;34m\u001b[0m\u001b[0;34m\u001b[0m\u001b[0m\n",
      "\u001b[0;32m/opt/anaconda3/lib/python3.7/site-packages/tensorflow/python/framework/func_graph.py\u001b[0m in \u001b[0;36mfunc_graph_from_py_func\u001b[0;34m(name, python_func, args, kwargs, signature, func_graph, autograph, autograph_options, add_control_dependencies, arg_names, op_return_value, collections, capture_by_value, override_flat_arg_shapes)\u001b[0m\n\u001b[1;32m    997\u001b[0m         \u001b[0m_\u001b[0m\u001b[0;34m,\u001b[0m \u001b[0moriginal_func\u001b[0m \u001b[0;34m=\u001b[0m \u001b[0mtf_decorator\u001b[0m\u001b[0;34m.\u001b[0m\u001b[0munwrap\u001b[0m\u001b[0;34m(\u001b[0m\u001b[0mpython_func\u001b[0m\u001b[0;34m)\u001b[0m\u001b[0;34m\u001b[0m\u001b[0;34m\u001b[0m\u001b[0m\n\u001b[1;32m    998\u001b[0m \u001b[0;34m\u001b[0m\u001b[0m\n\u001b[0;32m--> 999\u001b[0;31m       \u001b[0mfunc_outputs\u001b[0m \u001b[0;34m=\u001b[0m \u001b[0mpython_func\u001b[0m\u001b[0;34m(\u001b[0m\u001b[0;34m*\u001b[0m\u001b[0mfunc_args\u001b[0m\u001b[0;34m,\u001b[0m \u001b[0;34m**\u001b[0m\u001b[0mfunc_kwargs\u001b[0m\u001b[0;34m)\u001b[0m\u001b[0;34m\u001b[0m\u001b[0;34m\u001b[0m\u001b[0m\n\u001b[0m\u001b[1;32m   1000\u001b[0m \u001b[0;34m\u001b[0m\u001b[0m\n\u001b[1;32m   1001\u001b[0m       \u001b[0;31m# invariant: `func_outputs` contains only Tensors, CompositeTensors,\u001b[0m\u001b[0;34m\u001b[0m\u001b[0;34m\u001b[0m\u001b[0;34m\u001b[0m\u001b[0m\n",
      "\u001b[0;32m/opt/anaconda3/lib/python3.7/site-packages/tensorflow/python/eager/def_function.py\u001b[0m in \u001b[0;36mwrapped_fn\u001b[0;34m(*args, **kwds)\u001b[0m\n\u001b[1;32m    670\u001b[0m         \u001b[0;31m# the function a weak reference to itself to avoid a reference cycle.\u001b[0m\u001b[0;34m\u001b[0m\u001b[0;34m\u001b[0m\u001b[0;34m\u001b[0m\u001b[0m\n\u001b[1;32m    671\u001b[0m         \u001b[0;32mwith\u001b[0m \u001b[0mOptionalXlaContext\u001b[0m\u001b[0;34m(\u001b[0m\u001b[0mcompile_with_xla\u001b[0m\u001b[0;34m)\u001b[0m\u001b[0;34m:\u001b[0m\u001b[0;34m\u001b[0m\u001b[0;34m\u001b[0m\u001b[0m\n\u001b[0;32m--> 672\u001b[0;31m           \u001b[0mout\u001b[0m \u001b[0;34m=\u001b[0m \u001b[0mweak_wrapped_fn\u001b[0m\u001b[0;34m(\u001b[0m\u001b[0;34m)\u001b[0m\u001b[0;34m.\u001b[0m\u001b[0m__wrapped__\u001b[0m\u001b[0;34m(\u001b[0m\u001b[0;34m*\u001b[0m\u001b[0margs\u001b[0m\u001b[0;34m,\u001b[0m \u001b[0;34m**\u001b[0m\u001b[0mkwds\u001b[0m\u001b[0;34m)\u001b[0m\u001b[0;34m\u001b[0m\u001b[0;34m\u001b[0m\u001b[0m\n\u001b[0m\u001b[1;32m    673\u001b[0m         \u001b[0;32mreturn\u001b[0m \u001b[0mout\u001b[0m\u001b[0;34m\u001b[0m\u001b[0;34m\u001b[0m\u001b[0m\n\u001b[1;32m    674\u001b[0m \u001b[0;34m\u001b[0m\u001b[0m\n",
      "\u001b[0;32m/opt/anaconda3/lib/python3.7/site-packages/tensorflow/python/framework/func_graph.py\u001b[0m in \u001b[0;36mwrapper\u001b[0;34m(*args, **kwargs)\u001b[0m\n\u001b[1;32m    984\u001b[0m           \u001b[0;32mexcept\u001b[0m \u001b[0mException\u001b[0m \u001b[0;32mas\u001b[0m \u001b[0me\u001b[0m\u001b[0;34m:\u001b[0m  \u001b[0;31m# pylint:disable=broad-except\u001b[0m\u001b[0;34m\u001b[0m\u001b[0;34m\u001b[0m\u001b[0m\n\u001b[1;32m    985\u001b[0m             \u001b[0;32mif\u001b[0m \u001b[0mhasattr\u001b[0m\u001b[0;34m(\u001b[0m\u001b[0me\u001b[0m\u001b[0;34m,\u001b[0m \u001b[0;34m\"ag_error_metadata\"\u001b[0m\u001b[0;34m)\u001b[0m\u001b[0;34m:\u001b[0m\u001b[0;34m\u001b[0m\u001b[0;34m\u001b[0m\u001b[0m\n\u001b[0;32m--> 986\u001b[0;31m               \u001b[0;32mraise\u001b[0m \u001b[0me\u001b[0m\u001b[0;34m.\u001b[0m\u001b[0mag_error_metadata\u001b[0m\u001b[0;34m.\u001b[0m\u001b[0mto_exception\u001b[0m\u001b[0;34m(\u001b[0m\u001b[0me\u001b[0m\u001b[0;34m)\u001b[0m\u001b[0;34m\u001b[0m\u001b[0;34m\u001b[0m\u001b[0m\n\u001b[0m\u001b[1;32m    987\u001b[0m             \u001b[0;32melse\u001b[0m\u001b[0;34m:\u001b[0m\u001b[0;34m\u001b[0m\u001b[0;34m\u001b[0m\u001b[0m\n\u001b[1;32m    988\u001b[0m               \u001b[0;32mraise\u001b[0m\u001b[0;34m\u001b[0m\u001b[0;34m\u001b[0m\u001b[0m\n",
      "\u001b[0;31mValueError\u001b[0m: in user code:\n\n    /opt/anaconda3/lib/python3.7/site-packages/tensorflow/python/keras/engine/training.py:855 train_function  *\n        return step_function(self, iterator)\n    /opt/anaconda3/lib/python3.7/site-packages/tensorflow/python/keras/engine/training.py:845 step_function  **\n        outputs = model.distribute_strategy.run(run_step, args=(data,))\n    /opt/anaconda3/lib/python3.7/site-packages/tensorflow/python/distribute/distribute_lib.py:1285 run\n        return self._extended.call_for_each_replica(fn, args=args, kwargs=kwargs)\n    /opt/anaconda3/lib/python3.7/site-packages/tensorflow/python/distribute/distribute_lib.py:2833 call_for_each_replica\n        return self._call_for_each_replica(fn, args, kwargs)\n    /opt/anaconda3/lib/python3.7/site-packages/tensorflow/python/distribute/distribute_lib.py:3608 _call_for_each_replica\n        return fn(*args, **kwargs)\n    /opt/anaconda3/lib/python3.7/site-packages/tensorflow/python/keras/engine/training.py:838 run_step  **\n        outputs = model.train_step(data)\n    /opt/anaconda3/lib/python3.7/site-packages/tensorflow/python/keras/engine/training.py:795 train_step\n        y_pred = self(x, training=True)\n    /opt/anaconda3/lib/python3.7/site-packages/tensorflow/python/keras/engine/base_layer.py:1013 __call__\n        input_spec.assert_input_compatibility(self.input_spec, inputs, self.name)\n    /opt/anaconda3/lib/python3.7/site-packages/tensorflow/python/keras/engine/input_spec.py:270 assert_input_compatibility\n        ', found shape=' + display_shape(x.shape))\n\n    ValueError: Input 0 is incompatible with layer model: expected shape=(None, 1, 28, 28), found shape=(32, 28, 28, 1)\n"
     ]
    }
   ],
   "source": [
    "history = k_model.fit(X_train, Y_train, batch_size=32, epochs=2, verbose=1, validation_data=(X_test, Y_test))"
   ]
  },
  {
   "cell_type": "code",
   "execution_count": 11,
   "metadata": {},
   "outputs": [],
   "source": [
    "traced_model = torch.jit.trace(model, x_test)"
   ]
  },
  {
   "cell_type": "code",
   "execution_count": 14,
   "metadata": {},
   "outputs": [
    {
     "name": "stderr",
     "output_type": "stream",
     "text": [
      "Converting Frontend ==> MIL Ops:  98%|█████████▊| 46/47 [00:00<00:00, 2851.12 ops/s]\n",
      "Running MIL Common passes:   0%|          | 0/33 [00:00<?, ? passes/s]/opt/anaconda3/lib/python3.7/site-packages/coremltools/converters/mil/mil/passes/name_sanitization_utils.py:101: UserWarning: Input, 'input.1', of the source model, has been renamed to 'input_1' in the Core ML model.\n",
      "  warnings.warn(msg.format(var.name, new_name))\n",
      "/opt/anaconda3/lib/python3.7/site-packages/coremltools/converters/mil/mil/passes/name_sanitization_utils.py:129: UserWarning: Output, '57', of the source model, has been renamed to 'var_57' in the Core ML model.\n",
      "  warnings.warn(msg.format(var.name, new_name))\n",
      "Running MIL Common passes: 100%|██████████| 33/33 [00:00<00:00, 1557.05 passes/s]\n",
      "Running MIL Clean up passes: 100%|██████████| 8/8 [00:00<00:00, 549.49 passes/s]\n",
      "Translating MIL ==> NeuralNetwork Ops: 100%|██████████| 45/45 [00:00<00:00, 1833.23 ops/s]\n"
     ]
    }
   ],
   "source": [
    "# Using image_input in the inputs parameter:\n",
    "# Convert to Core ML using the Unified Conversion API.\n",
    "coreml_model = coremltools.convert(\n",
    "    traced_model,\n",
    "    inputs=[coremltools.TensorType(shape=x_test.shape)]\n",
    " )"
   ]
  },
  {
   "cell_type": "code",
   "execution_count": 15,
   "metadata": {},
   "outputs": [],
   "source": [
    "split_ = str(coreml_model.get_spec().description.input[0]).split('\\n')\n",
    "name_1 = split_[0].replace('name: \"', '')\n",
    "name_1 = name_1.replace('\"', '')"
   ]
  },
  {
   "cell_type": "code",
   "execution_count": 18,
   "metadata": {},
   "outputs": [],
   "source": []
  },
  {
   "cell_type": "code",
   "execution_count": 19,
   "metadata": {},
   "outputs": [],
   "source": [
    "output_dict_test = coreml_model.predict({name_1:to_numpy(x_test)})"
   ]
  },
  {
   "cell_type": "code",
   "execution_count": 23,
   "metadata": {},
   "outputs": [
    {
     "data": {
      "text/plain": [
       "['var_57']"
      ]
     },
     "execution_count": 23,
     "metadata": {},
     "output_type": "execute_result"
    }
   ],
   "source": []
  },
  {
   "cell_type": "code",
   "execution_count": 24,
   "metadata": {},
   "outputs": [
    {
     "data": {
      "text/plain": [
       "array([[ -8.23903   ,  -2.739309  ,  -0.57399404, ...,  25.12432   ,\n",
       "         -5.8766212 ,   7.7804904 ],\n",
       "       [  1.2041439 ,   1.7744694 ,  23.83385   , ...,  -1.4935052 ,\n",
       "          0.73381054, -20.842278  ],\n",
       "       [ -3.5446525 ,  17.608837  ,  -5.0224304 , ...,  -1.1348255 ,\n",
       "          2.4645977 ,  -2.9240925 ],\n",
       "       ...,\n",
       "       [ -3.667636  ,   3.369899  ,  -5.359874  , ...,  -1.9468975 ,\n",
       "          4.964617  ,   2.219088  ],\n",
       "       [ 17.240082  ,  -7.4075713 ,  -1.3843741 , ...,  -6.6437745 ,\n",
       "          1.8500232 ,  -1.9735501 ],\n",
       "       [  2.2919703 ,  -7.3513675 ,  -7.3908825 , ...,  -7.230786  ,\n",
       "          0.21587932,  -5.5876713 ]], dtype=float32)"
      ]
     },
     "execution_count": 24,
     "metadata": {},
     "output_type": "execute_result"
    }
   ],
   "source": [
    "output_dict_test[list(output_dict_test.keys())[0]]"
   ]
  },
  {
   "cell_type": "code",
   "execution_count": null,
   "metadata": {},
   "outputs": [],
   "source": []
  }
 ],
 "metadata": {
  "kernelspec": {
   "display_name": "Python 3",
   "language": "python",
   "name": "python3"
  },
  "language_info": {
   "codemirror_mode": {
    "name": "ipython",
    "version": 3
   },
   "file_extension": ".py",
   "mimetype": "text/x-python",
   "name": "python",
   "nbconvert_exporter": "python",
   "pygments_lexer": "ipython3",
   "version": "3.7.4"
  }
 },
 "nbformat": 4,
 "nbformat_minor": 2
}
