{
 "cells": [
  {
   "cell_type": "code",
   "execution_count": 1,
   "metadata": {},
   "outputs": [
    {
     "data": {
      "text/plain": [
       "<matplotlib.pyplot._IonContext at 0x7fa9d2012c50>"
      ]
     },
     "execution_count": 1,
     "metadata": {},
     "output_type": "execute_result"
    }
   ],
   "source": [
    "from __future__ import print_function, division\n",
    "#Import needed packages\n",
    "import torch\n",
    "import torch.nn as nn\n",
    "import torch.nn.functional as F\n",
    "import torch.optim as optim\n",
    "#from onnx_tf.backend import prepare\n",
    "import torch.optim as optim\n",
    "from torch.optim import lr_scheduler\n",
    "import numpy as np\n",
    "import torchvision\n",
    "from torchvision import datasets, models, transforms\n",
    "from torch.autograd import Variable\n",
    "#from pytorch2keras.converter import pytorch_to_keras\n",
    "import matplotlib.pyplot as plt\n",
    "import time\n",
    "import os\n",
    "import copy\n",
    "import csv\n",
    "from tensorflow import keras\n",
    "import tensorflow as tf\n",
    "import pandas as pd\n",
    "from datetime import datetime\n",
    "from sklearn import metrics\n",
    "from pathlib import Path\n",
    "plt.ion()   # interactive mode"
   ]
  },
  {
   "cell_type": "code",
   "execution_count": 2,
   "metadata": {},
   "outputs": [],
   "source": [
    "from torchvision import datasets\n",
    "import torchvision.transforms as transforms\n",
    "from torch.utils.data.sampler import SubsetRandomSampler"
   ]
  },
  {
   "cell_type": "code",
   "execution_count": 3,
   "metadata": {},
   "outputs": [
    {
     "name": "stderr",
     "output_type": "stream",
     "text": [
      "/opt/anaconda3/lib/python3.7/site-packages/torchvision/datasets/mnist.py:498: UserWarning: The given NumPy array is not writeable, and PyTorch does not support non-writeable tensors. This means you can write to the underlying (supposedly non-writeable) NumPy array using the tensor. You may want to copy the array to protect its data or make it writeable before converting it to a tensor. This type of warning will be suppressed for the rest of this program. (Triggered internally at  ../torch/csrc/utils/tensor_numpy.cpp:180.)\n",
      "  return torch.from_numpy(parsed.astype(m[2], copy=False)).view(*s)\n"
     ]
    }
   ],
   "source": [
    "# Mnist dataset fpr Lenet\n",
    "batch_size = 128\n",
    "T = torchvision.transforms.Compose([\n",
    "    torchvision.transforms.ToTensor()\n",
    "])\n",
    "train_data = torchvision.datasets.MNIST('mnist_data', train=True, download=True, transform=T)\n",
    "val_data = torchvision.datasets.MNIST('mnist_data', train=False, download=True, transform=T)\n",
    "\n",
    "trainloader = torch.utils.data.DataLoader(train_data, batch_size = batch_size)\n",
    "valloader = torch.utils.data.DataLoader(val_data, batch_size = batch_size)"
   ]
  },
  {
   "cell_type": "code",
   "execution_count": 4,
   "metadata": {},
   "outputs": [
    {
     "name": "stderr",
     "output_type": "stream",
     "text": [
      "WARNING:root:scikit-learn version 1.0.2 is not supported. Minimum required version: 0.17. Maximum required version: 0.19.2. Disabling scikit-learn conversion API.\n",
      "WARNING:root:TensorFlow version 2.5.0 detected. Last version known to be fully compatible is 2.3.1 .\n",
      "Using TensorFlow backend.\n"
     ]
    }
   ],
   "source": [
    "import onnx\n",
    "import onnxruntime\n",
    "import coremltools\n",
    "import time"
   ]
  },
  {
   "cell_type": "code",
   "execution_count": 5,
   "metadata": {},
   "outputs": [],
   "source": [
    "onnx_path = '/Volumes/Cisco/Fall2021/onnx-exchange/conversion/onnx/'\n",
    "coreml_path = '/Volumes/Cisco/Fall2021/onnx-exchange/conversion/coremltools/'\n",
    "error_path = '/Volumes/Cisco/Fall2021/onnx-exchange/miss-classification/v2/'"
   ]
  },
  {
   "cell_type": "code",
   "execution_count": 22,
   "metadata": {},
   "outputs": [],
   "source": [
    "def to_numpy(tensor):\n",
    "    return tensor.detach().cpu().numpy() if tensor.requires_grad else tensor.cpu().numpy()\n",
    "def model_scores(y_test, test_predict):\n",
    "    correct_ = np.sum(y_test == test_predict)#128\n",
    "    accuracy  = correct_ #*100./np.sum(y_test == y_test)#\n",
    "    return accuracy\n",
    "def get_miss_classification(y1, y2):\n",
    "    miss_perc_val_original_coreml = 0\n",
    "    try:\n",
    "        np.testing.assert_array_equal(y1, y2)\n",
    "    except Exception as e:\n",
    "        miss_perc_val_original_coreml = 1\n",
    "    return miss_perc_val_original_coreml #, precision2, recall2, f12"
   ]
  },
  {
   "cell_type": "code",
   "execution_count": 23,
   "metadata": {},
   "outputs": [],
   "source": [
    "def to_onnx(i, x, y, batch_size):\n",
    "    \n",
    "    # Input to the model\n",
    "    #device_reset = cuda.get_current_device()\n",
    "    #device_reset.reset()\n",
    "    #x.cuda()\n",
    "    #print(\"converting for batch: \", i)\n",
    "    \n",
    "    #torch.random.manual_seed(42)\n",
    "    #x = torch.randn(10000, 3, 32, 32, requires_grad=True)\n",
    "    traced_model = torch.jit.trace(model, x)\n",
    "    \n",
    "    ### Original Model\n",
    "    since_1 = time.time()\n",
    "    torch_out = model(x)\n",
    "    inference_time_original = time.time() - since_1\n",
    "    y0 = torch.argmax(torch_out,1)\n",
    "    accuracy_original = model_scores(to_numpy(y), to_numpy(y0))\n",
    "    #miss_test_original = get_miss_classification(to_numpy(y), to_numpy(y0))\n",
    "    # ONNX Model\n",
    "    \n",
    "    t_elapsed_2 = time.time() - since_1\n",
    "    #since_1 = time.time()\n",
    "    #onnx_model = onnx.load(onnx_path+framework+\"/{}/{}.onnx\".format(model_short_name, model_name))\n",
    "    #load_time_onnx = time.time() - since_1\n",
    "    #onnx.checker.check_model(onnx_model)\n",
    "    #size_onnx = os.path.getsize(onnx_path+framework+\"/{}/{}.onnx\".format(model_short_name, model_name))\n",
    "    #def to_numpy(tensor):\n",
    "    #    return tensor.detach().cpu().numpy() if tensor.requires_grad else tensor.cpu().numpy()\n",
    "    #ort_session = onnxruntime.InferenceSession(onnx_path+framework+\"/{}/{}.onnx\".format(model_short_name, model_name))\n",
    "    since_1 = time.time()\n",
    "    ort_inputs = {ort_session.get_inputs()[0].name: to_numpy(x)}\n",
    "    ort_outs = ort_session.run(None, ort_inputs)\n",
    "    inference_time_onnx = time.time() - since_1\n",
    "    # compare ONNX Runtime and PyTorch results\n",
    "    #print(\"\\n*********\\n\\n\")\n",
    "    #time_diff = t_elapsed_0+t_elapsed_1, t_elapsed_2, t_elapsed_3\n",
    "    \n",
    "    ####### Mis-classification ONNX ######################################\n",
    "    ort_outs_tensor = torch.from_numpy(ort_outs[0]) \n",
    "    y2 = torch.argmax(ort_outs_tensor,1)\n",
    "    #y2 = to_categorical(np.argmax(ort_outs[0], 1), num_classes = 10)\n",
    "    #correct_onnx = np.sum(y2 == y)\n",
    "    accuracy_onnx = model_scores(to_numpy(y), to_numpy(y2))\n",
    "    miss_original_onnx = get_miss_classification(to_numpy(y0), to_numpy(y2))\n",
    "    ####### End of mis-classification ONNX ###################################### \n",
    "    \n",
    "    \n",
    "    ## CoreML\n",
    "    \n",
    "    ## Converting the coremltool\n",
    "    #since_1 = time.time()\n",
    "    # Using image_input in the inputs parameter:\n",
    "    # Convert to Core ML using the Unified Conversion API.\n",
    "    #coreml_model = coremltools.convert(traced_model,inputs=[coremltools.TensorType(shape=x.shape)])\n",
    "    #t_conversion_time_coreml = time.time() - since_1\n",
    "    #since_1 = time.time()\n",
    "    #coreml_model.save(coreml_path+framework+'/{}/{}-v2.mlmodel'.format(model_short_name, model_name))\n",
    "    #t_saving_time_coreml = time.time() - since_1\n",
    "    \n",
    "    \n",
    "    #print(name_1)\n",
    "\n",
    "    #size_coreml = os.path.getsize(coreml_path+framework+'/{}/{}-v2.mlmodel'.format(model_short_name, model_name))\n",
    "    \n",
    "    \n",
    "    #since_1 = time.time()\n",
    "    #coreml_model = coremltools.models.MLModel(coreml_path+framework+\"/{}/{}-v2.mlmodel\".format(model_short_name, model_name))\n",
    "    #load_time_coreml = time.time() - since_1\n",
    "    \n",
    "    #spec = coreml_model.get_spec()\n",
    "    #coreml_model = coremltools.models.MLModel(spec)\n",
    "    name_1 = coreml_model.get_spec().description.input[0].name\n",
    "    since_1 = time.time()\n",
    "    output_dict_test = coreml_model.predict({name_1:to_numpy(x)})\n",
    "    inference_time_coreml = time.time() - since_1\n",
    "    ####### Mis-classification coreML ######################################\n",
    "    coreml_array_output = output_dict_test[list(output_dict_test.keys())[0]]\n",
    "    output_tensor = torch.from_numpy(coreml_array_output) \n",
    "    y3 = torch.argmax(output_tensor,1)\n",
    "    #correct_coreml = np.sum(to_numpy(y3) == to_numpy(y))\n",
    "    accuracy_coreml = model_scores(to_numpy(y3), to_numpy(y))\n",
    "    miss_original_coreml = get_miss_classification(to_numpy(y0), to_numpy(y3))\n",
    "    ####### End of mis-classification coreML ######################################\n",
    "    list_val = [accuracy_original, accuracy_onnx, accuracy_coreml, miss_original_onnx, miss_original_coreml,inference_time_original, inference_time_onnx, inference_time_coreml]\n",
    "    return list_val"
   ]
  },
  {
   "cell_type": "code",
   "execution_count": 24,
   "metadata": {},
   "outputs": [],
   "source": [
    "def _lets_convert(data,  data_writer_run, batch_size): # for cifar10 etc\n",
    "    since = time.time()\n",
    "    accuracy_original = 0.0\n",
    "    accuracy_onnx = 0.0\n",
    "    accuracy_coreml = 0.0\n",
    "    #miss_test_original = 0\n",
    "    miss_original_onnx = 0\n",
    "    #miss_test_onnx = 0\n",
    "    miss_original_coreml = 0\n",
    "    #miss_test_coreml = 0\n",
    "    \n",
    "    inference_time_original = 0.0\n",
    "    inference_time_onnx = 0.0\n",
    "    inference_time_coreml = 0.0\n",
    "    \n",
    "    total_ = 0.0\n",
    "    total_datasets = 0\n",
    "    for i, (images, labels) in enumerate(data):\n",
    "        #print(images.shape)\n",
    "        list_val = to_onnx(i, images,labels, batch_size)\n",
    "        #if list_val != None:\n",
    "        if i%50 == 0:\n",
    "            print(i, list_val)\n",
    "        accuracy_original += list_val[0]\n",
    "        accuracy_onnx += list_val[1]\n",
    "        accuracy_coreml += list_val[2]\n",
    "\n",
    "        miss_original_onnx += list_val[3]\n",
    "        miss_original_coreml += list_val[4]\n",
    "\n",
    "        inference_time_original += list_val[5]\n",
    "        inference_time_onnx += list_val[6]\n",
    "        inference_time_coreml += list_val[7]\n",
    "        total_ += np.sum(to_numpy(labels) == to_numpy(labels))\n",
    "        total_datasets += labels.shape[0]\n",
    "        if i == 1000:\n",
    "            break\n",
    "    time_elapsed = time.time() - since\n",
    "    print('Conversion complete in {:.0f}m {:.0f}s'.format(time_elapsed // 60, time_elapsed % 60) )\n",
    "    data_writer_run.writerow([model_short_name,framework, training_id, model_name, round(accuracy_original*100/total_,2), round(accuracy_onnx*100/total_,2), round(accuracy_coreml*100/total_,2),  round(miss_original_onnx*100/total_datasets,2),  round(miss_original_coreml*100/total_datasets,2),'', inference_time_original/total_datasets, inference_time_onnx/total_datasets, inference_time_coreml/total_datasets, '',\n",
    "                              '{:.0f}m {:.0f}s'.format((inference_time_original/total_datasets) // 60, (inference_time_original/total_datasets) % 60),\n",
    "                              '{:.0f}m {:.0f}s'.format((inference_time_onnx/total_datasets) // 60, (inference_time_onnx/total_datasets) % 60),\n",
    "                              '{:.0f}m {:.0f}s'.format((inference_time_coreml/total_datasets) // 60, (inference_time_coreml/total_datasets) % 60),\n",
    "                              '{:.0f}m {:.0f}s'.format(time_elapsed // 60, time_elapsed % 60)])"
   ]
  },
  {
   "cell_type": "code",
   "execution_count": 26,
   "metadata": {},
   "outputs": [
    {
     "name": "stderr",
     "output_type": "stream",
     "text": [
      "Converting Frontend ==> MIL Ops:  98%|█████████▊| 46/47 [00:00<00:00, 1859.71 ops/s]\n",
      "Running MIL Common passes: 100%|██████████| 33/33 [00:00<00:00, 467.75 passes/s]\n",
      "Running MIL Clean up passes: 100%|██████████| 8/8 [00:00<00:00, 129.99 passes/s]\n",
      "Translating MIL ==> NeuralNetwork Ops: 100%|██████████| 45/45 [00:00<00:00, 1256.94 ops/s]\n"
     ]
    },
    {
     "name": "stdout",
     "output_type": "stream",
     "text": [
      "round:  2\n",
      "0 [1, 1, 1, 0, 0, 0.001950979232788086, 0.00040078163146972656, 0.007871866226196289]\n",
      "50 [1, 1, 1, 0, 0, 0.0014102458953857422, 0.0003657341003417969, 0.0022869110107421875]\n",
      "100 [1, 1, 1, 0, 0, 0.0012359619140625, 0.00032520294189453125, 0.002343893051147461]\n",
      "150 [1, 1, 1, 0, 0, 0.0012798309326171875, 0.0003190040588378906, 0.0037009716033935547]\n",
      "200 [1, 1, 1, 0, 0, 0.0012578964233398438, 0.0003666877746582031, 0.005804777145385742]\n",
      "250 [1, 1, 1, 0, 0, 0.0010879039764404297, 0.00032782554626464844, 0.006124734878540039]\n",
      "300 [1, 1, 1, 0, 0, 0.0013489723205566406, 0.0003151893615722656, 0.009440898895263672]\n",
      "350 [1, 1, 1, 0, 0, 0.0013880729675292969, 0.00037217140197753906, 0.005349874496459961]\n",
      "400 [1, 1, 1, 0, 0, 0.0013780593872070312, 0.00032401084899902344, 0.004287004470825195]\n",
      "450 [1, 1, 1, 0, 0, 0.0012688636779785156, 0.0003571510314941406, 0.012959957122802734]\n",
      "500 [1, 1, 1, 0, 0, 0.0015239715576171875, 0.0003361701965332031, 0.0036478042602539062]\n",
      "550 [1, 1, 1, 0, 0, 0.005240678787231445, 0.0007898807525634766, 0.0053408145904541016]\n",
      "600 [1, 1, 1, 0, 0, 0.002849102020263672, 0.00032067298889160156, 0.003676891326904297]\n",
      "650 [1, 1, 1, 0, 0, 0.0012850761413574219, 0.00031828880310058594, 0.0037250518798828125]\n",
      "700 [1, 1, 1, 0, 0, 0.003835916519165039, 0.0006251335144042969, 0.0460200309753418]\n",
      "750 [1, 1, 1, 0, 0, 0.0012888908386230469, 0.00035190582275390625, 0.008440256118774414]\n",
      "800 [1, 1, 1, 0, 0, 0.0016770362854003906, 0.00034928321838378906, 0.00286102294921875]\n",
      "850 [1, 1, 1, 0, 0, 0.001093149185180664, 0.0002827644348144531, 0.003631114959716797]\n",
      "900 [0, 0, 0, 0, 0, 0.023134946823120117, 0.0003249645233154297, 0.010537385940551758]\n",
      "950 [1, 1, 1, 0, 0, 0.0013031959533691406, 0.0004391670227050781, 0.0030143260955810547]\n",
      "1000 [1, 1, 1, 0, 0, 0.0013298988342285156, 0.00043010711669921875, 0.0034677982330322266]\n",
      "Conversion complete in 4m 59s\n"
     ]
    },
    {
     "name": "stderr",
     "output_type": "stream",
     "text": [
      "Converting Frontend ==> MIL Ops:  98%|█████████▊| 46/47 [00:00<00:00, 1947.16 ops/s]\n",
      "Running MIL Common passes: 100%|██████████| 33/33 [00:00<00:00, 1328.67 passes/s]\n",
      "Running MIL Clean up passes: 100%|██████████| 8/8 [00:00<00:00, 300.73 passes/s]\n",
      "Translating MIL ==> NeuralNetwork Ops: 100%|██████████| 45/45 [00:00<00:00, 1624.13 ops/s]\n"
     ]
    },
    {
     "name": "stdout",
     "output_type": "stream",
     "text": [
      "round:  3\n",
      "0 [1, 1, 1, 0, 0, 0.001422882080078125, 0.000415802001953125, 0.005249977111816406]\n",
      "50 [1, 1, 1, 0, 0, 0.0031061172485351562, 0.0003628730773925781, 0.0042324066162109375]\n",
      "100 [1, 1, 1, 0, 0, 0.011851072311401367, 0.003049135208129883, 0.03148913383483887]\n",
      "150 [1, 1, 1, 0, 0, 0.0013887882232666016, 0.00035691261291503906, 0.003994941711425781]\n",
      "200 [1, 1, 1, 0, 0, 0.004968881607055664, 0.0003631114959716797, 0.003940105438232422]\n",
      "250 [1, 1, 1, 0, 0, 0.0012938976287841797, 0.0003380775451660156, 0.0037958621978759766]\n",
      "300 [1, 1, 1, 0, 0, 0.001043081283569336, 0.00029540061950683594, 0.005434751510620117]\n",
      "350 [1, 1, 1, 0, 0, 0.0017120838165283203, 0.00039386749267578125, 0.00913381576538086]\n",
      "400 [1, 1, 1, 0, 0, 0.001386880874633789, 0.00027179718017578125, 0.003668069839477539]\n",
      "450 [1, 1, 1, 0, 0, 0.0025551319122314453, 0.0004379749298095703, 0.043478965759277344]\n",
      "500 [1, 1, 1, 0, 0, 0.0011179447174072266, 0.0003178119659423828, 0.002206087112426758]\n",
      "550 [1, 1, 1, 0, 0, 0.0016481876373291016, 0.0005800724029541016, 0.0073070526123046875]\n",
      "600 [1, 1, 1, 0, 0, 0.002766847610473633, 0.000347137451171875, 0.017555952072143555]\n",
      "650 [1, 1, 1, 0, 0, 0.002505779266357422, 0.0018858909606933594, 0.006028890609741211]\n",
      "700 [1, 1, 1, 0, 0, 0.0010128021240234375, 0.00028395652770996094, 0.006822109222412109]\n",
      "750 [1, 1, 1, 0, 0, 0.0014660358428955078, 0.000308990478515625, 0.0037419795989990234]\n",
      "800 [1, 1, 1, 0, 0, 0.0016889572143554688, 0.00048828125, 0.007995843887329102]\n",
      "850 [1, 1, 1, 0, 0, 0.0013668537139892578, 0.0002799034118652344, 0.002379894256591797]\n",
      "900 [1, 1, 1, 0, 0, 0.0012881755828857422, 0.0002770423889160156, 0.0036232471466064453]\n",
      "950 [1, 1, 1, 0, 0, 0.0015900135040283203, 0.0003757476806640625, 0.00399017333984375]\n",
      "1000 [1, 1, 1, 0, 0, 0.00138092041015625, 0.00028204917907714844, 0.004019021987915039]\n",
      "Conversion complete in 4m 51s\n"
     ]
    },
    {
     "name": "stderr",
     "output_type": "stream",
     "text": [
      "Converting Frontend ==> MIL Ops:  98%|█████████▊| 46/47 [00:00<00:00, 2527.45 ops/s]\n",
      "Running MIL Common passes: 100%|██████████| 33/33 [00:00<00:00, 1415.47 passes/s]\n",
      "Running MIL Clean up passes: 100%|██████████| 8/8 [00:00<00:00, 466.42 passes/s]\n",
      "Translating MIL ==> NeuralNetwork Ops: 100%|██████████| 45/45 [00:00<00:00, 1279.94 ops/s]\n"
     ]
    },
    {
     "name": "stdout",
     "output_type": "stream",
     "text": [
      "round:  4\n",
      "0 [1, 1, 1, 0, 0, 0.001332998275756836, 0.000331878662109375, 0.004353046417236328]\n",
      "50 [1, 1, 1, 0, 0, 0.0015740394592285156, 0.0003459453582763672, 0.0034732818603515625]\n",
      "100 [1, 1, 1, 0, 0, 0.0022499561309814453, 0.00028395652770996094, 0.0022430419921875]\n",
      "150 [1, 1, 1, 0, 0, 0.0012629032135009766, 0.0002923011779785156, 0.0025680065155029297]\n",
      "200 [1, 1, 1, 0, 0, 0.0010771751403808594, 0.00030803680419921875, 0.0041332244873046875]\n",
      "250 [1, 1, 1, 0, 0, 0.0014531612396240234, 0.00035381317138671875, 0.003776073455810547]\n",
      "300 [1, 1, 1, 0, 0, 0.0011820793151855469, 0.000308990478515625, 0.0037419795989990234]\n",
      "350 [1, 1, 1, 0, 0, 0.0013480186462402344, 0.00034117698669433594, 0.003650188446044922]\n",
      "400 [1, 1, 1, 0, 0, 0.0010039806365966797, 0.00026702880859375, 0.0027599334716796875]\n",
      "450 [1, 1, 1, 0, 0, 0.001196146011352539, 0.0002722740173339844, 0.002068042755126953]\n",
      "500 [1, 1, 1, 0, 0, 0.0008738040924072266, 0.0002589225769042969, 0.0034880638122558594]\n",
      "550 [1, 1, 1, 0, 0, 0.0009009838104248047, 0.00023317337036132812, 0.0033788681030273438]\n",
      "600 [1, 1, 1, 0, 0, 0.0008740425109863281, 0.00026488304138183594, 0.0036478042602539062]\n",
      "650 [1, 1, 1, 0, 0, 0.000949859619140625, 0.0002827644348144531, 0.003757953643798828]\n",
      "700 [1, 1, 1, 0, 0, 0.0008740425109863281, 0.00024819374084472656, 0.002099275588989258]\n",
      "750 [1, 1, 1, 0, 0, 0.0013172626495361328, 0.0002777576446533203, 0.0037050247192382812]\n",
      "800 [1, 1, 1, 0, 0, 0.0016586780548095703, 0.0005099773406982422, 0.008299112319946289]\n",
      "850 [1, 1, 1, 0, 0, 0.001458883285522461, 0.0003409385681152344, 0.003629922866821289]\n",
      "900 [1, 1, 1, 0, 0, 0.001190185546875, 0.00026106834411621094, 0.003932952880859375]\n",
      "950 [1, 1, 1, 0, 0, 0.0013871192932128906, 0.0003490447998046875, 0.004030942916870117]\n",
      "1000 [1, 1, 1, 0, 0, 0.0010118484497070312, 0.0003898143768310547, 0.0038957595825195312]\n",
      "Conversion complete in 4m 51s\n"
     ]
    },
    {
     "name": "stderr",
     "output_type": "stream",
     "text": [
      "Converting Frontend ==> MIL Ops:  98%|█████████▊| 46/47 [00:00<00:00, 1202.02 ops/s]\n",
      "Running MIL Common passes: 100%|██████████| 33/33 [00:00<00:00, 854.17 passes/s]\n",
      "Running MIL Clean up passes: 100%|██████████| 8/8 [00:00<00:00, 379.20 passes/s]\n",
      "Translating MIL ==> NeuralNetwork Ops: 100%|██████████| 45/45 [00:00<00:00, 1614.01 ops/s]\n"
     ]
    },
    {
     "name": "stdout",
     "output_type": "stream",
     "text": [
      "round:  5\n",
      "0 [1, 1, 1, 0, 0, 0.023283958435058594, 0.0013370513916015625, 0.006392002105712891]\n",
      "50 [1, 1, 1, 0, 0, 0.0010869503021240234, 0.0004849433898925781, 0.004101991653442383]\n",
      "100 [1, 1, 1, 0, 0, 0.001313924789428711, 0.0002779960632324219, 0.003604888916015625]\n",
      "150 [1, 1, 1, 0, 0, 0.0009999275207519531, 0.0003421306610107422, 0.0036983489990234375]\n",
      "200 [1, 1, 1, 0, 0, 0.0012099742889404297, 0.0003209114074707031, 0.003968000411987305]\n",
      "250 [1, 1, 1, 0, 0, 0.0009670257568359375, 0.00028705596923828125, 0.0033872127532958984]\n",
      "300 [1, 1, 1, 0, 0, 0.0012221336364746094, 0.00038909912109375, 0.003634929656982422]\n",
      "350 [1, 1, 1, 0, 0, 0.0011432170867919922, 0.00039696693420410156, 0.0040628910064697266]\n",
      "400 [1, 1, 1, 0, 0, 0.0009388923645019531, 0.00039005279541015625, 0.00409388542175293]\n",
      "450 [1, 1, 1, 0, 0, 0.0016651153564453125, 0.00035834312438964844, 0.0033299922943115234]\n",
      "500 [1, 1, 1, 0, 0, 0.0011909008026123047, 0.0003139972686767578, 0.003570079803466797]\n",
      "550 [1, 1, 1, 0, 0, 0.0013170242309570312, 0.00039887428283691406, 0.0055506229400634766]\n",
      "600 [1, 1, 1, 0, 0, 0.0015039443969726562, 0.0003032684326171875, 0.003847837448120117]\n",
      "650 [1, 1, 1, 0, 0, 0.0009610652923583984, 0.0002560615539550781, 0.002649068832397461]\n",
      "700 [1, 1, 1, 0, 0, 0.0009171962738037109, 0.00026416778564453125, 0.0037398338317871094]\n",
      "750 [1, 1, 1, 0, 0, 0.0009479522705078125, 0.0002601146697998047, 0.0077288150787353516]\n",
      "800 [1, 1, 1, 0, 0, 0.0010988712310791016, 0.00035500526428222656, 0.0061380863189697266]\n",
      "850 [1, 1, 1, 0, 0, 0.00339508056640625, 0.0003261566162109375, 0.010570049285888672]\n",
      "900 [1, 1, 1, 0, 0, 0.0009620189666748047, 0.00026297569274902344, 0.0021622180938720703]\n",
      "950 [1, 1, 1, 0, 0, 0.001049041748046875, 0.000308990478515625, 0.0025129318237304688]\n",
      "1000 [1, 1, 1, 0, 0, 0.0010790824890136719, 0.00026106834411621094, 0.003676176071166992]\n",
      "Conversion complete in 4m 6s\n"
     ]
    },
    {
     "name": "stderr",
     "output_type": "stream",
     "text": [
      "Converting Frontend ==> MIL Ops:  98%|█████████▊| 46/47 [00:00<00:00, 2319.36 ops/s]\n",
      "Running MIL Common passes: 100%|██████████| 33/33 [00:00<00:00, 1374.55 passes/s]\n",
      "Running MIL Clean up passes: 100%|██████████| 8/8 [00:00<00:00, 282.73 passes/s]\n",
      "Translating MIL ==> NeuralNetwork Ops: 100%|██████████| 45/45 [00:00<00:00, 1212.25 ops/s]\n"
     ]
    },
    {
     "name": "stdout",
     "output_type": "stream",
     "text": [
      "round:  6\n",
      "0 [1, 1, 1, 0, 0, 0.0044748783111572266, 0.0004696846008300781, 0.053936004638671875]\n",
      "50 [1, 1, 1, 0, 0, 0.001177072525024414, 0.0003108978271484375, 0.003529071807861328]\n",
      "100 [1, 1, 1, 0, 0, 0.0010380744934082031, 0.00024509429931640625, 0.003536701202392578]\n",
      "150 [1, 1, 1, 0, 0, 0.0012350082397460938, 0.0005991458892822266, 0.0052568912506103516]\n",
      "200 [1, 1, 1, 0, 0, 0.0012731552124023438, 0.0002598762512207031, 0.003608226776123047]\n",
      "250 [1, 1, 1, 0, 0, 0.0011088848114013672, 0.00024890899658203125, 0.0033648014068603516]\n",
      "300 [1, 1, 1, 0, 0, 0.0017848014831542969, 0.0002818107604980469, 0.0021276473999023438]\n",
      "350 [1, 1, 1, 0, 0, 0.0011887550354003906, 0.0003008842468261719, 0.003461122512817383]\n",
      "400 [1, 1, 1, 0, 0, 0.0024399757385253906, 0.00030303001403808594, 0.015226125717163086]\n",
      "450 [1, 1, 1, 0, 0, 0.001210927963256836, 0.0007469654083251953, 0.017194032669067383]\n",
      "500 [1, 1, 1, 0, 0, 0.0009469985961914062, 0.0003371238708496094, 0.002512216567993164]\n",
      "550 [1, 1, 1, 0, 0, 0.001230001449584961, 0.0007197856903076172, 0.003927946090698242]\n",
      "600 [1, 1, 1, 0, 0, 0.0011279582977294922, 0.00026488304138183594, 0.0021209716796875]\n",
      "650 [1, 1, 1, 0, 0, 0.0009441375732421875, 0.00025582313537597656, 0.0021996498107910156]\n",
      "700 [1, 1, 1, 0, 0, 0.001233816146850586, 0.0002980232238769531, 0.0036149024963378906]\n",
      "750 [1, 1, 1, 0, 0, 0.004452228546142578, 0.00037384033203125, 0.0031287670135498047]\n",
      "800 [1, 1, 1, 0, 0, 0.0009410381317138672, 0.00024390220642089844, 0.0035588741302490234]\n",
      "850 [1, 1, 1, 0, 0, 0.0013659000396728516, 0.00035500526428222656, 0.013561248779296875]\n",
      "900 [1, 1, 1, 0, 0, 0.0010879039764404297, 0.00025916099548339844, 0.003438234329223633]\n",
      "950 [1, 1, 1, 0, 0, 0.0018551349639892578, 0.0003409385681152344, 0.0037970542907714844]\n",
      "1000 [1, 1, 1, 0, 0, 0.0010540485382080078, 0.00030803680419921875, 0.003557920455932617]\n",
      "Conversion complete in 4m 1s\n"
     ]
    },
    {
     "name": "stderr",
     "output_type": "stream",
     "text": [
      "Converting Frontend ==> MIL Ops:  98%|█████████▊| 46/47 [00:00<00:00, 1250.81 ops/s]\n",
      "Running MIL Common passes: 100%|██████████| 33/33 [00:00<00:00, 728.50 passes/s]\n",
      "Running MIL Clean up passes: 100%|██████████| 8/8 [00:00<00:00, 325.40 passes/s]\n",
      "Translating MIL ==> NeuralNetwork Ops: 100%|██████████| 45/45 [00:00<00:00, 1059.82 ops/s]\n"
     ]
    },
    {
     "name": "stdout",
     "output_type": "stream",
     "text": [
      "round:  7\n",
      "0 [1, 1, 1, 0, 0, 0.0015499591827392578, 0.00044608116149902344, 0.0032129287719726562]\n",
      "50 [1, 1, 1, 0, 0, 0.0014052391052246094, 0.0003490447998046875, 0.0046901702880859375]\n",
      "100 [1, 1, 1, 0, 0, 0.0017161369323730469, 0.0003879070281982422, 0.0025551319122314453]\n",
      "150 [1, 1, 1, 0, 0, 0.0009510517120361328, 0.0002727508544921875, 0.003874063491821289]\n",
      "200 [1, 1, 1, 0, 0, 0.0009391307830810547, 0.00027680397033691406, 0.0037488937377929688]\n",
      "250 [1, 1, 1, 0, 0, 0.0011019706726074219, 0.0002627372741699219, 0.0022690296173095703]\n",
      "300 [1, 1, 1, 0, 0, 0.0009162425994873047, 0.00023126602172851562, 0.0022377967834472656]\n",
      "350 [1, 1, 1, 0, 0, 0.0012369155883789062, 0.0003120899200439453, 0.0041599273681640625]\n",
      "400 [1, 1, 1, 0, 0, 0.001088857650756836, 0.0003190040588378906, 0.0040798187255859375]\n",
      "450 [1, 1, 1, 0, 0, 0.0031702518463134766, 0.00031185150146484375, 0.010576009750366211]\n",
      "500 [1, 1, 1, 0, 0, 0.0009169578552246094, 0.00023174285888671875, 0.005764961242675781]\n",
      "550 [1, 1, 1, 0, 0, 0.002031087875366211, 0.0003509521484375, 0.0032341480255126953]\n",
      "600 [1, 1, 1, 0, 0, 0.0011668205261230469, 0.00027489662170410156, 0.0038938522338867188]\n",
      "650 [1, 1, 1, 0, 0, 0.0012009143829345703, 0.00030684471130371094, 0.0034601688385009766]\n",
      "700 [1, 1, 1, 0, 0, 0.0011301040649414062, 0.000244140625, 0.003738880157470703]\n",
      "750 [1, 1, 1, 0, 0, 0.0008859634399414062, 0.00025773048400878906, 0.0035941600799560547]\n",
      "800 [1, 1, 1, 0, 0, 0.0009191036224365234, 0.000270843505859375, 0.0037941932678222656]\n",
      "850 [1, 1, 1, 0, 0, 0.000911712646484375, 0.00023698806762695312, 0.0036628246307373047]\n",
      "900 [1, 1, 1, 0, 0, 0.0014262199401855469, 0.00028586387634277344, 0.0036399364471435547]\n",
      "950 [1, 1, 1, 0, 0, 0.0009329319000244141, 0.0002799034118652344, 0.0035750865936279297]\n",
      "1000 [1, 1, 1, 0, 0, 0.0010731220245361328, 0.0002541542053222656, 0.003751993179321289]\n",
      "Conversion complete in 3m 38s\n"
     ]
    },
    {
     "name": "stderr",
     "output_type": "stream",
     "text": [
      "Converting Frontend ==> MIL Ops:  98%|█████████▊| 46/47 [00:00<00:00, 2270.05 ops/s]\n",
      "Running MIL Common passes: 100%|██████████| 33/33 [00:00<00:00, 1092.28 passes/s]\n",
      "Running MIL Clean up passes: 100%|██████████| 8/8 [00:00<00:00, 207.35 passes/s]\n",
      "Translating MIL ==> NeuralNetwork Ops: 100%|██████████| 45/45 [00:00<00:00, 1646.30 ops/s]\n"
     ]
    },
    {
     "name": "stdout",
     "output_type": "stream",
     "text": [
      "round:  8\n",
      "0 [1, 1, 1, 0, 0, 0.0010387897491455078, 0.0004138946533203125, 0.00421905517578125]\n",
      "50 [1, 1, 1, 0, 0, 0.0008869171142578125, 0.0002899169921875, 0.004060029983520508]\n",
      "100 [1, 1, 1, 0, 0, 0.0009469985961914062, 0.000270843505859375, 0.0038712024688720703]\n",
      "150 [1, 1, 1, 0, 0, 0.0014681816101074219, 0.0002570152282714844, 0.0022771358489990234]\n",
      "200 [1, 1, 1, 0, 0, 0.0008749961853027344, 0.00024080276489257812, 0.003515958786010742]\n",
      "250 [1, 1, 1, 0, 0, 0.0013861656188964844, 0.000308990478515625, 0.0037622451782226562]\n",
      "300 [1, 1, 1, 0, 0, 0.0017061233520507812, 0.0002791881561279297, 0.004772186279296875]\n",
      "350 [1, 1, 1, 0, 0, 0.0009222030639648438, 0.0002560615539550781, 0.0034112930297851562]\n",
      "400 [1, 1, 1, 0, 0, 0.0010530948638916016, 0.0003161430358886719, 0.007542133331298828]\n",
      "450 [1, 1, 1, 0, 0, 0.001188039779663086, 0.0005550384521484375, 0.0023679733276367188]\n",
      "500 [1, 1, 1, 0, 0, 0.0028879642486572266, 0.00041174888610839844, 0.011742830276489258]\n",
      "550 [1, 1, 1, 0, 0, 0.0009150505065917969, 0.0002701282501220703, 0.0038487911224365234]\n",
      "600 [1, 1, 1, 0, 0, 0.0012328624725341797, 0.0003330707550048828, 0.004914999008178711]\n",
      "650 [1, 1, 1, 0, 0, 0.0008671283721923828, 0.00025081634521484375, 0.003582000732421875]\n",
      "700 [1, 1, 1, 0, 0, 0.0011358261108398438, 0.00033211708068847656, 0.003551006317138672]\n",
      "750 [1, 1, 1, 0, 0, 0.0010018348693847656, 0.0002410411834716797, 0.0033981800079345703]\n",
      "800 [1, 1, 1, 0, 0, 0.0009238719940185547, 0.00025081634521484375, 0.0032401084899902344]\n",
      "850 [1, 1, 1, 0, 0, 0.0011372566223144531, 0.0003039836883544922, 0.0033538341522216797]\n",
      "900 [1, 1, 1, 0, 0, 0.0008730888366699219, 0.00026607513427734375, 0.003589153289794922]\n",
      "950 [1, 1, 1, 0, 0, 0.0009629726409912109, 0.0002460479736328125, 0.0034286975860595703]\n",
      "1000 [1, 1, 1, 0, 0, 0.0009970664978027344, 0.00031185150146484375, 0.003412008285522461]\n",
      "Conversion complete in 3m 25s\n"
     ]
    },
    {
     "name": "stderr",
     "output_type": "stream",
     "text": [
      "Converting Frontend ==> MIL Ops:  98%|█████████▊| 46/47 [00:00<00:00, 1086.96 ops/s]\n",
      "Running MIL Common passes: 100%|██████████| 33/33 [00:00<00:00, 649.57 passes/s]\n",
      "Running MIL Clean up passes: 100%|██████████| 8/8 [00:00<00:00, 239.59 passes/s]\n",
      "Translating MIL ==> NeuralNetwork Ops: 100%|██████████| 45/45 [00:00<00:00, 1219.85 ops/s]\n"
     ]
    },
    {
     "name": "stdout",
     "output_type": "stream",
     "text": [
      "round:  9\n",
      "0 [1, 1, 1, 0, 0, 0.00131988525390625, 0.00034999847412109375, 0.004561901092529297]\n",
      "50 [1, 1, 1, 0, 0, 0.0009388923645019531, 0.00025391578674316406, 0.0034837722778320312]\n",
      "100 [1, 1, 1, 0, 0, 0.0009169578552246094, 0.000247955322265625, 0.0038268566131591797]\n",
      "150 [1, 1, 1, 0, 0, 0.0012979507446289062, 0.0003132820129394531, 0.0036411285400390625]\n",
      "200 [1, 1, 1, 0, 0, 0.0010371208190917969, 0.00027108192443847656, 0.0037050247192382812]\n",
      "250 [1, 1, 1, 0, 0, 0.0007517337799072266, 0.00020360946655273438, 0.006320953369140625]\n",
      "300 [1, 1, 1, 0, 0, 0.0008139610290527344, 0.00023603439331054688, 0.003571033477783203]\n",
      "350 [1, 1, 1, 0, 0, 0.0012249946594238281, 0.00045680999755859375, 0.0042040348052978516]\n",
      "400 [1, 1, 1, 0, 0, 0.0012431144714355469, 0.0003209114074707031, 0.004034757614135742]\n",
      "450 [1, 1, 1, 0, 0, 0.0009019374847412109, 0.0002460479736328125, 0.003443002700805664]\n",
      "500 [1, 1, 1, 0, 0, 0.0007870197296142578, 0.00021123886108398438, 0.0034902095794677734]\n",
      "550 [1, 1, 1, 0, 0, 0.0009069442749023438, 0.0002460479736328125, 0.0035250186920166016]\n",
      "600 [1, 1, 1, 0, 0, 0.0009551048278808594, 0.0003147125244140625, 0.0035479068756103516]\n",
      "650 [1, 1, 1, 0, 0, 0.0011851787567138672, 0.00028324127197265625, 0.00535893440246582]\n",
      "700 [1, 1, 1, 0, 0, 0.0008420944213867188, 0.00026297569274902344, 0.0037457942962646484]\n",
      "750 [1, 1, 1, 0, 0, 0.0010828971862792969, 0.0002880096435546875, 0.00380706787109375]\n",
      "800 [1, 1, 1, 0, 0, 0.0011589527130126953, 0.0003178119659423828, 0.003762960433959961]\n",
      "850 [1, 1, 1, 0, 0, 0.0012869834899902344, 0.00027298927307128906, 0.003664255142211914]\n",
      "900 [0, 0, 0, 0, 0, 0.001264810562133789, 0.00029015541076660156, 0.003787994384765625]\n",
      "950 [1, 1, 1, 0, 0, 0.0011000633239746094, 0.0002808570861816406, 0.0037539005279541016]\n",
      "1000 [1, 1, 1, 0, 0, 0.0007679462432861328, 0.0002720355987548828, 0.0036957263946533203]\n",
      "Conversion complete in 3m 13s\n"
     ]
    },
    {
     "name": "stderr",
     "output_type": "stream",
     "text": [
      "Converting Frontend ==> MIL Ops:  98%|█████████▊| 46/47 [00:00<00:00, 1661.54 ops/s]\n",
      "Running MIL Common passes: 100%|██████████| 33/33 [00:00<00:00, 713.09 passes/s]\n",
      "Running MIL Clean up passes: 100%|██████████| 8/8 [00:00<00:00, 240.02 passes/s]\n",
      "Translating MIL ==> NeuralNetwork Ops: 100%|██████████| 45/45 [00:00<00:00, 965.28 ops/s]\n"
     ]
    },
    {
     "name": "stdout",
     "output_type": "stream",
     "text": [
      "round:  10\n",
      "0 [1, 1, 1, 0, 0, 0.0014920234680175781, 0.0003352165222167969, 0.003515005111694336]\n",
      "50 [1, 1, 1, 0, 0, 0.0008368492126464844, 0.0002541542053222656, 0.0036230087280273438]\n",
      "100 [1, 1, 1, 0, 0, 0.0012459754943847656, 0.0002701282501220703, 0.0035400390625]\n",
      "150 [1, 1, 1, 0, 0, 0.0009860992431640625, 0.0002868175506591797, 0.0034911632537841797]\n",
      "200 [1, 1, 1, 0, 0, 0.0008950233459472656, 0.000286102294921875, 0.0035767555236816406]\n",
      "250 [1, 1, 1, 0, 0, 0.002009153366088867, 0.00043392181396484375, 0.026340723037719727]\n",
      "300 [1, 1, 1, 0, 0, 0.00140380859375, 0.0002932548522949219, 0.0020668506622314453]\n",
      "350 [1, 1, 1, 0, 0, 0.0016608238220214844, 0.000324249267578125, 0.0027990341186523438]\n",
      "400 [1, 1, 1, 0, 0, 0.0009949207305908203, 0.00026106834411621094, 0.003383159637451172]\n",
      "450 [1, 1, 1, 0, 0, 0.0015728473663330078, 0.0002880096435546875, 0.003470897674560547]\n",
      "500 [1, 1, 1, 0, 0, 0.0019681453704833984, 0.00031495094299316406, 0.002148151397705078]\n",
      "550 [1, 1, 1, 0, 0, 0.0010399818420410156, 0.0003001689910888672, 0.005591630935668945]\n",
      "600 [1, 1, 1, 0, 0, 0.0008969306945800781, 0.00025010108947753906, 0.0027289390563964844]\n",
      "650 [1, 1, 1, 0, 0, 0.0008490085601806641, 0.00024819374084472656, 0.0034379959106445312]\n",
      "700 [1, 1, 1, 0, 0, 0.0009469985961914062, 0.00023508071899414062, 0.006680011749267578]\n",
      "750 [1, 1, 1, 0, 0, 0.0012111663818359375, 0.00023603439331054688, 0.002065896987915039]\n",
      "800 [1, 1, 1, 0, 0, 0.0010287761688232422, 0.0002899169921875, 0.003509044647216797]\n",
      "850 [1, 1, 1, 0, 0, 0.0011298656463623047, 0.0002739429473876953, 0.003937959671020508]\n",
      "900 [1, 1, 1, 0, 0, 0.0010030269622802734, 0.0002758502960205078, 0.003936052322387695]\n",
      "950 [1, 1, 1, 0, 0, 0.0018589496612548828, 0.00026798248291015625, 0.0033190250396728516]\n",
      "1000 [1, 1, 1, 0, 0, 0.0012469291687011719, 0.00096893310546875, 0.003741025924682617]\n",
      "Conversion complete in 3m 49s\n"
     ]
    }
   ],
   "source": [
    "import pandas as pd \n",
    "\n",
    "#data_file_run = open(error_path+framework+\"/{}/runtime_miss-classification_{}.csv\".format(model_short_name,model_name), mode='w', newline='',\n",
    "#                                  encoding='utf-8')\n",
    "#data_writer_run = csv.writer(data_file_run, delimiter=',', quotechar='\"', quoting=csv.QUOTE_MINIMAL)\n",
    "#data_writer_run.writerow(['model','framework', 'training_id', 'model_full', \"batch_size\", 'round','runtime','original_load_time', 'original_infererence_time', 'runtime_load_time', \n",
    "#                          'runtime_inference_time',  'miss_classified_original_runtime_percentage','',  'encoded_miss_classified_original_runtime_percentage','encoded_miss_classified_original_test_runtime_percentage', '', 'accuracy_original', 'accuracy_runtime'])\n",
    "valloader = torch.utils.data.DataLoader(val_data, batch_size = 1)\n",
    "for i, (images, labels) in enumerate(valloader):\n",
    "    images_ = images\n",
    "    labels_ = labels \n",
    "    break\n",
    "shape_ = images_.shape\n",
    "for round_ in [2,3,4,5,6,7,8,9,10]: #,2,3,4,5,6,7,8,9,10\n",
    "    training_id = round_\n",
    "    model_short_name = 'lenet5'\n",
    "    framework = 'pytorch'\n",
    "    path = '/Volumes/Cisco/Fall2021/onnx-exchange/Training/{}/{}/'.format(framework, model_short_name)\n",
    "\n",
    "    # Model class must be defined somewhere\n",
    "    since_0 = time.time()\n",
    "    model_name = 'torch_lenet5-mnist_2021-11-01_{}'.format(training_id)\n",
    "    #model_name = 'torch_lenet5-mnist_2021-11-01_{}'.format(training_id)\n",
    "    model = torch.load(path+model_name+'.pth', map_location=torch.device('cpu'))\n",
    "    #resnet50_model.eval()\n",
    "    t_elapsed_0 = time.time() - since_0\n",
    "    size0 = os.path.getsize(path+model_name+'.pth')\n",
    "    size0\n",
    "    \n",
    "    since_1 = time.time()\n",
    "    onnx_model = onnx.load(onnx_path+framework+\"/{}/{}.onnx\".format(model_short_name, model_name))\n",
    "    load_time_onnx = time.time() - since_1\n",
    "    onnx.checker.check_model(onnx_model)\n",
    "    size_onnx = os.path.getsize(onnx_path+framework+\"/{}/{}.onnx\".format(model_short_name, model_name))\n",
    "    #def to_numpy(tensor):\n",
    "    #    return tensor.detach().cpu().numpy() if tensor.requires_grad else tensor.cpu().numpy()\n",
    "    ort_session = onnxruntime.InferenceSession(onnx_path+framework+\"/{}/{}.onnx\".format(model_short_name, model_name))\n",
    "    \n",
    "    \n",
    "    # Convert to Core ML using the Unified Conversion API.\n",
    "    traced_model = torch.jit.trace(model, images_)\n",
    "    coreml_model = coremltools.convert(traced_model,inputs=[coremltools.TensorType(shape=images_.shape)])\n",
    "    #t_conversion_time_coreml = time.time() - since_1\n",
    "    \n",
    "    #since_1 = time.time()\n",
    "    #coreml_model = coremltools.models.MLModel(coreml_path+framework+\"/{}/{}-v2.mlmodel\".format(model_short_name, model_name))\n",
    "    #load_time_coreml = time.time() - since_1\n",
    "    \n",
    "    if not os.path.exists(error_path+framework):\n",
    "        Path(error_path+framework).mkdir(parents=True, exist_ok=True)\n",
    "    \n",
    "    print('round: ', round_)\n",
    "    flag = 0\n",
    "    if not os.path.exists(error_path+framework+\"/runtime_accuracy_{}.csv\".format(model_short_name)):\n",
    "        data_file_run = open(error_path+framework+\"/runtime_accuracy_{}.csv\".format(model_short_name), mode='w', newline='', encoding='utf-8')\n",
    "    else:\n",
    "        data_file_run = open(error_path+framework+\"/runtime_accuracy_{}.csv\".format(model_short_name), mode='a+', newline='', encoding='utf-8')\n",
    "        flag = 1\n",
    "    data_writer_run = csv.writer(data_file_run, delimiter=',', quotechar='\"', quoting=csv.QUOTE_MINIMAL)\n",
    "    if flag == 0: \n",
    "        data_writer_run.writerow(['model','framework', 'training_id', 'model_full', 'accuracy_original', 'accuracy_onnx', 'accuracy_coreml', 'miss_original_onnx', 'miss_original_coreml','', 'inference_time_original', 'inference_time_onnx', 'inference_time_coreml', '', 'inference_time_original2', 'inference_time_onnx2', 'inference_time_coreml2', 'overral_time'])\n",
    "    # dataloaders\n",
    "    batch_size = 1 \n",
    "    valloader = torch.utils.data.DataLoader(val_data, batch_size = batch_size)\n",
    "    _lets_convert(valloader, data_writer_run, batch_size)\n",
    "    \n",
    "    data_file_run.close()"
   ]
  },
  {
   "cell_type": "code",
   "execution_count": null,
   "metadata": {},
   "outputs": [],
   "source": []
  },
  {
   "cell_type": "code",
   "execution_count": null,
   "metadata": {},
   "outputs": [],
   "source": []
  },
  {
   "cell_type": "code",
   "execution_count": null,
   "metadata": {},
   "outputs": [],
   "source": []
  },
  {
   "cell_type": "code",
   "execution_count": 12,
   "metadata": {},
   "outputs": [],
   "source": [
    "valloader = torch.utils.data.DataLoader(val_data, batch_size = 1)"
   ]
  },
  {
   "cell_type": "code",
   "execution_count": 13,
   "metadata": {},
   "outputs": [],
   "source": [
    "for i, (images, labels) in enumerate(valloader):\n",
    "    x = images\n",
    "    y = labels \n",
    "    break"
   ]
  },
  {
   "cell_type": "code",
   "execution_count": 14,
   "metadata": {},
   "outputs": [],
   "source": [
    "traced_model = torch.jit.trace(model, x)\n",
    "### Original Model\n",
    "since_1 = time.time()\n",
    "torch_out = model(x)\n",
    "inference_time_original = time.time() - since_1"
   ]
  },
  {
   "cell_type": "code",
   "execution_count": 15,
   "metadata": {},
   "outputs": [
    {
     "data": {
      "text/plain": [
       "tensor([[ -6.6358,   1.2895,   0.4550,  ...,  21.1323,  -5.8902,   4.0097],\n",
       "        [  0.6449,   6.2741,  34.7097,  ...,  -0.3277,  -1.8668,  -7.1835],\n",
       "        [ -7.5961,  15.3428,  -2.6259,  ...,   0.8016,   2.4336,  -0.9590],\n",
       "        ...,\n",
       "        [ -2.7858,  -5.1429,   0.6817,  ...,  -1.0616,   0.7974,  13.7856],\n",
       "        [ 22.0681,  -8.9676,   1.9604,  ...,  -7.2898,  -3.2032,   0.6012],\n",
       "        [ -5.8501,  -7.5255, -12.7759,  ...,  -4.8417,   3.1106,   4.5962]],\n",
       "       grad_fn=<AddmmBackward>)"
      ]
     },
     "execution_count": 15,
     "metadata": {},
     "output_type": "execute_result"
    }
   ],
   "source": [
    "torch_out"
   ]
  },
  {
   "cell_type": "code",
   "execution_count": 16,
   "metadata": {},
   "outputs": [
    {
     "data": {
      "text/plain": [
       "torch.Size([128, 10])"
      ]
     },
     "execution_count": 16,
     "metadata": {},
     "output_type": "execute_result"
    }
   ],
   "source": [
    "torch_out.shape"
   ]
  },
  {
   "cell_type": "code",
   "execution_count": null,
   "metadata": {},
   "outputs": [],
   "source": [
    "y2 = torch.argmax(ort_outs_tensor,1)"
   ]
  },
  {
   "cell_type": "code",
   "execution_count": 17,
   "metadata": {},
   "outputs": [],
   "source": [
    "onnx_model = onnx.load(onnx_path+framework+\"/{}/{}.onnx\".format(model_short_name, model_name))\n",
    "load_time_onnx = time.time() - since_1\n",
    "onnx.checker.check_model(onnx_model)\n",
    "size_onnx = os.path.getsize(onnx_path+framework+\"/{}/{}.onnx\".format(model_short_name, model_name))\n",
    "#def to_numpy(tensor):\n",
    "#    return tensor.detach().cpu().numpy() if tensor.requires_grad else tensor.cpu().numpy()\n",
    "ort_session = onnxruntime.InferenceSession(onnx_path+framework+\"/{}/{}.onnx\".format(model_short_name, model_name))\n",
    "since_1 = time.time()\n",
    "ort_inputs = {ort_session.get_inputs()[0].name: to_numpy(x)}\n",
    "ort_outs = ort_session.run(None, ort_inputs)"
   ]
  },
  {
   "cell_type": "code",
   "execution_count": 18,
   "metadata": {},
   "outputs": [
    {
     "data": {
      "text/plain": [
       "array([[ -6.635796  ,   1.2895085 ,   0.4549976 , ...,  21.132263  ,\n",
       "         -5.890247  ,   4.009672  ],\n",
       "       [  0.64487183,   6.274112  ,  34.709663  , ...,  -0.32768404,\n",
       "         -1.8667655 ,  -7.18354   ],\n",
       "       [ -7.5961018 ,  15.342848  ,  -2.6259325 , ...,   0.80155146,\n",
       "          2.4335592 ,  -0.9590169 ],\n",
       "       ...,\n",
       "       [ -2.7858493 ,  -5.142924  ,   0.6817392 , ...,  -1.061623  ,\n",
       "          0.7973738 ,  13.785639  ],\n",
       "       [ 22.068138  ,  -8.967614  ,   1.9604057 , ...,  -7.2897606 ,\n",
       "         -3.2032096 ,   0.6011924 ],\n",
       "       [ -5.8500614 ,  -7.525514  , -12.775908  , ...,  -4.8417344 ,\n",
       "          3.110595  ,   4.5961523 ]], dtype=float32)"
      ]
     },
     "execution_count": 18,
     "metadata": {},
     "output_type": "execute_result"
    }
   ],
   "source": [
    "ort_outs[0]"
   ]
  },
  {
   "cell_type": "code",
   "execution_count": 19,
   "metadata": {},
   "outputs": [
    {
     "data": {
      "text/plain": [
       "(128, 10)"
      ]
     },
     "execution_count": 19,
     "metadata": {},
     "output_type": "execute_result"
    }
   ],
   "source": [
    "ort_outs[0].shape"
   ]
  },
  {
   "cell_type": "code",
   "execution_count": 21,
   "metadata": {},
   "outputs": [],
   "source": [
    "ort_outs_tensor = torch.from_numpy(ort_outs[0]) \n",
    "y2 = torch.argmax(ort_outs_tensor,1)"
   ]
  },
  {
   "cell_type": "code",
   "execution_count": 22,
   "metadata": {},
   "outputs": [
    {
     "data": {
      "text/plain": [
       "tensor([7, 2, 1, 0, 4, 1, 4, 9, 5, 9, 0, 6, 9, 0, 1, 5, 9, 7, 3, 4, 9, 6, 6, 5,\n",
       "        4, 0, 7, 4, 0, 1, 3, 1, 3, 4, 7, 2, 7, 1, 2, 1, 1, 7, 4, 2, 3, 5, 1, 2,\n",
       "        4, 4, 6, 3, 5, 5, 6, 0, 4, 1, 9, 5, 7, 8, 9, 3, 7, 4, 6, 4, 3, 0, 7, 0,\n",
       "        2, 9, 1, 7, 3, 2, 9, 7, 7, 6, 2, 7, 8, 4, 7, 3, 6, 1, 3, 6, 9, 3, 1, 4,\n",
       "        1, 7, 6, 9, 6, 0, 5, 4, 9, 9, 2, 1, 9, 4, 8, 7, 3, 9, 7, 4, 4, 4, 9, 2,\n",
       "        5, 4, 7, 6, 7, 9, 0, 5])"
      ]
     },
     "execution_count": 22,
     "metadata": {},
     "output_type": "execute_result"
    }
   ],
   "source": [
    "y2"
   ]
  },
  {
   "cell_type": "code",
   "execution_count": 24,
   "metadata": {},
   "outputs": [
    {
     "data": {
      "text/plain": [
       "tensor([7, 2, 1, 0, 4, 1, 4, 9, 5, 9, 0, 6, 9, 0, 1, 5, 9, 7, 3, 4, 9, 6, 6, 5,\n",
       "        4, 0, 7, 4, 0, 1, 3, 1, 3, 4, 7, 2, 7, 1, 2, 1, 1, 7, 4, 2, 3, 5, 1, 2,\n",
       "        4, 4, 6, 3, 5, 5, 6, 0, 4, 1, 9, 5, 7, 8, 9, 3, 7, 4, 6, 4, 3, 0, 7, 0,\n",
       "        2, 9, 1, 7, 3, 2, 9, 7, 7, 6, 2, 7, 8, 4, 7, 3, 6, 1, 3, 6, 9, 3, 1, 4,\n",
       "        1, 7, 6, 9, 6, 0, 5, 4, 9, 9, 2, 1, 9, 4, 8, 7, 3, 9, 7, 4, 4, 4, 9, 2,\n",
       "        5, 4, 7, 6, 7, 9, 0, 5])"
      ]
     },
     "execution_count": 24,
     "metadata": {},
     "output_type": "execute_result"
    }
   ],
   "source": [
    "y1 = torch.argmax(torch_out,1)\n",
    "y1"
   ]
  },
  {
   "cell_type": "code",
   "execution_count": 20,
   "metadata": {},
   "outputs": [
    {
     "ename": "AssertionError",
     "evalue": "\nArrays are not equal\n\nMismatched elements: 975 / 1280 (76.2%)\nMax absolute difference: 7.6293945e-06\nMax relative difference: 4.0582905e-05\n x: array([[ -6.635797,   1.289509,   0.454997, ...,  21.132267,  -5.890248,\n          4.009673],\n       [  0.644872,   6.274111,  34.709663, ...,  -0.327684,  -1.866765,...\n y: array([[ -6.635796,   1.289508,   0.454998, ...,  21.132263,  -5.890247,\n          4.009672],\n       [  0.644872,   6.274112,  34.709663, ...,  -0.327684,  -1.866765,...",
     "output_type": "error",
     "traceback": [
      "\u001b[0;31m---------------------------------------------------------------------------\u001b[0m",
      "\u001b[0;31mAssertionError\u001b[0m                            Traceback (most recent call last)",
      "\u001b[0;32m<ipython-input-20-b723f764bbe8>\u001b[0m in \u001b[0;36m<module>\u001b[0;34m\u001b[0m\n\u001b[0;32m----> 1\u001b[0;31m \u001b[0mnp\u001b[0m\u001b[0;34m.\u001b[0m\u001b[0mtesting\u001b[0m\u001b[0;34m.\u001b[0m\u001b[0massert_array_equal\u001b[0m\u001b[0;34m(\u001b[0m\u001b[0mto_numpy\u001b[0m\u001b[0;34m(\u001b[0m\u001b[0mtorch_out\u001b[0m\u001b[0;34m)\u001b[0m\u001b[0;34m,\u001b[0m \u001b[0mort_outs\u001b[0m\u001b[0;34m[\u001b[0m\u001b[0;36m0\u001b[0m\u001b[0;34m]\u001b[0m\u001b[0;34m)\u001b[0m\u001b[0;34m\u001b[0m\u001b[0;34m\u001b[0m\u001b[0m\n\u001b[0m",
      "\u001b[0;32m/opt/anaconda3/lib/python3.7/site-packages/numpy/testing/_private/utils.py\u001b[0m in \u001b[0;36massert_array_equal\u001b[0;34m(x, y, err_msg, verbose)\u001b[0m\n\u001b[1;32m    929\u001b[0m     \u001b[0m__tracebackhide__\u001b[0m \u001b[0;34m=\u001b[0m \u001b[0;32mTrue\u001b[0m  \u001b[0;31m# Hide traceback for py.test\u001b[0m\u001b[0;34m\u001b[0m\u001b[0;34m\u001b[0m\u001b[0m\n\u001b[1;32m    930\u001b[0m     assert_array_compare(operator.__eq__, x, y, err_msg=err_msg,\n\u001b[0;32m--> 931\u001b[0;31m                          verbose=verbose, header='Arrays are not equal')\n\u001b[0m\u001b[1;32m    932\u001b[0m \u001b[0;34m\u001b[0m\u001b[0m\n\u001b[1;32m    933\u001b[0m \u001b[0;34m\u001b[0m\u001b[0m\n",
      "\u001b[0;32m/opt/anaconda3/lib/python3.7/site-packages/numpy/testing/_private/utils.py\u001b[0m in \u001b[0;36massert_array_compare\u001b[0;34m(comparison, x, y, err_msg, verbose, header, precision, equal_nan, equal_inf)\u001b[0m\n\u001b[1;32m    838\u001b[0m                                 \u001b[0mverbose\u001b[0m\u001b[0;34m=\u001b[0m\u001b[0mverbose\u001b[0m\u001b[0;34m,\u001b[0m \u001b[0mheader\u001b[0m\u001b[0;34m=\u001b[0m\u001b[0mheader\u001b[0m\u001b[0;34m,\u001b[0m\u001b[0;34m\u001b[0m\u001b[0;34m\u001b[0m\u001b[0m\n\u001b[1;32m    839\u001b[0m                                 names=('x', 'y'), precision=precision)\n\u001b[0;32m--> 840\u001b[0;31m             \u001b[0;32mraise\u001b[0m \u001b[0mAssertionError\u001b[0m\u001b[0;34m(\u001b[0m\u001b[0mmsg\u001b[0m\u001b[0;34m)\u001b[0m\u001b[0;34m\u001b[0m\u001b[0;34m\u001b[0m\u001b[0m\n\u001b[0m\u001b[1;32m    841\u001b[0m     \u001b[0;32mexcept\u001b[0m \u001b[0mValueError\u001b[0m\u001b[0;34m:\u001b[0m\u001b[0;34m\u001b[0m\u001b[0;34m\u001b[0m\u001b[0m\n\u001b[1;32m    842\u001b[0m         \u001b[0;32mimport\u001b[0m \u001b[0mtraceback\u001b[0m\u001b[0;34m\u001b[0m\u001b[0;34m\u001b[0m\u001b[0m\n",
      "\u001b[0;31mAssertionError\u001b[0m: \nArrays are not equal\n\nMismatched elements: 975 / 1280 (76.2%)\nMax absolute difference: 7.6293945e-06\nMax relative difference: 4.0582905e-05\n x: array([[ -6.635797,   1.289509,   0.454997, ...,  21.132267,  -5.890248,\n          4.009673],\n       [  0.644872,   6.274111,  34.709663, ...,  -0.327684,  -1.866765,...\n y: array([[ -6.635796,   1.289508,   0.454998, ...,  21.132263,  -5.890247,\n          4.009672],\n       [  0.644872,   6.274112,  34.709663, ...,  -0.327684,  -1.866765,..."
     ]
    }
   ],
   "source": [
    "np.testing.assert_array_equal(to_numpy(torch_out), ort_outs[0])"
   ]
  },
  {
   "cell_type": "code",
   "execution_count": null,
   "metadata": {},
   "outputs": [],
   "source": []
  },
  {
   "cell_type": "code",
   "execution_count": null,
   "metadata": {},
   "outputs": [],
   "source": []
  },
  {
   "cell_type": "code",
   "execution_count": 17,
   "metadata": {},
   "outputs": [
    {
     "ename": "TypeError",
     "evalue": "sum() received an invalid combination of arguments - got (out=NoneType, axis=NoneType, ), but expected one of:\n * (*, torch.dtype dtype)\n      didn't match because some of the keywords were incorrect: out, axis\n * (tuple of ints dim, bool keepdim, *, torch.dtype dtype)\n * (tuple of names dim, bool keepdim, *, torch.dtype dtype)\n",
     "output_type": "error",
     "traceback": [
      "\u001b[0;31m---------------------------------------------------------------------------\u001b[0m",
      "\u001b[0;31mTypeError\u001b[0m                                 Traceback (most recent call last)",
      "\u001b[0;32m<ipython-input-17-a6882c4fd22e>\u001b[0m in \u001b[0;36m<module>\u001b[0;34m\u001b[0m\n\u001b[1;32m      2\u001b[0m \u001b[0my0\u001b[0m \u001b[0;34m=\u001b[0m \u001b[0mpred\u001b[0m\u001b[0;34m.\u001b[0m\u001b[0mdata\u001b[0m\u001b[0;34m.\u001b[0m\u001b[0mcpu\u001b[0m\u001b[0;34m(\u001b[0m\u001b[0;34m)\u001b[0m\u001b[0;34m\u001b[0m\u001b[0;34m\u001b[0m\u001b[0m\n\u001b[1;32m      3\u001b[0m \u001b[0;31m#y0 = to_categorical(np.argmax(k_predict, 1), num_classes = 10)\u001b[0m\u001b[0;34m\u001b[0m\u001b[0;34m\u001b[0m\u001b[0;34m\u001b[0m\u001b[0m\n\u001b[0;32m----> 4\u001b[0;31m \u001b[0mcorrect_original\u001b[0m \u001b[0;34m=\u001b[0m \u001b[0mnp\u001b[0m\u001b[0;34m.\u001b[0m\u001b[0msum\u001b[0m\u001b[0;34m(\u001b[0m\u001b[0my0\u001b[0m \u001b[0;34m==\u001b[0m \u001b[0my\u001b[0m\u001b[0;34m)\u001b[0m\u001b[0;34m\u001b[0m\u001b[0;34m\u001b[0m\u001b[0m\n\u001b[0m\u001b[1;32m      5\u001b[0m \u001b[0maccuracy_original\u001b[0m \u001b[0;34m=\u001b[0m \u001b[0mmodel_scores\u001b[0m\u001b[0;34m(\u001b[0m\u001b[0my\u001b[0m\u001b[0;34m,\u001b[0m \u001b[0my0\u001b[0m\u001b[0;34m)\u001b[0m\u001b[0;34m\u001b[0m\u001b[0;34m\u001b[0m\u001b[0m\n",
      "\u001b[0;32m<__array_function__ internals>\u001b[0m in \u001b[0;36msum\u001b[0;34m(*args, **kwargs)\u001b[0m\n",
      "\u001b[0;32m/opt/anaconda3/lib/python3.7/site-packages/numpy/core/fromnumeric.py\u001b[0m in \u001b[0;36msum\u001b[0;34m(a, axis, dtype, out, keepdims, initial, where)\u001b[0m\n\u001b[1;32m   2240\u001b[0m \u001b[0;34m\u001b[0m\u001b[0m\n\u001b[1;32m   2241\u001b[0m     return _wrapreduction(a, np.add, 'sum', axis, dtype, out, keepdims=keepdims,\n\u001b[0;32m-> 2242\u001b[0;31m                           initial=initial, where=where)\n\u001b[0m\u001b[1;32m   2243\u001b[0m \u001b[0;34m\u001b[0m\u001b[0m\n\u001b[1;32m   2244\u001b[0m \u001b[0;34m\u001b[0m\u001b[0m\n",
      "\u001b[0;32m/opt/anaconda3/lib/python3.7/site-packages/numpy/core/fromnumeric.py\u001b[0m in \u001b[0;36m_wrapreduction\u001b[0;34m(obj, ufunc, method, axis, dtype, out, **kwargs)\u001b[0m\n\u001b[1;32m     83\u001b[0m                 \u001b[0;32mreturn\u001b[0m \u001b[0mreduction\u001b[0m\u001b[0;34m(\u001b[0m\u001b[0maxis\u001b[0m\u001b[0;34m=\u001b[0m\u001b[0maxis\u001b[0m\u001b[0;34m,\u001b[0m \u001b[0mdtype\u001b[0m\u001b[0;34m=\u001b[0m\u001b[0mdtype\u001b[0m\u001b[0;34m,\u001b[0m \u001b[0mout\u001b[0m\u001b[0;34m=\u001b[0m\u001b[0mout\u001b[0m\u001b[0;34m,\u001b[0m \u001b[0;34m**\u001b[0m\u001b[0mpasskwargs\u001b[0m\u001b[0;34m)\u001b[0m\u001b[0;34m\u001b[0m\u001b[0;34m\u001b[0m\u001b[0m\n\u001b[1;32m     84\u001b[0m             \u001b[0;32melse\u001b[0m\u001b[0;34m:\u001b[0m\u001b[0;34m\u001b[0m\u001b[0;34m\u001b[0m\u001b[0m\n\u001b[0;32m---> 85\u001b[0;31m                 \u001b[0;32mreturn\u001b[0m \u001b[0mreduction\u001b[0m\u001b[0;34m(\u001b[0m\u001b[0maxis\u001b[0m\u001b[0;34m=\u001b[0m\u001b[0maxis\u001b[0m\u001b[0;34m,\u001b[0m \u001b[0mout\u001b[0m\u001b[0;34m=\u001b[0m\u001b[0mout\u001b[0m\u001b[0;34m,\u001b[0m \u001b[0;34m**\u001b[0m\u001b[0mpasskwargs\u001b[0m\u001b[0;34m)\u001b[0m\u001b[0;34m\u001b[0m\u001b[0;34m\u001b[0m\u001b[0m\n\u001b[0m\u001b[1;32m     86\u001b[0m \u001b[0;34m\u001b[0m\u001b[0m\n\u001b[1;32m     87\u001b[0m     \u001b[0;32mreturn\u001b[0m \u001b[0mufunc\u001b[0m\u001b[0;34m.\u001b[0m\u001b[0mreduce\u001b[0m\u001b[0;34m(\u001b[0m\u001b[0mobj\u001b[0m\u001b[0;34m,\u001b[0m \u001b[0maxis\u001b[0m\u001b[0;34m,\u001b[0m \u001b[0mdtype\u001b[0m\u001b[0;34m,\u001b[0m \u001b[0mout\u001b[0m\u001b[0;34m,\u001b[0m \u001b[0;34m**\u001b[0m\u001b[0mpasskwargs\u001b[0m\u001b[0;34m)\u001b[0m\u001b[0;34m\u001b[0m\u001b[0;34m\u001b[0m\u001b[0m\n",
      "\u001b[0;31mTypeError\u001b[0m: sum() received an invalid combination of arguments - got (out=NoneType, axis=NoneType, ), but expected one of:\n * (*, torch.dtype dtype)\n      didn't match because some of the keywords were incorrect: out, axis\n * (tuple of ints dim, bool keepdim, *, torch.dtype dtype)\n * (tuple of names dim, bool keepdim, *, torch.dtype dtype)\n"
     ]
    }
   ],
   "source": [
    "value, pred = torch.max(torch_out,1)\n",
    "y0 = pred.data.cpu()\n",
    "#y0 = to_categorical(np.argmax(k_predict, 1), num_classes = 10)\n",
    "correct_original = np.sum(y0 == y)\n",
    "accuracy_original = model_scores(y, y0)"
   ]
  },
  {
   "cell_type": "code",
   "execution_count": 16,
   "metadata": {},
   "outputs": [
    {
     "data": {
      "text/plain": [
       "tensor([[ -8.2500,  -2.7445,  -0.5753,  ...,  25.1626,  -5.8871,   7.7903],\n",
       "        [  1.2065,   1.7789,  23.8840,  ...,  -1.4965,   0.7334, -20.8894],\n",
       "        [ -3.5478,  17.6331,  -5.0308,  ...,  -1.1372,   2.4654,  -2.9282],\n",
       "        ...,\n",
       "        [ -1.4990,  -4.2816,  -4.9350,  ...,  -2.6917,  -0.7168,  13.0132],\n",
       "        [ 26.7344, -17.2551,   0.4890,  ..., -18.8161,   3.8191,  -3.2966],\n",
       "        [ -4.0466,  -6.6173, -44.3387,  ...,  -6.3366,  11.4678,  14.2239]],\n",
       "       grad_fn=<AddmmBackward>)"
      ]
     },
     "execution_count": 16,
     "metadata": {},
     "output_type": "execute_result"
    }
   ],
   "source": [
    "torch_out"
   ]
  },
  {
   "cell_type": "code",
   "execution_count": 20,
   "metadata": {},
   "outputs": [
    {
     "data": {
      "text/plain": [
       "tensor([7, 2, 1, 0, 4, 1, 4, 9, 5, 9, 0, 6, 9, 0, 1, 5, 9, 7, 3, 4, 9, 6, 6, 5,\n",
       "        4, 0, 7, 4, 0, 1, 3, 1, 3, 4, 7, 2, 7, 1, 2, 1, 1, 7, 4, 2, 3, 5, 1, 2,\n",
       "        4, 4, 6, 3, 5, 5, 6, 0, 4, 1, 9, 5, 7, 8, 9, 3, 7, 4, 6, 4, 3, 0, 7, 0,\n",
       "        2, 9, 1, 7, 3, 2, 9, 7, 7, 6, 2, 7, 8, 4, 7, 3, 6, 1, 3, 6, 9, 3, 1, 4,\n",
       "        1, 7, 6, 9, 6, 0, 5, 4, 9, 9, 2, 1, 9, 4, 8, 7, 3, 9, 7, 9, 4, 4, 9, 2,\n",
       "        5, 4, 7, 6, 7, 9, 0, 5])"
      ]
     },
     "execution_count": 20,
     "metadata": {},
     "output_type": "execute_result"
    }
   ],
   "source": [
    "prediction = torch.argmax(torch_out,1)\n",
    "prediction"
   ]
  },
  {
   "cell_type": "code",
   "execution_count": 22,
   "metadata": {},
   "outputs": [
    {
     "data": {
      "text/plain": [
       "99.21875"
      ]
     },
     "execution_count": 22,
     "metadata": {},
     "output_type": "execute_result"
    }
   ],
   "source": [
    "accuracy_ = model_scores(to_numpy(y), to_numpy(prediction))\n",
    "accuracy_"
   ]
  },
  {
   "cell_type": "code",
   "execution_count": 41,
   "metadata": {},
   "outputs": [
    {
     "name": "stderr",
     "output_type": "stream",
     "text": [
      "Converting Frontend ==> MIL Ops:  98%|█████████▊| 46/47 [00:00<00:00, 5143.09 ops/s]\n",
      "Running MIL Common passes: 100%|██████████| 33/33 [00:00<00:00, 2220.31 passes/s]\n",
      "Running MIL Clean up passes: 100%|██████████| 8/8 [00:00<00:00, 440.36 passes/s]\n",
      "Translating MIL ==> NeuralNetwork Ops: 100%|██████████| 45/45 [00:00<00:00, 1465.46 ops/s]\n"
     ]
    }
   ],
   "source": [
    "traced_model = torch.jit.trace(model, x)\n",
    "coreml_model = coremltools.convert(traced_model,inputs=[coremltools.TensorType(shape=x.shape)])\n",
    "\n",
    "#coreml_model = coremltools.models.MLModel(coreml_path+framework+\"/{}/{}-v2.mlmodel\".format(model_short_name, model_name))\n",
    "input_name = coreml_model.get_spec().description.input[0].name\n",
    "#print(input_name)\n",
    "#spec = coreml_model.get_spec()\n",
    "#coreml_model = coremltools.models.MLModel(spec)\n",
    "name_1 = coreml_model.get_spec().description.input[0].name\n",
    "\n",
    "output_dict_test = coreml_model.predict({name_1:to_numpy(x)})\n",
    "####### Mis-classification coreML ######################################\n",
    "#y3 = torch.argmax(output_dict_test['Identity'],1)"
   ]
  },
  {
   "cell_type": "code",
   "execution_count": 48,
   "metadata": {},
   "outputs": [],
   "source": [
    "output_tensor = torch.from_numpy(output_dict_test[list(output_dict_test.keys())[0]]) "
   ]
  },
  {
   "cell_type": "code",
   "execution_count": 49,
   "metadata": {},
   "outputs": [
    {
     "data": {
      "text/plain": [
       "tensor([7, 2, 1, 0, 4, 1, 4, 9, 5, 9, 0, 6, 9, 0, 1, 5, 9, 7, 3, 4, 9, 6, 6, 5,\n",
       "        4, 0, 7, 4, 0, 1, 3, 1, 3, 4, 7, 2, 7, 1, 2, 1, 1, 7, 4, 2, 3, 5, 1, 2,\n",
       "        4, 4, 6, 3, 5, 5, 6, 0, 4, 1, 9, 5, 7, 8, 9, 3, 7, 4, 6, 4, 3, 0, 7, 0,\n",
       "        2, 9, 1, 7, 3, 2, 9, 7, 7, 6, 2, 7, 8, 4, 7, 3, 6, 1, 3, 6, 9, 3, 1, 4,\n",
       "        1, 7, 6, 9, 6, 0, 5, 4, 9, 9, 2, 1, 9, 4, 8, 7, 3, 9, 7, 9, 4, 4, 9, 2,\n",
       "        5, 4, 7, 6, 7, 9, 0, 5])"
      ]
     },
     "execution_count": 49,
     "metadata": {},
     "output_type": "execute_result"
    }
   ],
   "source": [
    "y3 = torch.argmax(output_tensor,1)\n",
    "y3"
   ]
  },
  {
   "cell_type": "code",
   "execution_count": null,
   "metadata": {},
   "outputs": [],
   "source": []
  }
 ],
 "metadata": {
  "kernelspec": {
   "display_name": "Python 3",
   "language": "python",
   "name": "python3"
  },
  "language_info": {
   "codemirror_mode": {
    "name": "ipython",
    "version": 3
   },
   "file_extension": ".py",
   "mimetype": "text/x-python",
   "name": "python",
   "nbconvert_exporter": "python",
   "pygments_lexer": "ipython3",
   "version": "3.7.4"
  }
 },
 "nbformat": 4,
 "nbformat_minor": 2
}
