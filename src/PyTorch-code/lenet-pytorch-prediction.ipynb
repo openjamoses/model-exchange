{
 "cells": [
  {
   "cell_type": "code",
   "execution_count": 1,
   "metadata": {},
   "outputs": [
    {
     "data": {
      "text/plain": [
       "<matplotlib.pyplot._IonContext at 0x7fe503df3290>"
      ]
     },
     "execution_count": 1,
     "metadata": {},
     "output_type": "execute_result"
    }
   ],
   "source": [
    "from __future__ import print_function, division\n",
    "#Import needed packages\n",
    "import torch\n",
    "import torch.nn as nn\n",
    "import torch.nn.functional as F\n",
    "import torch.optim as optim\n",
    "#from onnx_tf.backend import prepare\n",
    "import torch.optim as optim\n",
    "from torch.optim import lr_scheduler\n",
    "import numpy as np\n",
    "import torchvision\n",
    "from torchvision import datasets, models, transforms\n",
    "from torch.autograd import Variable\n",
    "#from pytorch2keras.converter import pytorch_to_keras\n",
    "import matplotlib.pyplot as plt\n",
    "import time\n",
    "import os\n",
    "import copy\n",
    "import csv\n",
    "from tensorflow import keras\n",
    "import tensorflow as tf\n",
    "import pandas as pd\n",
    "from datetime import datetime\n",
    "from sklearn import metrics\n",
    "\n",
    "plt.ion()   # interactive mode"
   ]
  },
  {
   "cell_type": "code",
   "execution_count": 2,
   "metadata": {},
   "outputs": [],
   "source": [
    "from torchvision import datasets\n",
    "import torchvision.transforms as transforms\n",
    "from torch.utils.data.sampler import SubsetRandomSampler"
   ]
  },
  {
   "cell_type": "code",
   "execution_count": 3,
   "metadata": {},
   "outputs": [
    {
     "name": "stderr",
     "output_type": "stream",
     "text": [
      "/opt/anaconda3/lib/python3.7/site-packages/torchvision/datasets/mnist.py:498: UserWarning: The given NumPy array is not writeable, and PyTorch does not support non-writeable tensors. This means you can write to the underlying (supposedly non-writeable) NumPy array using the tensor. You may want to copy the array to protect its data or make it writeable before converting it to a tensor. This type of warning will be suppressed for the rest of this program. (Triggered internally at  ../torch/csrc/utils/tensor_numpy.cpp:180.)\n",
      "  return torch.from_numpy(parsed.astype(m[2], copy=False)).view(*s)\n"
     ]
    }
   ],
   "source": [
    "# Mnist dataset fpr Lenet\n",
    "batch_size = 128\n",
    "T = torchvision.transforms.Compose([\n",
    "    torchvision.transforms.ToTensor()\n",
    "])\n",
    "train_data = torchvision.datasets.MNIST('mnist_data', train=True, download=True, transform=T)\n",
    "val_data = torchvision.datasets.MNIST('mnist_data', train=False, download=True, transform=T)\n",
    "\n",
    "trainloader = torch.utils.data.DataLoader(train_data, batch_size = batch_size)\n",
    "valloader = torch.utils.data.DataLoader(val_data, batch_size = batch_size)"
   ]
  },
  {
   "cell_type": "code",
   "execution_count": 4,
   "metadata": {},
   "outputs": [
    {
     "name": "stdout",
     "output_type": "stream",
     "text": [
      "Avg accuracy: 98.98100280761719, avg time: 3.792650508880615\n"
     ]
    }
   ],
   "source": [
    "model_short_name = 'lenet5'\n",
    "framework = 'pytorch'\n",
    "ext = '.pth'\n",
    "def validate(model, data):\n",
    "    total = 0\n",
    "    correct = 0\n",
    "    since = time.time()\n",
    "    for i, (images, labels) in enumerate(data):\n",
    "        #images = images.cuda()\n",
    "        x = model(images)\n",
    "        value, pred = torch.max(x,1)\n",
    "        pred = pred.data.cpu()\n",
    "        total += x.size(0)\n",
    "        correct += torch.sum(pred == labels)\n",
    "    time_elapsed = time.time() - since\n",
    "    #print('accuracy: {}%'.format(correct*100./total),'time {:.0f}m {:.0f}s, {}'.format(time_elapsed // 60, time_elapsed % 60, time_elapsed) )\n",
    "    #return correct*100./total\n",
    "    return correct*100./total, time_elapsed\n",
    "def run_prediction():\n",
    "    #for model in models: \n",
    "    data_accuracy = []\n",
    "    data_time = []\n",
    "    path = '/Volumes/Cisco/Fall2021/onnx-exchange/Training/{}/{}'.format(framework,model_short_name)\n",
    "    if os.path.exists(path):\n",
    "        list_files = [x for x in os.listdir(path) if ext in x]\n",
    "        for i in range(1, 11):\n",
    "            for model_name in list_files:\n",
    "                if '_{}{}'.format(i, ext) in model_name:\n",
    "                    model = torch.load(path+'/'+model_name, map_location=torch.device('cpu'))\n",
    "                    accuracy, time_ = validate(model, valloader)\n",
    "                    data_accuracy.append(accuracy)\n",
    "                    data_time.append(time_)\n",
    "    print('Avg accuracy: {}, avg time: {}'.format(np.mean(data_accuracy), np.mean(data_time)))\n",
    "run_prediction()"
   ]
  },
  {
   "cell_type": "code",
   "execution_count": 5,
   "metadata": {},
   "outputs": [],
   "source": [
    "training_id = 10\n",
    "model_short_name = 'lenet5'\n",
    "framework = 'pytorch'"
   ]
  },
  {
   "cell_type": "code",
   "execution_count": 6,
   "metadata": {},
   "outputs": [
    {
     "data": {
      "text/plain": [
       "252295"
      ]
     },
     "execution_count": 6,
     "metadata": {},
     "output_type": "execute_result"
    }
   ],
   "source": [
    "path = '/Volumes/Cisco/Fall2021/onnx-exchange/Training/pytorch/lenet5/'\n",
    "\n",
    "# Model class must be defined somewhere\n",
    "since_0 = time.time()\n",
    "model_name = 'torch_lenet5-mnist_2021-11-01_{}'.format(training_id)\n",
    "model = torch.load(path+model_name+'.pth', map_location=torch.device('cpu'))\n",
    "#resnet50_model.eval()\n",
    "t_elapsed_0 = time.time() - since_0\n",
    "size0 = os.path.getsize(path+model_name+'.pth')\n",
    "size0"
   ]
  },
  {
   "cell_type": "code",
   "execution_count": 7,
   "metadata": {},
   "outputs": [],
   "source": [
    "import pandas as pd \n",
    "path_output = '/Volumes/Cisco/Summer2022/onnx-exchange/analysis/prediction/'\n",
    "\n",
    "#data_file = open(path_output + 'prediction_{}_{}.csv'.format(framework, model_name), mode='w', newline='',\n",
    "#                                  encoding='utf-8')\n",
    "#data_writer = csv.writer(data_file, delimiter=',', quotechar='\"', quoting=csv.QUOTE_MINIMAL)\n",
    "#data_writer.writerow(['model','framework', 'training_id', 'model_full', 'accuracy', 'precision', 'recall', 'f1'])\n"
   ]
  },
  {
   "cell_type": "code",
   "execution_count": 8,
   "metadata": {},
   "outputs": [],
   "source": [
    "import numpy as np\n",
    "def validate(model, data):\n",
    "    total = 0\n",
    "    correct = 0\n",
    "    list_time = []\n",
    "    for i, (images, labels) in enumerate(data):\n",
    "        #images = images.cuda()\n",
    "        since = time.time()\n",
    "        x = model(images)\n",
    "        value, pred = torch.max(x,1)\n",
    "        pred = pred.data.cpu()\n",
    "        total += x.size(0)\n",
    "        correct += torch.sum(pred == labels)\n",
    "        time_elapsed = time.time() - since\n",
    "        list_time.append(time_elapsed)\n",
    "        print('time {:.0f}m {:.0f}s, {}'.format(time_elapsed // 60, time_elapsed % 60, time_elapsed))\n",
    "    #print('accuracy: {}%'.format(correct*100./total),'time {:.0f}m {:.0f}s, {}'.format(time_elapsed // 60, time_elapsed % 60, time_elapsed) )\n",
    "    print('accuracy: {}%'.format(correct*100./total), np.mean(list_time) )\n",
    "    return correct*100./total"
   ]
  },
  {
   "cell_type": "code",
   "execution_count": 9,
   "metadata": {},
   "outputs": [
    {
     "name": "stdout",
     "output_type": "stream",
     "text": [
      "time 0m 0s, 0.017175912857055664\n",
      "time 0m 0s, 0.027454853057861328\n",
      "time 0m 0s, 0.018689870834350586\n",
      "time 0m 0s, 0.019691944122314453\n",
      "time 0m 0s, 0.02837204933166504\n",
      "time 0m 0s, 0.017062902450561523\n",
      "time 0m 0s, 0.01658487319946289\n",
      "time 0m 0s, 0.018651962280273438\n",
      "time 0m 0s, 0.017510175704956055\n",
      "time 0m 0s, 0.04961514472961426\n",
      "time 0m 0s, 0.04036688804626465\n",
      "time 0m 0s, 0.015864133834838867\n",
      "time 0m 0s, 0.01955389976501465\n",
      "time 0m 0s, 0.017236948013305664\n",
      "time 0m 0s, 0.04600882530212402\n",
      "time 0m 0s, 0.02584075927734375\n",
      "time 0m 0s, 0.01802992820739746\n",
      "time 0m 0s, 0.014750957489013672\n",
      "time 0m 0s, 0.0161740779876709\n",
      "time 0m 0s, 0.015019893646240234\n",
      "time 0m 0s, 0.0262298583984375\n",
      "time 0m 0s, 0.016291141510009766\n",
      "time 0m 0s, 0.03246593475341797\n",
      "time 0m 0s, 0.018787860870361328\n",
      "time 0m 0s, 0.020048856735229492\n",
      "time 0m 0s, 0.015372753143310547\n",
      "time 0m 0s, 0.016318798065185547\n",
      "time 0m 0s, 0.06452608108520508\n",
      "time 0m 0s, 0.028105974197387695\n",
      "time 0m 0s, 0.015468120574951172\n",
      "time 0m 0s, 0.03378629684448242\n",
      "time 0m 0s, 0.019826889038085938\n",
      "time 0m 0s, 0.04799699783325195\n",
      "time 0m 0s, 0.023586034774780273\n",
      "time 0m 0s, 0.01737499237060547\n",
      "time 0m 0s, 0.01650524139404297\n",
      "time 0m 0s, 0.029859066009521484\n",
      "time 0m 0s, 0.017243146896362305\n",
      "time 0m 0s, 0.01511693000793457\n",
      "time 0m 0s, 0.030290842056274414\n",
      "time 0m 0s, 0.04598712921142578\n",
      "time 0m 0s, 0.018527984619140625\n",
      "time 0m 0s, 0.016948223114013672\n",
      "time 0m 0s, 0.015969038009643555\n",
      "time 0m 0s, 0.019932985305786133\n",
      "time 0m 0s, 0.023974895477294922\n",
      "time 0m 0s, 0.017210006713867188\n",
      "time 0m 0s, 0.016845226287841797\n",
      "time 0m 0s, 0.02814626693725586\n",
      "time 0m 0s, 0.025279998779296875\n",
      "time 0m 0s, 0.030546188354492188\n",
      "time 0m 0s, 0.04930281639099121\n",
      "time 0m 0s, 0.022926807403564453\n",
      "time 0m 0s, 0.08925127983093262\n",
      "time 0m 0s, 0.01987910270690918\n",
      "time 0m 0s, 0.04299306869506836\n",
      "time 0m 0s, 0.01639580726623535\n",
      "time 0m 0s, 0.03463411331176758\n",
      "time 0m 0s, 0.02415013313293457\n",
      "time 0m 0s, 0.017343997955322266\n",
      "time 0m 0s, 0.027333974838256836\n",
      "time 0m 0s, 0.014327049255371094\n",
      "time 0m 0s, 0.015766143798828125\n",
      "time 0m 0s, 0.02968907356262207\n",
      "time 0m 0s, 0.017393112182617188\n",
      "time 0m 0s, 0.02545785903930664\n",
      "time 0m 0s, 0.032112836837768555\n",
      "time 0m 0s, 0.017071962356567383\n",
      "time 0m 0s, 0.018861055374145508\n",
      "time 0m 0s, 0.016743898391723633\n",
      "time 0m 0s, 0.03147101402282715\n",
      "time 0m 0s, 0.027904987335205078\n",
      "time 0m 0s, 0.022921085357666016\n",
      "time 0m 0s, 0.046727895736694336\n",
      "time 0m 0s, 0.01504206657409668\n",
      "time 0m 0s, 0.06695103645324707\n",
      "time 0m 0s, 0.04365396499633789\n",
      "time 0m 0s, 0.016375064849853516\n",
      "time 0m 0s, 0.0031821727752685547\n",
      "accuracy: 99.08000183105469% 0.025697330885295626\n"
     ]
    },
    {
     "data": {
      "text/plain": [
       "tensor(99.0800)"
      ]
     },
     "execution_count": 9,
     "metadata": {},
     "output_type": "execute_result"
    }
   ],
   "source": [
    "validate(model, valloader)"
   ]
  },
  {
   "cell_type": "code",
   "execution_count": null,
   "metadata": {},
   "outputs": [],
   "source": []
  }
 ],
 "metadata": {
  "kernelspec": {
   "display_name": "Python 3",
   "language": "python",
   "name": "python3"
  },
  "language_info": {
   "codemirror_mode": {
    "name": "ipython",
    "version": 3
   },
   "file_extension": ".py",
   "mimetype": "text/x-python",
   "name": "python",
   "nbconvert_exporter": "python",
   "pygments_lexer": "ipython3",
   "version": "3.7.4"
  }
 },
 "nbformat": 4,
 "nbformat_minor": 2
}
