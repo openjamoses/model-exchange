{
 "cells": [
  {
   "cell_type": "code",
   "execution_count": 1,
   "metadata": {},
   "outputs": [
    {
     "name": "stderr",
     "output_type": "stream",
     "text": [
      "/opt/anaconda3/lib/python3.7/site-packages/sklearn/feature_extraction/text.py:17: DeprecationWarning: Using or importing the ABCs from 'collections' instead of from 'collections.abc' is deprecated, and in 3.8 it will stop working\n",
      "  from collections import Mapping, defaultdict\n"
     ]
    }
   ],
   "source": [
    "import numpy as np # linear algebra\n",
    "import pandas as pd # data processing, CSV file I/O (e.g. pd.read_csv)\n",
    "import torch\n",
    "import torch.nn as nn\n",
    "import torch.nn.functional as F\n",
    "from nltk.corpus import stopwords \n",
    "from collections import Counter\n",
    "import string\n",
    "import re\n",
    "import seaborn as sns\n",
    "from tqdm import tqdm\n",
    "import matplotlib.pyplot as plt\n",
    "from torch.utils.data import TensorDataset, DataLoader\n",
    "from sklearn.model_selection import train_test_split"
   ]
  },
  {
   "cell_type": "code",
   "execution_count": 2,
   "metadata": {},
   "outputs": [
    {
     "name": "stdout",
     "output_type": "stream",
     "text": [
      "GPU not available, CPU used\n"
     ]
    }
   ],
   "source": [
    "is_cuda = torch.cuda.is_available()\n",
    "\n",
    "# If we have a GPU available, we'll set our device to GPU. We'll use this device variable later in our code.\n",
    "if is_cuda:\n",
    "    device = torch.device(\"cuda\")\n",
    "    print(\"GPU is available\")\n",
    "else:\n",
    "    device = torch.device(\"cpu\")\n",
    "    print(\"GPU not available, CPU used\")"
   ]
  },
  {
   "cell_type": "code",
   "execution_count": 3,
   "metadata": {},
   "outputs": [
    {
     "data": {
      "text/html": [
       "<div>\n",
       "<style scoped>\n",
       "    .dataframe tbody tr th:only-of-type {\n",
       "        vertical-align: middle;\n",
       "    }\n",
       "\n",
       "    .dataframe tbody tr th {\n",
       "        vertical-align: top;\n",
       "    }\n",
       "\n",
       "    .dataframe thead th {\n",
       "        text-align: right;\n",
       "    }\n",
       "</style>\n",
       "<table border=\"1\" class=\"dataframe\">\n",
       "  <thead>\n",
       "    <tr style=\"text-align: right;\">\n",
       "      <th></th>\n",
       "      <th>review</th>\n",
       "      <th>sentiment</th>\n",
       "    </tr>\n",
       "  </thead>\n",
       "  <tbody>\n",
       "    <tr>\n",
       "      <th>0</th>\n",
       "      <td>One of the other reviewers has mentioned that ...</td>\n",
       "      <td>positive</td>\n",
       "    </tr>\n",
       "    <tr>\n",
       "      <th>1</th>\n",
       "      <td>A wonderful little production. &lt;br /&gt;&lt;br /&gt;The...</td>\n",
       "      <td>positive</td>\n",
       "    </tr>\n",
       "    <tr>\n",
       "      <th>2</th>\n",
       "      <td>I thought this was a wonderful way to spend ti...</td>\n",
       "      <td>positive</td>\n",
       "    </tr>\n",
       "    <tr>\n",
       "      <th>3</th>\n",
       "      <td>Basically there's a family where a little boy ...</td>\n",
       "      <td>negative</td>\n",
       "    </tr>\n",
       "    <tr>\n",
       "      <th>4</th>\n",
       "      <td>Petter Mattei's \"Love in the Time of Money\" is...</td>\n",
       "      <td>positive</td>\n",
       "    </tr>\n",
       "  </tbody>\n",
       "</table>\n",
       "</div>"
      ],
      "text/plain": [
       "                                              review sentiment\n",
       "0  One of the other reviewers has mentioned that ...  positive\n",
       "1  A wonderful little production. <br /><br />The...  positive\n",
       "2  I thought this was a wonderful way to spend ti...  positive\n",
       "3  Basically there's a family where a little boy ...  negative\n",
       "4  Petter Mattei's \"Love in the Time of Money\" is...  positive"
      ]
     },
     "execution_count": 3,
     "metadata": {},
     "output_type": "execute_result"
    }
   ],
   "source": [
    "base_csv = '/Volumes/Cisco/Fall2021/onnx-exchange/Training/IMDB Dataset.csv'\n",
    "df = pd.read_csv(base_csv)\n",
    "df.head()"
   ]
  },
  {
   "cell_type": "code",
   "execution_count": 4,
   "metadata": {},
   "outputs": [
    {
     "name": "stdout",
     "output_type": "stream",
     "text": [
      "shape of train data is (37500,)\n",
      "shape of test data is (12500,)\n"
     ]
    }
   ],
   "source": [
    "X,y = df['review'].values,df['sentiment'].values\n",
    "x_train,x_test,y_train,y_test = train_test_split(X,y,stratify=y)\n",
    "print(f'shape of train data is {x_train.shape}')\n",
    "print(f'shape of test data is {x_test.shape}')"
   ]
  },
  {
   "cell_type": "code",
   "execution_count": 5,
   "metadata": {},
   "outputs": [
    {
     "data": {
      "image/png": "[encoded data removed]",
      "text/plain": [
       "<Figure size 432x288 with 1 Axes>"
      ]
     },
     "metadata": {
      "needs_background": "light"
     },
     "output_type": "display_data"
    }
   ],
   "source": [
    "dd = pd.Series(y_train).value_counts()\n",
    "sns.barplot(x=np.array(['negative','positive']),y=dd.values)\n",
    "plt.show()"
   ]
  },
  {
   "cell_type": "code",
   "execution_count": 6,
   "metadata": {},
   "outputs": [
    {
     "name": "stderr",
     "output_type": "stream",
     "text": [
      "[nltk_data] Downloading package stopwords to\n",
      "[nltk_data]     /Users/mosesopenja/nltk_data...\n",
      "[nltk_data]   Package stopwords is already up-to-date!\n"
     ]
    }
   ],
   "source": [
    "def preprocess_string(s):\n",
    "    # Remove all non-word characters (everything except numbers and letters)\n",
    "    s = re.sub(r\"[^\\w\\s]\", '', s)\n",
    "    # Replace all runs of whitespaces with no space\n",
    "    s = re.sub(r\"\\s+\", '', s)\n",
    "    # replace digits with no space\n",
    "    s = re.sub(r\"\\d\", '', s)\n",
    "\n",
    "    return s\n",
    "import nltk\n",
    "nltk.download('stopwords')\n",
    "def tockenize(x_train,y_train,x_val,y_val):\n",
    "    word_list = []\n",
    "\n",
    "    stop_words = set(stopwords.words('english')) \n",
    "    for sent in x_train:\n",
    "        for word in sent.lower().split():\n",
    "            word = preprocess_string(word)\n",
    "            if word not in stop_words and word != '':\n",
    "                word_list.append(word)\n",
    "  \n",
    "    corpus = Counter(word_list)\n",
    "    # sorting on the basis of most common words\n",
    "    corpus_ = sorted(corpus,key=corpus.get,reverse=True)[:1000]\n",
    "    # creating a dict\n",
    "    onehot_dict = {w:i+1 for i,w in enumerate(corpus_)}\n",
    "    \n",
    "    # tockenize\n",
    "    final_list_train,final_list_test = [],[]\n",
    "    for sent in x_train:\n",
    "            final_list_train.append([onehot_dict[preprocess_string(word)] for word in sent.lower().split() \n",
    "                                     if preprocess_string(word) in onehot_dict.keys()])\n",
    "    for sent in x_val:\n",
    "            final_list_test.append([onehot_dict[preprocess_string(word)] for word in sent.lower().split() \n",
    "                                    if preprocess_string(word) in onehot_dict.keys()])\n",
    "            \n",
    "    encoded_train = [1 if label =='positive' else 0 for label in y_train]  \n",
    "    encoded_test = [1 if label =='positive' else 0 for label in y_val] \n",
    "    return np.array(final_list_train), np.array(encoded_train),np.array(final_list_test), np.array(encoded_test),onehot_dict"
   ]
  },
  {
   "cell_type": "code",
   "execution_count": 7,
   "metadata": {},
   "outputs": [
    {
     "name": "stderr",
     "output_type": "stream",
     "text": [
      "/opt/anaconda3/lib/python3.7/site-packages/ipykernel_launcher.py:39: VisibleDeprecationWarning: Creating an ndarray from ragged nested sequences (which is a list-or-tuple of lists-or-tuples-or ndarrays with different lengths or shapes) is deprecated. If you meant to do this, you must specify 'dtype=object' when creating the ndarray\n"
     ]
    }
   ],
   "source": [
    "x_train,y_train,x_test,y_test,vocab = tockenize(x_train,y_train,x_test,y_test)"
   ]
  },
  {
   "cell_type": "code",
   "execution_count": 8,
   "metadata": {},
   "outputs": [
    {
     "name": "stdout",
     "output_type": "stream",
     "text": [
      "Length of vocabulary is 1000\n"
     ]
    }
   ],
   "source": [
    "print(f'Length of vocabulary is {len(vocab)}')"
   ]
  },
  {
   "cell_type": "code",
   "execution_count": 9,
   "metadata": {},
   "outputs": [
    {
     "data": {
      "image/png": "[encoded data removed]",
      "text/plain": [
       "<Figure size 432x288 with 1 Axes>"
      ]
     },
     "metadata": {
      "needs_background": "light"
     },
     "output_type": "display_data"
    },
    {
     "data": {
      "text/plain": [
       "count    37500.000000\n",
       "mean        69.088400\n",
       "std         47.818854\n",
       "min          2.000000\n",
       "25%         39.000000\n",
       "50%         54.000000\n",
       "75%         84.000000\n",
       "max        653.000000\n",
       "dtype: float64"
      ]
     },
     "execution_count": 9,
     "metadata": {},
     "output_type": "execute_result"
    }
   ],
   "source": [
    "rev_len = [len(i) for i in x_train]\n",
    "pd.Series(rev_len).hist()\n",
    "plt.show()\n",
    "pd.Series(rev_len).describe()"
   ]
  },
  {
   "cell_type": "code",
   "execution_count": 10,
   "metadata": {},
   "outputs": [],
   "source": [
    "def padding_(sentences, seq_len):\n",
    "    features = np.zeros((len(sentences), seq_len),dtype=int)\n",
    "    for ii, review in enumerate(sentences):\n",
    "        if len(review) != 0:\n",
    "            features[ii, -len(review):] = np.array(review)[:seq_len]\n",
    "    return features"
   ]
  },
  {
   "cell_type": "code",
   "execution_count": 11,
   "metadata": {},
   "outputs": [],
   "source": [
    "#we have very less number of reviews with length > 500.\n",
    "#So we will consideronly those below it.\n",
    "x_train_pad = padding_(x_train,500)\n",
    "x_test_pad = padding_(x_test,500)"
   ]
  },
  {
   "cell_type": "code",
   "execution_count": 12,
   "metadata": {},
   "outputs": [],
   "source": [
    "# create Tensor datasets\n",
    "train_data = TensorDataset(torch.from_numpy(x_train_pad), torch.from_numpy(y_train))\n",
    "valid_data = TensorDataset(torch.from_numpy(x_test_pad), torch.from_numpy(y_test))\n",
    "\n",
    "# dataloaders\n",
    "batch_size = 100\n",
    "\n",
    "# make sure to SHUFFLE your data\n",
    "train_loader = DataLoader(train_data, shuffle=True, batch_size=batch_size)\n",
    "valid_loader = DataLoader(valid_data, shuffle=True, batch_size=batch_size)"
   ]
  },
  {
   "cell_type": "code",
   "execution_count": 13,
   "metadata": {},
   "outputs": [
    {
     "name": "stdout",
     "output_type": "stream",
     "text": [
      "Sample input size:  torch.Size([100, 500])\n",
      "Sample input: \n",
      " tensor([[  0,   0,   0,  ..., 257, 419, 298],\n",
      "        [  0,   0,   0,  ..., 112, 296,  71],\n",
      "        [  0,   0,   0,  ..., 834, 711,   2],\n",
      "        ...,\n",
      "        [  0,   0,   0,  ..., 468, 306, 711],\n",
      "        [  0,   0,   0,  ..., 126, 283,  50],\n",
      "        [  0,   0,   0,  ..., 275, 887, 199]])\n",
      "Sample input: \n",
      " tensor([1, 0, 0, 1, 0, 0, 0, 1, 1, 0, 1, 1, 0, 1, 1, 0, 0, 1, 1, 0, 1, 0, 1, 0,\n",
      "        0, 0, 0, 1, 1, 0, 0, 1, 1, 0, 0, 0, 0, 0, 0, 0, 1, 1, 1, 1, 1, 1, 0, 1,\n",
      "        1, 1, 1, 0, 1, 1, 1, 0, 0, 0, 0, 0, 1, 1, 0, 0, 1, 0, 1, 1, 0, 0, 1, 1,\n",
      "        1, 1, 1, 1, 1, 1, 0, 0, 1, 0, 0, 1, 0, 0, 0, 1, 0, 0, 1, 0, 0, 0, 1, 1,\n",
      "        0, 0, 1, 0])\n"
     ]
    }
   ],
   "source": [
    "# obtain one batch of training data\n",
    "dataiter = iter(train_loader)\n",
    "sample_x, sample_y = dataiter.next()\n",
    "\n",
    "print('Sample input size: ', sample_x.size()) # batch_size, seq_length\n",
    "print('Sample input: \\n', sample_x)\n",
    "print('Sample input: \\n', sample_y)"
   ]
  },
  {
   "cell_type": "code",
   "execution_count": 14,
   "metadata": {},
   "outputs": [],
   "source": [
    "no_layers = 2\n",
    "vocab_size = len(vocab) + 1 #extra 1 for padding\n",
    "embedding_dim = 64\n",
    "output_dim = 1\n",
    "hidden_dim = 256"
   ]
  },
  {
   "cell_type": "code",
   "execution_count": 15,
   "metadata": {},
   "outputs": [],
   "source": [
    "training_round = 10\n",
    "training_id = training_round\n",
    "model_short_name = 'lstm'\n",
    "framework = 'pytorch'"
   ]
  },
  {
   "cell_type": "code",
   "execution_count": 16,
   "metadata": {},
   "outputs": [],
   "source": [
    "import time\n",
    "import os\n",
    "import copy\n",
    "import csv\n",
    "import pandas as pd\n",
    "from datetime import datetime\n",
    "\n",
    "date = datetime.today().strftime('%Y-%m-%d')"
   ]
  },
  {
   "cell_type": "code",
   "execution_count": 17,
   "metadata": {},
   "outputs": [],
   "source": [
    "class LSTMRNN(nn.Module):\n",
    "    def __init__(self,no_layers,vocab_size,hidden_dim,embedding_dim,drop_prob=0.5):\n",
    "        #super(SentimentRNN,self).__init__()\n",
    "        super().__init__()\n",
    " \n",
    "        self.output_dim = output_dim\n",
    "        self.hidden_dim = hidden_dim\n",
    " \n",
    "        self.no_layers = no_layers\n",
    "        self.vocab_size = vocab_size\n",
    "    \n",
    "        # embedding and LSTM layers\n",
    "        self.embedding = nn.Embedding(vocab_size, embedding_dim)\n",
    "        \n",
    "        #lstm\n",
    "        self.lstm = nn.LSTM(input_size=embedding_dim,hidden_size=self.hidden_dim,\n",
    "                           num_layers=no_layers, batch_first=True)\n",
    "        \n",
    "        \n",
    "        # dropout layer\n",
    "        self.dropout = nn.Dropout(0.3)\n",
    "    \n",
    "        # linear and sigmoid layer\n",
    "        self.fc = nn.Linear(self.hidden_dim, output_dim)\n",
    "        self.sig = nn.Sigmoid()\n",
    "        \n",
    "    def forward(self,x,hidden):\n",
    "        batch_size = x.size(0)\n",
    "        # embeddings and lstm_out\n",
    "        embeds = self.embedding(x)  # shape: B x S x Feature   since batch = True\n",
    "        #print(embeds.shape)  #[50, 500, 1000]\n",
    "        lstm_out, hidden = self.lstm(embeds, hidden)\n",
    "        \n",
    "        lstm_out = lstm_out.contiguous().view(-1, self.hidden_dim) \n",
    "        \n",
    "        # dropout and fully connected layer\n",
    "        out = self.dropout(lstm_out)\n",
    "        out = self.fc(out)\n",
    "        \n",
    "        # sigmoid function\n",
    "        sig_out = self.sig(out)\n",
    "        \n",
    "        # reshape to be batch_size first\n",
    "        sig_out = sig_out.view(batch_size, -1)\n",
    "\n",
    "        sig_out = sig_out[:, -1] # get last batch of labels\n",
    "        \n",
    "        # return last sigmoid output and hidden state\n",
    "        return sig_out, hidden\n",
    "        \n",
    "        \n",
    "        \n",
    "    def init_hidden(self, batch_size):\n",
    "        ''' Initializes hidden state '''\n",
    "        # Create two new tensors with sizes n_layers x batch_size x hidden_dim,\n",
    "        # initialized to zero, for hidden state and cell state of LSTM\n",
    "        h0 = torch.zeros((self.no_layers,batch_size,self.hidden_dim)).to(device)\n",
    "        c0 = torch.zeros((self.no_layers,batch_size,self.hidden_dim)).to(device)\n",
    "        hidden = (h0,c0)\n",
    "        return hidden"
   ]
  },
  {
   "cell_type": "code",
   "execution_count": 18,
   "metadata": {},
   "outputs": [],
   "source": [
    "model = LSTMRNN(no_layers,vocab_size,hidden_dim,embedding_dim,drop_prob=0.5)"
   ]
  },
  {
   "cell_type": "code",
   "execution_count": 19,
   "metadata": {},
   "outputs": [
    {
     "name": "stdout",
     "output_type": "stream",
     "text": [
      "LSTMRNN(\n",
      "  (embedding): Embedding(1001, 64)\n",
      "  (lstm): LSTM(64, 256, num_layers=2, batch_first=True)\n",
      "  (dropout): Dropout(p=0.3, inplace=False)\n",
      "  (fc): Linear(in_features=256, out_features=1, bias=True)\n",
      "  (sig): Sigmoid()\n",
      ")\n"
     ]
    }
   ],
   "source": [
    "path = '/Volumes/Cisco/Fall2021/onnx-exchange/Training/pytorch/lstm/'\n",
    "since_0 = time.time()\n",
    "model_name = 'torch_state_lstm-imdb_2021-11-03_{}'.format(training_id)\n",
    "model.load_state_dict(torch.load(path+model_name+'.pb', map_location=torch.device('cpu')))\n",
    "t_elapsed_0 = time.time() - since_0\n",
    "\n",
    "size0 = os.path.getsize(path+model_name+'.pb')\n",
    "size0\n",
    "\n",
    "#moving to gpu\n",
    "model.to(device)\n",
    "\n",
    "print(model)"
   ]
  },
  {
   "cell_type": "code",
   "execution_count": 20,
   "metadata": {},
   "outputs": [
    {
     "name": "stderr",
     "output_type": "stream",
     "text": [
      "WARNING:root:TensorFlow version 2.5.0 detected. Last version known to be fully compatible is 2.3.1 .\n",
      "Using TensorFlow backend.\n"
     ]
    }
   ],
   "source": [
    "import onnx\n",
    "import onnxruntime\n",
    "import coremltools\n",
    "import time\n",
    "\n",
    "from six import string_types as _string_types\n",
    "from coremltools import TensorType\n",
    "#from coremltools.converters.mil.testing_reqs import _converter"
   ]
  },
  {
   "cell_type": "code",
   "execution_count": null,
   "metadata": {},
   "outputs": [],
   "source": []
  },
  {
   "cell_type": "code",
   "execution_count": 21,
   "metadata": {},
   "outputs": [],
   "source": [
    "onnx_path = '/Volumes/Cisco/Fall2021/onnx-exchange/conversion/onnx/'\n",
    "coreml_path = '/Volumes/Cisco/Fall2021/onnx-exchange/conversion/coremltools/'\n",
    "error_path = '/Volumes/Cisco/Fall2021/onnx-exchange/conversion/errors/'"
   ]
  },
  {
   "cell_type": "code",
   "execution_count": 22,
   "metadata": {},
   "outputs": [],
   "source": [
    "def to_numpy(tensor):\n",
    "    return tensor.detach().cpu().numpy() if tensor.requires_grad else tensor.cpu().numpy()\n",
    "def trace_model(model, input_data):\n",
    "    model.eval()\n",
    "    if isinstance(input_data, list):\n",
    "        input_data = tuple(input_data)\n",
    "    torch_model = torch.jit.trace(model, input_data)\n",
    "    return torch_model\n",
    "def _flatten(object):\n",
    "    flattened_list = []\n",
    "    for item in object:\n",
    "        if isinstance(item, (list, tuple)):\n",
    "            flattened_list.extend(_flatten(item))\n",
    "        else:\n",
    "            flattened_list.append(item)\n",
    "    return flattened_list\n",
    "def flatten_and_detach_torch_results(torch_results):\n",
    "    if isinstance(torch_results, (list, tuple)):\n",
    "        #return [x.detach().numpy() for x in _flatten(torch_results)]\n",
    "        return [x.cpu().numpy() for x in _flatten(torch_results)]\n",
    "    # Do not need to flatten\n",
    "    return [torch_results.detach().numpy()]\n",
    "def convert_to_coreml_inputs(input_description, inputs):\n",
    "    \"\"\"Convenience function to combine a CoreML model's input description and\n",
    "    set of raw inputs into the format expected by the model's predict function.\n",
    "    \"\"\"\n",
    "    flattened_inputs = _flatten(inputs)\n",
    "    coreml_inputs = {\n",
    "        str(x): to_numpy(inp).astype(np.float64) for x, inp in zip(input_description, flattened_inputs)\n",
    "    }\n",
    "    #str(x): to_numpy(inp).numpy() for x, inp in zip(input_description, flattened_inputs)\n",
    "    return coreml_inputs\n",
    "from coremltools.converters.mil.mil import types\n",
    "def _convert_to_inputtype(inputs): \n",
    "    if isinstance(inputs, list): \n",
    "        return [_convert_to_inputtype(x) for x in inputs]\n",
    "    elif isinstance(inputs, tuple):\n",
    "        return tuple([_convert_to_inputtype(x) for x in inputs])\n",
    "        #return tuple([coremltools.TensorType(shape=x.shape) for x in inputs])\n",
    "    elif isinstance(inputs, torch.Tensor):\n",
    "        return coremltools.TensorType(shape=inputs.shape, dtype=types.int64)\n",
    "    else:\n",
    "        raise ValueError(\"Unable to parse type {} into InputType.\".format(type(inputs)))"
   ]
  },
  {
   "cell_type": "code",
   "execution_count": 23,
   "metadata": {},
   "outputs": [],
   "source": [
    "def to_onnx(i, x, data_writer_error, data_writer_error2, data_writer_run, batch_size):\n",
    "    # Input to the model\n",
    "    #device_reset = cuda.get_current_device()\n",
    "    #device_reset.reset()\n",
    "    #x.cuda()\n",
    "   \n",
    "    print(\"converting for batch: \", i)\n",
    "    #traced_model = torch.jit.trace(model, x)\n",
    "    #torch.random.manual_seed(42)\n",
    "    #x = torch.randn(10000, 3, 32, 32, requires_grad=True)\n",
    "    since_ = time.time()\n",
    "    torch.random.manual_seed(42)\n",
    "    #x = torch.randn(10000, 3, 32, 32, requires_grad=True)\n",
    "    \n",
    "    #model = torch.load(path+model_name+'.pth')\n",
    "    val_h = model.init_hidden(batch_size)\n",
    "    val_h = tuple([each.data for each in val_h])\n",
    "    #inputs, labels = x.to(device), labels.to(device)\n",
    "\n",
    "    output, val_h = model(x, val_h)\n",
    "    h0 = torch.zeros((no_layers,batch_size,hidden_dim)).to(device)\n",
    "    c0 = torch.zeros((no_layers,batch_size,hidden_dim)).to(device)\n",
    "    hidden = (h0,c0)\n",
    "    \n",
    "    input_x = (x, (h0, c0))\n",
    "    traced_model = trace_model(model, input_x)\n",
    "    if isinstance(traced_model, _string_types):\n",
    "        torch_model = torch.jit.load(traced_model)\n",
    "    else:\n",
    "        torch_model = traced_model\n",
    "    if not isinstance(input_x, (list, tuple)):\n",
    "        input_x = [input_x]\n",
    "    \n",
    "    since_1 = time.time()\n",
    "    torch_out, (hn, cn) = model(x, (h0, c0))\n",
    "    t_elapsed_1 = time.time() - since_1\n",
    "    \n",
    "    # Export the model\n",
    "    if not os.path.exists(onnx_path+framework+\"/{}\".format(model_short_name)):\n",
    "        os.makedirs(onnx_path+framework+\"/{}\".format(model_short_name))\n",
    "    if not os.path.exists(coreml_path+framework+\"/{}\".format(model_short_name)):\n",
    "        os.makedirs(coreml_path+framework+\"/{}\".format(model_short_name))\n",
    "        \n",
    "    since_1 = time.time()\n",
    "    \n",
    "    since_onnx = time.time()\n",
    "    \n",
    "    input_names = [\"input\", \"h0\", \"c0\"]\n",
    "    output_names = [\"output\", \"hn\", \"cn\"]\n",
    "\n",
    "    torch.onnx.export(model, (x, (h0, c0)), \n",
    "                  onnx_path+framework+\"/{}/{}.onnx\".format(model_short_name, model_name),\n",
    "                      input_names=input_names, output_names=output_names)\n",
    "    t_elapsed_2 = time.time() - since_1\n",
    "    \n",
    "    \n",
    "    onnx_model = onnx.load(onnx_path+framework+\"/{}/{}.onnx\".format(model_short_name, model_name))\n",
    "    onnx.checker.check_model(onnx_model)\n",
    "    size2 = os.path.getsize(onnx_path+framework+\"/{}/{}.onnx\".format(model_short_name, model_name))\n",
    "    #def to_numpy(tensor):\n",
    "    #    return tensor.detach().cpu().numpy() if tensor.requires_grad else tensor.cpu().numpy()\n",
    "    ort_session = onnxruntime.InferenceSession(onnx_path+framework+\"/{}/{}.onnx\".format(model_short_name, model_name))\n",
    "    since_1 = time.time()\n",
    "    ort_outs = ort_session.run(None, {ort_session.get_inputs()[0].name: to_numpy(x), 'h0':to_numpy(h0), 'c0':to_numpy(c0)})\n",
    "    \n",
    "    t_elapsed_3 = time.time() - since_1\n",
    "    t_elapsed_ = time.time() - since_\n",
    "    t_elapsed_onnx = time.time() - since_onnx\n",
    "    # compare ONNX Runtime and PyTorch results\n",
    "    print(\"\\n*********\\n\\n\")\n",
    "    #time_diff = t_elapsed_0+t_elapsed_1, t_elapsed_2, t_elapsed_3\n",
    "    \n",
    "    abs_err = np.absolute(to_numpy(torch_out)-ort_outs[0])\n",
    "    rel_err = np.absolute(to_numpy(torch_out)-ort_outs[0])/ np.absolute(ort_outs[0])\n",
    "    #print('Batch: ', i, abs_err, rel_err)\n",
    "    \n",
    "\n",
    "    \n",
    "    ## Converting the coremltool\n",
    "    input_data_coreml = list(_convert_to_inputtype(input_x))\n",
    "    \n",
    "    since_1 = time.time()\n",
    "    # Using image_input in the inputs parameter:\n",
    "    # Convert to Core ML using the Unified Conversion API.\n",
    "    coreml_model = coremltools.convert(torch_model, inputs=input_data_coreml)\n",
    "    t_elapsed_4 = time.time() - since_1\n",
    "    \n",
    "    \n",
    "    since_1 = time.time()\n",
    "    coreml_model.save(coreml_path+framework+'/{}/{}.mlmodel'.format(model_short_name, model_name))\n",
    "    t_elapsed_5 = time.time() - since_1\n",
    "    \n",
    "    coreml_inputs = convert_to_coreml_inputs(coreml_model.input_description, input_x)\n",
    "    split_ = str(coreml_model.get_spec().description.input[0]).split('\\n')\n",
    "    name_1 = split_[0].replace('name: \"', '')\n",
    "    name_1 = name_1.replace('\"', '')\n",
    "    #print(name_1)\n",
    "\n",
    "    size3 = os.path.getsize(coreml_path+framework+'/{}/{}.mlmodel'.format(model_short_name, model_name))\n",
    "    \n",
    "    since_1 = time.time()\n",
    "    output_dict_test = coreml_model.predict(coreml_inputs)\n",
    "    #output_dict_test = coreml_model.predict({name_1:to_numpy(x)})\n",
    "    t_elapsed_6 = time.time() - since_1\n",
    "    t_elapsed2_ = time.time() - since_\n",
    "    \n",
    "    print(list(output_dict_test.keys()))\n",
    "    #coreml_array_output = output_dict_test[list(output_dict_test.keys())[3]]\n",
    "    coreml_array_output = output_dict_test['var_56']\n",
    "    \n",
    "    abs_err2 = np.absolute(to_numpy(torch_out)-coreml_array_output)\n",
    "    rel_err2 = np.absolute(to_numpy(torch_out)-coreml_array_output)/ np.absolute(coreml_array_output)\n",
    "    #print(\"onnx: \", abs_err)\n",
    "    \n",
    "    #print('coreml: ', abs_err2)\n",
    "    for j in range (len(abs_err)):\n",
    "        #print(j, abs_err[j])\n",
    "        #for k in range(len(abs_err[j])): \n",
    "        data_writer_error.writerow([model_short_name,framework, training_id, model_name, batch_size, i, abs_err[j], rel_err[j]])\n",
    "    \n",
    "    for j in range (len(abs_err2)):\n",
    "        #for k in range(len(abs_err2[j])): \n",
    "        data_writer_error2.writerow([model_short_name,framework, training_id, model_name, batch_size, i, abs_err2[j], rel_err2[j]])\n",
    "      \n",
    "    data_writer_run.writerow([model_short_name, framework, training_id, model_name, batch_size, i,'onnx',size0, size2, t_elapsed_1, t_elapsed_3,  t_elapsed_2,'', t_elapsed_, np.mean(abs_err), np.median(abs_err), np.min(abs_err), np.max(abs_err), np.mean(rel_err), np.median(rel_err), np.min(rel_err), np.max(rel_err)])\n",
    "    data_writer_run.writerow([model_short_name, framework, training_id, model_name, batch_size, i,'coremltools',size0, size3, t_elapsed_1, t_elapsed_6, t_elapsed_4, t_elapsed_5, (t_elapsed2_-t_elapsed_onnx), np.mean(abs_err2), np.median(abs_err2), np.min(abs_err2), np.max(abs_err2), np.mean(rel_err2), np.median(rel_err2), np.min(rel_err2), np.max(rel_err2)])"
   ]
  },
  {
   "cell_type": "code",
   "execution_count": 24,
   "metadata": {},
   "outputs": [],
   "source": [
    "def _lets_convert(data, data_writer_error, data_writer_error2, data_writer_run, batch_size): # for cifar10 etc\n",
    "    since = time.time()\n",
    "    for i, (images, labels) in enumerate(data):\n",
    "        to_onnx(i, images,data_writer_error, data_writer_error2, data_writer_run, batch_size)\n",
    "        if i == 5: \n",
    "            break\n",
    "    time_elapsed = time.time() - since\n",
    "    print('Conversion complete in {:.0f}m {:.0f}s'.format(time_elapsed // 60, time_elapsed % 60) )"
   ]
  },
  {
   "cell_type": "code",
   "execution_count": 25,
   "metadata": {},
   "outputs": [],
   "source": [
    "#model_name = 'letnet5-keras'\n",
    "import pandas as pd \n",
    "def run_experiment(model_short_name, model_name):\n",
    "    if not os.path.exists(error_path+framework+\"/{}\".format(model_short_name)): \n",
    "        os.makedirs(error_path+framework+\"/{}\".format(model_short_name))\n",
    "\n",
    "    data_file_error = open(error_path + framework+'/{}/onnx_error_metrics_{}.csv'.format(model_short_name, model_name), mode='w', newline='',\n",
    "                                      encoding='utf-8')\n",
    "    data_writer_error = csv.writer(data_file_error, delimiter=',', quotechar='\"', quoting=csv.QUOTE_MINIMAL)\n",
    "    data_writer_error.writerow(['model','framework', 'training_id', 'model_full', \"batch_size\", 'round','absolute_error', 'relative_error'])\n",
    "\n",
    "\n",
    "    data_file_error2 = open(error_path + framework+'/{}/mlmore_error_metrics_{}.csv'.format(model_short_name, model_name), mode='w', newline='',\n",
    "                                      encoding='utf-8')\n",
    "    data_writer_error2 = csv.writer(data_file_error2, delimiter=',', quotechar='\"', quoting=csv.QUOTE_MINIMAL)\n",
    "    data_writer_error2.writerow(['model','framework', 'training_id', 'model_full', \"batch_size\", 'round','absolute_error', 'relative_error'])\n",
    "\n",
    "\n",
    "    data_file_run = open(error_path + framework+'/{}/runtime_metrics_{}.csv'.format(model_short_name, model_name), mode='w', newline='',\n",
    "                                      encoding='utf-8')\n",
    "    data_writer_run = csv.writer(data_file_run, delimiter=',', quotechar='\"', quoting=csv.QUOTE_MINIMAL)\n",
    "    data_writer_run.writerow(['model','framework', 'training_id', 'model_full', \"batch_size\", 'round','converter','original_size', 'converted_size', 'original_infererence_time', 'converted_infererence_time', 'conversion_time', 'saving_converted_time', 'overral_time', 'avg_abs_error', 'median_abs_error', 'min_abs_error', 'max_abs_error','avg_rel_error', 'median_rel_error', 'min_rel_error', 'max_rel_error'])\n",
    "    \n",
    "    #for batch_size in [1, 5,10,20,30,40,50,60,70,80,90,100,128, 150,200, 250,300,350, 400, 450, 500]:\n",
    "    for batch_size in [1, 5,10,50,100,128,150,200,250,300]: # \n",
    "        print(\"################ Batch size: \", batch_size)\n",
    "        #trainloader = torch.utils.data.DataLoader(train_data, batch_size = batch_size)\n",
    "        valid_loader = DataLoader(valid_data, shuffle=True, batch_size=batch_size)\n",
    "        \n",
    "        _lets_convert(valid_loader, data_writer_error, data_writer_error2, data_writer_run, batch_size)\n",
    "    data_file_error.close()\n",
    "    data_file_error2.close()\n",
    "    data_file_run.close()"
   ]
  },
  {
   "cell_type": "code",
   "execution_count": 26,
   "metadata": {},
   "outputs": [
    {
     "name": "stdout",
     "output_type": "stream",
     "text": [
      "################ Batch size:  1\n",
      "converting for batch:  0\n"
     ]
    },
    {
     "name": "stderr",
     "output_type": "stream",
     "text": [
      "/opt/anaconda3/lib/python3.7/site-packages/torch/onnx/symbolic_opset9.py:2099: UserWarning: Exporting a model to ONNX with a batch_size other than 1, with a variable length with LSTM can cause an error when running the ONNX model with a different batch size. Make sure to save the model with a batch size of 1, or define the initial states (h0/c0) as inputs of the model. \n",
      "  \"or define the initial states (h0/c0) as inputs of the model. \")\n"
     ]
    },
    {
     "name": "stdout",
     "output_type": "stream",
     "text": [
      "\n",
      "*********\n",
      "\n",
      "\n"
     ]
    },
    {
     "name": "stderr",
     "output_type": "stream",
     "text": [
      "WARNING:root:Tuple detected at graph input. This will be flattened in the converted model.\n",
      "WARNING:root:Tuple detected at graph output. This will be flattened in the converted model.\n",
      "Converting Frontend ==> MIL Ops:  93%|█████████▎| 39/42 [00:00<00:00, 373.51 ops/s]\n",
      "Running MIL Common passes:   0%|          | 0/33 [00:00<?, ? passes/s]/opt/anaconda3/lib/python3.7/site-packages/coremltools/converters/mil/mil/passes/name_sanitization_utils.py:129: UserWarning: Output, '29', of the source model, has been renamed to 'var_29' in the Core ML model.\n",
      "  warnings.warn(msg.format(var.name, new_name))\n",
      "/opt/anaconda3/lib/python3.7/site-packages/coremltools/converters/mil/mil/passes/name_sanitization_utils.py:129: UserWarning: Output, '30', of the source model, has been renamed to 'var_30' in the Core ML model.\n",
      "  warnings.warn(msg.format(var.name, new_name))\n",
      "/opt/anaconda3/lib/python3.7/site-packages/coremltools/converters/mil/mil/passes/name_sanitization_utils.py:129: UserWarning: Output, '56', of the source model, has been renamed to 'var_56' in the Core ML model.\n",
      "  warnings.warn(msg.format(var.name, new_name))\n",
      "Running MIL Common passes: 100%|██████████| 33/33 [00:00<00:00, 222.62 passes/s]\n",
      "Running MIL Clean up passes: 100%|██████████| 8/8 [00:00<00:00, 135.56 passes/s]\n",
      "Translating MIL ==> NeuralNetwork Ops: 100%|██████████| 56/56 [00:00<00:00, 280.94 ops/s]\n"
     ]
    },
    {
     "name": "stdout",
     "output_type": "stream",
     "text": [
      "['var_29', 'var_30', 'var_56']\n",
      "converting for batch:  1\n",
      "\n",
      "*********\n",
      "\n",
      "\n"
     ]
    },
    {
     "name": "stderr",
     "output_type": "stream",
     "text": [
      "WARNING:root:Tuple detected at graph input. This will be flattened in the converted model.\n",
      "WARNING:root:Tuple detected at graph output. This will be flattened in the converted model.\n",
      "Converting Frontend ==> MIL Ops:  93%|█████████▎| 39/42 [00:00<00:00, 452.75 ops/s]\n",
      "Running MIL Common passes: 100%|██████████| 33/33 [00:00<00:00, 266.19 passes/s]\n",
      "Running MIL Clean up passes: 100%|██████████| 8/8 [00:00<00:00, 178.67 passes/s]\n",
      "Translating MIL ==> NeuralNetwork Ops: 100%|██████████| 56/56 [00:00<00:00, 255.83 ops/s]\n"
     ]
    },
    {
     "name": "stdout",
     "output_type": "stream",
     "text": [
      "['var_29', 'var_30', 'var_56']\n",
      "converting for batch:  2\n",
      "\n",
      "*********\n",
      "\n",
      "\n"
     ]
    },
    {
     "name": "stderr",
     "output_type": "stream",
     "text": [
      "WARNING:root:Tuple detected at graph input. This will be flattened in the converted model.\n",
      "WARNING:root:Tuple detected at graph output. This will be flattened in the converted model.\n",
      "Converting Frontend ==> MIL Ops:  93%|█████████▎| 39/42 [00:00<00:00, 438.82 ops/s]\n",
      "Running MIL Common passes: 100%|██████████| 33/33 [00:00<00:00, 262.27 passes/s]\n",
      "Running MIL Clean up passes: 100%|██████████| 8/8 [00:00<00:00, 157.42 passes/s]\n",
      "Translating MIL ==> NeuralNetwork Ops: 100%|██████████| 56/56 [00:00<00:00, 205.54 ops/s]\n"
     ]
    },
    {
     "name": "stdout",
     "output_type": "stream",
     "text": [
      "['var_29', 'var_30', 'var_56']\n",
      "converting for batch:  3\n",
      "\n",
      "*********\n",
      "\n",
      "\n"
     ]
    },
    {
     "name": "stderr",
     "output_type": "stream",
     "text": [
      "WARNING:root:Tuple detected at graph input. This will be flattened in the converted model.\n",
      "WARNING:root:Tuple detected at graph output. This will be flattened in the converted model.\n",
      "Converting Frontend ==> MIL Ops:  93%|█████████▎| 39/42 [00:00<00:00, 424.29 ops/s]\n",
      "Running MIL Common passes: 100%|██████████| 33/33 [00:00<00:00, 264.40 passes/s]\n",
      "Running MIL Clean up passes: 100%|██████████| 8/8 [00:00<00:00, 202.94 passes/s]\n",
      "Translating MIL ==> NeuralNetwork Ops: 100%|██████████| 56/56 [00:00<00:00, 275.32 ops/s]\n"
     ]
    },
    {
     "name": "stdout",
     "output_type": "stream",
     "text": [
      "['var_29', 'var_30', 'var_56']\n",
      "converting for batch:  4\n",
      "\n",
      "*********\n",
      "\n",
      "\n"
     ]
    },
    {
     "name": "stderr",
     "output_type": "stream",
     "text": [
      "WARNING:root:Tuple detected at graph input. This will be flattened in the converted model.\n",
      "WARNING:root:Tuple detected at graph output. This will be flattened in the converted model.\n",
      "Converting Frontend ==> MIL Ops:  93%|█████████▎| 39/42 [00:00<00:00, 432.70 ops/s]\n",
      "Running MIL Common passes: 100%|██████████| 33/33 [00:00<00:00, 264.22 passes/s]\n",
      "Running MIL Clean up passes: 100%|██████████| 8/8 [00:00<00:00, 121.07 passes/s]\n",
      "Translating MIL ==> NeuralNetwork Ops: 100%|██████████| 56/56 [00:00<00:00, 224.64 ops/s]\n"
     ]
    },
    {
     "name": "stdout",
     "output_type": "stream",
     "text": [
      "['var_29', 'var_30', 'var_56']\n",
      "converting for batch:  5\n",
      "\n",
      "*********\n",
      "\n",
      "\n"
     ]
    },
    {
     "name": "stderr",
     "output_type": "stream",
     "text": [
      "WARNING:root:Tuple detected at graph input. This will be flattened in the converted model.\n",
      "WARNING:root:Tuple detected at graph output. This will be flattened in the converted model.\n",
      "Converting Frontend ==> MIL Ops:  93%|█████████▎| 39/42 [00:00<00:00, 500.98 ops/s]\n",
      "Running MIL Common passes: 100%|██████████| 33/33 [00:00<00:00, 255.72 passes/s]\n",
      "Running MIL Clean up passes: 100%|██████████| 8/8 [00:00<00:00, 182.31 passes/s]\n",
      "Translating MIL ==> NeuralNetwork Ops: 100%|██████████| 56/56 [00:00<00:00, 249.62 ops/s]\n"
     ]
    },
    {
     "name": "stdout",
     "output_type": "stream",
     "text": [
      "['var_29', 'var_30', 'var_56']\n",
      "Conversion complete in 0m 16s\n",
      "################ Batch size:  5\n",
      "converting for batch:  0\n",
      "\n",
      "*********\n",
      "\n",
      "\n"
     ]
    },
    {
     "name": "stderr",
     "output_type": "stream",
     "text": [
      "WARNING:root:Tuple detected at graph input. This will be flattened in the converted model.\n",
      "WARNING:root:Tuple detected at graph output. This will be flattened in the converted model.\n",
      "Converting Frontend ==> MIL Ops:  93%|█████████▎| 39/42 [00:00<00:00, 461.06 ops/s]\n",
      "Running MIL Common passes: 100%|██████████| 33/33 [00:00<00:00, 303.73 passes/s]\n",
      "Running MIL Clean up passes: 100%|██████████| 8/8 [00:00<00:00, 160.29 passes/s]\n",
      "Translating MIL ==> NeuralNetwork Ops: 100%|██████████| 56/56 [00:00<00:00, 257.31 ops/s]\n"
     ]
    },
    {
     "name": "stdout",
     "output_type": "stream",
     "text": [
      "['var_29', 'var_30', 'var_56']\n",
      "converting for batch:  1\n",
      "\n",
      "*********\n",
      "\n",
      "\n"
     ]
    },
    {
     "name": "stderr",
     "output_type": "stream",
     "text": [
      "WARNING:root:Tuple detected at graph input. This will be flattened in the converted model.\n",
      "WARNING:root:Tuple detected at graph output. This will be flattened in the converted model.\n",
      "Converting Frontend ==> MIL Ops:  93%|█████████▎| 39/42 [00:00<00:00, 548.25 ops/s]\n",
      "Running MIL Common passes: 100%|██████████| 33/33 [00:00<00:00, 297.02 passes/s]\n",
      "Running MIL Clean up passes: 100%|██████████| 8/8 [00:00<00:00, 146.58 passes/s]\n",
      "Translating MIL ==> NeuralNetwork Ops: 100%|██████████| 56/56 [00:00<00:00, 281.99 ops/s]\n"
     ]
    },
    {
     "name": "stdout",
     "output_type": "stream",
     "text": [
      "['var_29', 'var_30', 'var_56']\n",
      "converting for batch:  2\n",
      "\n",
      "*********\n",
      "\n",
      "\n"
     ]
    },
    {
     "name": "stderr",
     "output_type": "stream",
     "text": [
      "WARNING:root:Tuple detected at graph input. This will be flattened in the converted model.\n",
      "WARNING:root:Tuple detected at graph output. This will be flattened in the converted model.\n",
      "Converting Frontend ==> MIL Ops:  93%|█████████▎| 39/42 [00:00<00:00, 504.26 ops/s]\n",
      "Running MIL Common passes: 100%|██████████| 33/33 [00:00<00:00, 345.09 passes/s]\n",
      "Running MIL Clean up passes: 100%|██████████| 8/8 [00:00<00:00, 284.42 passes/s]\n",
      "Translating MIL ==> NeuralNetwork Ops: 100%|██████████| 56/56 [00:00<00:00, 292.27 ops/s]\n"
     ]
    },
    {
     "name": "stdout",
     "output_type": "stream",
     "text": [
      "['var_29', 'var_30', 'var_56']\n",
      "converting for batch:  3\n",
      "\n",
      "*********\n",
      "\n",
      "\n"
     ]
    },
    {
     "name": "stderr",
     "output_type": "stream",
     "text": [
      "WARNING:root:Tuple detected at graph input. This will be flattened in the converted model.\n",
      "WARNING:root:Tuple detected at graph output. This will be flattened in the converted model.\n",
      "Converting Frontend ==> MIL Ops:  93%|█████████▎| 39/42 [00:00<00:00, 540.54 ops/s]\n",
      "Running MIL Common passes: 100%|██████████| 33/33 [00:00<00:00, 346.69 passes/s]\n",
      "Running MIL Clean up passes: 100%|██████████| 8/8 [00:00<00:00, 154.76 passes/s]\n",
      "Translating MIL ==> NeuralNetwork Ops: 100%|██████████| 56/56 [00:00<00:00, 287.09 ops/s]\n"
     ]
    },
    {
     "name": "stdout",
     "output_type": "stream",
     "text": [
      "['var_29', 'var_30', 'var_56']\n",
      "converting for batch:  4\n",
      "\n",
      "*********\n",
      "\n",
      "\n"
     ]
    },
    {
     "name": "stderr",
     "output_type": "stream",
     "text": [
      "WARNING:root:Tuple detected at graph input. This will be flattened in the converted model.\n",
      "WARNING:root:Tuple detected at graph output. This will be flattened in the converted model.\n",
      "Converting Frontend ==> MIL Ops:  93%|█████████▎| 39/42 [00:00<00:00, 521.43 ops/s]\n",
      "Running MIL Common passes: 100%|██████████| 33/33 [00:00<00:00, 331.76 passes/s]\n",
      "Running MIL Clean up passes: 100%|██████████| 8/8 [00:00<00:00, 178.62 passes/s]\n",
      "Translating MIL ==> NeuralNetwork Ops: 100%|██████████| 56/56 [00:00<00:00, 296.49 ops/s]\n"
     ]
    },
    {
     "name": "stdout",
     "output_type": "stream",
     "text": [
      "['var_29', 'var_30', 'var_56']\n",
      "converting for batch:  5\n",
      "\n",
      "*********\n",
      "\n",
      "\n"
     ]
    },
    {
     "name": "stderr",
     "output_type": "stream",
     "text": [
      "WARNING:root:Tuple detected at graph input. This will be flattened in the converted model.\n",
      "WARNING:root:Tuple detected at graph output. This will be flattened in the converted model.\n",
      "Converting Frontend ==> MIL Ops:  93%|█████████▎| 39/42 [00:00<00:00, 477.88 ops/s]\n",
      "Running MIL Common passes: 100%|██████████| 33/33 [00:00<00:00, 291.76 passes/s]\n",
      "Running MIL Clean up passes: 100%|██████████| 8/8 [00:00<00:00, 156.03 passes/s]\n",
      "Translating MIL ==> NeuralNetwork Ops: 100%|██████████| 56/56 [00:00<00:00, 218.38 ops/s]\n"
     ]
    },
    {
     "name": "stdout",
     "output_type": "stream",
     "text": [
      "['var_29', 'var_30', 'var_56']\n",
      "Conversion complete in 0m 22s\n",
      "################ Batch size:  10\n",
      "converting for batch:  0\n",
      "\n",
      "*********\n",
      "\n",
      "\n"
     ]
    },
    {
     "name": "stderr",
     "output_type": "stream",
     "text": [
      "WARNING:root:Tuple detected at graph input. This will be flattened in the converted model.\n",
      "WARNING:root:Tuple detected at graph output. This will be flattened in the converted model.\n",
      "Converting Frontend ==> MIL Ops:  93%|█████████▎| 39/42 [00:00<00:00, 394.48 ops/s]\n",
      "Running MIL Common passes: 100%|██████████| 33/33 [00:00<00:00, 318.46 passes/s]\n",
      "Running MIL Clean up passes: 100%|██████████| 8/8 [00:00<00:00, 163.10 passes/s]\n",
      "Translating MIL ==> NeuralNetwork Ops: 100%|██████████| 56/56 [00:00<00:00, 208.57 ops/s]\n"
     ]
    },
    {
     "name": "stdout",
     "output_type": "stream",
     "text": [
      "['var_29', 'var_30', 'var_56']\n",
      "converting for batch:  1\n",
      "\n",
      "*********\n",
      "\n",
      "\n"
     ]
    },
    {
     "name": "stderr",
     "output_type": "stream",
     "text": [
      "WARNING:root:Tuple detected at graph input. This will be flattened in the converted model.\n",
      "WARNING:root:Tuple detected at graph output. This will be flattened in the converted model.\n",
      "Converting Frontend ==> MIL Ops:  93%|█████████▎| 39/42 [00:00<00:00, 490.76 ops/s]\n",
      "Running MIL Common passes: 100%|██████████| 33/33 [00:00<00:00, 287.84 passes/s]\n",
      "Running MIL Clean up passes: 100%|██████████| 8/8 [00:00<00:00, 134.65 passes/s]\n",
      "Translating MIL ==> NeuralNetwork Ops: 100%|██████████| 56/56 [00:00<00:00, 241.45 ops/s]\n"
     ]
    },
    {
     "name": "stdout",
     "output_type": "stream",
     "text": [
      "['var_29', 'var_30', 'var_56']\n",
      "converting for batch:  2\n",
      "\n",
      "*********\n",
      "\n",
      "\n"
     ]
    },
    {
     "name": "stderr",
     "output_type": "stream",
     "text": [
      "WARNING:root:Tuple detected at graph input. This will be flattened in the converted model.\n",
      "WARNING:root:Tuple detected at graph output. This will be flattened in the converted model.\n",
      "Converting Frontend ==> MIL Ops:  93%|█████████▎| 39/42 [00:00<00:00, 406.11 ops/s]\n",
      "Running MIL Common passes: 100%|██████████| 33/33 [00:00<00:00, 272.91 passes/s]\n",
      "Running MIL Clean up passes: 100%|██████████| 8/8 [00:00<00:00, 152.45 passes/s]\n",
      "Translating MIL ==> NeuralNetwork Ops: 100%|██████████| 56/56 [00:00<00:00, 226.92 ops/s]\n"
     ]
    },
    {
     "name": "stdout",
     "output_type": "stream",
     "text": [
      "['var_29', 'var_30', 'var_56']\n",
      "converting for batch:  3\n",
      "\n",
      "*********\n",
      "\n",
      "\n"
     ]
    },
    {
     "name": "stderr",
     "output_type": "stream",
     "text": [
      "WARNING:root:Tuple detected at graph input. This will be flattened in the converted model.\n",
      "WARNING:root:Tuple detected at graph output. This will be flattened in the converted model.\n",
      "Converting Frontend ==> MIL Ops:  93%|█████████▎| 39/42 [00:00<00:00, 374.77 ops/s]\n",
      "Running MIL Common passes: 100%|██████████| 33/33 [00:00<00:00, 293.14 passes/s]\n",
      "Running MIL Clean up passes: 100%|██████████| 8/8 [00:00<00:00, 137.55 passes/s]\n",
      "Translating MIL ==> NeuralNetwork Ops: 100%|██████████| 56/56 [00:00<00:00, 181.55 ops/s]\n"
     ]
    },
    {
     "name": "stdout",
     "output_type": "stream",
     "text": [
      "['var_29', 'var_30', 'var_56']\n",
      "converting for batch:  4\n",
      "\n",
      "*********\n",
      "\n",
      "\n"
     ]
    },
    {
     "name": "stderr",
     "output_type": "stream",
     "text": [
      "WARNING:root:Tuple detected at graph input. This will be flattened in the converted model.\n",
      "WARNING:root:Tuple detected at graph output. This will be flattened in the converted model.\n",
      "Converting Frontend ==> MIL Ops:  93%|█████████▎| 39/42 [00:00<00:00, 440.28 ops/s]\n",
      "Running MIL Common passes: 100%|██████████| 33/33 [00:00<00:00, 289.92 passes/s]\n",
      "Running MIL Clean up passes: 100%|██████████| 8/8 [00:00<00:00, 168.28 passes/s]\n",
      "Translating MIL ==> NeuralNetwork Ops: 100%|██████████| 56/56 [00:00<00:00, 206.20 ops/s]\n"
     ]
    },
    {
     "name": "stdout",
     "output_type": "stream",
     "text": [
      "['var_29', 'var_30', 'var_56']\n",
      "converting for batch:  5\n",
      "\n",
      "*********\n",
      "\n",
      "\n"
     ]
    },
    {
     "name": "stderr",
     "output_type": "stream",
     "text": [
      "WARNING:root:Tuple detected at graph input. This will be flattened in the converted model.\n",
      "WARNING:root:Tuple detected at graph output. This will be flattened in the converted model.\n",
      "Converting Frontend ==> MIL Ops:  93%|█████████▎| 39/42 [00:00<00:00, 307.05 ops/s]\n",
      "Running MIL Common passes: 100%|██████████| 33/33 [00:00<00:00, 179.27 passes/s]\n",
      "Running MIL Clean up passes: 100%|██████████| 8/8 [00:00<00:00, 123.06 passes/s]\n",
      "Translating MIL ==> NeuralNetwork Ops: 100%|██████████| 56/56 [00:00<00:00, 117.38 ops/s]\n"
     ]
    },
    {
     "name": "stdout",
     "output_type": "stream",
     "text": [
      "['var_29', 'var_30', 'var_56']\n",
      "Conversion complete in 0m 37s\n",
      "################ Batch size:  50\n",
      "converting for batch:  0\n",
      "\n",
      "*********\n",
      "\n",
      "\n"
     ]
    },
    {
     "name": "stderr",
     "output_type": "stream",
     "text": [
      "WARNING:root:Tuple detected at graph input. This will be flattened in the converted model.\n",
      "WARNING:root:Tuple detected at graph output. This will be flattened in the converted model.\n",
      "Converting Frontend ==> MIL Ops:  93%|█████████▎| 39/42 [00:00<00:00, 204.14 ops/s]\n",
      "Running MIL Common passes: 100%|██████████| 33/33 [00:00<00:00, 165.90 passes/s]\n",
      "Running MIL Clean up passes: 100%|██████████| 8/8 [00:00<00:00, 118.62 passes/s]\n",
      "Translating MIL ==> NeuralNetwork Ops: 100%|██████████| 56/56 [00:00<00:00, 186.85 ops/s]\n"
     ]
    },
    {
     "name": "stdout",
     "output_type": "stream",
     "text": [
      "['var_29', 'var_30', 'var_56']\n",
      "converting for batch:  1\n",
      "\n",
      "*********\n",
      "\n",
      "\n"
     ]
    },
    {
     "name": "stderr",
     "output_type": "stream",
     "text": [
      "WARNING:root:Tuple detected at graph input. This will be flattened in the converted model.\n",
      "WARNING:root:Tuple detected at graph output. This will be flattened in the converted model.\n",
      "Converting Frontend ==> MIL Ops:  93%|█████████▎| 39/42 [00:00<00:00, 464.31 ops/s]\n",
      "Running MIL Common passes: 100%|██████████| 33/33 [00:00<00:00, 270.66 passes/s]\n",
      "Running MIL Clean up passes: 100%|██████████| 8/8 [00:00<00:00, 149.58 passes/s]\n",
      "Translating MIL ==> NeuralNetwork Ops: 100%|██████████| 56/56 [00:00<00:00, 228.55 ops/s]\n"
     ]
    },
    {
     "name": "stdout",
     "output_type": "stream",
     "text": [
      "['var_29', 'var_30', 'var_56']\n",
      "converting for batch:  2\n",
      "\n",
      "*********\n",
      "\n",
      "\n"
     ]
    },
    {
     "name": "stderr",
     "output_type": "stream",
     "text": [
      "WARNING:root:Tuple detected at graph input. This will be flattened in the converted model.\n",
      "WARNING:root:Tuple detected at graph output. This will be flattened in the converted model.\n",
      "Converting Frontend ==> MIL Ops:  93%|█████████▎| 39/42 [00:00<00:00, 415.96 ops/s]\n",
      "Running MIL Common passes: 100%|██████████| 33/33 [00:00<00:00, 263.59 passes/s]\n",
      "Running MIL Clean up passes: 100%|██████████| 8/8 [00:00<00:00, 125.72 passes/s]\n",
      "Translating MIL ==> NeuralNetwork Ops: 100%|██████████| 56/56 [00:00<00:00, 206.35 ops/s]\n"
     ]
    },
    {
     "name": "stdout",
     "output_type": "stream",
     "text": [
      "['var_29', 'var_30', 'var_56']\n",
      "converting for batch:  3\n",
      "\n",
      "*********\n",
      "\n",
      "\n"
     ]
    },
    {
     "name": "stderr",
     "output_type": "stream",
     "text": [
      "WARNING:root:Tuple detected at graph input. This will be flattened in the converted model.\n",
      "WARNING:root:Tuple detected at graph output. This will be flattened in the converted model.\n",
      "Converting Frontend ==> MIL Ops:  93%|█████████▎| 39/42 [00:00<00:00, 357.83 ops/s]\n",
      "Running MIL Common passes: 100%|██████████| 33/33 [00:00<00:00, 219.76 passes/s]\n",
      "Running MIL Clean up passes: 100%|██████████| 8/8 [00:00<00:00, 112.92 passes/s]\n",
      "Translating MIL ==> NeuralNetwork Ops: 100%|██████████| 56/56 [00:00<00:00, 160.15 ops/s]\n"
     ]
    },
    {
     "name": "stdout",
     "output_type": "stream",
     "text": [
      "['var_29', 'var_30', 'var_56']\n",
      "converting for batch:  4\n",
      "\n",
      "*********\n",
      "\n",
      "\n"
     ]
    },
    {
     "name": "stderr",
     "output_type": "stream",
     "text": [
      "WARNING:root:Tuple detected at graph input. This will be flattened in the converted model.\n",
      "WARNING:root:Tuple detected at graph output. This will be flattened in the converted model.\n",
      "Converting Frontend ==> MIL Ops:  93%|█████████▎| 39/42 [00:00<00:00, 281.31 ops/s]\n",
      "Running MIL Common passes: 100%|██████████| 33/33 [00:00<00:00, 155.91 passes/s]\n",
      "Running MIL Clean up passes: 100%|██████████| 8/8 [00:00<00:00, 93.26 passes/s]\n",
      "Translating MIL ==> NeuralNetwork Ops: 100%|██████████| 56/56 [00:00<00:00, 144.63 ops/s]\n"
     ]
    },
    {
     "name": "stdout",
     "output_type": "stream",
     "text": [
      "['var_29', 'var_30', 'var_56']\n",
      "converting for batch:  5\n",
      "\n",
      "*********\n",
      "\n",
      "\n"
     ]
    },
    {
     "name": "stderr",
     "output_type": "stream",
     "text": [
      "WARNING:root:Tuple detected at graph input. This will be flattened in the converted model.\n",
      "WARNING:root:Tuple detected at graph output. This will be flattened in the converted model.\n",
      "Converting Frontend ==> MIL Ops:  93%|█████████▎| 39/42 [00:00<00:00, 333.80 ops/s]\n",
      "Running MIL Common passes: 100%|██████████| 33/33 [00:00<00:00, 223.22 passes/s]\n",
      "Running MIL Clean up passes: 100%|██████████| 8/8 [00:00<00:00, 103.73 passes/s]\n",
      "Translating MIL ==> NeuralNetwork Ops: 100%|██████████| 56/56 [00:00<00:00, 194.38 ops/s]\n"
     ]
    },
    {
     "name": "stdout",
     "output_type": "stream",
     "text": [
      "['var_29', 'var_30', 'var_56']\n",
      "Conversion complete in 2m 27s\n",
      "################ Batch size:  100\n",
      "converting for batch:  0\n",
      "\n",
      "*********\n",
      "\n",
      "\n"
     ]
    },
    {
     "name": "stderr",
     "output_type": "stream",
     "text": [
      "WARNING:root:Tuple detected at graph input. This will be flattened in the converted model.\n",
      "WARNING:root:Tuple detected at graph output. This will be flattened in the converted model.\n",
      "Converting Frontend ==> MIL Ops:  93%|█████████▎| 39/42 [00:00<00:00, 136.86 ops/s]\n",
      "Running MIL Common passes: 100%|██████████| 33/33 [00:00<00:00, 112.33 passes/s]\n",
      "Running MIL Clean up passes: 100%|██████████| 8/8 [00:00<00:00, 80.92 passes/s]\n",
      "Translating MIL ==> NeuralNetwork Ops: 100%|██████████| 56/56 [00:00<00:00, 69.21 ops/s]\n"
     ]
    },
    {
     "name": "stdout",
     "output_type": "stream",
     "text": [
      "['var_29', 'var_30', 'var_56']\n",
      "converting for batch:  1\n",
      "\n",
      "*********\n",
      "\n",
      "\n"
     ]
    },
    {
     "name": "stderr",
     "output_type": "stream",
     "text": [
      "WARNING:root:Tuple detected at graph input. This will be flattened in the converted model.\n",
      "WARNING:root:Tuple detected at graph output. This will be flattened in the converted model.\n",
      "Converting Frontend ==> MIL Ops:  93%|█████████▎| 39/42 [00:00<00:00, 345.96 ops/s]\n",
      "Running MIL Common passes: 100%|██████████| 33/33 [00:00<00:00, 236.15 passes/s]\n",
      "Running MIL Clean up passes: 100%|██████████| 8/8 [00:00<00:00, 81.53 passes/s]\n",
      "Translating MIL ==> NeuralNetwork Ops: 100%|██████████| 56/56 [00:00<00:00, 175.62 ops/s]\n"
     ]
    },
    {
     "name": "stdout",
     "output_type": "stream",
     "text": [
      "['var_29', 'var_30', 'var_56']\n",
      "converting for batch:  2\n",
      "\n",
      "*********\n",
      "\n",
      "\n"
     ]
    },
    {
     "name": "stderr",
     "output_type": "stream",
     "text": [
      "WARNING:root:Tuple detected at graph input. This will be flattened in the converted model.\n",
      "WARNING:root:Tuple detected at graph output. This will be flattened in the converted model.\n",
      "Converting Frontend ==> MIL Ops:  93%|█████████▎| 39/42 [00:00<00:00, 376.80 ops/s]\n",
      "Running MIL Common passes: 100%|██████████| 33/33 [00:00<00:00, 288.07 passes/s]\n",
      "Running MIL Clean up passes: 100%|██████████| 8/8 [00:00<00:00, 114.18 passes/s]\n",
      "Translating MIL ==> NeuralNetwork Ops: 100%|██████████| 56/56 [00:00<00:00, 218.84 ops/s]\n"
     ]
    },
    {
     "name": "stdout",
     "output_type": "stream",
     "text": [
      "['var_29', 'var_30', 'var_56']\n",
      "converting for batch:  3\n",
      "\n",
      "*********\n",
      "\n",
      "\n"
     ]
    },
    {
     "name": "stderr",
     "output_type": "stream",
     "text": [
      "WARNING:root:Tuple detected at graph input. This will be flattened in the converted model.\n",
      "WARNING:root:Tuple detected at graph output. This will be flattened in the converted model.\n",
      "Converting Frontend ==> MIL Ops:  93%|█████████▎| 39/42 [00:00<00:00, 435.35 ops/s]\n",
      "Running MIL Common passes: 100%|██████████| 33/33 [00:00<00:00, 296.67 passes/s]\n",
      "Running MIL Clean up passes: 100%|██████████| 8/8 [00:00<00:00, 162.71 passes/s]\n",
      "Translating MIL ==> NeuralNetwork Ops: 100%|██████████| 56/56 [00:00<00:00, 230.28 ops/s]\n"
     ]
    },
    {
     "name": "stdout",
     "output_type": "stream",
     "text": [
      "['var_29', 'var_30', 'var_56']\n",
      "converting for batch:  4\n",
      "\n",
      "*********\n",
      "\n",
      "\n"
     ]
    },
    {
     "name": "stderr",
     "output_type": "stream",
     "text": [
      "WARNING:root:Tuple detected at graph input. This will be flattened in the converted model.\n",
      "WARNING:root:Tuple detected at graph output. This will be flattened in the converted model.\n",
      "Converting Frontend ==> MIL Ops:  93%|█████████▎| 39/42 [00:00<00:00, 333.87 ops/s]\n",
      "Running MIL Common passes: 100%|██████████| 33/33 [00:00<00:00, 178.36 passes/s]\n",
      "Running MIL Clean up passes: 100%|██████████| 8/8 [00:00<00:00, 132.25 passes/s]\n",
      "Translating MIL ==> NeuralNetwork Ops: 100%|██████████| 56/56 [00:00<00:00, 225.82 ops/s]\n"
     ]
    },
    {
     "name": "stdout",
     "output_type": "stream",
     "text": [
      "['var_29', 'var_30', 'var_56']\n",
      "converting for batch:  5\n",
      "\n",
      "*********\n",
      "\n",
      "\n"
     ]
    },
    {
     "name": "stderr",
     "output_type": "stream",
     "text": [
      "WARNING:root:Tuple detected at graph input. This will be flattened in the converted model.\n",
      "WARNING:root:Tuple detected at graph output. This will be flattened in the converted model.\n",
      "Converting Frontend ==> MIL Ops:  93%|█████████▎| 39/42 [00:00<00:00, 328.31 ops/s]\n",
      "Running MIL Common passes: 100%|██████████| 33/33 [00:00<00:00, 223.59 passes/s]\n",
      "Running MIL Clean up passes: 100%|██████████| 8/8 [00:00<00:00, 102.22 passes/s]\n",
      "Translating MIL ==> NeuralNetwork Ops: 100%|██████████| 56/56 [00:00<00:00, 146.57 ops/s]\n"
     ]
    },
    {
     "name": "stdout",
     "output_type": "stream",
     "text": [
      "['var_29', 'var_30', 'var_56']\n",
      "Conversion complete in 3m 31s\n",
      "################ Batch size:  128\n",
      "converting for batch:  0\n",
      "\n",
      "*********\n",
      "\n",
      "\n"
     ]
    },
    {
     "name": "stderr",
     "output_type": "stream",
     "text": [
      "WARNING:root:Tuple detected at graph input. This will be flattened in the converted model.\n",
      "WARNING:root:Tuple detected at graph output. This will be flattened in the converted model.\n",
      "Converting Frontend ==> MIL Ops:  93%|█████████▎| 39/42 [00:00<00:00, 391.79 ops/s]\n",
      "Running MIL Common passes: 100%|██████████| 33/33 [00:00<00:00, 292.90 passes/s]\n",
      "Running MIL Clean up passes: 100%|██████████| 8/8 [00:00<00:00, 168.44 passes/s]\n",
      "Translating MIL ==> NeuralNetwork Ops: 100%|██████████| 56/56 [00:00<00:00, 235.07 ops/s]\n"
     ]
    },
    {
     "name": "stdout",
     "output_type": "stream",
     "text": [
      "['var_29', 'var_30', 'var_56']\n",
      "converting for batch:  1\n",
      "\n",
      "*********\n",
      "\n",
      "\n"
     ]
    },
    {
     "name": "stderr",
     "output_type": "stream",
     "text": [
      "WARNING:root:Tuple detected at graph input. This will be flattened in the converted model.\n",
      "WARNING:root:Tuple detected at graph output. This will be flattened in the converted model.\n",
      "Converting Frontend ==> MIL Ops:  93%|█████████▎| 39/42 [00:00<00:00, 392.76 ops/s]\n",
      "Running MIL Common passes: 100%|██████████| 33/33 [00:00<00:00, 262.62 passes/s]\n",
      "Running MIL Clean up passes: 100%|██████████| 8/8 [00:00<00:00, 130.22 passes/s]\n",
      "Translating MIL ==> NeuralNetwork Ops: 100%|██████████| 56/56 [00:00<00:00, 226.09 ops/s]\n"
     ]
    },
    {
     "name": "stdout",
     "output_type": "stream",
     "text": [
      "['var_29', 'var_30', 'var_56']\n",
      "converting for batch:  2\n",
      "\n",
      "*********\n",
      "\n",
      "\n"
     ]
    },
    {
     "name": "stderr",
     "output_type": "stream",
     "text": [
      "WARNING:root:Tuple detected at graph input. This will be flattened in the converted model.\n",
      "WARNING:root:Tuple detected at graph output. This will be flattened in the converted model.\n",
      "Converting Frontend ==> MIL Ops:  93%|█████████▎| 39/42 [00:00<00:00, 379.81 ops/s]\n",
      "Running MIL Common passes: 100%|██████████| 33/33 [00:00<00:00, 249.06 passes/s]\n",
      "Running MIL Clean up passes: 100%|██████████| 8/8 [00:00<00:00, 114.98 passes/s]\n",
      "Translating MIL ==> NeuralNetwork Ops: 100%|██████████| 56/56 [00:00<00:00, 201.55 ops/s]\n"
     ]
    },
    {
     "name": "stdout",
     "output_type": "stream",
     "text": [
      "['var_29', 'var_30', 'var_56']\n",
      "converting for batch:  3\n",
      "\n",
      "*********\n",
      "\n",
      "\n"
     ]
    },
    {
     "name": "stderr",
     "output_type": "stream",
     "text": [
      "WARNING:root:Tuple detected at graph input. This will be flattened in the converted model.\n",
      "WARNING:root:Tuple detected at graph output. This will be flattened in the converted model.\n",
      "Converting Frontend ==> MIL Ops:  93%|█████████▎| 39/42 [00:00<00:00, 329.91 ops/s]\n",
      "Running MIL Common passes: 100%|██████████| 33/33 [00:00<00:00, 252.65 passes/s]\n",
      "Running MIL Clean up passes: 100%|██████████| 8/8 [00:00<00:00, 97.67 passes/s]\n",
      "Translating MIL ==> NeuralNetwork Ops: 100%|██████████| 56/56 [00:00<00:00, 206.16 ops/s]\n"
     ]
    },
    {
     "name": "stdout",
     "output_type": "stream",
     "text": [
      "['var_29', 'var_30', 'var_56']\n",
      "converting for batch:  4\n",
      "\n",
      "*********\n",
      "\n",
      "\n"
     ]
    },
    {
     "name": "stderr",
     "output_type": "stream",
     "text": [
      "WARNING:root:Tuple detected at graph input. This will be flattened in the converted model.\n",
      "WARNING:root:Tuple detected at graph output. This will be flattened in the converted model.\n",
      "Converting Frontend ==> MIL Ops:  93%|█████████▎| 39/42 [00:00<00:00, 429.24 ops/s]\n",
      "Running MIL Common passes: 100%|██████████| 33/33 [00:00<00:00, 220.38 passes/s]\n",
      "Running MIL Clean up passes: 100%|██████████| 8/8 [00:00<00:00, 133.96 passes/s]\n",
      "Translating MIL ==> NeuralNetwork Ops: 100%|██████████| 56/56 [00:00<00:00, 185.55 ops/s]\n"
     ]
    },
    {
     "name": "stdout",
     "output_type": "stream",
     "text": [
      "['var_29', 'var_30', 'var_56']\n",
      "converting for batch:  5\n",
      "\n",
      "*********\n",
      "\n",
      "\n"
     ]
    },
    {
     "name": "stderr",
     "output_type": "stream",
     "text": [
      "WARNING:root:Tuple detected at graph input. This will be flattened in the converted model.\n",
      "WARNING:root:Tuple detected at graph output. This will be flattened in the converted model.\n",
      "Converting Frontend ==> MIL Ops:  93%|█████████▎| 39/42 [00:00<00:00, 371.60 ops/s]\n",
      "Running MIL Common passes: 100%|██████████| 33/33 [00:00<00:00, 263.44 passes/s]\n",
      "Running MIL Clean up passes: 100%|██████████| 8/8 [00:00<00:00, 170.83 passes/s]\n",
      "Translating MIL ==> NeuralNetwork Ops: 100%|██████████| 56/56 [00:00<00:00, 233.53 ops/s]\n"
     ]
    },
    {
     "name": "stdout",
     "output_type": "stream",
     "text": [
      "['var_29', 'var_30', 'var_56']\n",
      "Conversion complete in 4m 18s\n",
      "################ Batch size:  150\n",
      "converting for batch:  0\n",
      "\n",
      "*********\n",
      "\n",
      "\n"
     ]
    },
    {
     "name": "stderr",
     "output_type": "stream",
     "text": [
      "WARNING:root:Tuple detected at graph input. This will be flattened in the converted model.\n",
      "WARNING:root:Tuple detected at graph output. This will be flattened in the converted model.\n",
      "Converting Frontend ==> MIL Ops:  93%|█████████▎| 39/42 [00:00<00:00, 326.66 ops/s]\n",
      "Running MIL Common passes: 100%|██████████| 33/33 [00:00<00:00, 243.66 passes/s]\n",
      "Running MIL Clean up passes: 100%|██████████| 8/8 [00:00<00:00, 87.89 passes/s]\n",
      "Translating MIL ==> NeuralNetwork Ops: 100%|██████████| 56/56 [00:00<00:00, 148.82 ops/s]\n"
     ]
    },
    {
     "name": "stdout",
     "output_type": "stream",
     "text": [
      "['var_29', 'var_30', 'var_56']\n",
      "converting for batch:  1\n",
      "\n",
      "*********\n",
      "\n",
      "\n"
     ]
    },
    {
     "name": "stderr",
     "output_type": "stream",
     "text": [
      "WARNING:root:Tuple detected at graph input. This will be flattened in the converted model.\n",
      "WARNING:root:Tuple detected at graph output. This will be flattened in the converted model.\n",
      "Converting Frontend ==> MIL Ops:  93%|█████████▎| 39/42 [00:00<00:00, 539.85 ops/s]\n",
      "Running MIL Common passes: 100%|██████████| 33/33 [00:00<00:00, 310.53 passes/s]\n",
      "Running MIL Clean up passes: 100%|██████████| 8/8 [00:00<00:00, 192.13 passes/s]\n",
      "Translating MIL ==> NeuralNetwork Ops: 100%|██████████| 56/56 [00:00<00:00, 206.47 ops/s]\n"
     ]
    },
    {
     "name": "stdout",
     "output_type": "stream",
     "text": [
      "['var_29', 'var_30', 'var_56']\n",
      "converting for batch:  2\n",
      "\n",
      "*********\n",
      "\n",
      "\n"
     ]
    },
    {
     "name": "stderr",
     "output_type": "stream",
     "text": [
      "WARNING:root:Tuple detected at graph input. This will be flattened in the converted model.\n",
      "WARNING:root:Tuple detected at graph output. This will be flattened in the converted model.\n",
      "Converting Frontend ==> MIL Ops:  93%|█████████▎| 39/42 [00:00<00:00, 399.33 ops/s]\n",
      "Running MIL Common passes: 100%|██████████| 33/33 [00:00<00:00, 253.59 passes/s]\n",
      "Running MIL Clean up passes: 100%|██████████| 8/8 [00:00<00:00, 121.63 passes/s]\n",
      "Translating MIL ==> NeuralNetwork Ops: 100%|██████████| 56/56 [00:00<00:00, 219.64 ops/s]\n"
     ]
    },
    {
     "name": "stdout",
     "output_type": "stream",
     "text": [
      "['var_29', 'var_30', 'var_56']\n",
      "converting for batch:  3\n",
      "\n",
      "*********\n",
      "\n",
      "\n"
     ]
    },
    {
     "name": "stderr",
     "output_type": "stream",
     "text": [
      "WARNING:root:Tuple detected at graph input. This will be flattened in the converted model.\n",
      "WARNING:root:Tuple detected at graph output. This will be flattened in the converted model.\n",
      "Converting Frontend ==> MIL Ops:  93%|█████████▎| 39/42 [00:00<00:00, 210.27 ops/s]\n",
      "Running MIL Common passes: 100%|██████████| 33/33 [00:00<00:00, 156.78 passes/s]\n",
      "Running MIL Clean up passes: 100%|██████████| 8/8 [00:00<00:00, 81.87 passes/s]\n",
      "Translating MIL ==> NeuralNetwork Ops: 100%|██████████| 56/56 [00:00<00:00, 154.79 ops/s]\n"
     ]
    },
    {
     "name": "stdout",
     "output_type": "stream",
     "text": [
      "['var_29', 'var_30', 'var_56']\n",
      "converting for batch:  4\n",
      "\n",
      "*********\n",
      "\n",
      "\n"
     ]
    },
    {
     "name": "stderr",
     "output_type": "stream",
     "text": [
      "WARNING:root:Tuple detected at graph input. This will be flattened in the converted model.\n",
      "WARNING:root:Tuple detected at graph output. This will be flattened in the converted model.\n",
      "Converting Frontend ==> MIL Ops:  93%|█████████▎| 39/42 [00:00<00:00, 491.39 ops/s]\n",
      "Running MIL Common passes: 100%|██████████| 33/33 [00:00<00:00, 279.70 passes/s]\n",
      "Running MIL Clean up passes: 100%|██████████| 8/8 [00:00<00:00, 188.97 passes/s]\n",
      "Translating MIL ==> NeuralNetwork Ops: 100%|██████████| 56/56 [00:00<00:00, 212.37 ops/s]\n"
     ]
    },
    {
     "name": "stdout",
     "output_type": "stream",
     "text": [
      "['var_29', 'var_30', 'var_56']\n",
      "converting for batch:  5\n",
      "\n",
      "*********\n",
      "\n",
      "\n"
     ]
    },
    {
     "name": "stderr",
     "output_type": "stream",
     "text": [
      "WARNING:root:Tuple detected at graph input. This will be flattened in the converted model.\n",
      "WARNING:root:Tuple detected at graph output. This will be flattened in the converted model.\n",
      "Converting Frontend ==> MIL Ops:  93%|█████████▎| 39/42 [00:00<00:00, 416.38 ops/s]\n",
      "Running MIL Common passes: 100%|██████████| 33/33 [00:00<00:00, 298.28 passes/s]\n",
      "Running MIL Clean up passes: 100%|██████████| 8/8 [00:00<00:00, 180.31 passes/s]\n",
      "Translating MIL ==> NeuralNetwork Ops: 100%|██████████| 56/56 [00:00<00:00, 240.45 ops/s]\n"
     ]
    },
    {
     "name": "stdout",
     "output_type": "stream",
     "text": [
      "['var_29', 'var_30', 'var_56']\n",
      "Conversion complete in 5m 10s\n",
      "################ Batch size:  200\n",
      "converting for batch:  0\n",
      "\n",
      "*********\n",
      "\n",
      "\n"
     ]
    },
    {
     "name": "stderr",
     "output_type": "stream",
     "text": [
      "WARNING:root:Tuple detected at graph input. This will be flattened in the converted model.\n",
      "WARNING:root:Tuple detected at graph output. This will be flattened in the converted model.\n",
      "Converting Frontend ==> MIL Ops:  93%|█████████▎| 39/42 [00:00<00:00, 537.55 ops/s]\n",
      "Running MIL Common passes: 100%|██████████| 33/33 [00:00<00:00, 300.67 passes/s]\n",
      "Running MIL Clean up passes: 100%|██████████| 8/8 [00:00<00:00, 201.75 passes/s]\n",
      "Translating MIL ==> NeuralNetwork Ops: 100%|██████████| 56/56 [00:00<00:00, 221.79 ops/s]\n"
     ]
    },
    {
     "name": "stdout",
     "output_type": "stream",
     "text": [
      "['var_29', 'var_30', 'var_56']\n",
      "converting for batch:  1\n",
      "\n",
      "*********\n",
      "\n",
      "\n"
     ]
    },
    {
     "name": "stderr",
     "output_type": "stream",
     "text": [
      "WARNING:root:Tuple detected at graph input. This will be flattened in the converted model.\n",
      "WARNING:root:Tuple detected at graph output. This will be flattened in the converted model.\n",
      "Converting Frontend ==> MIL Ops:  93%|█████████▎| 39/42 [00:00<00:00, 544.14 ops/s]\n",
      "Running MIL Common passes: 100%|██████████| 33/33 [00:00<00:00, 358.61 passes/s]\n",
      "Running MIL Clean up passes: 100%|██████████| 8/8 [00:00<00:00, 235.89 passes/s]\n",
      "Translating MIL ==> NeuralNetwork Ops: 100%|██████████| 56/56 [00:00<00:00, 221.72 ops/s]\n"
     ]
    },
    {
     "name": "stdout",
     "output_type": "stream",
     "text": [
      "['var_29', 'var_30', 'var_56']\n",
      "converting for batch:  2\n",
      "\n",
      "*********\n",
      "\n",
      "\n"
     ]
    },
    {
     "name": "stderr",
     "output_type": "stream",
     "text": [
      "WARNING:root:Tuple detected at graph input. This will be flattened in the converted model.\n",
      "WARNING:root:Tuple detected at graph output. This will be flattened in the converted model.\n",
      "Converting Frontend ==> MIL Ops:  93%|█████████▎| 39/42 [00:00<00:00, 583.65 ops/s]\n",
      "Running MIL Common passes: 100%|██████████| 33/33 [00:00<00:00, 314.97 passes/s]\n",
      "Running MIL Clean up passes: 100%|██████████| 8/8 [00:00<00:00, 186.82 passes/s]\n",
      "Translating MIL ==> NeuralNetwork Ops: 100%|██████████| 56/56 [00:00<00:00, 222.14 ops/s]\n"
     ]
    },
    {
     "name": "stdout",
     "output_type": "stream",
     "text": [
      "['var_29', 'var_30', 'var_56']\n",
      "converting for batch:  3\n",
      "\n",
      "*********\n",
      "\n",
      "\n"
     ]
    },
    {
     "name": "stderr",
     "output_type": "stream",
     "text": [
      "WARNING:root:Tuple detected at graph input. This will be flattened in the converted model.\n",
      "WARNING:root:Tuple detected at graph output. This will be flattened in the converted model.\n",
      "Converting Frontend ==> MIL Ops:  93%|█████████▎| 39/42 [00:00<00:00, 534.72 ops/s]\n",
      "Running MIL Common passes: 100%|██████████| 33/33 [00:00<00:00, 303.06 passes/s]\n",
      "Running MIL Clean up passes: 100%|██████████| 8/8 [00:00<00:00, 197.23 passes/s]\n",
      "Translating MIL ==> NeuralNetwork Ops: 100%|██████████| 56/56 [00:00<00:00, 254.95 ops/s]\n"
     ]
    },
    {
     "name": "stdout",
     "output_type": "stream",
     "text": [
      "['var_29', 'var_30', 'var_56']\n",
      "converting for batch:  4\n",
      "\n",
      "*********\n",
      "\n",
      "\n"
     ]
    },
    {
     "name": "stderr",
     "output_type": "stream",
     "text": [
      "WARNING:root:Tuple detected at graph input. This will be flattened in the converted model.\n",
      "WARNING:root:Tuple detected at graph output. This will be flattened in the converted model.\n",
      "Converting Frontend ==> MIL Ops:  93%|█████████▎| 39/42 [00:00<00:00, 640.62 ops/s]\n",
      "Running MIL Common passes: 100%|██████████| 33/33 [00:00<00:00, 322.13 passes/s]\n",
      "Running MIL Clean up passes: 100%|██████████| 8/8 [00:00<00:00, 219.20 passes/s]\n",
      "Translating MIL ==> NeuralNetwork Ops: 100%|██████████| 56/56 [00:00<00:00, 248.88 ops/s]\n"
     ]
    },
    {
     "name": "stdout",
     "output_type": "stream",
     "text": [
      "['var_29', 'var_30', 'var_56']\n",
      "converting for batch:  5\n",
      "\n",
      "*********\n",
      "\n",
      "\n"
     ]
    },
    {
     "name": "stderr",
     "output_type": "stream",
     "text": [
      "WARNING:root:Tuple detected at graph input. This will be flattened in the converted model.\n",
      "WARNING:root:Tuple detected at graph output. This will be flattened in the converted model.\n",
      "Converting Frontend ==> MIL Ops:  93%|█████████▎| 39/42 [00:00<00:00, 599.30 ops/s]\n",
      "Running MIL Common passes: 100%|██████████| 33/33 [00:00<00:00, 299.17 passes/s]\n",
      "Running MIL Clean up passes: 100%|██████████| 8/8 [00:00<00:00, 199.74 passes/s]\n",
      "Translating MIL ==> NeuralNetwork Ops: 100%|██████████| 56/56 [00:00<00:00, 242.76 ops/s]\n"
     ]
    },
    {
     "name": "stdout",
     "output_type": "stream",
     "text": [
      "['var_29', 'var_30', 'var_56']\n",
      "Conversion complete in 6m 11s\n",
      "################ Batch size:  250\n",
      "converting for batch:  0\n",
      "\n",
      "*********\n",
      "\n",
      "\n"
     ]
    },
    {
     "name": "stderr",
     "output_type": "stream",
     "text": [
      "WARNING:root:Tuple detected at graph input. This will be flattened in the converted model.\n",
      "WARNING:root:Tuple detected at graph output. This will be flattened in the converted model.\n",
      "Converting Frontend ==> MIL Ops:  93%|█████████▎| 39/42 [00:00<00:00, 601.98 ops/s]\n",
      "Running MIL Common passes: 100%|██████████| 33/33 [00:00<00:00, 323.76 passes/s]\n",
      "Running MIL Clean up passes: 100%|██████████| 8/8 [00:00<00:00, 201.02 passes/s]\n",
      "Translating MIL ==> NeuralNetwork Ops: 100%|██████████| 56/56 [00:00<00:00, 246.52 ops/s]\n"
     ]
    },
    {
     "name": "stdout",
     "output_type": "stream",
     "text": [
      "['var_29', 'var_30', 'var_56']\n",
      "converting for batch:  1\n",
      "\n",
      "*********\n",
      "\n",
      "\n"
     ]
    },
    {
     "name": "stderr",
     "output_type": "stream",
     "text": [
      "WARNING:root:Tuple detected at graph input. This will be flattened in the converted model.\n",
      "WARNING:root:Tuple detected at graph output. This will be flattened in the converted model.\n",
      "Converting Frontend ==> MIL Ops:  93%|█████████▎| 39/42 [00:00<00:00, 716.98 ops/s]\n",
      "Running MIL Common passes: 100%|██████████| 33/33 [00:00<00:00, 370.63 passes/s]\n",
      "Running MIL Clean up passes: 100%|██████████| 8/8 [00:00<00:00, 265.37 passes/s]\n",
      "Translating MIL ==> NeuralNetwork Ops: 100%|██████████| 56/56 [00:00<00:00, 265.84 ops/s]\n"
     ]
    },
    {
     "name": "stdout",
     "output_type": "stream",
     "text": [
      "['var_29', 'var_30', 'var_56']\n",
      "converting for batch:  2\n",
      "\n",
      "*********\n",
      "\n",
      "\n"
     ]
    },
    {
     "name": "stderr",
     "output_type": "stream",
     "text": [
      "WARNING:root:Tuple detected at graph input. This will be flattened in the converted model.\n",
      "WARNING:root:Tuple detected at graph output. This will be flattened in the converted model.\n",
      "Converting Frontend ==> MIL Ops:  93%|█████████▎| 39/42 [00:00<00:00, 333.84 ops/s]\n",
      "Running MIL Common passes: 100%|██████████| 33/33 [00:00<00:00, 271.39 passes/s]\n",
      "Running MIL Clean up passes: 100%|██████████| 8/8 [00:00<00:00, 109.83 passes/s]\n",
      "Translating MIL ==> NeuralNetwork Ops: 100%|██████████| 56/56 [00:00<00:00, 215.72 ops/s]\n"
     ]
    },
    {
     "name": "stdout",
     "output_type": "stream",
     "text": [
      "['var_29', 'var_30', 'var_56']\n",
      "converting for batch:  3\n",
      "\n",
      "*********\n",
      "\n",
      "\n"
     ]
    },
    {
     "name": "stderr",
     "output_type": "stream",
     "text": [
      "WARNING:root:Tuple detected at graph input. This will be flattened in the converted model.\n",
      "WARNING:root:Tuple detected at graph output. This will be flattened in the converted model.\n",
      "Converting Frontend ==> MIL Ops:  93%|█████████▎| 39/42 [00:00<00:00, 349.54 ops/s]\n",
      "Running MIL Common passes: 100%|██████████| 33/33 [00:00<00:00, 231.24 passes/s]\n",
      "Running MIL Clean up passes: 100%|██████████| 8/8 [00:00<00:00, 104.60 passes/s]\n",
      "Translating MIL ==> NeuralNetwork Ops: 100%|██████████| 56/56 [00:00<00:00, 201.06 ops/s]\n"
     ]
    },
    {
     "name": "stdout",
     "output_type": "stream",
     "text": [
      "['var_29', 'var_30', 'var_56']\n",
      "converting for batch:  4\n",
      "\n",
      "*********\n",
      "\n",
      "\n"
     ]
    },
    {
     "name": "stderr",
     "output_type": "stream",
     "text": [
      "WARNING:root:Tuple detected at graph input. This will be flattened in the converted model.\n",
      "WARNING:root:Tuple detected at graph output. This will be flattened in the converted model.\n",
      "Converting Frontend ==> MIL Ops:  93%|█████████▎| 39/42 [00:00<00:00, 272.08 ops/s]\n",
      "Running MIL Common passes: 100%|██████████| 33/33 [00:00<00:00, 201.91 passes/s]\n",
      "Running MIL Clean up passes: 100%|██████████| 8/8 [00:00<00:00, 115.79 passes/s]\n",
      "Translating MIL ==> NeuralNetwork Ops: 100%|██████████| 56/56 [00:00<00:00, 155.77 ops/s]\n"
     ]
    },
    {
     "name": "stdout",
     "output_type": "stream",
     "text": [
      "['var_29', 'var_30', 'var_56']\n",
      "converting for batch:  5\n",
      "\n",
      "*********\n",
      "\n",
      "\n"
     ]
    },
    {
     "name": "stderr",
     "output_type": "stream",
     "text": [
      "WARNING:root:Tuple detected at graph input. This will be flattened in the converted model.\n",
      "WARNING:root:Tuple detected at graph output. This will be flattened in the converted model.\n",
      "Converting Frontend ==> MIL Ops:  93%|█████████▎| 39/42 [00:00<00:00, 328.72 ops/s]\n",
      "Running MIL Common passes: 100%|██████████| 33/33 [00:00<00:00, 219.96 passes/s]\n",
      "Running MIL Clean up passes: 100%|██████████| 8/8 [00:00<00:00, 128.99 passes/s]\n",
      "Translating MIL ==> NeuralNetwork Ops: 100%|██████████| 56/56 [00:00<00:00, 182.89 ops/s]\n"
     ]
    },
    {
     "name": "stdout",
     "output_type": "stream",
     "text": [
      "['var_29', 'var_30', 'var_56']\n",
      "Conversion complete in 8m 32s\n",
      "################ Batch size:  300\n",
      "converting for batch:  0\n",
      "\n",
      "*********\n",
      "\n",
      "\n"
     ]
    },
    {
     "name": "stderr",
     "output_type": "stream",
     "text": [
      "WARNING:root:Tuple detected at graph input. This will be flattened in the converted model.\n",
      "WARNING:root:Tuple detected at graph output. This will be flattened in the converted model.\n",
      "Converting Frontend ==> MIL Ops:  93%|█████████▎| 39/42 [00:00<00:00, 303.81 ops/s]\n",
      "Running MIL Common passes: 100%|██████████| 33/33 [00:00<00:00, 200.80 passes/s]\n",
      "Running MIL Clean up passes: 100%|██████████| 8/8 [00:00<00:00, 87.66 passes/s]\n",
      "Translating MIL ==> NeuralNetwork Ops: 100%|██████████| 56/56 [00:00<00:00, 186.88 ops/s]\n"
     ]
    },
    {
     "name": "stdout",
     "output_type": "stream",
     "text": [
      "['var_29', 'var_30', 'var_56']\n",
      "converting for batch:  1\n",
      "\n",
      "*********\n",
      "\n",
      "\n"
     ]
    },
    {
     "name": "stderr",
     "output_type": "stream",
     "text": [
      "WARNING:root:Tuple detected at graph input. This will be flattened in the converted model.\n",
      "WARNING:root:Tuple detected at graph output. This will be flattened in the converted model.\n",
      "Converting Frontend ==> MIL Ops:  93%|█████████▎| 39/42 [00:00<00:00, 312.64 ops/s]\n",
      "Running MIL Common passes: 100%|██████████| 33/33 [00:00<00:00, 230.98 passes/s]\n",
      "Running MIL Clean up passes: 100%|██████████| 8/8 [00:00<00:00, 95.87 passes/s]\n",
      "Translating MIL ==> NeuralNetwork Ops: 100%|██████████| 56/56 [00:00<00:00, 194.03 ops/s]\n"
     ]
    },
    {
     "name": "stdout",
     "output_type": "stream",
     "text": [
      "['var_29', 'var_30', 'var_56']\n",
      "converting for batch:  2\n",
      "\n",
      "*********\n",
      "\n",
      "\n"
     ]
    },
    {
     "name": "stderr",
     "output_type": "stream",
     "text": [
      "WARNING:root:Tuple detected at graph input. This will be flattened in the converted model.\n",
      "WARNING:root:Tuple detected at graph output. This will be flattened in the converted model.\n",
      "Converting Frontend ==> MIL Ops:  93%|█████████▎| 39/42 [00:00<00:00, 221.03 ops/s]\n",
      "Running MIL Common passes: 100%|██████████| 33/33 [00:00<00:00, 121.01 passes/s]\n",
      "Running MIL Clean up passes: 100%|██████████| 8/8 [00:00<00:00, 111.43 passes/s]\n",
      "Translating MIL ==> NeuralNetwork Ops: 100%|██████████| 56/56 [00:00<00:00, 102.37 ops/s]\n"
     ]
    },
    {
     "name": "stdout",
     "output_type": "stream",
     "text": [
      "['var_29', 'var_30', 'var_56']\n",
      "converting for batch:  3\n",
      "\n",
      "*********\n",
      "\n",
      "\n"
     ]
    },
    {
     "name": "stderr",
     "output_type": "stream",
     "text": [
      "WARNING:root:Tuple detected at graph input. This will be flattened in the converted model.\n",
      "WARNING:root:Tuple detected at graph output. This will be flattened in the converted model.\n",
      "Converting Frontend ==> MIL Ops:  93%|█████████▎| 39/42 [00:00<00:00, 270.26 ops/s]\n",
      "Running MIL Common passes: 100%|██████████| 33/33 [00:00<00:00, 215.24 passes/s]\n",
      "Running MIL Clean up passes: 100%|██████████| 8/8 [00:00<00:00, 97.53 passes/s]\n",
      "Translating MIL ==> NeuralNetwork Ops: 100%|██████████| 56/56 [00:00<00:00, 164.81 ops/s]\n"
     ]
    },
    {
     "name": "stdout",
     "output_type": "stream",
     "text": [
      "['var_29', 'var_30', 'var_56']\n",
      "converting for batch:  4\n",
      "\n",
      "*********\n",
      "\n",
      "\n"
     ]
    },
    {
     "name": "stderr",
     "output_type": "stream",
     "text": [
      "WARNING:root:Tuple detected at graph input. This will be flattened in the converted model.\n",
      "WARNING:root:Tuple detected at graph output. This will be flattened in the converted model.\n",
      "Converting Frontend ==> MIL Ops:  93%|█████████▎| 39/42 [00:00<00:00, 353.98 ops/s]\n",
      "Running MIL Common passes: 100%|██████████| 33/33 [00:00<00:00, 231.22 passes/s]\n",
      "Running MIL Clean up passes: 100%|██████████| 8/8 [00:00<00:00, 157.97 passes/s]\n",
      "Translating MIL ==> NeuralNetwork Ops: 100%|██████████| 56/56 [00:00<00:00, 197.47 ops/s]\n"
     ]
    },
    {
     "name": "stdout",
     "output_type": "stream",
     "text": [
      "['var_29', 'var_30', 'var_56']\n",
      "converting for batch:  5\n",
      "\n",
      "*********\n",
      "\n",
      "\n"
     ]
    },
    {
     "name": "stderr",
     "output_type": "stream",
     "text": [
      "WARNING:root:Tuple detected at graph input. This will be flattened in the converted model.\n",
      "WARNING:root:Tuple detected at graph output. This will be flattened in the converted model.\n",
      "Converting Frontend ==> MIL Ops:  93%|█████████▎| 39/42 [00:00<00:00, 270.73 ops/s]\n",
      "Running MIL Common passes: 100%|██████████| 33/33 [00:00<00:00, 206.36 passes/s]\n",
      "Running MIL Clean up passes: 100%|██████████| 8/8 [00:00<00:00, 110.01 passes/s]\n",
      "Translating MIL ==> NeuralNetwork Ops: 100%|██████████| 56/56 [00:00<00:00, 189.75 ops/s]\n"
     ]
    },
    {
     "name": "stdout",
     "output_type": "stream",
     "text": [
      "['var_29', 'var_30', 'var_56']\n",
      "Conversion complete in 10m 9s\n"
     ]
    }
   ],
   "source": [
    "run_experiment(model_short_name, model_name)"
   ]
  },
  {
   "cell_type": "code",
   "execution_count": null,
   "metadata": {},
   "outputs": [],
   "source": []
  },
  {
   "cell_type": "code",
   "execution_count": null,
   "metadata": {},
   "outputs": [],
   "source": []
  },
  {
   "cell_type": "code",
   "execution_count": null,
   "metadata": {},
   "outputs": [],
   "source": []
  },
  {
   "cell_type": "code",
   "execution_count": null,
   "metadata": {},
   "outputs": [],
   "source": []
  },
  {
   "cell_type": "code",
   "execution_count": null,
   "metadata": {},
   "outputs": [],
   "source": []
  },
  {
   "cell_type": "code",
   "execution_count": 89,
   "metadata": {},
   "outputs": [],
   "source": [
    "def trace_model(model, input_data):\n",
    "    model.eval()\n",
    "    if isinstance(input_data, list):\n",
    "        input_data = tuple(input_data)\n",
    "    torch_model = torch.jit.trace(model, input_data)\n",
    "    return torch_model"
   ]
  },
  {
   "cell_type": "code",
   "execution_count": 90,
   "metadata": {},
   "outputs": [],
   "source": [
    "#model = torch.load(path+model_name+'.pth')\n",
    "val_h = model.init_hidden(batch_size)\n",
    "val_h = tuple([each.data for each in val_h])\n",
    "#inputs, labels = x.to(device), labels.to(device)\n",
    "\n",
    "output, val_h = model(sample_x, val_h)\n",
    "h0 = torch.zeros((no_layers,batch_size,hidden_dim)).to(device)\n",
    "c0 = torch.zeros((no_layers,batch_size,hidden_dim)).to(device)\n",
    "hidden = (h0,c0)\n",
    "\n",
    "since_1 = time.time()\n",
    "out, (hn, cn) = model(sample_x, (h0, c0))"
   ]
  },
  {
   "cell_type": "code",
   "execution_count": 212,
   "metadata": {},
   "outputs": [],
   "source": [
    "inputs = (sample_x, (h0, c0))\n",
    "expected_results = model(*inputs)\n",
    "# Need to do some output reshaping if bidirectional\n",
    "out_, (hn_, cn_) = model(*inputs)"
   ]
  },
  {
   "cell_type": "code",
   "execution_count": 93,
   "metadata": {},
   "outputs": [],
   "source": [
    "model.eval()\n",
    "input_as_shape = False\n",
    "if input_as_shape: \n",
    "    input_data = generate_input_data(input_data)\n",
    "model_spec = trace_model(model, inputs)"
   ]
  },
  {
   "cell_type": "code",
   "execution_count": 96,
   "metadata": {},
   "outputs": [],
   "source": [
    "if isinstance(model_spec, _string_types):\n",
    "    torch_model = torch.jit.load(model_spec)\n",
    "else:\n",
    "    torch_model = model_spec\n",
    "\n",
    "if not isinstance(inputs, (list, tuple)):\n",
    "    inputs = [inputs]"
   ]
  },
  {
   "cell_type": "code",
   "execution_count": 109,
   "metadata": {},
   "outputs": [],
   "source": [
    "def to_numpy(tensor):\n",
    "    return tensor.detach().cpu().numpy() if tensor.requires_grad else tensor.cpu().numpy()\n",
    "\n",
    "\n",
    "def _flatten(object):\n",
    "    flattened_list = []\n",
    "    for item in object:\n",
    "        if isinstance(item, (list, tuple)):\n",
    "            flattened_list.extend(_flatten(item))\n",
    "        else:\n",
    "            flattened_list.append(item)\n",
    "    return flattened_list\n",
    "def flatten_and_detach_torch_results(torch_results):\n",
    "    if isinstance(torch_results, (list, tuple)):\n",
    "        #return [x.detach().numpy() for x in _flatten(torch_results)]\n",
    "        return [x.cpu().numpy() for x in _flatten(torch_results)]\n",
    "    # Do not need to flatten\n",
    "    return [torch_results.detach().numpy()]\n",
    "\n",
    "\n",
    "\n",
    "def generate_input_data(input_size):\n",
    "    if isinstance(input_size, list):\n",
    "        return [torch.rand(_size) for _size in input_size]\n",
    "    else:\n",
    "        return torch.rand(input_size)"
   ]
  },
  {
   "cell_type": "code",
   "execution_count": 180,
   "metadata": {},
   "outputs": [],
   "source": [
    "def convert_to_coreml_inputs(input_description, inputs):\n",
    "    \"\"\"Convenience function to combine a CoreML model's input description and\n",
    "    set of raw inputs into the format expected by the model's predict function.\n",
    "    \"\"\"\n",
    "    flattened_inputs = _flatten(inputs)\n",
    "    coreml_inputs = {\n",
    "        str(x): to_numpy(inp).astype(np.float64) for x, inp in zip(input_description, flattened_inputs)\n",
    "    }\n",
    "    #str(x): to_numpy(inp).numpy() for x, inp in zip(input_description, flattened_inputs)\n",
    "    return coreml_inputs\n",
    "def convert_to_mlmodel(model_spec, tensor_inputs, backend=\"nn_proto\"):\n",
    "    def _convert_to_inputtype(inputs):\n",
    "        if isinstance(inputs, list):\n",
    "            return [_convert_to_inputtype(x) for x in inputs]\n",
    "        elif isinstance(inputs, tuple):\n",
    "            return tuple([_convert_to_inputtype(x) for x in inputs])\n",
    "        elif isinstance(inputs, torch.Tensor):\n",
    "            return TensorType(shape=inputs.shape, dtype=types.int64)\n",
    "        else:\n",
    "            raise ValueError(\n",
    "                \"Unable to parse type {} into InputType.\".format(type(inputs))\n",
    "            )\n",
    "\n",
    "    inputs = list(_convert_to_inputtype(tensor_inputs))\n",
    "    coreml_model = coremltools.convert(model_spec,inputs=inputs)\n",
    "    \n",
    "    #proto = _converter._convert(model_spec, inputs=inputs, convert_to=backend, convert_from=\"torch\")\n",
    "    return coreml_model #MLModel(proto, useCPUOnly=True)"
   ]
  },
  {
   "cell_type": "code",
   "execution_count": 163,
   "metadata": {},
   "outputs": [],
   "source": [
    "from coremltools.converters.mil.mil import types\n",
    "def _convert_to_inputtype(inputs): \n",
    "    if isinstance(inputs, list): \n",
    "        return [_convert_to_inputtype(x) for x in inputs]\n",
    "    elif isinstance(inputs, tuple):\n",
    "        return tuple([_convert_to_inputtype(x) for x in inputs])\n",
    "        #return tuple([coremltools.TensorType(shape=x.shape) for x in inputs])\n",
    "    elif isinstance(inputs, torch.Tensor):\n",
    "        return coremltools.TensorType(shape=inputs.shape, dtype=types.int64)\n",
    "    else:\n",
    "        raise ValueError(\"Unable to parse type {} into InputType.\".format(type(inputs)))\n",
    "   "
   ]
  },
  {
   "cell_type": "code",
   "execution_count": 164,
   "metadata": {},
   "outputs": [],
   "source": [
    "input_data = list(_convert_to_inputtype(inputs))"
   ]
  },
  {
   "cell_type": "code",
   "execution_count": 165,
   "metadata": {},
   "outputs": [
    {
     "name": "stderr",
     "output_type": "stream",
     "text": [
      "WARNING:root:Tuple detected at graph input. This will be flattened in the converted model.\n",
      "WARNING:root:Tuple detected at graph output. This will be flattened in the converted model.\n",
      "Converting Frontend ==> MIL Ops:  93%|█████████▎| 39/42 [00:00<00:00, 189.55 ops/s]\n",
      "Running MIL Common passes:   6%|▌         | 2/33 [00:00<00:01, 17.92 passes/s]/opt/anaconda3/lib/python3.7/site-packages/coremltools/converters/mil/mil/passes/name_sanitization_utils.py:129: UserWarning: Output, '29', of the source model, has been renamed to 'var_29' in the Core ML model.\n",
      "  warnings.warn(msg.format(var.name, new_name))\n",
      "/opt/anaconda3/lib/python3.7/site-packages/coremltools/converters/mil/mil/passes/name_sanitization_utils.py:129: UserWarning: Output, '30', of the source model, has been renamed to 'var_30' in the Core ML model.\n",
      "  warnings.warn(msg.format(var.name, new_name))\n",
      "/opt/anaconda3/lib/python3.7/site-packages/coremltools/converters/mil/mil/passes/name_sanitization_utils.py:129: UserWarning: Output, '56', of the source model, has been renamed to 'var_56' in the Core ML model.\n",
      "  warnings.warn(msg.format(var.name, new_name))\n",
      "Running MIL Common passes: 100%|██████████| 33/33 [00:00<00:00, 129.84 passes/s]\n",
      "Running MIL Clean up passes: 100%|██████████| 8/8 [00:00<00:00, 86.57 passes/s]\n",
      "Translating MIL ==> NeuralNetwork Ops: 100%|██████████| 56/56 [00:00<00:00, 239.14 ops/s]\n"
     ]
    }
   ],
   "source": [
    "# Using image_input in the inputs parameter:\n",
    "# Convert to Core ML using the Unified Conversion API.\n",
    "coreml_model = coremltools.convert(\n",
    "    torch_model,\n",
    "    inputs=input_data\n",
    " )"
   ]
  },
  {
   "cell_type": "code",
   "execution_count": 181,
   "metadata": {},
   "outputs": [],
   "source": [
    "coreml_inputs = convert_to_coreml_inputs(coreml_model.input_description, inputs)"
   ]
  },
  {
   "cell_type": "code",
   "execution_count": 183,
   "metadata": {},
   "outputs": [],
   "source": [
    "coreml_results = coreml_model.predict(coreml_inputs)\n",
    "sorted_coreml_results = [coreml_results[key] for key in sorted(coreml_results.keys())]"
   ]
  },
  {
   "cell_type": "code",
   "execution_count": 218,
   "metadata": {},
   "outputs": [],
   "source": [
    "coreml_results_out = coreml_model.predict(coreml_inputs)"
   ]
  },
  {
   "cell_type": "code",
   "execution_count": 223,
   "metadata": {},
   "outputs": [
    {
     "data": {
      "text/plain": [
       "['var_29', 'var_30', 'var_56']"
      ]
     },
     "execution_count": 223,
     "metadata": {},
     "output_type": "execute_result"
    }
   ],
   "source": [
    "list(coreml_results.keys())"
   ]
  },
  {
   "cell_type": "code",
   "execution_count": null,
   "metadata": {},
   "outputs": [],
   "source": []
  },
  {
   "cell_type": "code",
   "execution_count": null,
   "metadata": {},
   "outputs": [],
   "source": []
  },
  {
   "cell_type": "code",
   "execution_count": null,
   "metadata": {},
   "outputs": [],
   "source": []
  },
  {
   "cell_type": "code",
   "execution_count": null,
   "metadata": {},
   "outputs": [],
   "source": []
  },
  {
   "cell_type": "code",
   "execution_count": null,
   "metadata": {},
   "outputs": [],
   "source": []
  },
  {
   "cell_type": "code",
   "execution_count": null,
   "metadata": {},
   "outputs": [],
   "source": []
  },
  {
   "cell_type": "code",
   "execution_count": null,
   "metadata": {},
   "outputs": [],
   "source": []
  },
  {
   "cell_type": "code",
   "execution_count": null,
   "metadata": {},
   "outputs": [],
   "source": []
  },
  {
   "cell_type": "code",
   "execution_count": null,
   "metadata": {},
   "outputs": [],
   "source": []
  },
  {
   "cell_type": "code",
   "execution_count": null,
   "metadata": {},
   "outputs": [],
   "source": []
  },
  {
   "cell_type": "code",
   "execution_count": null,
   "metadata": {},
   "outputs": [],
   "source": []
  },
  {
   "cell_type": "code",
   "execution_count": null,
   "metadata": {},
   "outputs": [],
   "source": []
  },
  {
   "cell_type": "markdown",
   "metadata": {},
   "source": [
    "## Load GRU model for export "
   ]
  },
  {
   "cell_type": "code",
   "execution_count": 31,
   "metadata": {},
   "outputs": [],
   "source": [
    "model_name = 'gru-torch'"
   ]
  },
  {
   "cell_type": "code",
   "execution_count": 34,
   "metadata": {},
   "outputs": [],
   "source": [
    "class GRURNN(nn.Module):\n",
    "    def __init__(self,no_layers,vocab_size,hidden_dim,embedding_dim,drop_prob=0.5, batch_size=100):\n",
    "        #super(SentimentRNN,self).__init__()\n",
    "        super().__init__()\n",
    " \n",
    "        self.output_dim = output_dim\n",
    "        self.hidden_dim = hidden_dim\n",
    " \n",
    "        self.no_layers = no_layers\n",
    "        self.vocab_size = vocab_size\n",
    "    \n",
    "        # embedding and LSTM layers\n",
    "        self.embedding = nn.Embedding(vocab_size, embedding_dim)\n",
    "        \n",
    "        #lstm\n",
    "        self.gru = nn.GRU(input_size=embedding_dim,hidden_size=self.hidden_dim,\n",
    "                           num_layers=no_layers, batch_first=True)\n",
    "        \n",
    "        \n",
    "        # dropout layer\n",
    "        self.dropout = nn.Dropout(0.3)\n",
    "    \n",
    "        # linear and sigmoid layer\n",
    "        self.fc = nn.Linear(self.hidden_dim, output_dim)\n",
    "        self.sig = nn.Sigmoid()\n",
    "        \n",
    "    def forward(self,x,hidden):\n",
    "        batch_size = x.size(0)\n",
    "        # embeddings and lstm_out\n",
    "        embeds = self.embedding(x)  # shape: B x S x Feature   since batch = True\n",
    "        #print(embeds.shape)  #[50, 500, 1000]\n",
    "        gru_out, hidden = self.gru(embeds, hidden)\n",
    "        \n",
    "        gru_out = gru_out.contiguous().view(-1, self.hidden_dim) \n",
    "        \n",
    "        # dropout and fully connected layer\n",
    "        out = self.dropout(gru_out)\n",
    "        out = self.fc(out)\n",
    "        \n",
    "        # sigmoid function\n",
    "        sig_out = self.sig(out)\n",
    "        \n",
    "        # reshape to be batch_size first\n",
    "        sig_out = sig_out.view(batch_size, -1)\n",
    "\n",
    "        sig_out = sig_out[:, -1] # get last batch of labels\n",
    "        \n",
    "        # return last sigmoid output and hidden state\n",
    "        return sig_out, hidden\n",
    "        \n",
    "    def init_hidden(self, batch_size):\n",
    "        weight = next(self.parameters()).data\n",
    "        hidden = weight.new(self.no_layers,batch_size,self.hidden_dim).zero_().to(device)\n",
    "        return hidden\n",
    "        \n",
    "    #def init_hidden(self, batch_size):\n",
    "    #    ''' Initializes hidden state '''\n",
    "    #    # Create two new tensors with sizes n_layers x batch_size x hidden_dim,\n",
    "    #    # initialized to zero, for hidden state and cell state of LSTM\n",
    "    #    h0 = torch.zeros((self.no_layers,batch_size,self.hidden_dim)).to(device)\n",
    "    #    c0 = torch.zeros((self.no_layers,batch_size,self.hidden_dim)).to(device)\n",
    "    #    hidden = (h0,c0)\n",
    "    #    return hidden"
   ]
  },
  {
   "cell_type": "code",
   "execution_count": 35,
   "metadata": {},
   "outputs": [],
   "source": [
    "model = GRURNN(no_layers,vocab_size,hidden_dim,embedding_dim,drop_prob=0.5, batch_size=100)"
   ]
  },
  {
   "cell_type": "code",
   "execution_count": 37,
   "metadata": {},
   "outputs": [
    {
     "name": "stdout",
     "output_type": "stream",
     "text": [
      "GRURNN(\n",
      "  (embedding): Embedding(1001, 64)\n",
      "  (gru): GRU(64, 256, num_layers=2, batch_first=True)\n",
      "  (dropout): Dropout(p=0.3, inplace=False)\n",
      "  (fc): Linear(in_features=256, out_features=1, bias=True)\n",
      "  (sig): Sigmoid()\n",
      ")\n"
     ]
    }
   ],
   "source": [
    "path = './data/26-10-2021/Train1/pytorch/gru/'\n",
    "since_0 = time.time()\n",
    "model_name = 'torch_state_GRU-IMDb_2021-11-01_{}'.format(training_id)\n",
    "model.load_state_dict(torch.load(path+model_name+'.pb'))\n",
    "t_elapsed_0 = time.time() - since_0\n",
    "\n",
    "size0 = os.path.getsize(path+model_name+'.pb')\n",
    "size0\n",
    "\n",
    "#moving to gpu\n",
    "model.to(device)\n",
    "\n",
    "print(model)"
   ]
  },
  {
   "cell_type": "code",
   "execution_count": null,
   "metadata": {},
   "outputs": [],
   "source": []
  },
  {
   "cell_type": "code",
   "execution_count": null,
   "metadata": {},
   "outputs": [],
   "source": []
  },
  {
   "cell_type": "code",
   "execution_count": 32,
   "metadata": {},
   "outputs": [],
   "source": [
    "def gru_to_onnx(i, x, abs_errors,rel_errors, t0_list, t1_list, t2_list, t3_list, s_list):\n",
    "    # Input to the model\n",
    "    #device_reset = cuda.get_current_device()\n",
    "    #device_reset.reset()\n",
    "    #x.cuda()\n",
    "   \n",
    "    print(\"converting for batch: \", i)\n",
    "    \n",
    "    torch.random.manual_seed(42)\n",
    "    #x = torch.randn(10000, 3, 32, 32, requires_grad=True)\n",
    "    \n",
    "    #model = torch.load(path+model_name+'.pth')\n",
    "    val_h = model.init_hidden(batch_size)\n",
    "    val_h = val_h.data #tuple([each.data for each in val_h])\n",
    "    #inputs, labels = x.to(device), labels.to(device)\n",
    "\n",
    "    output, val_h = model(x, val_h)\n",
    "    #h0 = torch.zeros((no_layers,batch_size,hidden_dim)).to(device)\n",
    "    #c0 = torch.zeros((no_layers,batch_size,hidden_dim)).to(device)\n",
    "    weight = next(model.parameters()).data\n",
    "    hidden = weight.new(no_layers,batch_size,hidden_dim).zero_().to(device)\n",
    "    h0 = torch.randn(no_layers,batch_size,hidden_dim).cuda()\n",
    "        \n",
    "    #hidden = (h0,c0)\n",
    "    \n",
    "\n",
    "    since_1 = time.time()\n",
    "    out, (hn, cn) = model(x, hidden)\n",
    "    t_elapsed_1 = time.time() - since_1\n",
    "    # Export the model\n",
    "    since_1 = time.time()\n",
    "    \n",
    "    print(len(hidden))\n",
    "    input_names = [\"input\", \"h0\", \"c0\"]\n",
    "    output_names = [\"output\", \"hn\", \"cn\"]\n",
    "\n",
    "    torch.onnx.export(model, (x, hidden), \n",
    "                  \"./data/ONNX/torch/model_ft-{}.onnx\".format(model_name),  export_params=True, verbose=False\n",
    "                      #input_names=input_names, \n",
    "                     # output_names=output_names\n",
    "                     )\n",
    "    t_elapsed_2 = time.time() - since_1\n",
    "    \n",
    "    \n",
    "    onnx_model = onnx.load(\"./data/ONNX/torch/model_ft-{}.onnx\".format(model_name))\n",
    "    onnx.checker.check_model(onnx_model)\n",
    "    size2 = os.path.getsize(\"./data/ONNX/torch/model_ft-{}.onnx\".format(model_name))\n",
    "    s_list.append(size2)\n",
    "    \n",
    "    def to_numpy(tensor):\n",
    "        return tensor.detach().cpu().numpy() if tensor.requires_grad else tensor.cpu().numpy()\n",
    "\n",
    "    ort_session = onnxruntime.InferenceSession(\"./data/ONNX/torch/model_ft-{}.onnx\".format(model_name))\n",
    "    since_1 = time.time()\n",
    "    ort_outs = ort_session.run(None, {ort_session.get_inputs()[0].name: to_numpy(x), 'hidden':to_numpy(hidden)})\n",
    "    #ort_inputs = {ort_session.get_inputs()[0].name: to_numpy(x)}\n",
    "    #ort_outs = ort_session.run(None, ort_inputs)\n",
    "        \n",
    "    t_elapsed_3 = time.time() - since_1\n",
    "    # compare ONNX Runtime and PyTorch results\n",
    "    print(\"*********\")\n",
    "    #time_diff = t_elapsed_0+t_elapsed_1, t_elapsed_2, t_elapsed_3\n",
    "    t0_list.append(t_elapsed_0)\n",
    "    t1_list.append(t_elapsed_1)\n",
    "    t2_list.append(t_elapsed_2)\n",
    "    t3_list.append(t_elapsed_3)\n",
    "    \n",
    "    abs_err = np.absolute(to_numpy(out)-ort_outs[0])\n",
    "    rel_err = np.absolute(to_numpy(out)-ort_outs[0])/ np.absolute(ort_outs[0])\n",
    "    abs_errors.append(abs_err)\n",
    "    rel_errors.append(rel_err)\n",
    "    return (abs_err, rel_err)"
   ]
  },
  {
   "cell_type": "code",
   "execution_count": 33,
   "metadata": {},
   "outputs": [],
   "source": [
    "def _lets_convert(data):\n",
    "    since = time.time()\n",
    "    list_converted = []\n",
    "    t0_list = []\n",
    "    t1_list = []\n",
    "    t2_list = []\n",
    "    t3_list = []\n",
    "    s_list = []\n",
    "    abs_errors = []\n",
    "    rel_errors = []\n",
    "    for i, (inputs, labels) in enumerate(data):\n",
    "        torch.cuda.empty_cache()\n",
    "        #images = images.cuda()\n",
    "        inputs = inputs.to(device)\n",
    "        list_converted.append(gru_to_onnx(i, inputs, abs_errors,rel_errors, t0_list, t1_list, t2_list, t3_list, s_list))\n",
    "        if i == 10:\n",
    "            break\n",
    "    time_elapsed = time.time() - since\n",
    "    print('Conversion complete in {:.0f}m {:.0f}s,  Loading Pytorch: {}, Pytorch time: {:.4f}, conversion time: {:.4f}, onnx runtime: {:.4f}'.format(\n",
    "        time_elapsed // 60, time_elapsed % 60, np.mean(np.array(t0_list)), np.mean(np.array(t1_list)), np.mean(np.array(t2_list)), np.mean(np.array(t3_list))) )\n",
    "    \n",
    "    #return list_converted\n",
    "    return list_converted, abs_errors, rel_errors, 'Conversion complete in {:.0f}m {:.0f}s'.format(time_elapsed // 60, time_elapsed % 60), np.mean(np.array(t0_list)), np.mean(np.array(t1_list)), np.mean(np.array(t2_list)), np.mean(np.array(t3_list)), np.mean(np.array(s_list))"
   ]
  },
  {
   "cell_type": "code",
   "execution_count": null,
   "metadata": {},
   "outputs": [],
   "source": []
  },
  {
   "cell_type": "code",
   "execution_count": null,
   "metadata": {},
   "outputs": [],
   "source": []
  },
  {
   "cell_type": "code",
   "execution_count": null,
   "metadata": {},
   "outputs": [],
   "source": []
  },
  {
   "cell_type": "code",
   "execution_count": null,
   "metadata": {},
   "outputs": [],
   "source": []
  },
  {
   "cell_type": "code",
   "execution_count": 28,
   "metadata": {},
   "outputs": [],
   "source": [
    "def _lets_convert(data):\n",
    "    since = time.time()\n",
    "    list_converted = []\n",
    "    t0_list = []\n",
    "    t1_list = []\n",
    "    t2_list = []\n",
    "    t3_list = []\n",
    "    s_list = []\n",
    "    abs_errors = []\n",
    "    rel_errors = []\n",
    "    for i, (inputs, labels) in enumerate(data):\n",
    "        torch.cuda.empty_cache()\n",
    "        #images = images.cuda()\n",
    "        inputs = inputs.to(device)\n",
    "        list_converted.append(gru_to_onnx(i, inputs, abs_errors,rel_errors, t0_list, t1_list, t2_list, t3_list, s_list))\n",
    "        if i == 10:\n",
    "            break\n",
    "    time_elapsed = time.time() - since\n",
    "    print('Conversion complete in {:.0f}m {:.0f}s,  Loading Pytorch: {}, Pytorch time: {:.4f}, conversion time: {:.4f}, onnx runtime: {:.4f}'.format(\n",
    "        time_elapsed // 60, time_elapsed % 60, np.mean(np.array(t0_list)), np.mean(np.array(t1_list)), np.mean(np.array(t2_list)), np.mean(np.array(t3_list))) )\n",
    "    \n",
    "    #return list_converted\n",
    "    return list_converted, abs_errors, rel_errors, 'Conversion complete in {:.0f}m {:.0f}s'.format(time_elapsed // 60, time_elapsed % 60), np.mean(np.array(t0_list)), np.mean(np.array(t1_list)), np.mean(np.array(t2_list)), np.mean(np.array(t3_list)), np.mean(np.array(s_list))"
   ]
  },
  {
   "cell_type": "code",
   "execution_count": null,
   "metadata": {},
   "outputs": [],
   "source": [
    "model_name = 'GRU-torch'\n",
    "device = torch.device(\"cuda:0\" if torch.cuda.is_available() else \"cpu\")\n",
    "import pandas as pd \n",
    "for batch_size in [1, 5,10,20,30,40,50,60,70,80,90,100,150,200]:\n",
    "    print(\"################ Batch size: \", batch_size)\n",
    "    # prepare data loaders (combine dataset and sampler)\n",
    "    \n",
    "    # dataloaders\n",
    "    #batch_size = 100\n",
    "\n",
    "    # make sure to SHUFFLE your data\n",
    "    train_loader = DataLoader(train_data, shuffle=True, batch_size=batch_size)\n",
    "    valid_loader = DataLoader(valid_data, shuffle=True, batch_size=batch_size)\n",
    "    \n",
    "    # specify the image classes\n",
    "    classes = ['airplane', 'automobile', 'bird', 'cat', 'deer',\n",
    "           'dog', 'frog', 'horse', 'ship', 'truck']\n",
    "\n",
    "    list_converted, abs_errors, rel_errors, total_time, t0, t1, t2, t3, file_size = _lets_convert(valid_loader)\n",
    "    for i in range(len(abs_errors)):\n",
    "        if i == 0:\n",
    "            abs_array = abs_errors[i]\n",
    "            rel_array = rel_errors[i]\n",
    "        else:\n",
    "            np.append(abs_array, abs_errors[i])\n",
    "            np.append(rel_array, rel_errors[i])\n",
    "            \n",
    "    abs_list = []\n",
    "    rel_list = []\n",
    "    model_list = []\n",
    "    batch_list = []\n",
    "    summary_list = ['Modelsize:{}, Conversion: {}, Loading: {}, t1: {}, conversion time: {}, onnx runtime: {}, onnx filesize: {}'.format(size0, total_time, t0, t1, t2, t3, file_size)]\n",
    "    for i in range(len(abs_array)):\n",
    "        abs_list.append(abs_array[i])\n",
    "        rel = rel_array[i]\n",
    "        if rel == np.inf or rel == -np.inf:\n",
    "            rel = 0.0\n",
    "        rel_list.append(rel)\n",
    "        batch_list.append(batch_size)\n",
    "        model_list.append(model_name)\n",
    "        if i >= len(summary_list):\n",
    "            summary_list.append('')\n",
    "    print(len(summary_list), len(rel_list))\n",
    "    data = pd.DataFrame({'model':model_list,'batch_size': batch_list, 'abs_errors':abs_list, 'rel_errors':rel_list, 'summary': summary_list})\n",
    "    data.to_csv('./data/errors/torch/tf_errors_{}_{}.csv'.format(model_name, batch_size))"
   ]
  }
 ],
 "metadata": {
  "kernelspec": {
   "display_name": "Python 3",
   "language": "python",
   "name": "python3"
  },
  "language_info": {
   "codemirror_mode": {
    "name": "ipython",
    "version": 3
   },
   "file_extension": ".py",
   "mimetype": "text/x-python",
   "name": "python",
   "nbconvert_exporter": "python",
   "pygments_lexer": "ipython3",
   "version": "3.7.4"
  }
 },
 "nbformat": 4,
 "nbformat_minor": 5
}
